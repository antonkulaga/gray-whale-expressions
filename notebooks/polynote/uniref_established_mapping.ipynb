{
  "metadata" : {
    "config" : {
      "dependencies" : {
        "scala" : [
          "com.github.pathikrit:better-files_2.12:3.8.0",
          "group.research.aging:spark-extensions_2.12:0.0.8.2",
          "org.bdgenomics.adam:adam-core-spark2_2.12:0.30.0"
        ]
      },
      "exclusions" : [
      ],
      "repositories" : [
        {
          "maven" : {
            "base" : "http://central.maven.org/maven2/"
          }
        },
        {
          "maven" : {
            "base" : "http://oss.sonatype.org/content/repositories/snapshots"
          }
        },
        {
          "maven" : {
            "base" : "https://dl.bintray.com/comp-bio-aging/main/"
          }
        }
      ],
      "sparkConfig" : {
        "master" : "http://spark:7070[16]"
      }
    }
  },
  "nbformat" : 4,
  "nbformat_minor" : 0,
  "cells" : [
    {
      "cell_type" : "markdown",
      "execution_count" : 0,
      "metadata" : {
        "language" : "text"
      },
      "language" : "text",
      "source" : [
        "# well-annotated species workflow\n",
        "\n",
        "\n",
        "Mapping well-sequenced genomes to uniref90<br>\n",
        "\n",
        "\n"
      ],
      "outputs" : [
      ]
    },
    {
      "cell_type" : "code",
      "execution_count" : 1,
      "metadata" : {
        "cell.metadata.exec_info" : {
          "startTs" : 1583777931015,
          "endTs" : 1583777931522
        },
        "language" : "scala"
      },
      "language" : "scala",
      "source" : [
        "import org.apache.spark._\n",
        "import org.apache.spark.sql.types._\n",
        "import scala.reflect.runtime.universe._\n",
        "import org.apache.spark.storage.StorageLevel\n",
        "import org.apache.spark.rdd._\n",
        "import org.apache.spark.sql._\n",
        "import org.apache.spark.sql.functions._\n",
        "import org.apache.spark.sql.expressions._\n",
        "import group.research.aging.spark.extensions._\n",
        "import group.research.aging.spark.extensions.functions._\n",
        "import kernel.display.html"
      ],
      "outputs" : [
      ]
    },
    {
      "cell_type" : "code",
      "execution_count" : 2,
      "metadata" : {
        "cell.metadata.exec_info" : {
          "startTs" : 1583777931545,
          "endTs" : 1583777932081
        },
        "language" : "scala"
      },
      "language" : "scala",
      "source" : [
        "//setting up pathes\n",
        "val projectPath = \"/data/results/gray-whale/\"\n",
        "val expressionsPath = projectPath + \"Expressions/\"\n",
        "val unirefPath = expressionsPath + \"uniref90/\"\n",
        "val transcriptsPath = expressionsPath + \"Transcripts/\"\n",
        "val codingPath = transcriptsPath + \"coding/\"\n",
        "\n",
        "val comparisonsPath = expressionsPath + \"Comparisons/\"\n",
        "val comparisonsUniref = comparisonsPath + \"uniref90_comparisons/\"\n",
        "val annotationsPath = comparisonsPath + \"annotations/\""
      ],
      "outputs" : [
      ]
    },
    {
      "cell_type" : "code",
      "execution_count" : 3,
      "metadata" : {
        "cell.metadata.exec_info" : {
          "startTs" : 1583777932138,
          "endTs" : 1583777932738
        },
        "language" : "scala"
      },
      "language" : "scala",
      "source" : [
        "def loadTranscripts(subpath: String, prefix: String) = {\n",
        "    val path = if(subpath.startsWith(\"/\")) subpath else transcriptsPath + subpath\n",
        "    spark.readTSV(path, header=true).select($\"Name\".as(\"transcript\"), $\"NumReads\".as(prefix + \"_reads\"), $\"TPM\".as(prefix + \"_TPM\")).cache \n",
        "}"
      ],
      "outputs" : [
      ]
    },
    {
      "cell_type" : "code",
      "execution_count" : 4,
      "metadata" : {
        "cell.metadata.exec_info" : {
          "startTs" : 1583777932741,
          "endTs" : 1583777934265
        },
        "language" : "scala"
      },
      "language" : "scala",
      "source" : [
        "import org.apache.spark.sql.functions.udf\n",
        "def undot(str: String): String = str.substring(0, str.indexOf(\".\"))\n",
        "def uni(df: DataFrame) = df.select(\"uniref90\").distinct\n",
        "val undotFun = udf[String, String](undot)"
      ],
      "outputs" : [
      ]
    },
    {
      "cell_type" : "code",
      "execution_count" : 5,
      "metadata" : {
        "cell.metadata.exec_info" : {
          "startTs" : 1583777934276,
          "endTs" : 1583777934604
        },
        "language" : "scala"
      },
      "language" : "scala",
      "source" : [
        "val mapping_cols = List(\"UniProtKB-AC\",\"UniProtKB-ID\",\"Entrez\",\"RefSeq\",\"GI\",\"PDB\",\"GO\",\n",
        "\"UniRef100\",\"UniRef90\",\"UniRef50\",\"UniParc\",\"PIR\",\n",
        "\"NCBI-taxon\",\"MIM\",\"UniGene\",\"PubMed\",\n",
        "\"EMBL\",\"EMBL-CDS\",\"Ensembl\",\"Ensembl_TRS\",\"Ensembl_PRO\",\"Additional PubMed\")\n"
      ],
      "outputs" : [
      ]
    },
    {
      "cell_type" : "code",
      "execution_count" : 6,
      "metadata" : {
        "cell.metadata.exec_info" : {
          "startTs" : 1583777969874,
          "endTs" : 1583778116018
        },
        "language" : "scala"
      },
      "language" : "scala",
      "source" : [
        "val mapping = spark.readTSV(\"/data/indexes/uniprot/idmapping_selected.tab\").toDF(mapping_cols: _*)\n",
        "mapping.limit(20).show(20, 1000)"
      ],
      "outputs" : [
        {
          "name" : "stdout",
          "text" : [
            "+------------+------------+-------+-----------+-------------------------------+----+----------------------------------+----------------+---------------+---------------+-------------+----+----------+----+-------+------------------+--------+----------+-------+-----------+-----------+-----------------+\n",
            "|UniProtKB-AC|UniProtKB-ID| Entrez|     RefSeq|                             GI| PDB|                                GO|       UniRef100|       UniRef90|       UniRef50|      UniParc| PIR|NCBI-taxon| MIM|UniGene|            PubMed|    EMBL|  EMBL-CDS|Ensembl|Ensembl_TRS|Ensembl_PRO|Additional PubMed|\n",
            "+------------+------------+-------+-----------+-------------------------------+----+----------------------------------+----------------+---------------+---------------+-------------+----+----------+----+-------+------------------+--------+----------+-------+-----------+-----------+-----------------+\n",
            "|      Q6GZX4|  001R_FRG3G|2947773|YP_031579.1|             81941549; 49237298|null|                        GO:0046782|UniRef100_Q6GZX4|UniRef90_Q6GZX4|UniRef50_Q6GZX4|UPI00003B0FD4|null|    654924|null|   null|          15165820|AY548484|AAT09660.1|   null|       null|       null|             null|\n",
            "|      Q6GZX3|  002L_FRG3G|2947774|YP_031580.1|             49237299; 81941548|null|            GO:0033644; GO:0016021|UniRef100_Q6GZX3|UniRef90_Q6GZX3|UniRef50_Q6GZX3|UPI00003B0FD5|null|    654924|null|   null|          15165820|AY548484|AAT09661.1|   null|       null|       null|             null|\n",
            "|      Q197F8|   002R_IIV3|4156251|YP_654574.1|109287880; 123808694; 106073503|null|                              null|UniRef100_Q197F8|UniRef90_Q197F8|UniRef50_Q197F8|UPI0000D83464|null|    345201|null|   null|          16912294|DQ643392|ABF82032.1|   null|       null|       null|             null|\n",
            "|      Q197F7|   003L_IIV3|4156252|YP_654575.1|106073504; 109287881; 123808693|null|                              null|UniRef100_Q197F7|UniRef90_Q197F7|UniRef50_Q197F7|UPI0000D83465|null|    345201|null|   null|          16912294|DQ643392|ABF82033.1|   null|       null|       null|             null|\n",
            "|      Q6GZX2|  003R_FRG3G|2947775|YP_031581.1|             81941547; 49237300|null|                              null|UniRef100_Q6GZX2|UniRef90_Q6GZX2|UniRef50_Q6GZX2|UPI00003B0FD6|null|    654924|null|   null|          15165820|AY548484|AAT09662.1|   null|       null|       null|             null|\n",
            "|      Q6GZX1|  004R_FRG3G|2947776|YP_031582.1|             49237301; 81941546|null|            GO:0033644; GO:0016021|UniRef100_Q6GZX1|UniRef90_Q6GZX1|UniRef50_Q6GZX1|UPI00003B0FD7|null|    654924|null|   null|          15165820|AY548484|AAT09663.1|   null|       null|       null|             null|\n",
            "|      Q197F5|   005L_IIV3|4156254|YP_654577.1|123808691; 109287883; 106073506|null|                              null|UniRef100_Q197F5|UniRef90_Q197F5|UniRef50_Q197F5|UPI0000D83467|null|    345201|null|   null|          16912294|DQ643392|ABF82035.1|   null|       null|       null|             null|\n",
            "|      Q6GZX0|  005R_FRG3G|2947777|YP_031583.1|             49237302; 81941545|null|                              null|UniRef100_Q6GZX0|UniRef90_Q6GZX0|UniRef50_Q6GZX0|UPI00003B0FD8|null|    654924|null|   null|          15165820|AY548484|AAT09664.1|   null|       null|       null|             null|\n",
            "|      Q91G88|   006L_IIV6|1733056|NP_149469.1|   82012333; 15078718; 15042163|null|                              null|UniRef100_Q91G88|UniRef90_Q91G88|UniRef50_Q91FL1|UPI00000F3D32|null|    176652|null|   null|11448171; 17239238|AF303741|AAK81943.1|   null|       null|       null|             null|\n",
            "|      Q6GZW9|  006R_FRG3G|2947778|YP_031584.1|             81941544; 49237303|null|                              null|UniRef100_Q6GZW9|UniRef90_Q6GZW9|UniRef50_Q6GZW9|UPI00003B0FD9|null|    654924|null|   null|          15165820|AY548484|AAT09665.1|   null|       null|       null|             null|\n",
            "|      Q6GZW8|  007R_FRG3G|2947779|YP_031585.1|             49237304; 81941543|null|                              null|UniRef100_Q6GZW8|UniRef90_Q6GZW8|UniRef50_Q6GZW8|UPI00003B0FDA|null|    654924|null|   null|          15165820|AY548484|AAT09666.1|   null|       null|       null|             null|\n",
            "|      Q197F3|   007R_IIV3|4156256|YP_654579.1|106073508; 109287885; 123808689|null|                              null|UniRef100_Q197F3|UniRef90_Q197F3|UniRef50_Q197F3|UPI0000D83469|null|    345201|null|   null|          16912294|DQ643392|ABF82037.1|   null|       null|       null|             null|\n",
            "|      Q197F2|   008L_IIV3|4156257|YP_654580.1|106073509; 109287886; 123808688|null|                              null|UniRef100_Q197F2|UniRef90_Q197F2|UniRef50_Q197F2|UPI0000D8346A|null|    345201|null|   null|          16912294|DQ643392|ABF82038.1|   null|       null|       null|             null|\n",
            "|      Q6GZW6|  009L_FRG3G|2947781|YP_031587.1|             49237306; 82054175|null|GO:0005524; GO:0003677; GO:0004386|UniRef100_Q6GZW6|UniRef90_Q6GZW6|UniRef50_Q6GZW6|UPI00003B0FDC|null|    654924|null|   null|          15165820|AY548484|AAT09668.1|   null|       null|       null|             null|\n",
            "|      Q91G85|   009R_IIV6|1733381|NP_149472.1|   82012330; 15078722; 15042167|null|                              null|UniRef100_Q91G85|UniRef90_Q91G85|UniRef50_Q91G85|UPI00000EEE80|null|    176652|null|   null|11448171; 17239238|AF303741|AAK81947.1|   null|       null|       null|             null|\n",
            "|      Q6GZW5|  010R_FRG3G|2947782|YP_031588.1|             49237307; 81941542|null|            GO:0033644; GO:0016021|UniRef100_Q6GZW5|UniRef90_Q6GZW5|UniRef50_Q6GZW5|UPI00003B0FDD|null|    654924|null|   null|          15165820|AY548484|AAT09669.1|   null|       null|       null|             null|\n",
            "|      Q197E9|   011L_IIV3|4156260|YP_654583.1|123808687; 109287889; 106073512|null|                              null|UniRef100_Q197E9|UniRef90_Q197E9|UniRef50_Q197E9|UPI0000D8346D|null|    345201|null|   null|          16912294|DQ643392|ABF82041.1|   null|       null|       null|             null|\n",
            "|      Q6GZW4|  011R_FRG3G|2947783|YP_031589.1|             49237308; 81941541|null|            GO:0033644; GO:0016021|UniRef100_Q6GZW4|UniRef90_Q6GZW4|UniRef50_Q6GZW4|UPI00003B0FDE|null|    654924|null|   null|          15165820|AY548484|AAT09670.1|   null|       null|       null|             null|\n",
            "|      Q6GZW3|  012L_FRG3G|2947784|YP_031590.1|             81941540; 49237309|null|                              null|UniRef100_Q6GZW3|UniRef90_Q6GZW3|UniRef50_Q6GZW3|UPI00003B0FDF|null|    654924|null|   null|          15165820|AY548484|AAT09671.1|   null|       null|       null|             null|\n",
            "|      Q197E7|   013L_IIV3|4156262|YP_654585.1|106073514; 109287891; 123808685|null|            GO:0033644; GO:0016021|UniRef100_Q197E7|UniRef90_Q197E7|UniRef50_Q197E7|UPI0000D8346F|null|    345201|null|   null|          16912294|DQ643392|ABF82043.1|   null|       null|       null|             null|\n",
            "+------------+------------+-------+-----------+-------------------------------+----+----------------------------------+----------------+---------------+---------------+-------------+----+----------+----+-------+------------------+--------+----------+-------+-----------+-----------+-----------------+\n",
            "\n"
          ],
          "output_type" : "stream"
        }
      ]
    },
    {
      "cell_type" : "code",
      "execution_count" : 7,
      "metadata" : {
        "cell.metadata.exec_info" : {
          "startTs" : 1583779124893,
          "endTs" : 1583779125125
        },
        "language" : "scala"
      },
      "language" : "scala",
      "source" : [
        "\n",
        "def processMapping(df: DataFrame) = {\n",
        "    df.select(\"Uniref90\", \"Ensembl_TRS\").as[(String, String)].where($\"Ensembl_TRS\".isNotNull).flatMap{\n",
        "        case (u, ens) => ens.split(\";\").map(e=>u->e)\n",
        "    }.toDF(\"Uniref90\",\"Ensembl_TRS\")\n",
        "}\n"
      ],
      "outputs" : [
      ]
    },
    {
      "cell_type" : "code",
      "execution_count" : 8,
      "metadata" : {
        "cell.metadata.exec_info" : {
          "startTs" : 1583779125715,
          "endTs" : 1583779125854
        },
        "language" : "scala"
      },
      "language" : "scala",
      "source" : [
        "def map_species(name: String, liver: String, kidney: String, mapping: DataFrame) = {\n",
        "    val liver_tr = loadTranscripts(liver, s\"${name}_liver\")\n",
        "    val kidney_tr = loadTranscripts(kidney, s\"${name}_kidney\")\n",
        "    val liver_kidney_tr = liver_tr.join(kidney_tr, \"transcript\").withColumn(\"Ensembl_TRS\", undotFun($\"transcript\"))\n",
        "    val mp = mapping.select(\"Uniref90\",\"Ensembl_TRS\").distinct\n",
        "    val col_liver = new ColumnName(s\"${name}_liver_TPM\")\n",
        "    val col_kidney = new ColumnName(s\"${name}_kidney_TPM\")\n",
        "    liver_kidney_tr\n",
        "        .join(mp, Seq(\"Ensembl_TRS\")).select($\"Uniref90\",col_liver,col_kidney)\n",
        "        .groupBy(\"Uniref90\").agg(sum(col_liver).as(s\"${name}_liver\"), sum(col_kidney).as(s\"${name}_kidney\"))\n",
        "        .withColumnRenamed(\"Uniref90\", \"uniref90\")\n",
        "        .orderBy(new ColumnName(s\"${name}_liver\").desc_nulls_last)\n",
        "}\n"
      ],
      "outputs" : [
      ]
    },
    {
      "cell_type" : "markdown",
      "execution_count" : 9,
      "metadata" : {
        "language" : "text"
      },
      "language" : "text",
      "source" : [
        "Mapping animals to uniref90<br>"
      ],
      "outputs" : [
      ]
    },
    {
      "cell_type" : "code",
      "execution_count" : 10,
      "metadata" : {
        "cell.metadata.exec_info" : {
          "startTs" : 1583779126924,
          "endTs" : 1583779127173
        },
        "language" : "scala"
      },
      "language" : "scala",
      "source" : [
        "val cow_mapping = processMapping(mapping.where($\"NCBI-taxon\" === \"9913\")).cache\n",
        "cow_mapping.limit(20).show(20)"
      ],
      "outputs" : [
        {
          "name" : "stdout",
          "text" : [
            "+-----------------+-------------------+\n",
            "|         Uniref90|        Ensembl_TRS|\n",
            "+-----------------+-------------------+\n",
            "|  UniRef90_P62258| ENSBTAT00000007442|\n",
            "|  UniRef90_Q04917| ENSBTAT00000044059|\n",
            "|UniRef90_P31947-2| ENSBTAT00000012154|\n",
            "|  UniRef90_P27348| ENSBTAT00000032851|\n",
            "|  UniRef90_P63104| ENSBTAT00000000289|\n",
            "|  UniRef90_Q16537| ENSBTAT00000026361|\n",
            "|  UniRef90_Q00005| ENSBTAT00000002427|\n",
            "|  UniRef90_P14893| ENSBTAT00000087114|\n",
            "|  UniRef90_Q0V8K7| ENSBTAT00000077799|\n",
            "|  UniRef90_P31937| ENSBTAT00000001374|\n",
            "|  UniRef90_Q9N179| ENSBTAT00000008760|\n",
            "|  UniRef90_Q0P5A7| ENSBTAT00000039828|\n",
            "|  UniRef90_O46411| ENSBTAT00000068138|\n",
            "|  UniRef90_P12725| ENSBTAT00000004927|\n",
            "|  UniRef90_P12725| ENSBTAT00000072441|\n",
            "|  UniRef90_Q2KJF1| ENSBTAT00000012837|\n",
            "|  UniRef90_P28800| ENSBTAT00000027793|\n",
            "|  UniRef90_P28190| ENSBTAT00000015230|\n",
            "|  UniRef90_P28190| ENSBTAT00000072690|\n",
            "|  UniRef90_Q1LZD0| ENSBTAT00000009974|\n",
            "+-----------------+-------------------+\n",
            "\n"
          ],
          "output_type" : "stream"
        }
      ]
    },
    {
      "cell_type" : "code",
      "execution_count" : 11,
      "metadata" : {
        "cell.metadata.exec_info" : {
          "startTs" : 1583779128888,
          "endTs" : 1583779129511
        },
        "language" : "scala"
      },
      "language" : "scala",
      "source" : [
        "val cow_liver_tr = loadTranscripts(\"raw/cow/liver/GSM1020724/quant.sf\", \"cow_liver\")\n",
        "val cow_kidney_tr = loadTranscripts(\"raw/cow/kidney/GSM1020723/quant.sf\", \"cow_kidney\")\n",
        "(cow_liver_tr.count, cow_kidney_tr.count)"
      ],
      "outputs" : [
        {
          "execution_count" : 11,
          "data" : {
            "text/plain" : [
              "(22904,22904)"
            ]
          },
          "metadata" : {
            "name" : "Out",
            "type" : "Tuple2[Long, Long]"
          },
          "output_type" : "execute_result"
        }
      ]
    },
    {
      "cell_type" : "code",
      "execution_count" : 12,
      "metadata" : {
        "cell.metadata.exec_info" : {
          "startTs" : 1583779130416,
          "endTs" : 1583779130995
        },
        "language" : "scala"
      },
      "language" : "scala",
      "source" : [
        "val cow_trans = cow_liver_tr.withColumn(\"Ensembl_TRS\", undotFun($\"transcript\")).select($\"Ensembl_TRS\").join(cow_mapping, Seq(\"Ensembl_TRS\")).select(\"Ensembl_TRS\", \"Uniref90\").distinct\n",
        "cow_trans.limit(20).show(10,1000)"
      ],
      "outputs" : [
        {
          "name" : "stdout",
          "text" : [
            "+------------------+-------------------+\n",
            "|       Ensembl_TRS|           Uniref90|\n",
            "+------------------+-------------------+\n",
            "|ENSBTAT00000025670|    UniRef90_Q1LZG6|\n",
            "|ENSBTAT00000009295|    UniRef90_F1N0H5|\n",
            "|ENSBTAT00000027120|    UniRef90_F1MP34|\n",
            "|ENSBTAT00000008078|    UniRef90_Q0VCP2|\n",
            "|ENSBTAT00000053481|    UniRef90_A6QL99|\n",
            "|ENSBTAT00000021390|    UniRef90_A5PJW9|\n",
            "|ENSBTAT00000001824|UniRef90_A0A452FIE5|\n",
            "|ENSBTAT00000048703|    UniRef90_F1N1Z4|\n",
            "|ENSBTAT00000061407|UniRef90_A0A3Q1MUR8|\n",
            "|ENSBTAT00000025465|    UniRef90_A0JNF3|\n",
            "+------------------+-------------------+\n",
            "only showing top 10 rows\n",
            "\n"
          ],
          "output_type" : "stream"
        }
      ]
    },
    {
      "cell_type" : "code",
      "execution_count" : 13,
      "metadata" : {
        "cell.metadata.exec_info" : {
          "startTs" : 1583779132272,
          "endTs" : 1583779133466
        },
        "language" : "scala"
      },
      "language" : "scala",
      "source" : [
        "val cow_uni = uni(cow_trans.withColumnRenamed(\"Uniref90\", \"uniref90\")).cache\n",
        "cow_uni.limit(10).show(10,1000)"
      ],
      "outputs" : [
        {
          "name" : "stdout",
          "text" : [
            "+---------------+\n",
            "|       uniref90|\n",
            "+---------------+\n",
            "|UniRef90_A7MB57|\n",
            "|UniRef90_Q14872|\n",
            "|UniRef90_F1MQK6|\n",
            "|UniRef90_Q1RMI9|\n",
            "|UniRef90_F1MET4|\n",
            "|UniRef90_G3N1M0|\n",
            "|UniRef90_O15379|\n",
            "|UniRef90_O75899|\n",
            "|UniRef90_F1MZB7|\n",
            "|UniRef90_A6QNR9|\n",
            "+---------------+\n",
            "\n"
          ],
          "output_type" : "stream"
        }
      ]
    },
    {
      "cell_type" : "code",
      "execution_count" : 14,
      "metadata" : {
        "cell.metadata.exec_info" : {
          "startTs" : 1583779150276,
          "endTs" : 1583779153685
        },
        "language" : "scala"
      },
      "language" : "scala",
      "source" : [
        "val cow_uniref = map_species(\"cow\", \"raw/cow/liver/GSM1020724/quant.sf\", \"raw/cow/kidney/GSM1020723/quant.sf\", cow_mapping)\n",
        "println(cow_uniref.count())\n",
        "cow_uniref.show(10,1000)"
      ],
      "outputs" : [
        {
          "name" : "stdout",
          "text" : [
            "18909\n",
            "+---------------+------------+------------+\n",
            "|       uniref90|   cow_liver|  cow_kidney|\n",
            "+---------------+------------+------------+\n",
            "|UniRef90_P02769|39122.608508|    5.549983|\n",
            "|UniRef90_P81644|23846.294138|    4.429746|\n",
            "|UniRef90_P00396|23023.581018|51112.719511|\n",
            "|UniRef90_P03898|17905.614012| 28120.59444|\n",
            "|UniRef90_P00415|16212.689475|31884.322025|\n",
            "|UniRef90_P00847|14432.628554|27960.731306|\n",
            "|UniRef90_F6QND5|12790.230203|    5.847987|\n",
            "|UniRef90_O46375|12706.865718|    24.48667|\n",
            "|UniRef90_P19035|11847.007201|  612.123366|\n",
            "|UniRef90_F1MMK9|10769.811066|   10.514576|\n",
            "+---------------+------------+------------+\n",
            "only showing top 10 rows\n",
            "\n"
          ],
          "output_type" : "stream"
        }
      ]
    },
    {
      "cell_type" : "code",
      "execution_count" : 15,
      "metadata" : {
        "cell.metadata.exec_info" : {
          "startTs" : 1583779172461,
          "endTs" : 1583779175099
        },
        "language" : "scala"
      },
      "language" : "scala",
      "source" : [
        "cow_uniref.writeTSV(\"/data/results/gray-whale/Expressions/uniref90/established/cow_uniref90.tsv\", true)"
      ],
      "outputs" : [
        {
          "name" : "stdout",
          "text" : [
            "parts of /data/results/gray-whale/Expressions/uniref90/established/cow_uniref90.tsv merged!\n"
          ],
          "output_type" : "stream"
        },
        {
          "execution_count" : 15,
          "data" : {
            "text/plain" : [
              "/data/results/gray-whale/Expressions/uniref90/established/cow_uniref90.tsv"
            ]
          },
          "metadata" : {
            "name" : "Out",
            "type" : "String"
          },
          "output_type" : "execute_result"
        }
      ]
    },
    {
      "cell_type" : "code",
      "execution_count" : 16,
      "metadata" : {
        "cell.metadata.exec_info" : {
          "startTs" : 1583779184833,
          "endTs" : 1583779187798
        },
        "language" : "scala"
      },
      "language" : "scala",
      "source" : [
        "val mapping_root = \"/data/indexes/uniprot/species/\"\n",
        "val human_mapping = processMapping(spark.readTSV(mapping_root  + \"HUMAN_9606_idmapping_selected.tab\").toDF(mapping_cols:_*))\n",
        "human_mapping.limit(20).show(20) ///data/indexes/uniprot/species"
      ],
      "outputs" : [
        {
          "name" : "stdout",
          "text" : [
            "+---------------+----------------+\n",
            "|       Uniref90|     Ensembl_TRS|\n",
            "+---------------+----------------+\n",
            "|UniRef90_P31946| ENST00000353703|\n",
            "|UniRef90_P31946| ENST00000372839|\n",
            "|UniRef90_P62258| ENST00000264335|\n",
            "|UniRef90_P62258| ENST00000571732|\n",
            "|UniRef90_P62258| ENST00000616643|\n",
            "|UniRef90_P62258| ENST00000627231|\n",
            "|UniRef90_Q04917| ENST00000248975|\n",
            "|UniRef90_P61981| ENST00000307630|\n",
            "|UniRef90_P31947| ENST00000339276|\n",
            "|UniRef90_P27348| ENST00000238081|\n",
            "|UniRef90_P27348| ENST00000381844|\n",
            "|UniRef90_P63104| ENST00000353245|\n",
            "|UniRef90_P63104| ENST00000395951|\n",
            "|UniRef90_P63104| ENST00000395953|\n",
            "|UniRef90_P63104| ENST00000395956|\n",
            "|UniRef90_P63104| ENST00000395957|\n",
            "|UniRef90_P63104| ENST00000395958|\n",
            "|UniRef90_P63104| ENST00000419477|\n",
            "|UniRef90_P63104| ENST00000457309|\n",
            "|UniRef90_P63104| ENST00000522542|\n",
            "+---------------+----------------+\n",
            "\n"
          ],
          "output_type" : "stream"
        }
      ]
    },
    {
      "cell_type" : "code",
      "execution_count" : 17,
      "metadata" : {
        "cell.metadata.exec_info" : {
          "startTs" : 1583779201225,
          "endTs" : 1583779201812
        },
        "language" : "scala"
      },
      "language" : "scala",
      "source" : [
        "val mouse_mapping = processMapping(spark.readTSV(mapping_root + \"MOUSE_10090_idmapping_selected.tab\").toDF(mapping_cols:_*))\n",
        "mouse_mapping.count()"
      ],
      "outputs" : [
        {
          "execution_count" : 17,
          "data" : {
            "text/plain" : [
              "67401"
            ]
          },
          "metadata" : {
            "name" : "Out",
            "type" : "Long"
          },
          "output_type" : "execute_result"
        }
      ]
    },
    {
      "cell_type" : "code",
      "execution_count" : 18,
      "metadata" : {
        "cell.metadata.exec_info" : {
          "startTs" : 1583779594876,
          "endTs" : 1583779612697
        },
        "language" : "scala"
      },
      "language" : "scala",
      "source" : [
        "val human_uniref = map_species(\"human\", \"raw/human/liver/GSM1698568/quant.sf\", \"raw/human/kidney/GSM1698570/quant.sf\", human_mapping)\n",
        "println(human_uniref.count())\n",
        "human_uniref.show(10,1000)"
      ],
      "outputs" : [
        {
          "name" : "stdout",
          "text" : [
            "50878\n",
            "+-----------------+------------------+------------------+\n",
            "|         uniref90|       human_liver|      human_kidney|\n",
            "+-----------------+------------------+------------------+\n",
            "|  UniRef90_P02768|       8623.782791|         12.144448|\n",
            "|  UniRef90_P02652|       3532.126448|               0.0|\n",
            "|  UniRef90_P02763|       1843.415159|               0.0|\n",
            "|  UniRef90_P00414|       1689.593287|       3711.708944|\n",
            "|UniRef90_P02768-2|       1687.159951|         12.765588|\n",
            "|  UniRef90_P00395|       1636.603468|       6318.267945|\n",
            "|  UniRef90_P02656|1486.8948070000001|          2.610827|\n",
            "|  UniRef90_P02654|       1437.849913|0.5099290000000001|\n",
            "|  UniRef90_P00325|       1370.567789| 8.642149999999999|\n",
            "|  UniRef90_P00738|       1144.102532|               0.0|\n",
            "+-----------------+------------------+------------------+\n",
            "only showing top 10 rows\n",
            "\n"
          ],
          "output_type" : "stream"
        }
      ]
    },
    {
      "cell_type" : "code",
      "execution_count" : 19,
      "metadata" : {
        "cell.metadata.exec_info" : {
          "startTs" : 1583779630498,
          "endTs" : 1583779639520
        },
        "language" : "scala"
      },
      "language" : "scala",
      "source" : [
        "human_uniref.writeTSV(\"/data/results/gray-whale/Expressions/uniref90/established/human_uniref90.tsv\", true)"
      ],
      "outputs" : [
        {
          "name" : "stdout",
          "text" : [
            "parts of /data/results/gray-whale/Expressions/uniref90/established/human_uniref90.tsv merged!\n"
          ],
          "output_type" : "stream"
        },
        {
          "execution_count" : 19,
          "data" : {
            "text/plain" : [
              "/data/results/gray-whale/Expressions/uniref90/established/human_uniref90.tsv"
            ]
          },
          "metadata" : {
            "name" : "Out",
            "type" : "String"
          },
          "output_type" : "execute_result"
        }
      ]
    },
    {
      "cell_type" : "code",
      "execution_count" : 20,
      "metadata" : {
        "cell.metadata.exec_info" : {
          "startTs" : 1583779701912,
          "endTs" : 1583779705187
        },
        "language" : "scala"
      },
      "language" : "scala",
      "source" : [
        "val mouse_uniref = map_species(\"mouse\", \"raw/mouse/liver/GSM1400574/quant.sf\", \"raw/mouse/kidney/GSM2195188/quant.sf\", mouse_mapping)\n",
        "mouse_uniref.show(10,1000)"
      ],
      "outputs" : [
        {
          "name" : "stdout",
          "text" : [
            "+---------------+------------------+------------------+\n",
            "|       uniref90|       mouse_liver|      mouse_kidney|\n",
            "+---------------+------------------+------------------+\n",
            "|UniRef90_P11588| 69975.97204299999|          0.653462|\n",
            "|UniRef90_P07724|      59405.218009|          4.655618|\n",
            "|UniRef90_P22599|23652.941147999998|        272.303171|\n",
            "|UniRef90_P03930|      17481.818076|       9248.265999|\n",
            "|UniRef90_P00848|      16692.802391|      20312.635609|\n",
            "|UniRef90_Q00623|       15715.55198|1.4392260000000001|\n",
            "|UniRef90_P00396|      14679.308736|      27944.465293|\n",
            "|UniRef90_P00416|      14490.795055|      12610.242599|\n",
            "|UniRef90_P00406|      14251.757045|        3798.72075|\n",
            "|UniRef90_P02692|       14211.28666|          2.884441|\n",
            "+---------------+------------------+------------------+\n",
            "only showing top 10 rows\n",
            "\n"
          ],
          "output_type" : "stream"
        }
      ]
    },
    {
      "cell_type" : "code",
      "execution_count" : 21,
      "metadata" : {
        "cell.metadata.exec_info" : {
          "startTs" : 1583779723772,
          "endTs" : 1583779728568
        },
        "language" : "scala"
      },
      "language" : "scala",
      "source" : [
        "mouse_uniref.writeTSV(\"/data/results/gray-whale/Expressions/uniref90/established/mouse_uniref90.tsv\", true)"
      ],
      "outputs" : [
        {
          "name" : "stdout",
          "text" : [
            "parts of /data/results/gray-whale/Expressions/uniref90/established/mouse_uniref90.tsv merged!\n"
          ],
          "output_type" : "stream"
        },
        {
          "execution_count" : 21,
          "data" : {
            "text/plain" : [
              "/data/results/gray-whale/Expressions/uniref90/established/mouse_uniref90.tsv"
            ]
          },
          "metadata" : {
            "name" : "Out",
            "type" : "String"
          },
          "output_type" : "execute_result"
        }
      ]
    },
    {
      "cell_type" : "code",
      "execution_count" : 22,
      "metadata" : {
        "language" : "scala"
      },
      "language" : "scala",
      "source" : [
      ],
      "outputs" : [
      ]
    }
  ]
}