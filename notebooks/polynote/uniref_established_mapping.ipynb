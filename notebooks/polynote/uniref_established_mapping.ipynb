{
  "metadata" : {
    "config" : {
      "dependencies" : {
        "scala" : [
          "com.github.pathikrit:better-files_2.12:3.8.0",
          "group.research.aging:spark-extensions_2.12:0.0.8.2",
          "org.bdgenomics.adam:adam-core-spark2_2.12:0.30.0"
        ]
      },
      "exclusions" : [
      ],
      "repositories" : [
        {
          "maven" : {
            "base" : "http://central.maven.org/maven2/"
          }
        },
        {
          "maven" : {
            "base" : "http://oss.sonatype.org/content/repositories/snapshots"
          }
        },
        {
          "maven" : {
            "base" : "https://dl.bintray.com/comp-bio-aging/main/"
          }
        }
      ],
      "sparkConfig" : {
        "master" : "http://spark:7070[16]"
      }
    }
  },
  "nbformat" : 4,
  "nbformat_minor" : 0,
  "cells" : [
    {
      "cell_type" : "markdown",
      "execution_count" : 0,
      "metadata" : {
        "language" : "text"
      },
      "language" : "text",
      "source" : [
        "# well annotated species workflow\n",
        "\n",
        "This is a text cell. Start editing!"
      ],
      "outputs" : [
      ]
    },
    {
      "cell_type" : "code",
      "execution_count" : 3,
      "metadata" : {
        "cell.metadata.exec_info" : {
          "startTs" : 1582589562417,
          "endTs" : 1582589563559
        },
        "language" : "scala"
      },
      "language" : "scala",
      "source" : [
        "import org.apache.spark._\n",
        "import org.apache.spark.sql.types._\n",
        "import scala.reflect.runtime.universe._\n",
        "import org.apache.spark.storage.StorageLevel\n",
        "import org.apache.spark.rdd._\n",
        "import org.apache.spark.sql._\n",
        "import org.apache.spark.sql.functions._\n",
        "import org.apache.spark.sql.expressions._\n",
        "import group.research.aging.spark.extensions._\n",
        "import group.research.aging.spark.extensions.functions._\n",
        "import kernel.display.html"
      ],
      "outputs" : [
      ]
    },
    {
      "cell_type" : "code",
      "execution_count" : 6,
      "metadata" : {
        "cell.metadata.exec_info" : {
          "startTs" : 1582589581980,
          "endTs" : 1582589586888
        },
        "language" : "scala"
      },
      "language" : "scala",
      "source" : [
        "val whalePath = \"/data/results/gray-whale/\"\n",
        "val expressionsPath = whalePath + \"Expressions/\"\n",
        "val unirefPath = expressionsPath + \"uniref90/\"\n",
        "val transcriptsPath = expressionsPath + \"Transcripts/\"\n",
        "val codingPath = transcriptsPath + \"coding/\"\n",
        "\n",
        "val comparisonsPath = expressionsPath + \"Comparisons/\"\n",
        "val comparisonsUniref = comparisonsPath + \"uniref90_comparisons/\"\n",
        "val annotationsPath = comparisonsPath + \"annotations/\""
      ],
      "outputs" : [
      ]
    },
    {
      "cell_type" : "code",
      "execution_count" : 4,
      "metadata" : {
        "cell.metadata.exec_info" : {
          "startTs" : 1582589586898,
          "endTs" : 1582589591214
        },
        "language" : "scala"
      },
      "language" : "scala",
      "source" : [
        "def loadTranscripts(subpath: String, prefix: String) = {\n",
        "    val path = if(subpath.startsWith(\"/\")) subpath else transcriptsPath + subpath\n",
        "    spark.readTSV(path, header=true).select($\"Name\".as(\"transcript\"), $\"NumReads\".as(prefix + \"_reads\"), $\"TPM\".as(prefix + \"_TPM\")).cache \n",
        "}"
      ],
      "outputs" : [
      ]
    },
    {
      "cell_type" : "code",
      "execution_count" : 9,
      "metadata" : {
        "cell.metadata.exec_info" : {
          "startTs" : 1582589916025,
          "endTs" : 1582589917142
        },
        "language" : "scala"
      },
      "language" : "scala",
      "source" : [
        "import org.apache.spark.sql.functions.udf\n",
        "def undot(str: String): String = str.substring(0, str.indexOf(\".\"))\n",
        "def uni(df: DataFrame) = df.select(\"uniref90\").distinct\n",
        "val undotFun = udf[String, String](undot)"
      ],
      "outputs" : [
      ]
    },
    {
      "cell_type" : "code",
      "execution_count" : 5,
      "metadata" : {
        "cell.metadata.exec_info" : {
          "startTs" : 1582589595979,
          "endTs" : 1582589834224
        },
        "language" : "scala"
      },
      "language" : "scala",
      "source" : [
        "val mapping = spark.readTSV(\"/data/indexes/uniprot/idmapping_selected.tab\").toDF(\"UniProtKB-AC\",\"UniProtKB-ID\",\"Entrez\",\"RefSeq\",\"GI\",\"PDB\",\"GO\",\n",
        "\"UniRef100\",\"UniRef90\",\"UniRef50\",\"UniParc\",\"PIR\",\n",
        "\"NCBI-taxon\",\"MIM\",\"UniGene\",\"PubMed\",\n",
        "\"EMBL\",\"EMBL-CDS\",\"Ensembl\",\"Ensembl_TRS\",\"Ensembl_PRO\",\"Additional PubMed\"\n",
        "    )\n",
        "mapping.limit(20).show(20, 1000)"
      ],
      "outputs" : [
        {
          "name" : "stdout",
          "text" : [
            "+------------+------------+-------+-----------+-------------------------------+----+----------------------------------+----------------+---------------+---------------+-------------+----+----------+----+-------+------------------+--------+----------+-------+-----------+-----------+-----------------+\n",
            "|UniProtKB-AC|UniProtKB-ID| Entrez|     RefSeq|                             GI| PDB|                                GO|       UniRef100|       UniRef90|       UniRef50|      UniParc| PIR|NCBI-taxon| MIM|UniGene|            PubMed|    EMBL|  EMBL-CDS|Ensembl|Ensembl_TRS|Ensembl_PRO|Additional PubMed|\n",
            "+------------+------------+-------+-----------+-------------------------------+----+----------------------------------+----------------+---------------+---------------+-------------+----+----------+----+-------+------------------+--------+----------+-------+-----------+-----------+-----------------+\n",
            "|      Q6GZX4|  001R_FRG3G|2947773|YP_031579.1|             81941549; 49237298|null|                        GO:0046782|UniRef100_Q6GZX4|UniRef90_Q6GZX4|UniRef50_Q6GZX4|UPI00003B0FD4|null|    654924|null|   null|          15165820|AY548484|AAT09660.1|   null|       null|       null|             null|\n",
            "|      Q6GZX3|  002L_FRG3G|2947774|YP_031580.1|             49237299; 81941548|null|            GO:0033644; GO:0016021|UniRef100_Q6GZX3|UniRef90_Q6GZX3|UniRef50_Q6GZX3|UPI00003B0FD5|null|    654924|null|   null|          15165820|AY548484|AAT09661.1|   null|       null|       null|             null|\n",
            "|      Q197F8|   002R_IIV3|4156251|YP_654574.1|109287880; 123808694; 106073503|null|                              null|UniRef100_Q197F8|UniRef90_Q197F8|UniRef50_Q197F8|UPI0000D83464|null|    345201|null|   null|          16912294|DQ643392|ABF82032.1|   null|       null|       null|             null|\n",
            "|      Q197F7|   003L_IIV3|4156252|YP_654575.1|106073504; 109287881; 123808693|null|                              null|UniRef100_Q197F7|UniRef90_Q197F7|UniRef50_Q197F7|UPI0000D83465|null|    345201|null|   null|          16912294|DQ643392|ABF82033.1|   null|       null|       null|             null|\n",
            "|      Q6GZX2|  003R_FRG3G|2947775|YP_031581.1|             81941547; 49237300|null|                              null|UniRef100_Q6GZX2|UniRef90_Q6GZX2|UniRef50_Q6GZX2|UPI00003B0FD6|null|    654924|null|   null|          15165820|AY548484|AAT09662.1|   null|       null|       null|             null|\n",
            "|      Q6GZX1|  004R_FRG3G|2947776|YP_031582.1|             49237301; 81941546|null|            GO:0033644; GO:0016021|UniRef100_Q6GZX1|UniRef90_Q6GZX1|UniRef50_Q6GZX1|UPI00003B0FD7|null|    654924|null|   null|          15165820|AY548484|AAT09663.1|   null|       null|       null|             null|\n",
            "|      Q197F5|   005L_IIV3|4156254|YP_654577.1|123808691; 109287883; 106073506|null|                              null|UniRef100_Q197F5|UniRef90_Q197F5|UniRef50_Q197F5|UPI0000D83467|null|    345201|null|   null|          16912294|DQ643392|ABF82035.1|   null|       null|       null|             null|\n",
            "|      Q6GZX0|  005R_FRG3G|2947777|YP_031583.1|             49237302; 81941545|null|                              null|UniRef100_Q6GZX0|UniRef90_Q6GZX0|UniRef50_Q6GZX0|UPI00003B0FD8|null|    654924|null|   null|          15165820|AY548484|AAT09664.1|   null|       null|       null|             null|\n",
            "|      Q91G88|   006L_IIV6|1733056|NP_149469.1|   82012333; 15078718; 15042163|null|                              null|UniRef100_Q91G88|UniRef90_Q91G88|UniRef50_Q91FL1|UPI00000F3D32|null|    176652|null|   null|11448171; 17239238|AF303741|AAK81943.1|   null|       null|       null|             null|\n",
            "|      Q6GZW9|  006R_FRG3G|2947778|YP_031584.1|             81941544; 49237303|null|                              null|UniRef100_Q6GZW9|UniRef90_Q6GZW9|UniRef50_Q6GZW9|UPI00003B0FD9|null|    654924|null|   null|          15165820|AY548484|AAT09665.1|   null|       null|       null|             null|\n",
            "|      Q6GZW8|  007R_FRG3G|2947779|YP_031585.1|             49237304; 81941543|null|                              null|UniRef100_Q6GZW8|UniRef90_Q6GZW8|UniRef50_Q6GZW8|UPI00003B0FDA|null|    654924|null|   null|          15165820|AY548484|AAT09666.1|   null|       null|       null|             null|\n",
            "|      Q197F3|   007R_IIV3|4156256|YP_654579.1|106073508; 109287885; 123808689|null|                              null|UniRef100_Q197F3|UniRef90_Q197F3|UniRef50_Q197F3|UPI0000D83469|null|    345201|null|   null|          16912294|DQ643392|ABF82037.1|   null|       null|       null|             null|\n",
            "|      Q197F2|   008L_IIV3|4156257|YP_654580.1|106073509; 109287886; 123808688|null|                              null|UniRef100_Q197F2|UniRef90_Q197F2|UniRef50_Q197F2|UPI0000D8346A|null|    345201|null|   null|          16912294|DQ643392|ABF82038.1|   null|       null|       null|             null|\n",
            "|      Q6GZW6|  009L_FRG3G|2947781|YP_031587.1|             49237306; 82054175|null|GO:0005524; GO:0003677; GO:0004386|UniRef100_Q6GZW6|UniRef90_Q6GZW6|UniRef50_Q6GZW6|UPI00003B0FDC|null|    654924|null|   null|          15165820|AY548484|AAT09668.1|   null|       null|       null|             null|\n",
            "|      Q91G85|   009R_IIV6|1733381|NP_149472.1|   82012330; 15078722; 15042167|null|                              null|UniRef100_Q91G85|UniRef90_Q91G85|UniRef50_Q91G85|UPI00000EEE80|null|    176652|null|   null|11448171; 17239238|AF303741|AAK81947.1|   null|       null|       null|             null|\n",
            "|      Q6GZW5|  010R_FRG3G|2947782|YP_031588.1|             49237307; 81941542|null|            GO:0033644; GO:0016021|UniRef100_Q6GZW5|UniRef90_Q6GZW5|UniRef50_Q6GZW5|UPI00003B0FDD|null|    654924|null|   null|          15165820|AY548484|AAT09669.1|   null|       null|       null|             null|\n",
            "|      Q197E9|   011L_IIV3|4156260|YP_654583.1|123808687; 109287889; 106073512|null|                              null|UniRef100_Q197E9|UniRef90_Q197E9|UniRef50_Q197E9|UPI0000D8346D|null|    345201|null|   null|          16912294|DQ643392|ABF82041.1|   null|       null|       null|             null|\n",
            "|      Q6GZW4|  011R_FRG3G|2947783|YP_031589.1|             49237308; 81941541|null|            GO:0033644; GO:0016021|UniRef100_Q6GZW4|UniRef90_Q6GZW4|UniRef50_Q6GZW4|UPI00003B0FDE|null|    654924|null|   null|          15165820|AY548484|AAT09670.1|   null|       null|       null|             null|\n",
            "|      Q6GZW3|  012L_FRG3G|2947784|YP_031590.1|             81941540; 49237309|null|                              null|UniRef100_Q6GZW3|UniRef90_Q6GZW3|UniRef50_Q6GZW3|UPI00003B0FDF|null|    654924|null|   null|          15165820|AY548484|AAT09671.1|   null|       null|       null|             null|\n",
            "|      Q197E7|   013L_IIV3|4156262|YP_654585.1|106073514; 109287891; 123808685|null|            GO:0033644; GO:0016021|UniRef100_Q197E7|UniRef90_Q197E7|UniRef50_Q197E7|UPI0000D8346F|null|    345201|null|   null|          16912294|DQ643392|ABF82043.1|   null|       null|       null|             null|\n",
            "+------------+------------+-------+-----------+-------------------------------+----+----------------------------------+----------------+---------------+---------------+-------------+----+----------+----+-------+------------------+--------+----------+-------+-----------+-----------+-----------------+\n",
            "\n"
          ],
          "output_type" : "stream"
        }
      ]
    },
    {
      "cell_type" : "code",
      "execution_count" : 1,
      "metadata" : {
        "cell.metadata.exec_info" : {
          "startTs" : 1582589834272,
          "endTs" : 1582589913967
        },
        "language" : "scala"
      },
      "language" : "scala",
      "source" : [
        "val cow_mapping = mapping.where($\"NCBI-taxon\" === \"9913\").cache\n",
        "cow_mapping.limit(20).show(20)"
      ],
      "outputs" : [
        {
          "name" : "stdout",
          "text" : [
            "+------------+------------+------+--------------------+--------------------+--------------------+--------------------+----------------+-----------------+-----------------+-------------+--------------+----------+----+-------+--------------------+--------------------+--------------------+------------------+------------------+------------------+--------------------+\n",
            "|UniProtKB-AC|UniProtKB-ID|Entrez|              RefSeq|                  GI|                 PDB|                  GO|       UniRef100|         UniRef90|         UniRef50|      UniParc|           PIR|NCBI-taxon| MIM|UniGene|              PubMed|                EMBL|            EMBL-CDS|           Ensembl|       Ensembl_TRS|       Ensembl_PRO|   Additional PubMed|\n",
            "+------------+------------+------+--------------------+--------------------+--------------------+--------------------+----------------+-----------------+-----------------+-------------+--------------+----------+----+-------+--------------------+--------------------+--------------------+------------------+------------------+------------------+--------------------+\n",
            "|      P68250| 1433B_BOVIN|286863|         NP_777219.2|2852383; 71153774...|                null|GO:0005737; GO:00...|UniRef100_P68250|  UniRef90_Q9CQV8|  UniRef50_Q04917|UPI0000ED8F2F|        S13467|      9913|null|   null|    1671102; 7931346|  BC120112; AF043736|AAI20113.1; AAC02...|              null|              null|              null|                null|\n",
            "|      P62261| 1433E_BOVIN|282125|         NP_776916.1|73586683; 2780619...|                null|GO:0005737; GO:00...|UniRef100_P62258|  UniRef90_P62258|  UniRef50_P62258|UPI0000021A46|          null|      9913|null|   null|             7931346|  AF043735; BC102928|AAC61927.1; AAI02...|ENSBTAG00000005664|ENSBTAT00000007442|ENSBTAP00000007442|                null|\n",
            "|      P68509| 1433F_BOVIN|282126|         NP_776917.2|55976654; 162592;...|                null|GO:0005737; GO:00...|UniRef100_P68510|  UniRef90_Q04917|  UniRef50_Q04917|UPI000000109B|        A40484|      9913|null|   null|2902623; 1970123;...|    J03868; BC102982|AAA30347.1; AAI02...|ENSBTAG00000031134|ENSBTAT00000044059|ENSBTAP00000041575|  10569954; 11969417|\n",
            "|      P68252| 1433G_BOVIN|  null|                null|   2852385; 71153781|                null|GO:0005737; GO:00...|UniRef100_P68252|  UniRef90_P68252|  UniRef50_P68252|UPI0000167C44|        S13610|      9913|null|   null|    1671102; 7931346|            AF043737|          AAC02091.1|              null|              null|              null|                null|\n",
            "|      Q0VC36| 1433S_BOVIN|528453|      NP_001069380.1|111305346; 118572...|                null|GO:0005829; GO:00...|UniRef100_Q0VC36|UniRef90_P31947-2|UniRef50_P31947-2|UPI0000124E00|          null|      9913|null|   null|                null|            BC120373|          AAI20374.1|ENSBTAG00000009223|ENSBTAT00000012154|ENSBTAP00000012154|                null|\n",
            "|      Q3SZI4| 1433T_BOVIN|768311|      NP_001071595.1| 82592596; 118151330|6BCY:A; 6BCY:B; 6...|GO:0005737; GO:00...|UniRef100_P27348|  UniRef90_P27348|  UniRef50_P27348|UPI0000124E01|          null|      9913|null|   null|            16305752|  BT030749; BC102840|ABS45065.1; AAI02...|ENSBTAG00000002108|ENSBTAT00000032851|ENSBTAP00000032779|            30696821|\n",
            "|      P63103| 1433Z_BOVIN|287022|         NP_777239.1|192988249; 278073...|1A37:A; 1A37:B; 1...|GO:0005623; GO:00...|UniRef100_P63104|  UniRef90_P63104|  UniRef50_P63104|UPI000003300D|A47389; S65013|      9913|null|   null|1499718; 8460141;...|    L07955; BC102382|AAA30514.1; AAI02...|ENSBTAG00000000236|ENSBTAT00000000289|ENSBTAP00000000289|10840038; 1135987...|\n",
            "|      Q5E9H2| 1A1L1_BOVIN|505649|      NP_001015526.1|75057785; 5985826...|                null|GO:0003824; GO:00...|UniRef100_Q5E9H2|  UniRef90_Q5E9H2|  UniRef50_A2AIG8|UPI00004CEBB0|          null|      9913|null|   null|            16305752|            BT020948|          AAX08965.1|              null|              null|              null|                null|\n",
            "|      A4FV68|  2A5E_BOVIN|533617|NP_001076937.1; X...|134085749; 325529...|                null|GO:0005737; GO:00...|UniRef100_Q16537|  UniRef90_Q16537|  UniRef50_Q16537|UPI0000124E94|          null|      9913|null|   null|            12912990|            BC123807|          AAI23808.1|ENSBTAG00000019784|ENSBTAT00000026361|ENSBTAP00000026361|                null|\n",
            "|      Q32PI5|  2AAA_BOVIN|535321|      NP_001032554.1|122142947; 791535...|                null|GO:0000775; GO:00...|UniRef100_Q32PI5|  UniRef90_P30153|  UniRef50_P30153|UPI00005DC409|          null|      9913|null|   null|            12912990|            BC108103|          AAI08104.1|              null|              null|              null|                null|\n",
            "|      Q5E9Q7|  2ABB_BOVIN|509290|NP_001259014.1; X...|109659329; 440918...|                null|GO:0005856; GO:00...|UniRef100_Q00005|  UniRef90_Q00005|  UniRef50_Q00005|UPI000000401C|          null|      9913|null|   null|            16305752|  BT020863; BC118167|AAX08880.1; AAI18...|ENSBTAG00000001862|ENSBTAT00000002427|ENSBTAP00000002427|  22403409; 24028645|\n",
            "|      P14893|  3BHS_BOVIN|281824|         NP_776768.1|112776; 158455050...|                null|GO:0016021; GO:00...|UniRef100_P14893|  UniRef90_P14893|  UniRef50_P14060|UPI0000167BE5|        S07102|      9913|null|   null|    2599102; 1868086|    X17614; BC111203|CAA35615.1; AAI11...|ENSBTAG00000006769|ENSBTAT00000087114|ENSBTAP00000061218|                null|\n",
            "|      Q0V8K7| 3BP5L_BOVIN|520254|      NP_001069270.1|111306975; 110331...|                null|GO:0005737; GO:00...|UniRef100_Q0V8K7|  UniRef90_Q0V8K7|  UniRef50_Q7L8J4|UPI0000DACC9A|          null|      9913|null|   null|            16305752|  BC119925; BT026211|AAI19926.1; ABG67...|ENSBTAG00000002645|ENSBTAT00000077799|ENSBTAP00000073968|                null|\n",
            "|      Q0VCA8|  3HAO_BOVIN|510602|      NP_001068926.1|115495835; 239781...|              3FE5:A|GO:0005737; GO:00...|UniRef100_Q0VCA8|  UniRef90_Q0VCA8|  UniRef50_P46953|UPI0000DBDCFE|          null|      9913|null|   null|            19226621|            BC120265|          AAI20266.1|              null|              null|              null|  15909978; 16522801|\n",
            "|      Q2HJD7| 3HIDH_BOVIN|512002|      NP_001039571.1|88682977; 1140529...|                null|GO:0005739; GO:00...|UniRef100_Q2HJD7|  UniRef90_P31937|  UniRef50_P31937|UPI00006A8627|          null|      9913|null|   null|                null|            BC105543|          AAI05544.1|ENSBTAG00000001036|ENSBTAT00000001374|ENSBTAP00000001374|                null|\n",
            "|      Q9N179|    41_BOVIN|281753|         NP_776736.1|7385115; 17432907...|                null|GO:0016323; GO:00...|UniRef100_Q9N179|  UniRef90_Q9N179|  UniRef50_Q9N179|UPI0000124F00|          null|      9913|null|   null|                null|            AF222767|          AAF61703.1|ENSBTAG00000006667|ENSBTAT00000008760|ENSBTAP00000008760|                null|\n",
            "|      Q0P5A7| 4EBP1_BOVIN|509613|      NP_001071361.1|122145321; 118150...|                null|GO:0005737; GO:00...|UniRef100_Q0P5A7|  UniRef90_Q0P5A7|  UniRef50_Q13541|UPI0000DC3581|          null|      9913|null|   null|                null|            BC120290|          AAI20291.1|ENSBTAG00000027654|ENSBTAT00000039828|ENSBTAP00000039615|                null|\n",
            "|      Q75Z89| 5HT2A_BOVIN|407230|      NP_001001157.1|68052325; 4756405...|                null|GO:0030424; GO:00...|UniRef100_Q75Z89|  UniRef90_Q75Z89|  UniRef50_P28223|UPI00002523A0|          null|      9913|null|   null|                null|            AB119637|          BAD12238.1|              null|              null|              null|                null|\n",
            "|      O46411|  5NTC_BOVIN|281951|NP_776830.1; XP_0...|75052231; 5290083...|                null|GO:0005737; GO:00...|UniRef100_O46411|  UniRef90_O46411|  UniRef50_P49902|UPI0000087420|          null|      9913|null|   null|             9371705|              U73690|          AAC48784.1|ENSBTAG00000012858|ENSBTAT00000068138|ENSBTAP00000071918|                null|\n",
            "|      Q05927|  5NTD_BOVIN|281363|         NP_776554.2|143811357; 990289...|                null|GO:0031225; GO:00...|UniRef100_Q05927|  UniRef90_Q05927|  UniRef50_P21589|UPI00006DE123|        JX0269|      9913|null|   null|8340354; 16305752...|D14541; S64302; B...|BAA03408.1; AAB27...|              null|              null|              null|                null|\n",
            "+------------+------------+------+--------------------+--------------------+--------------------+--------------------+----------------+-----------------+-----------------+-------------+--------------+----------+----+-------+--------------------+--------------------+--------------------+------------------+------------------+------------------+--------------------+\n",
            "\n"
          ],
          "output_type" : "stream"
        }
      ]
    },
    {
      "cell_type" : "code",
      "execution_count" : 2,
      "metadata" : {
        "cell.metadata.exec_info" : {
          "startTs" : 1582589913969,
          "endTs" : 1582589915729
        },
        "language" : "scala"
      },
      "language" : "scala",
      "source" : [
        "val cow_liver_tr = loadTranscripts(\"raw/cow/liver/GSM1020724/quant.sf\", \"cow_liver\")\n",
        "val cow_kidney_tr = loadTranscripts(\"raw/cow/kidney/GSM1020723/quant.sf\", \"cow_kidney\")\n",
        "(cow_liver_tr.count, cow_kidney_tr.count)"
      ],
      "outputs" : [
        {
          "execution_count" : 2,
          "data" : {
            "text/plain" : [
              "(22904,22904)"
            ]
          },
          "metadata" : {
            "name" : "Out",
            "type" : "Tuple2[Long, Long]"
          },
          "output_type" : "execute_result"
        }
      ]
    },
    {
      "cell_type" : "code",
      "execution_count" : 7,
      "metadata" : {
        "cell.metadata.exec_info" : {
          "startTs" : 1582589915734,
          "endTs" : 1582589916023
        },
        "language" : "scala"
      },
      "language" : "scala",
      "source" : [
        "cow_liver_tr.show(10,1000)"
      ],
      "outputs" : [
        {
          "name" : "stdout",
          "text" : [
            "+--------------------+---------------+-------------+\n",
            "|          transcript|cow_liver_reads|cow_liver_TPM|\n",
            "+--------------------+---------------+-------------+\n",
            "|ENSBTAT00000064726.1|         2168.0|    41.310949|\n",
            "|ENSBTAT00000030504.3|         1474.0|    33.032692|\n",
            "|ENSBTAT00000004603.5|            3.0|     0.031527|\n",
            "|ENSBTAT00000066297.1|         1197.0|    22.513724|\n",
            "|ENSBTAT00000054517.2|            0.0|          0.0|\n",
            "|ENSBTAT00000052281.2|            0.0|          0.0|\n",
            "|ENSBTAT00000056197.2|            0.0|          0.0|\n",
            "|ENSBTAT00000052768.1|            0.0|          0.0|\n",
            "|ENSBTAT00000015780.3|         1333.0|    11.552155|\n",
            "|ENSBTAT00000049620.3|          159.0|     0.804058|\n",
            "+--------------------+---------------+-------------+\n",
            "only showing top 10 rows\n",
            "\n"
          ],
          "output_type" : "stream"
        }
      ]
    },
    {
      "cell_type" : "code",
      "execution_count" : 8,
      "metadata" : {
        "cell.metadata.exec_info" : {
          "startTs" : 1582589917147,
          "endTs" : 1582589919671
        },
        "language" : "scala"
      },
      "language" : "scala",
      "source" : [
        "val cow_trans = cow_liver_tr.withColumn(\"Ensembl_TRS\", undotFun($\"transcript\")).select($\"Ensembl_TRS\").join(cow_mapping, Seq(\"Ensembl_TRS\")).select(\"Ensembl_TRS\", \"Uniref90\").distinct\n",
        "cow_trans.limit(20).show(10,1000)"
      ],
      "outputs" : [
        {
          "name" : "stdout",
          "text" : [
            "+------------------+---------------+\n",
            "|       Ensembl_TRS|       Uniref90|\n",
            "+------------------+---------------+\n",
            "|ENSBTAT00000018700|UniRef90_Q5E9P1|\n",
            "|ENSBTAT00000018595|UniRef90_P41500|\n",
            "|ENSBTAT00000000651|UniRef90_Q2HJE0|\n",
            "|ENSBTAT00000025670|UniRef90_Q1LZG6|\n",
            "|ENSBTAT00000025465|UniRef90_A0JNF3|\n",
            "|ENSBTAT00000008771|UniRef90_Q8TAL6|\n",
            "|ENSBTAT00000016996|UniRef90_Q2KIF1|\n",
            "|ENSBTAT00000003959|UniRef90_P59768|\n",
            "|ENSBTAT00000001782|UniRef90_Q0P5M8|\n",
            "|ENSBTAT00000003033|UniRef90_O08908|\n",
            "+------------------+---------------+\n",
            "only showing top 10 rows\n",
            "\n"
          ],
          "output_type" : "stream"
        }
      ]
    },
    {
      "cell_type" : "code",
      "execution_count" : 10,
      "metadata" : {
        "cell.metadata.exec_info" : {
          "startTs" : 1582589919676,
          "endTs" : 1582589923348
        },
        "language" : "scala"
      },
      "language" : "scala",
      "source" : [
        "val cow_uni = uni(cow_trans.withColumnRenamed(\"Uniref90\", \"uniref90\")).cache\n",
        "cow_uni.limit(10).show(10,1000)"
      ],
      "outputs" : [
        {
          "name" : "stdout",
          "text" : [
            "+---------------+\n",
            "|       uniref90|\n",
            "+---------------+\n",
            "|UniRef90_Q14872|\n",
            "|UniRef90_F1MQK6|\n",
            "|UniRef90_Q1RMI9|\n",
            "|UniRef90_G3N1M0|\n",
            "|UniRef90_O15379|\n",
            "|UniRef90_O75899|\n",
            "|UniRef90_F1MZB7|\n",
            "|UniRef90_A6QNR9|\n",
            "|UniRef90_O43692|\n",
            "|UniRef90_Q2KHU0|\n",
            "+---------------+\n",
            "\n"
          ],
          "output_type" : "stream"
        }
      ]
    },
    {
      "cell_type" : "code",
      "execution_count" : 11,
      "metadata" : {
        "cell.metadata.exec_info" : {
          "startTs" : 1582589923351,
          "endTs" : 1582589923760
        },
        "language" : "scala"
      },
      "language" : "scala",
      "source" : [
        "val cow_mapping = mapping.where($\"NCBI-taxon\" === \"9913\").cache\n",
        "//cow_mapping.writeTSV(\"/data/indexes/uniprot/species/cow_mapping.tsv\", header = true)\n",
        "cow_mapping.limit(20).show(20)"
      ],
      "outputs" : [
        {
          "name" : "stdout",
          "text" : [
            "+------------+------------+------+--------------------+--------------------+--------------------+--------------------+----------------+-----------------+-----------------+-------------+--------------+----------+----+-------+--------------------+--------------------+--------------------+------------------+------------------+------------------+--------------------+\n",
            "|UniProtKB-AC|UniProtKB-ID|Entrez|              RefSeq|                  GI|                 PDB|                  GO|       UniRef100|         UniRef90|         UniRef50|      UniParc|           PIR|NCBI-taxon| MIM|UniGene|              PubMed|                EMBL|            EMBL-CDS|           Ensembl|       Ensembl_TRS|       Ensembl_PRO|   Additional PubMed|\n",
            "+------------+------------+------+--------------------+--------------------+--------------------+--------------------+----------------+-----------------+-----------------+-------------+--------------+----------+----+-------+--------------------+--------------------+--------------------+------------------+------------------+------------------+--------------------+\n",
            "|      P68250| 1433B_BOVIN|286863|         NP_777219.2|2852383; 71153774...|                null|GO:0005737; GO:00...|UniRef100_P68250|  UniRef90_Q9CQV8|  UniRef50_Q04917|UPI0000ED8F2F|        S13467|      9913|null|   null|    1671102; 7931346|  BC120112; AF043736|AAI20113.1; AAC02...|              null|              null|              null|                null|\n",
            "|      P62261| 1433E_BOVIN|282125|         NP_776916.1|73586683; 2780619...|                null|GO:0005737; GO:00...|UniRef100_P62258|  UniRef90_P62258|  UniRef50_P62258|UPI0000021A46|          null|      9913|null|   null|             7931346|  AF043735; BC102928|AAC61927.1; AAI02...|ENSBTAG00000005664|ENSBTAT00000007442|ENSBTAP00000007442|                null|\n",
            "|      P68509| 1433F_BOVIN|282126|         NP_776917.2|55976654; 162592;...|                null|GO:0005737; GO:00...|UniRef100_P68510|  UniRef90_Q04917|  UniRef50_Q04917|UPI000000109B|        A40484|      9913|null|   null|2902623; 1970123;...|    J03868; BC102982|AAA30347.1; AAI02...|ENSBTAG00000031134|ENSBTAT00000044059|ENSBTAP00000041575|  10569954; 11969417|\n",
            "|      P68252| 1433G_BOVIN|  null|                null|   2852385; 71153781|                null|GO:0005737; GO:00...|UniRef100_P68252|  UniRef90_P68252|  UniRef50_P68252|UPI0000167C44|        S13610|      9913|null|   null|    1671102; 7931346|            AF043737|          AAC02091.1|              null|              null|              null|                null|\n",
            "|      Q0VC36| 1433S_BOVIN|528453|      NP_001069380.1|111305346; 118572...|                null|GO:0005829; GO:00...|UniRef100_Q0VC36|UniRef90_P31947-2|UniRef50_P31947-2|UPI0000124E00|          null|      9913|null|   null|                null|            BC120373|          AAI20374.1|ENSBTAG00000009223|ENSBTAT00000012154|ENSBTAP00000012154|                null|\n",
            "|      Q3SZI4| 1433T_BOVIN|768311|      NP_001071595.1| 82592596; 118151330|6BCY:A; 6BCY:B; 6...|GO:0005737; GO:00...|UniRef100_P27348|  UniRef90_P27348|  UniRef50_P27348|UPI0000124E01|          null|      9913|null|   null|            16305752|  BT030749; BC102840|ABS45065.1; AAI02...|ENSBTAG00000002108|ENSBTAT00000032851|ENSBTAP00000032779|            30696821|\n",
            "|      P63103| 1433Z_BOVIN|287022|         NP_777239.1|192988249; 278073...|1A37:A; 1A37:B; 1...|GO:0005623; GO:00...|UniRef100_P63104|  UniRef90_P63104|  UniRef50_P63104|UPI000003300D|A47389; S65013|      9913|null|   null|1499718; 8460141;...|    L07955; BC102382|AAA30514.1; AAI02...|ENSBTAG00000000236|ENSBTAT00000000289|ENSBTAP00000000289|10840038; 1135987...|\n",
            "|      Q5E9H2| 1A1L1_BOVIN|505649|      NP_001015526.1|75057785; 5985826...|                null|GO:0003824; GO:00...|UniRef100_Q5E9H2|  UniRef90_Q5E9H2|  UniRef50_A2AIG8|UPI00004CEBB0|          null|      9913|null|   null|            16305752|            BT020948|          AAX08965.1|              null|              null|              null|                null|\n",
            "|      A4FV68|  2A5E_BOVIN|533617|NP_001076937.1; X...|134085749; 325529...|                null|GO:0005737; GO:00...|UniRef100_Q16537|  UniRef90_Q16537|  UniRef50_Q16537|UPI0000124E94|          null|      9913|null|   null|            12912990|            BC123807|          AAI23808.1|ENSBTAG00000019784|ENSBTAT00000026361|ENSBTAP00000026361|                null|\n",
            "|      Q32PI5|  2AAA_BOVIN|535321|      NP_001032554.1|122142947; 791535...|                null|GO:0000775; GO:00...|UniRef100_Q32PI5|  UniRef90_P30153|  UniRef50_P30153|UPI00005DC409|          null|      9913|null|   null|            12912990|            BC108103|          AAI08104.1|              null|              null|              null|                null|\n",
            "|      Q5E9Q7|  2ABB_BOVIN|509290|NP_001259014.1; X...|109659329; 440918...|                null|GO:0005856; GO:00...|UniRef100_Q00005|  UniRef90_Q00005|  UniRef50_Q00005|UPI000000401C|          null|      9913|null|   null|            16305752|  BT020863; BC118167|AAX08880.1; AAI18...|ENSBTAG00000001862|ENSBTAT00000002427|ENSBTAP00000002427|  22403409; 24028645|\n",
            "|      P14893|  3BHS_BOVIN|281824|         NP_776768.1|112776; 158455050...|                null|GO:0016021; GO:00...|UniRef100_P14893|  UniRef90_P14893|  UniRef50_P14060|UPI0000167BE5|        S07102|      9913|null|   null|    2599102; 1868086|    X17614; BC111203|CAA35615.1; AAI11...|ENSBTAG00000006769|ENSBTAT00000087114|ENSBTAP00000061218|                null|\n",
            "|      Q0V8K7| 3BP5L_BOVIN|520254|      NP_001069270.1|111306975; 110331...|                null|GO:0005737; GO:00...|UniRef100_Q0V8K7|  UniRef90_Q0V8K7|  UniRef50_Q7L8J4|UPI0000DACC9A|          null|      9913|null|   null|            16305752|  BC119925; BT026211|AAI19926.1; ABG67...|ENSBTAG00000002645|ENSBTAT00000077799|ENSBTAP00000073968|                null|\n",
            "|      Q0VCA8|  3HAO_BOVIN|510602|      NP_001068926.1|115495835; 239781...|              3FE5:A|GO:0005737; GO:00...|UniRef100_Q0VCA8|  UniRef90_Q0VCA8|  UniRef50_P46953|UPI0000DBDCFE|          null|      9913|null|   null|            19226621|            BC120265|          AAI20266.1|              null|              null|              null|  15909978; 16522801|\n",
            "|      Q2HJD7| 3HIDH_BOVIN|512002|      NP_001039571.1|88682977; 1140529...|                null|GO:0005739; GO:00...|UniRef100_Q2HJD7|  UniRef90_P31937|  UniRef50_P31937|UPI00006A8627|          null|      9913|null|   null|                null|            BC105543|          AAI05544.1|ENSBTAG00000001036|ENSBTAT00000001374|ENSBTAP00000001374|                null|\n",
            "|      Q9N179|    41_BOVIN|281753|         NP_776736.1|7385115; 17432907...|                null|GO:0016323; GO:00...|UniRef100_Q9N179|  UniRef90_Q9N179|  UniRef50_Q9N179|UPI0000124F00|          null|      9913|null|   null|                null|            AF222767|          AAF61703.1|ENSBTAG00000006667|ENSBTAT00000008760|ENSBTAP00000008760|                null|\n",
            "|      Q0P5A7| 4EBP1_BOVIN|509613|      NP_001071361.1|122145321; 118150...|                null|GO:0005737; GO:00...|UniRef100_Q0P5A7|  UniRef90_Q0P5A7|  UniRef50_Q13541|UPI0000DC3581|          null|      9913|null|   null|                null|            BC120290|          AAI20291.1|ENSBTAG00000027654|ENSBTAT00000039828|ENSBTAP00000039615|                null|\n",
            "|      Q75Z89| 5HT2A_BOVIN|407230|      NP_001001157.1|68052325; 4756405...|                null|GO:0030424; GO:00...|UniRef100_Q75Z89|  UniRef90_Q75Z89|  UniRef50_P28223|UPI00002523A0|          null|      9913|null|   null|                null|            AB119637|          BAD12238.1|              null|              null|              null|                null|\n",
            "|      O46411|  5NTC_BOVIN|281951|NP_776830.1; XP_0...|75052231; 5290083...|                null|GO:0005737; GO:00...|UniRef100_O46411|  UniRef90_O46411|  UniRef50_P49902|UPI0000087420|          null|      9913|null|   null|             9371705|              U73690|          AAC48784.1|ENSBTAG00000012858|ENSBTAT00000068138|ENSBTAP00000071918|                null|\n",
            "|      Q05927|  5NTD_BOVIN|281363|         NP_776554.2|143811357; 990289...|                null|GO:0031225; GO:00...|UniRef100_Q05927|  UniRef90_Q05927|  UniRef50_P21589|UPI00006DE123|        JX0269|      9913|null|   null|8340354; 16305752...|D14541; S64302; B...|BAA03408.1; AAB27...|              null|              null|              null|                null|\n",
            "+------------+------------+------+--------------------+--------------------+--------------------+--------------------+----------------+-----------------+-----------------+-------------+--------------+----------+----+-------+--------------------+--------------------+--------------------+------------------+------------------+------------------+--------------------+\n",
            "\n"
          ],
          "output_type" : "stream"
        }
      ]
    },
    {
      "cell_type" : "code",
      "execution_count" : 12,
      "metadata" : {
        "language" : "scala"
      },
      "language" : "scala",
      "source" : [
      ],
      "outputs" : [
      ]
    }
  ]
}