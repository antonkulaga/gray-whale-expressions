{
  "metadata" : {
    "config" : {
      "dependencies" : {
        "scala" : [
          "com.github.pathikrit:better-files_2.12:3.8.0",
          "org.bdgenomics.adam:adam-core-spark2_2.12:0.30.0",
          "group.research.aging:spark-extensions_2.12:0.0.8.2"
        ]
      },
      "exclusions" : [
      ],
      "repositories" : [
        {
          "maven" : {
            "base" : "http://central.maven.org/maven2/"
          }
        },
        {
          "maven" : {
            "base" : "http://oss.sonatype.org/content/repositories/snapshots"
          }
        },
        {
          "maven" : {
            "base" : "https://dl.bintray.com/comp-bio-aging/main/"
          }
        }
      ],
      "sparkConfig" : {
        "" : "http://spark:7070[16]"
      }
    }
  },
  "nbformat" : 4,
  "nbformat_minor" : 0,
  "cells" : [
    {
      "cell_type" : "markdown",
      "execution_count" : 0,
      "metadata" : {
        "language" : "text"
      },
      "language" : "text",
      "source" : [
        "# lags protein base\n",
        "\n",
        "This is a text cell. Start editing!"
      ],
      "outputs" : [
      ]
    },
    {
      "cell_type" : "code",
      "execution_count" : 1,
      "metadata" : {
        "cell.metadata.exec_info" : {
          "startTs" : 1583857023572,
          "endTs" : 1583857024093
        },
        "language" : "scala"
      },
      "language" : "scala",
      "source" : [
        "import org.apache.spark._\n",
        "import org.apache.spark.sql.types._\n",
        "import scala.reflect.runtime.universe._\n",
        "import org.apache.spark.storage.StorageLevel\n",
        "import org.apache.spark.rdd._\n",
        "import org.apache.spark.sql._\n",
        "import org.apache.spark.sql.functions._\n",
        "import org.apache.spark.sql.expressions._\n",
        "import group.research.aging.spark.extensions._\n",
        "import group.research.aging.spark.extensions.functions._\n",
        "import kernel.display.html\n",
        "import org.bdgenomics.adam.rdd.ADAMContext._"
      ],
      "outputs" : [
      ]
    },
    {
      "cell_type" : "code",
      "execution_count" : 70,
      "metadata" : {
        "cell.metadata.exec_info" : {
          "startTs" : 1583972120444,
          "endTs" : 1583972120639
        },
        "language" : "scala"
      },
      "language" : "scala",
      "source" : [
        "import org.apache.spark.sql.functions.udf\n",
        "def undot(str: String): String = str.substring(0, str.lastIndexOf(\".\"))\n",
        "def uni(df: DataFrame) = df.select(\"uniref90\").distinct\n",
        "val undotFun = udf[String, String](undot)"
      ],
      "outputs" : [
      ]
    },
    {
      "cell_type" : "code",
      "execution_count" : 2,
      "metadata" : {
        "cell.metadata.exec_info" : {
          "startTs" : 1583857024118,
          "endTs" : 1583857024676
        },
        "language" : "scala"
      },
      "language" : "scala",
      "source" : [
        "\"qseqid sseqid pident length mismatch gapopen qstart qend sstart send evalue bitscore\".split(\" \").mkString(\"[\\\"\",\"\\\",\\\"\",\"\\\"]\")"
      ],
      "outputs" : [
      ]
    },
    {
      "cell_type" : "code",
      "execution_count" : 3,
      "metadata" : {
        "cell.metadata.exec_info" : {
          "startTs" : 1583923466805,
          "endTs" : 1583923466955
        },
        "language" : "scala"
      },
      "language" : "scala",
      "source" : [
        "val columns = List(\n",
        "        \"qseqid\",  // Query Seq - id\\n\",\n",
        "        \"qlen\",  // Query sequence length\\n\",\n",
        "        \"sseqid\",  // Subject Seq - id\\n\",\"    //\"sallseqid\",  // All subject Seq - id(s), separated by a ';'\\n\",\n",
        "        \"slen\",  // Subject sequence length\\n\",\n",
        "        \"qstart\",  // Start of alignment in query\\n\",\n",
        "        \"qend\",  // End of alignment in query\\n\",\n",
        "        \"sstart\",  // Start of alignment in subject\\n\",\n",
        "        \"send\",  // End of alignment in subject\\n\",\n",
        "        \"qseq\",  // Aligned part of query sequence\\n\",\n",
        "        \"sseq\",  // Aligned part of subject sequence\\n\",\n",
        "        \"evalue\",  // Expect value\\n\",\n",
        "        \"bitscore\",  // Bit score\\n\",\n",
        "        \"score\",  // Raw score\\n\",\n",
        "        \"length\",  // Alignment length\\n\",\n",
        "        \"pident\",  // Percentage of identical matches\\n\",\n",
        "        \"nident\",  // Number of identical matches\\n\",\n",
        "        \"mismatch\",  // Number of mismatches\\n\",\n",
        "        \"positive\",  // Number of positive - scoring matches\\n\",\n",
        "        \"gapopen\",  // Number of gap openings\\n\",\n",
        "        \"gaps\",  // Total number of gaps\\n\",\n",
        "        \"ppos\",  // Percentage of positive - scoring matches\\n\",\n",
        "        \"qframe\",  // Query frame\\n\",\n",
        "        \"btop\"  // Blast traceback operations(BTOP)\\n\",\n",
        "          //  \"staxids\",  // unique Subject Taxonomy ID(s), separated by a ';' (in numerical order)\\n\",\n",
        "          //  \"stitle\",  // Subject Title\\n\",\n",
        "          //  \"salltitles\",  // All Subject Title(s), separated by a '<>'\\n\",\n",
        "          //  \"qcovhsp\",  // Query Coverage Per HSP\\n\",\n",
        "          //  \"qtitle\" // Query title\\n\",\n",
        "        )"
      ],
      "outputs" : [
      ]
    },
    {
      "cell_type" : "code",
      "execution_count" : 4,
      "metadata" : {
        "cell.metadata.exec_info" : {
          "startTs" : 1583944992989,
          "endTs" : 1583944993117
        },
        "language" : "scala"
      },
      "language" : "scala",
      "source" : [
        "columns.size"
      ],
      "outputs" : [
        {
          "execution_count" : 4,
          "data" : {
            "text/plain" : [
              "23"
            ]
          },
          "metadata" : {
            "name" : "Out",
            "type" : "Int"
          },
          "output_type" : "execute_result"
        }
      ]
    },
    {
      "cell_type" : "code",
      "execution_count" : 5,
      "metadata" : {
        "cell.metadata.exec_info" : {
          "startTs" : 1583974308786,
          "endTs" : 1583974313439
        },
        "language" : "scala"
      },
      "language" : "scala",
      "source" : [
        "//val columns = List(\"gene\", \"transcript\", \"identity\", \"aligment_length\", \"mismatches\", \"gaps\", \"start_query\", \"end_query\", \"start_target\", \"end_target\") //last two non valid\n",
        "\n",
        "val lags_path = \"/data/results/gray-whale/diamond/blastp/lags\"\n",
        "val lags_in_bowhead = spark.readTSV(lags_path + \"/lags_in_bowhead.m8\").toDF(columns :_*)\n",
        "val lags_in_graywhale = spark.readTSV(lags_path + \"/lags_in_graywhale.m8\").toDF(columns:_*)\n",
        "val lags_in_minkewhale = spark.readTSV(lags_path + \"/lags_in_minkewhale.m8\").toDF(columns:_*)\n",
        "val lags_in_NMR  = spark.readTSV(lags_path + \"/lags_in_NMR.m8\").toDF(columns:_*)\n",
        "val lags_in_bat  = spark.readTSV(lags_path + \"/lags_in_bat.m8\").toDF(columns:_*)\n",
        "\n",
        "val lags_in_cow  = spark.readTSV(lags_path + \"/lags_in_cow.m8\").toDF(columns:_*)\n",
        "val lags_in_mouse  = spark.readTSV(lags_path + \"/lags_in_mouse.m8\").toDF(columns:_*)\n",
        "val lags_in_human  = spark.readTSV(lags_path + \"/lags_in_human.m8\")  .toDF(columns:_*)\n"
      ],
      "outputs" : [
      ]
    },
    {
      "cell_type" : "code",
      "execution_count" : 7,
      "metadata" : {
        "cell.metadata.exec_info" : {
          "startTs" : 1583972260413,
          "endTs" : 1583972260751
        },
        "language" : "scala"
      },
      "language" : "scala",
      "source" : [
        "val genage_conversion = spark.readTSV(\"/data/databases/genage/genage_conversion.tsv\", header = true).distinct\n",
        "genage_conversion.show(10,1000)"
      ],
      "outputs" : [
        {
          "name" : "stdout",
          "text" : [
            "+------+------------------------+------------------+------------------+-----------+---------------+-------------------+----------------------------------------------------------------------------------------------------------------------------------------------------------------------------------+\n",
            "|Entrez|                Organism|           Ensembl|           Protein|Gene Symbol|Lifespan Effect|Longevity Influence|                                                                                                                                                                            Method|\n",
            "+------+------------------------+------------------+------------------+-----------+---------------+-------------------+----------------------------------------------------------------------------------------------------------------------------------------------------------------------------------+\n",
            "|852260|Saccharomyces cerevisiae|           YBL021C|           YBL021C|       HAP3|       decrease|            fitness|                                                                                                                                                                          Deletion|\n",
            "|851813|Saccharomyces cerevisiae|           YDR227W|           YDR227W|       SIR4|       decrease|               anti|                                                                                                                                                                          Mutation|\n",
            "|854301|Saccharomyces cerevisiae|           YOR133W|           YOR133W|       EFT1|       decrease|            fitness|                                                                                                                                                                          Deletion|\n",
            "|852540|Saccharomyces cerevisiae|           YBR238C|           YBR238C|    YBR238C|       increase|               anti|                                                                                                                                                                          Deletion|\n",
            "| 20416|            Mus musculus|ENSMUSG00000042626|ENSMUSP00000119293|       Shc1|       increase|               anti|                                                                                                                                                                          Knockout|\n",
            "| 20930|            Mus musculus|ENSMUSG00000015790|ENSMUSP00000015934|      Surf1|       increase|               anti|2368: Dell'agnello et al. (2007) \"Increased longevity and refractoriness to Ca(2+)-dependent neurodegeneration in Surf1 knockout mice.\"  Hum. Mol. Genet. 16(4):431-444 (17210671)|\n",
            "| 15551|            Mus musculus|ENSMUSG00000049511|ENSMUSP00000050898|      Htr1b|       decrease|                pro|                                                                                                                                                                          Knockout|\n",
            "| 18787|            Mus musculus|ENSMUSG00000037411|              null|   Serpine1|       increase|               anti|                                                                                                                                          Deletion in the Klotho mutant background|\n",
            "| 16905|            Mus musculus|ENSMUSG00000028063|ENSMUSP00000040265|       Lmna|       decrease|                pro|                                                                                                                                                                          Mutation|\n",
            "|174762|  Caenorhabditis elegans|    WBGene00000090|        B0334.8a.1|      age-1|       increase|               anti|                                                                                                                                                                  RNA interference|\n",
            "+------+------------------------+------------------+------------------+-----------+---------------+-------------------+----------------------------------------------------------------------------------------------------------------------------------------------------------------------------------+\n",
            "only showing top 10 rows\n",
            "\n"
          ],
          "output_type" : "stream"
        }
      ]
    },
    {
      "cell_type" : "code",
      "execution_count" : 8,
      "metadata" : {
        "cell.metadata.exec_info" : {
          "startTs" : 1583977872716,
          "endTs" : 1583977874413
        },
        "language" : "scala"
      },
      "language" : "scala",
      "source" : [
        "val conv = genage_conversion.where(length($\"Longevity Influence\") <100).groupBy(\"Organism\", \"Longevity Influence\")\n",
        ".agg(countDistinct(\"Ensembl\").as(\"Total Genes\"), countDistinct(\"Protein\").as(\"Total Proteins\")).orderBy($\"Organism\".asc, $\"Longevity Influence\".asc)\n",
        "conv.show(10,1000)"
      ],
      "outputs" : [
        {
          "name" : "stdout",
          "text" : [
            "+-----------------------+-------------------+-----------+--------------+\n",
            "|               Organism|Longevity Influence|Total Genes|Total Proteins|\n",
            "+-----------------------+-------------------+-----------+--------------+\n",
            "| Caenorhabditis elegans|               anti|        576|          1444|\n",
            "| Caenorhabditis elegans|               none|          3|            10|\n",
            "| Caenorhabditis elegans|                pro|        288|           743|\n",
            "|            Danio rerio|                pro|          1|             3|\n",
            "|Drosophila melanogaster|               anti|         74|           245|\n",
            "|Drosophila melanogaster|               none|          2|             5|\n",
            "|Drosophila melanogaster|                pro|        122|           381|\n",
            "|           Mus musculus|               anti|         45|           152|\n",
            "|           Mus musculus|               none|          2|             6|\n",
            "|           Mus musculus|                pro|         78|           310|\n",
            "+-----------------------+-------------------+-----------+--------------+\n",
            "only showing top 10 rows\n",
            "\n"
          ],
          "output_type" : "stream"
        }
      ]
    },
    {
      "cell_type" : "code",
      "execution_count" : 9,
      "metadata" : {
        "cell.metadata.exec_info" : {
          "startTs" : 1583978908396,
          "endTs" : 1583978908560
        },
        "language" : "scala"
      },
      "language" : "scala",
      "source" : [
        "def byMaxScore(df: DataFrame, threshold: Double = 30.0) = {    \n",
        "    val d = df.where($\"ppos\" >=  threshold)//.select(\"qseqid\", \"sseqid\", \"score\").distinct\n",
        "    //val windowSequence = Window.partitionBy(d(\"sseqid\")).orderBy(d(\"score\").desc)\n",
        "    //val ds = d.withColumn(\"rn\", row_number.over(windowSequence)).where($\"rn\" === 1).drop(\"rn\")\n",
        "    val ds = d\n",
        "    val windowQuery = Window.partitionBy(ds(\"qseqid\")).orderBy(ds(\"score\").desc)\n",
        "    ds.withColumn(\"rn\", row_number.over(windowQuery)).where($\"rn\" === 1).drop(\"rn\")\n",
        "}\n",
        "\n",
        "def byMaxScoreExt(df: DataFrame, threshold: Double = 30.0) = byMaxScore(df, threshold)\n",
        " .withColumnRenamed(\"qseqid\", \"Protein\")\n",
        " .join(genage_conversion, Seq(\"Protein\"))\n",
        " .select($\"Protein\",$\"Ensembl\", $\"Entrez\", $\"Gene Symbol\",$\"Longevity Influence\", $\"Organism\", $\"Method\", $\"score\", \n",
        " $\"length\", $\"mismatch\", $\"positive\", $\"ppos\".as(\"percent aligned\")).distinct.orderBy($\"Organism\", $\"Longevity Influence\",$\"Method\", $\"score\".desc)\n",
        " \n",
        " def count_genes(df: DataFrame, name: String) = df.groupBy($\"Organism\", $\"Longevity Influence\")\n",
        " .agg(countDistinct(\"Ensembl\").as(name + \" genes\"),countDistinct(\"Protein\").as(name + \" proteins\")).filter(row=>\n",
        " row.getAs[String](\"Longevity Influence\") match \n",
        " { \n",
        "     case null => true \n",
        "     case str if str.length < 200 => true\n",
        "     case _ => false\n",
        "     }\n",
        " ).orderBy(\"Organism\", \"Longevity Influence\")\n",
        "\n",
        "def summary(df: DataFrame, name: String, threshold: Double = 30.0) = count_genes(byMaxScoreExt(df, threshold), name)"
      ],
      "outputs" : [
      ]
    },
    {
      "cell_type" : "code",
      "execution_count" : 30,
      "metadata" : {
        "cell.metadata.exec_info" : {
          "startTs" : 1583978910816,
          "endTs" : 1583978916597
        },
        "language" : "scala"
      },
      "language" : "scala",
      "source" : [
        "val threshold = 50.0\n",
        "\n",
        "def renameTarget(species: String) = udf[String, String]{\n",
        "    case str if species.toLowerCase.contains(\"bat\") => undot(undot(str))\n",
        "    \n",
        "    case str if species.toLowerCase.contains(\"cow\") =>\n",
        "     str.indexOf(\"gene:\") match {\n",
        "            case -1 => undot(str.replace(\"TAP\", \"TAT\"))\n",
        "            case i => undot(str.substring(i+5, str.indexOf(\" \", i)).replace(\"TAP\", \"TAT\"))            \n",
        "        } \n",
        "\n",
        "    case str if species.toLowerCase.contains(\"nmr\") || species.toLowerCase.contains(\"naked\") =>\n",
        "        str.indexOf(\"GENE.\") match {\n",
        "            case -1 => undot(undot(str))\n",
        "            case i => \n",
        "                val a= i + \"GENE.\".length\n",
        "                undot(undot(str.substring(a, str.indexOf(\"~\",a)))) //double undot\n",
        "        }\n",
        "\n",
        "    case str if species.contains(\"mink\") =>\n",
        "        undot(str.replace(\"XP\", \"XM\"))\n",
        "    case str if (species.toLowerCase.contains(\"mouse\") || species.toLowerCase.contains(\"human\")) && str.contains(\"|\") =>   \n",
        "        undot(str.split('|')(1))\n",
        "       \n",
        "    case str if str.contains(\"::\") => str.split(\"::\")(1)    \n",
        "    case str => str\n",
        "}\n",
        "\n",
        "def filterLags(df: DataFrame, name: String = \"transcript\",  threshold: Double = 50.0) = {\n",
        "    val ren = renameTarget(name)\n",
        "    byMaxScore(df, threshold)\n",
        "    .withColumnRenamed(\"qseqid\", \"Protein\")\n",
        "    .withColumn(name, ren($\"sseqid\"))\n",
        "    .join(genage_conversion, Seq(\"Protein\")).select(\"Protein\",  \"Organism\", \"Longevity Influence\", name)\n",
        "    .filter(row=>\n",
        "        row.getAs[String](\"Longevity Influence\") match \n",
        "        { \n",
        "            case null => true \n",
        "            case str if str.length < 200 => true\n",
        "            case _ => false\n",
        "            }\n",
        "        )\n",
        "    .distinct()\n",
        "}\n",
        "\n",
        "val mw_filered = filterLags(lags_in_minkewhale, \"minke whale\", threshold)\n",
        "println(mw_filered.count)\n",
        "mw_filered.show(10,1000)"
      ],
      "outputs" : [
        {
          "name" : "stdout",
          "text" : [
            "2779\n",
            "+------------+------------------------+-------------------+------------+\n",
            "|     Protein|                Organism|Longevity Influence| minke whale|\n",
            "+------------+------------------------+-------------------+------------+\n",
            "| FBpp0082863| Drosophila melanogaster|               anti|XM_007169043|\n",
            "|     YPL040C|Saccharomyces cerevisiae|            fitness|XM_007172131|\n",
            "|   E01B7.1.2|  Caenorhabditis elegans|                pro|XM_007170473|\n",
            "| F26D12.1l.1|  Caenorhabditis elegans|               anti|XM_028018577|\n",
            "|  F01F1.8a.2|  Caenorhabditis elegans|               anti|XM_007186549|\n",
            "|Y71H2AM.23.2|  Caenorhabditis elegans|               anti|XM_007186412|\n",
            "| FBpp0078399| Drosophila melanogaster|               anti|XM_007190556|\n",
            "| FBpp0307142| Drosophila melanogaster|                pro|XM_007168672|\n",
            "|   LLC1.3b.1|  Caenorhabditis elegans|               none|XM_007187833|\n",
            "|  F28C1.2b.1|  Caenorhabditis elegans|               anti|XM_007184459|\n",
            "+------------+------------------------+-------------------+------------+\n",
            "only showing top 10 rows\n",
            "\n"
          ],
          "output_type" : "stream"
        }
      ]
    },
    {
      "cell_type" : "code",
      "execution_count" : 89,
      "metadata" : {
        "cell.metadata.exec_info" : {
          "startTs" : 1583978916600,
          "endTs" : 1583978919866
        },
        "language" : "scala"
      },
      "language" : "scala",
      "source" : [
        "def filterLagsSimple(df: DataFrame, name: String = \"transcript\",  threshold: Double = 50.0) = {\n",
        "\n",
        "    val ren = renameTarget(name)\n",
        "    byMaxScore(df, threshold)\n",
        "    .withColumnRenamed(\"qseqid\", \"Protein\")\n",
        "    .withColumn(name, ren($\"sseqid\"))\n",
        "    .select(\"Protein\", name).distinct\n",
        "    .join(genage_conversion.select(\"Protein\").distinct, Seq(\"Protein\")).select(\"Protein\", name)\n",
        "}\n",
        "\n",
        "val mw_filered_simple = filterLagsSimple(lags_in_minkewhale, \"minke whale\", threshold)\n",
        "println(mw_filered_simple.count)\n",
        "mw_filered_simple.show(10,1000)"
      ],
      "outputs" : [
        {
          "name" : "stdout",
          "text" : [
            "2644\n",
            "+-------------+------------+\n",
            "|      Protein| minke whale|\n",
            "+-------------+------------+\n",
            "|      YPR021C|XM_007195790|\n",
            "|Y69A2AR.19a.1|XM_007173362|\n",
            "|      YNL202W|XM_007181859|\n",
            "|   F13G3.7b.2|XM_028019676|\n",
            "|      YGL227W|XM_007198201|\n",
            "|   F10D11.1.2|XM_007186167|\n",
            "|  Y55D5A.5c.2|XM_007194427|\n",
            "|  FBpp0305430|XM_007179402|\n",
            "|   C47E12.2.2|XM_007177934|\n",
            "|   C27B7.7a.1|XM_007197313|\n",
            "+-------------+------------+\n",
            "only showing top 10 rows\n",
            "\n"
          ],
          "output_type" : "stream"
        }
      ]
    },
    {
      "cell_type" : "code",
      "execution_count" : 19,
      "metadata" : {
        "cell.metadata.exec_info" : {
          "startTs" : 1583978919867,
          "endTs" : 1583978929755
        },
        "language" : "scala"
      },
      "language" : "scala",
      "source" : [
        "val threshold = 50.0\n",
        "val all_lags = filterLags(lags_in_graywhale, \"gray whale\", threshold)\n",
        "  .join(filterLags(lags_in_bowhead, \"bowhead whale\", threshold), Seq(\"Protein\",  \"Organism\", \"Longevity Influence\"), \"outer\")\n",
        "  .join(filterLags(lags_in_minkewhale, \"minke whale\", threshold), Seq(\"Protein\",  \"Organism\", \"Longevity Influence\"), \"outer\")\n",
        "  .join(filterLags(lags_in_human, \"human\", threshold), Seq(\"Protein\",  \"Organism\", \"Longevity Influence\"), \"outer\")\n",
        "  .join(filterLags(lags_in_cow, \"cow\", threshold), Seq(\"Protein\",  \"Organism\", \"Longevity Influence\"), \"outer\")\n",
        "  .join(filterLags(lags_in_mouse, \"mouse\", threshold), Seq(\"Protein\",  \"Organism\", \"Longevity Influence\"), \"outer\")\n",
        "  .orderBy($\"Organism\".asc, $\"Longevity Influence\".desc).cache()\n",
        "all_lags.show(20,10000)"
      ],
      "outputs" : [
        {
          "name" : "stdout",
          "text" : [
            "+------------+----------------------+-------------------+------------+-------------+------------+---------------+------------------+------------------+\n",
            "|     Protein|              Organism|Longevity Influence|  gray whale|bowhead whale| minke whale|          human|               cow|             mouse|\n",
            "+------------+----------------------+-------------------+------------+-------------+------------+---------------+------------------+------------------+\n",
            "|  F42G9.6a.1|Caenorhabditis elegans|                pro|        null|         null|        null|ENST00000297056|              null|ENSMUST00000125567|\n",
            "|  T19E7.2b.1|Caenorhabditis elegans|                pro|c17238_g1_i1|  bmy_15253T0|XM_007171592|ENST00000362042|ENSBTAT00000005413|ENSMUST00000005103|\n",
            "|   F44G3.2.1|Caenorhabditis elegans|                pro|c13258_g1_i2|  bmy_05894T0|XM_007168193|ENST00000348956|ENSBTAT00000018492|ENSMUST00000208710|\n",
            "|  K10B2.1c.1|Caenorhabditis elegans|                pro| c1881_g1_i1|  bmy_04507T0|XM_007187376|ENST00000393441|ENSBTAT00000009830|ENSMUST00000065601|\n",
            "|  T21H8.1c.2|Caenorhabditis elegans|                pro|c15688_g1_i2|  bmy_12319T0|XM_007175785|ENST00000537927|ENSBTAT00000005615|ENSMUST00000040056|\n",
            "|  T27C4.4d.1|Caenorhabditis elegans|                pro|c18310_g1_i3|  bmy_00352T0|        null|ENST00000524902|ENSBTAT00000054470|ENSMUST00000176816|\n",
            "| C16A11.1a.1|Caenorhabditis elegans|                pro|c85240_g1_i1|  bmy_11910T0|XM_007187183|ENST00000262494|ENSBTAT00000003515|ENSMUST00000074694|\n",
            "|   E01B7.1.1|Caenorhabditis elegans|                pro|c71696_g1_i1|  bmy_08581T0|XM_007170473|ENST00000396444|ENSBTAT00000033723|ENSMUST00000028841|\n",
            "|  T21H8.1f.1|Caenorhabditis elegans|                pro|c15688_g1_i2|  bmy_12319T0|XM_007175785|ENST00000299492|ENSBTAT00000021483|ENSMUST00000040056|\n",
            "| W02C12.3j.1|Caenorhabditis elegans|                pro|c11948_g1_i1|  bmy_02480T0|XM_007192495|ENST00000352241|ENSBTAT00000008789|ENSMUST00000203884|\n",
            "|   D1014.3.2|Caenorhabditis elegans|                pro|c87338_g1_i1|  bmy_15620T0|XM_007168265|ENST00000263354|ENSBTAT00000017397|ENSMUST00000006181|\n",
            "| F07A11.6d.1|Caenorhabditis elegans|                pro|        null|  bmy_09913T0|XM_007175040|           null|              null|              null|\n",
            "|  F33D4.2a.1|Caenorhabditis elegans|                pro|c16447_g1_i2|  bmy_14345T0|XM_007192546|ENST00000456211|ENSBTAT00000002982|ENSMUST00000032192|\n",
            "|Y55F3AM.3c.1|Caenorhabditis elegans|                pro|c17352_g2_i8|  bmy_00595T0|XM_007193267|ENST00000361162|ENSBTAT00000002491|ENSMUST00000146297|\n",
            "|Y65B4BR.4a.1|Caenorhabditis elegans|                pro|c15628_g1_i1|  bmy_15813T0|XM_007176162|ENST00000359154|ENSBTAT00000024513|ENSMUST00000166615|\n",
            "|   C32D5.9.1|Caenorhabditis elegans|                pro|c19663_g1_i1|  bmy_01765T0|XM_007166523|ENST00000302386|ENSBTAT00000019814|ENSMUST00000018711|\n",
            "|   W03C9.3.2|Caenorhabditis elegans|                pro| c5665_g1_i1|  bmy_09952T0|XM_007179240|ENST00000265062|ENSBTAT00000013451|ENSMUST00000113600|\n",
            "|  ZC123.3f.1|Caenorhabditis elegans|                pro| c4318_g2_i1|  bmy_04590T0|XM_007178150|ENST00000373755|ENSBTAT00000007266|ENSMUST00000112961|\n",
            "|  C04A2.3j.1|Caenorhabditis elegans|                pro|c33250_g1_i1|  bmy_08794T0|        null|ENST00000464367|ENSBTAT00000026341|              null|\n",
            "|  C41C4.4a.1|Caenorhabditis elegans|                pro|c49803_g1_i1|  bmy_21420T0|XM_007175918|ENST00000433197|ENSBTAT00000022347|ENSMUST00000001059|\n",
            "+------------+----------------------+-------------------+------------+-------------+------------+---------------+------------------+------------------+\n",
            "only showing top 20 rows\n",
            "\n"
          ],
          "output_type" : "stream"
        }
      ]
    },
    {
      "cell_type" : "code",
      "execution_count" : 12,
      "metadata" : {
        "cell.metadata.exec_info" : {
          "startTs" : 1583977906608,
          "endTs" : 1583977910042
        },
        "language" : "scala"
      },
      "language" : "scala",
      "source" : [
        "val threshold = 50.0\n",
        "val all_lags_summary = summary(lags_in_bowhead, \"bowhead whale\", threshold)\n",
        "  .join(summary(lags_in_graywhale, \"gray whale\", threshold), Seq(\"Organism\", \"Longevity Influence\"))\n",
        "  .join(summary(lags_in_minkewhale, \"minke whale\", threshold), Seq(\"Organism\", \"Longevity Influence\"))\n",
        "  .join(summary(lags_in_human, \"human\", threshold), Seq(\"Organism\", \"Longevity Influence\"))\n",
        "  .join(summary(lags_in_cow, \"cow\", threshold), Seq(\"Organism\", \"Longevity Influence\"))\n",
        "  .join(summary(lags_in_mouse, \"mouse\", threshold), Seq(\"Organism\", \"Longevity Influence\")).orderBy($\"Organism\".asc).cache()\n",
        "all_lags.show(20,10000)"
      ],
      "outputs" : [
        {
          "name" : "stdout",
          "text" : [
            "+----------+----------------------+-------------------+------------------------------------------+-------------+--------------+----------------------------------------------------------------------------------------------------------------------+--------------------+--------------------------------------------------------------------------------------------------------------------------------+\n",
            "|   Protein|              Organism|Longevity Influence|                                gray whale|bowhead whale|   minke whale|                                                                                                                 human|                 cow|                                                                                                                           mouse|\n",
            "+----------+----------------------+-------------------+------------------------------------------+-------------+--------------+----------------------------------------------------------------------------------------------------------------------+--------------------+--------------------------------------------------------------------------------------------------------------------------------+\n",
            "|F42G9.6a.1|Caenorhabditis elegans|                pro|                                      null|         null|          null| ENSP00000297056.6|ENST00000297056.11|ENSG00000164535.15|OTTHUMG00000125513.5|OTTHUMT00000246840.3|DAGLB-201|DAGLB|672|                null|    ENSMUSP00000138702.1|ENSMUST00000125567.7|ENSMUSG00000035735.10|OTTMUSG00000021192.2|OTTMUST00000050205.2|Dagla-202|Dagla|99|\n",
            "|T01C8.1c.1|Caenorhabditis elegans|                pro|Gene.19593::c14021_g1_i3::g.19593::m.19593|  bmy_01545T0|XP_007164442.1|ENSP00000360290.4|ENST00000371244.9|ENSG00000162409.11|OTTHUMG00000008282.3|OTTHUMT00000022753.3|PRKAA2-201|PRKAA2|552|ENSBTAP00000000017.5|  ENSMUSP00000030243.7|ENSMUST00000030243.7|ENSMUSG00000028518.8|OTTMUSG00000008125.1|OTTMUST00000018469.1|Prkaa2-201|Prkaa2|552|\n",
            "|T19E7.2b.1|Caenorhabditis elegans|                pro|Gene.32596::c17238_g1_i1::g.32596::m.32596|  bmy_15253T0|XP_007171592.1|ENSP00000354855.3|ENST00000362042.8|ENSG00000082641.16|OTTHUMG00000178706.5|OTTHUMT00000443019.2|NFE2L1-203|NFE2L1|772|ENSBTAP00000052638.1|ENSMUSP00000005103.5|ENSMUST00000005103.11|ENSMUSG00000029832.16|OTTMUSG00000034271.1|OTTMUST00000087085.1|Nfe2l3-201|Nfe2l3|660|\n",
            "|T01C8.1c.1|Caenorhabditis elegans|                pro|Gene.19593::c14021_g1_i3::g.19593::m.19593|  bmy_01545T0|XP_007164442.1|ENSP00000360290.4|ENST00000371244.9|ENSG00000162409.11|OTTHUMG00000008282.3|OTTHUMT00000022753.3|PRKAA2-201|PRKAA2|552|ENSBTAP00000000017.5|  ENSMUSP00000030243.7|ENSMUST00000030243.7|ENSMUSG00000028518.8|OTTMUSG00000008125.1|OTTMUST00000018469.1|Prkaa2-201|Prkaa2|552|\n",
            "|T19E7.2b.1|Caenorhabditis elegans|                pro|Gene.32596::c17238_g1_i1::g.32596::m.32596|  bmy_15253T0|XP_007171592.1|ENSP00000354855.3|ENST00000362042.8|ENSG00000082641.16|OTTHUMG00000178706.5|OTTHUMT00000443019.2|NFE2L1-203|NFE2L1|772|ENSBTAP00000052638.1|ENSMUSP00000005103.5|ENSMUST00000005103.11|ENSMUSG00000029832.16|OTTMUSG00000034271.1|OTTMUST00000087085.1|Nfe2l3-201|Nfe2l3|660|\n",
            "|T01C8.1c.1|Caenorhabditis elegans|                pro|Gene.19593::c14021_g1_i3::g.19593::m.19593|  bmy_01545T0|XP_007164442.1|ENSP00000360290.4|ENST00000371244.9|ENSG00000162409.11|OTTHUMG00000008282.3|OTTHUMT00000022753.3|PRKAA2-201|PRKAA2|552|ENSBTAP00000000017.5|  ENSMUSP00000030243.7|ENSMUST00000030243.7|ENSMUSG00000028518.8|OTTMUSG00000008125.1|OTTMUST00000018469.1|Prkaa2-201|Prkaa2|552|\n",
            "|T19E7.2b.1|Caenorhabditis elegans|                pro|Gene.32596::c17238_g1_i1::g.32596::m.32596|  bmy_15253T0|XP_007171592.1|ENSP00000354855.3|ENST00000362042.8|ENSG00000082641.16|OTTHUMG00000178706.5|OTTHUMT00000443019.2|NFE2L1-203|NFE2L1|772|ENSBTAP00000052638.1|ENSMUSP00000005103.5|ENSMUST00000005103.11|ENSMUSG00000029832.16|OTTMUSG00000034271.1|OTTMUST00000087085.1|Nfe2l3-201|Nfe2l3|660|\n",
            "|T01C8.1c.1|Caenorhabditis elegans|                pro|Gene.19593::c14021_g1_i3::g.19593::m.19593|  bmy_01545T0|XP_007164442.1|ENSP00000360290.4|ENST00000371244.9|ENSG00000162409.11|OTTHUMG00000008282.3|OTTHUMT00000022753.3|PRKAA2-201|PRKAA2|552|ENSBTAP00000000017.5|  ENSMUSP00000030243.7|ENSMUST00000030243.7|ENSMUSG00000028518.8|OTTMUSG00000008125.1|OTTMUST00000018469.1|Prkaa2-201|Prkaa2|552|\n",
            "|T19E7.2b.1|Caenorhabditis elegans|                pro|Gene.32596::c17238_g1_i1::g.32596::m.32596|  bmy_15253T0|XP_007171592.1|ENSP00000354855.3|ENST00000362042.8|ENSG00000082641.16|OTTHUMG00000178706.5|OTTHUMT00000443019.2|NFE2L1-203|NFE2L1|772|ENSBTAP00000052638.1|ENSMUSP00000005103.5|ENSMUST00000005103.11|ENSMUSG00000029832.16|OTTMUSG00000034271.1|OTTMUST00000087085.1|Nfe2l3-201|Nfe2l3|660|\n",
            "|T01C8.1c.1|Caenorhabditis elegans|                pro|Gene.19593::c14021_g1_i3::g.19593::m.19593|  bmy_01545T0|XP_007164442.1|ENSP00000360290.4|ENST00000371244.9|ENSG00000162409.11|OTTHUMG00000008282.3|OTTHUMT00000022753.3|PRKAA2-201|PRKAA2|552|ENSBTAP00000000017.5|  ENSMUSP00000030243.7|ENSMUST00000030243.7|ENSMUSG00000028518.8|OTTMUSG00000008125.1|OTTMUST00000018469.1|Prkaa2-201|Prkaa2|552|\n",
            "|T19E7.2b.1|Caenorhabditis elegans|                pro|Gene.32596::c17238_g1_i1::g.32596::m.32596|  bmy_15253T0|XP_007171592.1|ENSP00000354855.3|ENST00000362042.8|ENSG00000082641.16|OTTHUMG00000178706.5|OTTHUMT00000443019.2|NFE2L1-203|NFE2L1|772|ENSBTAP00000052638.1|ENSMUSP00000005103.5|ENSMUST00000005103.11|ENSMUSG00000029832.16|OTTMUSG00000034271.1|OTTMUST00000087085.1|Nfe2l3-201|Nfe2l3|660|\n",
            "|T01C8.1c.1|Caenorhabditis elegans|                pro|Gene.19593::c14021_g1_i3::g.19593::m.19593|  bmy_01545T0|XP_007164442.1|ENSP00000360290.4|ENST00000371244.9|ENSG00000162409.11|OTTHUMG00000008282.3|OTTHUMT00000022753.3|PRKAA2-201|PRKAA2|552|ENSBTAP00000000017.5|  ENSMUSP00000030243.7|ENSMUST00000030243.7|ENSMUSG00000028518.8|OTTMUSG00000008125.1|OTTMUST00000018469.1|Prkaa2-201|Prkaa2|552|\n",
            "|T19E7.2b.1|Caenorhabditis elegans|                pro|Gene.32596::c17238_g1_i1::g.32596::m.32596|  bmy_15253T0|XP_007171592.1|ENSP00000354855.3|ENST00000362042.8|ENSG00000082641.16|OTTHUMG00000178706.5|OTTHUMT00000443019.2|NFE2L1-203|NFE2L1|772|ENSBTAP00000052638.1|ENSMUSP00000005103.5|ENSMUST00000005103.11|ENSMUSG00000029832.16|OTTMUSG00000034271.1|OTTMUST00000087085.1|Nfe2l3-201|Nfe2l3|660|\n",
            "|T01C8.1c.1|Caenorhabditis elegans|                pro|Gene.19593::c14021_g1_i3::g.19593::m.19593|  bmy_01545T0|XP_007164442.1|ENSP00000360290.4|ENST00000371244.9|ENSG00000162409.11|OTTHUMG00000008282.3|OTTHUMT00000022753.3|PRKAA2-201|PRKAA2|552|ENSBTAP00000000017.5|  ENSMUSP00000030243.7|ENSMUST00000030243.7|ENSMUSG00000028518.8|OTTMUSG00000008125.1|OTTMUST00000018469.1|Prkaa2-201|Prkaa2|552|\n",
            "|T19E7.2b.1|Caenorhabditis elegans|                pro|Gene.32596::c17238_g1_i1::g.32596::m.32596|  bmy_15253T0|XP_007171592.1|ENSP00000354855.3|ENST00000362042.8|ENSG00000082641.16|OTTHUMG00000178706.5|OTTHUMT00000443019.2|NFE2L1-203|NFE2L1|772|ENSBTAP00000052638.1|ENSMUSP00000005103.5|ENSMUST00000005103.11|ENSMUSG00000029832.16|OTTMUSG00000034271.1|OTTMUST00000087085.1|Nfe2l3-201|Nfe2l3|660|\n",
            "|T01C8.1c.1|Caenorhabditis elegans|                pro|Gene.19593::c14021_g1_i3::g.19593::m.19593|  bmy_01545T0|XP_007164442.1|ENSP00000360290.4|ENST00000371244.9|ENSG00000162409.11|OTTHUMG00000008282.3|OTTHUMT00000022753.3|PRKAA2-201|PRKAA2|552|ENSBTAP00000000017.5|  ENSMUSP00000030243.7|ENSMUST00000030243.7|ENSMUSG00000028518.8|OTTMUSG00000008125.1|OTTMUST00000018469.1|Prkaa2-201|Prkaa2|552|\n",
            "|T19E7.2b.1|Caenorhabditis elegans|                pro|Gene.32596::c17238_g1_i1::g.32596::m.32596|  bmy_15253T0|XP_007171592.1|ENSP00000354855.3|ENST00000362042.8|ENSG00000082641.16|OTTHUMG00000178706.5|OTTHUMT00000443019.2|NFE2L1-203|NFE2L1|772|ENSBTAP00000052638.1|ENSMUSP00000005103.5|ENSMUST00000005103.11|ENSMUSG00000029832.16|OTTMUSG00000034271.1|OTTMUST00000087085.1|Nfe2l3-201|Nfe2l3|660|\n",
            "|T01C8.1c.1|Caenorhabditis elegans|                pro|Gene.19593::c14021_g1_i3::g.19593::m.19593|  bmy_01545T0|XP_007164442.1|ENSP00000360290.4|ENST00000371244.9|ENSG00000162409.11|OTTHUMG00000008282.3|OTTHUMT00000022753.3|PRKAA2-201|PRKAA2|552|ENSBTAP00000000017.5|  ENSMUSP00000030243.7|ENSMUST00000030243.7|ENSMUSG00000028518.8|OTTMUSG00000008125.1|OTTMUST00000018469.1|Prkaa2-201|Prkaa2|552|\n",
            "|T19E7.2b.1|Caenorhabditis elegans|                pro|Gene.32596::c17238_g1_i1::g.32596::m.32596|  bmy_15253T0|XP_007171592.1|ENSP00000354855.3|ENST00000362042.8|ENSG00000082641.16|OTTHUMG00000178706.5|OTTHUMT00000443019.2|NFE2L1-203|NFE2L1|772|ENSBTAP00000005413.3|ENSMUSP00000005103.5|ENSMUST00000005103.11|ENSMUSG00000029832.16|OTTMUSG00000034271.1|OTTMUST00000087085.1|Nfe2l3-201|Nfe2l3|660|\n",
            "|T01C8.1c.1|Caenorhabditis elegans|                pro|Gene.19593::c14021_g1_i3::g.19593::m.19593|  bmy_01545T0|XP_007164442.1|ENSP00000360290.4|ENST00000371244.9|ENSG00000162409.11|OTTHUMG00000008282.3|OTTHUMT00000022753.3|PRKAA2-201|PRKAA2|552|ENSBTAP00000000017.5|  ENSMUSP00000030243.7|ENSMUST00000030243.7|ENSMUSG00000028518.8|OTTMUSG00000008125.1|OTTMUST00000018469.1|Prkaa2-201|Prkaa2|552|\n",
            "+----------+----------------------+-------------------+------------------------------------------+-------------+--------------+----------------------------------------------------------------------------------------------------------------------+--------------------+--------------------------------------------------------------------------------------------------------------------------------+\n",
            "only showing top 20 rows\n",
            "\n"
          ],
          "output_type" : "stream"
        }
      ]
    },
    {
      "cell_type" : "markdown",
      "execution_count" : 16,
      "metadata" : {
        "language" : "text"
      },
      "language" : "text",
      "source" : [
        "## Expressions\n",
        "\n"
      ],
      "outputs" : [
      ]
    },
    {
      "cell_type" : "code",
      "execution_count" : 21,
      "metadata" : {
        "cell.metadata.exec_info" : {
          "startTs" : 1583978935843,
          "endTs" : 1583978935979
        },
        "language" : "scala"
      },
      "language" : "scala",
      "source" : [
        "val whalePath = \"/data/results/gray-whale/\"\n",
        "val expressionsPath = whalePath + \"Expressions/\"\n",
        "val unirefPath = expressionsPath + \"uniref90/\"\n",
        "val transcriptsPath = expressionsPath + \"Transcripts/\"\n",
        "val codingPath = transcriptsPath + \"coding/\"\n",
        "\n",
        "val comparisonsPath = expressionsPath + \"Comparisons/\"\n",
        "val comparisonsUniref = comparisonsPath + \"uniref90_comparisons/\"\n",
        "val annotationsPath = comparisonsPath + \"annotations/\""
      ],
      "outputs" : [
      ]
    },
    {
      "cell_type" : "code",
      "execution_count" : 17,
      "metadata" : {
        "cell.metadata.exec_info" : {
          "startTs" : 1583978939492,
          "endTs" : 1583978939611
        },
        "language" : "scala"
      },
      "language" : "scala",
      "source" : [
        "def loadTranscripts(subpath: String, prefix: String, undot: Boolean = true) = {\n",
        "    val path = if(subpath.startsWith(\"/\")) subpath else transcriptsPath + subpath\n",
        "    val res = spark.readTSV(path, header=true).select($\"Name\".as(\"transcript\"), $\"NumReads\".as(prefix + \"_reads\"), $\"TPM\".as(prefix + \"_TPM\"))\n",
        "    (if(undot) res.withColumn(\"transcript\", undotFun($\"transcript\")) else res).cache \n",
        "}"
      ],
      "outputs" : [
      ]
    },
    {
      "cell_type" : "code",
      "execution_count" : 22,
      "metadata" : {
        "cell.metadata.exec_info" : {
          "startTs" : 1583978943266,
          "endTs" : 1583978944403
        },
        "language" : "scala"
      },
      "language" : "scala",
      "source" : [
        "val gray_liver_tr = loadTranscripts(\"raw/gray_whale/liver/transcripts_quant\", \"gray_whale_liver\", false)\n",
        "val gray_kidney_tr =  loadTranscripts(\"raw/gray_whale/kidney/transcripts_quant\", \"gray_whale_kidney\", false)\n",
        "println((gray_liver_tr.count, gray_kidney_tr.count))\n",
        "gray_liver_tr.show(10,1000)"
      ],
      "outputs" : [
        {
          "name" : "stdout",
          "text" : [
            "(114263,114263)\n",
            "+----------+----------------------+--------------------+\n",
            "|transcript|gray_whale_liver_reads|gray_whale_liver_TPM|\n",
            "+----------+----------------------+--------------------+\n",
            "|  c0_g1_i1|               2.35775|             1.56396|\n",
            "|  c0_g1_i2|               2.64225|            1.878858|\n",
            "|  c3_g1_i1|                   2.0|            1.208575|\n",
            "|  c4_g1_i1|             45.184412|             1.57192|\n",
            "|  c4_g1_i2|              4.815588|             0.33569|\n",
            "|  c5_g1_i1|                   6.0|            1.565579|\n",
            "|  c6_g1_i1|                   5.0|             0.80294|\n",
            "|  c7_g1_i1|                  24.0|            3.393696|\n",
            "|  c8_g1_i1|                  33.0|            3.809589|\n",
            "|  c9_g1_i1|             14.105694|            0.718535|\n",
            "+----------+----------------------+--------------------+\n",
            "only showing top 10 rows\n",
            "\n"
          ],
          "output_type" : "stream"
        }
      ]
    },
    {
      "cell_type" : "code",
      "execution_count" : 32,
      "metadata" : {
        "cell.metadata.exec_info" : {
          "startTs" : 1583978945798,
          "endTs" : 1583978945958
        },
        "language" : "scala"
      },
      "language" : "scala",
      "source" : [
        "def expressionsForLags(df: DataFrame, dfs: Seq[DataFrame], species: String, threshold: Double = 50.0) = {\n",
        " \n",
        " val trs = filterLagsSimple(df, species, threshold).withColumnRenamed(species, \"transcript\")\n",
        " val cols = dfs.foldLeft(List(\"Protein\")){ case (acc, el) => acc ++ el.columns.filter(f=> !f.contains(\"reads\"))}.distinct\n",
        " dfs.foldLeft(trs){ case (acc, el) => acc.join(el, Seq(\"transcript\"))}.select(cols.head, cols.tail:_*).withColumnRenamed(\"transcript\", species+\"_transcript\").distinct\n",
        "}"
      ],
      "outputs" : [
      ]
    },
    {
      "cell_type" : "code",
      "execution_count" : 35,
      "metadata" : {
        "cell.metadata.exec_info" : {
          "startTs" : 1583978947533,
          "endTs" : 1583978949396
        },
        "language" : "scala"
      },
      "language" : "scala",
      "source" : [
        "val gray_whale_lags_expression = expressionsForLags(lags_in_graywhale, Seq(gray_liver_tr, gray_kidney_tr), \"gray_whale\")\n",
        "gray_whale_lags_expression.show(10,1000)"
      ],
      "outputs" : [
        {
          "name" : "stdout",
          "text" : [
            "+-----------+---------------------+--------------------+---------------------+\n",
            "|    Protein|gray_whale_transcript|gray_whale_liver_TPM|gray_whale_kidney_TPM|\n",
            "+-----------+---------------------+--------------------+---------------------+\n",
            "|    YGL064C|         c14623_g1_i1|            0.186365|             0.995612|\n",
            "|FBpp0401456|          c7733_g2_i1|          310.515847|           473.203765|\n",
            "|FBpp0288908|          c4752_g1_i1|            0.875987|             4.148228|\n",
            "| D2023.2a.2|          c7240_g1_i1|          107.172115|            38.781339|\n",
            "|  Y37E3.9.1|          c9180_g2_i1|           57.983029|           184.539534|\n",
            "|FBpp0070917|         c18269_g1_i4|           40.079991|            54.738772|\n",
            "|FBpp0308778|         c10264_g1_i1|          103.186991|           113.593692|\n",
            "| ZK897.1m.1|         c38480_g1_i1|            1.310951|             2.450916|\n",
            "|    YLR371W|         c15530_g1_i2|            0.230202|             0.703873|\n",
            "| F38A6.3d.1|         c15780_g1_i1|            1.627902|             3.813581|\n",
            "+-----------+---------------------+--------------------+---------------------+\n",
            "only showing top 10 rows\n",
            "\n"
          ],
          "output_type" : "stream"
        }
      ]
    },
    {
      "cell_type" : "code",
      "execution_count" : 43,
      "metadata" : {
        "cell.metadata.exec_info" : {
          "startTs" : 1583978949640,
          "endTs" : 1583978950299
        },
        "language" : "scala"
      },
      "language" : "scala",
      "source" : [
        "val minke_liver_tr = loadTranscripts(\"raw/minke_whale/liver/transcripts_quant/quant.sf\", \"minke_liver\",true)\n",
        "val minke_kidney_tr = loadTranscripts(\"raw/minke_whale/kidney/transcripts_quant/quant.sf\", \"minke_kidney\", true)\n",
        "println((minke_liver_tr.count, minke_kidney_tr.count))\n",
        "minke_liver_tr.show(10,1000)"
      ],
      "outputs" : [
        {
          "name" : "stdout",
          "text" : [
            "(37868,37868)\n",
            "+------------+-----------------+---------------+\n",
            "|  transcript|minke_liver_reads|minke_liver_TPM|\n",
            "+------------+-----------------+---------------+\n",
            "|XM_007163932|              0.0|            0.0|\n",
            "|XM_007163933|        71.627944|       1.775091|\n",
            "|XM_007163934|        67.498857|       1.770562|\n",
            "|XM_007163935|         3.158546|       0.138508|\n",
            "|XM_007163936|         6.065339|       0.160186|\n",
            "|XM_007163937|       113.811004|       2.588256|\n",
            "|XM_007163938|              4.0|       0.084003|\n",
            "|XM_007163939|         0.069572|       0.001121|\n",
            "|XM_007163940|        18.574946|       0.304864|\n",
            "|XM_007163941|              0.0|            0.0|\n",
            "+------------+-----------------+---------------+\n",
            "only showing top 10 rows\n",
            "\n"
          ],
          "output_type" : "stream"
        }
      ]
    },
    {
      "cell_type" : "code",
      "execution_count" : 42,
      "metadata" : {
        "cell.metadata.exec_info" : {
          "startTs" : 1583978952907,
          "endTs" : 1583978954641
        },
        "language" : "scala"
      },
      "language" : "scala",
      "source" : [
        "val minke_lags_expression = expressionsForLags(lags_in_minkewhale, Seq(minke_liver_tr, minke_kidney_tr), \"minke_whale\")\n",
        "minke_lags_expression.show(10,1000)"
      ],
      "outputs" : [
        {
          "name" : "stdout",
          "text" : [
            "+-----------+----------------------+---------------+----------------+\n",
            "|    Protein|minke_whale_transcript|minke_liver_TPM|minke_kidney_TPM|\n",
            "+-----------+----------------------+---------------+----------------+\n",
            "|FBpp0080787|          XM_007174215|            0.0|             0.0|\n",
            "|  K12H4.8.1|          XM_007192312|        5.41E-4|             0.0|\n",
            "|FBpp0312092|          XM_007172625|       0.991899|        6.341447|\n",
            "|FBpp0290803|          XM_007165477|            0.0|             0.0|\n",
            "|    YJL062W|          XM_007181529|       5.288851|        7.577712|\n",
            "| C09H10.3.1|          XM_007171145|       0.825031|        1.776809|\n",
            "|FBpp0087929|          XM_007168239|       0.772431|             0.0|\n",
            "| C56G2.1b.2|          XM_007176218|       3.042068|          1.0E-6|\n",
            "|    YHR164C|          XM_007167851|       5.023247|        8.368648|\n",
            "| F28B12.3.2|          XM_007178940|       2.135544|             0.0|\n",
            "+-----------+----------------------+---------------+----------------+\n",
            "only showing top 10 rows\n",
            "\n"
          ],
          "output_type" : "stream"
        }
      ]
    },
    {
      "cell_type" : "code",
      "execution_count" : 27,
      "metadata" : {
        "cell.metadata.exec_info" : {
          "startTs" : 1583978960475,
          "endTs" : 1583978961075
        },
        "language" : "scala"
      },
      "language" : "scala",
      "source" : [
        "val cow_liver_tr = loadTranscripts(\"raw/cow/liver/GSM1020724/quant.sf\", \"cow_liver\")\n",
        "val cow_kidney_tr = loadTranscripts(\"raw/cow/kidney/GSM1020723/quant.sf\", \"cow_kidney\")\n",
        "println((cow_liver_tr.count, cow_kidney_tr.count))\n",
        "cow_liver_tr.show(10,1000)"
      ],
      "outputs" : [
        {
          "name" : "stdout",
          "text" : [
            "(22904,22904)\n",
            "+------------------+---------------+-------------+\n",
            "|        transcript|cow_liver_reads|cow_liver_TPM|\n",
            "+------------------+---------------+-------------+\n",
            "|ENSBTAT00000064726|         2168.0|    41.310949|\n",
            "|ENSBTAT00000030504|         1474.0|    33.032692|\n",
            "|ENSBTAT00000004603|            3.0|     0.031527|\n",
            "|ENSBTAT00000066297|         1197.0|    22.513724|\n",
            "|ENSBTAT00000054517|            0.0|          0.0|\n",
            "|ENSBTAT00000052281|            0.0|          0.0|\n",
            "|ENSBTAT00000056197|            0.0|          0.0|\n",
            "|ENSBTAT00000052768|            0.0|          0.0|\n",
            "|ENSBTAT00000015780|         1333.0|    11.552155|\n",
            "|ENSBTAT00000049620|          159.0|     0.804058|\n",
            "+------------------+---------------+-------------+\n",
            "only showing top 10 rows\n",
            "\n"
          ],
          "output_type" : "stream"
        }
      ]
    },
    {
      "cell_type" : "code",
      "execution_count" : 71,
      "metadata" : {
        "cell.metadata.exec_info" : {
          "startTs" : 1583978973250,
          "endTs" : 1583978974901
        },
        "language" : "scala"
      },
      "language" : "scala",
      "source" : [
        "val cow_lags_expression = expressionsForLags(lags_in_cow, Seq(cow_liver_tr, cow_kidney_tr), \"cow\")\n",
        "cow_lags_expression.show(10,1000)"
      ],
      "outputs" : [
        {
          "name" : "stdout",
          "text" : [
            "+-----------+------------------+-------------+--------------+\n",
            "|    Protein|    cow_transcript|cow_liver_TPM|cow_kidney_TPM|\n",
            "+-----------+------------------+-------------+--------------+\n",
            "| T21H8.1h.1|ENSBTAT00000021483|    12.507328|       9.11233|\n",
            "|FBpp0078779|ENSBTAT00000021683|   192.906893|    294.096266|\n",
            "|    YKL056C|ENSBTAT00000013402|  4409.029239|    3507.87296|\n",
            "|F26D12.1l.2|ENSBTAT00000018905|    11.105422|     14.609954|\n",
            "|FBpp0074822|ENSBTAT00000011976|    26.797805|     37.119717|\n",
            "| ZK897.1c.1|ENSBTAT00000006737|      4.42228|      26.88029|\n",
            "| F55A8.1a.1|ENSBTAT00000026265|     0.463981|     25.359775|\n",
            "|FBpp0078890|ENSBTAT00000022388|     6.899469|      7.918285|\n",
            "|H28O16.1d.7|ENSBTAT00000003259|   269.814607|    809.285228|\n",
            "|FBpp0310640|ENSBTAT00000008535|     2.926829|      7.194492|\n",
            "+-----------+------------------+-------------+--------------+\n",
            "only showing top 10 rows\n",
            "\n"
          ],
          "output_type" : "stream"
        }
      ]
    },
    {
      "cell_type" : "code",
      "execution_count" : 59,
      "metadata" : {
        "cell.metadata.exec_info" : {
          "startTs" : 1583978976451,
          "endTs" : 1583978976993
        },
        "language" : "scala"
      },
      "language" : "scala",
      "source" : [
        "val nmr_liver_tr = loadTranscripts(\"raw/NMR/liver/transcripts_quant/quant.sf\", \"nmr_liver\")\n",
        "val nmr_kidney_tr = loadTranscripts(\"raw/NMR/kidney/transcripts_quant/quant.sf\", \"nmr_kidney\")\n",
        "println((nmr_liver_tr.count, nmr_kidney_tr.count))\n",
        "nmr_liver_tr.show(10,1000)"
      ],
      "outputs" : [
        {
          "name" : "stdout",
          "text" : [
            "(7713,7713)\n",
            "+------------+---------------+-------------+\n",
            "|  transcript|nmr_liver_reads|nmr_liver_TPM|\n",
            "+------------+---------------+-------------+\n",
            "|GEBF01000001|           48.0|    13.173864|\n",
            "|GEBF01000002|            0.0|          0.0|\n",
            "|GEBF01000003|          182.0|    60.981855|\n",
            "|GEBF01000004|            6.0|     1.872549|\n",
            "|GEBF01000005|           11.0|     2.070928|\n",
            "|GEBF01000006|            0.0|          0.0|\n",
            "|GEBF01000007|           83.0|    14.059258|\n",
            "|GEBF01000008|            3.0|     0.299681|\n",
            "|GEBF01000009|         1742.0|  2316.448613|\n",
            "|GEBF01000010|            0.0|          0.0|\n",
            "+------------+---------------+-------------+\n",
            "only showing top 10 rows\n",
            "\n"
          ],
          "output_type" : "stream"
        }
      ]
    },
    {
      "cell_type" : "code",
      "execution_count" : 73,
      "metadata" : {
        "cell.metadata.exec_info" : {
          "startTs" : 1583978978634,
          "endTs" : 1583978980224
        },
        "language" : "scala"
      },
      "language" : "scala",
      "source" : [
        "val nmr_lags_expression = expressionsForLags(lags_in_NMR, Seq(nmr_liver_tr, nmr_kidney_tr), \"nmr\")\n",
        "nmr_lags_expression.show(10,1000)"
      ],
      "outputs" : [
        {
          "name" : "stdout",
          "text" : [
            "+-----------+--------------+-------------+--------------+\n",
            "|    Protein|nmr_transcript|nmr_liver_TPM|nmr_kidney_TPM|\n",
            "+-----------+--------------+-------------+--------------+\n",
            "|    YEL012W|  GEBF01005412|   575.659697|    180.697831|\n",
            "| F01F1.8b.2|  GEBF01007302|   240.739216|    204.222425|\n",
            "|    YGL064C|  GEBF01000111|   109.757993|    116.718397|\n",
            "|  D2030.1.2|  GEBF01007678|    14.411751|      31.33811|\n",
            "| T05A1.5a.1|  GEBF01001255|     0.413249|   1131.234836|\n",
            "|  YER056C-A|  GEBF01006363|   459.824647|     404.48731|\n",
            "|    YGR281W|  GEBF01004679|    40.105963|       5.42533|\n",
            "|FBpp0078396|  GEBF01000167|   784.838957|    141.989843|\n",
            "|FBpp0082821|  GEBF01003225|   101.694353|     91.327127|\n",
            "| W10G6.2a.1|  GEBF01001171|    90.951186|    662.162908|\n",
            "+-----------+--------------+-------------+--------------+\n",
            "only showing top 10 rows\n",
            "\n"
          ],
          "output_type" : "stream"
        }
      ]
    },
    {
      "cell_type" : "code",
      "execution_count" : 61,
      "metadata" : {
        "cell.metadata.exec_info" : {
          "startTs" : 1583978117153,
          "endTs" : 1583978117983
        },
        "language" : "scala"
      },
      "language" : "scala",
      "source" : [
        "val mouse_liver_tr = loadTranscripts(\"raw/mouse/liver/GSM1400574/quant.sf\", \"mouse_liver\")\n",
        "val mouse_kidney_tr = loadTranscripts(\"raw/mouse/kidney/GSM2195188/quant.sf\", \"mouse_kidney\")\n",
        "println((mouse_liver_tr.count, mouse_kidney_tr.count) )\n",
        "mouse_liver_tr.show(10,1000)"
      ],
      "outputs" : [
        {
          "name" : "stdout",
          "text" : [
            "(133618,133618)\n",
            "+-----------------------------------------------------------------------------------------------------------------+-----------------+---------------+\n",
            "|                                                                                                       transcript|mouse_liver_reads|mouse_liver_TPM|\n",
            "+-----------------------------------------------------------------------------------------------------------------+-----------------+---------------+\n",
            "|ENSMUST00000193812.1|ENSMUSG00000102693.1|OTTMUSG00000049935.1|OTTMUST00000127109.1|RP23-271O17.1-001|RP23-271O17|              0.0|            0.0|\n",
            "|                                                                          ENSMUST00000082908.1|ENSMUSG00000064842|              0.0|            0.0|\n",
            "|                     ENSMUST00000162897.1|ENSMUSG00000051951.5|OTTMUSG00000026353.2|OTTMUST00000086625.1|AC157543|              0.0|            0.0|\n",
            "|                     ENSMUST00000159265.1|ENSMUSG00000051951.5|OTTMUSG00000026353.2|OTTMUST00000086624.1|AC157543|              0.0|            0.0|\n",
            "|                     ENSMUST00000070533.4|ENSMUSG00000051951.5|OTTMUSG00000026353.2|OTTMUST00000065166.1|AC157543|              0.0|            0.0|\n",
            "|ENSMUST00000192857.1|ENSMUSG00000102851.1|OTTMUSG00000049958.1|OTTMUST00000127143.1|RP23-317L18.1-001|RP23-317L18|              0.0|            0.0|\n",
            "|ENSMUST00000195335.1|ENSMUSG00000103377.1|OTTMUSG00000049960.1|OTTMUST00000127145.1|RP23-317L18.4-001|RP23-317L18|              0.0|            0.0|\n",
            "|ENSMUST00000192336.1|ENSMUSG00000104017.1|OTTMUSG00000049961.1|OTTMUST00000127146.1|RP23-317L18.3-001|RP23-317L18|              0.0|            0.0|\n",
            "|  ENSMUST00000194099.1|ENSMUSG00000103025.1|OTTMUSG00000049930.1|OTTMUST00000127101.1|RP23-115I1.6-001|RP23-115I1|              0.0|            0.0|\n",
            "|  ENSMUST00000161581.1|ENSMUSG00000089699.1|OTTMUSG00000026352.1|OTTMUST00000065165.1|RP23-115I1.1-001|RP23-115I1|              0.0|            0.0|\n",
            "+-----------------------------------------------------------------------------------------------------------------+-----------------+---------------+\n",
            "only showing top 10 rows\n",
            "\n"
          ],
          "output_type" : "stream"
        }
      ]
    },
    {
      "cell_type" : "code",
      "execution_count" : 74,
      "metadata" : {
        "cell.metadata.exec_info" : {
          "startTs" : 1583978982951,
          "endTs" : 1583978983789
        },
        "language" : "scala"
      },
      "language" : "scala",
      "source" : [
        "filterLags(lags_in_mouse,\"mouse\").show(10, 1000)"
      ],
      "outputs" : [
        {
          "name" : "stdout",
          "text" : [
            "+-----------+------------------------+-------------------+------------------+\n",
            "|    Protein|                Organism|Longevity Influence|             mouse|\n",
            "+-----------+------------------------+-------------------+------------------+\n",
            "|FBpp0089374| Drosophila melanogaster|                pro|ENSMUST00000030243|\n",
            "| F11A1.3c.1|  Caenorhabditis elegans|               null|ENSMUST00000090543|\n",
            "|    YGR204W|Saccharomyces cerevisiae|            fitness|ENSMUST00000021443|\n",
            "| F56B3.8a.1|  Caenorhabditis elegans|               anti|ENSMUST00000002844|\n",
            "| T21H8.1f.1|  Caenorhabditis elegans|                pro|ENSMUST00000040056|\n",
            "|    YCR009C|Saccharomyces cerevisiae|               anti|ENSMUST00000022680|\n",
            "|T05G5.10b.2|  Caenorhabditis elegans|               anti|ENSMUST00000164359|\n",
            "|FBpp0288676| Drosophila melanogaster|                pro|ENSMUST00000106603|\n",
            "|F23B12.8b.1|  Caenorhabditis elegans|                pro|ENSMUST00000012587|\n",
            "|FBpp0074902| Drosophila melanogaster|               anti|ENSMUST00000000793|\n",
            "+-----------+------------------------+-------------------+------------------+\n",
            "only showing top 10 rows\n",
            "\n"
          ],
          "output_type" : "stream"
        }
      ]
    },
    {
      "cell_type" : "code",
      "execution_count" : 75,
      "metadata" : {
        "cell.metadata.exec_info" : {
          "startTs" : 1583978985513,
          "endTs" : 1583978985749
        },
        "language" : "scala"
      },
      "language" : "scala",
      "source" : [
        "val unEncodeFunction = udf[String, String]{ str => undot(str.substring(0, str.indexOf(\"|\")))}\n",
        "def unEncode(df: DataFrame) = df.withColumn(\"transcript\", unEncodeFunction($\"transcript\"))"
      ],
      "outputs" : [
      ]
    },
    {
      "cell_type" : "code",
      "execution_count" : 62,
      "metadata" : {
        "cell.metadata.exec_info" : {
          "startTs" : 1583978987513,
          "endTs" : 1583978990110
        },
        "language" : "scala"
      },
      "language" : "scala",
      "source" : [
        "val mouse_lags_expression = expressionsForLags(lags_in_mouse, Seq(mouse_liver_tr, mouse_kidney_tr).map( unEncode), \"mouse\")\n",
        "mouse_lags_expression.show(10,1000)"
      ],
      "outputs" : [
        {
          "name" : "stdout",
          "text" : [
            "+-----------+------------------+---------------+----------------+\n",
            "|    Protein|  mouse_transcript|mouse_liver_TPM|mouse_kidney_TPM|\n",
            "+-----------+------------------+---------------+----------------+\n",
            "|    YOL126C|ENSMUST00000019323|        93.4509|      278.187632|\n",
            "|  F10B5.1.1|ENSMUST00000076364|     909.446342|      850.953447|\n",
            "|F52D10.3a.3|ENSMUST00000022894|       31.02732|       66.251696|\n",
            "|Y71H2AR.2.1|ENSMUST00000223778|            0.0|             0.0|\n",
            "| D2021.1b.1|ENSMUST00000044484|       1.968125|        2.519344|\n",
            "|F13B10.2d.2|ENSMUST00000081650|     245.310788|      425.781834|\n",
            "| ZK524.2g.1|ENSMUST00000030170|       0.351997|        0.165473|\n",
            "|    YLR382C|ENSMUST00000038863|       8.090383|       39.762013|\n",
            "| K07A12.3.1|ENSMUST00000043675|     252.987738|       986.14427|\n",
            "|    YBL103C|ENSMUST00000203884|            0.0|        0.682382|\n",
            "+-----------+------------------+---------------+----------------+\n",
            "only showing top 10 rows\n",
            "\n"
          ],
          "output_type" : "stream"
        }
      ]
    },
    {
      "cell_type" : "code",
      "execution_count" : 63,
      "metadata" : {
        "cell.metadata.exec_info" : {
          "startTs" : 1583978990112,
          "endTs" : 1583978990828
        },
        "language" : "scala"
      },
      "language" : "scala",
      "source" : [
        "val human_liver_tr = loadTranscripts(\"raw/human/liver/GSM1698568/quant.sf\", \"human_liver\")\n",
        "val human_kidney_tr = loadTranscripts(\"raw/human/kidney/GSM1698570/quant.sf\", \"human_kidney\")\n",
        "println((human_liver_tr.count, human_kidney_tr.count) )\n",
        "human_liver_tr.show(10,1000)"
      ],
      "outputs" : [
        {
          "name" : "stdout",
          "text" : [
            "(203027,203027)\n",
            "+---------------------------------------------------------------------------------------------------------+-----------------+---------------+\n",
            "|                                                                                               transcript|human_liver_reads|human_liver_TPM|\n",
            "+---------------------------------------------------------------------------------------------------------+-----------------+---------------+\n",
            "|                 ENST00000456328.2|ENSG00000223972.5|OTTHUMG00000000961.2|OTTHUMT00000362751.1|RP11-34P13|              0.0|            0.0|\n",
            "|                 ENST00000450305.2|ENSG00000223972.5|OTTHUMG00000000961.2|OTTHUMT00000002844.2|RP11-34P13|              0.0|            0.0|\n",
            "|                 ENST00000488147.1|ENSG00000227232.5|OTTHUMG00000000958.1|OTTHUMT00000002839.1|RP11-34P13|         4.883404|       0.057526|\n",
            "|                                                                        ENST00000619216.1|ENSG00000278267|              0.0|            0.0|\n",
            "|ENST00000473358.1|ENSG00000243485.5|OTTHUMG00000000959.2|OTTHUMT00000002840.1|RP11-34P13.3-001|RP11-34P13|              0.0|            0.0|\n",
            "|ENST00000469289.1|ENSG00000243485.5|OTTHUMG00000000959.2|OTTHUMT00000002841.2|RP11-34P13.3-002|RP11-34P13|              0.0|            0.0|\n",
            "|                                                                        ENST00000607096.1|ENSG00000284332|              0.0|            0.0|\n",
            "|                 ENST00000417324.1|ENSG00000237613.2|OTTHUMG00000000960.1|OTTHUMT00000002842.1|RP11-34P13|              0.0|            0.0|\n",
            "|                 ENST00000461467.1|ENSG00000237613.2|OTTHUMG00000000960.1|OTTHUMT00000002843.1|RP11-34P13|        11.145374|       0.359977|\n",
            "|                 ENST00000606857.1|ENSG00000268020.3|OTTHUMG00000185779.1|OTTHUMT00000471235.1|RP11-34P13|              0.0|            0.0|\n",
            "+---------------------------------------------------------------------------------------------------------+-----------------+---------------+\n",
            "only showing top 10 rows\n",
            "\n"
          ],
          "output_type" : "stream"
        }
      ]
    },
    {
      "cell_type" : "code",
      "execution_count" : 76,
      "metadata" : {
        "cell.metadata.exec_info" : {
          "startTs" : 1583978993542,
          "endTs" : 1583978995978
        },
        "language" : "scala"
      },
      "language" : "scala",
      "source" : [
        "val human_lags_expression = expressionsForLags(lags_in_human, Seq(human_liver_tr, human_kidney_tr).map( unEncode), \"human\")\n",
        "human_lags_expression.show(10,1000)"
      ],
      "outputs" : [
        {
          "name" : "stdout",
          "text" : [
            "+------------+----------------+---------------+----------------+\n",
            "|     Protein|human_transcript|human_liver_TPM|human_kidney_TPM|\n",
            "+------------+----------------+---------------+----------------+\n",
            "|   B0365.3.2| ENST00000295598|      10.797749|      102.233543|\n",
            "|  T13F2.1a.1| ENST00000525094|            0.0|             0.0|\n",
            "|   F44G3.2.1| ENST00000348956|       0.086218|        2.837912|\n",
            "| FBpp0072621| ENST00000419333|       0.051248|             0.0|\n",
            "|  F01F1.8a.1| ENST00000275603|       2.615517|        6.362973|\n",
            "|  T02H6.11.1| ENST00000287022|       0.380222|        1.063411|\n",
            "|     YGR078C| ENST00000286428|       0.913526|        2.711772|\n",
            "|  K08E5.2b.2| ENST00000433363|       3.997244|             0.0|\n",
            "|   C01F1.2.1| ENST00000255390|       0.634887|        0.808296|\n",
            "|Y54E10BL.6.1| ENST00000307102|       1.132638|        1.053082|\n",
            "+------------+----------------+---------------+----------------+\n",
            "only showing top 10 rows\n",
            "\n"
          ],
          "output_type" : "stream"
        }
      ]
    },
    {
      "cell_type" : "code",
      "execution_count" : 23,
      "metadata" : {
        "cell.metadata.exec_info" : {
          "startTs" : 1583978995980,
          "endTs" : 1583978997527
        },
        "language" : "scala"
      },
      "language" : "scala",
      "source" : [
        "//val quants_base = \"/data/samples/de_novo/bat/quants/ours\"\n",
        "val bat_liver_1 = loadTranscripts(\"raw/bat/quant_bat_liver_active_1/quant.sf\", \"bat_liver\")\n",
        "val bat_kidney_1 = loadTranscripts(\"raw/bat/quant_bat_kidney_active_1/quant.sf\", \"bat_kidney\")\n",
        "val bat_liver_2 = loadTranscripts(\"raw/bat/quant_bat_liver_active_2/quant.sf\", \"bat_liver_2\")\n",
        "val bat_kidney_2 = loadTranscripts(\"raw/bat/quant_bat_kidney_active_2/quant.sf\", \"bat_kidney_2\")\n",
        "println((bat_liver_1.count, bat_kidney_2.count))\n",
        "bat_liver_1.show(10,1000)"
      ],
      "outputs" : [
        {
          "name" : "stdout",
          "text" : [
            "(408411,408411)\n",
            "+----------------------------+---------------+-------------+\n",
            "|                  transcript|bat_liver_reads|bat_liver_TPM|\n",
            "+----------------------------+---------------+-------------+\n",
            "| NODE_1_length_17988_cov_580|       2131.249|     2.849032|\n",
            "|  NODE_2_length_17947_cov_75|       3916.057|     5.768584|\n",
            "|  NODE_3_length_17149_cov_48|       1329.291|     2.802971|\n",
            "| NODE_4_length_16953_cov_143|       5417.553|    11.308167|\n",
            "|  NODE_5_length_16927_cov_28|        667.796|     1.503753|\n",
            "|  NODE_6_length_16768_cov_80|        135.463|     0.206226|\n",
            "|  NODE_7_length_16714_cov_42|        493.287|     1.240009|\n",
            "|  NODE_8_length_16515_cov_85|        623.855|     0.971752|\n",
            "|  NODE_9_length_16383_cov_85|        183.466|     0.285428|\n",
            "|NODE_10_length_16149_cov_140|         348.75|     0.777149|\n",
            "+----------------------------+---------------+-------------+\n",
            "only showing top 10 rows\n",
            "\n"
          ],
          "output_type" : "stream"
        }
      ]
    },
    {
      "cell_type" : "code",
      "execution_count" : 66,
      "metadata" : {
        "cell.metadata.exec_info" : {
          "startTs" : 1583978999049,
          "endTs" : 1583979001587
        },
        "language" : "scala"
      },
      "language" : "scala",
      "source" : [
        "val bat_lags_expression = expressionsForLags(lags_in_bat, Seq(bat_liver_1, bat_kidney_1), \"bat\")\n",
        "bat_lags_expression.show(10,1000)"
      ],
      "outputs" : [
        {
          "name" : "stdout",
          "text" : [
            "+-----------+------------------------------+-------------+--------------+\n",
            "|    Protein|                bat_transcript|bat_liver_TPM|bat_kidney_TPM|\n",
            "+-----------+------------------------------+-------------+--------------+\n",
            "| F11A1.3a.1| NODE_2187_length_5899_cov_269|     1.488213|     18.967196|\n",
            "| F58B3.5c.1|NODE_35539_length_1399_cov_144|     8.683969|     20.666786|\n",
            "|  K05C4.1.1| NODE_28969_length_1697_cov_81|     6.887901|      4.182846|\n",
            "| R13H8.1b.1| NODE_1040_length_7086_cov_213|      3.38475|      6.885604|\n",
            "|FBpp0082680|  NODE_3606_length_5087_cov_21|     0.534704|      2.468411|\n",
            "|F26F4.10a.2|NODE_18533_length_2406_cov_151|          0.0|      0.628313|\n",
            "|FBpp0100079|NODE_30038_length_1642_cov_355|    13.638469|     16.102531|\n",
            "|  F14F4.3.1|  NODE_1592_length_6403_cov_89|     8.595544|       6.36736|\n",
            "|  YBR084C-A|NODE_53737_length_889_cov_2912|   244.671627|    405.914312|\n",
            "|FBpp0289741| NODE_2880_length_5453_cov_106|     0.299941|      0.132011|\n",
            "+-----------+------------------------------+-------------+--------------+\n",
            "only showing top 10 rows\n",
            "\n"
          ],
          "output_type" : "stream"
        }
      ]
    },
    {
      "cell_type" : "code",
      "execution_count" : 78,
      "metadata" : {
        "cell.metadata.exec_info" : {
          "startTs" : 1583979001589,
          "endTs" : 1583979002706
        },
        "language" : "scala"
      },
      "language" : "scala",
      "source" : [
        "val bowhead_liver_tr = loadTranscripts(\"raw/bowhead/liver/transcripts_quant/quant.sf\", \"bowhead_whale_liver\", false)\n",
        "val bowhead_kidney_tr = loadTranscripts(\"raw/bowhead/kidney/transcripts_quant/quant.sf\", \"bowhead_whale_kidney\", false)\n",
        "println((bowhead_liver_tr.count, bowhead_kidney_tr.count) )\n",
        "bowhead_liver_tr.show(10,1000)"
      ],
      "outputs" : [
        {
          "name" : "stdout",
          "text" : [
            "(423657,1059024)\n",
            "+----------------------------------+-------------------------+-----------------------+\n",
            "|                        transcript|bowhead_whale_liver_reads|bowhead_whale_liver_TPM|\n",
            "+----------------------------------+-------------------------+-----------------------+\n",
            "|000872-000883_All_comp1777_c1_seq1|                  1.03144|                1.01615|\n",
            "|000872-000883_All_comp1777_c1_seq2|                      0.0|                    0.0|\n",
            "|000872-000883_All_comp1777_c1_seq3|                  15.5346|                31.2996|\n",
            "|000872-000883_All_comp1777_c3_seq1|                      6.0|                18.8227|\n",
            "|000872-000883_All_comp1852_c0_seq1|                      8.0|                2.13903|\n",
            "|000872-000883_All_comp1852_c1_seq1|                  397.264|                 25.142|\n",
            "|000872-000883_All_comp1852_c1_seq2|                     59.0|                4.72196|\n",
            "|000872-000883_All_comp1852_c1_seq3|                  28.8846|                2.45446|\n",
            "|000872-000883_All_comp1852_c1_seq4|                  191.115|                18.5092|\n",
            "|000872-000883_All_comp1852_c1_seq5|                  127.746|                12.4471|\n",
            "+----------------------------------+-------------------------+-----------------------+\n",
            "only showing top 10 rows\n",
            "\n"
          ],
          "output_type" : "stream"
        }
      ]
    },
    {
      "cell_type" : "code",
      "execution_count" : 77,
      "metadata" : {
        "cell.metadata.exec_info" : {
          "startTs" : 1583979004480,
          "endTs" : 1583979005183
        },
        "language" : "scala"
      },
      "language" : "scala",
      "source" : [
        "val human_liver_tr = loadTranscripts(\"raw/human/liver/GSM1698568/quant.sf\", \"human_liver\")\n",
        "val human_kidney_tr = loadTranscripts(\"raw/human/kidney/GSM1698570/quant.sf\", \"human_kidney\")\n",
        "println((human_liver_tr.count, human_kidney_tr.count) )\n",
        "human_liver_tr.show(10,1000)"
      ],
      "outputs" : [
        {
          "name" : "stdout",
          "text" : [
            "(203027,203027)\n",
            "+---------------------------------------------------------------------------------------------------------+-----------------+---------------+\n",
            "|                                                                                               transcript|human_liver_reads|human_liver_TPM|\n",
            "+---------------------------------------------------------------------------------------------------------+-----------------+---------------+\n",
            "|                 ENST00000456328.2|ENSG00000223972.5|OTTHUMG00000000961.2|OTTHUMT00000362751.1|RP11-34P13|              0.0|            0.0|\n",
            "|                 ENST00000450305.2|ENSG00000223972.5|OTTHUMG00000000961.2|OTTHUMT00000002844.2|RP11-34P13|              0.0|            0.0|\n",
            "|                 ENST00000488147.1|ENSG00000227232.5|OTTHUMG00000000958.1|OTTHUMT00000002839.1|RP11-34P13|         4.883404|       0.057526|\n",
            "|                                                                        ENST00000619216.1|ENSG00000278267|              0.0|            0.0|\n",
            "|ENST00000473358.1|ENSG00000243485.5|OTTHUMG00000000959.2|OTTHUMT00000002840.1|RP11-34P13.3-001|RP11-34P13|              0.0|            0.0|\n",
            "|ENST00000469289.1|ENSG00000243485.5|OTTHUMG00000000959.2|OTTHUMT00000002841.2|RP11-34P13.3-002|RP11-34P13|              0.0|            0.0|\n",
            "|                                                                        ENST00000607096.1|ENSG00000284332|              0.0|            0.0|\n",
            "|                 ENST00000417324.1|ENSG00000237613.2|OTTHUMG00000000960.1|OTTHUMT00000002842.1|RP11-34P13|              0.0|            0.0|\n",
            "|                 ENST00000461467.1|ENSG00000237613.2|OTTHUMG00000000960.1|OTTHUMT00000002843.1|RP11-34P13|        11.145374|       0.359977|\n",
            "|                 ENST00000606857.1|ENSG00000268020.3|OTTHUMG00000185779.1|OTTHUMT00000471235.1|RP11-34P13|              0.0|            0.0|\n",
            "+---------------------------------------------------------------------------------------------------------+-----------------+---------------+\n",
            "only showing top 10 rows\n",
            "\n"
          ],
          "output_type" : "stream"
        }
      ]
    },
    {
      "cell_type" : "code",
      "execution_count" : 79,
      "metadata" : {
        "cell.metadata.exec_info" : {
          "startTs" : 1583979006978,
          "endTs" : 1583979009440
        },
        "language" : "scala"
      },
      "language" : "scala",
      "source" : [
        "val human_lags_expression = expressionsForLags(lags_in_human, Seq(human_liver_tr, human_kidney_tr).map( unEncode), \"human\")\n",
        "human_lags_expression.show(10,1000)"
      ],
      "outputs" : [
        {
          "name" : "stdout",
          "text" : [
            "+------------+----------------+---------------+----------------+\n",
            "|     Protein|human_transcript|human_liver_TPM|human_kidney_TPM|\n",
            "+------------+----------------+---------------+----------------+\n",
            "|   B0365.3.2| ENST00000295598|      10.797749|      102.233543|\n",
            "|  T13F2.1a.1| ENST00000525094|            0.0|             0.0|\n",
            "|   F44G3.2.1| ENST00000348956|       0.086218|        2.837912|\n",
            "| FBpp0072621| ENST00000419333|       0.051248|             0.0|\n",
            "|  F01F1.8a.1| ENST00000275603|       2.615517|        6.362973|\n",
            "|  T02H6.11.1| ENST00000287022|       0.380222|        1.063411|\n",
            "|     YGR078C| ENST00000286428|       0.913526|        2.711772|\n",
            "|  K08E5.2b.2| ENST00000433363|       3.997244|             0.0|\n",
            "|   C01F1.2.1| ENST00000255390|       0.634887|        0.808296|\n",
            "|Y54E10BL.6.1| ENST00000307102|       1.132638|        1.053082|\n",
            "+------------+----------------+---------------+----------------+\n",
            "only showing top 10 rows\n",
            "\n"
          ],
          "output_type" : "stream"
        }
      ]
    },
    {
      "cell_type" : "code",
      "execution_count" : 81,
      "metadata" : {
        "cell.metadata.exec_info" : {
          "startTs" : 1583979120557,
          "endTs" : 1583979120706
        },
        "language" : "scala"
      },
      "language" : "scala",
      "source" : [
        "val lag_fields = Seq(\"Protein\", \"Organism\", \"Longevity Influence\")"
      ],
      "outputs" : [
      ]
    },
    {
      "cell_type" : "code",
      "execution_count" : 80,
      "metadata" : {
        "cell.metadata.exec_info" : {
          "startTs" : 1583979274349,
          "endTs" : 1583979302310
        },
        "language" : "scala"
      },
      "language" : "scala",
      "source" : [
        "val fields = Seq(\"Protein\")\n",
        "val allLagsExpression = gray_whale_lags_expression\n",
        "    .join(minke_lags_expression, fields, \"outer\")\n",
        "    .join(human_lags_expression, fields, \"outer\")\n",
        "    .join(nmr_lags_expression, fields, \"outer\")\n",
        "    .join(bat_lags_expression, fields, \"outer\")\n",
        "    .join(cow_lags_expression, fields, \"outer\")\n",
        "    .join(mouse_lags_expression, fields, \"outer\")\n",
        "    println(allLagsExpression.count)\n",
        "    allLagsExpression.show(10,10000)"
      ],
      "outputs" : [
        {
          "name" : "stdout",
          "text" : [
            "2895\n",
            "+-----------+---------------------+--------------------+---------------------+----------------------+---------------+----------------+----------------+---------------+----------------+--------------+-------------+--------------+------------------------------+-------------+--------------+------------------+-------------+--------------+------------------+---------------+----------------+\n",
            "|    Protein|gray_whale_transcript|gray_whale_liver_TPM|gray_whale_kidney_TPM|minke_whale_transcript|minke_liver_TPM|minke_kidney_TPM|human_transcript|human_liver_TPM|human_kidney_TPM|nmr_transcript|nmr_liver_TPM|nmr_kidney_TPM|                bat_transcript|bat_liver_TPM|bat_kidney_TPM|    cow_transcript|cow_liver_TPM|cow_kidney_TPM|  mouse_transcript|mouse_liver_TPM|mouse_kidney_TPM|\n",
            "+-----------+---------------------+--------------------+---------------------+----------------------+---------------+----------------+----------------+---------------+----------------+--------------+-------------+--------------+------------------------------+-------------+--------------+------------------+-------------+--------------+------------------+---------------+----------------+\n",
            "| C47E12.2.2|         c71632_g1_i1|           29.589392|           424.737125|          XM_007177934|       1.875069|             0.0| ENST00000281154|            0.0|             0.0|  GEBF01000145|   188.649196|    193.668645|NODE_20092_length_2277_cov_871|     7.021859|     98.897732|              null|         null|          null|ENSMUST00000016463|     414.589015|      941.528572|\n",
            "|F07A11.6c.1|                 null|                null|                 null|          XM_007175040|      64.544454|      105.114634| ENST00000375759|       0.522919|        1.412297|          null|         null|          null|                          null|         null|          null|              null|         null|          null|              null|           null|            null|\n",
            "|F41E6.13b.1|         c14037_g1_i1|           12.014413|             7.869646|          XM_007187105|       2.701765|             0.0| ENST00000401525|       0.077287|        0.610048|  GEBF01006513|    27.326863|     23.930237|  NODE_5066_length_4549_cov_93|     5.538514|      5.255915|ENSBTAT00000016002|    35.501186|     42.662517|ENSMUST00000110778|       1.962668|        5.785968|\n",
            "|  F54C1.7.8|          c9489_g1_i1|            5.195434|             2.683813|                  null|           null|            null| ENST00000372555|       0.050678|        0.097671|  GEBF01006792| 17727.348262|      5.104173|NODE_45101_length_1084_cov_155|    13.228956|     24.935788|              null|         null|          null|ENSMUST00000103095|            0.0|             0.0|\n",
            "|FBpp0078405|         c10844_g1_i1|            8.548069|            25.075397|          XM_007196949|        0.23899|             0.0| ENST00000367384|       1.555367|        1.581043|          null|         null|          null| NODE_53419_length_895_cov_296|    23.701118|     20.794175|              null|         null|          null|ENSMUST00000162606|       6.365926|        9.445787|\n",
            "|FBpp0079071|         c15082_g1_i1|            3.526169|             8.636706|          XM_007176480|      73.249748|       26.180627| ENST00000259021|       0.201135|        0.641093|  GEBF01001118|    42.973566|     13.354753| NODE_8077_length_3772_cov_136|     6.613632|     15.186387|ENSBTAT00000024887|    10.004736|     35.819865|ENSMUST00000092766|       2.665595|             0.0|\n",
            "|H42K12.1a.1|         c80756_g1_i1|            0.341751|              2.66967|          XM_007181682|       0.728109|             0.0| ENST00000342085|       1.001636|        2.276419|  GEBF01000266|    31.107362|     16.085332|  NODE_938_length_7292_cov_178|    13.168316|     14.872869|ENSBTAT00000039021|     0.076941|       0.11091|ENSMUST00000102927|       5.265666|        8.390906|\n",
            "| K06A1.6b.1|         c18896_g1_i1|            6.203201|             1.706876|                  null|           null|            null| ENST00000424189|            0.0|         0.04806|  GEBF01004955|     1.836935|           0.0| NODE_5547_length_4399_cov_229|    10.852224|     12.791898|ENSBTAT00000026616|     0.173409|      0.150596|ENSMUST00000090314|            0.0|             0.0|\n",
            "| K08E5.2b.2|          c3431_g1_i1|            7.044328|           127.511412|          XM_007177468|       7.090811|        17.79491| ENST00000433363|       3.997244|             0.0|  GEBF01007350|     1.722601|      23.03843|NODE_14319_length_2838_cov_213|     0.564314|      8.432355|              null|         null|          null|ENSMUST00000021161|       0.471911|             0.0|\n",
            "| M02B7.3b.1|         c59469_g1_i1|            0.469552|             5.908992|          XM_007193359|       8.696985|       63.834805| ENST00000375712|        1.37879|        4.351279|  GEBF01001635|    15.355657|       2.97482| NODE_26369_length_1845_cov_44|          0.0|      0.034489|ENSBTAT00000004174|    11.303066|      46.23259|ENSMUST00000105821|            0.0|             0.0|\n",
            "+-----------+---------------------+--------------------+---------------------+----------------------+---------------+----------------+----------------+---------------+----------------+--------------+-------------+--------------+------------------------------+-------------+--------------+------------------+-------------+--------------+------------------+---------------+----------------+\n",
            "only showing top 10 rows\n",
            "\n"
          ],
          "output_type" : "stream"
        }
      ]
    },
    {
      "cell_type" : "code",
      "execution_count" : 82,
      "metadata" : {
        "cell.metadata.exec_info" : {
          "startTs" : 1583979407792,
          "endTs" : 1583979408818
        },
        "language" : "scala"
      },
      "language" : "scala",
      "source" : [
        "val con = new Concatenate(\" \", unique = true)\n",
        "val genage_agg =genage_conversion.na.fill(\"null\").select(lag_fields.head, lag_fields.tail:_*).groupBy($\"Protein\")\n",
        ".agg(con($\"Organism\").as(\"Organism\"), con($\"Longevity Influence\").as(\"Longevity Influence\"))\n",
        ".filter(row=>row.getAs[String](\"Longevity Influence\").size < 100)\n",
        ".orderBy(lag_fields(1), lag_fields(2))\n",
        "genage_agg.show(10,1000)\n"
      ],
      "outputs" : [
        {
          "name" : "stdout",
          "text" : [
            "+-----------+----------------------+-------------------+\n",
            "|    Protein|              Organism|Longevity Influence|\n",
            "+-----------+----------------------+-------------------+\n",
            "| C27B7.7a.1|Caenorhabditis elegans|               anti|\n",
            "| C51E3.7c.1|Caenorhabditis elegans|               anti|\n",
            "| D2030.9b.2|Caenorhabditis elegans|               anti|\n",
            "|F26D12.1k.1|Caenorhabditis elegans|               anti|\n",
            "| F55A8.2c.2|Caenorhabditis elegans|               anti|\n",
            "|F55G11.5a.1|Caenorhabditis elegans|               anti|\n",
            "| K07A3.1a.1|Caenorhabditis elegans|               anti|\n",
            "| T01A4.1a.1|Caenorhabditis elegans|               anti|\n",
            "|T25C12.1b.1|Caenorhabditis elegans|               anti|\n",
            "| W10G6.2a.1|Caenorhabditis elegans|               anti|\n",
            "+-----------+----------------------+-------------------+\n",
            "only showing top 10 rows\n",
            "\n"
          ],
          "output_type" : "stream"
        }
      ]
    },
    {
      "cell_type" : "code",
      "execution_count" : 91,
      "metadata" : {
        "cell.metadata.exec_info" : {
          "startTs" : 1583979685839,
          "endTs" : 1583979702700
        },
        "language" : "scala"
      },
      "language" : "scala",
      "source" : [
        "val allLags_t = genage_agg.join(allLagsExpression, \"Protein\").orderBy(lag_fields(1), lag_fields(2))\n",
        "val cols = allLags_t.columns\n",
        "val trs = cols.filter(_.contains(\"transcript\"))\n",
        "val reordered = cols.diff(trs)++trs\n",
        "val allLags = allLags_t.select(allLags_t.columns.head, reordered.tail:_*).cache\n",
        "allLags.show(10, 1000)"
      ],
      "outputs" : [
        {
          "name" : "stdout",
          "text" : [
            "+-----------+----------------------+-------------------+--------------------+---------------------+---------------+----------------+---------------+----------------+-------------+--------------+-------------+--------------+-------------+--------------+---------------+----------------+---------------------+----------------------+----------------+--------------+------------------------------+------------------+------------------+\n",
            "|    Protein|              Organism|Longevity Influence|gray_whale_liver_TPM|gray_whale_kidney_TPM|minke_liver_TPM|minke_kidney_TPM|human_liver_TPM|human_kidney_TPM|nmr_liver_TPM|nmr_kidney_TPM|bat_liver_TPM|bat_kidney_TPM|cow_liver_TPM|cow_kidney_TPM|mouse_liver_TPM|mouse_kidney_TPM|gray_whale_transcript|minke_whale_transcript|human_transcript|nmr_transcript|                bat_transcript|    cow_transcript|  mouse_transcript|\n",
            "+-----------+----------------------+-------------------+--------------------+---------------------+---------------+----------------+---------------+----------------+-------------+--------------+-------------+--------------+-------------+--------------+---------------+----------------+---------------------+----------------------+----------------+--------------+------------------------------+------------------+------------------+\n",
            "| C47E12.2.2|Caenorhabditis elegans|               anti|           29.589392|           424.737125|       1.875069|             0.0|            0.0|             0.0|   188.649196|    193.668645|     7.021859|     98.897732|         null|          null|     414.589015|      941.528572|         c71632_g1_i1|          XM_007177934| ENST00000281154|  GEBF01000145|NODE_20092_length_2277_cov_871|              null|ENSMUST00000016463|\n",
            "|H42K12.1a.1|Caenorhabditis elegans|               anti|            0.341751|              2.66967|       0.728109|             0.0|       1.001636|        2.276419|    31.107362|     16.085332|    13.168316|     14.872869|     0.076941|       0.11091|       5.265666|        8.390906|         c80756_g1_i1|          XM_007181682| ENST00000342085|  GEBF01000266|  NODE_938_length_7292_cov_178|ENSBTAT00000039021|ENSMUST00000102927|\n",
            "| K06A1.6b.1|Caenorhabditis elegans|               anti|            6.203201|             1.706876|           null|            null|            0.0|         0.04806|     1.836935|           0.0|    10.852224|     12.791898|     0.173409|      0.150596|            0.0|             0.0|         c18896_g1_i1|                  null| ENST00000424189|  GEBF01004955| NODE_5547_length_4399_cov_229|ENSBTAT00000026616|ENSMUST00000090314|\n",
            "| K08E5.2b.2|Caenorhabditis elegans|               anti|            7.044328|           127.511412|       7.090811|        17.79491|       3.997244|             0.0|     1.722601|      23.03843|     0.564314|      8.432355|         null|          null|       0.471911|             0.0|          c3431_g1_i1|          XM_007177468| ENST00000433363|  GEBF01007350|NODE_14319_length_2838_cov_213|              null|ENSMUST00000021161|\n",
            "| M02B7.3b.1|Caenorhabditis elegans|               anti|            0.469552|             5.908992|       8.696985|       63.834805|        1.37879|        4.351279|    15.355657|       2.97482|          0.0|      0.034489|    11.303066|      46.23259|            0.0|             0.0|         c59469_g1_i1|          XM_007193359| ENST00000375712|  GEBF01001635| NODE_26369_length_1845_cov_44|ENSBTAT00000004174|ENSMUST00000105821|\n",
            "| T01A4.1d.1|Caenorhabditis elegans|               anti|            5.849252|            16.360168|            0.0|             0.0|       0.429047|        1.508685|          0.0|      1.828403|     2.082649|      7.105171|     3.598678|     27.232807|        4.23863|         8.43312|         c17882_g1_i4|          XM_007178605| ENST00000368680|  GEBF01004161|  NODE_6837_length_4051_cov_91|ENSBTAT00000008184|ENSMUST00000029540|\n",
            "|  W09H1.5.1|Caenorhabditis elegans|               anti|            7.028394|            19.056351|       0.137853|             0.0|          0.434|        0.540856|     31.73904|     55.455185|     7.847419|      7.995202|    21.829285|     59.141501|      16.412579|       29.905162|         c60158_g1_i1|          XM_007170617| ENST00000263702|  GEBF01003239|NODE_24248_length_1975_cov_121|ENSBTAT00000022932|ENSMUST00000030742|\n",
            "| C27B7.7a.1|Caenorhabditis elegans|               anti|                null|                 null|      13.852042|       32.115064|           null|            null|         null|          null|         null|          null|         null|          null|            0.0|             0.0|                 null|          XM_007197313|            null|          null|                          null|              null|ENSMUST00000114943|\n",
            "| C51E3.7c.1|Caenorhabditis elegans|               anti|           29.807768|             7.399146|        1.58421|        1.335729|            0.0|        0.022869|     0.205508|      0.064356|     1.175982|      0.522748|         null|          null|            0.0|             0.0|          c2534_g1_i1|          XM_007181892| ENST00000377899|  GEBF01004221| NODE_1064_length_7060_cov_668|              null|ENSMUST00000028905|\n",
            "| D2030.9b.2|Caenorhabditis elegans|               anti|            6.657861|             3.773133|       2.204076|             0.0|       1.533707|        0.562348|   180.231113|    371.103721|     0.926041|      0.479843|    98.031253|     54.794037|      33.738094|       32.474774|         c15633_g1_i1|          XM_007180661| ENST00000559115|  GEBF01004968| NODE_1100_length_7006_cov_288|ENSBTAT00000028515|ENSMUST00000117236|\n",
            "+-----------+----------------------+-------------------+--------------------+---------------------+---------------+----------------+---------------+----------------+-------------+--------------+-------------+--------------+-------------+--------------+---------------+----------------+---------------------+----------------------+----------------+--------------+------------------------------+------------------+------------------+\n",
            "only showing top 10 rows\n",
            "\n"
          ],
          "output_type" : "stream"
        }
      ]
    },
    {
      "cell_type" : "code",
      "execution_count" : 92,
      "metadata" : {
        "cell.metadata.exec_info" : {
          "startTs" : 1583979888355,
          "endTs" : 1583979889068
        },
        "language" : "scala"
      },
      "language" : "scala",
      "source" : [
        "allLags.writeTSV(\"/data/results/gray-whale/lags/all_lags_comparison.tsv\")"
      ],
      "outputs" : [
        {
          "name" : "stdout",
          "text" : [
            "parts of /data/results/gray-whale/lags/all_lags_comparison.tsv merged!\n"
          ],
          "output_type" : "stream"
        },
        {
          "execution_count" : 92,
          "data" : {
            "text/plain" : [
              "/data/results/gray-whale/lags/all_lags_comparison.tsv"
            ]
          },
          "metadata" : {
            "name" : "Out",
            "type" : "String"
          },
          "output_type" : "execute_result"
        }
      ]
    },
    {
      "cell_type" : "code",
      "execution_count" : 93,
      "metadata" : {
        "language" : "scala"
      },
      "language" : "scala",
      "source" : [
      ],
      "outputs" : [
      ]
    }
  ]
}