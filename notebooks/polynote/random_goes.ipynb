{
  "metadata" : {
    "config" : {
      "dependencies" : {
        "scala" : [
          "org.bdgenomics.adam:adam-core-spark2_2.12:0.30.0",
          "group.research.aging:spark-extensions_2.12:0.0.8",
          "org.bdgenomics.adam:adam-core-spark2_2.12:0.30.0"
        ]
      },
      "exclusions" : [
      ],
      "repositories" : [
        {
          "maven" : {
            "base" : "http://central.maven.org/maven2/"
          }
        },
        {
          "maven" : {
            "base" : "http://oss.sonatype.org/content/repositories/snapshots"
          }
        },
        {
          "maven" : {
            "base" : "https://dl.bintray.com/comp-bio-aging/main/"
          }
        }
      ],
      "sparkConfig" : {
        "" : "http://spark:7070[16]"
      }
    }
  },
  "nbformat" : 4,
  "nbformat_minor" : 0,
  "cells" : [
    {
      "cell_type" : "markdown",
      "execution_count" : 0,
      "metadata" : {
        "language" : "text"
      },
      "language" : "text",
      "source" : [
        "# random goes\n",
        "\n",
        "This is a text cell. Start editing!"
      ],
      "outputs" : [
      ]
    },
    {
      "cell_type" : "code",
      "execution_count" : 1,
      "metadata" : {
        "cell.metadata.exec_info" : {
          "startTs" : 1583918425361,
          "endTs" : 1583918425603
        },
        "language" : "scala"
      },
      "language" : "scala",
      "source" : [
        "import org.apache.spark._\n",
        "import org.apache.spark.sql.types._\n",
        "import scala.reflect.runtime.universe._\n",
        "import org.apache.spark.storage.StorageLevel\n",
        "import org.apache.spark.rdd._\n",
        "import org.apache.spark.sql._\n",
        "import org.apache.spark.sql.functions._\n",
        "import org.apache.spark.sql.expressions._\n",
        "import group.research.aging.spark.extensions._\n",
        "import group.research.aging.spark.extensions.functions._\n",
        "import kernel.display.html\n",
        "import org.apache.spark.ml.feature.PCAModel\n",
        "import org.apache.spark.ml.feature.PCA\n",
        "import org.apache.spark.ml.linalg.Matrix\n",
        "import org.apache.spark.ml.stat.Correlation\n",
        "import org.apache.spark.sql.expressions._"
      ],
      "outputs" : [
      ]
    },
    {
      "cell_type" : "code",
      "execution_count" : 2,
      "metadata" : {
        "cell.metadata.exec_info" : {
          "startTs" : 1583918427194,
          "endTs" : 1583918427518
        },
        "language" : "scala"
      },
      "language" : "scala",
      "source" : [
        "//adds index to make it easier to join the dataframes\n",
        "def addIndex(df: DataFrame) = spark.createDataFrame(\n",
        "  // Add index\n",
        "  df.rdd.zipWithIndex.map{case (r, i) => Row.fromSeq(r.toSeq :+ i)},\n",
        "  // Create schema\n",
        "  StructType(df.schema.fields :+ StructField(\"_index\", LongType, false))\n",
        ")\n",
        "\n"
      ],
      "outputs" : [
      ]
    },
    {
      "cell_type" : "code",
      "execution_count" : 3,
      "metadata" : {
        "cell.metadata.exec_info" : {
          "startTs" : 1583918429123,
          "endTs" : 1583918429429
        },
        "language" : "scala"
      },
      "language" : "scala",
      "source" : [
        "def round2(v: Double): Double =  Math.round(100.0 * v) / 100.0 \n",
        "def log2(x: Double): Double = Math.log10(x) / Math.log10(2.0)\n",
        "def log20(x: Double): Double = Math.log10(x) / Math.log10(2.0)\n",
        "\n",
        "\n",
        "def safeLog(v: Double): Double = if(v.isNaN || v <= 1) 0.0 else round2(Math.log10(v)) \n",
        "def safeLog20(v: Double): Double = if(v.isNaN || v <= 1) 0.0 else round2(log20(v)) \n",
        "\n",
        "\n",
        "def logs(df: DataFrame, cols: List[String]) = {\n",
        "  val fun = udf[Double, Double](safeLog)\n",
        "  cols.foldLeft(df){\n",
        "    case (acc, c) => acc.withColumn(c, fun(new ColumnName(c)))\n",
        "  }\n",
        "}"
      ],
      "outputs" : [
      ]
    },
    {
      "cell_type" : "code",
      "execution_count" : 4,
      "metadata" : {
        "cell.metadata.exec_info" : {
          "startTs" : 1583918431291,
          "endTs" : 1583918431838
        },
        "language" : "scala"
      },
      "language" : "scala",
      "source" : [
        "def coord(i: Int): UserDefinedFunction = udf[Double, org.apache.spark.ml.linalg.Vector]{ vec => vec(i) }\n",
        "val x_udf = coord(0)\n",
        "val y_udf = coord(1)\n",
        "val z_udf = coord(2)"
      ],
      "outputs" : [
      ]
    },
    {
      "cell_type" : "code",
      "execution_count" : 5,
      "metadata" : {
        "jupyter.outputs_hidden" : true,
        "cell.metadata.exec_info" : {
          "startTs" : 1583918444925,
          "endTs" : 1583918445054
        },
        "language" : "scala"
      },
      "language" : "scala",
      "source" : [
        "import polynote.runtime.KernelRuntime\n",
        "def script_import(src: String)(implicit kernel: KernelRuntime) =  kernel.display.html(s\"\"\"<script  src=\"${src}\" charset=\"utf-8\"></script>\"\"\")\n",
        "def plotly()(implicit kernel: KernelRuntime) = script_import(\"https://cdn.plot.ly/plotly-latest.js\")(kernel)\n"
      ],
      "outputs" : [
      ]
    },
    {
      "cell_type" : "code",
      "execution_count" : 6,
      "metadata" : {
        "cell.metadata.exec_info" : {
          "startTs" : 1583918446654,
          "endTs" : 1583918446780
        },
        "language" : "scala"
      },
      "language" : "scala",
      "source" : [
        "def div(id: String)(implicit kernel: KernelRuntime) = kernel.display.html(s\"\"\"<div id=\"${id}\"></div>\"\"\")"
      ],
      "outputs" : [
      ]
    },
    {
      "cell_type" : "code",
      "execution_count" : 7,
      "metadata" : {
        "cell.metadata.exec_info" : {
          "startTs" : 1583918448502,
          "endTs" : 1583918448844
        },
        "language" : "scala"
      },
      "language" : "scala",
      "source" : [
        "def seq2StringArray(seq: Seq[String]) = \"[\" + seq.map(\"\\\"\" + _ + \"\\\"\").mkString(\",\") + \"]\" \n",
        "def seq2NumArray(seq: scala.collection.Seq[Double]) =  \"[\" + seq.mkString(\",\") + \"]\" \n",
        "def collectVec(vec: DataFrame): Array[Array[Double]] = vec.map{case org.apache.spark.sql.Row(v: org.apache.spark.ml.linalg.Vector) => v.toArray}.as[Array[Double]].collect"
      ],
      "outputs" : [
      ]
    },
    {
      "cell_type" : "code",
      "execution_count" : 8,
      "metadata" : {
        "cell.metadata.exec_info" : {
          "startTs" : 1583918450443,
          "endTs" : 1583918450988
        },
        "language" : "scala"
      },
      "language" : "scala",
      "source" : [
        "def for_heatmap(vec: DataFrame, id: String, x: Seq[String], y: Seq[String], title: String,  \n",
        "left: Int = 300, top: Int = 250, width: Int = 1200, height: Int = 1000, \n",
        "labels: Boolean = true, logData: Boolean = false, logAnnotations: Boolean = false, \n",
        "colorScale: String = \"RdBu\", inverse: Boolean = false, showScale: Boolean = true,\n",
        " zmin: Double = 0.0, zmax: Double = 0.0, dataFontSize: Int = 16, tickFontSize: Int = 24, tickAngle: String = \"auto\"): String = {\n",
        "    \n",
        "val cv: Array[Array[Double]] = collectVec(vec)\n",
        "val numbers = cv.map(arr=>arr.map(n => round2(n))) //val vs = if(inverse) {val max: Double =numbers.map(_.max).max numbers.map(arr => arr.map(max - _)) } else numbers\n",
        "val data =        numbers.map(arr=>seq2NumArray(arr.map{number=> if(logData) safeLog(number) else number })).mkString(\",\")\n",
        "val annotations = numbers.map(arr=>seq2NumArray(arr.map{number=> if(logAnnotations) safeLog(number) else number })).mkString(\",\")\n",
        "val start = s\"\"\"\n",
        "var layout = {\n",
        "  title: '${title}',\n",
        "  annotations: [],\n",
        "  margin: {\n",
        "    l: ${left},\n",
        "    r: 125,\n",
        "    t: ${top},\n",
        "    b: 50\n",
        "  },\n",
        "  width: ${width},\n",
        "  height: ${height},\n",
        "  xaxis: {\n",
        "    side: 'top',\n",
        "    tickfont: {\n",
        "      size: ${tickFontSize}\n",
        "    },\n",
        "    tickangle: '${tickAngle}'\n",
        "  },\n",
        "  yaxis: {\n",
        "    side: 'left',\n",
        "    autorange: 'reversed',\n",
        "    tickfont: {\n",
        "      size: ${tickFontSize}\n",
        "    }\n",
        "  },\n",
        "};\n",
        "\n",
        "var xValues = ${seq2StringArray(x)}\n",
        "var yValues =  ${seq2StringArray(y)}\n",
        "var zValues =  [${data}]\n",
        "var aValues =  [${annotations}]\n",
        "\n",
        "\"\"\"\n",
        "val end = s\"\"\"\n",
        "var data = [{\n",
        "   x: xValues,\n",
        "   y: yValues,\n",
        "   z: zValues,\n",
        "   ${if(zmin < zmax) \"zmin: \" + zmin + \", zmax: \"+ zmax + \",\"  else \"\"}\n",
        "   colorscale: '${colorScale}', ${if(showScale) \"\" else \" showscale: false ,\"}\n",
        "   type: 'heatmap' ${if(inverse) \", reversescale: true\" else \"\"}\n",
        " }];\n",
        " Plotly.newPlot('${id}', data, layout);\n",
        "\"\"\"\n",
        "\n",
        "val middle = s\"\"\"\n",
        "for ( var i = 0; i < yValues.length; i++ ) {\n",
        "  for ( var j = 0; j < xValues.length; j++ ) {\n",
        "    var currentValue = zValues[i][j];\n",
        "    if (currentValue != 0.0) {\n",
        "      var textColor = 'white';\n",
        "    }else{\n",
        "      var textColor = 'black';\n",
        "    }\n",
        "    var result = {\n",
        "      xref: 'x1',\n",
        "      yref: 'y1',\n",
        "      x: xValues[j],\n",
        "      y: yValues[i],\n",
        "      text: aValues[i][j],\n",
        "      font: {\n",
        "        family: 'Arial',\n",
        "        size: 5,\n",
        "        color: 'rgb(50, 171, 96)'\n",
        "      },\n",
        "      showarrow: false,\n",
        "      font: {\n",
        "        color: textColor,\n",
        "        size: '${dataFontSize}'\n",
        "      }\n",
        "    };\n",
        "    layout.annotations.push(result);\n",
        "  }\n",
        "}\n",
        "\"\"\"\n",
        "val res: String = if(labels) start + middle + end else start + end\n",
        "//script(res, \"drawing heatmap\")\n",
        " s\"\"\"<script type=\"text/javascript\" charset=\"utf-8\">${res}</script>\n",
        "    <h3>${id} heatmap has been displayed</h3>\"\"\"\n",
        "}\n",
        "\n",
        "def for_makeHeatmap(df: DataFrame, label: String, features: Seq[String], \n",
        "div: String, title: String, left: Int = 300, top: Int = 300,\n",
        " width: Int = 1000, height: Int = 1000, labels: Boolean = true, \n",
        " logData: Boolean = false, logAnnotations: Boolean = false, \n",
        " colorScale: String = \"RdBu\", inverse: Boolean = false, showScale: Boolean = true, \n",
        " zmin: Double = 0.0, zmax: Double = 0.0, names: List[String] = List.empty[String], \n",
        "//dataFontSize: Int = 16, tickFontSize: Int = 24, tickAngle: String = \"auto\"\n",
        "dataFontSize: Int = 18, tickFontSize: Int = 20, tickAngle: String = \"-30\"\n",
        "): String = {\n",
        "    val y = df.select(label).as[String].collect.toList\n",
        "    val x = if(names.isEmpty) features.toList else names\n",
        "    val vec = df.toVectors(features, \"features\")\n",
        "    for_heatmap(vec, div, x, y, title, left, top, width, height, labels, logData, logAnnotations, colorScale, inverse, showScale, zmin, zmax, dataFontSize = dataFontSize, tickFontSize = tickFontSize, tickAngle = tickAngle)\n",
        "}\n",
        "\n"
      ],
      "outputs" : [
      ]
    },
    {
      "cell_type" : "code",
      "execution_count" : 9,
      "metadata" : {
        "cell.metadata.exec_info" : {
          "startTs" : 1583918454207,
          "endTs" : 1583918454390
        },
        "language" : "scala"
      },
      "language" : "scala",
      "source" : [
        "def makeHeatmap(df: DataFrame, label: String, features: Seq[String], \n",
        "div: String, title: String, left: Int = 300, top: Int = 300,\n",
        " width: Int = 1000, height: Int = 1000, labels: Boolean = true, \n",
        " logData: Boolean = false, logAnnotations: Boolean = false, \n",
        " colorScale: String = \"RdBu\", inverse: Boolean = false, showScale: Boolean = true, \n",
        " zmin: Double = 0.0, zmax: Double = 0.0, names: List[String] = List.empty[String], \n",
        "//dataFontSize: Int = 16, tickFontSize: Int = 24, tickAngle: String = \"auto\"\n",
        "dataFontSize: Int = 18, tickFontSize: Int = 20, tickAngle: String = \"-30\"\n",
        ")(implicit kernel: KernelRuntime) = {\n",
        "    val str = for_makeHeatmap(df,label, features, \n",
        "    div, title, left, top, \n",
        "    width, height, labels,\n",
        "    logData,logAnnotations,\n",
        "    colorScale, inverse, showScale, \n",
        "    zmin, zmax, names, \n",
        "    dataFontSize, tickFontSize, tickAngle)\n",
        "    kernel.display.html(str)\n",
        "}"
      ],
      "outputs" : [
      ]
    },
    {
      "cell_type" : "code",
      "execution_count" : 10,
      "metadata" : {
        "cell.metadata.exec_info" : {
          "startTs" : 1583918456398,
          "endTs" : 1583918456543
        },
        "language" : "scala"
      },
      "language" : "scala",
      "source" : [
        "\n",
        "html(s\"\"\"<script src=\"https://cdn.plot.ly/plotly-latest.js\" charset=\"utf-8\"></script><h1>Activate plotly!</h1>\"\"\")"
      ],
      "outputs" : [
        {
          "data" : {
            "text/html" : [
              "<script src=\"https://cdn.plot.ly/plotly-latest.js\" charset=\"utf-8\"></script><h1>Activate plotly!</h1>"
            ]
          },
          "output_type" : "display_data"
        }
      ]
    },
    {
      "cell_type" : "markdown",
      "execution_count" : 11,
      "metadata" : {
        "language" : "text"
      },
      "language" : "text",
      "source" : [
        "### Pathes\n",
        "\n",
        "\n"
      ],
      "outputs" : [
      ]
    },
    {
      "cell_type" : "code",
      "execution_count" : 12,
      "metadata" : {
        "cell.metadata.exec_info" : {
          "startTs" : 1583918458471,
          "endTs" : 1583918458759
        },
        "language" : "scala"
      },
      "language" : "scala",
      "source" : [
        "//General Pathes\n",
        "val dataPath = \"/data/\"\n",
        "val databasesPath = dataPath + \"databases/\"\n",
        "val resultsPath = dataPath + \"results/\"\n",
        "val whalePath = resultsPath + \"gray-whale/\"\n",
        "//Indexes\n",
        "val indexesPath = dataPath + \"indexes/\"\n",
        "val reactomePath = indexesPath + \"reactome/\"\n",
        "//Expressions Pathes\n",
        "val expressionsPath = whalePath + \"Expressions/\"\n",
        "val unirefPath = expressionsPath + \"uniref90/\"\n",
        "//Comparison folder\n",
        "val comparisonsPath = expressionsPath + \"Comparisons/\"\n",
        "val comparisonsUniref = comparisonsPath + \"uniref90_comparisons/\"\n",
        "\n",
        "val annotationsPath = comparisonsPath + \"annotations/\"\n",
        "//GO pathes\n",
        "val byGoPath = expressionsPath + \"GO/\"\n",
        "val grouped = byGoPath + \"grouped/\" + \"updated/\"\n",
        "val ranked = grouped + \"ranked/\"\n",
        "\n",
        "val figuresPath = expressionsPath + \"Figures/\"\n",
        "val comparison = byGoPath + \"gray_whale_with_bowhead_with_minke_with_NMR_with_human_with_mouse_with_cow_full_outer_counts_extended.tsv\""
      ],
      "outputs" : [
      ]
    },
    {
      "cell_type" : "code",
      "execution_count" : 13,
      "metadata" : {
        "cell.metadata.exec_info" : {
          "startTs" : 1583918460403,
          "endTs" : 1583918494415
        },
        "language" : "scala"
      },
      "language" : "scala",
      "source" : [
        "//val goTable    = spark.readTSV(comparison, true)\n",
        "val components = spark.readTSV(grouped + \"by_cellular_component_ranked.tab\"  , true)\n",
        "val processes  = spark.readTSV(grouped + \"by_biological_process_ranked.tab\"  , true)\n",
        "val functions  = spark.readTSV(grouped + \"by_molecular_function_ranked.tab\"  , true)"
      ],
      "outputs" : [
      ]
    },
    {
      "cell_type" : "code",
      "execution_count" : 14,
      "metadata" : {
        "cell.metadata.exec_info" : {
          "startTs" : 1583918494431,
          "endTs" : 1583918494438
        },
        "language" : "scala"
      },
      "language" : "scala",
      "source" : [
        "/*\n",
        "import scala.collection.immutable._\n",
        " val longevity = ListMap(\n",
        "    \"human\" -> 122.5,\n",
        "    \"bowhead whale\" -> 211.0,\n",
        "    \"gray whale\" -> 77.0,\n",
        "    \"minke whale\" -> 50,\n",
        "    \"brandt's bat\"   -> 41.0,\n",
        "    \"naked mole rat\" -> 31.0,\n",
        "    \"cow\" -> 20.0,\n",
        "    \"house mouse\" -> 4.0    )\n",
        "val featuresMap: ListMap[String, String] = ListMap(\n",
        " \"bowhead_whale_liver\" -> \"Bowhead whale liver\" ,\n",
        " \"gray_whale_liver\" -> \"Gray whale liver\",\n",
        " \"minke_liver\" -> \"Minke whale liver\",\n",
        "\"human_liver\" -> \"Human liver\",\n",
        "\"bat_liver_1\" -> \"Bat 1 liver\",\n",
        "\"bat_liver_2\" -> \"Bat 2 liver\",\n",
        "\"NMR_liver\" -> \"Naked mole rat liver\",\n",
        " \"cow_totalRNA_liver\" -> \"Cow 1 liver\",\n",
        "\"cow_mRNA_liver\" -> \"Cow 2 liver\",\n",
        " \"mouse_totalRNA_liver\" -> \"Mouse 1 liver\",\n",
        "\"mouse_mRNA_liver\" -> \"Mouse 2 liver\",\n",
        " \"bowhead_whale_kidney\" -> \"Bowhead whale kidney\",\n",
        "\"gray_whale_kidney\" -> \"Gray whale kidney\",\n",
        "\"minke_kidney\" -> \"Minke whale kidney\",\n",
        "\"human_kidney\" -> \"Human kidney\",\n",
        "\"bat_kidney_1\" -> \"Bat 1 kidney\",\n",
        "\"bat_kidney_2\" -> \"Bat 2 kidney\",\n",
        "\"NMR_kidney\" -> \"Naked mole rat kidney\",\n",
        "\"cow_totalRNA_kidney\" -> \"Cow 1 kidney\",\n",
        "\"cow_mRNA_kidney\" -> \"Cow 2 kidney\",\n",
        " \"mouse_totalRNA_kidney\" -> \"Mouse 1 kidney\",\n",
        "\"mouse_mRNA_kidney\"->\"Mouse 2 kidney\")\n",
        "\n",
        "val prettyFeatures = featuresMap.values.toList//.map(v=> \"`\"+v+\"`\")\n",
        "val prettyLiverFeatures = prettyFeatures.filter(_.contains(\"liver\"))\n",
        "val prettyKidneyFeatures = prettyFeatures.filter(_.contains(\"kidney\"))\n",
        "\n",
        "val featuresOrdered = featuresMap.keys.toList\n",
        "val liverFeatures = featuresOrdered.filter(_.contains(\"liver\"))\n",
        "val kidneyFeatures = featuresOrdered.filter(_.contains(\"kidney\"))\n",
        "\n",
        "def prettyName(df: DataFrame, cols: Seq[String]) = df.rename(featuresMap).select(cols.head, (cols.tail++prettyFeatures):_* )\n",
        "\n",
        "val featuresMapRanked: ListMap[String, String] = ListMap(\n",
        "\"bowhead_whale_liver_rank\" -> \"Bowhead whale liver\",\n",
        "\"gray_whale_liver_rank\" -> \"Gray whale liver\",\n",
        "\"minke_liver_rank\" -> \"Minke whale liver\",\n",
        "\"human_liver_rank\" -> \"Human liver\",\n",
        "\"bat_liver_1_rank\" -> \"Bat 1 liver\",\n",
        "\"bat_liver_2_rank\" -> \"Bat 2 liver\",\n",
        "\"NMR_liver_rank\" -> \"Naked mole rat liver\",\n",
        "\"cow_totalRNA_liver_rank\" -> \"Cow 1 liver\",\n",
        "\"cow_mRNA_liver_rank\" -> \"Cow 2 liver\",\n",
        "\"mouse_totalRNA_liver_rank\" -> \"Mouse 1 liver\",\n",
        "\"mouse_mRNA_liver_rank\" -> \"Mouse 2 liver\",\n",
        "\"bowhead_whale_kidney_rank\"->\"Bowhead whale kidney\",\n",
        "\"gray_whale_kidney_rank\" -> \"Gray whale kidney\",\n",
        "\"minke_kidney_rank\" -> \"Minke whale kidney\",\n",
        "\"human_kidney_rank\" -> \"Human kidney\",\n",
        "\"bat_kidney_1_rank\" -> \"Bat 1 kidney\",\n",
        "\"bat_kidney_2_rank\" -> \"Bat 2 kidney\",\n",
        "\"NMR_kidney_rank\" -> \"Naked mole rat kidney\",\n",
        "\"cow_totalRNA_kidney_rank\" -> \"Cow 1 kidney\",\n",
        "\"cow_mRNA_kidney_rank\" -> \"Cow 2 kidney\",\n",
        "\"mouse_totalRNA_kidney_rank\" -> \"Mouse 1 kidney\",\n",
        "\"mouse_mRNA_kidney_rank\"->\"Mouse 2 kidney\"\n",
        ")\n",
        "\n",
        "val prettyFeaturesRanked = featuresMapRanked.values.toList//.map(v=> \"`\"+v+\"`\")\n",
        "val prettyLiverFeaturesRanked = prettyFeaturesRanked.filter(_.contains(\"liver\"))\n",
        "val prettyKidneyFeaturesRanked = prettyFeaturesRanked.filter(_.contains(\"kidney\"))\n",
        "\n",
        "val featuresOrderedRanked = featuresMapRanked.keys.toList\n",
        "val liverFeaturesRanked = featuresOrderedRanked.filter(_.contains(\"liver\"))\n",
        "val kidneyFeaturesRanked = featuresOrderedRanked.filter(_.contains(\"kidney\"))\n",
        "\n",
        "def rename(str: String) = featuresMap(str)\n",
        "val renameUDF = udf(rename _)\n",
        "/*"
      ],
      "outputs" : [
        {
          "execution_count" : 14,
          "data" : {
            "application/json" : [
              {
                "pos" : {
                  "sourceId" : "Cell14",
                  "start" : 0,
                  "end" : 0,
                  "point" : 0
                },
                "msg" : "unclosed comment",
                "severity" : 2
              }
            ],
            "text/plain" : [
              "Error: unclosed comment (0)"
            ]
          },
          "metadata" : {
            "rel" : "compiler_errors"
          },
          "output_type" : "execute_result"
        }
      ]
    },
    {
      "cell_type" : "code",
      "execution_count" : 62,
      "metadata" : {
        "cell.metadata.exec_info" : {
          "startTs" : 1583918494440,
          "endTs" : 1583918496764
        },
        "language" : "scala"
      },
      "language" : "scala",
      "source" : [
        "import scala.collection.immutable._\n",
        " val longevity = ListMap(\n",
        "    \"human\" -> 122.5,\n",
        "    \"bowhead whale\" -> 211.0,\n",
        "    \"gray whale\" -> 77.0,\n",
        "    \"minke whale\" -> 50,\n",
        "    \"brandt's bat\"   -> 41.0,\n",
        "    \"naked mole rat\" -> 31.0,\n",
        "    \"cow\" -> 20.0,\n",
        "    \"house mouse\" -> 4.0    )\n",
        "val featuresMap: ListMap[String, String] = ListMap(\n",
        " \"bowhead_whale_liver\" -> \"Bowhead whale liver\" ,\n",
        " \"gray_whale_liver\" -> \"Gray whale liver\",\n",
        " \"minke_liver\" -> \"Minke whale liver\",\n",
        "\"human_liver\" -> \"Human liver\",\n",
        "\"bat_liver_1\" ->\"Bat liver\", //\"Bat 1 liver\",\n",
        "//\"bat_liver_2\" -> \"Bat 2 liver\",\n",
        "\"NMR_liver\" -> \"Naked mole rat liver\",\n",
        " \"cow_totalRNA_liver\" -> \"Cow liver\",//\"Cow 1 liver\",\n",
        "//\"cow_mRNA_liver\" -> \"Cow 2 liver\",\n",
        " \"mouse_totalRNA_liver\" -> \"Mouse liver\",//\"Mouse 1 liver\",\n",
        "//\"mouse_mRNA_liver\" -> \"Mouse 2 liver\",\n",
        " \"bowhead_whale_kidney\" -> \"Bowhead whale kidney\",\n",
        "\"gray_whale_kidney\" -> \"Gray whale kidney\",\n",
        "\"minke_kidney\" -> \"Minke whale kidney\",\n",
        "\"human_kidney\" -> \"Human kidney\",\n",
        "\"bat_kidney_1\" -> \"Bat kidney\",//\"Bat 1 kidney\",\n",
        "//\"bat_kidney_2\" -> \"Bat 2 kidney\",\n",
        "\"NMR_kidney\" -> \"Naked mole rat kidney\",\n",
        "\"cow_totalRNA_kidney\" ->\"Cow kidney\", //\"Cow 1 kidney\",\n",
        "//\"cow_mRNA_kidney\" -> \"Cow 2 kidney\",\n",
        " \"mouse_totalRNA_kidney\" ->\"Mouse kidney\" //\"Mouse 1 kidney\"//,\"mouse_mRNA_kidney\"->\"Mouse 2 kidney\"\n",
        ")\n",
        "\n",
        "val prettyFeatures = featuresMap.values.toList//.map(v=> \"`\"+v+\"`\")\n",
        "val prettyLiverFeatures = prettyFeatures.filter(_.contains(\"liver\"))\n",
        "val prettyKidneyFeatures = prettyFeatures.filter(_.contains(\"kidney\"))\n",
        "\n",
        "val featuresOrdered = featuresMap.keys.toList\n",
        "val liverFeatures = featuresOrdered.filter(_.contains(\"liver\"))\n",
        "val kidneyFeatures = featuresOrdered.filter(_.contains(\"kidney\"))\n",
        "\n",
        "def prettyName(df: DataFrame, cols: Seq[String]) = df.rename(featuresMap).select(cols.head, (cols.tail++prettyFeatures):_* )\n",
        "\n",
        "val featuresMapRanked: ListMap[String, String] = ListMap(\n",
        "\"bowhead_whale_liver_rank\" -> \"Bowhead whale liver\",\n",
        "\"gray_whale_liver_rank\" -> \"Gray whale liver\",\n",
        "\"minke_liver_rank\" -> \"Minke whale liver\",\n",
        "\"human_liver_rank\" -> \"Human liver\",\n",
        "\"bat_liver_1_rank\" ->\"Bat liver\", //\"Bat 1 liver\",\n",
        "//\"bat_liver_2_rank\" -> \"Bat 2 liver\",\n",
        "\"NMR_liver_rank\" -> \"Naked mole rat liver\",\n",
        "\"cow_totalRNA_liver_rank\" ->\"Cow liver\", //\"Cow 1 liver\",\n",
        "//\"cow_mRNA_liver_rank\" -> \"Cow 2 liver\",\n",
        "\"mouse_totalRNA_liver_rank\" -> \"Mouse liver\",//\"Mouse 1 liver\",\n",
        "//\"mouse_mRNA_liver_rank\" -> \"Mouse 2 liver\",\n",
        "\"bowhead_whale_kidney_rank\"->\"Bowhead whale kidney\",\n",
        "\"gray_whale_kidney_rank\" -> \"Gray whale kidney\",\n",
        "\"minke_kidney_rank\" -> \"Minke whale kidney\",\n",
        "\"human_kidney_rank\" -> \"Human kidney\",\n",
        "\"bat_kidney_1_rank\" -> \"Bat kidney\",//\"Bat 1 kidney\",\n",
        "//\"bat_kidney_2_rank\" -> \"Bat 2 kidney\",\n",
        "\"NMR_kidney_rank\" -> \"Naked mole rat kidney\",\n",
        "\"cow_totalRNA_kidney_rank\" -> \"Cow kidney\",//,\"Cow 1 kidney\",\n",
        "//\"cow_mRNA_kidney_rank\" -> \"Cow 2 kidney\",\n",
        "\"mouse_totalRNA_kidney_rank\" -> \"Mouse kidney\" //\"Mouse 1 kidney\",\n",
        "//\"mouse_mRNA_kidney_rank\"->\"Mouse 2 kidney\"\n",
        ")\n",
        "\n",
        "val prettyFeaturesRanked = featuresMapRanked.values.toList//.map(v=> \"`\"+v+\"`\")\n",
        "val prettyLiverFeaturesRanked = prettyFeaturesRanked.filter(_.contains(\"liver\"))\n",
        "val prettyKidneyFeaturesRanked = prettyFeaturesRanked.filter(_.contains(\"kidney\"))\n",
        "\n",
        "val featuresOrderedRanked = featuresMapRanked.keys.toList\n",
        "val liverFeaturesRanked = featuresOrderedRanked.filter(_.contains(\"liver\"))\n",
        "val kidneyFeaturesRanked = featuresOrderedRanked.filter(_.contains(\"kidney\"))\n",
        "\n",
        "def rename(str: String) = featuresMap(str)\n",
        "val renameUDF = udf(rename _)"
      ],
      "outputs" : [
      ]
    },
    {
      "cell_type" : "code",
      "execution_count" : 15,
      "metadata" : {
        "cell.metadata.exec_info" : {
          "startTs" : 1583918507571,
          "endTs" : 1583918508247
        },
        "language" : "scala"
      },
      "language" : "scala",
      "source" : [
        "val all_pro = processes.select(\"go\", featuresOrdered:_*).na.fill(0.0).sort($\"bowhead_whale_liver\".desc)\n",
        "val liver_pro = processes.select(\"go\", liverFeatures:_*).na.fill(0.0).sort($\"bowhead_whale_liver\".desc)\n",
        "val kidney_pro = processes.select(\"go\", kidneyFeatures:_*).na.fill(0.0).sort($\"bowhead_whale_kidney\".desc)\n",
        "//and ranked\n",
        "val all_pro_ranked = processes.select(\"go\", featuresOrdered:_*).na.fill(0.0).sort($\"bowhead_whale_liver\".desc)\n",
        "val liver_pro_ranked = processes.select(\"go\", liverFeaturesRanked:_*).na.fill(0.0).sort($\"bowhead_whale_liver\".desc)\n",
        "val kidney_pro_ranked = processes.select(\"go\", kidneyFeaturesRanked:_*).na.fill(0.0).sort($\"bowhead_whale_kidney\".desc)\n",
        "all_pro.show(10, 10000)"
      ],
      "outputs" : [
        {
          "name" : "stdout",
          "text" : [
            "+----------+-------------------+------------------+------------------+------------------+------------------+------------------+------------------+--------------------+--------------------+------------------+------------------+------------------+------------------+------------------+-------------------+---------------------+\n",
            "|        go|bowhead_whale_liver|  gray_whale_liver|       minke_liver|       human_liver|       bat_liver_1|         NMR_liver|cow_totalRNA_liver|mouse_totalRNA_liver|bowhead_whale_kidney| gray_whale_kidney|      minke_kidney|      human_kidney|      bat_kidney_1|        NMR_kidney|cow_totalRNA_kidney|mouse_totalRNA_kidney|\n",
            "+----------+-------------------+------------------+------------------+------------------+------------------+------------------+------------------+--------------------+--------------------+------------------+------------------+------------------+------------------+------------------+-------------------+---------------------+\n",
            "|GO:0006412| 20034.802301962056| 58727.85268499997|      58984.534049| 5245.888943999999|11611.469454000002| 99321.06117499995|      66453.233819|  19875.159683999995|   7580.873805999998| 58516.40469099998| 83876.08076099999|4572.8019749999985|18173.991675999998| 68055.43613499998|  69545.42429499998|         40136.835409|\n",
            "|GO:0007165| 11456.244697941876| 6345.571518000001| 17049.13610699998|1871.5450460000013| 2159.331408000001| 5745.532362000001|34819.135545000005|   9690.572680000001|   730.4105399999999|       3046.372351| 6794.475674000003|1041.1421799999996| 3362.026449000002|15650.777031999995|  6107.394953999999|   4040.2445849999995|\n",
            "|GO:0030168|  9649.878922000002|4825.8970690000015|      14085.401642|       1058.395809|6044.7883120000015| 887.6625829999999|      10698.901304|  1729.4141550000004|  110.74727799999997|         735.49409|1004.8954389999998|134.17107599999997|        500.761714|11081.015959999999|         237.670793|   159.42827300000002|\n",
            "|GO:0051258|         9473.79854|4646.9995340000005|      13621.621028|1904.3595319999997|       4992.405234|          4.505929|      34760.626846|         8140.634027|           35.290827|        390.045118|280.32039199999997|         22.633872|         64.715187|      10497.265408|         347.760066|   1375.6564609999998|\n",
            "|GO:0007596|  8261.123065465594| 3650.397700999999| 9578.134696000001|2022.9721479999994|       1914.796432|       1057.343777| 6076.552737000001|   8268.755888000002|  142.51655499999998|        415.402641|       1427.116824|244.82055299999996| 848.1574680000002|       3242.578244| 1322.5566060000006|           908.046408|\n",
            "|GO:0006364|  8108.256701089998| 19892.75400300001|      20716.442639|3773.3374890000014|1701.6177480000006|      27889.193586|       8758.324353|         4860.838548|  3307.1603040000005|      19910.099414|      28506.682685|3318.7875520000016|2853.8925899999995|17208.674091999997|        8957.417896|   10758.778921000001|\n",
            "|GO:0042730|          8078.0922|3309.0822060000005| 8968.183581000001|1513.7249979999997| 4307.617244000001|           35.7291|30018.726055000003|  10014.604452000001|           42.979186|         72.845263|        282.935956|55.952070000000006|          86.00301|        425.171844|         311.428844|   343.68039000000005|\n",
            "|GO:0007160| 8011.7799435978595|       3514.362597|       9694.115787|1338.0888310000003| 4186.213390000001|2956.9987519999995|26311.580453000002|   8527.982918000003|   221.2542039999999| 660.4580200000003|1603.5128189999996|155.04945099999995|        687.870778| 3729.490719999999| 2381.9974030000008|          2062.065106|\n",
            "|GO:0045087|  7901.101709800991|       4463.351691|      10726.086148|       1825.327767| 643.9128840000002|2013.6806940000001|       6444.564144|  12411.395827999997|  294.76042099999995|1424.4476120000002|3201.3703599999985| 548.6701509999998| 618.4295549999998| 3330.051005999999|  4164.684584999999|    3932.793525999999|\n",
            "|GO:0070374|  7832.403063938196| 4188.585928999999|10169.680851000005|       1156.087434|       4109.915139|2548.6227659999995|32183.952483000005|         8594.919118|   307.6169800000001|       1547.229481| 3425.431567000001|        195.298921| 902.3067980000003|1808.7892720000002|  5123.760668000001|    3119.757872999999|\n",
            "+----------+-------------------+------------------+------------------+------------------+------------------+------------------+------------------+--------------------+--------------------+------------------+------------------+------------------+------------------+------------------+-------------------+---------------------+\n",
            "only showing top 10 rows\n",
            "\n"
          ],
          "output_type" : "stream"
        }
      ]
    },
    {
      "cell_type" : "code",
      "execution_count" : 16,
      "metadata" : {
        "cell.metadata.exec_info" : {
          "startTs" : 1583918510042,
          "endTs" : 1583918515976
        },
        "language" : "scala"
      },
      "language" : "scala",
      "source" : [
        "(all_pro.count,all_pro.distinct.count, all_pro.select(\"go\").distinct.count)"
      ],
      "outputs" : [
        {
          "execution_count" : 16,
          "data" : {
            "text/plain" : [
              "(12369,12369,12369)"
            ]
          },
          "metadata" : {
            "name" : "Out",
            "type" : "Tuple3[Long, Long, Long]"
          },
          "output_type" : "execute_result"
        }
      ]
    },
    {
      "cell_type" : "markdown",
      "execution_count" : 17,
      "metadata" : {
        "language" : "text"
      },
      "language" : "text",
      "source" : [
        "### Distributions of GO figures\n",
        "\n",
        "\n"
      ],
      "outputs" : [
      ]
    },
    {
      "cell_type" : "code",
      "execution_count" : 18,
      "metadata" : {
        "cell.metadata.exec_info" : {
          "startTs" : 1583918515979,
          "endTs" : 1583918516142
        },
        "language" : "scala"
      },
      "language" : "scala",
      "source" : [
        "def whaleBy(path: String): DataFrame = {\n",
        "    val pro = spark.readTSV(path, false).toDF(\"category\", \"label\", \"count\", \"go\")\n",
        "    val whale_pro = processes.select(\"go\",\"gray_whale_liver\",\"gray_whale_kidney\").where($\"gray_whale_liver\" =!= 0.0 || $\"gray_whale_kidney\" =!= 0.0)\n",
        "    val whale =  pro.join(whale_pro, Seq(\"go\"))\n",
        "    whale.groupBy(\"category\", \"label\", \"count\").agg(count($\"go\").as(\"count_in_whale\"), sum($\"gray_whale_liver\").as(\"liver_sum\"), sum($\"gray_whale_kidney\").as(\"kidney_sum\"))\n",
        "}"
      ],
      "outputs" : [
      ]
    },
    {
      "cell_type" : "code",
      "execution_count" : 19,
      "metadata" : {
        "cell.metadata.exec_info" : {
          "startTs" : 1583918516144,
          "endTs" : 1583918516331
        },
        "language" : "scala"
      },
      "language" : "scala",
      "source" : [
        "def whaleCompBy(path: String): DataFrame = {\n",
        "    val com = spark.readTSV(path, false).toDF(\"category\", \"label\", \"count\", \"go\")\n",
        "    val whale_com = components.select(\"go\",\"gray_whale_liver\",\"gray_whale_kidney\").where($\"gray_whale_liver\" =!= 0.0 || $\"gray_whale_kidney\" =!= 0.0)\n",
        "    val whale =  com.join(whale_com, Seq(\"go\"))\n",
        "    whale.groupBy(\"category\", \"label\", \"count\").agg(count($\"go\").as(\"count_in_whale\"), sum($\"gray_whale_liver\").as(\"liver_sum\"), sum($\"gray_whale_kidney\").as(\"kidney_sum\"))\n",
        "}"
      ],
      "outputs" : [
      ]
    },
    {
      "cell_type" : "code",
      "execution_count" : 20,
      "metadata" : {
        "cell.metadata.exec_info" : {
          "startTs" : 1583805124965,
          "endTs" : 1583805125298
        },
        "language" : "scala"
      },
      "language" : "scala",
      "source" : [
        "components.limit(10).show(10,10000)"
      ],
      "outputs" : [
        {
          "name" : "stdout",
          "text" : [
            "+----------+------------------+--------------------------------------------------------------+------------------+--------------+------------+-----------------+-----------------------+-----------------------+---------------------+-----------------------------------------------+------------------+-------------------+------------------+------------------+------------------+--------------------+------------------+------------------+------------------+------------------+------------------+------------------+--------------------+------------------+------------------+------------------+---------------------+------------------+-------------------+------------------+------------------+------------------+---------------------+------------------------+----------------+--------------+----------------+-------------------------+---------------------+-----------------------+-------------------+----------------+----------------+----------------------+-------------------------+-----------------+---------------+-----------------+--------------------------+----------------------+------------------------+--------------------+-----------------+-----------------+-------------------+\n",
            "|        go|         namespace|                                                         label|    gray_whale_avg|uniref90_count|taxons_count|transcripts_count|human_transcripts_count|mouse_transcripts_count|cow_transcripts_count|                                           type|  gray_whale_liver|bowhead_whale_liver|       minke_liver|         NMR_liver|       human_liver|mouse_totalRNA_liver|  mouse_mRNA_liver|cow_totalRNA_liver|    cow_mRNA_liver|       bat_liver_1|       bat_liver_2| gray_whale_kidney|bowhead_whale_kidney|      minke_kidney|        NMR_kidney|      human_kidney|mouse_totalRNA_kidney| mouse_mRNA_kidney|cow_totalRNA_kidney|   cow_mRNA_kidney|      bat_kidney_1|      bat_kidney_2|gray_whale_liver_rank|bowhead_whale_liver_rank|minke_liver_rank|NMR_liver_rank|human_liver_rank|mouse_totalRNA_liver_rank|mouse_mRNA_liver_rank|cow_totalRNA_liver_rank|cow_mRNA_liver_rank|bat_liver_1_rank|bat_liver_2_rank|gray_whale_kidney_rank|bowhead_whale_kidney_rank|minke_kidney_rank|NMR_kidney_rank|human_kidney_rank|mouse_totalRNA_kidney_rank|mouse_mRNA_kidney_rank|cow_totalRNA_kidney_rank|cow_mRNA_kidney_rank|bat_kidney_1_rank|bat_kidney_2_rank|gray_whale_avg_rank|\n",
            "+----------+------------------+--------------------------------------------------------------+------------------+--------------+------------+-----------------+-----------------------+-----------------------+---------------------+-----------------------------------------------+------------------+-------------------+------------------+------------------+------------------+--------------------+------------------+------------------+------------------+------------------+------------------+------------------+--------------------+------------------+------------------+------------------+---------------------+------------------+-------------------+------------------+------------------+------------------+---------------------+------------------------+----------------+--------------+----------------+-------------------------+---------------------+-----------------------+-------------------+----------------+----------------+----------------------+-------------------------+-----------------+---------------+-----------------+--------------------------+----------------------+------------------------+--------------------+-----------------+-----------------+-------------------+\n",
            "|GO:0070062|cellular_component|                                         extracellular exosome|       95231.76295|           726|         929|              876|                   2714|                    116|                 2162|complete;5prime_partial;internal;3prime_partial| 82627.97828900004|  43406.81879601012|103879.82613499998|189153.98861699994| 34179.85539700001|   63059.86755299999|12146.704848999996| 407115.5446490002| 402875.4094160001|11455.648414000001|11162.429744000001|107835.54761100012|        12291.983165|139226.62839100015|251177.67484400002|17317.253403999995|    8189.928592999998|3009.2303389999997| 284041.33320799994| 274118.5267729999|18619.887905000003|17280.569276000006|                    1|                       1|               1|             1|               1|                       12|                   16|                      1|                  1|              13|              12|                     1|                        4|                1|              1|                3|                        46|                    45|                       2|                   2|                8|                8|                  1|\n",
            "|GO:0016021|cellular_component|                                integral component of membrane|     81241.0623675|          1391|         565|             1713|                   9561|                   8900|                 4715|5prime_partial;complete;3prime_partial;internal| 62374.28512099997|  27353.04877027518| 55178.75498600001|108836.22230300008|      11032.347553|       168821.304916|28909.156348999997|198371.61491800006| 189068.7378029999| 40258.52125200002| 33799.39783599998|     100107.839614|  24343.312661999982| 94079.22781100006|149277.02259700003|30508.606157000006|   241562.48318399998| 51496.39662599999| 315467.63018200017|373243.68564099993| 49371.60719699998| 50314.59441799999|                    2|                       4|               6|             6|               8|                        3|                    8|                      2|                  2|               3|               4|                     2|                        1|                5|              2|                1|                         2|                     2|                       1|                   1|                1|                1|                  2|\n",
            "|GO:0005829|cellular_component|                                                       cytosol|     61398.1790675|          1109|         994|             1376|                   6775|                   5043|                 2348|complete;3prime_partial;5prime_partial;internal|50912.655819000014| 29665.787975965563| 72109.60757099999| 188757.6132710001| 20623.12592999999|  148373.97883200005|      100424.52617|  86184.9085600001| 90951.61626199998|      39701.526823| 35938.73908299998| 71883.70231600002|  12335.804511999993|124936.20551199997| 132241.5113150001|13435.613476000004|   105758.17169699995|43636.518504000014| 111689.96638100002|102744.94863500002| 48503.28607600002|48467.252029999996|                    5|                       3|               2|             2|               4|                        5|                    2|                      5|                  6|               4|               3|                     3|                        3|                2|              3|                4|                         3|                     3|                       4|                   4|                2|                2|                  3|\n",
            "|GO:0005840|cellular_component|                                                      ribosome|      59087.688684|            89|         316|               99|                    297|                    123|                   40|complete;5prime_partial;internal;3prime_partial| 58631.94472899998|  23801.48132475636| 65881.81530099995|103165.58999999998|2209.9476119999995|   5478.616020999998|       1831.119411| 5936.298134999999|       6073.805264|12480.567552000004|12868.996051999997|59543.432639000006|   9270.050664999997| 92530.64897999998| 71492.44906799999|1924.4887119999999|         10029.277271|2800.6401849999993|  5875.225427000001| 4481.681578999999|20069.082760999994| 19659.95211699999|                    3|                       6|               4|             7|              37|                       71|                   70|                     69|                 71|              11|              10|                     5|                        7|                6|              7|               24|                        42|                    46|                      63|                  71|                7|                7|                  4|\n",
            "|GO:0005634|cellular_component|                                                       nucleus| 57345.87068550001|          1431|        2115|             1830|                   7301|                   6496|                 2778|complete;5prime_partial;3prime_partial;internal| 55747.40112099999| 30295.434521280793| 70441.20552599998|     140240.092983|10470.131235999997|   94231.85965399996|      84031.996854|126193.50819700002|     143407.437234|      28991.795084|26034.121111999997| 58944.34024999998|  11416.312302999997|     102915.768411| 90533.17986400002| 8808.929934000003|    81393.57837199996| 30863.47935199999| 118101.15175700001| 99420.20529599997|38791.502254000006|36985.395011999986|                    4|                       2|               3|             4|              10|                        9|                    3|                      4|                  4|               5|               6|                     6|                        5|                3|              4|                9|                         7|                     5|                       3|                   5|                4|                4|                  5|\n",
            "|GO:0005737|cellular_component|                                                     cytoplasm| 51021.87724949999|          1070|        1897|             1342|                   4490|                   5424|                 2333|complete;5prime_partial;3prime_partial;internal|43367.513537999985|  24393.98329442446| 63289.08200100004|177635.51962800007| 6716.158039999998|  135388.78987699997| 34234.04624200001| 79546.89437599998| 85249.95693999997|      45889.810949| 43063.92459099999| 58676.24096099999|  10090.376369000003|     102810.643446| 85731.96628100002|       7004.031145|         87788.121675| 34874.35143699998|      101489.413696| 87811.42796300001| 39124.75226900001| 37351.04243300002|                    6|                       5|               5|             3|              19|                        6|                    6|                      7|                  7|               2|               2|                     7|                        6|                4|              5|               12|                         5|                     4|                       5|                   8|                3|                3|                  6|\n",
            "|GO:0005813|cellular_component|                                                    centrosome| 42454.98833149999|           127|         243|              162|                    632|                    769|                  382|complete;5prime_partial;internal;3prime_partial|      24852.939731| 1933.4432743038858|4332.0924300000015|       5095.546241| 292.3133429999999|  3911.2582859999984|       1290.271993|6743.0331620000015| 7806.252158000002|2516.4648270000016|       2438.068916|60057.036932000025|          839.858576| 9289.642984999997|       3992.193603| 583.6687029999998|    7800.484518000001|3703.0777580000004| 12280.558181999999|      11146.476477|2977.9138139999995|2911.7591999999995|                   15|                      42|              43|            68|             107|                       80|                   77|                     68|                 62|              38|              37|                     4|                       35|               25|             72|               51|                        47|                    40|                      37|                  39|               37|               35|                  7|\n",
            "|GO:0016020|cellular_component|                                                      membrane| 42195.42010000002|           540|         793|              679|                   2429|                   1361|                  873|complete;5prime_partial;3prime_partial;internal|37894.592234999975|   19480.8165792182| 46392.14733899998|117524.23082799997| 7963.051234999998|        29617.254172| 7866.986895000002|51652.158988999996| 58572.10771399999|28193.223352999994|28454.926921999995|      46496.247965|   8248.603917000006| 76320.57983899997| 65810.41654900002|10104.827831000002|   49547.508830999985|12548.841867000006|  63923.18794699999|55224.136316000026|21701.492759999997|21109.941520000015|                    7|                       7|               7|             5|              15|                       26|                   22|                     15|                 13|               6|               5|                     9|                        8|                7|              8|                6|                        10|                    13|                      11|                  12|                6|                6|                  8|\n",
            "|GO:0005743|cellular_component|                                  mitochondrial inner membrane|41890.178823999995|            94|         199|              107|                    480|                    457|                  264|complete;5prime_partial;3prime_partial;internal|29423.994463000003|    6016.2954890921|      11020.485428|27978.854220000012| 7830.421898000001|   70641.50428300002|13822.831728000003|20350.154425999994|23997.109960999995|       4339.778448|       3810.225168| 54356.36318499999|  1293.5116610000002|16315.796938999994|29127.529349999997|27011.827738999997|         90054.086334|27055.700689000005| 24419.770394000006|24988.700207999995|3261.0935420000005|3859.3678280000004|                    9|                      24|              29|            28|              16|                       11|                   11|                     35|                 32|              27|              30|                     8|                       25|               22|             20|                2|                         4|                     6|                      23|                  27|               34|               26|                  9|\n",
            "|GO:0045263|cellular_component|proton-transporting ATP synthase complex, coupling factor F(o)|      35197.364487|             3|          15|                4|                      6|                      3|                    3|                        3prime_partial;complete|24176.706967000002|             237.07|        712.834561|              null|235.81343800000002|        16696.458196|1010.2585270000001|14724.021791000001| 9415.669591000002| 693.7475949999999|        812.010139|      46218.022007|           46.619923|1444.4431379999999|              null|1532.0307950000001|         20318.691885|1973.9292030000001|       28560.529769|      32445.969279|        966.328214|       1372.104306|                   16|                     202|             162|           941|             121|                       33|                   84|                     39|                 55|             129|             116|                    10|                      320|              168|            940|               31|                        28|                    58|                      22|                  19|              106|               79|                 10|\n",
            "+----------+------------------+--------------------------------------------------------------+------------------+--------------+------------+-----------------+-----------------------+-----------------------+---------------------+-----------------------------------------------+------------------+-------------------+------------------+------------------+------------------+--------------------+------------------+------------------+------------------+------------------+------------------+------------------+--------------------+------------------+------------------+------------------+---------------------+------------------+-------------------+------------------+------------------+------------------+---------------------+------------------------+----------------+--------------+----------------+-------------------------+---------------------+-----------------------+-------------------+----------------+----------------+----------------------+-------------------------+-----------------+---------------+-----------------+--------------------------+----------------------+------------------------+--------------------+-----------------+-----------------+-------------------+\n",
            "\n"
          ],
          "output_type" : "stream"
        }
      ]
    },
    {
      "cell_type" : "markdown",
      "execution_count" : 26,
      "metadata" : {
        "language" : "text"
      },
      "language" : "text",
      "source" : [
        "# Correlations\n",
        "\n",
        "\n"
      ],
      "outputs" : [
      ]
    },
    {
      "cell_type" : "code",
      "execution_count" : 27,
      "metadata" : {
        "cell.metadata.exec_info" : {
          "startTs" : 1583918556782,
          "endTs" : 1583918557064
        },
        "language" : "scala"
      },
      "language" : "scala",
      "source" : [
        "def doublesByColumns(columns: Seq[String]): List[StructField] = columns.map(c=>StructField(c, DoubleType, false)).toList\n",
        "\n",
        "def convertCorrellationMatrix(matrix: Matrix, columns: Seq[String]) = {\n",
        "  require(columns.size == matrix.numCols)\n",
        "  for(r <- 0 until matrix.numRows) yield {\n",
        "    val seq = for(c <- 0 until matrix.numCols) yield matrix(r, c)\n",
        "    Row.fromSeq(columns(r)::seq.toList)\n",
        "  }\n",
        "}\n",
        "\n",
        "def transformCorrellationMatrix(dataFrame: DataFrame, columns: Seq[String])(implicit sparkSession: SparkSession): DataFrame = {\n",
        "      val rows  = dataFrame.rdd\n",
        "        .flatMap{ case Row(matrix: Matrix) => convertCorrellationMatrix(matrix, columns) }\n",
        "      sparkSession.createDataFrame(rows, StructType(StructField(\"column\", StringType, false)::doublesByColumns(columns)))\n",
        "    }\n",
        "    \n",
        "def spearmanCorrellation(dataFrame: DataFrame, columns: Seq[String])(implicit sparkSession: SparkSession): DataFrame = {\n",
        "  val cor = dataFrame.toVectors(columns.toSeq, \"features\").persist(StorageLevel.MEMORY_AND_DISK)\n",
        "  val df = Correlation.corr(cor, \"features\", method = \"spearman\")\n",
        "  transformCorrellationMatrix(df, columns)\n",
        "}"
      ],
      "outputs" : [
      ]
    },
    {
      "cell_type" : "code",
      "execution_count" : 28,
      "metadata" : {
        "cell.metadata.exec_info" : {
          "startTs" : 1583918558821,
          "endTs" : 1583918565153
        },
        "language" : "scala"
      },
      "language" : "scala",
      "source" : [
        "val all_cor = spearmanCorrellation(all_pro, featuresOrdered)(spark).withColumnRenamed(\"column\", \"go\")//.withColumn(\"go\", renameUDF($\"go\")).cache//.rename(featuresMap)\n",
        "all_cor.show(10,1000)"
      ],
      "outputs" : [
        {
          "name" : "stdout",
          "text" : [
            "+--------------------+-------------------+------------------+------------------+------------------+------------------+------------------+------------------+--------------------+--------------------+------------------+------------------+------------------+------------------+------------------+-------------------+---------------------+\n",
            "|                  go|bowhead_whale_liver|  gray_whale_liver|       minke_liver|       human_liver|       bat_liver_1|         NMR_liver|cow_totalRNA_liver|mouse_totalRNA_liver|bowhead_whale_kidney| gray_whale_kidney|      minke_kidney|      human_kidney|      bat_kidney_1|        NMR_kidney|cow_totalRNA_kidney|mouse_totalRNA_kidney|\n",
            "+--------------------+-------------------+------------------+------------------+------------------+------------------+------------------+------------------+--------------------+--------------------+------------------+------------------+------------------+------------------+------------------+-------------------+---------------------+\n",
            "| bowhead_whale_liver|                1.0|0.8413626679531951|0.8466434198520385|0.5885724020554607|0.6187878171770399|0.6230788323302978|0.6237173151801523|  0.5657027816383671|  0.8515533224986752|0.8288443674065488|0.8251208740898494|0.6260159333541031|0.6162780526052076|0.6235237088466237| 0.6455641278309846|   0.5845053647558008|\n",
            "|    gray_whale_liver| 0.8413626679531951|               1.0|0.8540020277829117|0.5886167534225334|0.6160064556921419|0.6170360600202748|0.6305450483338851|  0.5811994566195052|  0.8262652965181092|0.9626744484406913|0.8379706630624869|0.6295512696864681|0.6168353125238147|0.6165517148472299| 0.6539764857141078|   0.5977328063428246|\n",
            "|         minke_liver| 0.8466434198520385|0.8540020277829117|               1.0|0.5832192963709084|0.6175573905025096|0.6341131402191381|0.6205575626551465|  0.5670244234867384|  0.8347125013639044|0.8413885993298076|0.9565032898396895|0.6318253612439909|0.6213752787199844|0.6326751007883311| 0.6476264364221913|   0.5883083265901652|\n",
            "|         human_liver| 0.5885724020554607|0.5886167534225334|0.5832192963709084|               1.0|0.6309789967069592|0.5549207775426876|0.6858022484955593|  0.7560478879386107|  0.5735791137296132|0.5728028825383716|0.5736609783526946|0.8794519272529338|0.6009525897766188|0.5892931082373924| 0.6365800379144058|   0.6909738951675175|\n",
            "|         bat_liver_1| 0.6187878171770399|0.6160064556921419|0.6175573905025096|0.6309789967069592|               1.0|0.5868728717906738|0.6765499945804094|  0.6496682250528827|   0.609693187250428| 0.605829304119849|0.6075305006794136|0.6488710050924592| 0.948130346749875|0.5958049973543001| 0.6714183906283178|   0.6485535072808446|\n",
            "|           NMR_liver| 0.6230788323302978|0.6170360600202748|0.6341131402191381|0.5549207775426876|0.5868728717906738|               1.0|0.5716234935827365|  0.5294815270674927|  0.6372234937176613|0.6273129312310755|0.6380328573404225|0.5973733186962872|0.6014415236934627|0.9501000873774894| 0.5962799814859507|   0.5649994425355355|\n",
            "|  cow_totalRNA_liver| 0.6237173151801523|0.6305450483338851|0.6205575626551465|0.6858022484955593|0.6765499945804094|0.5716234935827365|               1.0|  0.7508056590516292|  0.6058328899083224|0.6125431248589421|0.6091661001857339|0.6688958596355518|0.6513833797406334|0.5977716874801902| 0.9211161043587036|   0.7258917133821207|\n",
            "|mouse_totalRNA_liver| 0.5657027816383671|0.5811994566195052|0.5670244234867384|0.7560478879386107|0.6496682250528827|0.5294815270674927|0.7508056590516292|                 1.0|  0.5516621161871057|0.5678298337219457|0.5570638154159916| 0.696250976374157|0.6160332851975161| 0.560541700118968| 0.7079968576017746|   0.8814888317800366|\n",
            "|bowhead_whale_kidney| 0.8515533224986752|0.8262652965181092|0.8347125013639044|0.5735791137296132| 0.609693187250428|0.6372234937176613|0.6058328899083224|  0.5516621161871057|                 1.0|0.8571333369331205|0.8544041088753197|0.6516141139712036|0.6300495582722737|0.6211315696934487|  0.658830506243108|   0.6016255152093923|\n",
            "|   gray_whale_kidney| 0.8288443674065488|0.9626744484406913|0.8413885993298076|0.5728028825383716| 0.605829304119849|0.6273129312310755|0.6125431248589421|  0.5678298337219457|  0.8571333369331205|               1.0|0.8562162888855166|0.6392558263744893|0.6251352411687753|0.6183835652371203| 0.6593542512065179|   0.6123674669974838|\n",
            "+--------------------+-------------------+------------------+------------------+------------------+------------------+------------------+------------------+--------------------+--------------------+------------------+------------------+------------------+------------------+------------------+-------------------+---------------------+\n",
            "only showing top 10 rows\n",
            "\n"
          ],
          "output_type" : "stream"
        }
      ]
    },
    {
      "cell_type" : "code",
      "execution_count" : 29,
      "metadata" : {
        "cell.metadata.exec_info" : {
          "startTs" : 1583918565155,
          "endTs" : 1583918565251
        },
        "language" : "scala"
      },
      "language" : "scala",
      "source" : [
        "div(\"all_cor\")"
      ],
      "outputs" : [
        {
          "data" : {
            "text/html" : [
              "<div id=\"all_cor\"></div>"
            ]
          },
          "output_type" : "display_data"
        }
      ]
    },
    {
      "cell_type" : "code",
      "execution_count" : 30,
      "metadata" : {
        "cell.metadata.exec_info" : {
          "startTs" : 1583918567990,
          "endTs" : 1583918568531
        },
        "language" : "scala"
      },
      "language" : "scala",
      "source" : [
        "makeHeatmap(all_cor.withColumn(\"go\", renameUDF($\"go\")), \"go\", all_cor.columns.tail.toList, \"all_cor\", \"Correlations for liver and kidney\",  400, 400, 1700, 1500, inverse = false,  dataFontSize = 18, tickFontSize = 20, \n",
        "names = all_cor.columns.tail.toList.map(featuresMap(_)), zmin = 0.0, zmax = 1.0,\n",
        "tickAngle = \"-30\"  )"
      ],
      "outputs" : [
        {
          "data" : {
            "text/html" : [
              "<script type=\"text/javascript\" charset=\"utf-8\">\n",
              "var layout = {\n",
              "  title: 'Correlations for liver and kidney',\n",
              "  annotations: [],\n",
              "  margin: {\n",
              "    l: 400,\n",
              "    r: 125,\n",
              "    t: 400,\n",
              "    b: 50\n",
              "  },\n",
              "  width: 1700,\n",
              "  height: 1500,\n",
              "  xaxis: {\n",
              "    side: 'top',\n",
              "    tickfont: {\n",
              "      size: 20\n",
              "    },\n",
              "    tickangle: '-30'\n",
              "  },\n",
              "  yaxis: {\n",
              "    side: 'left',\n",
              "    autorange: 'reversed',\n",
              "    tickfont: {\n",
              "      size: 20\n",
              "    }\n",
              "  },\n",
              "};\n",
              "\n",
              "var xValues = [\"Bowhead whale liver\",\"Gray whale liver\",\"Minke whale liver\",\"Human liver\",\"Bat liver\",\"Naked mole rat liver\",\"Cow liver\",\"Mouse liver\",\"Bowhead whale kidney\",\"Gray whale kidney\",\"Minke whale kidney\",\"Human kidney\",\"Bat kidney\",\"Naked mole rat kidney\",\"Cow kidney\",\"Mouse kidney\"]\n",
              "var yValues =  [\"Bowhead whale liver\",\"Gray whale liver\",\"Minke whale liver\",\"Human liver\",\"Bat liver\",\"Naked mole rat liver\",\"Cow liver\",\"Mouse liver\",\"Bowhead whale kidney\",\"Gray whale kidney\",\"Minke whale kidney\",\"Human kidney\",\"Bat kidney\",\"Naked mole rat kidney\",\"Cow kidney\",\"Mouse kidney\"]\n",
              "var zValues =  [[1.0,0.84,0.85,0.59,0.62,0.62,0.62,0.57,0.85,0.83,0.83,0.63,0.62,0.62,0.65,0.58],[0.84,1.0,0.85,0.59,0.62,0.62,0.63,0.58,0.83,0.96,0.84,0.63,0.62,0.62,0.65,0.6],[0.85,0.85,1.0,0.58,0.62,0.63,0.62,0.57,0.83,0.84,0.96,0.63,0.62,0.63,0.65,0.59],[0.59,0.59,0.58,1.0,0.63,0.55,0.69,0.76,0.57,0.57,0.57,0.88,0.6,0.59,0.64,0.69],[0.62,0.62,0.62,0.63,1.0,0.59,0.68,0.65,0.61,0.61,0.61,0.65,0.95,0.6,0.67,0.65],[0.62,0.62,0.63,0.55,0.59,1.0,0.57,0.53,0.64,0.63,0.64,0.6,0.6,0.95,0.6,0.56],[0.62,0.63,0.62,0.69,0.68,0.57,1.0,0.75,0.61,0.61,0.61,0.67,0.65,0.6,0.92,0.73],[0.57,0.58,0.57,0.76,0.65,0.53,0.75,1.0,0.55,0.57,0.56,0.7,0.62,0.56,0.71,0.88],[0.85,0.83,0.83,0.57,0.61,0.64,0.61,0.55,1.0,0.86,0.85,0.65,0.63,0.62,0.66,0.6],[0.83,0.96,0.84,0.57,0.61,0.63,0.61,0.57,0.86,1.0,0.86,0.64,0.63,0.62,0.66,0.61],[0.83,0.84,0.96,0.57,0.61,0.64,0.61,0.56,0.85,0.86,1.0,0.64,0.63,0.63,0.66,0.6],[0.63,0.63,0.63,0.88,0.65,0.6,0.67,0.7,0.65,0.64,0.64,1.0,0.66,0.6,0.71,0.75],[0.62,0.62,0.62,0.6,0.95,0.6,0.65,0.62,0.63,0.63,0.63,0.66,1.0,0.59,0.69,0.67],[0.62,0.62,0.63,0.59,0.6,0.95,0.6,0.56,0.62,0.62,0.63,0.6,0.59,1.0,0.6,0.57],[0.65,0.65,0.65,0.64,0.67,0.6,0.92,0.71,0.66,0.66,0.66,0.71,0.69,0.6,1.0,0.77],[0.58,0.6,0.59,0.69,0.65,0.56,0.73,0.88,0.6,0.61,0.6,0.75,0.67,0.57,0.77,1.0]]\n",
              "var aValues =  [[1.0,0.84,0.85,0.59,0.62,0.62,0.62,0.57,0.85,0.83,0.83,0.63,0.62,0.62,0.65,0.58],[0.84,1.0,0.85,0.59,0.62,0.62,0.63,0.58,0.83,0.96,0.84,0.63,0.62,0.62,0.65,0.6],[0.85,0.85,1.0,0.58,0.62,0.63,0.62,0.57,0.83,0.84,0.96,0.63,0.62,0.63,0.65,0.59],[0.59,0.59,0.58,1.0,0.63,0.55,0.69,0.76,0.57,0.57,0.57,0.88,0.6,0.59,0.64,0.69],[0.62,0.62,0.62,0.63,1.0,0.59,0.68,0.65,0.61,0.61,0.61,0.65,0.95,0.6,0.67,0.65],[0.62,0.62,0.63,0.55,0.59,1.0,0.57,0.53,0.64,0.63,0.64,0.6,0.6,0.95,0.6,0.56],[0.62,0.63,0.62,0.69,0.68,0.57,1.0,0.75,0.61,0.61,0.61,0.67,0.65,0.6,0.92,0.73],[0.57,0.58,0.57,0.76,0.65,0.53,0.75,1.0,0.55,0.57,0.56,0.7,0.62,0.56,0.71,0.88],[0.85,0.83,0.83,0.57,0.61,0.64,0.61,0.55,1.0,0.86,0.85,0.65,0.63,0.62,0.66,0.6],[0.83,0.96,0.84,0.57,0.61,0.63,0.61,0.57,0.86,1.0,0.86,0.64,0.63,0.62,0.66,0.61],[0.83,0.84,0.96,0.57,0.61,0.64,0.61,0.56,0.85,0.86,1.0,0.64,0.63,0.63,0.66,0.6],[0.63,0.63,0.63,0.88,0.65,0.6,0.67,0.7,0.65,0.64,0.64,1.0,0.66,0.6,0.71,0.75],[0.62,0.62,0.62,0.6,0.95,0.6,0.65,0.62,0.63,0.63,0.63,0.66,1.0,0.59,0.69,0.67],[0.62,0.62,0.63,0.59,0.6,0.95,0.6,0.56,0.62,0.62,0.63,0.6,0.59,1.0,0.6,0.57],[0.65,0.65,0.65,0.64,0.67,0.6,0.92,0.71,0.66,0.66,0.66,0.71,0.69,0.6,1.0,0.77],[0.58,0.6,0.59,0.69,0.65,0.56,0.73,0.88,0.6,0.61,0.6,0.75,0.67,0.57,0.77,1.0]]\n",
              "\n",
              "\n",
              "for ( var i = 0; i < yValues.length; i++ ) {\n",
              "  for ( var j = 0; j < xValues.length; j++ ) {\n",
              "    var currentValue = zValues[i][j];\n",
              "    if (currentValue != 0.0) {\n",
              "      var textColor = 'white';\n",
              "    }else{\n",
              "      var textColor = 'black';\n",
              "    }\n",
              "    var result = {\n",
              "      xref: 'x1',\n",
              "      yref: 'y1',\n",
              "      x: xValues[j],\n",
              "      y: yValues[i],\n",
              "      text: aValues[i][j],\n",
              "      font: {\n",
              "        family: 'Arial',\n",
              "        size: 5,\n",
              "        color: 'rgb(50, 171, 96)'\n",
              "      },\n",
              "      showarrow: false,\n",
              "      font: {\n",
              "        color: textColor,\n",
              "        size: '18'\n",
              "      }\n",
              "    };\n",
              "    layout.annotations.push(result);\n",
              "  }\n",
              "}\n",
              "\n",
              "var data = [{\n",
              "   x: xValues,\n",
              "   y: yValues,\n",
              "   z: zValues,\n",
              "   zmin: 0.0, zmax: 1.0,\n",
              "   colorscale: 'RdBu', \n",
              "   type: 'heatmap' \n",
              " }];\n",
              " Plotly.newPlot('all_cor', data, layout);\n",
              "</script>\n",
              "    <h3>all_cor heatmap has been displayed</h3>"
            ]
          },
          "output_type" : "display_data"
        }
      ]
    },
    {
      "cell_type" : "markdown",
      "execution_count" : 31,
      "metadata" : {
        "language" : "text"
      },
      "language" : "text",
      "source" : [
        "## Specific correlations<br>\n",
        "\n",
        "\n"
      ],
      "outputs" : [
      ]
    },
    {
      "cell_type" : "code",
      "execution_count" : 32,
      "metadata" : {
        "cell.metadata.exec_info" : {
          "startTs" : 1583918579498,
          "endTs" : 1583918579692
        },
        "language" : "scala"
      },
      "language" : "scala",
      "source" : [
        "def makeProCor(list: List[String]) = {\n",
        "    val tpms = processes.select(\"go\", featuresOrdered:_*).where($\"go\".isin(list:_*)).na.fill(0.0).sort($\"bowhead_whale_liver\".desc)\n",
        "    spearmanCorrellation(tpms, featuresOrdered)(spark).withColumnRenamed(\"column\", \"go\").cache//.withColumn(\"go\", renameUDF($\"go\")).cache//.rename(featuresMap)\n",
        "}\n",
        "def makeHeatCor(df: DataFrame, name: String,\n",
        " title: String, colorScale: String = \"RdBu\")(implicit kernel: KernelRuntime)  = {\n",
        " makeHeatmap(df.withColumn(\"go\", renameUDF($\"go\")), \"go\", df.columns.tail.toList, name, title,  300, 400, 1800, 1400, inverse = false,  dataFontSize = 18, tickFontSize = 20, names = df.columns.tail.toList.map(featuresMap(_)),\n",
        " tickAngle = \"-30\", colorScale = colorScale )(kernel)  \n",
        "}\n"
      ],
      "outputs" : [
      ]
    },
    {
      "cell_type" : "code",
      "execution_count" : 33,
      "metadata" : {
        "cell.metadata.exec_info" : {
          "startTs" : 1583918582693,
          "endTs" : 1583918582934
        },
        "language" : "scala"
      },
      "language" : "scala",
      "source" : [
        "val longevity_goes =  List(\"GO:0015986\", \"GO:0006364\", \"GO:0006413\", \"GO:0006614\", \"GO:0000184\", \"GO:0019083\", \"GO:0019068\", \"GO:0006955\", \"GO:0060271\", \"GO:2000785\", \"GO:0042073\", \"GO:0055007\", \"GO:1902017\", \"GO:0060828\", \"GO:0090102\", \"GO:0034067\", \"GO:0060122\", \"GO:0061512\", \"GO:0061351\", \"GO:0001736\", \"GO:0035735\", \"GO:0051642\", \"GO:0035845\", \"GO:0036372\", \"GO:0007165\", \"GO:0002474\", \"GO:0000050\", \"GO:0019731\", \"GO:0002227\", \"GO:0046034\", \"GO:0032259\", \"GO:0071268\", \"GO:0033353\", \"GO:0000096\", \"GO:0042745\", \"GO:0002439\", \"GO:0006950\", \"GO:0097284\", \"GO:0097176\", \"GO:1990000\", \"GO:0051014\", \"GO:2001269\", \"GO:0090527\", \"GO:0042989\", \"GO:0045010\", \"GO:1902174\", \"GO:0019430\", \"GO:0001938\", \"GO:0045060\", \"GO:1902166\", \"GO:0001961\", \"GO:0042104\", \"GO:0045738\", \"GO:1902546\", \"GO:0061481\",  \"GO:1902231\", \"GO:0032079\", \"GO:2001272\", \"GO:1905053\",\"GO:0009435\", \"GO:0010941\")\n",
        "val dna_repair_goes = List(\"GO:0006281\", \"GO:0006283\",\"GO:0000715\",\"GO:0070911\",\"GO:0033683\",\"GO:0006296\",\"GO:0006297\",\"GO:0006294\",\"GO:0000717\",\"GO:0036297\",\"GO:0045739\",\"GO:1905053\",\"GO:0006289\",\"GO:0030091\",\"GO:0045738\",\"GO:0006282\",\"GO:0006307\",\"GO:0051103\",\"GO:0043504\",\"GO:0006284\",\"GO:2000819\",\"GO:0000724\")\n",
        "val hypoxia_goes = List(\"GO:0061418\", \"GO:1903298\", \"GO:0097411\", \"GO:0061428\", \"GO:0001666\", \"GO:0071456\")\n",
        "val autophagy_goes = List(\"GO:0006914\",\"GO:0016236\",\"GO:1904714\",\"GO:2000785\",\"GO:0000045\",\"GO:0097352\",\"GO:0016241\",\"GO:0010507\",\"GO:0010506\")\n",
        "val stress_response_goes = List(\"GO:0006979\",\"GO:0034599\",\"GO:1902236\",\"GO:0051403\",\"GO:0006950\",\"GO:0097201\",\"GO:1990441\",\"GO:0070059\",\"GO:0034976\",\"GO:0051496\",\"GO:1902176\",\"GO:1990440\",\"GO:0014898\",\"GO:0031098\",\"GO:0097501\",\"GO:0043149\",\"GO:0008631\",\"GO:0071472\",\"GO:0001306\",\"GO:0032872\")\n",
        "val apoptosis_goes = List(\"GO:0097284\",\"GO:0043066\",\"GO:2000352\",\"GO:0006915\",\"GO:0043065\",\"GO:0051402\",\"GO:0042981\",\"GO:1902236\",\"GO:0043154\",\"GO:2001240\",\"GO:1901029\",\"GO:0097284\",\"GO:0043524\",\"GO:1903298\",\"GO:0043065\",\"GO:0070059\",\"GO:0008630\",\"GO:2001235\",\"GO:2001269\",\"GO:1902174\",\"GO:1902166\",\"GO:0002906\",\"GO:0097191\",\"GO:1902231\",\"GO:2001272\",\"GO:1902176\",\"GO:0006919\",\"GO:0072332\",\"GO:0008637\",\"GO:0043525\",\"GO:1902230\",\"GO:0010666\",\"GO:0043280\",\"GO:0097190\",\"GO:0070234\",\"GO:2001244\",\"GO:0008631\",\"GO:0043281\",\"GO:2000426\",\"GO:2001272\",\"GO:0097194\",\"GO:1900119\",\"GO:0008630\",\"GO:1902166\",\"GO:1902231\")\n",
        "val ubiquitin_goes = List(\"GO:0043161\",\"GO:0016579\",\"GO:0000209\",\"GO:0016567\",\"GO:0031146\",\"GO:0051437\",\"GO:0051436\",\"GO:0031397\",\"GO:0031396\",\"GO:0032436\",\"GO:0006511\",\"GO:0030433\",\"GO:0031398\",\"GO:0032435\",\"GO:0070936\",\"GO:0043328\",\"GO:0070534\",\"GO:0051865\",\"GO:0006513\",\"GO:0070979\",\"GO:0043162\")\n",
        "val mitochondria_goes = List(\"GO:0006123\",\"GO:0046034\",\"GO:0032981\",\"GO:1901029\",\"GO:0007005\",\"GO:0034551\",\"GO:0051881\",\"GO:0032543\",\"GO:0006839\",\"GO:0006122\",\"GO:0047497\",\"GO:1903955\",\"GO:0008637\",\"GO:0042775\",\"GO:0046902\",\"GO:0000422\",\"GO:0090201\",\"GO:0061732\",\"GO:0010917\",\"GO:0006850\",\"GO:0010637\",\"GO:0070125\",\"GO:0051560\")\n",
        "val atp_goes = List(\"GO:0015986\",\"GO:0015991\",\"GO:0046034\",\"GO:0032781\",\"GO:0099132\",\"GO:0070072\",\"GO:2001171\",\"GO:0006754\",\"GO:0042776\",\"GO:0042775\",\"GO:0071318\",\"GO:0042773\",\"GO:0033198\",\"GO:0043044\",\"GO:2000984\",\"GO:0015867\",\"GO:2001170\")\n",
        "val nad_goes = List(\"GO:0019674\", \"GO:0006116\",\"GO:0009435\",\"GO:0006734\")\n",
        "val wounds_goes = List(\"GO:0044319\",\"GO:0090303\",\"GO:0042060\",\"GO:0060055\",\"GO:0061045\",\"GO:0060054\",\"GO:0061041\",\"GO:0035313\",\"GO:1903690\")\n",
        "val cellular = List(\"GO:0034362\", \"GO:0106003\", \"GO:0005814\", \"GO:0005902\", \"GO:0031514\", \"GO:0005929\", \"GO:0032420\", \"GO:0001750\", \"GO:0005801\", \"GO:0030992\", \"GO:0032391\", \"GO:0097546\", \"GO:0097542\", \"GO:0044292\", \"GO:1902636\", \"GO:0120105\", \"GO:0120104\", \"GO:0005628\", \"GO:0043332\", \"GO:0120106\", \"GO:0030479\", \"GO:0000142\", \"GO:0035692\", \"GO:0035693\", \"GO:0035578\", \"GO:0101003\", \"GO:0098993\", \"GO:0022626\", \"GO:0005940\", \"GO:0002197\", \"GO:0042565\", \"GO:0042272\", \"GO:0000835\", \"GO:0065010\") "
      ],
      "outputs" : [
      ]
    },
    {
      "cell_type" : "code",
      "execution_count" : 34,
      "metadata" : {
        "cell.metadata.exec_info" : {
          "startTs" : 1583918583904,
          "endTs" : 1583918584097
        },
        "language" : "scala"
      },
      "language" : "scala",
      "source" : [
        "val key_longevity = (dna_repair_goes ++ hypoxia_goes ++ apoptosis_goes ++ mitochondria_goes).toSet.toList //most important longevity GOes\n",
        "println(key_longevity)"
      ],
      "outputs" : [
        {
          "name" : "stdout",
          "text" : [
            "List(GO:2000352, GO:1900119, GO:2001269, GO:0034551, GO:0006850, GO:0090201, GO:0006307, GO:0047497, GO:0070059, GO:1902230, GO:0006915, GO:0006294, GO:0043504, GO:2001240, GO:0006283, GO:0002906, GO:0042775, GO:0097190, GO:0043280, GO:0071456, GO:0010666, GO:0051103, GO:0043154, GO:1902176, GO:1903955, GO:0006282, GO:0006919, GO:0001666, GO:1903298, GO:0006839, GO:0032543, GO:1902231, GO:0046902, GO:0097284, GO:0097411, GO:0000422, GO:0043281, GO:2001235, GO:0010637, GO:0033683, GO:0070234, GO:0030091, GO:0046034, GO:0072332, GO:0045739, GO:0000724, GO:1905053, GO:0097194, GO:0043065, GO:1902174, GO:1901029, GO:0032981, GO:0006297, GO:0006281, GO:0097191, GO:0043525, GO:0000715, GO:0042981, GO:0051402, GO:0061428, GO:2000819, GO:0006123, GO:0006289, GO:0036297, GO:0008631, GO:0061418, GO:0043066, GO:0045738, GO:0061732, GO:0008630, GO:0070911, GO:2000426, GO:0070125, GO:0000717, GO:1902166, GO:0006296, GO:0043524, GO:0007005, GO:1902236, GO:0051881, GO:2001272, GO:0006284, GO:0010917, GO:2001244, GO:0008637, GO:0051560, GO:0006122)\n"
          ],
          "output_type" : "stream"
        }
      ]
    },
    {
      "cell_type" : "markdown",
      "execution_count" : 35,
      "metadata" : {
        "language" : "text"
      },
      "language" : "text",
      "source" : [
        "# RANDOM\n",
        "\n"
      ],
      "outputs" : [
      ]
    },
    {
      "cell_type" : "code",
      "execution_count" : 36,
      "metadata" : {
        "cell.metadata.exec_info" : {
          "startTs" : 1583918585810,
          "endTs" : 1583918585929
        },
        "language" : "scala"
      },
      "language" : "scala",
      "source" : [
        "def randomDiv(cor: Seq[_], id: String = \"\", tlt: String = \"\")(implicit kernel: KernelRuntime)  = {\n",
        "    val num = cor.size\n",
        "    val title = if(tlt==\"\") s\"RANDOM_${num}_GO\" else tlt\n",
        "    div(if(id==\"\") title else id)(kernel)\n",
        " }"
      ],
      "outputs" : [
      ]
    },
    {
      "cell_type" : "code",
      "execution_count" : 37,
      "metadata" : {
        "cell.metadata.exec_info" : {
          "startTs" : 1583918588106,
          "endTs" : 1583918590249
        },
        "language" : "scala"
      },
      "language" : "scala",
      "source" : [
        "val only_pro_goes = all_pro.select(\"go\").as[String].distinct.rdd.cache\n",
        "println(only_pro_goes.count())\n",
        "def sample_pro_goes(num: Int) = only_pro_goes.takeSample(false, num).toList\n",
        "def sample_pro_goes(num: Int, exclude: Seq[String]) = only_pro_goes.filter(go=> !exclude.contains(go)).takeSample(false, num).toList\n",
        "sample_pro_goes(10)"
      ],
      "outputs" : [
        {
          "name" : "stdout",
          "text" : [
            "12369\n"
          ],
          "output_type" : "stream"
        },
        {
          "execution_count" : 37,
          "data" : {
            "text/plain" : [
              "List(GO:0043666, GO:0001705, GO:0050920, GO:2000529, GO:1903426, GO:2000286, GO:0071501, GO:1902855, GO:0002838, GO:0045724)"
            ]
          },
          "metadata" : {
            "name" : "Out",
            "type" : "List[String]"
          },
          "output_type" : "execute_result"
        }
      ]
    },
    {
      "cell_type" : "code",
      "execution_count" : 38,
      "metadata" : {
        "cell.metadata.exec_info" : {
          "startTs" : 1583918592694,
          "endTs" : 1583918592808
        },
        "language" : "scala"
      },
      "language" : "scala",
      "source" : [
        "\n",
        "def randomCor(cor: Seq[_], id: String = \"\", tlt: String = \"\")(implicit kernel: KernelRuntime) = {\n",
        "    val num = cor.size\n",
        "    val title = if(tlt==\"\") s\"RANDOM_${num}_GO\" else tlt\n",
        "    val goes = sample_pro_goes(num)\n",
        "    val cors = makeProCor(goes)\n",
        "    makeHeatCor(cors, if(id==\"\") title else id, title)(kernel)\n",
        "}"
      ],
      "outputs" : [
      ]
    },
    {
      "cell_type" : "code",
      "execution_count" : 39,
      "metadata" : {
        "cell.metadata.exec_info" : {
          "startTs" : 1583918594109,
          "endTs" : 1583918594227
        },
        "language" : "scala"
      },
      "language" : "scala",
      "source" : [
        "\n",
        "def randomCor_no_replacement(cor: Seq[String], id: String = \"\", tlt: String = \"\")(implicit kernel: KernelRuntime) = {\n",
        "    val num = cor.size\n",
        "    val title = if(tlt==\"\") s\"RANDOM_${num}_GO\" else tlt\n",
        "    val goes = sample_pro_goes(num, cor)\n",
        "    val cors = makeProCor(goes)\n",
        "    makeHeatCor(cors, if(id==\"\") title else id, title)(kernel)\n",
        "}"
      ],
      "outputs" : [
      ]
    },
    {
      "cell_type" : "code",
      "execution_count" : 40,
      "metadata" : {
        "cell.metadata.exec_info" : {
          "startTs" : 1583918595701,
          "endTs" : 1583918595839
        },
        "language" : "scala"
      },
      "language" : "scala",
      "source" : [
        "def randomCor_no_longevity(cor: Seq[String], id: String = \"\", tlt: String = \"\")(implicit kernel: KernelRuntime) = {\n",
        "    val num = cor.size\n",
        "    val title = if(tlt==\"\") s\"RANDOM_${num}_GO\" else tlt\n",
        "    val goes = sample_pro_goes(num, (cor ++ key_longevity).toSet.toList)\n",
        "    val cors = makeProCor(goes)\n",
        "    makeHeatCor(cors, if(id==\"\") title else id, title)(kernel)\n",
        "}"
      ],
      "outputs" : [
      ]
    },
    {
      "cell_type" : "markdown",
      "execution_count" : 64,
      "metadata" : {
        "language" : "text"
      },
      "language" : "text",
      "source" : [
        "Pseudo GOes<br>"
      ],
      "outputs" : [
      ]
    },
    {
      "cell_type" : "code",
      "execution_count" : 65,
      "metadata" : {
        "cell.metadata.exec_info" : {
          "startTs" : 1584011271313,
          "endTs" : 1584011271343
        },
        "language" : "scala"
      },
      "language" : "scala",
      "source" : [
        "dna_repair_goes.show(100)"
      ],
      "outputs" : [
        {
          "execution_count" : 65,
          "data" : {
            "application/json" : [
              {
                "pos" : {
                  "sourceId" : "Cell65",
                  "start" : 0,
                  "end" : 20,
                  "point" : 16
                },
                "msg" : "value show is not a member of List[String]",
                "severity" : 2
              }
            ],
            "text/plain" : [
              "Error: value show is not a member of List[String] (0)"
            ]
          },
          "metadata" : {
            "rel" : "compiler_errors"
          },
          "output_type" : "execute_result"
        }
      ]
    },
    {
      "cell_type" : "markdown",
      "execution_count" : 41,
      "metadata" : {
        "language" : "text"
      },
      "language" : "text",
      "source" : [
        "## Comparisons with figures\n",
        "\n",
        "\n"
      ],
      "outputs" : [
      ]
    },
    {
      "cell_type" : "markdown",
      "execution_count" : 42,
      "metadata" : {
        "language" : "text"
      },
      "language" : "text",
      "source" : [
        "### DNA repair<br>\n",
        "\n",
        "\n"
      ],
      "outputs" : [
      ]
    },
    {
      "cell_type" : "code",
      "execution_count" : 43,
      "metadata" : {
        "cell.metadata.exec_info" : {
          "startTs" : 1583918598897,
          "endTs" : 1583918599982
        },
        "language" : "scala"
      },
      "language" : "scala",
      "source" : [
        "val dna_repair_cor = makeProCor(dna_repair_goes)\n",
        "dna_repair_cor.show(10,1000)"
      ],
      "outputs" : [
        {
          "name" : "stdout",
          "text" : [
            "+--------------------+-------------------+--------------------+--------------------+-------------------+-------------------+-------------------+--------------------+---------------------+--------------------+---------------------+--------------------+--------------------+-------------------+-------------------+--------------------+---------------------+\n",
            "|                  go|bowhead_whale_liver|    gray_whale_liver|         minke_liver|        human_liver|        bat_liver_1|          NMR_liver|  cow_totalRNA_liver| mouse_totalRNA_liver|bowhead_whale_kidney|    gray_whale_kidney|        minke_kidney|        human_kidney|       bat_kidney_1|         NMR_kidney| cow_totalRNA_kidney|mouse_totalRNA_kidney|\n",
            "+--------------------+-------------------+--------------------+--------------------+-------------------+-------------------+-------------------+--------------------+---------------------+--------------------+---------------------+--------------------+--------------------+-------------------+-------------------+--------------------+---------------------+\n",
            "| bowhead_whale_liver|                1.0|  0.6540525536159908|  0.5196272446690062|0.34952004517222035| 0.8477831459219355| 0.7118645203907992| 0.29192546583851875|   0.3551665725578846|  0.6757063225296766|   0.6506636802812104| 0.48686813576604865|  0.3642010163749667| 0.8150240370190441| 0.7581922114004194| 0.33145115753814963|   0.3608130999435778|\n",
            "|    gray_whale_liver| 0.6540525536159908|                 1.0|  0.8937853107344603|  0.829709154803018| 0.5491525423728786| 0.4119808019796209|-0.11070319560340783| -0.06890709114090354|  0.8674767229611751|   0.9830508474576359|  0.8790960451978567|  0.8330980281378672| 0.5898305084746575|0.43684658426643447|-0.12086981560781526| -0.06551821780609579|\n",
            "|         minke_liver| 0.5196272446690062|  0.8937853107344603|                 1.0|  0.869246010375652|0.38079096045198285|0.33964398078154723|-0.15927704673549492| -0.11748094227296928|  0.9194688131973013|    0.907344632768386|  0.9966101694917199|  0.8658571370409536|0.42824858757073175|0.33512292945665484| -0.1570177978456113|  -0.1140920689382736|\n",
            "|         human_liver|0.34952004517222035|   0.829709154803018|   0.869246010375652|                1.0|0.31008191013398373|0.17288138352346868| -0.2467532467532885|  -0.1688311688312201|    0.84180804395417|   0.8251906570232092|   0.873764508155448|  0.9954827780915173| 0.3699520057153908|0.18531076403823651| -0.2806324110672855|  -0.1699604743084362|\n",
            "|         bat_liver_1| 0.8477831459219355|  0.5491525423728786| 0.38079096045198285|0.31008191013398373|                1.0| 0.8378073236416556|  0.5297938646734317|   0.5467382313474771|  0.5416784618620614|   0.5785310734462985| 0.35254237288138957| 0.33323921125523315| 0.9841807909606575| 0.9027974364368757|  0.5540807902395666|   0.5461734191249797|\n",
            "|           NMR_liver| 0.7118645203907992|  0.4119808019796209| 0.33964398078154723|0.17288138352346868| 0.8378073236416556|                1.0|  0.6796611254207093|   0.7282487037965742| 0.36009044657994593|   0.4560610523971226| 0.30912688433857904| 0.18022601746400763| 0.8089856214456093| 0.9717354437536816|  0.6819210127870553|   0.7316385348462408|\n",
            "|  cow_totalRNA_liver|0.29192546583851875|-0.11070319560340783|-0.15927704673549492|-0.2467532467532885| 0.5297938646734317| 0.6796611254207093|                 1.0|    0.872388481084085|-0.13389832645450067| -0.08020333559026166|-0.18299916007939765|-0.24223602484485393| 0.5128494979993135| 0.6548023643912617|  0.9785431959345506|   0.8746470920382181|\n",
            "|mouse_totalRNA_liver| 0.3551665725578846|-0.06890709114090354|-0.11748094227296928|-0.1688311688312201| 0.5467382313474771| 0.7282487037965742|   0.872388481084085|                  1.0|-0.05819209968275804|-0.028240611123251345|-0.14120305561679894|-0.15866741953711438| 0.5410901091229149| 0.6774012380544807|  0.8848108413326009|   0.9977413890458557|\n",
            "|bowhead_whale_kidney| 0.6757063225296766|  0.8674767229611751|  0.9194688131973013|   0.84180804395417| 0.5416784618620614|0.36009044657994593|-0.13389832645450067| -0.05819209968275804|                 1.0|   0.8912122424168102|  0.9092964477163936|  0.8457628468454795| 0.5795422667080041| 0.4166195590729592|-0.11694917120709797| -0.05706215599961938|\n",
            "|   gray_whale_kidney| 0.6506636802812104|  0.9830508474576359|   0.907344632768386| 0.8251906570232092| 0.5785310734462985| 0.4560610523971226|-0.08020333559026166|-0.028240611123251345|  0.8912122424168102|                  1.0|  0.8903954802260055|   0.827449905913131| 0.6214689265537445| 0.4899689373336114|-0.09149958003960461|-0.024851737788849956|\n",
            "+--------------------+-------------------+--------------------+--------------------+-------------------+-------------------+-------------------+--------------------+---------------------+--------------------+---------------------+--------------------+--------------------+-------------------+-------------------+--------------------+---------------------+\n",
            "only showing top 10 rows\n",
            "\n"
          ],
          "output_type" : "stream"
        }
      ]
    },
    {
      "cell_type" : "markdown",
      "execution_count" : 44,
      "metadata" : {
        "language" : "text"
      },
      "language" : "text",
      "source" : [
        "Random same size<br>"
      ],
      "outputs" : [
      ]
    },
    {
      "cell_type" : "code",
      "execution_count" : 45,
      "metadata" : {
        "cell.metadata.exec_info" : {
          "startTs" : 1583918613328,
          "endTs" : 1583918613431
        },
        "language" : "scala"
      },
      "language" : "scala",
      "source" : [
        "div(\"dna_repair_cor\")"
      ],
      "outputs" : [
        {
          "data" : {
            "text/html" : [
              "<div id=\"dna_repair_cor\"></div>"
            ]
          },
          "output_type" : "display_data"
        }
      ]
    },
    {
      "cell_type" : "code",
      "execution_count" : 46,
      "metadata" : {
        "cell.metadata.exec_info" : {
          "startTs" : 1583918614825,
          "endTs" : 1583918615165
        },
        "language" : "scala"
      },
      "language" : "scala",
      "source" : [
        "makeHeatCor(dna_repair_cor, \"dna_repair_cor\", \"DNA repair correlations for liver and kidney\")"
      ],
      "outputs" : [
        {
          "data" : {
            "text/html" : [
              "<script type=\"text/javascript\" charset=\"utf-8\">\n",
              "var layout = {\n",
              "  title: 'DNA repair correlations for liver and kidney',\n",
              "  annotations: [],\n",
              "  margin: {\n",
              "    l: 300,\n",
              "    r: 125,\n",
              "    t: 400,\n",
              "    b: 50\n",
              "  },\n",
              "  width: 1800,\n",
              "  height: 1400,\n",
              "  xaxis: {\n",
              "    side: 'top',\n",
              "    tickfont: {\n",
              "      size: 20\n",
              "    },\n",
              "    tickangle: '-30'\n",
              "  },\n",
              "  yaxis: {\n",
              "    side: 'left',\n",
              "    autorange: 'reversed',\n",
              "    tickfont: {\n",
              "      size: 20\n",
              "    }\n",
              "  },\n",
              "};\n",
              "\n",
              "var xValues = [\"Bowhead whale liver\",\"Gray whale liver\",\"Minke whale liver\",\"Human liver\",\"Bat liver\",\"Naked mole rat liver\",\"Cow liver\",\"Mouse liver\",\"Bowhead whale kidney\",\"Gray whale kidney\",\"Minke whale kidney\",\"Human kidney\",\"Bat kidney\",\"Naked mole rat kidney\",\"Cow kidney\",\"Mouse kidney\"]\n",
              "var yValues =  [\"Bowhead whale liver\",\"Gray whale liver\",\"Minke whale liver\",\"Human liver\",\"Bat liver\",\"Naked mole rat liver\",\"Cow liver\",\"Mouse liver\",\"Bowhead whale kidney\",\"Gray whale kidney\",\"Minke whale kidney\",\"Human kidney\",\"Bat kidney\",\"Naked mole rat kidney\",\"Cow kidney\",\"Mouse kidney\"]\n",
              "var zValues =  [[1.0,0.65,0.52,0.35,0.85,0.71,0.29,0.36,0.68,0.65,0.49,0.36,0.82,0.76,0.33,0.36],[0.65,1.0,0.89,0.83,0.55,0.41,-0.11,-0.07,0.87,0.98,0.88,0.83,0.59,0.44,-0.12,-0.07],[0.52,0.89,1.0,0.87,0.38,0.34,-0.16,-0.12,0.92,0.91,1.0,0.87,0.43,0.34,-0.16,-0.11],[0.35,0.83,0.87,1.0,0.31,0.17,-0.25,-0.17,0.84,0.83,0.87,1.0,0.37,0.19,-0.28,-0.17],[0.85,0.55,0.38,0.31,1.0,0.84,0.53,0.55,0.54,0.58,0.35,0.33,0.98,0.9,0.55,0.55],[0.71,0.41,0.34,0.17,0.84,1.0,0.68,0.73,0.36,0.46,0.31,0.18,0.81,0.97,0.68,0.73],[0.29,-0.11,-0.16,-0.25,0.53,0.68,1.0,0.87,-0.13,-0.08,-0.18,-0.24,0.51,0.65,0.98,0.87],[0.36,-0.07,-0.12,-0.17,0.55,0.73,0.87,1.0,-0.06,-0.03,-0.14,-0.16,0.54,0.68,0.88,1.0],[0.68,0.87,0.92,0.84,0.54,0.36,-0.13,-0.06,1.0,0.89,0.91,0.85,0.58,0.42,-0.12,-0.06],[0.65,0.98,0.91,0.83,0.58,0.46,-0.08,-0.03,0.89,1.0,0.89,0.83,0.62,0.49,-0.09,-0.02],[0.49,0.88,1.0,0.87,0.35,0.31,-0.18,-0.14,0.91,0.89,1.0,0.87,0.4,0.3,-0.18,-0.14],[0.36,0.83,0.87,1.0,0.33,0.18,-0.24,-0.16,0.85,0.83,0.87,1.0,0.39,0.2,-0.27,-0.16],[0.82,0.59,0.43,0.37,0.98,0.81,0.51,0.54,0.58,0.62,0.4,0.39,1.0,0.87,0.53,0.54],[0.76,0.44,0.34,0.19,0.9,0.97,0.65,0.68,0.42,0.49,0.3,0.2,0.87,1.0,0.67,0.68],[0.33,-0.12,-0.16,-0.28,0.55,0.68,0.98,0.88,-0.12,-0.09,-0.18,-0.27,0.53,0.67,1.0,0.89],[0.36,-0.07,-0.11,-0.17,0.55,0.73,0.87,1.0,-0.06,-0.02,-0.14,-0.16,0.54,0.68,0.89,1.0]]\n",
              "var aValues =  [[1.0,0.65,0.52,0.35,0.85,0.71,0.29,0.36,0.68,0.65,0.49,0.36,0.82,0.76,0.33,0.36],[0.65,1.0,0.89,0.83,0.55,0.41,-0.11,-0.07,0.87,0.98,0.88,0.83,0.59,0.44,-0.12,-0.07],[0.52,0.89,1.0,0.87,0.38,0.34,-0.16,-0.12,0.92,0.91,1.0,0.87,0.43,0.34,-0.16,-0.11],[0.35,0.83,0.87,1.0,0.31,0.17,-0.25,-0.17,0.84,0.83,0.87,1.0,0.37,0.19,-0.28,-0.17],[0.85,0.55,0.38,0.31,1.0,0.84,0.53,0.55,0.54,0.58,0.35,0.33,0.98,0.9,0.55,0.55],[0.71,0.41,0.34,0.17,0.84,1.0,0.68,0.73,0.36,0.46,0.31,0.18,0.81,0.97,0.68,0.73],[0.29,-0.11,-0.16,-0.25,0.53,0.68,1.0,0.87,-0.13,-0.08,-0.18,-0.24,0.51,0.65,0.98,0.87],[0.36,-0.07,-0.12,-0.17,0.55,0.73,0.87,1.0,-0.06,-0.03,-0.14,-0.16,0.54,0.68,0.88,1.0],[0.68,0.87,0.92,0.84,0.54,0.36,-0.13,-0.06,1.0,0.89,0.91,0.85,0.58,0.42,-0.12,-0.06],[0.65,0.98,0.91,0.83,0.58,0.46,-0.08,-0.03,0.89,1.0,0.89,0.83,0.62,0.49,-0.09,-0.02],[0.49,0.88,1.0,0.87,0.35,0.31,-0.18,-0.14,0.91,0.89,1.0,0.87,0.4,0.3,-0.18,-0.14],[0.36,0.83,0.87,1.0,0.33,0.18,-0.24,-0.16,0.85,0.83,0.87,1.0,0.39,0.2,-0.27,-0.16],[0.82,0.59,0.43,0.37,0.98,0.81,0.51,0.54,0.58,0.62,0.4,0.39,1.0,0.87,0.53,0.54],[0.76,0.44,0.34,0.19,0.9,0.97,0.65,0.68,0.42,0.49,0.3,0.2,0.87,1.0,0.67,0.68],[0.33,-0.12,-0.16,-0.28,0.55,0.68,0.98,0.88,-0.12,-0.09,-0.18,-0.27,0.53,0.67,1.0,0.89],[0.36,-0.07,-0.11,-0.17,0.55,0.73,0.87,1.0,-0.06,-0.02,-0.14,-0.16,0.54,0.68,0.89,1.0]]\n",
              "\n",
              "\n",
              "for ( var i = 0; i < yValues.length; i++ ) {\n",
              "  for ( var j = 0; j < xValues.length; j++ ) {\n",
              "    var currentValue = zValues[i][j];\n",
              "    if (currentValue != 0.0) {\n",
              "      var textColor = 'white';\n",
              "    }else{\n",
              "      var textColor = 'black';\n",
              "    }\n",
              "    var result = {\n",
              "      xref: 'x1',\n",
              "      yref: 'y1',\n",
              "      x: xValues[j],\n",
              "      y: yValues[i],\n",
              "      text: aValues[i][j],\n",
              "      font: {\n",
              "        family: 'Arial',\n",
              "        size: 5,\n",
              "        color: 'rgb(50, 171, 96)'\n",
              "      },\n",
              "      showarrow: false,\n",
              "      font: {\n",
              "        color: textColor,\n",
              "        size: '18'\n",
              "      }\n",
              "    };\n",
              "    layout.annotations.push(result);\n",
              "  }\n",
              "}\n",
              "\n",
              "var data = [{\n",
              "   x: xValues,\n",
              "   y: yValues,\n",
              "   z: zValues,\n",
              "   \n",
              "   colorscale: 'RdBu', \n",
              "   type: 'heatmap' \n",
              " }];\n",
              " Plotly.newPlot('dna_repair_cor', data, layout);\n",
              "</script>\n",
              "    <h3>dna_repair_cor heatmap has been displayed</h3>"
            ]
          },
          "output_type" : "display_data"
        }
      ]
    },
    {
      "cell_type" : "code",
      "execution_count" : 47,
      "metadata" : {
        "cell.metadata.exec_info" : {
          "startTs" : 1583919064791,
          "endTs" : 1583919064911
        },
        "language" : "scala"
      },
      "language" : "scala",
      "source" : [
        "randomDiv(dna_repair_goes, id=\"random_dna_repair\")"
      ],
      "outputs" : [
        {
          "data" : {
            "text/html" : [
              "<div id=\"random_dna_repair\"></div>"
            ]
          },
          "output_type" : "display_data"
        }
      ]
    },
    {
      "cell_type" : "code",
      "execution_count" : 48,
      "metadata" : {
        "cell.metadata.exec_info" : {
          "startTs" : 1583919133975,
          "endTs" : 1583919135240
        },
        "language" : "scala"
      },
      "language" : "scala",
      "source" : [
        "randomCor_no_longevity(dna_repair_goes, id=\"random_dna_repair\", tlt = \"random sample, same number as in DNA repair figure\")"
      ],
      "outputs" : [
        {
          "data" : {
            "text/html" : [
              "<script type=\"text/javascript\" charset=\"utf-8\">\n",
              "var layout = {\n",
              "  title: 'random sample, same number as in DNA repair figure',\n",
              "  annotations: [],\n",
              "  margin: {\n",
              "    l: 300,\n",
              "    r: 125,\n",
              "    t: 400,\n",
              "    b: 50\n",
              "  },\n",
              "  width: 1800,\n",
              "  height: 1400,\n",
              "  xaxis: {\n",
              "    side: 'top',\n",
              "    tickfont: {\n",
              "      size: 20\n",
              "    },\n",
              "    tickangle: '-30'\n",
              "  },\n",
              "  yaxis: {\n",
              "    side: 'left',\n",
              "    autorange: 'reversed',\n",
              "    tickfont: {\n",
              "      size: 20\n",
              "    }\n",
              "  },\n",
              "};\n",
              "\n",
              "var xValues = [\"Bowhead whale liver\",\"Gray whale liver\",\"Minke whale liver\",\"Human liver\",\"Bat liver\",\"Naked mole rat liver\",\"Cow liver\",\"Mouse liver\",\"Bowhead whale kidney\",\"Gray whale kidney\",\"Minke whale kidney\",\"Human kidney\",\"Bat kidney\",\"Naked mole rat kidney\",\"Cow kidney\",\"Mouse kidney\"]\n",
              "var yValues =  [\"Bowhead whale liver\",\"Gray whale liver\",\"Minke whale liver\",\"Human liver\",\"Bat liver\",\"Naked mole rat liver\",\"Cow liver\",\"Mouse liver\",\"Bowhead whale kidney\",\"Gray whale kidney\",\"Minke whale kidney\",\"Human kidney\",\"Bat kidney\",\"Naked mole rat kidney\",\"Cow kidney\",\"Mouse kidney\"]\n",
              "var zValues =  [[1.0,0.86,0.93,0.54,0.63,0.37,0.8,0.64,0.96,0.82,0.94,0.64,0.54,0.4,0.73,0.65],[0.86,1.0,0.93,0.52,0.67,0.54,0.86,0.58,0.8,0.97,0.91,0.62,0.59,0.58,0.79,0.58],[0.93,0.93,1.0,0.5,0.58,0.49,0.86,0.57,0.88,0.89,0.99,0.59,0.49,0.52,0.78,0.56],[0.54,0.52,0.5,1.0,0.54,0.35,0.58,0.73,0.44,0.47,0.51,0.91,0.42,0.35,0.56,0.58],[0.63,0.67,0.58,0.54,1.0,0.56,0.79,0.5,0.6,0.66,0.58,0.69,0.95,0.57,0.79,0.67],[0.37,0.54,0.49,0.35,0.56,1.0,0.51,0.26,0.33,0.61,0.48,0.42,0.58,0.99,0.51,0.5],[0.8,0.86,0.86,0.58,0.79,0.51,1.0,0.58,0.75,0.84,0.86,0.71,0.71,0.54,0.97,0.7],[0.64,0.58,0.57,0.73,0.5,0.26,0.58,1.0,0.59,0.58,0.59,0.68,0.41,0.29,0.55,0.63],[0.96,0.8,0.88,0.44,0.6,0.33,0.75,0.59,1.0,0.79,0.9,0.63,0.54,0.37,0.71,0.67],[0.82,0.97,0.89,0.47,0.66,0.61,0.84,0.58,0.79,1.0,0.89,0.59,0.62,0.66,0.78,0.68],[0.94,0.91,0.99,0.51,0.58,0.48,0.86,0.59,0.9,0.89,1.0,0.61,0.51,0.51,0.79,0.6],[0.64,0.62,0.59,0.91,0.69,0.42,0.71,0.68,0.63,0.59,0.61,1.0,0.6,0.42,0.73,0.72],[0.54,0.59,0.49,0.42,0.95,0.58,0.71,0.41,0.54,0.62,0.51,0.6,1.0,0.59,0.76,0.73],[0.4,0.58,0.52,0.35,0.57,0.99,0.54,0.29,0.37,0.66,0.51,0.42,0.59,1.0,0.54,0.53],[0.73,0.79,0.78,0.56,0.79,0.51,0.97,0.55,0.71,0.78,0.79,0.73,0.76,0.54,1.0,0.75],[0.65,0.58,0.56,0.58,0.67,0.5,0.7,0.63,0.67,0.68,0.6,0.72,0.73,0.53,0.75,1.0]]\n",
              "var aValues =  [[1.0,0.86,0.93,0.54,0.63,0.37,0.8,0.64,0.96,0.82,0.94,0.64,0.54,0.4,0.73,0.65],[0.86,1.0,0.93,0.52,0.67,0.54,0.86,0.58,0.8,0.97,0.91,0.62,0.59,0.58,0.79,0.58],[0.93,0.93,1.0,0.5,0.58,0.49,0.86,0.57,0.88,0.89,0.99,0.59,0.49,0.52,0.78,0.56],[0.54,0.52,0.5,1.0,0.54,0.35,0.58,0.73,0.44,0.47,0.51,0.91,0.42,0.35,0.56,0.58],[0.63,0.67,0.58,0.54,1.0,0.56,0.79,0.5,0.6,0.66,0.58,0.69,0.95,0.57,0.79,0.67],[0.37,0.54,0.49,0.35,0.56,1.0,0.51,0.26,0.33,0.61,0.48,0.42,0.58,0.99,0.51,0.5],[0.8,0.86,0.86,0.58,0.79,0.51,1.0,0.58,0.75,0.84,0.86,0.71,0.71,0.54,0.97,0.7],[0.64,0.58,0.57,0.73,0.5,0.26,0.58,1.0,0.59,0.58,0.59,0.68,0.41,0.29,0.55,0.63],[0.96,0.8,0.88,0.44,0.6,0.33,0.75,0.59,1.0,0.79,0.9,0.63,0.54,0.37,0.71,0.67],[0.82,0.97,0.89,0.47,0.66,0.61,0.84,0.58,0.79,1.0,0.89,0.59,0.62,0.66,0.78,0.68],[0.94,0.91,0.99,0.51,0.58,0.48,0.86,0.59,0.9,0.89,1.0,0.61,0.51,0.51,0.79,0.6],[0.64,0.62,0.59,0.91,0.69,0.42,0.71,0.68,0.63,0.59,0.61,1.0,0.6,0.42,0.73,0.72],[0.54,0.59,0.49,0.42,0.95,0.58,0.71,0.41,0.54,0.62,0.51,0.6,1.0,0.59,0.76,0.73],[0.4,0.58,0.52,0.35,0.57,0.99,0.54,0.29,0.37,0.66,0.51,0.42,0.59,1.0,0.54,0.53],[0.73,0.79,0.78,0.56,0.79,0.51,0.97,0.55,0.71,0.78,0.79,0.73,0.76,0.54,1.0,0.75],[0.65,0.58,0.56,0.58,0.67,0.5,0.7,0.63,0.67,0.68,0.6,0.72,0.73,0.53,0.75,1.0]]\n",
              "\n",
              "\n",
              "for ( var i = 0; i < yValues.length; i++ ) {\n",
              "  for ( var j = 0; j < xValues.length; j++ ) {\n",
              "    var currentValue = zValues[i][j];\n",
              "    if (currentValue != 0.0) {\n",
              "      var textColor = 'white';\n",
              "    }else{\n",
              "      var textColor = 'black';\n",
              "    }\n",
              "    var result = {\n",
              "      xref: 'x1',\n",
              "      yref: 'y1',\n",
              "      x: xValues[j],\n",
              "      y: yValues[i],\n",
              "      text: aValues[i][j],\n",
              "      font: {\n",
              "        family: 'Arial',\n",
              "        size: 5,\n",
              "        color: 'rgb(50, 171, 96)'\n",
              "      },\n",
              "      showarrow: false,\n",
              "      font: {\n",
              "        color: textColor,\n",
              "        size: '18'\n",
              "      }\n",
              "    };\n",
              "    layout.annotations.push(result);\n",
              "  }\n",
              "}\n",
              "\n",
              "var data = [{\n",
              "   x: xValues,\n",
              "   y: yValues,\n",
              "   z: zValues,\n",
              "   \n",
              "   colorscale: 'RdBu', \n",
              "   type: 'heatmap' \n",
              " }];\n",
              " Plotly.newPlot('random_dna_repair', data, layout);\n",
              "</script>\n",
              "    <h3>random_dna_repair heatmap has been displayed</h3>"
            ]
          },
          "output_type" : "display_data"
        }
      ]
    },
    {
      "cell_type" : "code",
      "execution_count" : 63,
      "metadata" : {
        "cell.metadata.exec_info" : {
          "startTs" : 1583919869721,
          "endTs" : 1583919869844
        },
        "language" : "scala"
      },
      "language" : "scala",
      "source" : [
        "randomDiv(ubiquitin_goes, id=\"random_ubiquitin\")"
      ],
      "outputs" : [
        {
          "data" : {
            "text/html" : [
              "<div id=\"random_ubiquitin\"></div>"
            ]
          },
          "output_type" : "display_data"
        }
      ]
    },
    {
      "cell_type" : "code",
      "execution_count" : 49,
      "metadata" : {
        "cell.metadata.exec_info" : {
          "startTs" : 1583920062607,
          "endTs" : 1583920063753
        },
        "language" : "scala"
      },
      "language" : "scala",
      "source" : [
        "randomCor_no_longevity(dna_repair_goes, id=\"random_ubiquitin\", tlt = \"random sample, same number as in Ubiquitination figure\")"
      ],
      "outputs" : [
        {
          "data" : {
            "text/html" : [
              "<script type=\"text/javascript\" charset=\"utf-8\">\n",
              "var layout = {\n",
              "  title: 'random sample, same number as in Ubiquitination figure',\n",
              "  annotations: [],\n",
              "  margin: {\n",
              "    l: 300,\n",
              "    r: 125,\n",
              "    t: 400,\n",
              "    b: 50\n",
              "  },\n",
              "  width: 1800,\n",
              "  height: 1400,\n",
              "  xaxis: {\n",
              "    side: 'top',\n",
              "    tickfont: {\n",
              "      size: 20\n",
              "    },\n",
              "    tickangle: '-30'\n",
              "  },\n",
              "  yaxis: {\n",
              "    side: 'left',\n",
              "    autorange: 'reversed',\n",
              "    tickfont: {\n",
              "      size: 20\n",
              "    }\n",
              "  },\n",
              "};\n",
              "\n",
              "var xValues = [\"Bowhead whale liver\",\"Gray whale liver\",\"Minke whale liver\",\"Human liver\",\"Bat liver\",\"Naked mole rat liver\",\"Cow liver\",\"Mouse liver\",\"Bowhead whale kidney\",\"Gray whale kidney\",\"Minke whale kidney\",\"Human kidney\",\"Bat kidney\",\"Naked mole rat kidney\",\"Cow kidney\",\"Mouse kidney\"]\n",
              "var yValues =  [\"Bowhead whale liver\",\"Gray whale liver\",\"Minke whale liver\",\"Human liver\",\"Bat liver\",\"Naked mole rat liver\",\"Cow liver\",\"Mouse liver\",\"Bowhead whale kidney\",\"Gray whale kidney\",\"Minke whale kidney\",\"Human kidney\",\"Bat kidney\",\"Naked mole rat kidney\",\"Cow kidney\",\"Mouse kidney\"]\n",
              "var zValues =  [[1.0,0.9,0.97,0.78,0.7,0.84,0.69,0.47,0.95,0.94,0.95,0.77,0.76,0.88,0.73,0.67],[0.9,1.0,0.92,0.85,0.67,0.75,0.66,0.4,0.95,0.98,0.89,0.84,0.78,0.79,0.68,0.6],[0.97,0.92,1.0,0.81,0.72,0.83,0.76,0.54,0.94,0.97,0.96,0.79,0.8,0.86,0.79,0.75],[0.78,0.85,0.81,1.0,0.76,0.65,0.69,0.58,0.84,0.84,0.86,0.94,0.82,0.72,0.69,0.67],[0.7,0.67,0.72,0.76,1.0,0.65,0.54,0.72,0.71,0.69,0.77,0.78,0.93,0.7,0.57,0.73],[0.84,0.75,0.83,0.65,0.65,1.0,0.54,0.44,0.84,0.81,0.88,0.62,0.71,0.95,0.67,0.62],[0.69,0.66,0.76,0.69,0.54,0.54,1.0,0.7,0.73,0.71,0.74,0.66,0.61,0.66,0.94,0.88],[0.47,0.4,0.54,0.58,0.72,0.44,0.7,1.0,0.5,0.48,0.59,0.51,0.62,0.49,0.72,0.88],[0.95,0.95,0.94,0.84,0.71,0.84,0.73,0.5,1.0,0.97,0.95,0.83,0.78,0.89,0.76,0.69],[0.94,0.98,0.97,0.84,0.69,0.81,0.71,0.48,0.97,1.0,0.94,0.82,0.79,0.82,0.75,0.69],[0.95,0.89,0.96,0.86,0.77,0.88,0.74,0.59,0.95,0.94,1.0,0.84,0.84,0.92,0.77,0.75],[0.77,0.84,0.79,0.94,0.78,0.62,0.66,0.51,0.83,0.82,0.84,1.0,0.85,0.7,0.66,0.66],[0.76,0.78,0.8,0.82,0.93,0.71,0.61,0.62,0.78,0.79,0.84,0.85,1.0,0.75,0.65,0.74],[0.88,0.79,0.86,0.72,0.7,0.95,0.66,0.49,0.89,0.82,0.92,0.7,0.75,1.0,0.71,0.66],[0.73,0.68,0.79,0.69,0.57,0.67,0.94,0.72,0.76,0.75,0.77,0.66,0.65,0.71,1.0,0.93],[0.67,0.6,0.75,0.67,0.73,0.62,0.88,0.88,0.69,0.69,0.75,0.66,0.74,0.66,0.93,1.0]]\n",
              "var aValues =  [[1.0,0.9,0.97,0.78,0.7,0.84,0.69,0.47,0.95,0.94,0.95,0.77,0.76,0.88,0.73,0.67],[0.9,1.0,0.92,0.85,0.67,0.75,0.66,0.4,0.95,0.98,0.89,0.84,0.78,0.79,0.68,0.6],[0.97,0.92,1.0,0.81,0.72,0.83,0.76,0.54,0.94,0.97,0.96,0.79,0.8,0.86,0.79,0.75],[0.78,0.85,0.81,1.0,0.76,0.65,0.69,0.58,0.84,0.84,0.86,0.94,0.82,0.72,0.69,0.67],[0.7,0.67,0.72,0.76,1.0,0.65,0.54,0.72,0.71,0.69,0.77,0.78,0.93,0.7,0.57,0.73],[0.84,0.75,0.83,0.65,0.65,1.0,0.54,0.44,0.84,0.81,0.88,0.62,0.71,0.95,0.67,0.62],[0.69,0.66,0.76,0.69,0.54,0.54,1.0,0.7,0.73,0.71,0.74,0.66,0.61,0.66,0.94,0.88],[0.47,0.4,0.54,0.58,0.72,0.44,0.7,1.0,0.5,0.48,0.59,0.51,0.62,0.49,0.72,0.88],[0.95,0.95,0.94,0.84,0.71,0.84,0.73,0.5,1.0,0.97,0.95,0.83,0.78,0.89,0.76,0.69],[0.94,0.98,0.97,0.84,0.69,0.81,0.71,0.48,0.97,1.0,0.94,0.82,0.79,0.82,0.75,0.69],[0.95,0.89,0.96,0.86,0.77,0.88,0.74,0.59,0.95,0.94,1.0,0.84,0.84,0.92,0.77,0.75],[0.77,0.84,0.79,0.94,0.78,0.62,0.66,0.51,0.83,0.82,0.84,1.0,0.85,0.7,0.66,0.66],[0.76,0.78,0.8,0.82,0.93,0.71,0.61,0.62,0.78,0.79,0.84,0.85,1.0,0.75,0.65,0.74],[0.88,0.79,0.86,0.72,0.7,0.95,0.66,0.49,0.89,0.82,0.92,0.7,0.75,1.0,0.71,0.66],[0.73,0.68,0.79,0.69,0.57,0.67,0.94,0.72,0.76,0.75,0.77,0.66,0.65,0.71,1.0,0.93],[0.67,0.6,0.75,0.67,0.73,0.62,0.88,0.88,0.69,0.69,0.75,0.66,0.74,0.66,0.93,1.0]]\n",
              "\n",
              "\n",
              "for ( var i = 0; i < yValues.length; i++ ) {\n",
              "  for ( var j = 0; j < xValues.length; j++ ) {\n",
              "    var currentValue = zValues[i][j];\n",
              "    if (currentValue != 0.0) {\n",
              "      var textColor = 'white';\n",
              "    }else{\n",
              "      var textColor = 'black';\n",
              "    }\n",
              "    var result = {\n",
              "      xref: 'x1',\n",
              "      yref: 'y1',\n",
              "      x: xValues[j],\n",
              "      y: yValues[i],\n",
              "      text: aValues[i][j],\n",
              "      font: {\n",
              "        family: 'Arial',\n",
              "        size: 5,\n",
              "        color: 'rgb(50, 171, 96)'\n",
              "      },\n",
              "      showarrow: false,\n",
              "      font: {\n",
              "        color: textColor,\n",
              "        size: '18'\n",
              "      }\n",
              "    };\n",
              "    layout.annotations.push(result);\n",
              "  }\n",
              "}\n",
              "\n",
              "var data = [{\n",
              "   x: xValues,\n",
              "   y: yValues,\n",
              "   z: zValues,\n",
              "   \n",
              "   colorscale: 'RdBu', \n",
              "   type: 'heatmap' \n",
              " }];\n",
              " Plotly.newPlot('random_ubiquitin', data, layout);\n",
              "</script>\n",
              "    <h3>random_ubiquitin heatmap has been displayed</h3>"
            ]
          },
          "output_type" : "display_data"
        }
      ]
    },
    {
      "cell_type" : "markdown",
      "execution_count" : 50,
      "metadata" : {
        "language" : "text"
      },
      "language" : "text",
      "source" : [
        "### Random GOes\n",
        "\n"
      ],
      "outputs" : [
      ]
    },
    {
      "cell_type" : "code",
      "execution_count" : 51,
      "metadata" : {
        "cell.metadata.exec_info" : {
          "startTs" : 1583797411378,
          "endTs" : 1583797411876
        },
        "language" : "scala"
      },
      "language" : "scala",
      "source" : [
        "val all_pro_ranks = processes.select(\"go\", (\"label\"::featuresOrderedRanked):_*).cache"
      ],
      "outputs" : [
      ]
    },
    {
      "cell_type" : "code",
      "execution_count" : 52,
      "metadata" : {
        "cell.metadata.exec_info" : {
          "startTs" : 1583797427208,
          "endTs" : 1583797427323
        },
        "language" : "scala"
      },
      "language" : "scala",
      "source" : [
        "def go_ranked(goes: Seq[String]) =  processes.where($\"go\".isin(goes:_*)).select(\"go\", (\"label\"::featuresOrderedRanked):_*).sort($\"bowhead_whale_liver_rank\".asc)"
      ],
      "outputs" : [
      ]
    },
    {
      "cell_type" : "markdown",
      "execution_count" : 53,
      "metadata" : {
        "language" : "text"
      },
      "language" : "text",
      "source" : [
        "# GO comparisons\n",
        "\n"
      ],
      "outputs" : [
      ]
    },
    {
      "cell_type" : "code",
      "execution_count" : 54,
      "metadata" : {
        "cell.metadata.exec_info" : {
          "startTs" : 1583798058455,
          "endTs" : 1583798058922
        },
        "language" : "scala"
      },
      "language" : "scala",
      "source" : [
        "val goTable = spark.readTSV(comparison, true)"
      ],
      "outputs" : [
      ]
    },
    {
      "cell_type" : "code",
      "execution_count" : 55,
      "metadata" : {
        "cell.metadata.exec_info" : {
          "startTs" : 1583798074765,
          "endTs" : 1583798075705
        },
        "language" : "scala"
      },
      "language" : "scala",
      "source" : [
        "val components = spark.readTSV(grouped + \"/by_cellular_component_ranked.tab\"  , true)\n",
        "val processes = spark.readTSV(grouped + \"/by_biological_process_ranked.tab\"  , true)\n",
        "val functions = spark.readTSV(grouped + \"/by_molecular_function_ranked.tab\"  , true)\n",
        "processes.show(10,1000)"
      ],
      "outputs" : [
        {
          "name" : "stdout",
          "text" : [
            "+----------+------------------+---------------------------------------+------------------+--------------+------------+-----------------+-----------------------+-----------------------+---------------------+-----------------------------------------------+------------------+-------------------+------------------+------------------+------------------+--------------------+------------------+------------------+------------------+------------------+------------------+------------------+--------------------+-----------------+------------------+------------------+---------------------+------------------+-------------------+------------------+------------------+------------------+---------------------+------------------------+----------------+--------------+----------------+-------------------------+---------------------+-----------------------+-------------------+----------------+----------------+----------------------+-------------------------+-----------------+---------------+-----------------+--------------------------+----------------------+------------------------+--------------------+-----------------+-----------------+-------------------+\n",
            "|        go|         namespace|                                  label|    gray_whale_avg|uniref90_count|taxons_count|transcripts_count|human_transcripts_count|mouse_transcripts_count|cow_transcripts_count|                                           type|  gray_whale_liver|bowhead_whale_liver|       minke_liver|         NMR_liver|       human_liver|mouse_totalRNA_liver|  mouse_mRNA_liver|cow_totalRNA_liver|    cow_mRNA_liver|       bat_liver_1|       bat_liver_2| gray_whale_kidney|bowhead_whale_kidney|     minke_kidney|        NMR_kidney|      human_kidney|mouse_totalRNA_kidney| mouse_mRNA_kidney|cow_totalRNA_kidney|   cow_mRNA_kidney|      bat_kidney_1|      bat_kidney_2|gray_whale_liver_rank|bowhead_whale_liver_rank|minke_liver_rank|NMR_liver_rank|human_liver_rank|mouse_totalRNA_liver_rank|mouse_mRNA_liver_rank|cow_totalRNA_liver_rank|cow_mRNA_liver_rank|bat_liver_1_rank|bat_liver_2_rank|gray_whale_kidney_rank|bowhead_whale_kidney_rank|minke_kidney_rank|NMR_kidney_rank|human_kidney_rank|mouse_totalRNA_kidney_rank|mouse_mRNA_kidney_rank|cow_totalRNA_kidney_rank|cow_mRNA_kidney_rank|bat_kidney_1_rank|bat_kidney_2_rank|gray_whale_avg_rank|\n",
            "+----------+------------------+---------------------------------------+------------------+--------------+------------+-----------------+-----------------------+-----------------------+---------------------+-----------------------------------------------+------------------+-------------------+------------------+------------------+------------------+--------------------+------------------+------------------+------------------+------------------+------------------+------------------+--------------------+-----------------+------------------+------------------+---------------------+------------------+-------------------+------------------+------------------+------------------+---------------------+------------------------+----------------+--------------+----------------+-------------------------+---------------------+-----------------------+-------------------+----------------+----------------+----------------------+-------------------------+-----------------+---------------+-----------------+--------------------------+----------------------+------------------------+--------------------+-----------------+-----------------+-------------------+\n",
            "|GO:0006412|biological_process|                            translation| 58622.12868799999|           105|         377|              116|                    468|                    286|                  193|complete;5prime_partial;3prime_partial;internal| 58727.85268499997| 20034.802301962056|      58984.534049| 99321.06117499995| 5245.888943999999|  19875.159683999995|       5806.578341|      66453.233819| 66083.20671399997|11461.204409000002|11199.348155999996| 58516.40469099998|   7580.873805999998|83876.08076099999| 68055.43613499998|4572.8019749999985|         40136.835409|       9191.198294|  69545.42429499998|53565.293888999986| 18323.70181300001|17778.048984999994|                    1|                       1|               1|             1|              19|                       51|                   34|                      1|                  2|               2|               4|                     1|                        1|                1|              1|               14|                         5|                     4|                       1|                   6|                1|                1|                  1|\n",
            "|GO:0006412|biological_process|                            translation| 58622.12868799999|           105|         377|              116|                    468|                    286|                  193|complete;5prime_partial;3prime_partial;internal| 58727.85268499997| 20034.802301962056|      58984.534049| 99321.06117499995| 5245.888943999999|  19875.159683999995|       5806.578341|      66453.233819| 66083.20671399997|         11.592087| 9.006585000000001| 58516.40469099998|   7580.873805999998|83876.08076099999| 68055.43613499998|4572.8019749999985|         40136.835409|       9191.198294|  69545.42429499998|53565.293888999986|         17.096823|13.009627000000002|                    1|                       1|               1|             1|              19|                       51|                   34|                      1|                  2|            3755|            3794|                     1|                        1|                1|              1|               14|                         5|                     4|                       1|                   6|             3860|             4131|                  1|\n",
            "|GO:0015986|biological_process| ATP synthesis coupled proton transport|      37654.461562|            10|         107|               11|                     27|                     34|                   23|                        complete;3prime_partial|25401.259011000002| 1052.6911363299998|       2215.862389|       8746.540704| 51.20869099999999|  38082.992336999996| 4648.573934999999|24784.542308999997|26719.894422999998|1414.4498110000002|       1650.898495|      49907.664113|   680.8352779999999|      6196.322976|3932.5236429999995| 70.68287799999999|         39846.032098| 9497.099016000002|  50802.76834500001| 84021.80624300001|       2059.558498|       2765.040372|                    2|                     170|             181|            48|            1234|                       10|                   46|                     44|                 25|             122|              97|                     2|                       27|               34|            140|              748|                         7|                     3|                       5|                   1|               35|               16|                  2|\n",
            "|GO:0072659|biological_process|protein localization to plasma membrane|     20323.9080805|            35|         139|               49|                    130|                    210|                   94|5prime_partial;complete;3prime_partial;internal|11223.821051999996|  610.2329108056487|1022.2648509999999|       7133.396047|        114.082985|  2166.8968259999997| 717.9385390000001|1725.2939489999999|1694.9828269999996|        398.985163| 356.7409469999999|29423.995108999996|          301.351733|        4946.7982|2692.7870059999996|263.20660000000004|   3302.1101919999987|1100.7633880000005|  5986.928035999998| 5542.706526000002|1095.5858600000004|1061.8327749999994|                   63|                     258|             368|            56|             807|                      412|                  450|                    434|                463|             464|             489|                     3|                      109|               61|            213|              170|                       130|                   178|                      55|                  48|              113|              116|                  3|\n",
            "|GO:0060271|biological_process|                        cilium assembly|20263.448666999997|            40|         426|               47|                    230|                    268|                  140|complete;5prime_partial;internal;3prime_partial|      11533.502551|  409.1535218917271| 685.9530630000002|       1934.309707|         64.267394|   566.5098080000001|211.62986600000002|1381.0423580000001|1463.6772190000002|        299.704962|252.42020300000007|28993.394782999996|  217.42017399999997|      1777.479935|       1975.923539|155.89019599999997|   1469.7900380000008| 610.8140840000001| 3268.3320189999995| 2858.547477999999|        467.294826|        450.016717|                   62|                     361|             472|           279|            1089|                     1061|                  948|                    506|                504|             609|             652|                     4|                      180|              293|            300|              327|                       426|                   382|                     144|                 150|              356|              373|                  4|\n",
            "|GO:0060271|biological_process|                        cilium assembly|20263.448666999997|            40|         426|               47|                    230|                    268|                  140|complete;5prime_partial;internal;3prime_partial|      11533.502551|  409.1535218917271| 685.9530630000002|       1934.309707|         64.267394|   566.5098080000001|211.62986600000002|1381.0423580000001|1463.6772190000002|           0.81888|          0.920717|28993.394782999996|  217.42017399999997|      1777.479935|       1975.923539|155.89019599999997|   1469.7900380000008| 610.8140840000001| 3268.3320189999995| 2858.547477999999|          2.701362|          5.561963|                   62|                     361|             472|           279|            1089|                     1061|                  948|                    506|                504|            5588|            5453|                     4|                      180|              293|            300|              327|                       426|                   382|                     144|                 150|             5521|             5001|                  4|\n",
            "|GO:0006364|biological_process|                        rRNA processing|     19901.4267085|            40|         162|               44|                    225|                    100|                   42|               complete;5prime_partial;internal| 19892.75400300001|  8108.256701089998|      20716.442639|      27889.193586|3773.3374890000014|         4860.838548|1351.9426559999997|       8758.324353| 9679.402648000001|       1823.820699|1787.5411310000002|      19910.099414|  3307.1603040000005|     28506.682685|17208.674091999997|3318.7875520000016|   10758.778921000001|       2236.514993|        8957.417896|       7887.324251|       3108.892098|3248.3262569999993|                    3|                       6|               2|            22|              36|                      226|                  240|                    107|                100|              94|              78|                    23|                        2|                2|             10|               18|                        43|                    58|                      25|                  26|               13|               10|                  5|\n",
            "|GO:0006364|biological_process|                        rRNA processing|     19901.4267085|            40|         162|               44|                    225|                    100|                   42|               complete;5prime_partial;internal| 19892.75400300001|  8108.256701089998|      20716.442639|      27889.193586|3773.3374890000014|         4860.838548|1351.9426559999997|       8758.324353| 9679.402648000001|         18.659573|14.739277000000001|      19910.099414|  3307.1603040000005|     28506.682685|17208.674091999997|3318.7875520000016|   10758.778921000001|       2236.514993|        8957.417896|       7887.324251|         18.392401|         17.595225|                    3|                       6|               2|            22|              36|                      226|                  240|                    107|                100|            3183|            3232|                    23|                        2|                2|             10|               18|                        43|                    58|                      25|                  26|             3756|             3757|                  5|\n",
            "|GO:0001822|biological_process|                     kidney development|19776.422281000003|            24|          91|               33|                     94|                    155|                   49|complete;5prime_partial;3prime_partial;internal|11025.648652999998| 262.49310097022703|        475.742928|1075.4594460000003|        288.011142|  3226.8238629999996| 764.0380200000002|       1620.930468|1342.5852439999999|1595.0892359999996|1201.4159209999998|28527.195909000005|  154.19569999999993|      2235.120356| 944.3100400000001|141.13581600000006|   2893.9235210000006|1466.0887340000004| 1232.4153629999998|1162.9417330000003|380.27354900000006|        358.919498|                   65|                     507|             596|           477|             435|                      282|                  421|                    451|                544|             110|             136|                     5|                      276|              225|            580|              359|                       156|                   113|                     486|                 475|              449|              468|                  6|\n",
            "|GO:0007224|biological_process|           smoothened signaling pathway|19653.640699000003|            19|          69|               23|                     90|                    110|                   50|               complete;5prime_partial;internal|      11154.949309|  207.7078602491387| 297.2521460000001|        631.324113|20.746402999999994|  243.08035099999998|         82.047098|368.83391400000005| 323.6301529999999|49.096920999999995|41.345434999999995|      28152.332089|           79.132589|629.6021900000001|444.89765400000005|50.213877999999994|           631.008543| 231.7983880000001|  734.5857389999999|         630.54694|        120.032213|116.65752699999999|                   64|                     623|             858|           752|            1983|                     1797|                 1762|                   1373|               1530|            2017|            2027|                     7|                      573|              817|            972|             1004|                       905|                  1011|                     874|                 988|             1357|             1396|                  7|\n",
            "+----------+------------------+---------------------------------------+------------------+--------------+------------+-----------------+-----------------------+-----------------------+---------------------+-----------------------------------------------+------------------+-------------------+------------------+------------------+------------------+--------------------+------------------+------------------+------------------+------------------+------------------+------------------+--------------------+-----------------+------------------+------------------+---------------------+------------------+-------------------+------------------+------------------+------------------+---------------------+------------------------+----------------+--------------+----------------+-------------------------+---------------------+-----------------------+-------------------+----------------+----------------+----------------------+-------------------------+-----------------+---------------+-----------------+--------------------------+----------------------+------------------------+--------------------+-----------------+-----------------+-------------------+\n",
            "only showing top 10 rows\n",
            "\n"
          ],
          "output_type" : "stream"
        }
      ]
    },
    {
      "cell_type" : "code",
      "execution_count" : 56,
      "metadata" : {
        "cell.metadata.exec_info" : {
          "startTs" : 1583798487660,
          "endTs" : 1583798488840
        },
        "language" : "scala"
      },
      "language" : "scala",
      "source" : [
        "val components_ranks = spark.readTSV(grouped + \"/by_cellular_component_ranked.tab\"  , true).distinct\n",
        "val processes_ranks = spark.readTSV(grouped + \"/by_biological_process_ranked.tab\"  , true).distinct\n",
        "val functions_ranks = spark.readTSV(grouped + \"/by_molecular_function_ranked.tab\"  , true).distinct\n",
        "processes_ranks.show(10)"
      ],
      "outputs" : [
        {
          "name" : "stdout",
          "text" : [
            "+----------+------------------+--------------------+------------------+--------------+------------+-----------------+-----------------------+-----------------------+---------------------+--------------------+------------------+-------------------+------------------+------------------+------------------+--------------------+------------------+------------------+------------------+------------------+------------------+------------------+--------------------+------------------+------------------+------------------+---------------------+------------------+-------------------+------------------+------------------+------------------+---------------------+------------------------+----------------+--------------+----------------+-------------------------+---------------------+-----------------------+-------------------+----------------+----------------+----------------------+-------------------------+-----------------+---------------+-----------------+--------------------------+----------------------+------------------------+--------------------+-----------------+-----------------+-------------------+\n",
            "|        go|         namespace|               label|    gray_whale_avg|uniref90_count|taxons_count|transcripts_count|human_transcripts_count|mouse_transcripts_count|cow_transcripts_count|                type|  gray_whale_liver|bowhead_whale_liver|       minke_liver|         NMR_liver|       human_liver|mouse_totalRNA_liver|  mouse_mRNA_liver|cow_totalRNA_liver|    cow_mRNA_liver|       bat_liver_1|       bat_liver_2| gray_whale_kidney|bowhead_whale_kidney|      minke_kidney|        NMR_kidney|      human_kidney|mouse_totalRNA_kidney| mouse_mRNA_kidney|cow_totalRNA_kidney|   cow_mRNA_kidney|      bat_kidney_1|      bat_kidney_2|gray_whale_liver_rank|bowhead_whale_liver_rank|minke_liver_rank|NMR_liver_rank|human_liver_rank|mouse_totalRNA_liver_rank|mouse_mRNA_liver_rank|cow_totalRNA_liver_rank|cow_mRNA_liver_rank|bat_liver_1_rank|bat_liver_2_rank|gray_whale_kidney_rank|bowhead_whale_kidney_rank|minke_kidney_rank|NMR_kidney_rank|human_kidney_rank|mouse_totalRNA_kidney_rank|mouse_mRNA_kidney_rank|cow_totalRNA_kidney_rank|cow_mRNA_kidney_rank|bat_kidney_1_rank|bat_kidney_2_rank|gray_whale_avg_rank|\n",
            "+----------+------------------+--------------------+------------------+--------------+------------+-----------------+-----------------------+-----------------------+---------------------+--------------------+------------------+-------------------+------------------+------------------+------------------+--------------------+------------------+------------------+------------------+------------------+------------------+------------------+--------------------+------------------+------------------+------------------+---------------------+------------------+-------------------+------------------+------------------+------------------+---------------------+------------------------+----------------+--------------+----------------+-------------------------+---------------------+-----------------------+-------------------+----------------+----------------+----------------------+-------------------------+-----------------+---------------+-----------------+--------------------------+----------------------+------------------------+--------------------+-----------------+-----------------+-------------------+\n",
            "|GO:0006364|biological_process|     rRNA processing|     19901.4267085|            40|         162|               44|                    225|                    100|                   42|complete;5prime_p...| 19892.75400300001|  8108.256701089998|      20716.442639|      27889.193586|3773.3374890000014|         4860.838548|1351.9426559999997|       8758.324353| 9679.402648000001|       1823.820699|1787.5411310000002|      19910.099414|  3307.1603040000005|      28506.682685|17208.674091999997|3318.7875520000016|   10758.778921000001|       2236.514993|        8957.417896|       7887.324251|       3108.892098|3248.3262569999993|                    3|                       6|               2|            22|              36|                      226|                  240|                    107|                100|              94|              78|                    23|                        2|                2|             10|               18|                        43|                    58|                      25|                  26|               13|               10|                  5|\n",
            "|GO:0000398|biological_process|mRNA splicing, vi...|       1268.862316|            69|         233|               98|                    290|                    144|                   91|5prime_partial;co...| 945.5821500000004|  987.6383056097404|2873.1189559999993| 7008.050316999997|353.25716900000003|  1017.8026969999999|        348.898989|2853.0476980000003|       3315.223536|         53.533974|         56.044361|1592.1424820000004|   419.2617730000001|       5501.271441| 4794.642656000001| 522.7344030000003|   1781.9785029999996| 661.5576689999999|  4718.640625000001| 4797.411784999999|         69.814439|         87.590103|                  286|                     179|             142|            59|             382|                      711|                  712|                    298|                298|            1911|            1711|                   159|                       62|               43|            110|               81|                       324|                   354|                      80|                  66|             1957|             1672|                230|\n",
            "|GO:0070373|biological_process|negative regulati...| 613.2794144999999|            19|          91|               21|                     73|                     90|                   48|complete;5prime_p...|        465.708729|    369.95310022586|        699.385421|1908.7173589999995|        145.100078|  2079.5344499999997|       1456.291459|1258.8770719999998|1805.5456889999996|361.93419499999993|293.30597500000005|          760.8501|  118.62174399999998|1582.1255120000008| 942.4633160000001|132.15655200000006|   1993.3064519999998| 966.1278359999998|        2254.335634|       1970.044503| 711.7482519999999| 635.5719479999999|                  426|                     395|             463|           284|             707|                      428|                  224|                    541|                444|             518|             589|                   353|                      368|              344|            582|              391|                       270|                   220|                     234|                 237|              183|              219|                413|\n",
            "|GO:0000096|biological_process|sulfur amino acid...|        574.142857|             1|          56|                1|                      7|                   null|                 null|            complete|        816.274457|               null|              null|              null|        197.973078|                null|              null|              null|              null|              null|              null|        332.011257|                null|              null|              null|109.69048200000002|                 null|              null|               null|              null|              null|              null|                  316|                    5321|            5416|          4156|             587|                     9048|                 9119|                   8326|               8088|            6202|            6207|                   690|                     5582|             5037|           4099|              506|                      9433|                  9571|                    8449|                8306|             6423|             6414|                438|\n",
            "|GO:0001932|biological_process|regulation of pro...|        382.870962|            10|          91|               12|                     39|                     78|                   22|complete;5prime_p...|        245.235663| 121.84866590588739| 557.0599409999999|        147.033096|203.60863600000002|  15948.620977999999| 2492.060465999999| 702.9399679999999|       4542.436156|206.50502700000007|        151.835021| 520.5062609999999|   47.52452399999999|1619.6222560000003|          69.13378| 66.54779700000002|           415.539244|        176.251891|  514.4216329999999|        484.267905|         307.67873|308.87588400000004|                  671|                     988|             532|          1953|             574|                       87|                  137|                    869|                226|             813|             919|                   471|                      989|              330|           2354|              801|                      1309|                  1330|                    1274|                1290|              580|              572|                571|\n",
            "|GO:0051028|biological_process|      mRNA transport|164.92467099999996|            15|         138|               20|                     49|                     65|                   23|complete;5prime_p...|151.20360600000006|       202.46277881|229.99967400000006| 798.3870450000001|         30.974016|  430.96116799999993|187.15244799999994|        881.621693|       1174.146788|291.39158900000007|        256.691107|        178.645736|   50.29707699999998|        394.487017|         734.62671|         65.235225|           666.385556|341.84744700000005| 1697.7886119999998|1483.4608589999998|        382.684192|        348.276774|                  882|                     635|            1075|           631|            1588|                     1261|                 1032|                    746|                602|             626|             646|                  1107|                      947|             1145|            691|              814|                       864|                   688|                     339|                 343|              444|              492|               1053|\n",
            "|GO:0032713|biological_process|negative regulati...|135.07663399999998|             1|          24|                1|                      5|                      5|                    5|      5prime_partial|         78.933928|            144.775|               0.0|         10.209538|          7.371684|          221.186502|         76.169231| 81.38612400000001|          68.87133|         24.564603|21.061905000000003|         191.21934|           37.036715|          1.151898| 7.267777000000001|          8.368168|   296.45508600000005|        158.459833|         272.966763|        262.307962|         95.278292|         93.278045|                 1326|                     852|            5415|          3732|            3345|                     1905|                 1835|                   3333|               3617|            2824|            2798|                  1051|                     1165|             4952|           3593|             3467|                      1701|                  1435|                    2117|                2037|             1614|             1613|               1206|\n",
            "|GO:0006452|biological_process|translational fra...|        114.954039|             2|          37|                2|                      8|                      4|                    2|complete;5prime_p...|        100.674487|           66.16418|        129.515212|              null|14.538174000000001|            4.340446|1.2892359999999998|314.50778199999996|        390.089614|111.90511000000001|        110.999651|129.23359100000002|           11.118079|        219.512942|              null|         12.791839|             9.252549|          2.143903| 251.04320199999998|        210.898034|114.56541299999999|        118.874603|                 1134|                    1490|            1558|          4156|            2408|                     7080|                 7218|                   1504|               1350|            1192|            1111|                  1351|                     2478|             1640|           4099|             2755|                      7063|                  7685|                    2216|                2346|             1422|             1376|               1334|\n",
            "|GO:0006661|biological_process|phosphatidylinosi...|        114.915121|            17|         136|               19|                     74|                     18|                    9|complete;5prime_p...| 72.33655999999999|         177.291725|287.49516700000004|468.98573000000005| 55.20268199999998|   64.20955000000001|         17.447455|151.32059900000002|125.97348099999999|226.81022399999998|195.08699300000004|        157.493682|           57.062561|        482.759841|293.34943799999996|         87.081228|   124.71435299999997| 60.93820099999999|         346.418197|         325.70857|437.78193400000004| 408.2017940000001|                 1412|                     719|             886|           985|            1175|                     3524|                 3840|                   2396|               2643|             763|             795|                  1202|                      829|             1005|           1231|              623|                      2956|                  2734|                    1796|                1744|              391|              414|               1337|\n",
            "|GO:0060349|biological_process|  bone morphogenesis|       112.0430665|             6|          90|                6|                     27|                     41|                   23|5prime_partial;in...|        139.071173|  72.50317199999999|281.25863100000004|        152.615961|20.312340000000003|          194.808005|48.754191000000006| 674.2433639999998| 638.9042600000001|10.893590999999999|          7.236321|          85.01496|           14.904482|        330.165579|         69.304465|         19.654671|    260.4993539999999|         82.378115| 500.88807199999985| 338.0828849999999|         22.342769|         22.279488|                  934|                    1400|             912|          1915|            2003|                     2044|                 2335|                    897|                963|            3812|            4080|                  1735|                     2114|             1288|           2352|             2098|                      1872|                  2243|                    1306|                1699|             3465|             3453|               1360|\n",
            "+----------+------------------+--------------------+------------------+--------------+------------+-----------------+-----------------------+-----------------------+---------------------+--------------------+------------------+-------------------+------------------+------------------+------------------+--------------------+------------------+------------------+------------------+------------------+------------------+------------------+--------------------+------------------+------------------+------------------+---------------------+------------------+-------------------+------------------+------------------+------------------+---------------------+------------------------+----------------+--------------+----------------+-------------------------+---------------------+-----------------------+-------------------+----------------+----------------+----------------------+-------------------------+-----------------+---------------+-----------------+--------------------------+----------------------+------------------------+--------------------+-----------------+-----------------+-------------------+\n",
            "only showing top 10 rows\n",
            "\n"
          ],
          "output_type" : "stream"
        }
      ]
    },
    {
      "cell_type" : "code",
      "execution_count" : 57,
      "metadata" : {
        "cell.metadata.exec_info" : {
          "startTs" : 1583798495742,
          "endTs" : 1583798496341
        },
        "language" : "scala"
      },
      "language" : "scala",
      "source" : [
        "val all_pro_ranks = processes_ranks.select(\"go\", (\"label\"::featuresOrderedRanked):_*).cache\n",
        "val all_com_ranks = components_ranks.select(\"go\", (\"label\"::featuresOrderedRanked):_*).cache\n",
        "val all_fun_ranks = functions_ranks.select(\"go\", (\"label\"::featuresOrderedRanked):_*).cache\n",
        "all_pro_ranks.show(10,1000)"
      ],
      "outputs" : [
        {
          "name" : "stdout",
          "text" : [
            "+----------+-----------------------------------------------+------------------------+---------------------+----------------+----------------+----------------+----------------+--------------+-----------------------+-------------------+-------------------------+---------------------+-------------------------+----------------------+-----------------+-----------------+-----------------+-----------------+---------------+------------------------+--------------------+--------------------------+----------------------+\n",
            "|        go|                                          label|bowhead_whale_liver_rank|gray_whale_liver_rank|minke_liver_rank|human_liver_rank|bat_liver_1_rank|bat_liver_2_rank|NMR_liver_rank|cow_totalRNA_liver_rank|cow_mRNA_liver_rank|mouse_totalRNA_liver_rank|mouse_mRNA_liver_rank|bowhead_whale_kidney_rank|gray_whale_kidney_rank|minke_kidney_rank|human_kidney_rank|bat_kidney_1_rank|bat_kidney_2_rank|NMR_kidney_rank|cow_totalRNA_kidney_rank|cow_mRNA_kidney_rank|mouse_totalRNA_kidney_rank|mouse_mRNA_kidney_rank|\n",
            "+----------+-----------------------------------------------+------------------------+---------------------+----------------+----------------+----------------+----------------+--------------+-----------------------+-------------------+-------------------------+---------------------+-------------------------+----------------------+-----------------+-----------------+-----------------+-----------------+---------------+------------------------+--------------------+--------------------------+----------------------+\n",
            "|GO:0006364|                                rRNA processing|                       6|                    3|               2|              36|              94|              78|            22|                    107|                100|                      226|                  240|                        2|                    23|                2|               18|               13|               10|             10|                      25|                  26|                        43|                    58|\n",
            "|GO:0000398|                 mRNA splicing, via spliceosome|                     179|                  286|             142|             382|            1911|            1711|            59|                    298|                298|                      711|                  712|                       62|                   159|               43|               81|             1957|             1672|            110|                      80|                  66|                       324|                   354|\n",
            "|GO:0070373|   negative regulation of ERK1 and ERK2 cascade|                     395|                  426|             463|             707|             518|             589|           284|                    541|                444|                      428|                  224|                      368|                   353|              344|              391|              183|              219|            582|                     234|                 237|                       270|                   220|\n",
            "|GO:0000096|            sulfur amino acid metabolic process|                    5321|                  316|            5416|             587|            6202|            6207|          4156|                   8326|               8088|                     9048|                 9119|                     5582|                   690|             5037|              506|             6423|             6414|           4099|                    8449|                8306|                      9433|                  9571|\n",
            "|GO:0001932|          regulation of protein phosphorylation|                     988|                  671|             532|             574|             813|             919|          1953|                    869|                226|                       87|                  137|                      989|                   471|              330|              801|              580|              572|           2354|                    1274|                1290|                      1309|                  1330|\n",
            "|GO:0051028|                                 mRNA transport|                     635|                  882|            1075|            1588|             626|             646|           631|                    746|                602|                     1261|                 1032|                      947|                  1107|             1145|              814|              444|              492|            691|                     339|                 343|                       864|                   688|\n",
            "|GO:0032713|negative regulation of interleukin-4 production|                     852|                 1326|            5415|            3345|            2824|            2798|          3732|                   3333|               3617|                     1905|                 1835|                     1165|                  1051|             4952|             3467|             1614|             1613|           3593|                    2117|                2037|                      1701|                  1435|\n",
            "|GO:0006452|                    translational frameshifting|                    1490|                 1134|            1558|            2408|            1192|            1111|          4156|                   1504|               1350|                     7080|                 7218|                     2478|                  1351|             1640|             2755|             1422|             1376|           4099|                    2216|                2346|                      7063|                  7685|\n",
            "|GO:0006661|      phosphatidylinositol biosynthetic process|                     719|                 1412|             886|            1175|             763|             795|           985|                   2396|               2643|                     3524|                 3840|                      829|                  1202|             1005|              623|              391|              414|           1231|                    1796|                1744|                      2956|                  2734|\n",
            "|GO:0060349|                             bone morphogenesis|                    1400|                  934|             912|            2003|            3812|            4080|          1915|                    897|                963|                     2044|                 2335|                     2114|                  1735|             1288|             2098|             3465|             3453|           2352|                    1306|                1699|                      1872|                  2243|\n",
            "+----------+-----------------------------------------------+------------------------+---------------------+----------------+----------------+----------------+----------------+--------------+-----------------------+-------------------+-------------------------+---------------------+-------------------------+----------------------+-----------------+-----------------+-----------------+-----------------+---------------+------------------------+--------------------+--------------------------+----------------------+\n",
            "only showing top 10 rows\n",
            "\n"
          ],
          "output_type" : "stream"
        }
      ]
    },
    {
      "cell_type" : "code",
      "execution_count" : 58,
      "metadata" : {
        "cell.metadata.exec_info" : {
          "startTs" : 1583798499954,
          "endTs" : 1583798500081
        },
        "language" : "scala"
      },
      "language" : "scala",
      "source" : [
        "val goes =  List(\"GO:0015986\", \"GO:0006364\", \"GO:0006413\", \"GO:0006614\", \"GO:0000184\", \"GO:0019083\", \"GO:0019068\", \"GO:0006955\", \"GO:0060271\", \"GO:2000785\", \"GO:0042073\", \"GO:0055007\", \"GO:1902017\", \"GO:0060828\", \"GO:0090102\", \"GO:0034067\", \"GO:0060122\", \"GO:0061512\", \"GO:0061351\", \"GO:0001736\", \"GO:0035735\", \"GO:0051642\", \"GO:0035845\", \"GO:0036372\", \"GO:0007165\", \"GO:0002474\", \"GO:0000050\", \"GO:0019731\", \"GO:0002227\", \"GO:0046034\", \"GO:0032259\", \"GO:0071268\", \"GO:0033353\", \"GO:0000096\", \"GO:0042745\", \"GO:0002439\", \"GO:0006950\", \"GO:0097284\", \"GO:0097176\", \"GO:1990000\", \"GO:0051014\", \"GO:2001269\", \"GO:0090527\", \"GO:0042989\", \"GO:0045010\", \"GO:1902174\", \"GO:0019430\", \"GO:0001938\", \"GO:0045060\", \"GO:1902166\", \"GO:0001961\", \"GO:0042104\", \"GO:0045738\", \"GO:1902546\", \"GO:0061481\",  \"GO:1902231\", \"GO:0032079\", \"GO:2001272\", \"GO:1905053\",\"GO:0009435\", \"GO:0010941\"\n",
        ")\n"
      ],
      "outputs" : [
      ]
    },
    {
      "cell_type" : "code",
      "execution_count" : 59,
      "metadata" : {
        "cell.metadata.exec_info" : {
          "startTs" : 1583798501315,
          "endTs" : 1583798501423
        },
        "language" : "scala"
      },
      "language" : "scala",
      "source" : [
        "def go_ranked(goes: Seq[String]) =  all_pro_ranks.where($\"go\".isin(goes:_*)).select(\"go\", (\"label\"::featuresOrderedRanked):_*).sort($\"bowhead_whale_liver_rank\".asc)"
      ],
      "outputs" : [
      ]
    },
    {
      "cell_type" : "code",
      "execution_count" : 60,
      "metadata" : {
        "cell.metadata.exec_info" : {
          "startTs" : 1583798502849,
          "endTs" : 1583798503633
        },
        "language" : "scala"
      },
      "language" : "scala",
      "source" : [
        "val longevity_pro_ranks = go_ranked(goes)\n",
        "longevity_pro_ranks.show(10,1000)"
      ],
      "outputs" : [
        {
          "name" : "stdout",
          "text" : [
            "+----------+-------------------------------------------------------------------+------------------------+---------------------+----------------+----------------+----------------+----------------+--------------+-----------------------+-------------------+-------------------------+---------------------+-------------------------+----------------------+-----------------+-----------------+-----------------+-----------------+---------------+------------------------+--------------------+--------------------------+----------------------+\n",
            "|        go|                                                              label|bowhead_whale_liver_rank|gray_whale_liver_rank|minke_liver_rank|human_liver_rank|bat_liver_1_rank|bat_liver_2_rank|NMR_liver_rank|cow_totalRNA_liver_rank|cow_mRNA_liver_rank|mouse_totalRNA_liver_rank|mouse_mRNA_liver_rank|bowhead_whale_kidney_rank|gray_whale_kidney_rank|minke_kidney_rank|human_kidney_rank|bat_kidney_1_rank|bat_kidney_2_rank|NMR_kidney_rank|cow_totalRNA_kidney_rank|cow_mRNA_kidney_rank|mouse_totalRNA_kidney_rank|mouse_mRNA_kidney_rank|\n",
            "+----------+-------------------------------------------------------------------+------------------------+---------------------+----------------+----------------+----------------+----------------+--------------+-----------------------+-------------------+-------------------------+---------------------+-------------------------+----------------------+-----------------+-----------------+-----------------+-----------------+---------------+------------------------+--------------------+--------------------------+----------------------+\n",
            "|GO:0007165|                                                signal transduction|                       2|                   84|               7|              93|             707|             794|            69|                     15|                 12|                      154|                   84|                       25|                    68|               26|               51|              521|              580|             12|                      51|                  46|                        98|                    94|\n",
            "|GO:0007165|                                                signal transduction|                       2|                   84|               7|              93|              95|             105|            69|                     15|                 12|                      154|                   84|                       25|                    68|               26|               51|               17|               17|             12|                      51|                  46|                        98|                    94|\n",
            "|GO:0006364|                                                    rRNA processing|                       6|                    3|               2|              36|            3183|            3232|            22|                    107|                100|                      226|                  240|                        2|                    23|                2|               18|             3756|             3757|             10|                      25|                  26|                        43|                    58|\n",
            "|GO:0006364|                                                    rRNA processing|                       6|                    3|               2|              36|              94|              78|            22|                    107|                100|                      226|                  240|                        2|                    23|                2|               18|               13|               10|             10|                      25|                  26|                        43|                    58|\n",
            "|GO:0006413|                                           translational initiation|                      23|                    4|               3|              34|               8|               8|            26|                    522|                456|                      750|                  737|                        3|                    24|                3|               17|                2|                2|             16|                     287|                 267|                       489|                   441|\n",
            "|GO:0000184|nuclear-transcribed mRNA catabolic process, nonsense-mediated decay|                      25|                    6|               4|              39|               9|               9|            27|                    799|                721|                     1309|                 1310|                        5|                    26|                4|               19|                3|                3|             20|                     511|                 540|                      1042|                  1002|\n",
            "|GO:0000184|nuclear-transcribed mRNA catabolic process, nonsense-mediated decay|                      25|                    6|               4|              39|            4614|            4854|            27|                    799|                721|                     1309|                 1310|                        5|                    26|                4|               19|             5034|             5248|             20|                     511|                 540|                      1042|                  1002|\n",
            "|GO:0006614|        SRP-dependent cotranslational protein targeting to membrane|                      26|                    5|               5|              38|            3430|            3133|            28|                   1052|                739|                     1299|                 1174|                        6|                    25|                5|               20|             3689|             3673|             21|                    1128|                1218|                      1352|                  1301|\n",
            "|GO:0006614|        SRP-dependent cotranslational protein targeting to membrane|                      26|                    5|               5|              38|              10|              10|            28|                   1052|                739|                     1299|                 1174|                        6|                    25|                5|               20|                4|                4|             21|                    1128|                1218|                      1352|                  1301|\n",
            "|GO:0019083|                                                viral transcription|                      27|                    7|               6|              41|              11|              11|            30|                   8326|               8088|                     9048|                 9119|                        7|                    27|                6|               21|                5|                5|             26|                    8449|                8306|                      9433|                  9571|\n",
            "+----------+-------------------------------------------------------------------+------------------------+---------------------+----------------+----------------+----------------+----------------+--------------+-----------------------+-------------------+-------------------------+---------------------+-------------------------+----------------------+-----------------+-----------------+-----------------+-----------------+---------------+------------------------+--------------------+--------------------------+----------------------+\n",
            "only showing top 10 rows\n",
            "\n"
          ],
          "output_type" : "stream"
        }
      ]
    },
    {
      "cell_type" : "code",
      "execution_count" : 61,
      "metadata" : {
        "language" : "scala"
      },
      "language" : "scala",
      "source" : [
      ],
      "outputs" : [
      ]
    }
  ]
}