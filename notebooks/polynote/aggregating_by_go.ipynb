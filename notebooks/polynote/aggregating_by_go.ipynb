{
  "metadata" : {
    "config" : {
      "dependencies" : {
        "scala" : [
          "com.github.pathikrit:better-files_2.12:3.8.0",
          "group.research.aging:spark-extensions_2.12:0.0.8.2",
          "org.bdgenomics.adam:adam-core-spark2_2.12:0.30.0"
        ]
      },
      "exclusions" : [
      ],
      "repositories" : [
        {
          "maven" : {
            "base" : "http://central.maven.org/maven2/"
          }
        },
        {
          "maven" : {
            "base" : "http://oss.sonatype.org/content/repositories/snapshots"
          }
        },
        {
          "maven" : {
            "base" : "https://dl.bintray.com/comp-bio-aging/main/"
          }
        }
      ],
      "sparkConfig" : {
        "master" : "http://spark:7070[16]"
      }
    }
  },
  "nbformat" : 4,
  "nbformat_minor" : 0,
  "cells" : [
    {
      "cell_type" : "markdown",
      "execution_count" : 0,
      "metadata" : {
        "language" : "text"
      },
      "language" : "text",
      "source" : [
        "# aggregating by go\n",
        "\n",
        "This is a text cell. Start editing!"
      ],
      "outputs" : [
      ]
    },
    {
      "cell_type" : "code",
      "execution_count" : 1,
      "metadata" : {
        "cell.metadata.exec_info" : {
          "startTs" : 1584011542450,
          "endTs" : 1584011542923
        },
        "language" : "scala"
      },
      "language" : "scala",
      "source" : [
        "import org.apache.spark._\n",
        "import org.apache.spark.sql.types._\n",
        "import scala.reflect.runtime.universe._\n",
        "import org.apache.spark.storage.StorageLevel\n",
        "import org.apache.spark.rdd._\n",
        "import org.apache.spark.sql._\n",
        "import org.apache.spark.sql.functions._\n",
        "import org.apache.spark.sql.expressions._\n",
        "import group.research.aging.spark.extensions._\n",
        "import group.research.aging.spark.extensions.functions._\n",
        "import kernel.display.html"
      ],
      "outputs" : [
      ]
    },
    {
      "cell_type" : "code",
      "execution_count" : 2,
      "metadata" : {
        "cell.metadata.exec_info" : {
          "startTs" : 1584011543371,
          "endTs" : 1584011543897
        },
        "language" : "scala"
      },
      "language" : "scala",
      "source" : [
        "val whalePath = \"/data/results/gray-whale/\"\n",
        "val expressionsPath = whalePath + \"Expressions/\"\n",
        "val unirefPath = expressionsPath + \"uniref90/\"\n",
        "val transcriptsPath = expressionsPath + \"Transcripts/\"\n",
        "val codingPath = transcriptsPath + \"coding/\"\n",
        "\n",
        "val comparisonsPath = expressionsPath + \"Comparisons/\"\n",
        "val comparisonsUniref = comparisonsPath + \"uniref90_comparisons/\"\n",
        "val annotationsPath = comparisonsPath + \"annotations/\""
      ],
      "outputs" : [
      ]
    },
    {
      "cell_type" : "code",
      "execution_count" : 3,
      "metadata" : {
        "cell.metadata.exec_info" : {
          "startTs" : 1584011552634,
          "endTs" : 1584011553142
        },
        "language" : "scala"
      },
      "language" : "scala",
      "source" : [
        "def loadTranscripts(subpath: String, prefix: String) = {\n",
        "    val path = if(subpath.startsWith(\"/\")) subpath else transcriptsPath + subpath\n",
        "    spark.readTSV(path, header=true).select($\"Name\".as(\"transcript\"), $\"NumReads\".as(prefix + \"_reads\"), $\"TPM\".as(prefix + \"_TPM\")).cache \n",
        "}"
      ],
      "outputs" : [
      ]
    },
    {
      "cell_type" : "markdown",
      "execution_count" : 15,
      "metadata" : {
        "language" : "text"
      },
      "language" : "text",
      "source" : [
        "Opening Uniref90 mapping file\n",
        "\n",
        "\n"
      ],
      "outputs" : [
      ]
    },
    {
      "cell_type" : "code",
      "execution_count" : 16,
      "metadata" : {
        "cell.metadata.exec_info" : {
          "startTs" : 1584013396865,
          "endTs" : 1584013397061
        },
        "language" : "scala"
      },
      "language" : "scala",
      "source" : [
        "val mapping_cols = Seq(\"UniProtKB-AC\",\"UniProtKB-ID\",\"Entrez\",\"RefSeq\",\"GI\",\"PDB\",\"GO\",\n",
        "\"UniRef100\",\"UniRef90\",\"UniRef50\",\"UniParc\",\"PIR\",\n",
        "\"NCBI-taxon\",\"MIM\",\"UniGene\",\"PubMed\",\n",
        "\"EMBL\",\"EMBL-CDS\",\"Ensembl\",\"Ensembl_TRS\",\"Ensembl_PRO\",\"Additional PubMed\")"
      ],
      "outputs" : [
      ]
    },
    {
      "cell_type" : "code",
      "execution_count" : 17,
      "metadata" : {
        "cell.metadata.exec_info" : {
          "startTs" : 1584013398670,
          "endTs" : 1584013555672
        },
        "language" : "scala"
      },
      "language" : "scala",
      "source" : [
        "val mapping = spark.readTSV(\"/data/indexes/uniprot/idmapping_selected.tab\").toDF(mapping_cols:_*)\n",
        "mapping.limit(20).show(20, 1000)"
      ],
      "outputs" : [
        {
          "name" : "stdout",
          "text" : [
            "+------------+------------+-------+-----------+-------------------------------+----+----------------------------------+----------------+---------------+---------------+-------------+----+----------+----+-------+------------------+--------+----------+-------+-----------+-----------+-----------------+\n",
            "|UniProtKB-AC|UniProtKB-ID| Entrez|     RefSeq|                             GI| PDB|                                GO|       UniRef100|       UniRef90|       UniRef50|      UniParc| PIR|NCBI-taxon| MIM|UniGene|            PubMed|    EMBL|  EMBL-CDS|Ensembl|Ensembl_TRS|Ensembl_PRO|Additional PubMed|\n",
            "+------------+------------+-------+-----------+-------------------------------+----+----------------------------------+----------------+---------------+---------------+-------------+----+----------+----+-------+------------------+--------+----------+-------+-----------+-----------+-----------------+\n",
            "|      Q6GZX4|  001R_FRG3G|2947773|YP_031579.1|             81941549; 49237298|null|                        GO:0046782|UniRef100_Q6GZX4|UniRef90_Q6GZX4|UniRef50_Q6GZX4|UPI00003B0FD4|null|    654924|null|   null|          15165820|AY548484|AAT09660.1|   null|       null|       null|             null|\n",
            "|      Q6GZX3|  002L_FRG3G|2947774|YP_031580.1|             49237299; 81941548|null|            GO:0033644; GO:0016021|UniRef100_Q6GZX3|UniRef90_Q6GZX3|UniRef50_Q6GZX3|UPI00003B0FD5|null|    654924|null|   null|          15165820|AY548484|AAT09661.1|   null|       null|       null|             null|\n",
            "|      Q197F8|   002R_IIV3|4156251|YP_654574.1|109287880; 123808694; 106073503|null|                              null|UniRef100_Q197F8|UniRef90_Q197F8|UniRef50_Q197F8|UPI0000D83464|null|    345201|null|   null|          16912294|DQ643392|ABF82032.1|   null|       null|       null|             null|\n",
            "|      Q197F7|   003L_IIV3|4156252|YP_654575.1|106073504; 109287881; 123808693|null|                              null|UniRef100_Q197F7|UniRef90_Q197F7|UniRef50_Q197F7|UPI0000D83465|null|    345201|null|   null|          16912294|DQ643392|ABF82033.1|   null|       null|       null|             null|\n",
            "|      Q6GZX2|  003R_FRG3G|2947775|YP_031581.1|             81941547; 49237300|null|                              null|UniRef100_Q6GZX2|UniRef90_Q6GZX2|UniRef50_Q6GZX2|UPI00003B0FD6|null|    654924|null|   null|          15165820|AY548484|AAT09662.1|   null|       null|       null|             null|\n",
            "|      Q6GZX1|  004R_FRG3G|2947776|YP_031582.1|             49237301; 81941546|null|            GO:0033644; GO:0016021|UniRef100_Q6GZX1|UniRef90_Q6GZX1|UniRef50_Q6GZX1|UPI00003B0FD7|null|    654924|null|   null|          15165820|AY548484|AAT09663.1|   null|       null|       null|             null|\n",
            "|      Q197F5|   005L_IIV3|4156254|YP_654577.1|123808691; 109287883; 106073506|null|                              null|UniRef100_Q197F5|UniRef90_Q197F5|UniRef50_Q197F5|UPI0000D83467|null|    345201|null|   null|          16912294|DQ643392|ABF82035.1|   null|       null|       null|             null|\n",
            "|      Q6GZX0|  005R_FRG3G|2947777|YP_031583.1|             49237302; 81941545|null|                              null|UniRef100_Q6GZX0|UniRef90_Q6GZX0|UniRef50_Q6GZX0|UPI00003B0FD8|null|    654924|null|   null|          15165820|AY548484|AAT09664.1|   null|       null|       null|             null|\n",
            "|      Q91G88|   006L_IIV6|1733056|NP_149469.1|   82012333; 15078718; 15042163|null|                              null|UniRef100_Q91G88|UniRef90_Q91G88|UniRef50_Q91FL1|UPI00000F3D32|null|    176652|null|   null|11448171; 17239238|AF303741|AAK81943.1|   null|       null|       null|             null|\n",
            "|      Q6GZW9|  006R_FRG3G|2947778|YP_031584.1|             81941544; 49237303|null|                              null|UniRef100_Q6GZW9|UniRef90_Q6GZW9|UniRef50_Q6GZW9|UPI00003B0FD9|null|    654924|null|   null|          15165820|AY548484|AAT09665.1|   null|       null|       null|             null|\n",
            "|      Q6GZW8|  007R_FRG3G|2947779|YP_031585.1|             49237304; 81941543|null|                              null|UniRef100_Q6GZW8|UniRef90_Q6GZW8|UniRef50_Q6GZW8|UPI00003B0FDA|null|    654924|null|   null|          15165820|AY548484|AAT09666.1|   null|       null|       null|             null|\n",
            "|      Q197F3|   007R_IIV3|4156256|YP_654579.1|106073508; 109287885; 123808689|null|                              null|UniRef100_Q197F3|UniRef90_Q197F3|UniRef50_Q197F3|UPI0000D83469|null|    345201|null|   null|          16912294|DQ643392|ABF82037.1|   null|       null|       null|             null|\n",
            "|      Q197F2|   008L_IIV3|4156257|YP_654580.1|106073509; 109287886; 123808688|null|                              null|UniRef100_Q197F2|UniRef90_Q197F2|UniRef50_Q197F2|UPI0000D8346A|null|    345201|null|   null|          16912294|DQ643392|ABF82038.1|   null|       null|       null|             null|\n",
            "|      Q6GZW6|  009L_FRG3G|2947781|YP_031587.1|             49237306; 82054175|null|GO:0005524; GO:0003677; GO:0004386|UniRef100_Q6GZW6|UniRef90_Q6GZW6|UniRef50_Q6GZW6|UPI00003B0FDC|null|    654924|null|   null|          15165820|AY548484|AAT09668.1|   null|       null|       null|             null|\n",
            "|      Q91G85|   009R_IIV6|1733381|NP_149472.1|   82012330; 15078722; 15042167|null|                              null|UniRef100_Q91G85|UniRef90_Q91G85|UniRef50_Q91G85|UPI00000EEE80|null|    176652|null|   null|11448171; 17239238|AF303741|AAK81947.1|   null|       null|       null|             null|\n",
            "|      Q6GZW5|  010R_FRG3G|2947782|YP_031588.1|             49237307; 81941542|null|            GO:0033644; GO:0016021|UniRef100_Q6GZW5|UniRef90_Q6GZW5|UniRef50_Q6GZW5|UPI00003B0FDD|null|    654924|null|   null|          15165820|AY548484|AAT09669.1|   null|       null|       null|             null|\n",
            "|      Q197E9|   011L_IIV3|4156260|YP_654583.1|123808687; 109287889; 106073512|null|                              null|UniRef100_Q197E9|UniRef90_Q197E9|UniRef50_Q197E9|UPI0000D8346D|null|    345201|null|   null|          16912294|DQ643392|ABF82041.1|   null|       null|       null|             null|\n",
            "|      Q6GZW4|  011R_FRG3G|2947783|YP_031589.1|             49237308; 81941541|null|            GO:0033644; GO:0016021|UniRef100_Q6GZW4|UniRef90_Q6GZW4|UniRef50_Q6GZW4|UPI00003B0FDE|null|    654924|null|   null|          15165820|AY548484|AAT09670.1|   null|       null|       null|             null|\n",
            "|      Q6GZW3|  012L_FRG3G|2947784|YP_031590.1|             81941540; 49237309|null|                              null|UniRef100_Q6GZW3|UniRef90_Q6GZW3|UniRef50_Q6GZW3|UPI00003B0FDF|null|    654924|null|   null|          15165820|AY548484|AAT09671.1|   null|       null|       null|             null|\n",
            "|      Q197E7|   013L_IIV3|4156262|YP_654585.1|106073514; 109287891; 123808685|null|            GO:0033644; GO:0016021|UniRef100_Q197E7|UniRef90_Q197E7|UniRef50_Q197E7|UPI0000D8346F|null|    345201|null|   null|          16912294|DQ643392|ABF82043.1|   null|       null|       null|             null|\n",
            "+------------+------------+-------+-----------+-------------------------------+----+----------------------------------+----------------+---------------+---------------+-------------+----+----------+----+-------+------------------+--------+----------+-------+-----------+-----------+-----------------+\n",
            "\n"
          ],
          "output_type" : "stream"
        }
      ]
    },
    {
      "cell_type" : "markdown",
      "execution_count" : 7,
      "metadata" : {
        "language" : "text"
      },
      "language" : "text",
      "source" : [
        "### Processing Bat expressions\n",
        "\n",
        "\n"
      ],
      "outputs" : [
      ]
    },
    {
      "cell_type" : "code",
      "execution_count" : 8,
      "metadata" : {
        "cell.metadata.exec_info" : {
          "startTs" : 1584013334298,
          "endTs" : 1584013335980
        },
        "language" : "scala"
      },
      "language" : "scala",
      "source" : [
        "val quants_base = \"/data/samples/de_novo/bat/quants/ours\"\n",
        "val bat_liver_1 = spark.readTSV(quants_base + \"/quant_bat_liver_active_1/quant.sf\", header = true)\n",
        "val bat_kidney_1 = spark.readTSV(quants_base + \"/quant_bat_kidney_active_1/quant.sf\", header = true)\n",
        "val bat_liver_2 = spark.readTSV(quants_base + \"/quant_bat_liver_active_2/quant.sf\", header = true)\n",
        "val bat_kidney_2 = spark.readTSV(quants_base + \"/quant_bat_kidney_active_2/quant.sf\", header = true)\n",
        "bat_liver_1.show(10,10000)"
      ],
      "outputs" : [
        {
          "name" : "stdout",
          "text" : [
            "+-----------------------------------------+------+---------------+---------+--------+\n",
            "|                                     Name|Length|EffectiveLength|      TPM|NumReads|\n",
            "+-----------------------------------------+------+---------------+---------+--------+\n",
            "| NODE_1_length_17988_cov_580.222903_g0_i0| 17988|      25996.137| 2.849032|2131.249|\n",
            "|  NODE_2_length_17947_cov_75.308981_g1_i0| 17947|      23591.296| 5.768584|3916.057|\n",
            "|  NODE_3_length_17149_cov_48.936455_g2_i0| 17149|      16480.623| 2.802971|1329.291|\n",
            "| NODE_4_length_16953_cov_143.141987_g3_i0| 16953|      16648.804|11.308167|5417.553|\n",
            "|  NODE_5_length_16927_cov_28.452499_g4_i0| 16927|      15432.613| 1.503753| 667.796|\n",
            "|  NODE_6_length_16768_cov_80.455725_g5_i0| 16768|      22827.061| 0.206226| 135.463|\n",
            "|  NODE_7_length_16714_cov_42.414072_g6_i0| 16714|       13824.43| 1.240009| 493.287|\n",
            "|  NODE_8_length_16515_cov_85.093674_g5_i1| 16515|      22310.009| 0.971752| 623.855|\n",
            "|  NODE_9_length_16383_cov_85.107160_g5_i2| 16383|      22337.299| 0.285428| 183.466|\n",
            "|NODE_10_length_16149_cov_140.073575_g3_i1| 16149|      15594.903| 0.777149|  348.75|\n",
            "+-----------------------------------------+------+---------------+---------+--------+\n",
            "only showing top 10 rows\n",
            "\n"
          ],
          "output_type" : "stream"
        }
      ]
    },
    {
      "cell_type" : "code",
      "execution_count" : 12,
      "metadata" : {
        "cell.metadata.exec_info" : {
          "startTs" : 1584013337880,
          "endTs" : 1584013338250
        },
        "language" : "scala"
      },
      "language" : "scala",
      "source" : [
        "val bat_mappings = spark.read.parquet(\"/data/results/gray-whale/best_bap_mappings.parquet\")\n",
        "bat_mappings.count"
      ],
      "outputs" : [
        {
          "execution_count" : 12,
          "data" : {
            "text/plain" : [
              "41829"
            ]
          },
          "metadata" : {
            "name" : "Out",
            "type" : "Long"
          },
          "output_type" : "execute_result"
        }
      ]
    },
    {
      "cell_type" : "code",
      "execution_count" : 13,
      "metadata" : {
        "cell.metadata.exec_info" : {
          "startTs" : 1584013340888,
          "endTs" : 1584013343129
        },
        "language" : "scala"
      },
      "language" : "scala",
      "source" : [
        "import org.apache.spark.sql.functions._\n",
        "val bat_unirefs = bat_mappings.select($\"uniref90\".as(\"UniRef90\"),$\"bat_liver_1\",$\"bat_kidney_1\",$\"bat_liver_2\",$\"bat_kidney_2\")\n",
        ".groupBy(\"UniRef90\").agg(\n",
        "    sum($\"bat_liver_1\").as(\"bat_liver_1\"), \n",
        "    sum($\"bat_kidney_1\").as(\"bat_kidney_1\"), \n",
        "    sum($\"bat_liver_2\").as(\"bat_liver_2\"), \n",
        "    sum($\"bat_kidney_2\").as(\"bat_kidney_2\")\n",
        "    ).orderBy($\"bat_liver_1\".desc, $\"bat_kidney_1\".desc)\n",
        "bat_unirefs.show(10,1000)"
      ],
      "outputs" : [
        {
          "name" : "stdout",
          "text" : [
            "+----------------------+------------------+-----------------+------------------+------------------+\n",
            "|              UniRef90|       bat_liver_1|     bat_kidney_1|       bat_liver_2|      bat_kidney_2|\n",
            "+----------------------+------------------+-----------------+------------------+------------------+\n",
            "|       UniRef90_G1PM73|19697.715009000003|         5.018056|19624.926098999997| 9.537035000000001|\n",
            "|       UniRef90_S7PWY9|      19688.750414|         5.501245|       15423.90906|          8.739993|\n",
            "|       UniRef90_S7NKH8|13626.893756000001|         6.533802|14379.784097999996|         11.232051|\n",
            "|       UniRef90_L5LNJ6|      13496.735069|         0.464551|15308.018013000003|0.6780390000000001|\n",
            "|       UniRef90_S7MRF2|       8993.596224|         5.323449|       8062.678561|          5.772969|\n",
            "|UniRef90_UPI000CCC3436|       7970.125527|         4.011104|       8671.107356|          6.352832|\n",
            "|       UniRef90_S7MHE7|       6585.148337|         1.531405|       5983.654563|          2.328961|\n",
            "|       UniRef90_L7N1H7| 6152.388488999999|       213.085836| 4834.078291999999|187.73941200000002|\n",
            "|       UniRef90_S7PSX7|4192.3873300000005|9.754655000000001| 6684.525191999999|27.268591999999995|\n",
            "|       UniRef90_G1Q8H4|4095.2432979999994|         2.493144|        5701.34568|          6.592092|\n",
            "+----------------------+------------------+-----------------+------------------+------------------+\n",
            "only showing top 10 rows\n",
            "\n"
          ],
          "output_type" : "stream"
        }
      ]
    },
    {
      "cell_type" : "code",
      "execution_count" : 9,
      "metadata" : {
        "cell.metadata.exec_info" : {
          "startTs" : 1584013988140,
          "endTs" : 1584014058634
        },
        "language" : "scala"
      },
      "language" : "scala",
      "source" : [
        "import group.research.aging.spark.extensions.functions.ConcatenateString\n",
        "val con = new ConcatenateString(\";\")\n",
        "val partial_bat_uniref_mappings = mapping.select(\"UniRef90\", \"GO\").join(bat_unirefs.select(\"UniRef90\"), \"UniRef90\").distinct.na.fill(\"\")\n",
        ".groupBy($\"UniRef90\").agg(con($\"GO\").as(\"GO\")).cache\n",
        "partial_bat_uniref_mappings.show(10,1000)"
      ],
      "outputs" : [
        {
          "name" : "stdout",
          "text" : [
            "+-------------------+----------------------------------------------------------------------------------------------------------------------------------------------------------------------------------------------------------------------------------------------------------------------------------------------------------------------------------------------------------------------+\n",
            "|           UniRef90|                                                                                                                                                                                                                                                                                                                                                                    GO|\n",
            "+-------------------+----------------------------------------------------------------------------------------------------------------------------------------------------------------------------------------------------------------------------------------------------------------------------------------------------------------------------------------------------------------------+\n",
            "|UniRef90_A0A1A6HID7|                                                                                                                                                                                                                                                                                                                                                           GO:0003723;|\n",
            "|UniRef90_A0A2I2U047|;GO:0015629; GO:0010008; GO:0016600; GO:0030027; GO:0016328; GO:0051015; GO:0048365; GO:0030036; GO:0090630; GO:0016197; GO:0140285; GO:0097750; GO:0045184; GO:0090148; GO:0010633; GO:0051895; GO:0044387; GO:1900025; GO:0001755; GO:2000394; GO:0010762; GO:1900027;GO:0015629; GO:0051015; GO:0030036;GO:0015629; GO:0051015; GO:0007015; GO:0016477; GO:0001755;|\n",
            "|UniRef90_A0A2I2UAC0|                                                                                                                                                                                                                                                                                               GO:0005737; GO:0005654; GO:0005634; GO:0046872; GO:0003723; GO:0000381;|\n",
            "|UniRef90_A0A2K6F8C2|                                                                                                                                                                                                                                                                                                                                               GO:0005794; GO:0016021;|\n",
            "|UniRef90_A0A2U3ZRF0|                                                                                                                                                                                                                                                                                                                                                                     ;|\n",
            "|UniRef90_A0A3Q1NA12|                                                                                                                                                                                                                                                                                                                                               GO:0070176; GO:0006351;|\n",
            "|UniRef90_A0A3Q2I264|                                                                                                                                                                                                                                                                                               GO:0005634; GO:0008013; GO:0003677; GO:0060070; GO:0006357; GO:0033153;|\n",
            "|UniRef90_A0A3S9GVL5|                                                                                                                                                                                                                                                                                                                                                           GO:0004252;|\n",
            "|UniRef90_A0A452QTH1|                                                                                                                                                                                                                                                                                                           GO:0005615; GO:0005794; GO:0030145; GO:0004674; GO:0031214;|\n",
            "|UniRef90_A0A4X1SW20|                                                                                                                                                                                                                                                                                                                                               GO:0005634; GO:0000981;|\n",
            "+-------------------+----------------------------------------------------------------------------------------------------------------------------------------------------------------------------------------------------------------------------------------------------------------------------------------------------------------------------------------------------------------------+\n",
            "only showing top 10 rows\n",
            "\n"
          ],
          "output_type" : "stream"
        }
      ]
    },
    {
      "cell_type" : "code",
      "execution_count" : 18,
      "metadata" : {
        "cell.metadata.exec_info" : {
          "startTs" : 1584014065492,
          "endTs" : 1584014072774
        },
        "language" : "scala"
      },
      "language" : "scala",
      "source" : [
        "(partial_bat_uniref_mappings.count, partial_bat_uniref_mappings.select(\"UniRef90\").distinct.count, bat_unirefs.count,bat_unirefs.select(\"UniRef90\").distinct.count)"
      ],
      "outputs" : [
        {
          "execution_count" : 18,
          "data" : {
            "text/plain" : [
              "(18459,18459,25503,25503)"
            ]
          },
          "metadata" : {
            "name" : "Out",
            "type" : "Tuple4[Long, Long, Long, Long]"
          },
          "output_type" : "execute_result"
        }
      ]
    },
    {
      "cell_type" : "markdown",
      "execution_count" : 19,
      "metadata" : {
        "language" : "text"
      },
      "language" : "text",
      "source" : [
        "Aggregating GOes by Uniref90"
      ],
      "outputs" : [
      ]
    },
    {
      "cell_type" : "code",
      "execution_count" : 20,
      "metadata" : {
        "cell.metadata.exec_info" : {
          "startTs" : 1584014089948,
          "endTs" : 1584014092709
        },
        "language" : "scala"
      },
      "language" : "scala",
      "source" : [
        "def flatGo = udf[Array[String], String]{ str => str.trim.replaceAll(\"^;\", \"\".replaceAll(\" +\", \"\")).split(\";\").distinct}\n",
        "val partial_bat_go_mappings = partial_bat_uniref_mappings\n",
        ".filter($\"GO\" =!=\";\")\n",
        ".withColumn(\"GO\", flatGo($\"GO\"))\n",
        ".join(bat_unirefs, Seq(\"Uniref90\"))\n",
        ".as[(String, scala.collection.mutable.ArrayBuffer[String], Double, Double, Double, Double)]\n",
        "partial_bat_go_mappings.show(10,1000)"
      ],
      "outputs" : [
        {
          "name" : "stdout",
          "text" : [
            "+-------------------+-----------------------------------------------------------------------------------------------------------------------------------------------------------------------------------------------------------------------------------------------------------------------------------------------------------------------+-----------+------------------+------------------+------------------+\n",
            "|           UniRef90|                                                                                                                                                                                                                                                                                                                     GO|bat_liver_1|      bat_kidney_1|       bat_liver_2|      bat_kidney_2|\n",
            "+-------------------+-----------------------------------------------------------------------------------------------------------------------------------------------------------------------------------------------------------------------------------------------------------------------------------------------------------------------+-----------+------------------+------------------+------------------+\n",
            "|UniRef90_A0A1A6HID7|                                                                                                                                                                                                                                                                                                           [GO:0003723]|   2.572626|          1.585342|          1.395751|          0.903264|\n",
            "|UniRef90_A0A2I2U047|[GO:0015629,  GO:0010008,  GO:0016600,  GO:0030027,  GO:0016328,  GO:0051015,  GO:0048365,  GO:0030036,  GO:0090630,  GO:0016197,  GO:0140285,  GO:0097750,  GO:0045184,  GO:0090148,  GO:0010633,  GO:0051895,  GO:0044387,  GO:1900025,  GO:0001755,  GO:2000394,  GO:0010762,  GO:1900027,  GO:0007015,  GO:0016477]|        0.0|          0.765409|          0.047176|          0.375386|\n",
            "|UniRef90_A0A2I2UAC0|                                                                                                                                                                                                                                          [GO:0005737,  GO:0005654,  GO:0005634,  GO:0046872,  GO:0003723,  GO:0000381]|   0.366763|          4.565969|          0.295225|          2.314724|\n",
            "|UniRef90_A0A2K6F8C2|                                                                                                                                                                                                                                                                                              [GO:0005794,  GO:0016021]|   1.805169|          1.335234|          1.991813|          1.304381|\n",
            "|UniRef90_A0A3Q1NA12|                                                                                                                                                                                                                                                                                              [GO:0070176,  GO:0006351]|   2.808344|          6.461329|          1.858746|          4.709303|\n",
            "|UniRef90_A0A3Q2I264|                                                                                                                                                                                                                                          [GO:0005634,  GO:0008013,  GO:0003677,  GO:0060070,  GO:0006357,  GO:0033153]|   0.200006|          0.725467|          0.170026|          0.317012|\n",
            "|UniRef90_A0A3S9GVL5|                                                                                                                                                                                                                                                                                                           [GO:0004252]|   9.249892|          7.301443|         10.645914|          6.482736|\n",
            "|UniRef90_A0A452QTH1|                                                                                                                                                                                                                                                       [GO:0005615,  GO:0005794,  GO:0030145,  GO:0004674,  GO:0031214]|   24.85114|         10.854998|         21.884651|         14.076781|\n",
            "|UniRef90_A0A4X1SW20|                                                                                                                                                                                                                                                                                              [GO:0005634,  GO:0000981]|   3.977925|          4.690075|2.0394930000000002|2.9634289999999996|\n",
            "|UniRef90_A0A4X1VNX6|                                                                                                                                                                                                                                                       [GO:0016020,  GO:0098793,  GO:0005484,  GO:0006886,  GO:0016081]|   2.460427|16.588048999999998|1.8912170000000001|         14.018611|\n",
            "+-------------------+-----------------------------------------------------------------------------------------------------------------------------------------------------------------------------------------------------------------------------------------------------------------------------------------------------------------------+-----------+------------------+------------------+------------------+\n",
            "only showing top 10 rows\n",
            "\n"
          ],
          "output_type" : "stream"
        }
      ]
    },
    {
      "cell_type" : "code",
      "execution_count" : 22,
      "metadata" : {
        "cell.metadata.exec_info" : {
          "startTs" : 1584014194113,
          "endTs" : 1584014199240
        },
        "language" : "scala"
      },
      "language" : "scala",
      "source" : [
        "val bat_go_mappings = partial_bat_go_mappings\n",
        ".flatMap{ case (a, arr, l1, k1, l2, k2) => arr.toList.filter(f=>f.trim!=\"\").distinct.map(aa=> (aa.trim, l1, k1, l2, k2 ))}\n",
        ".toDF(\"GO\", \"bat_liver_1\", \"bat_kidney_1\", \"bat_liver_2\", \"bat_kidney_2\")\n",
        ".groupBy($\"GO\")\n",
        ".agg(\n",
        "    sum($\"bat_liver_1\").as(\"bat_liver_1\"), \n",
        "    sum($\"bat_kidney_1\").as(\"bat_kidney_1\"), \n",
        "    sum($\"bat_liver_2\").as(\"bat_liver_2\"), \n",
        "    sum($\"bat_kidney_2\").as(\"bat_kidney_2\")\n",
        "    )\n",
        ".orderBy($\"bat_liver_1\".desc,$\"bat_kidney_1\".desc)\n",
        ".withColumnRenamed(\"GO\", \"go\")\n",
        "bat_go_mappings.show(10,100)"
      ],
      "outputs" : [
        {
          "name" : "stdout",
          "text" : [
            "+----------+------------------+------------------+------------------+------------------+\n",
            "|        go|       bat_liver_1|      bat_kidney_1|       bat_liver_2|      bat_kidney_2|\n",
            "+----------+------------------+------------------+------------------+------------------+\n",
            "|GO:0005615|104813.53711199995| 9633.763691999999|105668.70030599993| 9218.175467000005|\n",
            "|GO:0005737|      45889.810949| 39124.75226900001| 43063.92459099999| 37351.04243300002|\n",
            "|GO:0016021| 40258.52125200002| 49371.60719699998| 33799.39783599998| 50314.59441799999|\n",
            "|GO:0005829|      39701.526823| 48503.28607600002| 35938.73908299998|48467.252029999996|\n",
            "|GO:0005634|      28991.795084|38791.502254000006|26034.121111999997|36985.395011999986|\n",
            "|GO:0016020|28193.223352999994|21701.492759999997|28454.926921999995|21109.941520000015|\n",
            "|GO:0005576|26396.602805999995| 7023.994042999998|      25132.769251| 6699.110292999995|\n",
            "|GO:0005524|26232.830242999997| 23228.16708199999|22413.050668999993| 22506.39408900001|\n",
            "|GO:0004869|17508.984615999998| 531.7147389999999|      22038.233528| 575.1866110000002|\n",
            "|GO:0046872|17095.199362999996| 13847.78993400001|13065.266656999996|13957.056503999998|\n",
            "+----------+------------------+------------------+------------------+------------------+\n",
            "only showing top 10 rows\n",
            "\n"
          ],
          "output_type" : "stream"
        }
      ]
    },
    {
      "cell_type" : "code",
      "execution_count" : 23,
      "metadata" : {
        "cell.metadata.exec_info" : {
          "startTs" : 1584014208269,
          "endTs" : 1584014228478
        },
        "language" : "scala"
      },
      "language" : "scala",
      "source" : [
        "//previos (13694,13694,13694)\n",
        "(bat_go_mappings.count, bat_go_mappings.select(\"go\").count, bat_go_mappings.select(\"go\").distinct.count)"
      ],
      "outputs" : [
        {
          "execution_count" : 23,
          "data" : {
            "text/plain" : [
              "(12981,12981,12981)"
            ]
          },
          "metadata" : {
            "name" : "Out",
            "type" : "Tuple3[Long, Long, Long]"
          },
          "output_type" : "execute_result"
        }
      ]
    },
    {
      "cell_type" : "code",
      "execution_count" : 21,
      "metadata" : {
        "cell.metadata.exec_info" : {
          "startTs" : 1584014228480,
          "endTs" : 1584014234453
        },
        "language" : "scala"
      },
      "language" : "scala",
      "source" : [
        "bat_go_mappings.select(\"go\").groupBy(\"go\").agg(count($\"go\")).orderBy($\"count(go)\".desc).show(100)"
      ],
      "outputs" : [
        {
          "name" : "stdout",
          "text" : [
            "+----------+---------+\n",
            "|        go|count(go)|\n",
            "+----------+---------+\n",
            "|GO:0019900|        1|\n",
            "|GO:0004087|        1|\n",
            "|GO:0005827|        1|\n",
            "|GO:0045738|        1|\n",
            "|GO:0050890|        1|\n",
            "|GO:0051571|        1|\n",
            "|GO:0032689|        1|\n",
            "|GO:0031491|        1|\n",
            "|GO:0010390|        1|\n",
            "|GO:0034012|        1|\n",
            "|GO:0072053|        1|\n",
            "|GO:0042535|        1|\n",
            "|GO:1990314|        1|\n",
            "|GO:0045639|        1|\n",
            "|GO:0098779|        1|\n",
            "|GO:0090240|        1|\n",
            "|GO:1903531|        1|\n",
            "|GO:0015293|        1|\n",
            "|GO:0060702|        1|\n",
            "|GO:0033186|        1|\n",
            "|GO:0046512|        1|\n",
            "|GO:0045910|        1|\n",
            "|GO:1990456|        1|\n",
            "|GO:1902260|        1|\n",
            "|GO:2001106|        1|\n",
            "|GO:0032049|        1|\n",
            "|GO:0005372|        1|\n",
            "|GO:1990726|        1|\n",
            "|GO:0004723|        1|\n",
            "|GO:0017075|        1|\n",
            "|GO:0070384|        1|\n",
            "|GO:0042053|        1|\n",
            "|GO:0008297|        1|\n",
            "|GO:0006501|        1|\n",
            "|GO:0009032|        1|\n",
            "|GO:0070724|        1|\n",
            "|GO:0021692|        1|\n",
            "|GO:0003165|        1|\n",
            "|GO:0003976|        1|\n",
            "|GO:0002025|        1|\n",
            "|GO:0031085|        1|\n",
            "|GO:0051147|        1|\n",
            "|GO:0098504|        1|\n",
            "|GO:1905552|        1|\n",
            "|GO:0097708|        1|\n",
            "|GO:1902388|        1|\n",
            "|GO:0046070|        1|\n",
            "|GO:0036294|        1|\n",
            "|GO:0002143|        1|\n",
            "|GO:0034056|        1|\n",
            "|GO:0032387|        1|\n",
            "|GO:0010980|        1|\n",
            "|GO:0031440|        1|\n",
            "|GO:0097037|        1|\n",
            "|GO:0014047|        1|\n",
            "|GO:0008615|        1|\n",
            "|GO:0150011|        1|\n",
            "|GO:0061752|        1|\n",
            "|GO:1904139|        1|\n",
            "|GO:0021989|        1|\n",
            "|GO:0042487|        1|\n",
            "|GO:0060374|        1|\n",
            "|GO:0038060|        1|\n",
            "|GO:0021934|        1|\n",
            "|GO:0086070|        1|\n",
            "|GO:1905240|        1|\n",
            "|GO:0000287|        1|\n",
            "|GO:0009072|        1|\n",
            "|GO:0008180|        1|\n",
            "|GO:0004725|        1|\n",
            "|GO:0048771|        1|\n",
            "|GO:0099183|        1|\n",
            "|GO:0042060|        1|\n",
            "|GO:0032516|        1|\n",
            "|GO:0001892|        1|\n",
            "|GO:0030877|        1|\n",
            "|GO:0005315|        1|\n",
            "|GO:0001222|        1|\n",
            "|GO:1905259|        1|\n",
            "|GO:0043627|        1|\n",
            "|GO:0044242|        1|\n",
            "|GO:0010944|        1|\n",
            "|GO:0043393|        1|\n",
            "|GO:0006360|        1|\n",
            "|GO:0035162|        1|\n",
            "|GO:0010715|        1|\n",
            "|GO:0015729|        1|\n",
            "|GO:0033503|        1|\n",
            "|GO:0103025|        1|\n",
            "|GO:0001502|        1|\n",
            "|GO:0005137|        1|\n",
            "|GO:0009331|        1|\n",
            "|GO:0033034|        1|\n",
            "|GO:0008239|        1|\n",
            "|GO:0045723|        1|\n",
            "|GO:0032427|        1|\n",
            "|GO:0043490|        1|\n",
            "|GO:0003996|        1|\n",
            "|GO:1900226|        1|\n",
            "|GO:0016557|        1|\n",
            "+----------+---------+\n",
            "only showing top 100 rows\n",
            "\n"
          ],
          "output_type" : "stream"
        }
      ]
    },
    {
      "cell_type" : "code",
      "execution_count" : 24,
      "metadata" : {
        "language" : "scala"
      },
      "language" : "scala",
      "source" : [
      ],
      "outputs" : [
      ]
    }
  ]
}