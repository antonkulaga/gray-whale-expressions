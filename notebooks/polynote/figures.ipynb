{
  "metadata" : {
    "config" : {
      "dependencies" : {
        "scala" : [
          "group.research.aging:spark-extensions_2.12:0.0.8",
          "org.bdgenomics.adam:adam-core-spark2_2.12:0.30.0",
          "com.github.pathikrit:better-files_2.12:3.8.0"
        ]
      },
      "exclusions" : [
      ],
      "repositories" : [
        {
          "maven" : {
            "base" : "http://central.maven.org/maven2/"
          }
        },
        {
          "maven" : {
            "base" : "http://oss.sonatype.org/content/repositories/snapshots"
          }
        },
        {
          "maven" : {
            "base" : "https://dl.bintray.com/comp-bio-aging/main/"
          }
        }
      ],
      "sparkConfig" : {
        "master" : "http://spark:7070[16]"
      }
    }
  },
  "nbformat" : 4,
  "nbformat_minor" : 0,
  "cells" : [
    {
      "cell_type" : "markdown",
      "execution_count" : 0,
      "metadata" : {
        "language" : "text"
      },
      "language" : "text",
      "source" : [
        "# figures\n",
        "\n",
        "\n",
        "Notebook that generates main figures for the Gray Whale paper<br>\n",
        "\n",
        "\n"
      ],
      "outputs" : [
      ]
    },
    {
      "cell_type" : "code",
      "execution_count" : 1,
      "metadata" : {
        "cell.metadata.exec_info" : {
          "startTs" : 1584015099167,
          "endTs" : 1584015099261
        },
        "language" : "scala"
      },
      "language" : "scala",
      "source" : [
        "import org.apache.spark._\n",
        "import org.apache.spark.sql.types._\n",
        "import scala.reflect.runtime.universe._\n",
        "import org.apache.spark.storage.StorageLevel\n",
        "import org.apache.spark.rdd._\n",
        "import org.apache.spark.sql._\n",
        "import org.apache.spark.sql.functions._\n",
        "import org.apache.spark.sql.expressions._\n",
        "import group.research.aging.spark.extensions._\n",
        "import group.research.aging.spark.extensions.functions._\n",
        "import kernel.display.html\n",
        "import org.apache.spark.ml.feature.PCAModel\n",
        "import org.apache.spark.ml.feature.PCA\n",
        "import org.apache.spark.ml.linalg.Matrix\n",
        "import org.apache.spark.ml.stat.Correlation\n",
        "import org.apache.spark.sql.expressions._"
      ],
      "outputs" : [
      ]
    },
    {
      "cell_type" : "markdown",
      "execution_count" : 2,
      "metadata" : {
        "language" : "text"
      },
      "language" : "text",
      "source" : [
        "## Extra spark functions\n",
        "\n",
        "  \"val all_pro = processes.select(\\\"go\\\", featuresOrdered:_*).na.fill(0.0).sort($\\\"bowhead_whale_liver\\\".desc)\\n\",\n",
        "        \"val liver_pro = processes.select(\\\"go\\\", liverFeatures:_*).na.fill(0.0).sort($\\\"bowhead_whale_liver\\\".desc)\\n\",\n",
        "        \"val kidney_pro = processes.select(\\\"go\\\", kidneyFeatures:_*).na.fill(0.0).sort($\\\"bowhead_whale_kidney\\\".desc)\\n\",\n",
        "        \"//and ranked\\n\",\n",
        "        \"val all_pro_ranked = processes.select(\\\"go\\\", featuresOrdered:_*).na.fill(0.0).sort($\\\"bowhead_whale_liver\\\".desc)\\n\",\n",
        "        \"val liver_pro_ranked = processes.select(\\\"go\\\", liverFeaturesRanked:_*).na.fill(0.0).sort($\\\"bowhead_whale_liver\\\".desc)\\n\",\n",
        "        \"val kidney_pro_ranked = processes.select(\\\"go\\\", kidneyFeaturesRanked:_*).na.fill(0.0).sort($\\\"bowhead_whale_kidney\\\".desc)\\n\",\n",
        "        \"all_pro.show(10, 10000)\""
      ],
      "outputs" : [
      ]
    },
    {
      "cell_type" : "code",
      "execution_count" : 3,
      "metadata" : {
        "cell.metadata.exec_info" : {
          "startTs" : 1584015100357,
          "endTs" : 1584015100506
        },
        "language" : "scala"
      },
      "language" : "scala",
      "source" : [
        "//adds index to make it easier to join the dataframes\n",
        "def addIndex(df: DataFrame) = spark.createDataFrame(\n",
        "  // Add index\n",
        "  df.rdd.zipWithIndex.map{case (r, i) => Row.fromSeq(r.toSeq :+ i)},\n",
        "  // Create schema\n",
        "  StructType(df.schema.fields :+ StructField(\"_index\", LongType, false))\n",
        ")"
      ],
      "outputs" : [
      ]
    },
    {
      "cell_type" : "code",
      "execution_count" : 4,
      "metadata" : {
        "cell.metadata.exec_info" : {
          "startTs" : 1584015102124,
          "endTs" : 1584015102392
        },
        "language" : "scala"
      },
      "language" : "scala",
      "source" : [
        "def transpose(df: DataFrame) = {\n",
        "    val (header, data) = df.collect.map(_.toSeq.toArray).transpose match {\n",
        "  case Array(h, t @ _*) => {\n",
        "    (h.map(_.toString), t.map(_.collect { case x: Int => x }))\n",
        "  }\n",
        "}\n",
        "    val rows = df.columns.tail.zip(data).map { case (x, ys) => Row.fromSeq(x +: ys) }\n",
        "    val schema = StructType(\n",
        "      StructField(\"vals\", StringType) +: header.map(StructField(_, IntegerType))\n",
        "    )\n",
        "spark.createDataFrame(spark.sparkContext.parallelize(rows), schema)\n",
        "}"
      ],
      "outputs" : [
      ]
    },
    {
      "cell_type" : "code",
      "execution_count" : 5,
      "metadata" : {
        "cell.metadata.exec_info" : {
          "startTs" : 1584015103599,
          "endTs" : 1584015103757
        },
        "language" : "scala"
      },
      "language" : "scala",
      "source" : [
        "def round2(v: Double): Double =  Math.round(100.0 * v) / 100.0 \n",
        "def log2(x: Double): Double = Math.log10(x) / Math.log10(2.0)\n",
        "def log20(x: Double): Double = Math.log10(x) / Math.log10(2.0)\n",
        "\n",
        "\n",
        "def safeLog(v: Double): Double = if(v.isNaN || v <= 1) 0.0 else round2(Math.log10(v)) \n",
        "def safeLog20(v: Double): Double = if(v.isNaN || v <= 1) 0.0 else round2(log20(v)) \n",
        "\n",
        "\n",
        "def logs(df: DataFrame, cols: List[String]) = {\n",
        "  val fun = udf[Double, Double](safeLog)\n",
        "  cols.foldLeft(df){\n",
        "    case (acc, c) => acc.withColumn(c, fun(new ColumnName(c)))\n",
        "  }\n",
        "}"
      ],
      "outputs" : [
      ]
    },
    {
      "cell_type" : "code",
      "execution_count" : 6,
      "metadata" : {
        "cell.metadata.exec_info" : {
          "startTs" : 1584015105405,
          "endTs" : 1584015105742
        },
        "language" : "scala"
      },
      "language" : "scala",
      "source" : [
        "def coord(i: Int): UserDefinedFunction = udf[Double, org.apache.spark.ml.linalg.Vector]{ vec => vec(i) }\n",
        "val x_udf = coord(0)\n",
        "val y_udf = coord(1)\n",
        "val z_udf = coord(2)"
      ],
      "outputs" : [
      ]
    },
    {
      "cell_type" : "code",
      "execution_count" : 7,
      "metadata" : {
        "cell.metadata.exec_info" : {
          "startTs" : 1584015106496,
          "endTs" : 1584015106604
        },
        "language" : "scala"
      },
      "language" : "scala",
      "source" : [
        "import polynote.runtime.KernelRuntime\n",
        "def script_import(src: String)(implicit kernel: KernelRuntime) =  html(s\"\"\"<script  src=\"${src}\" charset=\"utf-8\"></script>\"\"\")\n",
        "def plotly()(implicit kernel: KernelRuntime) = script_import(\"https://cdn.plot.ly/plotly-latest.js\")(kernel)\n"
      ],
      "outputs" : [
      ]
    },
    {
      "cell_type" : "code",
      "execution_count" : 8,
      "metadata" : {
        "cell.metadata.exec_info" : {
          "startTs" : 1584015107707,
          "endTs" : 1584015107800
        },
        "language" : "scala"
      },
      "language" : "scala",
      "source" : [
        "import polynote.runtime.KernelRuntime\n",
        "def div(id: String)(implicit kernel: KernelRuntime) = kernel.display.html(s\"<div id='${id}'>${id}</div>\")"
      ],
      "outputs" : [
      ]
    },
    {
      "cell_type" : "code",
      "execution_count" : 9,
      "metadata" : {
        "cell.metadata.exec_info" : {
          "startTs" : 1584015108713,
          "endTs" : 1584015108901
        },
        "language" : "scala"
      },
      "language" : "scala",
      "source" : [
        "def seq2StringArray(seq: Seq[String]) = \"[\" + seq.map(\"\\\"\" + _ + \"\\\"\").mkString(\",\") + \"]\" \n",
        "def seq2NumArray(seq: scala.collection.Seq[Double]) =  \"[\" + seq.mkString(\",\") + \"]\" \n",
        "def collectVec(vec: DataFrame): Array[Array[Double]] = vec.map{case org.apache.spark.sql.Row(v: org.apache.spark.ml.linalg.Vector) => v.toArray}.as[Array[Double]].collect"
      ],
      "outputs" : [
      ]
    },
    {
      "cell_type" : "markdown",
      "execution_count" : 10,
      "metadata" : {
        "language" : "text"
      },
      "language" : "text",
      "source" : [
        "### Javascript generating code for the heatmap\n",
        "\n"
      ],
      "outputs" : [
      ]
    },
    {
      "cell_type" : "code",
      "execution_count" : 11,
      "metadata" : {
        "cell.metadata.exec_info" : {
          "startTs" : 1584015109865,
          "endTs" : 1584015110121
        },
        "language" : "scala"
      },
      "language" : "scala",
      "source" : [
        "def for_heatmap(vec: DataFrame, id: String, x: Seq[String], y: Seq[String], title: String,  \n",
        "left: Int = 300, top: Int = 250, width: Int = 1200, height: Int = 1000, \n",
        "labels: Boolean = true, logData: Boolean = false, logAnnotations: Boolean = false, \n",
        "colorScale: String = \"RdBu\", inverse: Boolean = false, showScale: Boolean = true,\n",
        " zmin: Double = 0.0, zmax: Double = 0.0, dataFontSize: Int = 16, tickFontSize: Int = 24, tickAngle: String = \"auto\"): String = {\n",
        "    \n",
        "val cv: Array[Array[Double]] = collectVec(vec)\n",
        "val numbers = cv.map(arr=>arr.map(n => round2(n))) //val vs = if(inverse) {val max: Double =numbers.map(_.max).max numbers.map(arr => arr.map(max - _)) } else numbers\n",
        "val data =        numbers.map(arr=>seq2NumArray(arr.map{number=> if(logData) safeLog(number) else number })).mkString(\",\")\n",
        "val annotations = numbers.map(arr=>seq2NumArray(arr.map{number=> if(logAnnotations) safeLog(number) else number })).mkString(\",\")\n",
        "val start = s\"\"\"\n",
        "var layout = {\n",
        "  title: '${title}',\n",
        "  annotations: [],\n",
        "  margin: {\n",
        "    l: ${left},\n",
        "    r: 125,\n",
        "    t: ${top},\n",
        "    b: 50\n",
        "  },\n",
        "  width: ${width},\n",
        "  height: ${height},\n",
        "  xaxis: {\n",
        "    side: 'top',\n",
        "    tickfont: {\n",
        "      size: ${tickFontSize}\n",
        "    },\n",
        "    tickangle: '${tickAngle}'\n",
        "  },\n",
        "  yaxis: {\n",
        "    side: 'left',\n",
        "    autorange: 'reversed',\n",
        "    tickfont: {\n",
        "      size: ${tickFontSize}\n",
        "    }\n",
        "  },\n",
        "};\n",
        "\n",
        "var xValues = ${seq2StringArray(x)}\n",
        "var yValues =  ${seq2StringArray(y)}\n",
        "var zValues =  [${data}]\n",
        "var aValues =  [${annotations}]\n",
        "\n",
        "\"\"\"\n",
        "val end = s\"\"\"\n",
        "var data = [{\n",
        "   x: xValues,\n",
        "   y: yValues,\n",
        "   z: zValues,\n",
        "   ${if(zmin < zmax) \"zmin: \" + zmin + \", zmax: \"+ zmax + \",\"  else \"\"}\n",
        "   colorscale: '${colorScale}', ${if(showScale) \"\" else \" showscale: false ,\"}\n",
        "   type: 'heatmap' ${if(inverse) \", reversescale: true\" else \"\"}\n",
        " }];\n",
        " Plotly.newPlot('${id}', data, layout);\n",
        "\"\"\"\n",
        "\n",
        "val middle = s\"\"\"\n",
        "for ( var i = 0; i < yValues.length; i++ ) {\n",
        "  for ( var j = 0; j < xValues.length; j++ ) {\n",
        "    var currentValue = zValues[i][j];\n",
        "    if (currentValue != 0.0) {\n",
        "      var textColor = 'white';\n",
        "    }else{\n",
        "      var textColor = 'black';\n",
        "    }\n",
        "    var result = {\n",
        "      xref: 'x1',\n",
        "      yref: 'y1',\n",
        "      x: xValues[j],\n",
        "      y: yValues[i],\n",
        "      text: aValues[i][j],\n",
        "      font: {\n",
        "        family: 'Arial',\n",
        "        size: 5,\n",
        "        color: 'rgb(50, 171, 96)'\n",
        "      },\n",
        "      showarrow: false,\n",
        "      font: {\n",
        "        color: textColor,\n",
        "        size: '${dataFontSize}'\n",
        "      }\n",
        "    };\n",
        "    layout.annotations.push(result);\n",
        "  }\n",
        "}\n",
        "\"\"\"\n",
        "val res: String = if(labels) start + middle + end else start + end\n",
        "//script(res, \"drawing heatmap\")\n",
        " s\"\"\"<script type=\"text/javascript\" charset=\"utf-8\">${res}</script>\n",
        "    <h3>${id} heatmap has been displayed</h3>\"\"\"\n",
        "}\n",
        "\n",
        "def for_makeHeatmap(df: DataFrame, label: String, features: Seq[String], \n",
        "div: String, title: String, left: Int = 300, top: Int = 300,\n",
        " width: Int = 1000, height: Int = 1000, labels: Boolean = true, \n",
        " logData: Boolean = false, logAnnotations: Boolean = false, \n",
        " colorScale: String = \"RdBu\", inverse: Boolean = false, showScale: Boolean = true, \n",
        " zmin: Double = 0.0, zmax: Double = 0.0, names: List[String] = List.empty[String], \n",
        "//dataFontSize: Int = 16, tickFontSize: Int = 24, tickAngle: String = \"auto\"\n",
        "dataFontSize: Int = 18, tickFontSize: Int = 20, tickAngle: String = \"-30\"\n",
        "): String = {\n",
        "    val y = df.select(label).as[String].collect.toList\n",
        "    val x = if(names.isEmpty) features.toList else names\n",
        "    val vec = df.toVectors(features, \"features\")\n",
        "    for_heatmap(vec, div, x, y, title, left, top, width, height, labels, logData, logAnnotations, colorScale, inverse, showScale, zmin, zmax, dataFontSize = dataFontSize, tickFontSize = tickFontSize, tickAngle = tickAngle)\n",
        "}\n",
        "\n"
      ],
      "outputs" : [
      ]
    },
    {
      "cell_type" : "code",
      "execution_count" : 12,
      "metadata" : {
        "cell.metadata.exec_info" : {
          "startTs" : 1584015113043,
          "endTs" : 1584015113155
        },
        "language" : "scala"
      },
      "language" : "scala",
      "source" : [
        "def makeHeatmap(df: DataFrame, label: String, features: Seq[String], \n",
        "div: String, title: String, left: Int = 300, top: Int = 300,\n",
        " width: Int = 1000, height: Int = 1000, labels: Boolean = true, \n",
        " logData: Boolean = false, logAnnotations: Boolean = false, \n",
        " colorScale: String = \"RdBu\", inverse: Boolean = false, showScale: Boolean = true, \n",
        " zmin: Double = 0.0, zmax: Double = 0.0, names: List[String] = List.empty[String], \n",
        "//dataFontSize: Int = 16, tickFontSize: Int = 24, tickAngle: String = \"auto\"\n",
        "dataFontSize: Int = 18, tickFontSize: Int = 20, tickAngle: String = \"-30\"\n",
        ")(implicit kernel: KernelRuntime) = {\n",
        "    val str = for_makeHeatmap(df,label, features, \n",
        "    div, title, left, top, \n",
        "    width, height, labels,\n",
        "    logData,logAnnotations,\n",
        "    colorScale, inverse, showScale, \n",
        "    zmin, zmax, names, \n",
        "    dataFontSize, tickFontSize, tickAngle)\n",
        "    kernel.display.html(str)\n",
        "}"
      ],
      "outputs" : [
      ]
    },
    {
      "cell_type" : "code",
      "execution_count" : 13,
      "metadata" : {
        "cell.metadata.exec_info" : {
          "startTs" : 1584015115617,
          "endTs" : 1584015115729
        },
        "language" : "scala"
      },
      "language" : "scala",
      "source" : [
        "html(s\"\"\"<script src=\"https://cdn.plot.ly/plotly-latest.js\" charset=\"utf-8\"></script><h1>Activate plotly!</h1>\"\"\")\n",
        "//plotly()"
      ],
      "outputs" : [
        {
          "data" : {
            "text/html" : [
              "<script src=\"https://cdn.plot.ly/plotly-latest.js\" charset=\"utf-8\"></script><h1>Activate plotly!</h1>"
            ]
          },
          "output_type" : "display_data"
        }
      ]
    },
    {
      "cell_type" : "markdown",
      "execution_count" : 14,
      "metadata" : {
        "language" : "text"
      },
      "language" : "text",
      "source" : [
        "## Pathes\n",
        "\n"
      ],
      "outputs" : [
      ]
    },
    {
      "cell_type" : "code",
      "execution_count" : 15,
      "metadata" : {
        "cell.metadata.exec_info" : {
          "startTs" : 1584015119629,
          "endTs" : 1584015119797
        },
        "language" : "scala"
      },
      "language" : "scala",
      "source" : [
        "//General Pathes\n",
        "val dataPath = \"/data/\"\n",
        "val databasesPath = dataPath + \"databases/\"\n",
        "val resultsPath = dataPath + \"results/\"\n",
        "val whalePath = resultsPath + \"gray-whale/\"\n",
        "//Indexes\n",
        "val indexesPath = dataPath + \"indexes/\"\n",
        "val reactomePath = indexesPath + \"reactome/\"\n",
        "//Expressions Pathes\n",
        "val expressionsPath = whalePath + \"Expressions/\"\n",
        "val unirefPath = expressionsPath + \"uniref90/\"\n",
        "//Comparison folder\n",
        "val comparisonsPath = expressionsPath + \"Comparisons/\"\n",
        "val comparisonsUniref = comparisonsPath + \"uniref90_comparisons/\"\n",
        "\n",
        "val annotationsPath = comparisonsPath + \"annotations/\"\n",
        "//GO pathes\n",
        "val byGoPath = expressionsPath + \"GO/\"\n",
        "val grouped = byGoPath + \"grouped/\" + \"updated/\"\n",
        "val ranked = grouped + \"ranked/\"\n",
        "\n",
        "val figuresPath = expressionsPath + \"Figures/\"\n",
        "val comparison = byGoPath + \"gray_whale_with_bowhead_with_minke_with_NMR_with_human_with_mouse_with_cow_full_outer_counts_extended.tsv\""
      ],
      "outputs" : [
      ]
    },
    {
      "cell_type" : "markdown",
      "execution_count" : 16,
      "metadata" : {
        "cell.metadata.exec_info" : {
          "startTs" : 1583805686878,
          "endTs" : 1583805687774
        },
        "language" : "text"
      },
      "language" : "text",
      "source" : [
        "//val goTable    = spark.readTSV(comparison, true)\n",
        "val components = spark.readTSV(grouped + \"by_cellular_component_ranked.tab\"  , true)\n",
        "val processes  = spark.readTSV(grouped + \"by_biological_process_ranked.tab\"  , true)\n",
        "val functions  = spark.readTSV(grouped + \"by_molecular_function_ranked.tab\"  , true)"
      ],
      "outputs" : [
      ]
    },
    {
      "cell_type" : "code",
      "execution_count" : 17,
      "metadata" : {
        "cell.metadata.exec_info" : {
          "startTs" : 1584015122189,
          "endTs" : 1584015123721
        },
        "language" : "scala"
      },
      "language" : "scala",
      "source" : [
        "import scala.collection.immutable._\n",
        " val longevity = ListMap(\n",
        "    \"human\" -> 122.5,\n",
        "    \"bowhead whale\" -> 211.0,\n",
        "    \"gray whale\" -> 77.0,\n",
        "    \"minke whale\" -> 50,\n",
        "    \"brandt's bat\"   -> 41.0,\n",
        "    \"naked mole rat\" -> 31.0,\n",
        "    \"cow\" -> 20.0,\n",
        "    \"house mouse\" -> 4.0    )\n",
        "val featuresMap: ListMap[String, String] = ListMap(\n",
        " \"bowhead_whale_liver\" -> \"Bowhead whale liver\" ,\n",
        " \"gray_whale_liver\" -> \"Gray whale liver\",\n",
        " \"minke_liver\" -> \"Minke whale liver\",\n",
        "\"human_liver\" -> \"Human liver\",\n",
        "\"bat_liver_1\" ->\"Bat liver\", //\"Bat 1 liver\",\n",
        "//\"bat_liver_2\" -> \"Bat 2 liver\",\n",
        "\"NMR_liver\" -> \"Naked mole rat liver\",\n",
        " \"cow_totalRNA_liver\" -> \"Cow liver\",//\"Cow 1 liver\",\n",
        "//\"cow_mRNA_liver\" -> \"Cow 2 liver\",\n",
        " \"mouse_totalRNA_liver\" -> \"Mouse liver\",//\"Mouse 1 liver\",\n",
        "//\"mouse_mRNA_liver\" -> \"Mouse 2 liver\",\n",
        " \"bowhead_whale_kidney\" -> \"Bowhead whale kidney\",\n",
        "\"gray_whale_kidney\" -> \"Gray whale kidney\",\n",
        "\"minke_kidney\" -> \"Minke whale kidney\",\n",
        "\"human_kidney\" -> \"Human kidney\",\n",
        "\"bat_kidney_1\" -> \"Bat kidney\",//\"Bat 1 kidney\",\n",
        "//\"bat_kidney_2\" -> \"Bat 2 kidney\",\n",
        "\"NMR_kidney\" -> \"Naked mole rat kidney\",\n",
        "\"cow_totalRNA_kidney\" ->\"Cow kidney\", //\"Cow 1 kidney\",\n",
        "//\"cow_mRNA_kidney\" -> \"Cow 2 kidney\",\n",
        " \"mouse_totalRNA_kidney\" ->\"Mouse kidney\" //\"Mouse 1 kidney\"//,\"mouse_mRNA_kidney\"->\"Mouse 2 kidney\"\n",
        ")\n",
        "\n",
        "val prettyFeatures = featuresMap.values.toList//.map(v=> \"`\"+v+\"`\")\n",
        "val prettyLiverFeatures = prettyFeatures.filter(_.contains(\"liver\"))\n",
        "val prettyKidneyFeatures = prettyFeatures.filter(_.contains(\"kidney\"))\n",
        "\n",
        "val featuresOrdered = featuresMap.keys.toList\n",
        "val liverFeatures = featuresOrdered.filter(_.contains(\"liver\"))\n",
        "val kidneyFeatures = featuresOrdered.filter(_.contains(\"kidney\"))\n",
        "\n",
        "def prettyName(df: DataFrame, cols: Seq[String]) = df.rename(featuresMap).select(cols.head, (cols.tail++prettyFeatures):_* )\n",
        "\n",
        "val featuresMapRanked: ListMap[String, String] = ListMap(\n",
        "\"bowhead_whale_liver_rank\" -> \"Bowhead whale liver\",\n",
        "\"gray_whale_liver_rank\" -> \"Gray whale liver\",\n",
        "\"minke_liver_rank\" -> \"Minke whale liver\",\n",
        "\"human_liver_rank\" -> \"Human liver\",\n",
        "\"bat_liver_1_rank\" ->\"Bat liver\", //\"Bat 1 liver\",\n",
        "//\"bat_liver_2_rank\" -> \"Bat 2 liver\",\n",
        "\"NMR_liver_rank\" -> \"Naked mole rat liver\",\n",
        "\"cow_totalRNA_liver_rank\" ->\"Cow liver\", //\"Cow 1 liver\",\n",
        "//\"cow_mRNA_liver_rank\" -> \"Cow 2 liver\",\n",
        "\"mouse_totalRNA_liver_rank\" -> \"Mouse liver\",//\"Mouse 1 liver\",\n",
        "//\"mouse_mRNA_liver_rank\" -> \"Mouse 2 liver\",\n",
        "\"bowhead_whale_kidney_rank\"->\"Bowhead whale kidney\",\n",
        "\"gray_whale_kidney_rank\" -> \"Gray whale kidney\",\n",
        "\"minke_kidney_rank\" -> \"Minke whale kidney\",\n",
        "\"human_kidney_rank\" -> \"Human kidney\",\n",
        "\"bat_kidney_1_rank\" -> \"Bat kidney\",//\"Bat 1 kidney\",\n",
        "//\"bat_kidney_2_rank\" -> \"Bat 2 kidney\",\n",
        "\"NMR_kidney_rank\" -> \"Naked mole rat kidney\",\n",
        "\"cow_totalRNA_kidney_rank\" -> \"Cow kidney\",//,\"Cow 1 kidney\",\n",
        "//\"cow_mRNA_kidney_rank\" -> \"Cow 2 kidney\",\n",
        "\"mouse_totalRNA_kidney_rank\" -> \"Mouse kidney\" //\"Mouse 1 kidney\",\n",
        "//\"mouse_mRNA_kidney_rank\"->\"Mouse 2 kidney\"\n",
        ")\n",
        "\n",
        "val prettyFeaturesRanked = featuresMapRanked.values.toList//.map(v=> \"`\"+v+\"`\")\n",
        "val prettyLiverFeaturesRanked = prettyFeaturesRanked.filter(_.contains(\"liver\"))\n",
        "val prettyKidneyFeaturesRanked = prettyFeaturesRanked.filter(_.contains(\"kidney\"))\n",
        "\n",
        "val featuresOrderedRanked = featuresMapRanked.keys.toList\n",
        "val liverFeaturesRanked = featuresOrderedRanked.filter(_.contains(\"liver\"))\n",
        "val kidneyFeaturesRanked = featuresOrderedRanked.filter(_.contains(\"kidney\"))\n",
        "\n",
        "def rename(str: String) = featuresMap(str)\n",
        "val renameUDF = udf(rename _)"
      ],
      "outputs" : [
      ]
    },
    {
      "cell_type" : "code",
      "execution_count" : 79,
      "metadata" : {
        "cell.metadata.exec_info" : {
          "startTs" : 1584017930969,
          "endTs" : 1584017969917
        },
        "language" : "scala"
      },
      "language" : "scala",
      "source" : [
        "  //val goTable    = spark.readTSV(comparison, true)\n",
        "  val components = spark.readTSV(grouped + \"by_cellular_component_ranked.tab\"  , true)\n",
        "  val processes  = spark.readTSV(grouped + \"by_biological_process_ranked.tab\"  , true)\n",
        "  val functions  = spark.readTSV(grouped + \"by_molecular_function_ranked.tab\"  , true)"
      ],
      "outputs" : [
      ]
    },
    {
      "cell_type" : "code",
      "execution_count" : 18,
      "metadata" : {
        "cell.metadata.exec_info" : {
          "startTs" : 1584018380084,
          "endTs" : 1584018381439
        },
        "language" : "scala"
      },
      "language" : "scala",
      "source" : [
        "val all_pro = processes.select(\"go\", featuresOrdered:_*).na.fill(0.0).sort($\"bowhead_whale_liver\".desc)\n",
        "val liver_pro = processes.select(\"go\", liverFeatures:_*).na.fill(0.0).sort($\"bowhead_whale_liver\".desc)\n",
        "val kidney_pro = processes.select(\"go\", kidneyFeatures:_*).na.fill(0.0).sort($\"bowhead_whale_kidney\".desc)\n",
        "//and ranked\n",
        "val all_pro_ranked = processes.select(\"go\", featuresOrdered:_*).na.fill(0.0).sort($\"bowhead_whale_liver\".desc)\n",
        "val liver_pro_ranked = processes.select(\"go\", liverFeaturesRanked:_*).na.fill(0.0).sort($\"bowhead_whale_liver\".desc)\n",
        "val kidney_pro_ranked = processes.select(\"go\", kidneyFeaturesRanked:_*).na.fill(0.0).sort($\"bowhead_whale_kidney\".desc)\n",
        "all_pro.show(10, 10000)"
      ],
      "outputs" : [
        {
          "name" : "stdout",
          "text" : [
            "+----------+-------------------+------------------+------------------+------------------+------------------+------------------+------------------+--------------------+--------------------+------------------+------------------+------------------+------------------+------------------+-------------------+---------------------+\n",
            "|        go|bowhead_whale_liver|  gray_whale_liver|       minke_liver|       human_liver|       bat_liver_1|         NMR_liver|cow_totalRNA_liver|mouse_totalRNA_liver|bowhead_whale_kidney| gray_whale_kidney|      minke_kidney|      human_kidney|      bat_kidney_1|        NMR_kidney|cow_totalRNA_kidney|mouse_totalRNA_kidney|\n",
            "+----------+-------------------+------------------+------------------+------------------+------------------+------------------+------------------+--------------------+--------------------+------------------+------------------+------------------+------------------+------------------+-------------------+---------------------+\n",
            "|GO:0006412| 20034.802301962056| 58727.85268499997|      58984.534049| 5245.888943999999|11611.469454000002| 99321.06117499995|      66453.233819|  19875.159683999995|   7580.873805999998| 58516.40469099998| 83876.08076099999|4572.8019749999985|18173.991675999998| 68055.43613499998|  69545.42429499998|         40136.835409|\n",
            "|GO:0007165| 11456.244697941876| 6345.571518000001| 17049.13610699998|1871.5450460000013| 2159.331408000001| 5745.532362000001|34819.135545000005|   9690.572680000001|   730.4105399999999|       3046.372351| 6794.475674000003|1041.1421799999996| 3362.026449000002|15650.777031999995|  6107.394953999999|   4040.2445849999995|\n",
            "|GO:0030168|  9649.878922000002|4825.8970690000015|      14085.401642|       1058.395809|6044.7883120000015| 887.6625829999999|      10698.901304|  1729.4141550000004|  110.74727799999997|         735.49409|1004.8954389999998|134.17107599999997|        500.761714|11081.015959999999|         237.670793|   159.42827300000002|\n",
            "|GO:0051258|         9473.79854|4646.9995340000005|      13621.621028|1904.3595319999997|       4992.405234|          4.505929|      34760.626846|         8140.634027|           35.290827|        390.045118|280.32039199999997|         22.633872|         64.715187|      10497.265408|         347.760066|   1375.6564609999998|\n",
            "|GO:0007596|  8261.123065465594| 3650.397700999999| 9578.134696000001|2022.9721479999994|       1914.796432|       1057.343777| 6076.552737000001|   8268.755888000002|  142.51655499999998|        415.402641|       1427.116824|244.82055299999996| 848.1574680000002|       3242.578244| 1322.5566060000006|           908.046408|\n",
            "|GO:0006364|  8108.256701089998| 19892.75400300001|      20716.442639|3773.3374890000014|1701.6177480000006|      27889.193586|       8758.324353|         4860.838548|  3307.1603040000005|      19910.099414|      28506.682685|3318.7875520000016|2853.8925899999995|17208.674091999997|        8957.417896|   10758.778921000001|\n",
            "|GO:0042730|          8078.0922|3309.0822060000005| 8968.183581000001|1513.7249979999997| 4307.617244000001|           35.7291|30018.726055000003|  10014.604452000001|           42.979186|         72.845263|        282.935956|55.952070000000006|          86.00301|        425.171844|         311.428844|   343.68039000000005|\n",
            "|GO:0007160| 8011.7799435978595|       3514.362597|       9694.115787|1338.0888310000003| 4186.213390000001|2956.9987519999995|26311.580453000002|   8527.982918000003|   221.2542039999999| 660.4580200000003|1603.5128189999996|155.04945099999995|        687.870778| 3729.490719999999| 2381.9974030000008|          2062.065106|\n",
            "|GO:0045087|  7901.101709800991|       4463.351691|      10726.086148|       1825.327767| 643.9128840000002|2013.6806940000001|       6444.564144|  12411.395827999997|  294.76042099999995|1424.4476120000002|3201.3703599999985| 548.6701509999998| 618.4295549999998| 3330.051005999999|  4164.684584999999|    3932.793525999999|\n",
            "|GO:0070374|  7832.403063938196| 4188.585928999999|10169.680851000005|       1156.087434|       4109.915139|2548.6227659999995|32183.952483000005|         8594.919118|   307.6169800000001|       1547.229481| 3425.431567000001|        195.298921| 902.3067980000003|1808.7892720000002|  5123.760668000001|    3119.757872999999|\n",
            "+----------+-------------------+------------------+------------------+------------------+------------------+------------------+------------------+--------------------+--------------------+------------------+------------------+------------------+------------------+------------------+-------------------+---------------------+\n",
            "only showing top 10 rows\n",
            "\n"
          ],
          "output_type" : "stream"
        }
      ]
    },
    {
      "cell_type" : "code",
      "execution_count" : 19,
      "metadata" : {
        "language" : "scala"
      },
      "language" : "scala",
      "source" : [
        "Distributions of GO figures"
      ],
      "outputs" : [
      ]
    },
    {
      "cell_type" : "code",
      "execution_count" : 20,
      "metadata" : {
        "cell.metadata.exec_info" : {
          "startTs" : 1583806333524,
          "endTs" : 1583806333637
        },
        "language" : "scala"
      },
      "language" : "scala",
      "source" : [
        "def whaleBy(path: String): DataFrame = {\n",
        "    val pro = spark.readTSV(path, false).toDF(\"category\", \"label\", \"count\", \"go\")\n",
        "    val whale_pro = processes.select(\"go\",\"gray_whale_liver\",\"gray_whale_kidney\").where($\"gray_whale_liver\" =!= 0.0 || $\"gray_whale_kidney\" =!= 0.0)\n",
        "    val whale =  pro.join(whale_pro, Seq(\"go\"))\n",
        "    whale.groupBy(\"category\", \"label\", \"count\").agg(count($\"go\").as(\"count_in_whale\"), sum($\"gray_whale_liver\").as(\"liver_sum\"), sum($\"gray_whale_kidney\").as(\"kidney_sum\"))\n",
        "}"
      ],
      "outputs" : [
      ]
    },
    {
      "cell_type" : "code",
      "execution_count" : 21,
      "metadata" : {
        "cell.metadata.exec_info" : {
          "startTs" : 1583806336357,
          "endTs" : 1583806336476
        },
        "language" : "scala"
      },
      "language" : "scala",
      "source" : [
        "def whaleCompBy(path: String): DataFrame = {\n",
        "    val com = spark.readTSV(path, false).toDF(\"category\", \"label\", \"count\", \"go\")\n",
        "    val whale_com = components.select(\"go\",\"gray_whale_liver\",\"gray_whale_kidney\").where($\"gray_whale_liver\" =!= 0.0 || $\"gray_whale_kidney\" =!= 0.0)\n",
        "    val whale =  com.join(whale_com, Seq(\"go\"))\n",
        "    whale.groupBy(\"category\", \"label\", \"count\").agg(count($\"go\").as(\"count_in_whale\"), sum($\"gray_whale_liver\").as(\"liver_sum\"), sum($\"gray_whale_kidney\").as(\"kidney_sum\"))\n",
        "}"
      ],
      "outputs" : [
      ]
    },
    {
      "cell_type" : "code",
      "execution_count" : 22,
      "metadata" : {
        "cell.metadata.exec_info" : {
          "startTs" : 1583806055674,
          "endTs" : 1583806055922
        },
        "language" : "scala"
      },
      "language" : "scala",
      "source" : [
        "components.limit(10).show(10,10000)"
      ],
      "outputs" : [
        {
          "name" : "stdout",
          "text" : [
            "+----------+------------------+--------------------------------------------------------------+------------------+--------------+------------+-----------------+-----------------------+-----------------------+---------------------+-----------------------------------------------+------------------+-------------------+------------------+------------------+------------------+--------------------+------------------+------------------+------------------+------------------+------------------+------------------+--------------------+------------------+------------------+------------------+---------------------+------------------+-------------------+------------------+------------------+------------------+---------------------+------------------------+----------------+--------------+----------------+-------------------------+---------------------+-----------------------+-------------------+----------------+----------------+----------------------+-------------------------+-----------------+---------------+-----------------+--------------------------+----------------------+------------------------+--------------------+-----------------+-----------------+-------------------+\n",
            "|        go|         namespace|                                                         label|    gray_whale_avg|uniref90_count|taxons_count|transcripts_count|human_transcripts_count|mouse_transcripts_count|cow_transcripts_count|                                           type|  gray_whale_liver|bowhead_whale_liver|       minke_liver|         NMR_liver|       human_liver|mouse_totalRNA_liver|  mouse_mRNA_liver|cow_totalRNA_liver|    cow_mRNA_liver|       bat_liver_1|       bat_liver_2| gray_whale_kidney|bowhead_whale_kidney|      minke_kidney|        NMR_kidney|      human_kidney|mouse_totalRNA_kidney| mouse_mRNA_kidney|cow_totalRNA_kidney|   cow_mRNA_kidney|      bat_kidney_1|      bat_kidney_2|gray_whale_liver_rank|bowhead_whale_liver_rank|minke_liver_rank|NMR_liver_rank|human_liver_rank|mouse_totalRNA_liver_rank|mouse_mRNA_liver_rank|cow_totalRNA_liver_rank|cow_mRNA_liver_rank|bat_liver_1_rank|bat_liver_2_rank|gray_whale_kidney_rank|bowhead_whale_kidney_rank|minke_kidney_rank|NMR_kidney_rank|human_kidney_rank|mouse_totalRNA_kidney_rank|mouse_mRNA_kidney_rank|cow_totalRNA_kidney_rank|cow_mRNA_kidney_rank|bat_kidney_1_rank|bat_kidney_2_rank|gray_whale_avg_rank|\n",
            "+----------+------------------+--------------------------------------------------------------+------------------+--------------+------------+-----------------+-----------------------+-----------------------+---------------------+-----------------------------------------------+------------------+-------------------+------------------+------------------+------------------+--------------------+------------------+------------------+------------------+------------------+------------------+------------------+--------------------+------------------+------------------+------------------+---------------------+------------------+-------------------+------------------+------------------+------------------+---------------------+------------------------+----------------+--------------+----------------+-------------------------+---------------------+-----------------------+-------------------+----------------+----------------+----------------------+-------------------------+-----------------+---------------+-----------------+--------------------------+----------------------+------------------------+--------------------+-----------------+-----------------+-------------------+\n",
            "|GO:0070062|cellular_component|                                         extracellular exosome|       95231.76295|           726|         929|              876|                   2714|                    116|                 2162|complete;5prime_partial;internal;3prime_partial| 82627.97828900004|  43406.81879601012|103879.82613499998|189153.98861699994| 34179.85539700001|   63059.86755299999|12146.704848999996| 407115.5446490002| 402875.4094160001|11455.648414000001|11162.429744000001|107835.54761100012|        12291.983165|139226.62839100015|251177.67484400002|17317.253403999995|    8189.928592999998|3009.2303389999997| 284041.33320799994| 274118.5267729999|18619.887905000003|17280.569276000006|                    1|                       1|               1|             1|               1|                       12|                   16|                      1|                  1|              13|              12|                     1|                        4|                1|              1|                3|                        46|                    45|                       2|                   2|                8|                8|                  1|\n",
            "|GO:0016021|cellular_component|                                integral component of membrane|     81241.0623675|          1391|         565|             1713|                   9561|                   8900|                 4715|5prime_partial;complete;3prime_partial;internal| 62374.28512099997|  27353.04877027518| 55178.75498600001|108836.22230300008|      11032.347553|       168821.304916|28909.156348999997|198371.61491800006| 189068.7378029999| 40258.52125200002| 33799.39783599998|     100107.839614|  24343.312661999982| 94079.22781100006|149277.02259700003|30508.606157000006|   241562.48318399998| 51496.39662599999| 315467.63018200017|373243.68564099993| 49371.60719699998| 50314.59441799999|                    2|                       4|               6|             6|               8|                        3|                    8|                      2|                  2|               3|               4|                     2|                        1|                5|              2|                1|                         2|                     2|                       1|                   1|                1|                1|                  2|\n",
            "|GO:0005829|cellular_component|                                                       cytosol|     61398.1790675|          1109|         994|             1376|                   6775|                   5043|                 2348|complete;3prime_partial;5prime_partial;internal|50912.655819000014| 29665.787975965563| 72109.60757099999| 188757.6132710001| 20623.12592999999|  148373.97883200005|      100424.52617|  86184.9085600001| 90951.61626199998|      39701.526823| 35938.73908299998| 71883.70231600002|  12335.804511999993|124936.20551199997| 132241.5113150001|13435.613476000004|   105758.17169699995|43636.518504000014| 111689.96638100002|102744.94863500002| 48503.28607600002|48467.252029999996|                    5|                       3|               2|             2|               4|                        5|                    2|                      5|                  6|               4|               3|                     3|                        3|                2|              3|                4|                         3|                     3|                       4|                   4|                2|                2|                  3|\n",
            "|GO:0005840|cellular_component|                                                      ribosome|      59087.688684|            89|         316|               99|                    297|                    123|                   40|complete;5prime_partial;internal;3prime_partial| 58631.94472899998|  23801.48132475636| 65881.81530099995|103165.58999999998|2209.9476119999995|   5478.616020999998|       1831.119411| 5936.298134999999|       6073.805264|12480.567552000004|12868.996051999997|59543.432639000006|   9270.050664999997| 92530.64897999998| 71492.44906799999|1924.4887119999999|         10029.277271|2800.6401849999993|  5875.225427000001| 4481.681578999999|20069.082760999994| 19659.95211699999|                    3|                       6|               4|             7|              37|                       71|                   70|                     69|                 71|              11|              10|                     5|                        7|                6|              7|               24|                        42|                    46|                      63|                  71|                7|                7|                  4|\n",
            "|GO:0005634|cellular_component|                                                       nucleus| 57345.87068550001|          1431|        2115|             1830|                   7301|                   6496|                 2778|complete;5prime_partial;3prime_partial;internal| 55747.40112099999| 30295.434521280793| 70441.20552599998|     140240.092983|10470.131235999997|   94231.85965399996|      84031.996854|126193.50819700002|     143407.437234|      28991.795084|26034.121111999997| 58944.34024999998|  11416.312302999997|     102915.768411| 90533.17986400002| 8808.929934000003|    81393.57837199996| 30863.47935199999| 118101.15175700001| 99420.20529599997|38791.502254000006|36985.395011999986|                    4|                       2|               3|             4|              10|                        9|                    3|                      4|                  4|               5|               6|                     6|                        5|                3|              4|                9|                         7|                     5|                       3|                   5|                4|                4|                  5|\n",
            "|GO:0005737|cellular_component|                                                     cytoplasm| 51021.87724949999|          1070|        1897|             1342|                   4490|                   5424|                 2333|complete;5prime_partial;3prime_partial;internal|43367.513537999985|  24393.98329442446| 63289.08200100004|177635.51962800007| 6716.158039999998|  135388.78987699997| 34234.04624200001| 79546.89437599998| 85249.95693999997|      45889.810949| 43063.92459099999| 58676.24096099999|  10090.376369000003|     102810.643446| 85731.96628100002|       7004.031145|         87788.121675| 34874.35143699998|      101489.413696| 87811.42796300001| 39124.75226900001| 37351.04243300002|                    6|                       5|               5|             3|              19|                        6|                    6|                      7|                  7|               2|               2|                     7|                        6|                4|              5|               12|                         5|                     4|                       5|                   8|                3|                3|                  6|\n",
            "|GO:0005813|cellular_component|                                                    centrosome| 42454.98833149999|           127|         243|              162|                    632|                    769|                  382|complete;5prime_partial;internal;3prime_partial|      24852.939731| 1933.4432743038858|4332.0924300000015|       5095.546241| 292.3133429999999|  3911.2582859999984|       1290.271993|6743.0331620000015| 7806.252158000002|2516.4648270000016|       2438.068916|60057.036932000025|          839.858576| 9289.642984999997|       3992.193603| 583.6687029999998|    7800.484518000001|3703.0777580000004| 12280.558181999999|      11146.476477|2977.9138139999995|2911.7591999999995|                   15|                      42|              43|            68|             107|                       80|                   77|                     68|                 62|              38|              37|                     4|                       35|               25|             72|               51|                        47|                    40|                      37|                  39|               37|               35|                  7|\n",
            "|GO:0016020|cellular_component|                                                      membrane| 42195.42010000002|           540|         793|              679|                   2429|                   1361|                  873|complete;5prime_partial;3prime_partial;internal|37894.592234999975|   19480.8165792182| 46392.14733899998|117524.23082799997| 7963.051234999998|        29617.254172| 7866.986895000002|51652.158988999996| 58572.10771399999|28193.223352999994|28454.926921999995|      46496.247965|   8248.603917000006| 76320.57983899997| 65810.41654900002|10104.827831000002|   49547.508830999985|12548.841867000006|  63923.18794699999|55224.136316000026|21701.492759999997|21109.941520000015|                    7|                       7|               7|             5|              15|                       26|                   22|                     15|                 13|               6|               5|                     9|                        8|                7|              8|                6|                        10|                    13|                      11|                  12|                6|                6|                  8|\n",
            "|GO:0005743|cellular_component|                                  mitochondrial inner membrane|41890.178823999995|            94|         199|              107|                    480|                    457|                  264|complete;5prime_partial;3prime_partial;internal|29423.994463000003|    6016.2954890921|      11020.485428|27978.854220000012| 7830.421898000001|   70641.50428300002|13822.831728000003|20350.154425999994|23997.109960999995|       4339.778448|       3810.225168| 54356.36318499999|  1293.5116610000002|16315.796938999994|29127.529349999997|27011.827738999997|         90054.086334|27055.700689000005| 24419.770394000006|24988.700207999995|3261.0935420000005|3859.3678280000004|                    9|                      24|              29|            28|              16|                       11|                   11|                     35|                 32|              27|              30|                     8|                       25|               22|             20|                2|                         4|                     6|                      23|                  27|               34|               26|                  9|\n",
            "|GO:0045263|cellular_component|proton-transporting ATP synthase complex, coupling factor F(o)|      35197.364487|             3|          15|                4|                      6|                      3|                    3|                        3prime_partial;complete|24176.706967000002|             237.07|        712.834561|              null|235.81343800000002|        16696.458196|1010.2585270000001|14724.021791000001| 9415.669591000002| 693.7475949999999|        812.010139|      46218.022007|           46.619923|1444.4431379999999|              null|1532.0307950000001|         20318.691885|1973.9292030000001|       28560.529769|      32445.969279|        966.328214|       1372.104306|                   16|                     202|             162|           941|             121|                       33|                   84|                     39|                 55|             129|             116|                    10|                      320|              168|            940|               31|                        28|                    58|                      22|                  19|              106|               79|                 10|\n",
            "+----------+------------------+--------------------------------------------------------------+------------------+--------------+------------+-----------------+-----------------------+-----------------------+---------------------+-----------------------------------------------+------------------+-------------------+------------------+------------------+------------------+--------------------+------------------+------------------+------------------+------------------+------------------+------------------+--------------------+------------------+------------------+------------------+---------------------+------------------+-------------------+------------------+------------------+------------------+---------------------+------------------------+----------------+--------------+----------------+-------------------------+---------------------+-----------------------+-------------------+----------------+----------------+----------------------+-------------------------+-----------------+---------------+-----------------+--------------------------+----------------------+------------------------+--------------------+-----------------+-----------------+-------------------+\n",
            "\n"
          ],
          "output_type" : "stream"
        }
      ]
    },
    {
      "cell_type" : "code",
      "execution_count" : 23,
      "metadata" : {
        "cell.metadata.exec_info" : {
          "startTs" : 1583806339068,
          "endTs" : 1583806339180
        },
        "language" : "scala"
      },
      "language" : "scala",
      "source" : [
        "def whaleFunBy(path: String): DataFrame = {\n",
        "    val fun = spark.readTSV(path, false).toDF(\"category\", \"label\", \"count\", \"go\")\n",
        "    val whale_fun = functions.select(\"go\",\"gray_whale_liver\",\"gray_whale_kidney\").where($\"gray_whale_liver\" =!= 0.0 || $\"gray_whale_kidney\" =!= 0.0)\n",
        "    val whale =  fun.join(whale_fun, Seq(\"go\"))\n",
        "    whale.groupBy(\"category\", \"label\", \"count\").agg(count($\"go\").as(\"count_in_whale\"), sum($\"gray_whale_liver\").as(\"liver_sum\"), sum($\"gray_whale_kidney\").as(\"kidney_sum\"))\n",
        "}"
      ],
      "outputs" : [
      ]
    },
    {
      "cell_type" : "markdown",
      "execution_count" : 24,
      "metadata" : {
        "language" : "text"
      },
      "language" : "text",
      "source" : [
        "Correlations\n",
        "------------\n",
        "Correlations between species"
      ],
      "outputs" : [
      ]
    },
    {
      "cell_type" : "code",
      "execution_count" : 25,
      "metadata" : {
        "cell.metadata.exec_info" : {
          "startTs" : 1583806342252,
          "endTs" : 1583806342404
        },
        "language" : "scala"
      },
      "language" : "scala",
      "source" : [
        "def doublesByColumns(columns: Seq[String]): List[StructField] = columns.map(c=>StructField(c, DoubleType, false)).toList\n",
        "\n",
        "def convertCorrellationMatrix(matrix: Matrix, columns: Seq[String]) = {\n",
        "  require(columns.size == matrix.numCols)\n",
        "  for(r <- 0 until matrix.numRows) yield {\n",
        "    val seq = for(c <- 0 until matrix.numCols) yield matrix(r, c)\n",
        "    Row.fromSeq(columns(r)::seq.toList)\n",
        "  }\n",
        "}\n",
        "\n",
        "def transformCorrellationMatrix(dataFrame: DataFrame, columns: Seq[String])(implicit sparkSession: SparkSession): DataFrame = {\n",
        "      val rows  = dataFrame.rdd\n",
        "        .flatMap{ case Row(matrix: Matrix) => convertCorrellationMatrix(matrix, columns) }\n",
        "      sparkSession.createDataFrame(rows, StructType(StructField(\"column\", StringType, false)::doublesByColumns(columns)))\n",
        "    }\n",
        "    \n",
        "def spearmanCorrellation(dataFrame: DataFrame, columns: Seq[String])(implicit sparkSession: SparkSession): DataFrame = {\n",
        "  val cor = dataFrame.toVectors(columns.toSeq, \"features\").persist(StorageLevel.MEMORY_AND_DISK)\n",
        "  val df = Correlation.corr(cor, \"features\", method = \"spearman\")\n",
        "  transformCorrellationMatrix(df, columns)\n",
        "}"
      ],
      "outputs" : [
      ]
    },
    {
      "cell_type" : "code",
      "execution_count" : 26,
      "metadata" : {
        "cell.metadata.exec_info" : {
          "startTs" : 1583806345095,
          "endTs" : 1583806349398
        },
        "language" : "scala"
      },
      "language" : "scala",
      "source" : [
        "val all_cor = spearmanCorrellation(all_pro, featuresOrdered)(spark).withColumnRenamed(\"column\", \"go\")//.withColumn(\"go\", renameUDF($\"go\")).cache//.rename(featuresMap)\n",
        "all_cor.show(10,1000)"
      ],
      "outputs" : [
        {
          "name" : "stdout",
          "text" : [
            "+--------------------+-------------------+------------------+------------------+------------------+------------------+------------------+------------------+--------------------+--------------------+------------------+------------------+------------------+------------------+------------------+-------------------+---------------------+\n",
            "|                  go|bowhead_whale_liver|  gray_whale_liver|       minke_liver|       human_liver|       bat_liver_1|         NMR_liver|cow_totalRNA_liver|mouse_totalRNA_liver|bowhead_whale_kidney| gray_whale_kidney|      minke_kidney|      human_kidney|      bat_kidney_1|        NMR_kidney|cow_totalRNA_kidney|mouse_totalRNA_kidney|\n",
            "+--------------------+-------------------+------------------+------------------+------------------+------------------+------------------+------------------+--------------------+--------------------+------------------+------------------+------------------+------------------+------------------+-------------------+---------------------+\n",
            "| bowhead_whale_liver|                1.0|0.8413626679531953|0.8466434198520403|0.5885724020554565|0.6187878171770235| 0.623078832330288|0.6237173151801382|  0.5657027816383906|  0.8515533224987246| 0.828844367406529|0.8251208740898298|0.6260159333540843|0.6162780526050069|0.6235237088469099| 0.6455641278312189|    0.584505364755782|\n",
            "|    gray_whale_liver| 0.8413626679531953|               1.0|0.8540020277829041|0.5886167534225166|0.6160064556921331|0.6170360600202567|0.6305450483338686|  0.5811994566195122|  0.8262652965181186|0.9626744484406545|0.8379706630624498|0.6295512696864318|0.6168353125236263|0.6165517148474715| 0.6539764857142881|   0.5977328063427484|\n",
            "|         minke_liver| 0.8466434198520403|0.8540020277829041|               1.0|0.5832192963709143|0.6175573905025038|0.6341131402191236|0.6205575626551135|  0.5670244234867087|  0.8347125013639398|0.8413885993297748|0.9565032898396582|0.6318253612439193| 0.621375278719877|0.6326751007885014| 0.6476264364224129|   0.5883083265900931|\n",
            "|         human_liver| 0.5885724020554565|0.5886167534225166|0.5832192963709143|               1.0|0.6309789967069853|0.5549207775426876|0.6858022484955593|  0.7560478879385923|  0.5735791137295817|0.5728028825383716|0.5736609783526946|0.8794519272529338|0.6009525897765085|  0.58929310823754| 0.6365800379145435|   0.6909738951675175|\n",
            "|         bat_liver_1| 0.6187878171770235|0.6160064556921331|0.6175573905025038|0.6309789967069853|               1.0|0.5868728717907036|0.6765499945803962|  0.6496682250528422|  0.6096931872504652|0.6058293041199179|0.6075305006794821|0.6488710050925997|0.9481303467498735|0.5958049973546017| 0.6714183906286086|   0.6485535072809849|\n",
            "|           NMR_liver|  0.623078832330288|0.6170360600202567|0.6341131402191236|0.5549207775426876|0.5868728717907036|               1.0|0.5716234935827365|  0.5294815270674517|   0.637223493717629|0.6273129312310755|0.6380328573404225|0.5973733186962872|0.6014415236934402|0.9501000873778143| 0.5962799814860588|   0.5649994425355355|\n",
            "|  cow_totalRNA_liver| 0.6237173151801382|0.6305450483338686|0.6205575626551135|0.6858022484955593|0.6765499945803962|0.5716234935827365|               1.0|  0.7508056590516102|  0.6058328899082152|0.6125431248589421|0.6091661001857339|0.6688958596355518|0.6513833797405842|0.5977716874803416| 0.9211161043589696|   0.7258917133821207|\n",
            "|mouse_totalRNA_liver| 0.5657027816383906|0.5811994566195122|0.5670244234867087|0.7560478879385923|0.6496682250528422|0.5294815270674517|0.7508056590516102|                 1.0|  0.5516621161870359|0.5678298337218302|0.5570638154158759|0.6962509763739093| 0.616033285197371|0.5605417001188183| 0.7079968576016967|   0.8814888317798028|\n",
            "|bowhead_whale_kidney| 0.8515533224987246|0.8262652965181186|0.8347125013639398|0.5735791137295817|0.6096931872504652| 0.637223493717629|0.6058328899082152|  0.5516621161870359|                 1.0|0.8571333369331896|0.8544041088752253|0.6516141139711008| 0.630049558272287|0.6211315696931529| 0.6588305062431474|   0.6016255152091299|\n",
            "|   gray_whale_kidney|  0.828844367406529|0.9626744484406545|0.8413885993297748|0.5728028825383716|0.6058293041199179|0.6273129312310755|0.6125431248589421|  0.5678298337218302|  0.8571333369331896|               1.0|0.8562162888855166|0.6392558263744893|0.6251352411689032|0.6183835652371034| 0.6593542512064989|   0.6123674669974838|\n",
            "+--------------------+-------------------+------------------+------------------+------------------+------------------+------------------+------------------+--------------------+--------------------+------------------+------------------+------------------+------------------+------------------+-------------------+---------------------+\n",
            "only showing top 10 rows\n",
            "\n"
          ],
          "output_type" : "stream"
        }
      ]
    },
    {
      "cell_type" : "code",
      "execution_count" : 27,
      "metadata" : {
        "cell.metadata.exec_info" : {
          "startTs" : 1583806352027,
          "endTs" : 1583806352101
        },
        "language" : "scala"
      },
      "language" : "scala",
      "source" : [
        "html(s\"\"\"<div id=\"all_cor\"></div>\"\"\")\n",
        "//div(\"all_cor\")"
      ],
      "outputs" : [
        {
          "data" : {
            "text/html" : [
              "<div id=\"all_cor\"></div>"
            ]
          },
          "output_type" : "display_data"
        }
      ]
    },
    {
      "cell_type" : "code",
      "execution_count" : 28,
      "metadata" : {
        "cell.metadata.exec_info" : {
          "startTs" : 1583806402748,
          "endTs" : 1583806403035
        },
        "language" : "scala"
      },
      "language" : "scala",
      "source" : [
        "makeHeatmap(all_cor.withColumn(\"go\", renameUDF($\"go\")), \"go\", all_cor.columns.tail.toList, \"all_cor\", \"Correlations for liver and kidney\",  400, 400, 1700, 1500, inverse = false,  dataFontSize = 18, tickFontSize = 20, \n",
        "names = all_cor.columns.tail.toList.map(featuresMap(_)), zmin = 0.0, zmax = 1.0,\n",
        "tickAngle = \"-30\"  )\n",
        "//html(str)"
      ],
      "outputs" : [
        {
          "data" : {
            "text/html" : [
              "<script type=\"text/javascript\" charset=\"utf-8\">\n",
              "var layout = {\n",
              "  title: 'Correlations for liver and kidney',\n",
              "  annotations: [],\n",
              "  margin: {\n",
              "    l: 400,\n",
              "    r: 125,\n",
              "    t: 400,\n",
              "    b: 50\n",
              "  },\n",
              "  width: 1700,\n",
              "  height: 1500,\n",
              "  xaxis: {\n",
              "    side: 'top',\n",
              "    tickfont: {\n",
              "      size: 20\n",
              "    },\n",
              "    tickangle: '-30'\n",
              "  },\n",
              "  yaxis: {\n",
              "    side: 'left',\n",
              "    autorange: 'reversed',\n",
              "    tickfont: {\n",
              "      size: 20\n",
              "    }\n",
              "  },\n",
              "};\n",
              "\n",
              "var xValues = [\"Bowhead whale liver\",\"Gray whale liver\",\"Minke whale liver\",\"Human liver\",\"Bat liver\",\"Naked mole rat liver\",\"Cow liver\",\"Mouse liver\",\"Bowhead whale kidney\",\"Gray whale kidney\",\"Minke whale kidney\",\"Human kidney\",\"Bat kidney\",\"Naked mole rat kidney\",\"Cow kidney\",\"Mouse kidney\"]\n",
              "var yValues =  [\"Bowhead whale liver\",\"Gray whale liver\",\"Minke whale liver\",\"Human liver\",\"Bat liver\",\"Naked mole rat liver\",\"Cow liver\",\"Mouse liver\",\"Bowhead whale kidney\",\"Gray whale kidney\",\"Minke whale kidney\",\"Human kidney\",\"Bat kidney\",\"Naked mole rat kidney\",\"Cow kidney\",\"Mouse kidney\"]\n",
              "var zValues =  [[1.0,0.84,0.85,0.59,0.62,0.62,0.62,0.57,0.85,0.83,0.83,0.63,0.62,0.62,0.65,0.58],[0.84,1.0,0.85,0.59,0.62,0.62,0.63,0.58,0.83,0.96,0.84,0.63,0.62,0.62,0.65,0.6],[0.85,0.85,1.0,0.58,0.62,0.63,0.62,0.57,0.83,0.84,0.96,0.63,0.62,0.63,0.65,0.59],[0.59,0.59,0.58,1.0,0.63,0.55,0.69,0.76,0.57,0.57,0.57,0.88,0.6,0.59,0.64,0.69],[0.62,0.62,0.62,0.63,1.0,0.59,0.68,0.65,0.61,0.61,0.61,0.65,0.95,0.6,0.67,0.65],[0.62,0.62,0.63,0.55,0.59,1.0,0.57,0.53,0.64,0.63,0.64,0.6,0.6,0.95,0.6,0.56],[0.62,0.63,0.62,0.69,0.68,0.57,1.0,0.75,0.61,0.61,0.61,0.67,0.65,0.6,0.92,0.73],[0.57,0.58,0.57,0.76,0.65,0.53,0.75,1.0,0.55,0.57,0.56,0.7,0.62,0.56,0.71,0.88],[0.85,0.83,0.83,0.57,0.61,0.64,0.61,0.55,1.0,0.86,0.85,0.65,0.63,0.62,0.66,0.6],[0.83,0.96,0.84,0.57,0.61,0.63,0.61,0.57,0.86,1.0,0.86,0.64,0.63,0.62,0.66,0.61],[0.83,0.84,0.96,0.57,0.61,0.64,0.61,0.56,0.85,0.86,1.0,0.64,0.63,0.63,0.66,0.6],[0.63,0.63,0.63,0.88,0.65,0.6,0.67,0.7,0.65,0.64,0.64,1.0,0.66,0.6,0.71,0.75],[0.62,0.62,0.62,0.6,0.95,0.6,0.65,0.62,0.63,0.63,0.63,0.66,1.0,0.59,0.69,0.67],[0.62,0.62,0.63,0.59,0.6,0.95,0.6,0.56,0.62,0.62,0.63,0.6,0.59,1.0,0.6,0.57],[0.65,0.65,0.65,0.64,0.67,0.6,0.92,0.71,0.66,0.66,0.66,0.71,0.69,0.6,1.0,0.77],[0.58,0.6,0.59,0.69,0.65,0.56,0.73,0.88,0.6,0.61,0.6,0.75,0.67,0.57,0.77,1.0]]\n",
              "var aValues =  [[1.0,0.84,0.85,0.59,0.62,0.62,0.62,0.57,0.85,0.83,0.83,0.63,0.62,0.62,0.65,0.58],[0.84,1.0,0.85,0.59,0.62,0.62,0.63,0.58,0.83,0.96,0.84,0.63,0.62,0.62,0.65,0.6],[0.85,0.85,1.0,0.58,0.62,0.63,0.62,0.57,0.83,0.84,0.96,0.63,0.62,0.63,0.65,0.59],[0.59,0.59,0.58,1.0,0.63,0.55,0.69,0.76,0.57,0.57,0.57,0.88,0.6,0.59,0.64,0.69],[0.62,0.62,0.62,0.63,1.0,0.59,0.68,0.65,0.61,0.61,0.61,0.65,0.95,0.6,0.67,0.65],[0.62,0.62,0.63,0.55,0.59,1.0,0.57,0.53,0.64,0.63,0.64,0.6,0.6,0.95,0.6,0.56],[0.62,0.63,0.62,0.69,0.68,0.57,1.0,0.75,0.61,0.61,0.61,0.67,0.65,0.6,0.92,0.73],[0.57,0.58,0.57,0.76,0.65,0.53,0.75,1.0,0.55,0.57,0.56,0.7,0.62,0.56,0.71,0.88],[0.85,0.83,0.83,0.57,0.61,0.64,0.61,0.55,1.0,0.86,0.85,0.65,0.63,0.62,0.66,0.6],[0.83,0.96,0.84,0.57,0.61,0.63,0.61,0.57,0.86,1.0,0.86,0.64,0.63,0.62,0.66,0.61],[0.83,0.84,0.96,0.57,0.61,0.64,0.61,0.56,0.85,0.86,1.0,0.64,0.63,0.63,0.66,0.6],[0.63,0.63,0.63,0.88,0.65,0.6,0.67,0.7,0.65,0.64,0.64,1.0,0.66,0.6,0.71,0.75],[0.62,0.62,0.62,0.6,0.95,0.6,0.65,0.62,0.63,0.63,0.63,0.66,1.0,0.59,0.69,0.67],[0.62,0.62,0.63,0.59,0.6,0.95,0.6,0.56,0.62,0.62,0.63,0.6,0.59,1.0,0.6,0.57],[0.65,0.65,0.65,0.64,0.67,0.6,0.92,0.71,0.66,0.66,0.66,0.71,0.69,0.6,1.0,0.77],[0.58,0.6,0.59,0.69,0.65,0.56,0.73,0.88,0.6,0.61,0.6,0.75,0.67,0.57,0.77,1.0]]\n",
              "\n",
              "\n",
              "for ( var i = 0; i < yValues.length; i++ ) {\n",
              "  for ( var j = 0; j < xValues.length; j++ ) {\n",
              "    var currentValue = zValues[i][j];\n",
              "    if (currentValue != 0.0) {\n",
              "      var textColor = 'white';\n",
              "    }else{\n",
              "      var textColor = 'black';\n",
              "    }\n",
              "    var result = {\n",
              "      xref: 'x1',\n",
              "      yref: 'y1',\n",
              "      x: xValues[j],\n",
              "      y: yValues[i],\n",
              "      text: aValues[i][j],\n",
              "      font: {\n",
              "        family: 'Arial',\n",
              "        size: 5,\n",
              "        color: 'rgb(50, 171, 96)'\n",
              "      },\n",
              "      showarrow: false,\n",
              "      font: {\n",
              "        color: textColor,\n",
              "        size: '18'\n",
              "      }\n",
              "    };\n",
              "    layout.annotations.push(result);\n",
              "  }\n",
              "}\n",
              "\n",
              "var data = [{\n",
              "   x: xValues,\n",
              "   y: yValues,\n",
              "   z: zValues,\n",
              "   zmin: 0.0, zmax: 1.0,\n",
              "   colorscale: 'RdBu', \n",
              "   type: 'heatmap' \n",
              " }];\n",
              " Plotly.newPlot('all_cor', data, layout);\n",
              "</script>\n",
              "    <h3>all_cor heatmap has been displayed</h3>"
            ]
          },
          "output_type" : "display_data"
        }
      ]
    },
    {
      "cell_type" : "markdown",
      "execution_count" : 29,
      "metadata" : {
        "language" : "text"
      },
      "language" : "text",
      "source" : [
        "<div><h3>Specific correlations</h3></div><div>---------------------------<br></div>"
      ],
      "outputs" : [
      ]
    },
    {
      "cell_type" : "code",
      "execution_count" : 30,
      "metadata" : {
        "cell.metadata.exec_info" : {
          "startTs" : 1583806409730,
          "endTs" : 1583806409898
        },
        "language" : "scala"
      },
      "language" : "scala",
      "source" : [
        "val longevity_goes =  List(\"GO:0015986\", \"GO:0006364\", \"GO:0006413\", \"GO:0006614\", \"GO:0000184\", \"GO:0019083\", \"GO:0019068\", \"GO:0006955\", \"GO:0060271\", \"GO:2000785\", \"GO:0042073\", \"GO:0055007\", \"GO:1902017\", \"GO:0060828\", \"GO:0090102\", \"GO:0034067\", \"GO:0060122\", \"GO:0061512\", \"GO:0061351\", \"GO:0001736\", \"GO:0035735\", \"GO:0051642\", \"GO:0035845\", \"GO:0036372\", \"GO:0007165\", \"GO:0002474\", \"GO:0000050\", \"GO:0019731\", \"GO:0002227\", \"GO:0046034\", \"GO:0032259\", \"GO:0071268\", \"GO:0033353\", \"GO:0000096\", \"GO:0042745\", \"GO:0002439\", \"GO:0006950\", \"GO:0097284\", \"GO:0097176\", \"GO:1990000\", \"GO:0051014\", \"GO:2001269\", \"GO:0090527\", \"GO:0042989\", \"GO:0045010\", \"GO:1902174\", \"GO:0019430\", \"GO:0001938\", \"GO:0045060\", \"GO:1902166\", \"GO:0001961\", \"GO:0042104\", \"GO:0045738\", \"GO:1902546\", \"GO:0061481\",  \"GO:1902231\", \"GO:0032079\", \"GO:2001272\", \"GO:1905053\",\"GO:0009435\", \"GO:0010941\")\n",
        "val dna_repair_goes = List(\"GO:0006281\", \"GO:0006283\",\"GO:0000715\",\"GO:0070911\",\"GO:0033683\",\"GO:0006296\",\"GO:0006297\",\"GO:0006294\",\"GO:0000717\",\"GO:0036297\",\"GO:0045739\",\"GO:1905053\",\"GO:0006289\",\"GO:0030091\",\"GO:0045738\",\"GO:0006282\",\"GO:0006307\",\"GO:0051103\",\"GO:0043504\",\"GO:0006284\",\"GO:2000819\",\"GO:0000724\")\n",
        "val hypoxia_goes = List(\"GO:0061418\", \"GO:1903298\", \"GO:0097411\", \"GO:0061428\", \"GO:0001666\", \"GO:0071456\")\n",
        "val autophagy_goes = List(\"GO:0006914\",\"GO:0016236\",\"GO:1904714\",\"GO:2000785\",\"GO:0000045\",\"GO:0097352\",\"GO:0016241\",\"GO:0010507\",\"GO:0010506\")\n",
        "val stress_response_goes = List(\"GO:0006979\",\"GO:0034599\",\"GO:1902236\",\"GO:0051403\",\"GO:0006950\",\"GO:0097201\",\"GO:1990441\",\"GO:0070059\",\"GO:0034976\",\"GO:0051496\",\"GO:1902176\",\"GO:1990440\",\"GO:0014898\",\"GO:0031098\",\"GO:0097501\",\"GO:0043149\",\"GO:0008631\",\"GO:0071472\",\"GO:0001306\",\"GO:0032872\")\n",
        "val apoptosis_goes = List(\"GO:0097284\",\"GO:0043066\",\"GO:2000352\",\"GO:0006915\",\"GO:0043065\",\"GO:0051402\",\"GO:0042981\",\"GO:1902236\",\"GO:0043154\",\"GO:2001240\",\"GO:1901029\",\"GO:0097284\",\"GO:0043524\",\"GO:1903298\",\"GO:0043065\",\"GO:0070059\",\"GO:0008630\",\"GO:2001235\",\"GO:2001269\",\"GO:1902174\",\"GO:1902166\",\"GO:0002906\",\"GO:0097191\",\"GO:1902231\",\"GO:2001272\",\"GO:1902176\",\"GO:0006919\",\"GO:0072332\",\"GO:0008637\",\"GO:0043525\",\"GO:1902230\",\"GO:0010666\",\"GO:0043280\",\"GO:0097190\",\"GO:0070234\",\"GO:2001244\",\"GO:0008631\",\"GO:0043281\",\"GO:2000426\",\"GO:2001272\",\"GO:0097194\",\"GO:1900119\",\"GO:0008630\",\"GO:1902166\",\"GO:1902231\")\n",
        "val ubiquitin_goes = List(\"GO:0043161\",\"GO:0016579\",\"GO:0000209\",\"GO:0016567\",\"GO:0031146\",\"GO:0051437\",\"GO:0051436\",\"GO:0031397\",\"GO:0031396\",\"GO:0032436\",\"GO:0006511\",\"GO:0030433\",\"GO:0031398\",\"GO:0032435\",\"GO:0070936\",\"GO:0043328\",\"GO:0070534\",\"GO:0051865\",\"GO:0006513\",\"GO:0070979\",\"GO:0043162\")\n",
        "val mitochondria_goes = List(\"GO:0006123\",\"GO:0046034\",\"GO:0032981\",\"GO:1901029\",\"GO:0007005\",\"GO:0034551\",\"GO:0051881\",\"GO:0032543\",\"GO:0006839\",\"GO:0006122\",\"GO:0047497\",\"GO:1903955\",\"GO:0008637\",\"GO:0042775\",\"GO:0046902\",\"GO:0000422\",\"GO:0090201\",\"GO:0061732\",\"GO:0010917\",\"GO:0006850\",\"GO:0010637\",\"GO:0070125\",\"GO:0051560\")\n",
        "val atp_goes = List(\"GO:0015986\",\"GO:0015991\",\"GO:0046034\",\"GO:0032781\",\"GO:0099132\",\"GO:0070072\",\"GO:2001171\",\"GO:0006754\",\"GO:0042776\",\"GO:0042775\",\"GO:0071318\",\"GO:0042773\",\"GO:0033198\",\"GO:0043044\",\"GO:2000984\",\"GO:0015867\",\"GO:2001170\")\n",
        "val nad_goes = List(\"GO:0019674\", \"GO:0006116\",\"GO:0009435\",\"GO:0006734\")\n",
        "val wounds_goes = List(\"GO:0044319\",\"GO:0090303\",\"GO:0042060\",\"GO:0060055\",\"GO:0061045\",\"GO:0060054\",\"GO:0061041\",\"GO:0035313\",\"GO:1903690\")\n",
        "val cellular = List(\"GO:0034362\", \"GO:0106003\", \"GO:0005814\", \"GO:0005902\", \"GO:0031514\", \"GO:0005929\", \"GO:0032420\", \"GO:0001750\", \"GO:0005801\", \"GO:0030992\", \"GO:0032391\", \"GO:0097546\", \"GO:0097542\", \"GO:0044292\", \"GO:1902636\", \"GO:0120105\", \"GO:0120104\", \"GO:0005628\", \"GO:0043332\", \"GO:0120106\", \"GO:0030479\", \"GO:0000142\", \"GO:0035692\", \"GO:0035693\", \"GO:0035578\", \"GO:0101003\", \"GO:0098993\", \"GO:0022626\", \"GO:0005940\", \"GO:0002197\", \"GO:0042565\", \"GO:0042272\", \"GO:0000835\", \"GO:0065010\") "
      ],
      "outputs" : [
      ]
    },
    {
      "cell_type" : "code",
      "execution_count" : 31,
      "metadata" : {
        "cell.metadata.exec_info" : {
          "startTs" : 1583806411138,
          "endTs" : 1583806411237
        },
        "language" : "scala"
      },
      "language" : "scala",
      "source" : [
        "def makeProCor(list: List[String]) = {\n",
        "    val tpms = processes.select(\"go\", featuresOrdered:_*).where($\"go\".isin(list:_*)).na.fill(0.0).sort($\"bowhead_whale_liver\".desc)\n",
        "    spearmanCorrellation(tpms, featuresOrdered)(spark).withColumnRenamed(\"column\", \"go\").cache//.withColumn(\"go\", renameUDF($\"go\")).cache//.rename(featuresMap)\n",
        "}"
      ],
      "outputs" : [
      ]
    },
    {
      "cell_type" : "code",
      "execution_count" : 32,
      "metadata" : {
        "cell.metadata.exec_info" : {
          "startTs" : 1583806413478,
          "endTs" : 1583806413603
        },
        "language" : "scala"
      },
      "language" : "scala",
      "source" : [
        "def makeHeatCor(df: DataFrame, name: String,\n",
        " title: String, colorScale: String = \"RdBu\")(implicit kernel: KernelRuntime) = {\n",
        " makeHeatmap(df.withColumn(\"go\", renameUDF($\"go\")), \"go\", df.columns.tail.toList, name, title,  300, 400, 1800, 1400, inverse = false,  dataFontSize = 18, tickFontSize = 20, names = df.columns.tail.toList.map(featuresMap(_)),\n",
        " tickAngle = \"-30\", colorScale = colorScale )(kernel)    \n",
        "}\n"
      ],
      "outputs" : [
      ]
    },
    {
      "cell_type" : "code",
      "execution_count" : 33,
      "metadata" : {
        "cell.metadata.exec_info" : {
          "startTs" : 1583806415374,
          "endTs" : 1583806415730
        },
        "language" : "scala"
      },
      "language" : "scala",
      "source" : [
        "processes.select(\"go\", featuresOrdered:_*)\n",
        "  .where($\"go\".isin(longevity_goes:_*))\n",
        "  .na.fill(0.0)\n",
        "  .sort($\"bowhead_whale_liver\".desc).show(10,1000)"
      ],
      "outputs" : [
        {
          "name" : "stdout",
          "text" : [
            "+----------+-------------------+------------------+------------------+------------------+------------------+------------------+------------------+--------------------+--------------------+------------------+------------------+------------------+------------------+------------------+-------------------+---------------------+\n",
            "|        go|bowhead_whale_liver|  gray_whale_liver|       minke_liver|       human_liver|       bat_liver_1|         NMR_liver|cow_totalRNA_liver|mouse_totalRNA_liver|bowhead_whale_kidney| gray_whale_kidney|      minke_kidney|      human_kidney|      bat_kidney_1|        NMR_kidney|cow_totalRNA_kidney|mouse_totalRNA_kidney|\n",
            "+----------+-------------------+------------------+------------------+------------------+------------------+------------------+------------------+--------------------+--------------------+------------------+------------------+------------------+------------------+------------------+-------------------+---------------------+\n",
            "|GO:0007165| 11456.244697941876| 6345.571518000001| 17049.13610699998|1871.5450460000013| 2159.331408000001| 5745.532362000001|34819.135545000005|   9690.572680000001|   730.4105399999999|       3046.372351| 6794.475674000003|1041.1421799999996| 3362.026449000002|15650.777031999995|  6107.394953999999|   4040.2445849999995|\n",
            "|GO:0006364|  8108.256701089998| 19892.75400300001|      20716.442639|3773.3374890000014|1701.6177480000006|      27889.193586|       8758.324353|         4860.838548|  3307.1603040000005|      19910.099414|      28506.682685|3318.7875520000016|2853.8925899999995|17208.674091999997|        8957.417896|   10758.778921000001|\n",
            "|GO:0006413|  7063.013969472601|      18526.600168|18900.419834000004| 3808.156806999999|       6160.210853|      22640.435805|1314.4391580000001|   937.7781920000001|  2915.2442810000007|18193.147661999996|26402.373398000007|3364.4287349999995| 9764.845837999997|      13947.263875| 1992.1649770000001|   1236.0343229999999|\n",
            "|GO:0000184|    6907.6701429694|       17941.36064|18025.556941000003|       3733.425891| 6131.016052999999|      22247.145014| 806.4524349999998|          411.275467|  2695.1392519999995|      16940.047216|      24498.996111|       3273.458808| 9744.984367999998|13731.217379000002|        1188.330804|           546.655806|\n",
            "|GO:0006614|  6885.610986929999|      18137.042932|18019.506222999993|3742.7838930000003|       5901.271936|21963.345690000002|        537.190389|  414.94806100000005|  2690.5767320000004|17142.923006999998|24495.076964999997|3251.6017719999986| 9384.912403999997|13702.674887000003|  569.5628270000001|    399.5986359999999|\n",
            "|GO:0019083| 6712.6099699999995|      17863.503279|17679.980330999995|3707.7058200000006|       5754.218762|21729.268838000004|               0.0|                 0.0|         2641.045121|       16780.60545|      23951.670142|3230.8115860000007| 9183.212317999998|      13256.474872|                0.0|                  0.0|\n",
            "|GO:0019068|        2661.485655|      15201.735965|16104.919876000002| 601.2720189999999|324.78011100000003|        375.379383|       7145.589314|  307.44570300000004|          214.913855|2296.6115199999995|       4257.776538|         230.96261|        194.915294|        489.536344|         830.763345|           169.549133|\n",
            "|GO:0000050| 2649.5925176339997|       1984.247526|       4642.354391|466.00649999999996|       5974.242878|        107.844387|       3463.873324|         2662.942702|                 0.0|       1274.327101|       1312.028712|111.30022300000002|         279.43519|11236.202448000002|  983.3916809999998|          2064.373365|\n",
            "|GO:0015986| 1052.6911363299998|25401.259011000002|       2215.862389| 51.20869099999999|       1843.474336|       8746.540704|24784.542308999997|  38082.992336999996|   680.8352779999999|      49907.664113|       6196.322976| 70.68287799999999|        2642.15596|3932.5236429999995|  50802.76834500001|         39846.032098|\n",
            "|GO:0006955|  795.0654304119548|15184.101861999998| 7561.548574000001|1807.7023739999997|2580.7639229999995|       3930.165844|11523.616415000004|   7708.931229000001|   520.1295210000002|       7062.793785| 6285.543585999998| 632.7055349999989| 1191.040529999999|13130.017372999997|  4318.656055999999|    8090.490030000003|\n",
            "+----------+-------------------+------------------+------------------+------------------+------------------+------------------+------------------+--------------------+--------------------+------------------+------------------+------------------+------------------+------------------+-------------------+---------------------+\n",
            "only showing top 10 rows\n",
            "\n"
          ],
          "output_type" : "stream"
        }
      ]
    },
    {
      "cell_type" : "code",
      "execution_count" : 34,
      "metadata" : {
        "cell.metadata.exec_info" : {
          "startTs" : 1583806417502,
          "endTs" : 1583806418762
        },
        "language" : "scala"
      },
      "language" : "scala",
      "source" : [
        "val longevity_cor = makeProCor(longevity_goes)\n",
        "longevity_cor.show(10,1000)"
      ],
      "outputs" : [
        {
          "name" : "stdout",
          "text" : [
            "+--------------------+-------------------+---------------------+------------------+-------------------+-------------------+-------------------+---------------------+--------------------+--------------------+--------------------+-------------------+-------------------+-------------------+-------------------+---------------------+---------------------+\n",
            "|                  go|bowhead_whale_liver|     gray_whale_liver|       minke_liver|        human_liver|        bat_liver_1|          NMR_liver|   cow_totalRNA_liver|mouse_totalRNA_liver|bowhead_whale_kidney|   gray_whale_kidney|       minke_kidney|       human_kidney|       bat_kidney_1|         NMR_kidney|  cow_totalRNA_kidney|mouse_totalRNA_kidney|\n",
            "+--------------------+-------------------+---------------------+------------------+-------------------+-------------------+-------------------+---------------------+--------------------+--------------------+--------------------+-------------------+-------------------+-------------------+-------------------+---------------------+---------------------+\n",
            "| bowhead_whale_liver|                1.0|  0.15060321864862372|0.8039956457552846|0.27846638376467553| 0.7044131419605848| 0.7103732600914184|   0.6288448276207148|  0.4268031384365694|  0.8525591909648141| 0.07233196839321843|  0.729293934083468|0.28835496285364143| 0.7067971220596496| 0.7054066653843898|   0.7099263023624487|   0.4778299189159796|\n",
            "|    gray_whale_liver|0.15060321864862372|                  1.0|0.2952886554426839| 0.5293779294020138|  0.258651881167121|0.20555374801309567|-0.020171935594079548|  0.1491239808626217| 0.20261042949132016|  0.8664756902999217| 0.5015840167855855| 0.5667779365626224|0.23679061675129123|0.23650522932585913| -0.08282016629656197|  0.14440880747359527|\n",
            "|         minke_liver| 0.8039956457552846|   0.2952886554426839|               1.0|  0.391711847966385| 0.5716877182140524| 0.5024768912126706|   0.4699024086104057|  0.4484078444444754|  0.6796880173761174|  0.0828971114309888| 0.8492940284836302|0.39939119341691026| 0.5287373266374178| 0.5190500151094987|   0.5349155238706796|  0.44271654974532987|\n",
            "|         human_liver|0.27846638376467553|   0.5293779294020138| 0.391711847966385|                1.0|0.43917222422543584| 0.4070795196170364|   0.3163930740101393|  0.5929046681030449|  0.3104696537044494|  0.2969538925438586| 0.5365687190476902| 0.9490574780938331| 0.3484531892966124| 0.4997952660289786|  0.20961917487514675|   0.5304170690553256|\n",
            "|         bat_liver_1| 0.7044131419605848|    0.258651881167121|0.5716877182140524|0.43917222422543584|                1.0| 0.6438115453904598|   0.5766854433949536|   0.584095301557559|  0.6788358533213713| 0.21302146016825976| 0.6507766805791572| 0.4424713354465468| 0.9553673064194705|  0.663733877063921|   0.6276282182627068|    0.566576279758748|\n",
            "|           NMR_liver| 0.7103732600914184|  0.20555374801309567|0.5024768912126706| 0.4070795196170364| 0.6438115453904598|                1.0|   0.6124379528729685|  0.5654719334031748|  0.7505584075030539| 0.17480286489551983| 0.5615727002968377|0.43960825877716464| 0.7107086232866584| 0.9202909549854775|   0.7243198008320393|   0.5750557547382108|\n",
            "|  cow_totalRNA_liver| 0.6288448276207148|-0.020171935594079548|0.4699024086104057| 0.3163930740101393| 0.5766854433949536| 0.6124379528729685|                  1.0|  0.7785185185184385|  0.5429368021198661|-0.03376117126017283|0.47739079091365727|0.27747499906553597| 0.5307178590077523| 0.6656341215494233|   0.8714285714284178|   0.6742857142859419|\n",
            "|mouse_totalRNA_liver| 0.4268031384365694|   0.1491239808626217|0.4484078444444754| 0.5929046681030449|  0.584095301557559| 0.5654719334031748|   0.7785185185184385|                 1.0|  0.4018522621268267| 0.08075396672170218| 0.5328286966464055| 0.5654796557998454| 0.5043070074135965| 0.6479340461864896|   0.6675661375659585|   0.8862433862434888|\n",
            "|bowhead_whale_kidney| 0.8525591909648141|  0.20261042949132016|0.6796880173761174| 0.3104696537044494| 0.6788358533213713| 0.7505584075030539|   0.5429368021198661|  0.4018522621268267|                 1.0| 0.19565316441560063|  0.740261152734412|  0.363073224360298| 0.7457405397911955| 0.6759458455331803|   0.6831727133008971|  0.43155427054642886|\n",
            "|   gray_whale_kidney|0.07233196839321843|   0.8664756902999217|0.0828971114309888| 0.2969538925438586|0.21302146016825976|0.17480286489551983| -0.03376117126017283| 0.08075396672170218| 0.19565316441560063|                 1.0|0.38738159913791537|0.36168353203491327|0.24081838910423733| 0.1736246601648643|-0.022344094121253454|  0.12319052722289436|\n",
            "+--------------------+-------------------+---------------------+------------------+-------------------+-------------------+-------------------+---------------------+--------------------+--------------------+--------------------+-------------------+-------------------+-------------------+-------------------+---------------------+---------------------+\n",
            "only showing top 10 rows\n",
            "\n"
          ],
          "output_type" : "stream"
        }
      ]
    },
    {
      "cell_type" : "code",
      "execution_count" : 35,
      "metadata" : {
        "cell.metadata.exec_info" : {
          "startTs" : 1583806420745,
          "endTs" : 1583806420825
        },
        "language" : "scala"
      },
      "language" : "scala",
      "source" : [
        "html(s\"\"\"<div id=\"longevity_cor\"></div>\"\"\")"
      ],
      "outputs" : [
        {
          "data" : {
            "text/html" : [
              "<div id=\"longevity_cor\"></div>"
            ]
          },
          "output_type" : "display_data"
        }
      ]
    },
    {
      "cell_type" : "code",
      "execution_count" : 36,
      "metadata" : {
        "cell.metadata.exec_info" : {
          "startTs" : 1583806425091,
          "endTs" : 1583806425380
        },
        "language" : "scala"
      },
      "language" : "scala",
      "source" : [
        "makeHeatCor(longevity_cor, \"longevity_cor\", \"Longevity correlations for liver and kidney\" )"
      ],
      "outputs" : [
        {
          "data" : {
            "text/html" : [
              "<script type=\"text/javascript\" charset=\"utf-8\">\n",
              "var layout = {\n",
              "  title: 'Longevity correlations for liver and kidney',\n",
              "  annotations: [],\n",
              "  margin: {\n",
              "    l: 300,\n",
              "    r: 125,\n",
              "    t: 400,\n",
              "    b: 50\n",
              "  },\n",
              "  width: 1800,\n",
              "  height: 1400,\n",
              "  xaxis: {\n",
              "    side: 'top',\n",
              "    tickfont: {\n",
              "      size: 20\n",
              "    },\n",
              "    tickangle: '-30'\n",
              "  },\n",
              "  yaxis: {\n",
              "    side: 'left',\n",
              "    autorange: 'reversed',\n",
              "    tickfont: {\n",
              "      size: 20\n",
              "    }\n",
              "  },\n",
              "};\n",
              "\n",
              "var xValues = [\"Bowhead whale liver\",\"Gray whale liver\",\"Minke whale liver\",\"Human liver\",\"Bat liver\",\"Naked mole rat liver\",\"Cow liver\",\"Mouse liver\",\"Bowhead whale kidney\",\"Gray whale kidney\",\"Minke whale kidney\",\"Human kidney\",\"Bat kidney\",\"Naked mole rat kidney\",\"Cow kidney\",\"Mouse kidney\"]\n",
              "var yValues =  [\"Bowhead whale liver\",\"Gray whale liver\",\"Minke whale liver\",\"Human liver\",\"Bat liver\",\"Naked mole rat liver\",\"Cow liver\",\"Mouse liver\",\"Bowhead whale kidney\",\"Gray whale kidney\",\"Minke whale kidney\",\"Human kidney\",\"Bat kidney\",\"Naked mole rat kidney\",\"Cow kidney\",\"Mouse kidney\"]\n",
              "var zValues =  [[1.0,0.15,0.8,0.28,0.7,0.71,0.63,0.43,0.85,0.07,0.73,0.29,0.71,0.71,0.71,0.48],[0.15,1.0,0.3,0.53,0.26,0.21,-0.02,0.15,0.2,0.87,0.5,0.57,0.24,0.24,-0.08,0.14],[0.8,0.3,1.0,0.39,0.57,0.5,0.47,0.45,0.68,0.08,0.85,0.4,0.53,0.52,0.53,0.44],[0.28,0.53,0.39,1.0,0.44,0.41,0.32,0.59,0.31,0.3,0.54,0.95,0.35,0.5,0.21,0.53],[0.7,0.26,0.57,0.44,1.0,0.64,0.58,0.58,0.68,0.21,0.65,0.44,0.96,0.66,0.63,0.57],[0.71,0.21,0.5,0.41,0.64,1.0,0.61,0.57,0.75,0.17,0.56,0.44,0.71,0.92,0.72,0.58],[0.63,-0.02,0.47,0.32,0.58,0.61,1.0,0.78,0.54,-0.03,0.48,0.28,0.53,0.67,0.87,0.67],[0.43,0.15,0.45,0.59,0.58,0.57,0.78,1.0,0.4,0.08,0.53,0.57,0.5,0.65,0.67,0.89],[0.85,0.2,0.68,0.31,0.68,0.75,0.54,0.4,1.0,0.2,0.74,0.36,0.75,0.68,0.68,0.43],[0.07,0.87,0.08,0.3,0.21,0.17,-0.03,0.08,0.2,1.0,0.39,0.36,0.24,0.17,-0.02,0.12],[0.73,0.5,0.85,0.54,0.65,0.56,0.48,0.53,0.74,0.39,1.0,0.56,0.61,0.62,0.49,0.53],[0.29,0.57,0.4,0.95,0.44,0.44,0.28,0.57,0.36,0.36,0.56,1.0,0.38,0.52,0.22,0.54],[0.71,0.24,0.53,0.35,0.96,0.71,0.53,0.5,0.75,0.24,0.61,0.38,1.0,0.68,0.66,0.53],[0.71,0.24,0.52,0.5,0.66,0.92,0.67,0.65,0.68,0.17,0.62,0.52,0.68,1.0,0.66,0.6],[0.71,-0.08,0.53,0.21,0.63,0.72,0.87,0.67,0.68,-0.02,0.49,0.22,0.66,0.66,1.0,0.7],[0.48,0.14,0.44,0.53,0.57,0.58,0.67,0.89,0.43,0.12,0.53,0.54,0.53,0.6,0.7,1.0]]\n",
              "var aValues =  [[1.0,0.15,0.8,0.28,0.7,0.71,0.63,0.43,0.85,0.07,0.73,0.29,0.71,0.71,0.71,0.48],[0.15,1.0,0.3,0.53,0.26,0.21,-0.02,0.15,0.2,0.87,0.5,0.57,0.24,0.24,-0.08,0.14],[0.8,0.3,1.0,0.39,0.57,0.5,0.47,0.45,0.68,0.08,0.85,0.4,0.53,0.52,0.53,0.44],[0.28,0.53,0.39,1.0,0.44,0.41,0.32,0.59,0.31,0.3,0.54,0.95,0.35,0.5,0.21,0.53],[0.7,0.26,0.57,0.44,1.0,0.64,0.58,0.58,0.68,0.21,0.65,0.44,0.96,0.66,0.63,0.57],[0.71,0.21,0.5,0.41,0.64,1.0,0.61,0.57,0.75,0.17,0.56,0.44,0.71,0.92,0.72,0.58],[0.63,-0.02,0.47,0.32,0.58,0.61,1.0,0.78,0.54,-0.03,0.48,0.28,0.53,0.67,0.87,0.67],[0.43,0.15,0.45,0.59,0.58,0.57,0.78,1.0,0.4,0.08,0.53,0.57,0.5,0.65,0.67,0.89],[0.85,0.2,0.68,0.31,0.68,0.75,0.54,0.4,1.0,0.2,0.74,0.36,0.75,0.68,0.68,0.43],[0.07,0.87,0.08,0.3,0.21,0.17,-0.03,0.08,0.2,1.0,0.39,0.36,0.24,0.17,-0.02,0.12],[0.73,0.5,0.85,0.54,0.65,0.56,0.48,0.53,0.74,0.39,1.0,0.56,0.61,0.62,0.49,0.53],[0.29,0.57,0.4,0.95,0.44,0.44,0.28,0.57,0.36,0.36,0.56,1.0,0.38,0.52,0.22,0.54],[0.71,0.24,0.53,0.35,0.96,0.71,0.53,0.5,0.75,0.24,0.61,0.38,1.0,0.68,0.66,0.53],[0.71,0.24,0.52,0.5,0.66,0.92,0.67,0.65,0.68,0.17,0.62,0.52,0.68,1.0,0.66,0.6],[0.71,-0.08,0.53,0.21,0.63,0.72,0.87,0.67,0.68,-0.02,0.49,0.22,0.66,0.66,1.0,0.7],[0.48,0.14,0.44,0.53,0.57,0.58,0.67,0.89,0.43,0.12,0.53,0.54,0.53,0.6,0.7,1.0]]\n",
              "\n",
              "\n",
              "for ( var i = 0; i < yValues.length; i++ ) {\n",
              "  for ( var j = 0; j < xValues.length; j++ ) {\n",
              "    var currentValue = zValues[i][j];\n",
              "    if (currentValue != 0.0) {\n",
              "      var textColor = 'white';\n",
              "    }else{\n",
              "      var textColor = 'black';\n",
              "    }\n",
              "    var result = {\n",
              "      xref: 'x1',\n",
              "      yref: 'y1',\n",
              "      x: xValues[j],\n",
              "      y: yValues[i],\n",
              "      text: aValues[i][j],\n",
              "      font: {\n",
              "        family: 'Arial',\n",
              "        size: 5,\n",
              "        color: 'rgb(50, 171, 96)'\n",
              "      },\n",
              "      showarrow: false,\n",
              "      font: {\n",
              "        color: textColor,\n",
              "        size: '18'\n",
              "      }\n",
              "    };\n",
              "    layout.annotations.push(result);\n",
              "  }\n",
              "}\n",
              "\n",
              "var data = [{\n",
              "   x: xValues,\n",
              "   y: yValues,\n",
              "   z: zValues,\n",
              "   \n",
              "   colorscale: 'RdBu', \n",
              "   type: 'heatmap' \n",
              " }];\n",
              " Plotly.newPlot('longevity_cor', data, layout);\n",
              "</script>\n",
              "    <h3>longevity_cor heatmap has been displayed</h3>"
            ]
          },
          "output_type" : "display_data"
        }
      ]
    },
    {
      "cell_type" : "markdown",
      "execution_count" : 37,
      "metadata" : {
        "language" : "text"
      },
      "language" : "text",
      "source" : [
        "### DNA REPAIR<br>\n",
        "\n",
        "\n"
      ],
      "outputs" : [
      ]
    },
    {
      "cell_type" : "code",
      "execution_count" : 38,
      "metadata" : {
        "cell.metadata.exec_info" : {
          "startTs" : 1583806437752,
          "endTs" : 1583806438687
        },
        "language" : "scala"
      },
      "language" : "scala",
      "source" : [
        "val dna_repair_cor = makeProCor(dna_repair_goes)\n",
        "dna_repair_cor.show(10,1000)"
      ],
      "outputs" : [
        {
          "name" : "stdout",
          "text" : [
            "+--------------------+-------------------+--------------------+--------------------+-------------------+-------------------+-------------------+--------------------+---------------------+--------------------+---------------------+--------------------+--------------------+-------------------+-------------------+--------------------+---------------------+\n",
            "|                  go|bowhead_whale_liver|    gray_whale_liver|         minke_liver|        human_liver|        bat_liver_1|          NMR_liver|  cow_totalRNA_liver| mouse_totalRNA_liver|bowhead_whale_kidney|    gray_whale_kidney|        minke_kidney|        human_kidney|       bat_kidney_1|         NMR_kidney| cow_totalRNA_kidney|mouse_totalRNA_kidney|\n",
            "+--------------------+-------------------+--------------------+--------------------+-------------------+-------------------+-------------------+--------------------+---------------------+--------------------+---------------------+--------------------+--------------------+-------------------+-------------------+--------------------+---------------------+\n",
            "| bowhead_whale_liver|                1.0|  0.6540525536159908|  0.5196272446690062|0.34952004517222035| 0.8477831459219355| 0.7118645203907992| 0.29192546583851875|   0.3551665725578846|  0.6757063225296766|   0.6506636802812104|  0.4868681357659754|  0.3642010163749667| 0.8150240370190441| 0.7581922114004194| 0.33145115753814963|   0.3608130999435778|\n",
            "|    gray_whale_liver| 0.6540525536159908|                 1.0|  0.8937853107344603|  0.829709154803018| 0.5491525423728786| 0.4119808019796209|-0.11070319560340783| -0.06890709114090354|  0.8674767229611751|   0.9830508474576359|  0.8790960451977481|  0.8330980281378672| 0.5898305084746575|0.43684658426643447|-0.12086981560781526| -0.06551821780609579|\n",
            "|         minke_liver| 0.5196272446690062|  0.8937853107344603|                 1.0|  0.869246010375652|0.38079096045198285|0.33964398078154723|-0.15927704673549492| -0.11748094227296928|  0.9194688131973013|    0.907344632768386|  0.9966101694915477|  0.8658571370409536|0.42824858757073175|0.33512292945665484| -0.1570177978456113|  -0.1140920689382736|\n",
            "|         human_liver|0.34952004517222035|   0.829709154803018|   0.869246010375652|                1.0|0.31008191013398373|0.17288138352346868| -0.2467532467532885|  -0.1688311688312201|    0.84180804395417|   0.8251906570232092|  0.8737645081553834|  0.9954827780915173| 0.3699520057153908|0.18531076403823651| -0.2806324110672855|  -0.1699604743084362|\n",
            "|         bat_liver_1| 0.8477831459219355|  0.5491525423728786| 0.38079096045198285|0.31008191013398373|                1.0| 0.8378073236416556|  0.5297938646734317|   0.5467382313474771|  0.5416784618620614|   0.5785310734462985|  0.3525423728813287| 0.33323921125523315| 0.9841807909606575| 0.9027974364368757|  0.5540807902395666|   0.5461734191249797|\n",
            "|           NMR_liver| 0.7118645203907992|  0.4119808019796209| 0.33964398078154723|0.17288138352346868| 0.8378073236416556|                1.0|  0.6796611254207093|   0.7282487037965742| 0.36009044657994593|   0.4560610523971226|   0.309126884338612| 0.18022601746400763| 0.8089856214456093| 0.9717354437536816|  0.6819210127870553|   0.7316385348462408|\n",
            "|  cow_totalRNA_liver|0.29192546583851875|-0.11070319560340783|-0.15927704673549492|-0.2467532467532885| 0.5297938646734317| 0.6796611254207093|                 1.0|    0.872388481084085|-0.13389832645450067| -0.08020333559026166|-0.18299916007919342|-0.24223602484485393| 0.5128494979993135| 0.6548023643912617|  0.9785431959345506|   0.8746470920382181|\n",
            "|mouse_totalRNA_liver| 0.3551665725578846|-0.06890709114090354|-0.11748094227296928|-0.1688311688312201| 0.5467382313474771| 0.7282487037965742|   0.872388481084085|                  1.0|-0.05819209968275804|-0.028240611123251345|-0.14120305561660193|-0.15866741953711438| 0.5410901091229149| 0.6774012380544807|  0.8848108413326009|   0.9977413890458557|\n",
            "|bowhead_whale_kidney| 0.6757063225296766|  0.8674767229611751|  0.9194688131973013|   0.84180804395417| 0.5416784618620614|0.36009044657994593|-0.13389832645450067| -0.05819209968275804|                 1.0|   0.8912122424168102|  0.9092964477162367|  0.8457628468454795| 0.5795422667080041| 0.4166195590729592|-0.11694917120709797| -0.05706215599961938|\n",
            "|   gray_whale_kidney| 0.6506636802812104|  0.9830508474576359|   0.907344632768386| 0.8251906570232092| 0.5785310734462985| 0.4560610523971226|-0.08020333559026166|-0.028240611123251345|  0.8912122424168102|                  1.0|  0.8903954802260244|   0.827449905913131| 0.6214689265537445| 0.4899689373336114|-0.09149958003960461|-0.024851737788849956|\n",
            "+--------------------+-------------------+--------------------+--------------------+-------------------+-------------------+-------------------+--------------------+---------------------+--------------------+---------------------+--------------------+--------------------+-------------------+-------------------+--------------------+---------------------+\n",
            "only showing top 10 rows\n",
            "\n"
          ],
          "output_type" : "stream"
        }
      ]
    },
    {
      "cell_type" : "code",
      "execution_count" : 39,
      "metadata" : {
        "cell.metadata.exec_info" : {
          "startTs" : 1583806440175,
          "endTs" : 1583806440250
        },
        "language" : "scala"
      },
      "language" : "scala",
      "source" : [
        "html(s\"\"\"<div id=\"dna_repair_cor\"></div>\"\"\")"
      ],
      "outputs" : [
        {
          "data" : {
            "text/html" : [
              "<div id=\"dna_repair_cor\"></div>"
            ]
          },
          "output_type" : "display_data"
        }
      ]
    },
    {
      "cell_type" : "code",
      "execution_count" : 40,
      "metadata" : {
        "cell.metadata.exec_info" : {
          "startTs" : 1583806442138,
          "endTs" : 1583806442384
        },
        "language" : "scala"
      },
      "language" : "scala",
      "source" : [
        "makeHeatCor(dna_repair_cor, \"dna_repair_cor\", \"DNA repair correlations for liver and kidney\")"
      ],
      "outputs" : [
        {
          "data" : {
            "text/html" : [
              "<script type=\"text/javascript\" charset=\"utf-8\">\n",
              "var layout = {\n",
              "  title: 'DNA repair correlations for liver and kidney',\n",
              "  annotations: [],\n",
              "  margin: {\n",
              "    l: 300,\n",
              "    r: 125,\n",
              "    t: 400,\n",
              "    b: 50\n",
              "  },\n",
              "  width: 1800,\n",
              "  height: 1400,\n",
              "  xaxis: {\n",
              "    side: 'top',\n",
              "    tickfont: {\n",
              "      size: 20\n",
              "    },\n",
              "    tickangle: '-30'\n",
              "  },\n",
              "  yaxis: {\n",
              "    side: 'left',\n",
              "    autorange: 'reversed',\n",
              "    tickfont: {\n",
              "      size: 20\n",
              "    }\n",
              "  },\n",
              "};\n",
              "\n",
              "var xValues = [\"Bowhead whale liver\",\"Gray whale liver\",\"Minke whale liver\",\"Human liver\",\"Bat liver\",\"Naked mole rat liver\",\"Cow liver\",\"Mouse liver\",\"Bowhead whale kidney\",\"Gray whale kidney\",\"Minke whale kidney\",\"Human kidney\",\"Bat kidney\",\"Naked mole rat kidney\",\"Cow kidney\",\"Mouse kidney\"]\n",
              "var yValues =  [\"Bowhead whale liver\",\"Gray whale liver\",\"Minke whale liver\",\"Human liver\",\"Bat liver\",\"Naked mole rat liver\",\"Cow liver\",\"Mouse liver\",\"Bowhead whale kidney\",\"Gray whale kidney\",\"Minke whale kidney\",\"Human kidney\",\"Bat kidney\",\"Naked mole rat kidney\",\"Cow kidney\",\"Mouse kidney\"]\n",
              "var zValues =  [[1.0,0.65,0.52,0.35,0.85,0.71,0.29,0.36,0.68,0.65,0.49,0.36,0.82,0.76,0.33,0.36],[0.65,1.0,0.89,0.83,0.55,0.41,-0.11,-0.07,0.87,0.98,0.88,0.83,0.59,0.44,-0.12,-0.07],[0.52,0.89,1.0,0.87,0.38,0.34,-0.16,-0.12,0.92,0.91,1.0,0.87,0.43,0.34,-0.16,-0.11],[0.35,0.83,0.87,1.0,0.31,0.17,-0.25,-0.17,0.84,0.83,0.87,1.0,0.37,0.19,-0.28,-0.17],[0.85,0.55,0.38,0.31,1.0,0.84,0.53,0.55,0.54,0.58,0.35,0.33,0.98,0.9,0.55,0.55],[0.71,0.41,0.34,0.17,0.84,1.0,0.68,0.73,0.36,0.46,0.31,0.18,0.81,0.97,0.68,0.73],[0.29,-0.11,-0.16,-0.25,0.53,0.68,1.0,0.87,-0.13,-0.08,-0.18,-0.24,0.51,0.65,0.98,0.87],[0.36,-0.07,-0.12,-0.17,0.55,0.73,0.87,1.0,-0.06,-0.03,-0.14,-0.16,0.54,0.68,0.88,1.0],[0.68,0.87,0.92,0.84,0.54,0.36,-0.13,-0.06,1.0,0.89,0.91,0.85,0.58,0.42,-0.12,-0.06],[0.65,0.98,0.91,0.83,0.58,0.46,-0.08,-0.03,0.89,1.0,0.89,0.83,0.62,0.49,-0.09,-0.02],[0.49,0.88,1.0,0.87,0.35,0.31,-0.18,-0.14,0.91,0.89,1.0,0.87,0.4,0.3,-0.18,-0.14],[0.36,0.83,0.87,1.0,0.33,0.18,-0.24,-0.16,0.85,0.83,0.87,1.0,0.39,0.2,-0.27,-0.16],[0.82,0.59,0.43,0.37,0.98,0.81,0.51,0.54,0.58,0.62,0.4,0.39,1.0,0.87,0.53,0.54],[0.76,0.44,0.34,0.19,0.9,0.97,0.65,0.68,0.42,0.49,0.3,0.2,0.87,1.0,0.67,0.68],[0.33,-0.12,-0.16,-0.28,0.55,0.68,0.98,0.88,-0.12,-0.09,-0.18,-0.27,0.53,0.67,1.0,0.89],[0.36,-0.07,-0.11,-0.17,0.55,0.73,0.87,1.0,-0.06,-0.02,-0.14,-0.16,0.54,0.68,0.89,1.0]]\n",
              "var aValues =  [[1.0,0.65,0.52,0.35,0.85,0.71,0.29,0.36,0.68,0.65,0.49,0.36,0.82,0.76,0.33,0.36],[0.65,1.0,0.89,0.83,0.55,0.41,-0.11,-0.07,0.87,0.98,0.88,0.83,0.59,0.44,-0.12,-0.07],[0.52,0.89,1.0,0.87,0.38,0.34,-0.16,-0.12,0.92,0.91,1.0,0.87,0.43,0.34,-0.16,-0.11],[0.35,0.83,0.87,1.0,0.31,0.17,-0.25,-0.17,0.84,0.83,0.87,1.0,0.37,0.19,-0.28,-0.17],[0.85,0.55,0.38,0.31,1.0,0.84,0.53,0.55,0.54,0.58,0.35,0.33,0.98,0.9,0.55,0.55],[0.71,0.41,0.34,0.17,0.84,1.0,0.68,0.73,0.36,0.46,0.31,0.18,0.81,0.97,0.68,0.73],[0.29,-0.11,-0.16,-0.25,0.53,0.68,1.0,0.87,-0.13,-0.08,-0.18,-0.24,0.51,0.65,0.98,0.87],[0.36,-0.07,-0.12,-0.17,0.55,0.73,0.87,1.0,-0.06,-0.03,-0.14,-0.16,0.54,0.68,0.88,1.0],[0.68,0.87,0.92,0.84,0.54,0.36,-0.13,-0.06,1.0,0.89,0.91,0.85,0.58,0.42,-0.12,-0.06],[0.65,0.98,0.91,0.83,0.58,0.46,-0.08,-0.03,0.89,1.0,0.89,0.83,0.62,0.49,-0.09,-0.02],[0.49,0.88,1.0,0.87,0.35,0.31,-0.18,-0.14,0.91,0.89,1.0,0.87,0.4,0.3,-0.18,-0.14],[0.36,0.83,0.87,1.0,0.33,0.18,-0.24,-0.16,0.85,0.83,0.87,1.0,0.39,0.2,-0.27,-0.16],[0.82,0.59,0.43,0.37,0.98,0.81,0.51,0.54,0.58,0.62,0.4,0.39,1.0,0.87,0.53,0.54],[0.76,0.44,0.34,0.19,0.9,0.97,0.65,0.68,0.42,0.49,0.3,0.2,0.87,1.0,0.67,0.68],[0.33,-0.12,-0.16,-0.28,0.55,0.68,0.98,0.88,-0.12,-0.09,-0.18,-0.27,0.53,0.67,1.0,0.89],[0.36,-0.07,-0.11,-0.17,0.55,0.73,0.87,1.0,-0.06,-0.02,-0.14,-0.16,0.54,0.68,0.89,1.0]]\n",
              "\n",
              "\n",
              "for ( var i = 0; i < yValues.length; i++ ) {\n",
              "  for ( var j = 0; j < xValues.length; j++ ) {\n",
              "    var currentValue = zValues[i][j];\n",
              "    if (currentValue != 0.0) {\n",
              "      var textColor = 'white';\n",
              "    }else{\n",
              "      var textColor = 'black';\n",
              "    }\n",
              "    var result = {\n",
              "      xref: 'x1',\n",
              "      yref: 'y1',\n",
              "      x: xValues[j],\n",
              "      y: yValues[i],\n",
              "      text: aValues[i][j],\n",
              "      font: {\n",
              "        family: 'Arial',\n",
              "        size: 5,\n",
              "        color: 'rgb(50, 171, 96)'\n",
              "      },\n",
              "      showarrow: false,\n",
              "      font: {\n",
              "        color: textColor,\n",
              "        size: '18'\n",
              "      }\n",
              "    };\n",
              "    layout.annotations.push(result);\n",
              "  }\n",
              "}\n",
              "\n",
              "var data = [{\n",
              "   x: xValues,\n",
              "   y: yValues,\n",
              "   z: zValues,\n",
              "   \n",
              "   colorscale: 'RdBu', \n",
              "   type: 'heatmap' \n",
              " }];\n",
              " Plotly.newPlot('dna_repair_cor', data, layout);\n",
              "</script>\n",
              "    <h3>dna_repair_cor heatmap has been displayed</h3>"
            ]
          },
          "output_type" : "display_data"
        }
      ]
    },
    {
      "cell_type" : "markdown",
      "execution_count" : 41,
      "metadata" : {
        "language" : "text"
      },
      "language" : "text",
      "source" : [
        "### Hypoxia\n",
        "\n",
        "\n"
      ],
      "outputs" : [
      ]
    },
    {
      "cell_type" : "code",
      "execution_count" : 42,
      "metadata" : {
        "cell.metadata.exec_info" : {
          "startTs" : 1583806529883,
          "endTs" : 1583806530673
        },
        "language" : "scala"
      },
      "language" : "scala",
      "source" : [
        "val hypoxia_cor = makeProCor(hypoxia_goes)\n",
        "html(s\"\"\"<div id=\"hypoxia_cor\"></div>\"\"\")"
      ],
      "outputs" : [
        {
          "data" : {
            "text/html" : [
              "<div id=\"hypoxia_cor\"></div>"
            ]
          },
          "output_type" : "display_data"
        }
      ]
    },
    {
      "cell_type" : "code",
      "execution_count" : 43,
      "metadata" : {
        "cell.metadata.exec_info" : {
          "startTs" : 1583806532450,
          "endTs" : 1583806532708
        },
        "language" : "scala"
      },
      "language" : "scala",
      "source" : [
        "makeHeatCor(hypoxia_cor, \"hypoxia_cor\", \"Hypoxia correlations for liver and kidney\" )"
      ],
      "outputs" : [
        {
          "data" : {
            "text/html" : [
              "<script type=\"text/javascript\" charset=\"utf-8\">\n",
              "var layout = {\n",
              "  title: 'Hypoxia correlations for liver and kidney',\n",
              "  annotations: [],\n",
              "  margin: {\n",
              "    l: 300,\n",
              "    r: 125,\n",
              "    t: 400,\n",
              "    b: 50\n",
              "  },\n",
              "  width: 1800,\n",
              "  height: 1400,\n",
              "  xaxis: {\n",
              "    side: 'top',\n",
              "    tickfont: {\n",
              "      size: 20\n",
              "    },\n",
              "    tickangle: '-30'\n",
              "  },\n",
              "  yaxis: {\n",
              "    side: 'left',\n",
              "    autorange: 'reversed',\n",
              "    tickfont: {\n",
              "      size: 20\n",
              "    }\n",
              "  },\n",
              "};\n",
              "\n",
              "var xValues = [\"Bowhead whale liver\",\"Gray whale liver\",\"Minke whale liver\",\"Human liver\",\"Bat liver\",\"Naked mole rat liver\",\"Cow liver\",\"Mouse liver\",\"Bowhead whale kidney\",\"Gray whale kidney\",\"Minke whale kidney\",\"Human kidney\",\"Bat kidney\",\"Naked mole rat kidney\",\"Cow kidney\",\"Mouse kidney\"]\n",
              "var yValues =  [\"Bowhead whale liver\",\"Gray whale liver\",\"Minke whale liver\",\"Human liver\",\"Bat liver\",\"Naked mole rat liver\",\"Cow liver\",\"Mouse liver\",\"Bowhead whale kidney\",\"Gray whale kidney\",\"Minke whale kidney\",\"Human kidney\",\"Bat kidney\",\"Naked mole rat kidney\",\"Cow kidney\",\"Mouse kidney\"]\n",
              "var zValues =  [[1.0,0.83,0.83,0.77,0.43,0.77,0.31,0.49,0.83,0.83,1.0,0.71,0.43,0.6,0.37,0.49],[0.83,1.0,1.0,0.71,0.6,0.71,-0.09,0.03,0.89,1.0,0.83,0.66,0.49,0.6,-0.03,0.03],[0.83,1.0,1.0,0.71,0.6,0.71,-0.09,0.03,0.89,1.0,0.83,0.66,0.49,0.6,-0.03,0.03],[0.77,0.71,0.71,1.0,0.77,1.0,0.54,0.6,0.94,0.71,0.77,0.94,0.89,0.94,0.6,0.6],[0.43,0.6,0.6,0.77,1.0,0.77,0.43,0.31,0.71,0.6,0.43,0.83,0.77,0.89,0.37,0.31],[0.77,0.71,0.71,1.0,0.77,1.0,0.54,0.6,0.94,0.71,0.77,0.94,0.89,0.94,0.6,0.6],[0.31,-0.09,-0.09,0.54,0.43,0.54,1.0,0.94,0.26,-0.09,0.31,0.6,0.49,0.6,0.94,0.94],[0.49,0.03,0.03,0.6,0.31,0.6,0.94,1.0,0.37,0.03,0.49,0.66,0.43,0.54,0.89,1.0],[0.83,0.89,0.89,0.94,0.71,0.94,0.26,0.37,1.0,0.89,0.83,0.89,0.77,0.83,0.31,0.37],[0.83,1.0,1.0,0.71,0.6,0.71,-0.09,0.03,0.89,1.0,0.83,0.66,0.49,0.6,-0.03,0.03],[1.0,0.83,0.83,0.77,0.43,0.77,0.31,0.49,0.83,0.83,1.0,0.71,0.43,0.6,0.37,0.49],[0.71,0.66,0.66,0.94,0.83,0.94,0.6,0.66,0.89,0.66,0.71,1.0,0.77,0.89,0.54,0.66],[0.43,0.49,0.49,0.89,0.77,0.89,0.49,0.43,0.77,0.49,0.43,0.77,1.0,0.94,0.6,0.43],[0.6,0.6,0.6,0.94,0.89,0.94,0.6,0.54,0.83,0.6,0.6,0.89,0.94,1.0,0.66,0.54],[0.37,-0.03,-0.03,0.6,0.37,0.6,0.94,0.89,0.31,-0.03,0.37,0.54,0.6,0.66,1.0,0.89],[0.49,0.03,0.03,0.6,0.31,0.6,0.94,1.0,0.37,0.03,0.49,0.66,0.43,0.54,0.89,1.0]]\n",
              "var aValues =  [[1.0,0.83,0.83,0.77,0.43,0.77,0.31,0.49,0.83,0.83,1.0,0.71,0.43,0.6,0.37,0.49],[0.83,1.0,1.0,0.71,0.6,0.71,-0.09,0.03,0.89,1.0,0.83,0.66,0.49,0.6,-0.03,0.03],[0.83,1.0,1.0,0.71,0.6,0.71,-0.09,0.03,0.89,1.0,0.83,0.66,0.49,0.6,-0.03,0.03],[0.77,0.71,0.71,1.0,0.77,1.0,0.54,0.6,0.94,0.71,0.77,0.94,0.89,0.94,0.6,0.6],[0.43,0.6,0.6,0.77,1.0,0.77,0.43,0.31,0.71,0.6,0.43,0.83,0.77,0.89,0.37,0.31],[0.77,0.71,0.71,1.0,0.77,1.0,0.54,0.6,0.94,0.71,0.77,0.94,0.89,0.94,0.6,0.6],[0.31,-0.09,-0.09,0.54,0.43,0.54,1.0,0.94,0.26,-0.09,0.31,0.6,0.49,0.6,0.94,0.94],[0.49,0.03,0.03,0.6,0.31,0.6,0.94,1.0,0.37,0.03,0.49,0.66,0.43,0.54,0.89,1.0],[0.83,0.89,0.89,0.94,0.71,0.94,0.26,0.37,1.0,0.89,0.83,0.89,0.77,0.83,0.31,0.37],[0.83,1.0,1.0,0.71,0.6,0.71,-0.09,0.03,0.89,1.0,0.83,0.66,0.49,0.6,-0.03,0.03],[1.0,0.83,0.83,0.77,0.43,0.77,0.31,0.49,0.83,0.83,1.0,0.71,0.43,0.6,0.37,0.49],[0.71,0.66,0.66,0.94,0.83,0.94,0.6,0.66,0.89,0.66,0.71,1.0,0.77,0.89,0.54,0.66],[0.43,0.49,0.49,0.89,0.77,0.89,0.49,0.43,0.77,0.49,0.43,0.77,1.0,0.94,0.6,0.43],[0.6,0.6,0.6,0.94,0.89,0.94,0.6,0.54,0.83,0.6,0.6,0.89,0.94,1.0,0.66,0.54],[0.37,-0.03,-0.03,0.6,0.37,0.6,0.94,0.89,0.31,-0.03,0.37,0.54,0.6,0.66,1.0,0.89],[0.49,0.03,0.03,0.6,0.31,0.6,0.94,1.0,0.37,0.03,0.49,0.66,0.43,0.54,0.89,1.0]]\n",
              "\n",
              "\n",
              "for ( var i = 0; i < yValues.length; i++ ) {\n",
              "  for ( var j = 0; j < xValues.length; j++ ) {\n",
              "    var currentValue = zValues[i][j];\n",
              "    if (currentValue != 0.0) {\n",
              "      var textColor = 'white';\n",
              "    }else{\n",
              "      var textColor = 'black';\n",
              "    }\n",
              "    var result = {\n",
              "      xref: 'x1',\n",
              "      yref: 'y1',\n",
              "      x: xValues[j],\n",
              "      y: yValues[i],\n",
              "      text: aValues[i][j],\n",
              "      font: {\n",
              "        family: 'Arial',\n",
              "        size: 5,\n",
              "        color: 'rgb(50, 171, 96)'\n",
              "      },\n",
              "      showarrow: false,\n",
              "      font: {\n",
              "        color: textColor,\n",
              "        size: '18'\n",
              "      }\n",
              "    };\n",
              "    layout.annotations.push(result);\n",
              "  }\n",
              "}\n",
              "\n",
              "var data = [{\n",
              "   x: xValues,\n",
              "   y: yValues,\n",
              "   z: zValues,\n",
              "   \n",
              "   colorscale: 'RdBu', \n",
              "   type: 'heatmap' \n",
              " }];\n",
              " Plotly.newPlot('hypoxia_cor', data, layout);\n",
              "</script>\n",
              "    <h3>hypoxia_cor heatmap has been displayed</h3>"
            ]
          },
          "output_type" : "display_data"
        }
      ]
    },
    {
      "cell_type" : "markdown",
      "execution_count" : 44,
      "metadata" : {
        "language" : "text"
      },
      "language" : "text",
      "source" : [
        "### Autophagy\n",
        "\n",
        "\n"
      ],
      "outputs" : [
      ]
    },
    {
      "cell_type" : "code",
      "execution_count" : 45,
      "metadata" : {
        "cell.metadata.exec_info" : {
          "startTs" : 1583806685234,
          "endTs" : 1583806686308
        },
        "language" : "scala"
      },
      "language" : "scala",
      "source" : [
        "val autophagy_cor = makeProCor(autophagy_goes)\n",
        "html(s\"\"\"<div id=\"autophagy_cor\"></div>\"\"\")"
      ],
      "outputs" : [
        {
          "data" : {
            "text/html" : [
              "<div id=\"autophagy_cor\"></div>"
            ]
          },
          "output_type" : "display_data"
        }
      ]
    },
    {
      "cell_type" : "code",
      "execution_count" : 46,
      "metadata" : {
        "cell.metadata.exec_info" : {
          "startTs" : 1583806692517,
          "endTs" : 1583806692867
        },
        "language" : "scala"
      },
      "language" : "scala",
      "source" : [
        "makeHeatCor(autophagy_cor, \"autophagy_cor\", \"Autophagy correlations for liver and kidney\" )"
      ],
      "outputs" : [
        {
          "data" : {
            "text/html" : [
              "<script type=\"text/javascript\" charset=\"utf-8\">\n",
              "var layout = {\n",
              "  title: 'Autophagy correlations for liver and kidney',\n",
              "  annotations: [],\n",
              "  margin: {\n",
              "    l: 300,\n",
              "    r: 125,\n",
              "    t: 400,\n",
              "    b: 50\n",
              "  },\n",
              "  width: 1800,\n",
              "  height: 1400,\n",
              "  xaxis: {\n",
              "    side: 'top',\n",
              "    tickfont: {\n",
              "      size: 20\n",
              "    },\n",
              "    tickangle: '-30'\n",
              "  },\n",
              "  yaxis: {\n",
              "    side: 'left',\n",
              "    autorange: 'reversed',\n",
              "    tickfont: {\n",
              "      size: 20\n",
              "    }\n",
              "  },\n",
              "};\n",
              "\n",
              "var xValues = [\"Bowhead whale liver\",\"Gray whale liver\",\"Minke whale liver\",\"Human liver\",\"Bat liver\",\"Naked mole rat liver\",\"Cow liver\",\"Mouse liver\",\"Bowhead whale kidney\",\"Gray whale kidney\",\"Minke whale kidney\",\"Human kidney\",\"Bat kidney\",\"Naked mole rat kidney\",\"Cow kidney\",\"Mouse kidney\"]\n",
              "var yValues =  [\"Bowhead whale liver\",\"Gray whale liver\",\"Minke whale liver\",\"Human liver\",\"Bat liver\",\"Naked mole rat liver\",\"Cow liver\",\"Mouse liver\",\"Bowhead whale kidney\",\"Gray whale kidney\",\"Minke whale kidney\",\"Human kidney\",\"Bat kidney\",\"Naked mole rat kidney\",\"Cow kidney\",\"Mouse kidney\"]\n",
              "var zValues =  [[1.0,0.43,0.3,0.87,0.72,0.27,-0.17,0.1,0.9,0.58,0.28,0.83,0.73,0.33,-0.23,-0.05],[0.43,1.0,0.0,0.15,0.02,-0.22,-0.48,-0.27,0.28,0.95,-0.1,0.23,0.2,-0.08,-0.45,-0.3],[0.3,0.0,1.0,0.5,0.15,0.82,0.48,0.77,0.3,0.07,0.97,0.53,0.27,0.88,0.38,0.67],[0.87,0.15,0.5,1.0,0.67,0.58,0.1,0.33,0.87,0.25,0.55,0.97,0.72,0.55,-0.02,0.23],[0.72,0.02,0.15,0.67,1.0,0.03,0.3,0.37,0.67,0.1,0.1,0.55,0.93,0.05,0.23,0.32],[0.27,-0.22,0.82,0.58,0.03,1.0,0.42,0.55,0.3,-0.15,0.9,0.58,0.12,0.97,0.33,0.5],[-0.17,-0.48,0.48,0.1,0.3,0.42,1.0,0.88,-0.25,-0.48,0.42,-0.05,0.23,0.4,0.98,0.95],[0.1,-0.27,0.77,0.33,0.37,0.55,0.88,1.0,0.03,-0.22,0.68,0.23,0.33,0.58,0.82,0.95],[0.9,0.28,0.3,0.87,0.67,0.3,-0.25,0.03,1.0,0.37,0.37,0.9,0.72,0.3,-0.37,-0.12],[0.58,0.95,0.07,0.25,0.1,-0.15,-0.48,-0.22,0.37,1.0,-0.05,0.3,0.22,0.02,-0.45,-0.32],[0.28,-0.1,0.97,0.55,0.1,0.9,0.42,0.68,0.37,-0.05,1.0,0.6,0.22,0.92,0.3,0.58],[0.83,0.23,0.53,0.97,0.55,0.58,-0.05,0.23,0.9,0.3,0.6,1.0,0.67,0.55,-0.18,0.13],[0.73,0.2,0.27,0.72,0.93,0.12,0.23,0.33,0.72,0.22,0.22,0.67,1.0,0.13,0.15,0.33],[0.33,-0.08,0.88,0.55,0.05,0.97,0.4,0.58,0.3,0.02,0.92,0.55,0.13,1.0,0.33,0.5],[-0.23,-0.45,0.38,-0.02,0.23,0.33,0.98,0.82,-0.37,-0.45,0.3,-0.18,0.15,0.33,1.0,0.9],[-0.05,-0.3,0.67,0.23,0.32,0.5,0.95,0.95,-0.12,-0.32,0.58,0.13,0.33,0.5,0.9,1.0]]\n",
              "var aValues =  [[1.0,0.43,0.3,0.87,0.72,0.27,-0.17,0.1,0.9,0.58,0.28,0.83,0.73,0.33,-0.23,-0.05],[0.43,1.0,0.0,0.15,0.02,-0.22,-0.48,-0.27,0.28,0.95,-0.1,0.23,0.2,-0.08,-0.45,-0.3],[0.3,0.0,1.0,0.5,0.15,0.82,0.48,0.77,0.3,0.07,0.97,0.53,0.27,0.88,0.38,0.67],[0.87,0.15,0.5,1.0,0.67,0.58,0.1,0.33,0.87,0.25,0.55,0.97,0.72,0.55,-0.02,0.23],[0.72,0.02,0.15,0.67,1.0,0.03,0.3,0.37,0.67,0.1,0.1,0.55,0.93,0.05,0.23,0.32],[0.27,-0.22,0.82,0.58,0.03,1.0,0.42,0.55,0.3,-0.15,0.9,0.58,0.12,0.97,0.33,0.5],[-0.17,-0.48,0.48,0.1,0.3,0.42,1.0,0.88,-0.25,-0.48,0.42,-0.05,0.23,0.4,0.98,0.95],[0.1,-0.27,0.77,0.33,0.37,0.55,0.88,1.0,0.03,-0.22,0.68,0.23,0.33,0.58,0.82,0.95],[0.9,0.28,0.3,0.87,0.67,0.3,-0.25,0.03,1.0,0.37,0.37,0.9,0.72,0.3,-0.37,-0.12],[0.58,0.95,0.07,0.25,0.1,-0.15,-0.48,-0.22,0.37,1.0,-0.05,0.3,0.22,0.02,-0.45,-0.32],[0.28,-0.1,0.97,0.55,0.1,0.9,0.42,0.68,0.37,-0.05,1.0,0.6,0.22,0.92,0.3,0.58],[0.83,0.23,0.53,0.97,0.55,0.58,-0.05,0.23,0.9,0.3,0.6,1.0,0.67,0.55,-0.18,0.13],[0.73,0.2,0.27,0.72,0.93,0.12,0.23,0.33,0.72,0.22,0.22,0.67,1.0,0.13,0.15,0.33],[0.33,-0.08,0.88,0.55,0.05,0.97,0.4,0.58,0.3,0.02,0.92,0.55,0.13,1.0,0.33,0.5],[-0.23,-0.45,0.38,-0.02,0.23,0.33,0.98,0.82,-0.37,-0.45,0.3,-0.18,0.15,0.33,1.0,0.9],[-0.05,-0.3,0.67,0.23,0.32,0.5,0.95,0.95,-0.12,-0.32,0.58,0.13,0.33,0.5,0.9,1.0]]\n",
              "\n",
              "\n",
              "for ( var i = 0; i < yValues.length; i++ ) {\n",
              "  for ( var j = 0; j < xValues.length; j++ ) {\n",
              "    var currentValue = zValues[i][j];\n",
              "    if (currentValue != 0.0) {\n",
              "      var textColor = 'white';\n",
              "    }else{\n",
              "      var textColor = 'black';\n",
              "    }\n",
              "    var result = {\n",
              "      xref: 'x1',\n",
              "      yref: 'y1',\n",
              "      x: xValues[j],\n",
              "      y: yValues[i],\n",
              "      text: aValues[i][j],\n",
              "      font: {\n",
              "        family: 'Arial',\n",
              "        size: 5,\n",
              "        color: 'rgb(50, 171, 96)'\n",
              "      },\n",
              "      showarrow: false,\n",
              "      font: {\n",
              "        color: textColor,\n",
              "        size: '18'\n",
              "      }\n",
              "    };\n",
              "    layout.annotations.push(result);\n",
              "  }\n",
              "}\n",
              "\n",
              "var data = [{\n",
              "   x: xValues,\n",
              "   y: yValues,\n",
              "   z: zValues,\n",
              "   \n",
              "   colorscale: 'RdBu', \n",
              "   type: 'heatmap' \n",
              " }];\n",
              " Plotly.newPlot('autophagy_cor', data, layout);\n",
              "</script>\n",
              "    <h3>autophagy_cor heatmap has been displayed</h3>"
            ]
          },
          "output_type" : "display_data"
        }
      ]
    },
    {
      "cell_type" : "markdown",
      "execution_count" : 47,
      "metadata" : {
        "language" : "text"
      },
      "language" : "text",
      "source" : [
        "### Stress response\n",
        "\n",
        "\n"
      ],
      "outputs" : [
      ]
    },
    {
      "cell_type" : "code",
      "execution_count" : 48,
      "metadata" : {
        "cell.metadata.exec_info" : {
          "startTs" : 1583806928905,
          "endTs" : 1583806929725
        },
        "language" : "scala"
      },
      "language" : "scala",
      "source" : [
        "val stress_response_cor = makeProCor(stress_response_goes)\n",
        "html(s\"\"\"<div id=\"stress_response_cor\"></div>\"\"\")"
      ],
      "outputs" : [
        {
          "data" : {
            "text/html" : [
              "<div id=\"stress_response_cor\"></div>"
            ]
          },
          "output_type" : "display_data"
        }
      ]
    },
    {
      "cell_type" : "markdown",
      "execution_count" : 49,
      "metadata" : {
        "cell.metadata.exec_info" : {
          "startTs" : 1583806934513,
          "endTs" : 1583806934766
        },
        "language" : "text"
      },
      "language" : "text",
      "source" : [
        "makeHeatCor(stress_response_cor, \"stress_response_cor\", \"Stress response correlations for liver and kidney\" )"
      ],
      "outputs" : [
        {
          "data" : {
            "text/html" : [
              "<script type=\"text/javascript\" charset=\"utf-8\">\n",
              "var layout = {\n",
              "  title: 'Stress response correlations for liver and kidney',\n",
              "  annotations: [],\n",
              "  margin: {\n",
              "    l: 300,\n",
              "    r: 125,\n",
              "    t: 400,\n",
              "    b: 50\n",
              "  },\n",
              "  width: 1800,\n",
              "  height: 1400,\n",
              "  xaxis: {\n",
              "    side: 'top',\n",
              "    tickfont: {\n",
              "      size: 20\n",
              "    },\n",
              "    tickangle: '-30'\n",
              "  },\n",
              "  yaxis: {\n",
              "    side: 'left',\n",
              "    autorange: 'reversed',\n",
              "    tickfont: {\n",
              "      size: 20\n",
              "    }\n",
              "  },\n",
              "};\n",
              "\n",
              "var xValues = [\"Bowhead whale liver\",\"Gray whale liver\",\"Minke whale liver\",\"Human liver\",\"Bat liver\",\"Naked mole rat liver\",\"Cow liver\",\"Mouse liver\",\"Bowhead whale kidney\",\"Gray whale kidney\",\"Minke whale kidney\",\"Human kidney\",\"Bat kidney\",\"Naked mole rat kidney\",\"Cow kidney\",\"Mouse kidney\"]\n",
              "var yValues =  [\"Bowhead whale liver\",\"Gray whale liver\",\"Minke whale liver\",\"Human liver\",\"Bat liver\",\"Naked mole rat liver\",\"Cow liver\",\"Mouse liver\",\"Bowhead whale kidney\",\"Gray whale kidney\",\"Minke whale kidney\",\"Human kidney\",\"Bat kidney\",\"Naked mole rat kidney\",\"Cow kidney\",\"Mouse kidney\"]\n",
              "var zValues =  [[1.0,0.84,0.83,0.79,0.41,0.53,0.82,0.57,0.78,0.89,0.85,0.75,0.45,0.44,0.66,0.62],[0.84,1.0,0.94,0.81,0.43,0.46,0.66,0.4,0.84,0.86,0.89,0.71,0.47,0.42,0.41,0.37],[0.83,0.94,1.0,0.77,0.48,0.44,0.65,0.38,0.75,0.75,0.85,0.63,0.47,0.4,0.39,0.35],[0.79,0.81,0.77,1.0,0.62,0.64,0.81,0.65,0.92,0.85,0.89,0.82,0.61,0.71,0.56,0.52],[0.41,0.43,0.48,0.62,1.0,0.39,0.65,0.8,0.39,0.39,0.48,0.45,0.97,0.35,0.43,0.62],[0.53,0.46,0.44,0.64,0.39,1.0,0.67,0.49,0.52,0.57,0.53,0.54,0.35,0.91,0.4,0.54],[0.82,0.66,0.65,0.81,0.65,0.67,1.0,0.79,0.67,0.77,0.81,0.69,0.63,0.6,0.74,0.73],[0.57,0.4,0.38,0.65,0.8,0.49,0.79,1.0,0.51,0.61,0.59,0.6,0.82,0.39,0.62,0.89],[0.78,0.84,0.75,0.92,0.39,0.52,0.67,0.51,1.0,0.84,0.88,0.86,0.41,0.61,0.54,0.43],[0.89,0.86,0.75,0.85,0.39,0.57,0.77,0.61,0.84,1.0,0.9,0.78,0.45,0.52,0.53,0.6],[0.85,0.89,0.85,0.89,0.48,0.53,0.81,0.59,0.88,0.9,1.0,0.78,0.48,0.55,0.59,0.55],[0.75,0.71,0.63,0.82,0.45,0.54,0.69,0.6,0.86,0.78,0.78,1.0,0.49,0.52,0.77,0.56],[0.45,0.47,0.47,0.61,0.97,0.35,0.63,0.82,0.41,0.45,0.48,0.49,1.0,0.29,0.44,0.66],[0.44,0.42,0.4,0.71,0.35,0.91,0.6,0.39,0.61,0.52,0.55,0.52,0.29,1.0,0.36,0.4],[0.66,0.41,0.39,0.56,0.43,0.4,0.74,0.62,0.54,0.53,0.59,0.77,0.44,0.36,1.0,0.62],[0.62,0.37,0.35,0.52,0.62,0.54,0.73,0.89,0.43,0.6,0.55,0.56,0.66,0.4,0.62,1.0]]\n",
              "var aValues =  [[1.0,0.84,0.83,0.79,0.41,0.53,0.82,0.57,0.78,0.89,0.85,0.75,0.45,0.44,0.66,0.62],[0.84,1.0,0.94,0.81,0.43,0.46,0.66,0.4,0.84,0.86,0.89,0.71,0.47,0.42,0.41,0.37],[0.83,0.94,1.0,0.77,0.48,0.44,0.65,0.38,0.75,0.75,0.85,0.63,0.47,0.4,0.39,0.35],[0.79,0.81,0.77,1.0,0.62,0.64,0.81,0.65,0.92,0.85,0.89,0.82,0.61,0.71,0.56,0.52],[0.41,0.43,0.48,0.62,1.0,0.39,0.65,0.8,0.39,0.39,0.48,0.45,0.97,0.35,0.43,0.62],[0.53,0.46,0.44,0.64,0.39,1.0,0.67,0.49,0.52,0.57,0.53,0.54,0.35,0.91,0.4,0.54],[0.82,0.66,0.65,0.81,0.65,0.67,1.0,0.79,0.67,0.77,0.81,0.69,0.63,0.6,0.74,0.73],[0.57,0.4,0.38,0.65,0.8,0.49,0.79,1.0,0.51,0.61,0.59,0.6,0.82,0.39,0.62,0.89],[0.78,0.84,0.75,0.92,0.39,0.52,0.67,0.51,1.0,0.84,0.88,0.86,0.41,0.61,0.54,0.43],[0.89,0.86,0.75,0.85,0.39,0.57,0.77,0.61,0.84,1.0,0.9,0.78,0.45,0.52,0.53,0.6],[0.85,0.89,0.85,0.89,0.48,0.53,0.81,0.59,0.88,0.9,1.0,0.78,0.48,0.55,0.59,0.55],[0.75,0.71,0.63,0.82,0.45,0.54,0.69,0.6,0.86,0.78,0.78,1.0,0.49,0.52,0.77,0.56],[0.45,0.47,0.47,0.61,0.97,0.35,0.63,0.82,0.41,0.45,0.48,0.49,1.0,0.29,0.44,0.66],[0.44,0.42,0.4,0.71,0.35,0.91,0.6,0.39,0.61,0.52,0.55,0.52,0.29,1.0,0.36,0.4],[0.66,0.41,0.39,0.56,0.43,0.4,0.74,0.62,0.54,0.53,0.59,0.77,0.44,0.36,1.0,0.62],[0.62,0.37,0.35,0.52,0.62,0.54,0.73,0.89,0.43,0.6,0.55,0.56,0.66,0.4,0.62,1.0]]\n",
              "\n",
              "\n",
              "for ( var i = 0; i < yValues.length; i++ ) {\n",
              "  for ( var j = 0; j < xValues.length; j++ ) {\n",
              "    var currentValue = zValues[i][j];\n",
              "    if (currentValue != 0.0) {\n",
              "      var textColor = 'white';\n",
              "    }else{\n",
              "      var textColor = 'black';\n",
              "    }\n",
              "    var result = {\n",
              "      xref: 'x1',\n",
              "      yref: 'y1',\n",
              "      x: xValues[j],\n",
              "      y: yValues[i],\n",
              "      text: aValues[i][j],\n",
              "      font: {\n",
              "        family: 'Arial',\n",
              "        size: 5,\n",
              "        color: 'rgb(50, 171, 96)'\n",
              "      },\n",
              "      showarrow: false,\n",
              "      font: {\n",
              "        color: textColor,\n",
              "        size: '18'\n",
              "      }\n",
              "    };\n",
              "    layout.annotations.push(result);\n",
              "  }\n",
              "}\n",
              "\n",
              "var data = [{\n",
              "   x: xValues,\n",
              "   y: yValues,\n",
              "   z: zValues,\n",
              "   \n",
              "   colorscale: 'RdBu', \n",
              "   type: 'heatmap' \n",
              " }];\n",
              " Plotly.newPlot('stress_response_cor', data, layout);\n",
              "</script>\n",
              "    <h3>stress_response_cor heatmap has been displayed</h3>"
            ]
          },
          "output_type" : "display_data"
        }
      ]
    },
    {
      "cell_type" : "markdown",
      "execution_count" : 50,
      "metadata" : {
        "language" : "text"
      },
      "language" : "text",
      "source" : [
        "### Apoptosis\n",
        "\n"
      ],
      "outputs" : [
      ]
    },
    {
      "cell_type" : "code",
      "execution_count" : 51,
      "metadata" : {
        "cell.metadata.exec_info" : {
          "startTs" : 1583806958396,
          "endTs" : 1583806959513
        },
        "language" : "scala"
      },
      "language" : "scala",
      "source" : [
        "val apoptosis_cor = makeProCor(apoptosis_goes)\n",
        "html(s\"\"\"<div id=\"apoptosis_cor\"></div>\"\"\")"
      ],
      "outputs" : [
        {
          "data" : {
            "text/html" : [
              "<div id=\"apoptosis_cor\"></div>"
            ]
          },
          "output_type" : "display_data"
        }
      ]
    },
    {
      "cell_type" : "code",
      "execution_count" : 52,
      "metadata" : {
        "cell.metadata.exec_info" : {
          "startTs" : 1583806965040,
          "endTs" : 1583806965363
        },
        "language" : "scala"
      },
      "language" : "scala",
      "source" : [
        "makeHeatCor(apoptosis_cor, \"apoptosis_cor\", \"Apoptosis correlations for liver and kidney\" )"
      ],
      "outputs" : [
        {
          "data" : {
            "text/html" : [
              "<script type=\"text/javascript\" charset=\"utf-8\">\n",
              "var layout = {\n",
              "  title: 'Apoptosis correlations for liver and kidney',\n",
              "  annotations: [],\n",
              "  margin: {\n",
              "    l: 300,\n",
              "    r: 125,\n",
              "    t: 400,\n",
              "    b: 50\n",
              "  },\n",
              "  width: 1800,\n",
              "  height: 1400,\n",
              "  xaxis: {\n",
              "    side: 'top',\n",
              "    tickfont: {\n",
              "      size: 20\n",
              "    },\n",
              "    tickangle: '-30'\n",
              "  },\n",
              "  yaxis: {\n",
              "    side: 'left',\n",
              "    autorange: 'reversed',\n",
              "    tickfont: {\n",
              "      size: 20\n",
              "    }\n",
              "  },\n",
              "};\n",
              "\n",
              "var xValues = [\"Bowhead whale liver\",\"Gray whale liver\",\"Minke whale liver\",\"Human liver\",\"Bat liver\",\"Naked mole rat liver\",\"Cow liver\",\"Mouse liver\",\"Bowhead whale kidney\",\"Gray whale kidney\",\"Minke whale kidney\",\"Human kidney\",\"Bat kidney\",\"Naked mole rat kidney\",\"Cow kidney\",\"Mouse kidney\"]\n",
              "var yValues =  [\"Bowhead whale liver\",\"Gray whale liver\",\"Minke whale liver\",\"Human liver\",\"Bat liver\",\"Naked mole rat liver\",\"Cow liver\",\"Mouse liver\",\"Bowhead whale kidney\",\"Gray whale kidney\",\"Minke whale kidney\",\"Human kidney\",\"Bat kidney\",\"Naked mole rat kidney\",\"Cow kidney\",\"Mouse kidney\"]\n",
              "var zValues =  [[1.0,0.66,0.8,0.69,0.67,0.63,0.56,0.65,0.89,0.74,0.8,0.66,0.69,0.59,0.54,0.56],[0.66,1.0,0.77,0.57,0.42,0.38,0.56,0.51,0.63,0.77,0.62,0.54,0.44,0.41,0.47,0.42],[0.8,0.77,1.0,0.79,0.53,0.47,0.54,0.7,0.8,0.77,0.9,0.76,0.54,0.5,0.48,0.63],[0.69,0.57,0.79,1.0,0.69,0.4,0.71,0.84,0.69,0.58,0.79,0.89,0.66,0.46,0.65,0.72],[0.67,0.42,0.53,0.69,1.0,0.66,0.77,0.75,0.68,0.45,0.57,0.57,0.88,0.61,0.73,0.61],[0.63,0.38,0.47,0.4,0.66,1.0,0.51,0.46,0.79,0.68,0.64,0.55,0.84,0.86,0.66,0.62],[0.56,0.56,0.54,0.71,0.77,0.51,1.0,0.73,0.57,0.45,0.56,0.63,0.69,0.54,0.9,0.6],[0.65,0.51,0.7,0.84,0.75,0.46,0.73,1.0,0.63,0.55,0.7,0.74,0.71,0.47,0.7,0.84],[0.89,0.63,0.8,0.69,0.68,0.79,0.57,0.63,1.0,0.82,0.88,0.74,0.81,0.8,0.64,0.64],[0.74,0.77,0.77,0.58,0.45,0.68,0.45,0.55,0.82,1.0,0.84,0.71,0.64,0.65,0.58,0.7],[0.8,0.62,0.9,0.79,0.57,0.64,0.56,0.7,0.88,0.84,1.0,0.84,0.68,0.68,0.63,0.74],[0.66,0.54,0.76,0.89,0.57,0.55,0.63,0.74,0.74,0.71,0.84,1.0,0.66,0.58,0.7,0.81],[0.69,0.44,0.54,0.66,0.88,0.84,0.69,0.71,0.81,0.64,0.68,0.66,1.0,0.76,0.8,0.72],[0.59,0.41,0.5,0.46,0.61,0.86,0.54,0.47,0.8,0.65,0.68,0.58,0.76,1.0,0.65,0.55],[0.54,0.47,0.48,0.65,0.73,0.66,0.9,0.7,0.64,0.58,0.63,0.7,0.8,0.65,1.0,0.75],[0.56,0.42,0.63,0.72,0.61,0.62,0.6,0.84,0.64,0.7,0.74,0.81,0.72,0.55,0.75,1.0]]\n",
              "var aValues =  [[1.0,0.66,0.8,0.69,0.67,0.63,0.56,0.65,0.89,0.74,0.8,0.66,0.69,0.59,0.54,0.56],[0.66,1.0,0.77,0.57,0.42,0.38,0.56,0.51,0.63,0.77,0.62,0.54,0.44,0.41,0.47,0.42],[0.8,0.77,1.0,0.79,0.53,0.47,0.54,0.7,0.8,0.77,0.9,0.76,0.54,0.5,0.48,0.63],[0.69,0.57,0.79,1.0,0.69,0.4,0.71,0.84,0.69,0.58,0.79,0.89,0.66,0.46,0.65,0.72],[0.67,0.42,0.53,0.69,1.0,0.66,0.77,0.75,0.68,0.45,0.57,0.57,0.88,0.61,0.73,0.61],[0.63,0.38,0.47,0.4,0.66,1.0,0.51,0.46,0.79,0.68,0.64,0.55,0.84,0.86,0.66,0.62],[0.56,0.56,0.54,0.71,0.77,0.51,1.0,0.73,0.57,0.45,0.56,0.63,0.69,0.54,0.9,0.6],[0.65,0.51,0.7,0.84,0.75,0.46,0.73,1.0,0.63,0.55,0.7,0.74,0.71,0.47,0.7,0.84],[0.89,0.63,0.8,0.69,0.68,0.79,0.57,0.63,1.0,0.82,0.88,0.74,0.81,0.8,0.64,0.64],[0.74,0.77,0.77,0.58,0.45,0.68,0.45,0.55,0.82,1.0,0.84,0.71,0.64,0.65,0.58,0.7],[0.8,0.62,0.9,0.79,0.57,0.64,0.56,0.7,0.88,0.84,1.0,0.84,0.68,0.68,0.63,0.74],[0.66,0.54,0.76,0.89,0.57,0.55,0.63,0.74,0.74,0.71,0.84,1.0,0.66,0.58,0.7,0.81],[0.69,0.44,0.54,0.66,0.88,0.84,0.69,0.71,0.81,0.64,0.68,0.66,1.0,0.76,0.8,0.72],[0.59,0.41,0.5,0.46,0.61,0.86,0.54,0.47,0.8,0.65,0.68,0.58,0.76,1.0,0.65,0.55],[0.54,0.47,0.48,0.65,0.73,0.66,0.9,0.7,0.64,0.58,0.63,0.7,0.8,0.65,1.0,0.75],[0.56,0.42,0.63,0.72,0.61,0.62,0.6,0.84,0.64,0.7,0.74,0.81,0.72,0.55,0.75,1.0]]\n",
              "\n",
              "\n",
              "for ( var i = 0; i < yValues.length; i++ ) {\n",
              "  for ( var j = 0; j < xValues.length; j++ ) {\n",
              "    var currentValue = zValues[i][j];\n",
              "    if (currentValue != 0.0) {\n",
              "      var textColor = 'white';\n",
              "    }else{\n",
              "      var textColor = 'black';\n",
              "    }\n",
              "    var result = {\n",
              "      xref: 'x1',\n",
              "      yref: 'y1',\n",
              "      x: xValues[j],\n",
              "      y: yValues[i],\n",
              "      text: aValues[i][j],\n",
              "      font: {\n",
              "        family: 'Arial',\n",
              "        size: 5,\n",
              "        color: 'rgb(50, 171, 96)'\n",
              "      },\n",
              "      showarrow: false,\n",
              "      font: {\n",
              "        color: textColor,\n",
              "        size: '18'\n",
              "      }\n",
              "    };\n",
              "    layout.annotations.push(result);\n",
              "  }\n",
              "}\n",
              "\n",
              "var data = [{\n",
              "   x: xValues,\n",
              "   y: yValues,\n",
              "   z: zValues,\n",
              "   \n",
              "   colorscale: 'RdBu', \n",
              "   type: 'heatmap' \n",
              " }];\n",
              " Plotly.newPlot('apoptosis_cor', data, layout);\n",
              "</script>\n",
              "    <h3>apoptosis_cor heatmap has been displayed</h3>"
            ]
          },
          "output_type" : "display_data"
        }
      ]
    },
    {
      "cell_type" : "code",
      "execution_count" : 53,
      "metadata" : {
        "language" : "scala"
      },
      "language" : "scala",
      "source" : [
        "Ubiquitin"
      ],
      "outputs" : [
      ]
    },
    {
      "cell_type" : "code",
      "execution_count" : 54,
      "metadata" : {
        "cell.metadata.exec_info" : {
          "startTs" : 1583806988482,
          "endTs" : 1583806989277
        },
        "language" : "scala"
      },
      "language" : "scala",
      "source" : [
        "val ubiquitin_cor = makeProCor(ubiquitin_goes)\n",
        "html(s\"\"\"<div id=\"ubiquitin_cor\"></div>\"\"\")"
      ],
      "outputs" : [
        {
          "data" : {
            "text/html" : [
              "<div id=\"ubiquitin_cor\"></div>"
            ]
          },
          "output_type" : "display_data"
        }
      ]
    },
    {
      "cell_type" : "code",
      "execution_count" : 55,
      "metadata" : {
        "cell.metadata.exec_info" : {
          "startTs" : 1583806993119,
          "endTs" : 1583806993439
        },
        "language" : "scala"
      },
      "language" : "scala",
      "source" : [
        "makeHeatCor(ubiquitin_cor, \"ubiquitin_cor\", \"Ubiquitin correlations for liver and kidney\" )"
      ],
      "outputs" : [
        {
          "data" : {
            "text/html" : [
              "<script type=\"text/javascript\" charset=\"utf-8\">\n",
              "var layout = {\n",
              "  title: 'Ubiquitin correlations for liver and kidney',\n",
              "  annotations: [],\n",
              "  margin: {\n",
              "    l: 300,\n",
              "    r: 125,\n",
              "    t: 400,\n",
              "    b: 50\n",
              "  },\n",
              "  width: 1800,\n",
              "  height: 1400,\n",
              "  xaxis: {\n",
              "    side: 'top',\n",
              "    tickfont: {\n",
              "      size: 20\n",
              "    },\n",
              "    tickangle: '-30'\n",
              "  },\n",
              "  yaxis: {\n",
              "    side: 'left',\n",
              "    autorange: 'reversed',\n",
              "    tickfont: {\n",
              "      size: 20\n",
              "    }\n",
              "  },\n",
              "};\n",
              "\n",
              "var xValues = [\"Bowhead whale liver\",\"Gray whale liver\",\"Minke whale liver\",\"Human liver\",\"Bat liver\",\"Naked mole rat liver\",\"Cow liver\",\"Mouse liver\",\"Bowhead whale kidney\",\"Gray whale kidney\",\"Minke whale kidney\",\"Human kidney\",\"Bat kidney\",\"Naked mole rat kidney\",\"Cow kidney\",\"Mouse kidney\"]\n",
              "var yValues =  [\"Bowhead whale liver\",\"Gray whale liver\",\"Minke whale liver\",\"Human liver\",\"Bat liver\",\"Naked mole rat liver\",\"Cow liver\",\"Mouse liver\",\"Bowhead whale kidney\",\"Gray whale kidney\",\"Minke whale kidney\",\"Human kidney\",\"Bat kidney\",\"Naked mole rat kidney\",\"Cow kidney\",\"Mouse kidney\"]\n",
              "var zValues =  [[1.0,0.89,0.87,0.82,0.72,0.92,0.66,0.6,0.93,0.89,0.89,0.85,0.67,0.85,0.63,0.63],[0.89,1.0,0.96,0.92,0.5,0.82,0.39,0.26,0.88,0.96,0.95,0.9,0.46,0.81,0.35,0.32],[0.87,0.96,1.0,0.92,0.58,0.83,0.41,0.29,0.91,0.97,0.98,0.93,0.53,0.83,0.38,0.33],[0.82,0.92,0.92,1.0,0.6,0.86,0.43,0.26,0.92,0.94,0.95,0.97,0.55,0.88,0.42,0.38],[0.72,0.5,0.58,0.6,1.0,0.74,0.85,0.75,0.79,0.6,0.63,0.65,0.97,0.68,0.85,0.81],[0.92,0.82,0.83,0.86,0.74,1.0,0.63,0.56,0.93,0.91,0.9,0.9,0.68,0.94,0.63,0.64],[0.66,0.39,0.41,0.43,0.85,0.63,1.0,0.93,0.63,0.46,0.48,0.49,0.81,0.53,0.99,0.96],[0.6,0.26,0.29,0.26,0.75,0.56,0.93,1.0,0.51,0.36,0.36,0.37,0.71,0.41,0.93,0.97],[0.93,0.88,0.91,0.92,0.79,0.93,0.63,0.51,1.0,0.92,0.94,0.94,0.72,0.93,0.62,0.58],[0.89,0.96,0.97,0.94,0.6,0.91,0.46,0.36,0.92,1.0,0.99,0.96,0.54,0.88,0.44,0.42],[0.89,0.95,0.98,0.95,0.63,0.9,0.48,0.36,0.94,0.99,1.0,0.96,0.57,0.88,0.46,0.42],[0.85,0.9,0.93,0.97,0.65,0.9,0.49,0.37,0.94,0.96,0.96,1.0,0.59,0.88,0.48,0.46],[0.67,0.46,0.53,0.55,0.97,0.68,0.81,0.71,0.72,0.54,0.57,0.59,1.0,0.62,0.82,0.77],[0.85,0.81,0.83,0.88,0.68,0.94,0.53,0.41,0.93,0.88,0.88,0.88,0.62,1.0,0.51,0.5],[0.63,0.35,0.38,0.42,0.85,0.63,0.99,0.93,0.62,0.44,0.46,0.48,0.82,0.51,1.0,0.97],[0.63,0.32,0.33,0.38,0.81,0.64,0.96,0.97,0.58,0.42,0.42,0.46,0.77,0.5,0.97,1.0]]\n",
              "var aValues =  [[1.0,0.89,0.87,0.82,0.72,0.92,0.66,0.6,0.93,0.89,0.89,0.85,0.67,0.85,0.63,0.63],[0.89,1.0,0.96,0.92,0.5,0.82,0.39,0.26,0.88,0.96,0.95,0.9,0.46,0.81,0.35,0.32],[0.87,0.96,1.0,0.92,0.58,0.83,0.41,0.29,0.91,0.97,0.98,0.93,0.53,0.83,0.38,0.33],[0.82,0.92,0.92,1.0,0.6,0.86,0.43,0.26,0.92,0.94,0.95,0.97,0.55,0.88,0.42,0.38],[0.72,0.5,0.58,0.6,1.0,0.74,0.85,0.75,0.79,0.6,0.63,0.65,0.97,0.68,0.85,0.81],[0.92,0.82,0.83,0.86,0.74,1.0,0.63,0.56,0.93,0.91,0.9,0.9,0.68,0.94,0.63,0.64],[0.66,0.39,0.41,0.43,0.85,0.63,1.0,0.93,0.63,0.46,0.48,0.49,0.81,0.53,0.99,0.96],[0.6,0.26,0.29,0.26,0.75,0.56,0.93,1.0,0.51,0.36,0.36,0.37,0.71,0.41,0.93,0.97],[0.93,0.88,0.91,0.92,0.79,0.93,0.63,0.51,1.0,0.92,0.94,0.94,0.72,0.93,0.62,0.58],[0.89,0.96,0.97,0.94,0.6,0.91,0.46,0.36,0.92,1.0,0.99,0.96,0.54,0.88,0.44,0.42],[0.89,0.95,0.98,0.95,0.63,0.9,0.48,0.36,0.94,0.99,1.0,0.96,0.57,0.88,0.46,0.42],[0.85,0.9,0.93,0.97,0.65,0.9,0.49,0.37,0.94,0.96,0.96,1.0,0.59,0.88,0.48,0.46],[0.67,0.46,0.53,0.55,0.97,0.68,0.81,0.71,0.72,0.54,0.57,0.59,1.0,0.62,0.82,0.77],[0.85,0.81,0.83,0.88,0.68,0.94,0.53,0.41,0.93,0.88,0.88,0.88,0.62,1.0,0.51,0.5],[0.63,0.35,0.38,0.42,0.85,0.63,0.99,0.93,0.62,0.44,0.46,0.48,0.82,0.51,1.0,0.97],[0.63,0.32,0.33,0.38,0.81,0.64,0.96,0.97,0.58,0.42,0.42,0.46,0.77,0.5,0.97,1.0]]\n",
              "\n",
              "\n",
              "for ( var i = 0; i < yValues.length; i++ ) {\n",
              "  for ( var j = 0; j < xValues.length; j++ ) {\n",
              "    var currentValue = zValues[i][j];\n",
              "    if (currentValue != 0.0) {\n",
              "      var textColor = 'white';\n",
              "    }else{\n",
              "      var textColor = 'black';\n",
              "    }\n",
              "    var result = {\n",
              "      xref: 'x1',\n",
              "      yref: 'y1',\n",
              "      x: xValues[j],\n",
              "      y: yValues[i],\n",
              "      text: aValues[i][j],\n",
              "      font: {\n",
              "        family: 'Arial',\n",
              "        size: 5,\n",
              "        color: 'rgb(50, 171, 96)'\n",
              "      },\n",
              "      showarrow: false,\n",
              "      font: {\n",
              "        color: textColor,\n",
              "        size: '18'\n",
              "      }\n",
              "    };\n",
              "    layout.annotations.push(result);\n",
              "  }\n",
              "}\n",
              "\n",
              "var data = [{\n",
              "   x: xValues,\n",
              "   y: yValues,\n",
              "   z: zValues,\n",
              "   \n",
              "   colorscale: 'RdBu', \n",
              "   type: 'heatmap' \n",
              " }];\n",
              " Plotly.newPlot('ubiquitin_cor', data, layout);\n",
              "</script>\n",
              "    <h3>ubiquitin_cor heatmap has been displayed</h3>"
            ]
          },
          "output_type" : "display_data"
        }
      ]
    },
    {
      "cell_type" : "markdown",
      "execution_count" : 56,
      "metadata" : {
        "language" : "text"
      },
      "language" : "text",
      "source" : [
        "### Mitochondria\n",
        "\n"
      ],
      "outputs" : [
      ]
    },
    {
      "cell_type" : "markdown",
      "execution_count" : 57,
      "metadata" : {
        "cell.metadata.exec_info" : {
          "startTs" : 1583807925799,
          "endTs" : 1583807926727
        },
        "language" : "text"
      },
      "language" : "text",
      "source" : [
        "val mitochondria_cor = makeProCor(mitochondria_goes)\n",
        "html(s\"\"\"<div id=\"mitochondria_cor\"></div>\"\"\")"
      ],
      "outputs" : [
        {
          "data" : {
            "text/html" : [
              "<div id=\"mitochondria_cor\"></div>"
            ]
          },
          "output_type" : "display_data"
        }
      ]
    },
    {
      "cell_type" : "code",
      "execution_count" : 58,
      "metadata" : {
        "cell.metadata.exec_info" : {
          "startTs" : 1583807927188,
          "endTs" : 1583807927481
        },
        "language" : "scala"
      },
      "language" : "scala",
      "source" : [
        "makeHeatCor(mitochondria_cor, \"mitochondria_cor\", \"Mitochondria correlations for liver and kidney\" )"
      ],
      "outputs" : [
        {
          "data" : {
            "text/html" : [
              "<script type=\"text/javascript\" charset=\"utf-8\">\n",
              "var layout = {\n",
              "  title: 'Mitochondria correlations for liver and kidney',\n",
              "  annotations: [],\n",
              "  margin: {\n",
              "    l: 300,\n",
              "    r: 125,\n",
              "    t: 400,\n",
              "    b: 50\n",
              "  },\n",
              "  width: 1800,\n",
              "  height: 1400,\n",
              "  xaxis: {\n",
              "    side: 'top',\n",
              "    tickfont: {\n",
              "      size: 20\n",
              "    },\n",
              "    tickangle: '-30'\n",
              "  },\n",
              "  yaxis: {\n",
              "    side: 'left',\n",
              "    autorange: 'reversed',\n",
              "    tickfont: {\n",
              "      size: 20\n",
              "    }\n",
              "  },\n",
              "};\n",
              "\n",
              "var xValues = [\"Bowhead whale liver\",\"Gray whale liver\",\"Minke whale liver\",\"Human liver\",\"Bat liver\",\"Naked mole rat liver\",\"Cow liver\",\"Mouse liver\",\"Bowhead whale kidney\",\"Gray whale kidney\",\"Minke whale kidney\",\"Human kidney\",\"Bat kidney\",\"Naked mole rat kidney\",\"Cow kidney\",\"Mouse kidney\"]\n",
              "var yValues =  [\"Bowhead whale liver\",\"Gray whale liver\",\"Minke whale liver\",\"Human liver\",\"Bat liver\",\"Naked mole rat liver\",\"Cow liver\",\"Mouse liver\",\"Bowhead whale kidney\",\"Gray whale kidney\",\"Minke whale kidney\",\"Human kidney\",\"Bat kidney\",\"Naked mole rat kidney\",\"Cow kidney\",\"Mouse kidney\"]\n",
              "var zValues =  [[1.0,0.85,0.89,0.45,0.47,0.6,0.54,0.69,0.9,0.85,0.87,0.55,0.41,0.68,0.64,0.67],[0.85,1.0,0.93,0.46,0.59,0.57,0.65,0.77,0.83,0.9,0.9,0.56,0.53,0.66,0.78,0.78],[0.89,0.93,1.0,0.51,0.47,0.56,0.54,0.78,0.77,0.87,0.94,0.57,0.42,0.71,0.67,0.79],[0.45,0.46,0.51,1.0,0.53,0.58,0.61,0.67,0.49,0.51,0.6,0.96,0.48,0.69,0.64,0.58],[0.47,0.59,0.47,0.53,1.0,0.51,0.67,0.5,0.67,0.53,0.56,0.56,0.98,0.41,0.75,0.53],[0.6,0.57,0.56,0.58,0.51,1.0,0.64,0.69,0.71,0.68,0.68,0.68,0.52,0.69,0.76,0.7],[0.54,0.65,0.54,0.61,0.67,0.64,1.0,0.86,0.66,0.56,0.58,0.66,0.62,0.55,0.92,0.76],[0.69,0.77,0.78,0.67,0.5,0.69,0.86,1.0,0.68,0.67,0.78,0.71,0.47,0.77,0.84,0.87],[0.9,0.83,0.77,0.49,0.67,0.71,0.66,0.68,1.0,0.85,0.84,0.62,0.62,0.62,0.75,0.64],[0.85,0.9,0.87,0.51,0.53,0.68,0.56,0.67,0.85,1.0,0.9,0.62,0.46,0.68,0.73,0.74],[0.87,0.9,0.94,0.6,0.56,0.68,0.58,0.78,0.84,0.9,1.0,0.67,0.52,0.7,0.71,0.8],[0.55,0.56,0.57,0.96,0.56,0.68,0.66,0.71,0.62,0.62,0.67,1.0,0.51,0.71,0.72,0.62],[0.41,0.53,0.42,0.48,0.98,0.52,0.62,0.47,0.62,0.46,0.52,0.51,1.0,0.42,0.7,0.48],[0.68,0.66,0.71,0.69,0.41,0.69,0.55,0.77,0.62,0.68,0.7,0.71,0.42,1.0,0.65,0.63],[0.64,0.78,0.67,0.64,0.75,0.76,0.92,0.84,0.75,0.73,0.71,0.72,0.7,0.65,1.0,0.83],[0.67,0.78,0.79,0.58,0.53,0.7,0.76,0.87,0.64,0.74,0.8,0.62,0.48,0.63,0.83,1.0]]\n",
              "var aValues =  [[1.0,0.85,0.89,0.45,0.47,0.6,0.54,0.69,0.9,0.85,0.87,0.55,0.41,0.68,0.64,0.67],[0.85,1.0,0.93,0.46,0.59,0.57,0.65,0.77,0.83,0.9,0.9,0.56,0.53,0.66,0.78,0.78],[0.89,0.93,1.0,0.51,0.47,0.56,0.54,0.78,0.77,0.87,0.94,0.57,0.42,0.71,0.67,0.79],[0.45,0.46,0.51,1.0,0.53,0.58,0.61,0.67,0.49,0.51,0.6,0.96,0.48,0.69,0.64,0.58],[0.47,0.59,0.47,0.53,1.0,0.51,0.67,0.5,0.67,0.53,0.56,0.56,0.98,0.41,0.75,0.53],[0.6,0.57,0.56,0.58,0.51,1.0,0.64,0.69,0.71,0.68,0.68,0.68,0.52,0.69,0.76,0.7],[0.54,0.65,0.54,0.61,0.67,0.64,1.0,0.86,0.66,0.56,0.58,0.66,0.62,0.55,0.92,0.76],[0.69,0.77,0.78,0.67,0.5,0.69,0.86,1.0,0.68,0.67,0.78,0.71,0.47,0.77,0.84,0.87],[0.9,0.83,0.77,0.49,0.67,0.71,0.66,0.68,1.0,0.85,0.84,0.62,0.62,0.62,0.75,0.64],[0.85,0.9,0.87,0.51,0.53,0.68,0.56,0.67,0.85,1.0,0.9,0.62,0.46,0.68,0.73,0.74],[0.87,0.9,0.94,0.6,0.56,0.68,0.58,0.78,0.84,0.9,1.0,0.67,0.52,0.7,0.71,0.8],[0.55,0.56,0.57,0.96,0.56,0.68,0.66,0.71,0.62,0.62,0.67,1.0,0.51,0.71,0.72,0.62],[0.41,0.53,0.42,0.48,0.98,0.52,0.62,0.47,0.62,0.46,0.52,0.51,1.0,0.42,0.7,0.48],[0.68,0.66,0.71,0.69,0.41,0.69,0.55,0.77,0.62,0.68,0.7,0.71,0.42,1.0,0.65,0.63],[0.64,0.78,0.67,0.64,0.75,0.76,0.92,0.84,0.75,0.73,0.71,0.72,0.7,0.65,1.0,0.83],[0.67,0.78,0.79,0.58,0.53,0.7,0.76,0.87,0.64,0.74,0.8,0.62,0.48,0.63,0.83,1.0]]\n",
              "\n",
              "\n",
              "for ( var i = 0; i < yValues.length; i++ ) {\n",
              "  for ( var j = 0; j < xValues.length; j++ ) {\n",
              "    var currentValue = zValues[i][j];\n",
              "    if (currentValue != 0.0) {\n",
              "      var textColor = 'white';\n",
              "    }else{\n",
              "      var textColor = 'black';\n",
              "    }\n",
              "    var result = {\n",
              "      xref: 'x1',\n",
              "      yref: 'y1',\n",
              "      x: xValues[j],\n",
              "      y: yValues[i],\n",
              "      text: aValues[i][j],\n",
              "      font: {\n",
              "        family: 'Arial',\n",
              "        size: 5,\n",
              "        color: 'rgb(50, 171, 96)'\n",
              "      },\n",
              "      showarrow: false,\n",
              "      font: {\n",
              "        color: textColor,\n",
              "        size: '18'\n",
              "      }\n",
              "    };\n",
              "    layout.annotations.push(result);\n",
              "  }\n",
              "}\n",
              "\n",
              "var data = [{\n",
              "   x: xValues,\n",
              "   y: yValues,\n",
              "   z: zValues,\n",
              "   \n",
              "   colorscale: 'RdBu', \n",
              "   type: 'heatmap' \n",
              " }];\n",
              " Plotly.newPlot('mitochondria_cor', data, layout);\n",
              "</script>\n",
              "    <h3>mitochondria_cor heatmap has been displayed</h3>"
            ]
          },
          "output_type" : "display_data"
        }
      ]
    },
    {
      "cell_type" : "markdown",
      "execution_count" : 59,
      "metadata" : {
        "language" : "text"
      },
      "language" : "text",
      "source" : [
        "### ATP correlations\n",
        "\n"
      ],
      "outputs" : [
      ]
    },
    {
      "cell_type" : "code",
      "execution_count" : 60,
      "metadata" : {
        "cell.metadata.exec_info" : {
          "startTs" : 1583807936274,
          "endTs" : 1583807937214
        },
        "language" : "scala"
      },
      "language" : "scala",
      "source" : [
        "val atp_cor = makeProCor(atp_goes)\n",
        "html(s\"\"\"<div id=\"atp_cor\"></div>\"\"\")"
      ],
      "outputs" : [
        {
          "data" : {
            "text/html" : [
              "<div id=\"atp_cor\"></div>"
            ]
          },
          "output_type" : "display_data"
        }
      ]
    },
    {
      "cell_type" : "code",
      "execution_count" : 61,
      "metadata" : {
        "cell.metadata.exec_info" : {
          "startTs" : 1583807941005,
          "endTs" : 1583807941390
        },
        "language" : "scala"
      },
      "language" : "scala",
      "source" : [
        "makeHeatCor(atp_cor, \"atp_cor\", \"ATP correlations for liver and kidney\" )"
      ],
      "outputs" : [
        {
          "data" : {
            "text/html" : [
              "<script type=\"text/javascript\" charset=\"utf-8\">\n",
              "var layout = {\n",
              "  title: 'ATP correlations for liver and kidney',\n",
              "  annotations: [],\n",
              "  margin: {\n",
              "    l: 300,\n",
              "    r: 125,\n",
              "    t: 400,\n",
              "    b: 50\n",
              "  },\n",
              "  width: 1800,\n",
              "  height: 1400,\n",
              "  xaxis: {\n",
              "    side: 'top',\n",
              "    tickfont: {\n",
              "      size: 20\n",
              "    },\n",
              "    tickangle: '-30'\n",
              "  },\n",
              "  yaxis: {\n",
              "    side: 'left',\n",
              "    autorange: 'reversed',\n",
              "    tickfont: {\n",
              "      size: 20\n",
              "    }\n",
              "  },\n",
              "};\n",
              "\n",
              "var xValues = [\"Bowhead whale liver\",\"Gray whale liver\",\"Minke whale liver\",\"Human liver\",\"Bat liver\",\"Naked mole rat liver\",\"Cow liver\",\"Mouse liver\",\"Bowhead whale kidney\",\"Gray whale kidney\",\"Minke whale kidney\",\"Human kidney\",\"Bat kidney\",\"Naked mole rat kidney\",\"Cow kidney\",\"Mouse kidney\"]\n",
              "var yValues =  [\"Bowhead whale liver\",\"Gray whale liver\",\"Minke whale liver\",\"Human liver\",\"Bat liver\",\"Naked mole rat liver\",\"Cow liver\",\"Mouse liver\",\"Bowhead whale kidney\",\"Gray whale kidney\",\"Minke whale kidney\",\"Human kidney\",\"Bat kidney\",\"Naked mole rat kidney\",\"Cow kidney\",\"Mouse kidney\"]\n",
              "var zValues =  [[1.0,0.84,0.93,0.31,0.2,0.36,0.49,0.52,0.88,0.85,0.93,0.31,0.2,0.73,0.48,0.55],[0.84,1.0,0.84,0.54,0.21,0.46,0.62,0.64,0.74,0.98,0.87,0.61,0.27,0.66,0.64,0.74],[0.93,0.84,1.0,0.4,0.24,0.3,0.6,0.5,0.85,0.85,0.98,0.44,0.28,0.81,0.56,0.56],[0.31,0.54,0.4,1.0,0.36,0.43,0.69,0.67,0.25,0.56,0.37,0.96,0.42,0.55,0.57,0.71],[0.2,0.21,0.24,0.36,1.0,0.54,0.36,0.25,0.23,0.24,0.28,0.32,0.94,0.51,0.38,0.21],[0.36,0.46,0.3,0.43,0.54,1.0,0.43,0.24,0.49,0.52,0.37,0.48,0.65,0.61,0.51,0.36],[0.49,0.62,0.6,0.69,0.36,0.43,1.0,0.75,0.53,0.6,0.54,0.68,0.44,0.68,0.94,0.78],[0.52,0.64,0.5,0.67,0.25,0.24,0.75,1.0,0.32,0.6,0.48,0.62,0.3,0.53,0.7,0.96],[0.88,0.74,0.85,0.25,0.23,0.49,0.53,0.32,1.0,0.78,0.83,0.27,0.24,0.67,0.57,0.41],[0.85,0.98,0.85,0.56,0.24,0.52,0.6,0.6,0.78,1.0,0.89,0.62,0.3,0.71,0.62,0.71],[0.93,0.87,0.98,0.37,0.28,0.37,0.54,0.48,0.83,0.89,1.0,0.43,0.31,0.79,0.5,0.54],[0.31,0.61,0.44,0.96,0.32,0.48,0.68,0.62,0.27,0.62,0.43,1.0,0.42,0.56,0.61,0.71],[0.2,0.27,0.28,0.42,0.94,0.65,0.44,0.3,0.24,0.3,0.31,0.42,1.0,0.58,0.46,0.31],[0.73,0.66,0.81,0.55,0.51,0.61,0.68,0.53,0.67,0.71,0.79,0.56,0.58,1.0,0.63,0.55],[0.48,0.64,0.56,0.57,0.38,0.51,0.94,0.7,0.57,0.62,0.5,0.61,0.46,0.63,1.0,0.77],[0.55,0.74,0.56,0.71,0.21,0.36,0.78,0.96,0.41,0.71,0.54,0.71,0.31,0.55,0.77,1.0]]\n",
              "var aValues =  [[1.0,0.84,0.93,0.31,0.2,0.36,0.49,0.52,0.88,0.85,0.93,0.31,0.2,0.73,0.48,0.55],[0.84,1.0,0.84,0.54,0.21,0.46,0.62,0.64,0.74,0.98,0.87,0.61,0.27,0.66,0.64,0.74],[0.93,0.84,1.0,0.4,0.24,0.3,0.6,0.5,0.85,0.85,0.98,0.44,0.28,0.81,0.56,0.56],[0.31,0.54,0.4,1.0,0.36,0.43,0.69,0.67,0.25,0.56,0.37,0.96,0.42,0.55,0.57,0.71],[0.2,0.21,0.24,0.36,1.0,0.54,0.36,0.25,0.23,0.24,0.28,0.32,0.94,0.51,0.38,0.21],[0.36,0.46,0.3,0.43,0.54,1.0,0.43,0.24,0.49,0.52,0.37,0.48,0.65,0.61,0.51,0.36],[0.49,0.62,0.6,0.69,0.36,0.43,1.0,0.75,0.53,0.6,0.54,0.68,0.44,0.68,0.94,0.78],[0.52,0.64,0.5,0.67,0.25,0.24,0.75,1.0,0.32,0.6,0.48,0.62,0.3,0.53,0.7,0.96],[0.88,0.74,0.85,0.25,0.23,0.49,0.53,0.32,1.0,0.78,0.83,0.27,0.24,0.67,0.57,0.41],[0.85,0.98,0.85,0.56,0.24,0.52,0.6,0.6,0.78,1.0,0.89,0.62,0.3,0.71,0.62,0.71],[0.93,0.87,0.98,0.37,0.28,0.37,0.54,0.48,0.83,0.89,1.0,0.43,0.31,0.79,0.5,0.54],[0.31,0.61,0.44,0.96,0.32,0.48,0.68,0.62,0.27,0.62,0.43,1.0,0.42,0.56,0.61,0.71],[0.2,0.27,0.28,0.42,0.94,0.65,0.44,0.3,0.24,0.3,0.31,0.42,1.0,0.58,0.46,0.31],[0.73,0.66,0.81,0.55,0.51,0.61,0.68,0.53,0.67,0.71,0.79,0.56,0.58,1.0,0.63,0.55],[0.48,0.64,0.56,0.57,0.38,0.51,0.94,0.7,0.57,0.62,0.5,0.61,0.46,0.63,1.0,0.77],[0.55,0.74,0.56,0.71,0.21,0.36,0.78,0.96,0.41,0.71,0.54,0.71,0.31,0.55,0.77,1.0]]\n",
              "\n",
              "\n",
              "for ( var i = 0; i < yValues.length; i++ ) {\n",
              "  for ( var j = 0; j < xValues.length; j++ ) {\n",
              "    var currentValue = zValues[i][j];\n",
              "    if (currentValue != 0.0) {\n",
              "      var textColor = 'white';\n",
              "    }else{\n",
              "      var textColor = 'black';\n",
              "    }\n",
              "    var result = {\n",
              "      xref: 'x1',\n",
              "      yref: 'y1',\n",
              "      x: xValues[j],\n",
              "      y: yValues[i],\n",
              "      text: aValues[i][j],\n",
              "      font: {\n",
              "        family: 'Arial',\n",
              "        size: 5,\n",
              "        color: 'rgb(50, 171, 96)'\n",
              "      },\n",
              "      showarrow: false,\n",
              "      font: {\n",
              "        color: textColor,\n",
              "        size: '18'\n",
              "      }\n",
              "    };\n",
              "    layout.annotations.push(result);\n",
              "  }\n",
              "}\n",
              "\n",
              "var data = [{\n",
              "   x: xValues,\n",
              "   y: yValues,\n",
              "   z: zValues,\n",
              "   \n",
              "   colorscale: 'RdBu', \n",
              "   type: 'heatmap' \n",
              " }];\n",
              " Plotly.newPlot('atp_cor', data, layout);\n",
              "</script>\n",
              "    <h3>atp_cor heatmap has been displayed</h3>"
            ]
          },
          "output_type" : "display_data"
        }
      ]
    },
    {
      "cell_type" : "markdown",
      "execution_count" : 62,
      "metadata" : {
        "language" : "text"
      },
      "language" : "text",
      "source" : [
        "### NAD goes\n",
        "\n"
      ],
      "outputs" : [
      ]
    },
    {
      "cell_type" : "code",
      "execution_count" : 63,
      "metadata" : {
        "cell.metadata.exec_info" : {
          "startTs" : 1583807948946,
          "endTs" : 1583807949651
        },
        "language" : "scala"
      },
      "language" : "scala",
      "source" : [
        "val nad_cor = makeProCor(nad_goes)\n",
        "html(s\"\"\"<div id=\"nad_cor\"></div>\"\"\")"
      ],
      "outputs" : [
        {
          "data" : {
            "text/html" : [
              "<div id=\"nad_cor\"></div>"
            ]
          },
          "output_type" : "display_data"
        }
      ]
    },
    {
      "cell_type" : "code",
      "execution_count" : 64,
      "metadata" : {
        "cell.metadata.exec_info" : {
          "startTs" : 1583807954015,
          "endTs" : 1583807954279
        },
        "language" : "scala"
      },
      "language" : "scala",
      "source" : [
        "makeHeatCor(nad_cor, \"nad_cor\", \"NAD correlations for liver and kidney\" )"
      ],
      "outputs" : [
        {
          "data" : {
            "text/html" : [
              "<script type=\"text/javascript\" charset=\"utf-8\">\n",
              "var layout = {\n",
              "  title: 'NAD correlations for liver and kidney',\n",
              "  annotations: [],\n",
              "  margin: {\n",
              "    l: 300,\n",
              "    r: 125,\n",
              "    t: 400,\n",
              "    b: 50\n",
              "  },\n",
              "  width: 1800,\n",
              "  height: 1400,\n",
              "  xaxis: {\n",
              "    side: 'top',\n",
              "    tickfont: {\n",
              "      size: 20\n",
              "    },\n",
              "    tickangle: '-30'\n",
              "  },\n",
              "  yaxis: {\n",
              "    side: 'left',\n",
              "    autorange: 'reversed',\n",
              "    tickfont: {\n",
              "      size: 20\n",
              "    }\n",
              "  },\n",
              "};\n",
              "\n",
              "var xValues = [\"Bowhead whale liver\",\"Gray whale liver\",\"Minke whale liver\",\"Human liver\",\"Bat liver\",\"Naked mole rat liver\",\"Cow liver\",\"Mouse liver\",\"Bowhead whale kidney\",\"Gray whale kidney\",\"Minke whale kidney\",\"Human kidney\",\"Bat kidney\",\"Naked mole rat kidney\",\"Cow kidney\",\"Mouse kidney\"]\n",
              "var yValues =  [\"Bowhead whale liver\",\"Gray whale liver\",\"Minke whale liver\",\"Human liver\",\"Bat liver\",\"Naked mole rat liver\",\"Cow liver\",\"Mouse liver\",\"Bowhead whale kidney\",\"Gray whale kidney\",\"Minke whale kidney\",\"Human kidney\",\"Bat kidney\",\"Naked mole rat kidney\",\"Cow kidney\",\"Mouse kidney\"]\n",
              "var zValues =  [[1.0,0.6,1.0,0.4,-0.4,-0.8,-0.4,0.2,0.8,0.8,1.0,1.0,-0.8,0.2,0.4,0.8],[0.6,1.0,0.6,0.4,0.4,-0.8,-0.4,-0.2,0.8,0.8,0.6,0.6,-0.8,-0.2,-0.4,0.0],[1.0,0.6,1.0,0.4,-0.4,-0.8,-0.4,0.2,0.8,0.8,1.0,1.0,-0.8,0.2,0.4,0.8],[0.4,0.4,0.4,1.0,-0.4,-0.8,0.6,0.8,0.0,0.0,0.4,0.4,-0.8,0.8,0.4,0.2],[-0.4,0.4,-0.4,-0.4,1.0,0.2,-0.4,-0.8,0.2,0.2,-0.4,-0.4,0.2,-0.8,-1.0,-0.8],[-0.8,-0.8,-0.8,-0.8,0.2,1.0,0.0,-0.4,-0.6,-0.6,-0.8,-0.8,1.0,-0.4,-0.2,-0.4],[-0.4,-0.4,-0.4,0.6,-0.4,0.0,1.0,0.8,-0.8,-0.8,-0.4,-0.4,0.0,0.8,0.4,-0.2],[0.2,-0.2,0.2,0.8,-0.8,-0.4,0.8,1.0,-0.4,-0.4,0.2,0.2,-0.4,1.0,0.8,0.4],[0.8,0.8,0.8,0.0,0.2,-0.6,-0.8,-0.4,1.0,1.0,0.8,0.8,-0.6,-0.4,-0.2,0.4],[0.8,0.8,0.8,0.0,0.2,-0.6,-0.8,-0.4,1.0,1.0,0.8,0.8,-0.6,-0.4,-0.2,0.4],[1.0,0.6,1.0,0.4,-0.4,-0.8,-0.4,0.2,0.8,0.8,1.0,1.0,-0.8,0.2,0.4,0.8],[1.0,0.6,1.0,0.4,-0.4,-0.8,-0.4,0.2,0.8,0.8,1.0,1.0,-0.8,0.2,0.4,0.8],[-0.8,-0.8,-0.8,-0.8,0.2,1.0,0.0,-0.4,-0.6,-0.6,-0.8,-0.8,1.0,-0.4,-0.2,-0.4],[0.2,-0.2,0.2,0.8,-0.8,-0.4,0.8,1.0,-0.4,-0.4,0.2,0.2,-0.4,1.0,0.8,0.4],[0.4,-0.4,0.4,0.4,-1.0,-0.2,0.4,0.8,-0.2,-0.2,0.4,0.4,-0.2,0.8,1.0,0.8],[0.8,0.0,0.8,0.2,-0.8,-0.4,-0.2,0.4,0.4,0.4,0.8,0.8,-0.4,0.4,0.8,1.0]]\n",
              "var aValues =  [[1.0,0.6,1.0,0.4,-0.4,-0.8,-0.4,0.2,0.8,0.8,1.0,1.0,-0.8,0.2,0.4,0.8],[0.6,1.0,0.6,0.4,0.4,-0.8,-0.4,-0.2,0.8,0.8,0.6,0.6,-0.8,-0.2,-0.4,0.0],[1.0,0.6,1.0,0.4,-0.4,-0.8,-0.4,0.2,0.8,0.8,1.0,1.0,-0.8,0.2,0.4,0.8],[0.4,0.4,0.4,1.0,-0.4,-0.8,0.6,0.8,0.0,0.0,0.4,0.4,-0.8,0.8,0.4,0.2],[-0.4,0.4,-0.4,-0.4,1.0,0.2,-0.4,-0.8,0.2,0.2,-0.4,-0.4,0.2,-0.8,-1.0,-0.8],[-0.8,-0.8,-0.8,-0.8,0.2,1.0,0.0,-0.4,-0.6,-0.6,-0.8,-0.8,1.0,-0.4,-0.2,-0.4],[-0.4,-0.4,-0.4,0.6,-0.4,0.0,1.0,0.8,-0.8,-0.8,-0.4,-0.4,0.0,0.8,0.4,-0.2],[0.2,-0.2,0.2,0.8,-0.8,-0.4,0.8,1.0,-0.4,-0.4,0.2,0.2,-0.4,1.0,0.8,0.4],[0.8,0.8,0.8,0.0,0.2,-0.6,-0.8,-0.4,1.0,1.0,0.8,0.8,-0.6,-0.4,-0.2,0.4],[0.8,0.8,0.8,0.0,0.2,-0.6,-0.8,-0.4,1.0,1.0,0.8,0.8,-0.6,-0.4,-0.2,0.4],[1.0,0.6,1.0,0.4,-0.4,-0.8,-0.4,0.2,0.8,0.8,1.0,1.0,-0.8,0.2,0.4,0.8],[1.0,0.6,1.0,0.4,-0.4,-0.8,-0.4,0.2,0.8,0.8,1.0,1.0,-0.8,0.2,0.4,0.8],[-0.8,-0.8,-0.8,-0.8,0.2,1.0,0.0,-0.4,-0.6,-0.6,-0.8,-0.8,1.0,-0.4,-0.2,-0.4],[0.2,-0.2,0.2,0.8,-0.8,-0.4,0.8,1.0,-0.4,-0.4,0.2,0.2,-0.4,1.0,0.8,0.4],[0.4,-0.4,0.4,0.4,-1.0,-0.2,0.4,0.8,-0.2,-0.2,0.4,0.4,-0.2,0.8,1.0,0.8],[0.8,0.0,0.8,0.2,-0.8,-0.4,-0.2,0.4,0.4,0.4,0.8,0.8,-0.4,0.4,0.8,1.0]]\n",
              "\n",
              "\n",
              "for ( var i = 0; i < yValues.length; i++ ) {\n",
              "  for ( var j = 0; j < xValues.length; j++ ) {\n",
              "    var currentValue = zValues[i][j];\n",
              "    if (currentValue != 0.0) {\n",
              "      var textColor = 'white';\n",
              "    }else{\n",
              "      var textColor = 'black';\n",
              "    }\n",
              "    var result = {\n",
              "      xref: 'x1',\n",
              "      yref: 'y1',\n",
              "      x: xValues[j],\n",
              "      y: yValues[i],\n",
              "      text: aValues[i][j],\n",
              "      font: {\n",
              "        family: 'Arial',\n",
              "        size: 5,\n",
              "        color: 'rgb(50, 171, 96)'\n",
              "      },\n",
              "      showarrow: false,\n",
              "      font: {\n",
              "        color: textColor,\n",
              "        size: '18'\n",
              "      }\n",
              "    };\n",
              "    layout.annotations.push(result);\n",
              "  }\n",
              "}\n",
              "\n",
              "var data = [{\n",
              "   x: xValues,\n",
              "   y: yValues,\n",
              "   z: zValues,\n",
              "   \n",
              "   colorscale: 'RdBu', \n",
              "   type: 'heatmap' \n",
              " }];\n",
              " Plotly.newPlot('nad_cor', data, layout);\n",
              "</script>\n",
              "    <h3>nad_cor heatmap has been displayed</h3>"
            ]
          },
          "output_type" : "display_data"
        }
      ]
    },
    {
      "cell_type" : "markdown",
      "execution_count" : 65,
      "metadata" : {
        "language" : "text"
      },
      "language" : "text",
      "source" : [
        "### Wounds healing correlations\n",
        "\n"
      ],
      "outputs" : [
      ]
    },
    {
      "cell_type" : "code",
      "execution_count" : 66,
      "metadata" : {
        "cell.metadata.exec_info" : {
          "startTs" : 1582594685225,
          "endTs" : 1582594686210
        },
        "language" : "scala"
      },
      "language" : "scala",
      "source" : [
        "val wounds_cor = makeProCor(wounds_goes)\n",
        "html(s\"\"\"<div id=\"wounds_cor\"></div>\"\"\")"
      ],
      "outputs" : [
        {
          "data" : {
            "text/html" : [
              "<div id=\"wounds_cor\"></div>"
            ]
          },
          "output_type" : "display_data"
        }
      ]
    },
    {
      "cell_type" : "code",
      "execution_count" : 67,
      "metadata" : {
        "cell.metadata.exec_info" : {
          "startTs" : 1582594688193,
          "endTs" : 1582594688577
        },
        "language" : "scala"
      },
      "language" : "scala",
      "source" : [
        "html(makeHeatCor(wounds_cor, \"wounds_cor\", \"Wound healing correlations for liver and kidney\" ))"
      ],
      "outputs" : [
        {
          "data" : {
            "text/html" : [
              "<script type=\"text/javascript\" charset=\"utf-8\">\n",
              "var layout = {\n",
              "  title: 'Wound healing correlations for liver and kidney',\n",
              "  annotations: [],\n",
              "  margin: {\n",
              "    l: 300,\n",
              "    r: 125,\n",
              "    t: 400,\n",
              "    b: 50\n",
              "  },\n",
              "  width: 1800,\n",
              "  height: 1400,\n",
              "  xaxis: {\n",
              "    side: 'top',\n",
              "    tickfont: {\n",
              "      size: 20\n",
              "    },\n",
              "    tickangle: '-30'\n",
              "  },\n",
              "  yaxis: {\n",
              "    side: 'left',\n",
              "    autorange: 'reversed',\n",
              "    tickfont: {\n",
              "      size: 20\n",
              "    }\n",
              "  },\n",
              "};\n",
              "\n",
              "var xValues = [\"Bowhead whale liver\",\"Gray whale liver\",\"Minke whale liver\",\"Human liver\",\"Bat 1 liver\",\"Bat 2 liver\",\"Naked mole rat liver\",\"Cow 1 liver\",\"Cow 2 liver\",\"Mouse 1 liver\",\"Mouse 2 liver\",\"Bowhead whale kidney\",\"Gray whale kidney\",\"Minke whale kidney\",\"Human kidney\",\"Bat 1 kidney\",\"Bat 2 kidney\",\"Naked mole rat kidney\",\"Cow 1 kidney\",\"Cow 2 kidney\",\"Mouse 1 kidney\",\"Mouse 2 kidney\"]\n",
              "var yValues =  [\"Bowhead whale liver\",\"Gray whale liver\",\"Minke whale liver\",\"Human liver\",\"Bat 1 liver\",\"Bat 2 liver\",\"Naked mole rat liver\",\"Cow 1 liver\",\"Cow 2 liver\",\"Mouse 1 liver\",\"Mouse 2 liver\",\"Bowhead whale kidney\",\"Gray whale kidney\",\"Minke whale kidney\",\"Human kidney\",\"Bat 1 kidney\",\"Bat 2 kidney\",\"Naked mole rat kidney\",\"Cow 1 kidney\",\"Cow 2 kidney\",\"Mouse 1 kidney\",\"Mouse 2 kidney\"]\n",
              "var zValues =  [[1.0,0.68,0.23,0.78,0.12,0.08,0.68,0.57,0.53,0.55,0.6,0.88,0.77,0.65,0.62,0.3,0.22,0.5,0.57,0.53,0.5,0.55],[0.68,1.0,0.62,0.72,0.27,0.33,0.75,0.63,0.88,0.83,0.7,0.62,0.92,0.62,0.8,0.02,0.05,0.67,0.72,0.55,0.72,0.75],[0.23,0.62,1.0,0.27,0.18,0.23,0.72,0.62,0.7,0.57,0.27,0.43,0.52,0.75,0.68,0.22,0.33,0.63,0.7,0.63,0.53,0.47],[0.78,0.72,0.27,1.0,0.23,0.3,0.73,0.23,0.47,0.62,0.67,0.77,0.82,0.5,0.53,0.38,0.33,0.58,0.38,0.37,0.43,0.55],[0.12,0.27,0.18,0.23,1.0,0.98,0.25,0.27,0.48,0.47,0.32,0.23,0.28,0.3,0.37,0.62,0.63,-0.03,0.17,0.0,0.22,0.18],[0.08,0.33,0.23,0.3,0.98,1.0,0.3,0.23,0.52,0.52,0.35,0.22,0.33,0.28,0.38,0.58,0.62,0.05,0.18,0.02,0.25,0.23],[0.68,0.75,0.72,0.73,0.25,0.3,1.0,0.72,0.77,0.77,0.58,0.88,0.78,0.88,0.83,0.52,0.55,0.9,0.85,0.83,0.7,0.72],[0.57,0.63,0.62,0.23,0.27,0.23,0.72,1.0,0.85,0.65,0.38,0.65,0.53,0.78,0.8,0.27,0.32,0.63,0.95,0.83,0.73,0.65],[0.53,0.88,0.7,0.47,0.48,0.52,0.77,0.85,1.0,0.88,0.63,0.6,0.78,0.73,0.9,0.2,0.27,0.67,0.87,0.67,0.8,0.77],[0.55,0.83,0.57,0.62,0.47,0.52,0.77,0.65,0.88,1.0,0.9,0.65,0.82,0.65,0.95,0.28,0.32,0.63,0.73,0.47,0.9,0.92],[0.6,0.7,0.27,0.67,0.32,0.35,0.58,0.38,0.63,0.9,1.0,0.62,0.78,0.47,0.82,0.18,0.15,0.45,0.47,0.2,0.78,0.85],[0.88,0.62,0.43,0.77,0.23,0.22,0.88,0.65,0.6,0.65,0.62,1.0,0.77,0.87,0.75,0.58,0.53,0.72,0.7,0.72,0.57,0.6],[0.77,0.92,0.52,0.82,0.28,0.33,0.78,0.53,0.78,0.82,0.78,0.77,1.0,0.72,0.8,0.15,0.13,0.7,0.62,0.53,0.6,0.67],[0.65,0.62,0.75,0.5,0.3,0.28,0.88,0.78,0.73,0.65,0.47,0.87,0.72,1.0,0.82,0.52,0.53,0.75,0.8,0.82,0.55,0.52],[0.62,0.8,0.68,0.53,0.37,0.38,0.83,0.8,0.9,0.95,0.82,0.75,0.8,0.82,1.0,0.32,0.35,0.7,0.85,0.63,0.9,0.88],[0.3,0.02,0.22,0.38,0.62,0.58,0.52,0.27,0.2,0.28,0.18,0.58,0.15,0.52,0.32,1.0,0.98,0.23,0.27,0.3,0.18,0.17],[0.22,0.05,0.33,0.33,0.63,0.62,0.55,0.32,0.27,0.32,0.15,0.53,0.13,0.53,0.35,0.98,1.0,0.28,0.33,0.35,0.23,0.2],[0.5,0.67,0.63,0.58,-0.03,0.05,0.9,0.63,0.67,0.63,0.45,0.72,0.7,0.75,0.7,0.23,0.28,1.0,0.82,0.88,0.6,0.63],[0.57,0.72,0.7,0.38,0.17,0.18,0.85,0.95,0.87,0.73,0.47,0.7,0.62,0.8,0.85,0.27,0.33,0.82,1.0,0.9,0.82,0.77],[0.53,0.55,0.63,0.37,0.0,0.02,0.83,0.83,0.67,0.47,0.2,0.72,0.53,0.82,0.63,0.3,0.35,0.88,0.9,1.0,0.52,0.48],[0.5,0.72,0.53,0.43,0.22,0.25,0.7,0.73,0.8,0.9,0.78,0.57,0.6,0.55,0.9,0.18,0.23,0.6,0.82,0.52,1.0,0.98],[0.55,0.75,0.47,0.55,0.18,0.23,0.72,0.65,0.77,0.92,0.85,0.6,0.67,0.52,0.88,0.17,0.2,0.63,0.77,0.48,0.98,1.0]]\n",
              "var aValues =  [[1.0,0.68,0.23,0.78,0.12,0.08,0.68,0.57,0.53,0.55,0.6,0.88,0.77,0.65,0.62,0.3,0.22,0.5,0.57,0.53,0.5,0.55],[0.68,1.0,0.62,0.72,0.27,0.33,0.75,0.63,0.88,0.83,0.7,0.62,0.92,0.62,0.8,0.02,0.05,0.67,0.72,0.55,0.72,0.75],[0.23,0.62,1.0,0.27,0.18,0.23,0.72,0.62,0.7,0.57,0.27,0.43,0.52,0.75,0.68,0.22,0.33,0.63,0.7,0.63,0.53,0.47],[0.78,0.72,0.27,1.0,0.23,0.3,0.73,0.23,0.47,0.62,0.67,0.77,0.82,0.5,0.53,0.38,0.33,0.58,0.38,0.37,0.43,0.55],[0.12,0.27,0.18,0.23,1.0,0.98,0.25,0.27,0.48,0.47,0.32,0.23,0.28,0.3,0.37,0.62,0.63,-0.03,0.17,0.0,0.22,0.18],[0.08,0.33,0.23,0.3,0.98,1.0,0.3,0.23,0.52,0.52,0.35,0.22,0.33,0.28,0.38,0.58,0.62,0.05,0.18,0.02,0.25,0.23],[0.68,0.75,0.72,0.73,0.25,0.3,1.0,0.72,0.77,0.77,0.58,0.88,0.78,0.88,0.83,0.52,0.55,0.9,0.85,0.83,0.7,0.72],[0.57,0.63,0.62,0.23,0.27,0.23,0.72,1.0,0.85,0.65,0.38,0.65,0.53,0.78,0.8,0.27,0.32,0.63,0.95,0.83,0.73,0.65],[0.53,0.88,0.7,0.47,0.48,0.52,0.77,0.85,1.0,0.88,0.63,0.6,0.78,0.73,0.9,0.2,0.27,0.67,0.87,0.67,0.8,0.77],[0.55,0.83,0.57,0.62,0.47,0.52,0.77,0.65,0.88,1.0,0.9,0.65,0.82,0.65,0.95,0.28,0.32,0.63,0.73,0.47,0.9,0.92],[0.6,0.7,0.27,0.67,0.32,0.35,0.58,0.38,0.63,0.9,1.0,0.62,0.78,0.47,0.82,0.18,0.15,0.45,0.47,0.2,0.78,0.85],[0.88,0.62,0.43,0.77,0.23,0.22,0.88,0.65,0.6,0.65,0.62,1.0,0.77,0.87,0.75,0.58,0.53,0.72,0.7,0.72,0.57,0.6],[0.77,0.92,0.52,0.82,0.28,0.33,0.78,0.53,0.78,0.82,0.78,0.77,1.0,0.72,0.8,0.15,0.13,0.7,0.62,0.53,0.6,0.67],[0.65,0.62,0.75,0.5,0.3,0.28,0.88,0.78,0.73,0.65,0.47,0.87,0.72,1.0,0.82,0.52,0.53,0.75,0.8,0.82,0.55,0.52],[0.62,0.8,0.68,0.53,0.37,0.38,0.83,0.8,0.9,0.95,0.82,0.75,0.8,0.82,1.0,0.32,0.35,0.7,0.85,0.63,0.9,0.88],[0.3,0.02,0.22,0.38,0.62,0.58,0.52,0.27,0.2,0.28,0.18,0.58,0.15,0.52,0.32,1.0,0.98,0.23,0.27,0.3,0.18,0.17],[0.22,0.05,0.33,0.33,0.63,0.62,0.55,0.32,0.27,0.32,0.15,0.53,0.13,0.53,0.35,0.98,1.0,0.28,0.33,0.35,0.23,0.2],[0.5,0.67,0.63,0.58,-0.03,0.05,0.9,0.63,0.67,0.63,0.45,0.72,0.7,0.75,0.7,0.23,0.28,1.0,0.82,0.88,0.6,0.63],[0.57,0.72,0.7,0.38,0.17,0.18,0.85,0.95,0.87,0.73,0.47,0.7,0.62,0.8,0.85,0.27,0.33,0.82,1.0,0.9,0.82,0.77],[0.53,0.55,0.63,0.37,0.0,0.02,0.83,0.83,0.67,0.47,0.2,0.72,0.53,0.82,0.63,0.3,0.35,0.88,0.9,1.0,0.52,0.48],[0.5,0.72,0.53,0.43,0.22,0.25,0.7,0.73,0.8,0.9,0.78,0.57,0.6,0.55,0.9,0.18,0.23,0.6,0.82,0.52,1.0,0.98],[0.55,0.75,0.47,0.55,0.18,0.23,0.72,0.65,0.77,0.92,0.85,0.6,0.67,0.52,0.88,0.17,0.2,0.63,0.77,0.48,0.98,1.0]]\n",
              "\n",
              "\n",
              "for ( var i = 0; i < yValues.length; i++ ) {\n",
              "  for ( var j = 0; j < xValues.length; j++ ) {\n",
              "    var currentValue = zValues[i][j];\n",
              "    if (currentValue != 0.0) {\n",
              "      var textColor = 'white';\n",
              "    }else{\n",
              "      var textColor = 'black';\n",
              "    }\n",
              "    var result = {\n",
              "      xref: 'x1',\n",
              "      yref: 'y1',\n",
              "      x: xValues[j],\n",
              "      y: yValues[i],\n",
              "      text: aValues[i][j],\n",
              "      font: {\n",
              "        family: 'Arial',\n",
              "        size: 5,\n",
              "        color: 'rgb(50, 171, 96)'\n",
              "      },\n",
              "      showarrow: false,\n",
              "      font: {\n",
              "        color: textColor,\n",
              "        size: '18'\n",
              "      }\n",
              "    };\n",
              "    layout.annotations.push(result);\n",
              "  }\n",
              "}\n",
              "\n",
              "var data = [{\n",
              "   x: xValues,\n",
              "   y: yValues,\n",
              "   z: zValues,\n",
              "   \n",
              "   colorscale: 'RdBu', \n",
              "   type: 'heatmap' \n",
              " }];\n",
              " Plotly.newPlot('wounds_cor', data, layout);\n",
              "</script>\n",
              "    <h3>wounds_cor heatmap has been displayed</h3>"
            ]
          },
          "output_type" : "display_data"
        }
      ]
    },
    {
      "cell_type" : "markdown",
      "execution_count" : 68,
      "metadata" : {
        "language" : "text"
      },
      "language" : "text",
      "source" : [
        "### GO figures\n",
        "\n"
      ],
      "outputs" : [
      ]
    },
    {
      "cell_type" : "code",
      "execution_count" : 69,
      "metadata" : {
        "cell.metadata.exec_info" : {
          "startTs" : 1583807976331,
          "endTs" : 1583807976717
        },
        "language" : "scala"
      },
      "language" : "scala",
      "source" : [
        "val goTable = spark.readTSV(comparison, true)"
      ],
      "outputs" : [
      ]
    },
    {
      "cell_type" : "code",
      "execution_count" : 70,
      "metadata" : {
        "cell.metadata.exec_info" : {
          "startTs" : 1583807295121,
          "endTs" : 1583807295259
        },
        "language" : "scala"
      },
      "language" : "scala",
      "source" : [
        "val all_pro_ranks = processes.select(\"go\", (\"label\"::featuresOrderedRanked):_*).cache"
      ],
      "outputs" : [
      ]
    },
    {
      "cell_type" : "code",
      "execution_count" : 71,
      "metadata" : {
        "cell.metadata.exec_info" : {
          "startTs" : 1583807297373,
          "endTs" : 1583807297471
        },
        "language" : "scala"
      },
      "language" : "scala",
      "source" : [
        "def go_ranked(goes: Seq[String]) =  processes.where($\"go\".isin(goes:_*)).select(\"go\", (\"label\"::featuresOrderedRanked):_*).sort($\"bowhead_whale_liver_rank\".asc)"
      ],
      "outputs" : [
      ]
    },
    {
      "cell_type" : "code",
      "execution_count" : 72,
      "metadata" : {
        "cell.metadata.exec_info" : {
          "startTs" : 1583807301309,
          "endTs" : 1583807301460
        },
        "language" : "scala"
      },
      "language" : "scala",
      "source" : [
        "val longevity_pro_ranks = go_ranked(longevity_goes)\n",
        "html(s\"\"\"<div id=\"longevity_pro_ranks\"></div>\"\"\")"
      ],
      "outputs" : [
        {
          "data" : {
            "text/html" : [
              "<div id=\"longevity_pro_ranks\"></div>"
            ]
          },
          "output_type" : "display_data"
        }
      ]
    },
    {
      "cell_type" : "code",
      "execution_count" : 73,
      "metadata" : {
        "cell.metadata.exec_info" : {
          "startTs" : 1583807315749,
          "endTs" : 1583807316826
        },
        "language" : "scala"
      },
      "language" : "scala",
      "source" : [
        "makeHeatmap(longevity_pro_ranks, \"label\", featuresOrderedRanked, \"longevity_pro_ranks\", \"Specific processes (by ranks)\",  600, 500, 2000, 3000, inverse = true, logData = true, showScale = false, names = prettyFeaturesRanked, tickAngle = \"-30\")"
      ],
      "outputs" : [
        {
          "data" : {
            "text/html" : [
              "<script type=\"text/javascript\" charset=\"utf-8\">\n",
              "var layout = {\n",
              "  title: 'Specific processes (by ranks)',\n",
              "  annotations: [],\n",
              "  margin: {\n",
              "    l: 600,\n",
              "    r: 125,\n",
              "    t: 500,\n",
              "    b: 50\n",
              "  },\n",
              "  width: 2000,\n",
              "  height: 3000,\n",
              "  xaxis: {\n",
              "    side: 'top',\n",
              "    tickfont: {\n",
              "      size: 20\n",
              "    },\n",
              "    tickangle: '-30'\n",
              "  },\n",
              "  yaxis: {\n",
              "    side: 'left',\n",
              "    autorange: 'reversed',\n",
              "    tickfont: {\n",
              "      size: 20\n",
              "    }\n",
              "  },\n",
              "};\n",
              "\n",
              "var xValues = [\"Bowhead whale liver\",\"Gray whale liver\",\"Minke whale liver\",\"Human liver\",\"Bat liver\",\"Naked mole rat liver\",\"Cow liver\",\"Mouse liver\",\"Bowhead whale kidney\",\"Gray whale kidney\",\"Minke whale kidney\",\"Human kidney\",\"Bat kidney\",\"Naked mole rat kidney\",\"Cow kidney\",\"Mouse kidney\"]\n",
              "var yValues =  [\"signal transduction\",\"rRNA processing\",\"translational initiation\",\"nuclear-transcribed mRNA catabolic process, nonsense-mediated decay\",\"SRP-dependent cotranslational protein targeting to membrane\",\"viral transcription\",\"virion assembly\",\"urea cycle\",\"ATP synthesis coupled proton transport\",\"immune response\",\"response to stress\",\"ATP metabolic process\",\"cilium assembly\",\"positive regulation of base-excision repair\",\"positive regulation of intrinsic apoptotic signaling pathway in response to DNA damage\",\"positive regulation of activated T cell proliferation\",\"positive regulation of endodeoxyribonuclease activity\",\"negative regulation of DNA repair\",\"positive regulation of DNA N-glycosylase activity\",\"response to TNF agonist\",\"positive regulation of cysteine-type endopeptidase activity involved in execution phase of apoptosis\",\"NAD biosynthetic process\",\"cardiac muscle cell differentiation\",\"positive regulation of endothelial cell proliferation\",\"amyloid fibril formation\",\"epoxide metabolic process\",\"regulation of autophagosome assembly\",\"actin filament severing\",\"hepatocyte apoptotic process\",\"regulation of canonical Wnt signaling pathway\",\"intraciliary transport\",\"actin nucleation\",\"actin filament reorganization\",\"positive regulation of cytokine-mediated signaling pathway\",\"positive regulation of cysteine-type endopeptidase activity involved in apoptotic signaling pathway\",\"antigen processing and presentation of peptide antigen via MHC class I\",\"sequestering of actin monomers\",\"positive regulation of keratinocyte apoptotic process\",\"cochlea development\",\"removal of superoxide radicals\",\"protein localization to Golgi apparatus\",\"negative regulation of intrinsic apoptotic signaling pathway in response to DNA damage by p53 class mediator\",\"neural precursor cell proliferation\",\"intraciliary transport involved in cilium assembly\",\"protein localization to cilium\",\"regulation of cell death\",\"establishment of planar polarity\",\"inner ear receptor cell stereocilium organization\",\"photoreceptor cell outer segment organization\",\"centrosome localization\",\"regulation of cilium assembly\",\"opsin transport\",\"negative thymic T cell selection\",\"antibacterial humoral response\",\"S-adenosylmethionine cycle\",\"innate immune response in mucosa\",\"methylation\",\"chronic inflammatory response to antigenic stimulus\",\"circadian sleep/wake cycle\",\"sulfur amino acid metabolic process\",\"homocysteine biosynthetic process\"]\n",
              "var zValues =  [[0.3,1.92,0.85,1.97,1.9,1.84,1.18,2.19,1.4,1.83,1.41,1.71,1.32,1.08,1.71,1.99],[0.78,0.48,0.3,1.56,2.08,1.34,2.03,2.35,0.3,1.36,0.3,1.26,1.4,1.0,1.4,1.63],[1.36,0.6,0.48,1.53,0.85,1.41,2.72,2.88,0.48,1.38,0.48,1.23,0.3,1.2,2.46,2.69],[1.4,0.78,0.6,1.59,0.9,1.43,2.9,3.12,0.7,1.41,0.6,1.28,0.48,1.3,2.71,3.02],[1.41,0.7,0.7,1.58,1.04,1.45,3.02,3.11,0.78,1.4,0.7,1.3,0.6,1.32,3.05,3.13],[1.43,0.85,0.78,1.61,1.08,1.48,3.92,3.96,0.85,1.43,0.78,1.32,0.7,1.41,3.93,3.97],[1.64,0.9,1.0,2.36,2.78,3.07,2.15,3.2,2.27,1.94,1.88,2.32,3.0,2.95,2.89,3.4],[1.65,2.16,1.98,2.51,1.0,3.35,2.42,2.54,3.75,2.32,2.64,2.7,2.84,1.63,2.8,2.4],[2.23,0.3,2.26,3.09,2.06,1.68,1.64,1.0,1.43,0.3,1.53,2.87,1.49,2.15,0.7,0.85],[2.31,0.95,1.89,2.0,1.79,2.05,1.94,2.24,1.59,1.51,1.49,1.84,2.08,1.48,1.96,1.7],[2.34,2.54,2.56,2.88,3.82,2.24,3.03,3.16,2.0,2.19,2.2,2.78,3.83,2.42,3.05,3.08],[2.37,2.46,2.41,2.88,2.35,2.21,3.06,2.94,2.02,2.0,1.82,2.14,2.05,2.39,2.18,2.23],[2.56,1.79,2.67,3.04,2.9,2.45,2.7,3.03,2.26,0.6,2.47,2.51,2.55,2.48,2.16,2.63],[2.66,2.78,3.26,3.8,2.87,2.52,2.82,3.41,2.83,2.84,3.42,3.81,2.8,2.69,2.64,3.32],[2.66,2.78,3.26,3.71,2.86,2.51,2.81,3.35,2.83,2.84,3.42,3.69,2.81,2.69,2.63,3.2],[2.66,2.78,3.24,3.1,2.82,2.51,2.54,2.78,2.83,2.84,3.38,3.35,2.71,2.67,2.26,3.15],[2.66,2.78,3.26,3.85,2.88,2.44,2.8,3.36,2.83,2.84,3.42,3.81,2.83,2.67,2.6,3.27],[2.66,2.78,3.26,3.95,2.89,2.52,2.82,3.41,2.83,2.84,3.42,3.97,2.83,2.69,2.65,3.32],[2.66,2.78,3.26,3.95,2.89,2.52,2.82,3.41,2.83,2.84,3.42,3.97,2.83,2.69,2.65,3.32],[2.66,2.78,3.26,3.95,2.89,2.52,2.82,3.41,2.83,2.84,3.42,3.97,2.83,2.69,2.65,3.32],[2.66,2.78,3.26,3.95,2.89,2.52,2.82,3.41,2.83,2.84,3.42,3.97,2.83,2.69,2.65,3.32],[2.98,2.9,3.35,3.13,3.21,3.19,2.76,2.95,3.28,3.18,3.37,3.26,3.37,2.95,3.05,3.08],[2.98,1.84,2.99,2.97,2.93,3.18,3.08,2.9,2.84,0.9,3.0,2.87,3.06,3.6,2.94,2.73],[2.99,2.75,3.18,3.06,2.75,2.92,2.67,2.7,2.64,2.94,3.1,2.87,3.15,2.97,2.73,2.67],[3.02,2.68,2.94,3.49,3.38,2.52,3.25,3.56,2.79,2.67,2.7,3.61,3.01,2.79,2.66,3.29],[3.12,2.66,3.06,3.6,3.82,3.03,2.79,2.98,3.45,3.1,3.12,3.54,3.81,2.19,3.24,3.31],[3.18,1.83,3.1,3.3,3.31,3.21,3.17,3.33,3.22,1.15,3.23,3.19,3.28,3.2,3.13,3.19],[3.19,2.7,2.96,3.69,3.34,2.98,3.36,3.37,3.0,2.64,2.93,3.25,3.0,3.01,2.65,3.19],[3.21,2.58,2.81,3.29,3.49,3.5,2.97,3.25,3.01,2.76,2.96,3.24,3.58,3.01,3.1,3.2],[3.28,1.85,3.24,3.45,3.13,3.56,3.16,3.43,3.32,1.11,3.32,3.26,3.05,3.56,3.24,3.3],[3.32,1.83,3.31,3.55,3.5,3.27,3.25,3.46,3.13,0.95,3.18,3.39,3.41,3.29,3.23,3.26],[3.34,2.73,3.13,3.63,3.67,2.74,3.49,3.66,3.36,2.96,3.39,3.36,3.6,3.41,3.09,3.37],[3.36,2.71,3.13,3.84,3.59,3.44,3.68,3.73,3.33,2.87,3.33,3.85,3.47,3.54,3.44,3.62],[3.38,2.75,2.99,3.48,3.53,3.62,2.99,3.36,3.32,3.01,3.4,3.34,3.53,3.61,3.03,3.14],[3.38,2.71,3.14,3.89,3.74,3.49,3.65,3.63,3.56,2.94,3.43,3.86,3.79,3.49,3.51,3.57],[3.38,2.08,2.08,2.56,2.84,3.03,2.9,2.69,2.3,1.92,2.25,2.24,2.98,2.55,3.03,3.35],[3.42,2.72,3.08,3.58,3.47,3.59,3.73,3.06,3.5,2.95,3.34,3.57,3.52,3.59,3.46,2.78],[3.43,2.73,3.16,3.9,3.73,3.62,3.77,3.76,3.57,2.98,3.5,3.84,3.8,3.61,3.51,3.6],[3.45,1.86,3.39,3.63,2.72,3.53,3.44,3.51,3.16,1.08,3.33,3.41,2.41,3.54,3.41,3.45],[3.47,2.74,3.48,2.84,2.74,2.97,2.77,2.51,2.85,2.8,2.91,2.94,2.78,2.52,2.65,2.44],[3.5,1.86,3.18,3.59,2.8,3.09,3.3,3.39,3.69,1.18,3.14,3.45,2.84,3.08,3.19,3.34],[3.5,2.75,2.99,3.26,3.19,3.5,2.92,3.14,3.53,3.03,3.33,3.15,3.19,3.6,2.89,2.86],[3.52,1.88,3.43,3.63,3.74,3.53,3.48,3.64,3.44,1.3,3.39,3.6,3.68,3.56,3.43,3.5],[3.53,1.89,3.4,3.27,3.55,3.46,3.77,3.8,3.31,1.23,3.35,2.98,3.43,3.55,3.63,3.63],[3.55,1.88,3.37,3.39,3.32,3.4,3.34,3.39,3.35,1.2,3.31,3.3,3.2,3.28,3.22,3.15],[3.56,2.93,3.64,3.6,3.51,3.52,3.47,3.46,3.11,3.2,3.6,3.2,3.24,3.55,3.27,3.33],[3.6,1.89,3.44,3.78,3.76,3.6,3.48,3.66,3.4,1.26,3.43,3.6,3.73,3.61,3.5,3.56],[3.61,1.87,3.44,3.48,3.36,2.92,3.46,3.2,3.23,1.0,3.26,3.24,3.17,2.66,3.52,3.3],[3.64,1.9,3.46,3.73,3.81,3.56,3.48,3.66,3.59,1.28,3.5,3.72,3.76,3.58,3.49,3.61],[3.64,1.9,3.44,3.48,3.3,3.41,3.3,3.43,3.61,1.32,3.43,3.24,3.32,3.46,3.17,3.32],[3.66,1.85,3.32,3.47,3.44,2.82,3.25,3.35,3.31,1.04,3.24,3.29,3.39,3.36,3.16,3.28],[3.68,1.91,3.47,3.95,3.82,3.62,3.52,3.67,3.75,1.34,3.51,3.97,3.83,3.61,3.6,3.64],[3.69,2.75,2.99,3.58,3.58,3.6,3.0,3.38,3.72,3.01,3.32,3.62,3.55,3.61,3.16,3.39],[3.69,2.31,3.69,2.66,3.62,2.12,3.0,2.93,3.74,2.48,3.7,2.12,3.52,2.1,3.06,2.95],[3.73,2.5,3.41,3.3,3.76,3.36,2.64,2.89,3.75,2.84,3.46,3.3,3.81,3.34,2.92,3.25],[3.73,2.32,3.73,2.71,3.7,2.12,3.0,2.97,3.75,2.49,3.7,2.15,3.67,2.1,3.1,3.01],[3.73,2.5,3.57,2.77,2.2,3.43,3.71,2.84,3.75,2.84,3.66,2.94,2.52,3.46,3.71,2.74],[3.73,2.5,3.69,3.31,3.82,3.62,3.89,3.92,3.75,2.84,3.69,3.35,3.83,3.61,3.91,3.96],[3.73,2.5,3.73,3.31,3.82,3.62,3.92,3.96,3.75,2.84,3.7,3.35,3.83,3.61,3.93,3.97],[3.73,2.5,3.73,2.77,3.82,3.62,3.92,3.96,3.75,2.84,3.7,2.7,3.83,3.61,3.93,3.97],[3.73,2.5,3.73,3.31,3.82,3.62,3.92,3.96,3.75,2.84,3.7,3.35,3.83,3.61,3.93,3.97]]\n",
              "var aValues =  [[2.0,84.0,7.0,93.0,80.0,69.0,15.0,154.0,25.0,68.0,26.0,51.0,21.0,12.0,51.0,98.0],[6.0,3.0,2.0,36.0,121.0,22.0,107.0,226.0,2.0,23.0,2.0,18.0,25.0,10.0,25.0,43.0],[23.0,4.0,3.0,34.0,7.0,26.0,522.0,750.0,3.0,24.0,3.0,17.0,2.0,16.0,287.0,489.0],[25.0,6.0,4.0,39.0,8.0,27.0,799.0,1309.0,5.0,26.0,4.0,19.0,3.0,20.0,511.0,1042.0],[26.0,5.0,5.0,38.0,11.0,28.0,1052.0,1299.0,6.0,25.0,5.0,20.0,4.0,21.0,1128.0,1352.0],[27.0,7.0,6.0,41.0,12.0,30.0,8326.0,9048.0,7.0,27.0,6.0,21.0,5.0,26.0,8449.0,9433.0],[44.0,8.0,10.0,231.0,600.0,1162.0,140.0,1584.0,186.0,87.0,76.0,208.0,1000.0,897.0,779.0,2486.0],[45.0,145.0,96.0,324.0,10.0,2246.0,265.0,344.0,5582.0,210.0,438.0,500.0,698.0,43.0,634.0,250.0],[170.0,2.0,181.0,1234.0,114.0,48.0,44.0,10.0,27.0,2.0,34.0,748.0,31.0,140.0,5.0,7.0],[205.0,9.0,78.0,100.0,61.0,111.0,88.0,173.0,39.0,32.0,31.0,69.0,121.0,30.0,92.0,50.0],[220.0,350.0,367.0,766.0,6591.0,172.0,1068.0,1445.0,99.0,156.0,160.0,606.0,6808.0,261.0,1133.0,1208.0],[234.0,291.0,260.0,763.0,222.0,161.0,1154.0,866.0,104.0,101.0,66.0,138.0,111.0,248.0,152.0,171.0],[361.0,62.0,472.0,1089.0,792.0,279.0,506.0,1061.0,180.0,4.0,293.0,327.0,353.0,300.0,144.0,426.0],[453.0,607.0,1820.0,6366.0,737.0,328.0,660.0,2546.0,682.0,692.0,2653.0,6525.0,635.0,493.0,435.0,2069.0],[455.0,607.0,1820.0,5076.0,730.0,324.0,640.0,2253.0,682.0,692.0,2653.0,4858.0,648.0,492.0,425.0,1598.0],[457.0,607.0,1750.0,1255.0,662.0,326.0,344.0,608.0,682.0,692.0,2376.0,2237.0,511.0,467.0,181.0,1422.0],[457.0,607.0,1820.0,7148.0,760.0,274.0,627.0,2283.0,682.0,692.0,2653.0,6439.0,679.0,469.0,399.0,1873.0],[457.0,607.0,1820.0,8995.0,768.0,328.0,666.0,2561.0,682.0,692.0,2653.0,9345.0,683.0,493.0,443.0,2079.0],[457.0,607.0,1820.0,8995.0,768.0,328.0,666.0,2561.0,682.0,692.0,2653.0,9345.0,683.0,493.0,443.0,2079.0],[457.0,607.0,1820.0,8995.0,768.0,328.0,666.0,2561.0,682.0,692.0,2653.0,9345.0,683.0,493.0,443.0,2079.0],[457.0,607.0,1820.0,8995.0,768.0,328.0,666.0,2561.0,682.0,692.0,2653.0,9345.0,683.0,493.0,443.0,2079.0],[958.0,799.0,2244.0,1352.0,1629.0,1532.0,575.0,896.0,1893.0,1508.0,2324.0,1824.0,2339.0,888.0,1118.0,1198.0],[962.0,69.0,984.0,933.0,855.0,1504.0,1191.0,786.0,684.0,8.0,1011.0,741.0,1139.0,3941.0,879.0,532.0],[972.0,556.0,1502.0,1146.0,556.0,830.0,467.0,498.0,438.0,868.0,1271.0,745.0,1419.0,942.0,537.0,464.0],[1042.0,475.0,876.0,3094.0,2391.0,334.0,1791.0,3649.0,615.0,467.0,502.0,4093.0,1025.0,614.0,458.0,1945.0],[1315.0,457.0,1157.0,3962.0,6578.0,1062.0,611.0,947.0,2834.0,1245.0,1311.0,3453.0,6406.0,155.0,1720.0,2056.0],[1528.0,67.0,1251.0,1977.0,2045.0,1640.0,1486.0,2130.0,1672.0,14.0,1711.0,1563.0,1909.0,1589.0,1342.0,1541.0],[1540.0,503.0,905.0,4936.0,2169.0,955.0,2313.0,2371.0,992.0,435.0,852.0,1771.0,991.0,1019.0,447.0,1553.0],[1613.0,376.0,652.0,1964.0,3122.0,3136.0,931.0,1759.0,1033.0,573.0,920.0,1738.0,3781.0,1026.0,1269.0,1603.0],[1917.0,71.0,1747.0,2835.0,1360.0,3649.0,1439.0,2712.0,2095.0,13.0,2072.0,1827.0,1132.0,3610.0,1747.0,2012.0],[2110.0,68.0,2050.0,3546.0,3193.0,1841.0,1772.0,2867.0,1347.0,9.0,1505.0,2466.0,2561.0,1932.0,1689.0,1829.0],[2182.0,533.0,1361.0,4248.0,4703.0,545.0,3070.0,4557.0,2290.0,909.0,2444.0,2288.0,3996.0,2562.0,1217.0,2359.0],[2289.0,515.0,1345.0,6960.0,3895.0,2731.0,4791.0,5390.0,2120.0,733.0,2160.0,7068.0,2934.0,3468.0,2740.0,4145.0],[2376.0,563.0,987.0,3003.0,3368.0,4156.0,972.0,2312.0,2069.0,1023.0,2507.0,2198.0,3363.0,4099.0,1066.0,1391.0],[2380.0,514.0,1380.0,7675.0,5497.0,3123.0,4448.0,4279.0,3640.0,870.0,2718.0,7242.0,6132.0,3107.0,3242.0,3747.0],[2395.0,120.0,121.0,361.0,684.0,1076.0,802.0,489.0,201.0,84.0,178.0,172.0,963.0,357.0,1070.0,2225.0],[2623.0,527.0,1191.0,3795.0,2927.0,3852.0,5417.0,1136.0,3129.0,882.0,2204.0,3716.0,3276.0,3851.0,2874.0,608.0],[2676.0,535.0,1441.0,8005.0,5400.0,4156.0,5844.0,5806.0,3694.0,952.0,3145.0,6989.0,6291.0,4099.0,3240.0,3994.0],[2834.0,72.0,2460.0,4296.0,525.0,3363.0,2766.0,3251.0,1462.0,12.0,2127.0,2545.0,259.0,3460.0,2569.0,2829.0],[2956.0,544.0,3051.0,690.0,553.0,928.0,588.0,321.0,715.0,630.0,815.0,864.0,601.0,329.0,445.0,276.0],[3144.0,73.0,1498.0,3891.0,629.0,1228.0,1981.0,2437.0,4937.0,15.0,1394.0,2827.0,691.0,1196.0,1548.0,2206.0],[3176.0,562.0,968.0,1799.0,1550.0,3133.0,836.0,1385.0,3377.0,1063.0,2139.0,1424.0,1548.0,3958.0,776.0,729.0],[3338.0,76.0,2661.0,4266.0,5500.0,3390.0,2986.0,4413.0,2772.0,20.0,2442.0,3959.0,4836.0,3656.0,2682.0,3195.0],[3388.0,78.0,2487.0,1846.0,3537.0,2886.0,5947.0,6352.0,2043.0,17.0,2230.0,950.0,2667.0,3547.0,4242.0,4231.0],[3528.0,75.0,2357.0,2436.0,2104.0,2500.0,2176.0,2444.0,2256.0,16.0,2045.0,1984.0,1571.0,1885.0,1662.0,1419.0],[3643.0,858.0,4327.0,3998.0,3255.0,3328.0,2965.0,2881.0,1278.0,1599.0,3995.0,1573.0,1751.0,3543.0,1877.0,2154.0],[3982.0,77.0,2724.0,6072.0,5704.0,3987.0,2998.0,4532.0,2503.0,18.0,2716.0,3979.0,5354.0,4098.0,3169.0,3607.0],[4090.0,74.0,2728.0,2991.0,2270.0,833.0,2906.0,1592.0,1703.0,10.0,1829.0,1743.0,1488.0,461.0,3279.0,1976.0],[4342.0,80.0,2892.0,5424.0,6440.0,3595.0,2991.0,4606.0,3857.0,19.0,3163.0,5247.0,5776.0,3789.0,3110.0,4077.0],[4407.0,79.0,2755.0,3052.0,2004.0,2582.0,2014.0,2719.0,4092.0,21.0,2664.0,1750.0,2081.0,2860.0,1472.0,2099.0],[4543.0,70.0,2088.0,2984.0,2733.0,661.0,1789.0,2226.0,2039.0,11.0,1753.0,1939.0,2427.0,2296.0,1431.0,1919.0],[4789.0,81.0,2963.0,8995.0,6591.0,4156.0,3332.0,4713.0,5582.0,22.0,3269.0,9345.0,6808.0,4099.0,3981.0,4353.0],[4846.0,560.0,981.0,3833.0,3779.0,3973.0,1006.0,2395.0,5295.0,1024.0,2084.0,4141.0,3515.0,4098.0,1459.0,2427.0],[4850.0,203.0,4913.0,457.0,4153.0,131.0,992.0,852.0,5466.0,303.0,5036.0,132.0,3302.0,125.0,1158.0,890.0],[5320.0,316.0,2585.0,2010.0,5805.0,2301.0,441.0,779.0,5582.0,690.0,2863.0,1992.0,6431.0,2184.0,833.0,1792.0],[5321.0,207.0,5415.0,513.0,4960.0,132.0,1011.0,929.0,5582.0,307.0,5036.0,140.0,4704.0,126.0,1254.0,1035.0],[5321.0,316.0,3700.0,588.0,159.0,2678.0,5167.0,686.0,5582.0,690.0,4550.0,866.0,330.0,2890.0,5118.0,548.0],[5321.0,316.0,4892.0,2041.0,6590.0,4156.0,7718.0,8338.0,5582.0,690.0,4926.0,2215.0,6807.0,4099.0,8177.0,9203.0],[5321.0,316.0,5416.0,2037.0,6591.0,4156.0,8326.0,9047.0,5582.0,690.0,5037.0,2215.0,6808.0,4099.0,8449.0,9432.0],[5321.0,316.0,5416.0,587.0,6591.0,4156.0,8326.0,9048.0,5582.0,690.0,5037.0,506.0,6808.0,4099.0,8449.0,9433.0],[5321.0,316.0,5416.0,2041.0,6591.0,4156.0,8326.0,9048.0,5582.0,690.0,5037.0,2215.0,6808.0,4099.0,8449.0,9433.0]]\n",
              "\n",
              "\n",
              "for ( var i = 0; i < yValues.length; i++ ) {\n",
              "  for ( var j = 0; j < xValues.length; j++ ) {\n",
              "    var currentValue = zValues[i][j];\n",
              "    if (currentValue != 0.0) {\n",
              "      var textColor = 'white';\n",
              "    }else{\n",
              "      var textColor = 'black';\n",
              "    }\n",
              "    var result = {\n",
              "      xref: 'x1',\n",
              "      yref: 'y1',\n",
              "      x: xValues[j],\n",
              "      y: yValues[i],\n",
              "      text: aValues[i][j],\n",
              "      font: {\n",
              "        family: 'Arial',\n",
              "        size: 5,\n",
              "        color: 'rgb(50, 171, 96)'\n",
              "      },\n",
              "      showarrow: false,\n",
              "      font: {\n",
              "        color: textColor,\n",
              "        size: '18'\n",
              "      }\n",
              "    };\n",
              "    layout.annotations.push(result);\n",
              "  }\n",
              "}\n",
              "\n",
              "var data = [{\n",
              "   x: xValues,\n",
              "   y: yValues,\n",
              "   z: zValues,\n",
              "   \n",
              "   colorscale: 'RdBu',  showscale: false ,\n",
              "   type: 'heatmap' , reversescale: true\n",
              " }];\n",
              " Plotly.newPlot('longevity_pro_ranks', data, layout);\n",
              "</script>\n",
              "    <h3>longevity_pro_ranks heatmap has been displayed</h3>"
            ]
          },
          "output_type" : "display_data"
        }
      ]
    },
    {
      "cell_type" : "markdown",
      "execution_count" : 74,
      "metadata" : {
        "language" : "text"
      },
      "language" : "text",
      "source" : [
        "## DNA repair ranks\n",
        "\n"
      ],
      "outputs" : [
      ]
    },
    {
      "cell_type" : "code",
      "execution_count" : 75,
      "metadata" : {
        "cell.metadata.exec_info" : {
          "startTs" : 1583808059369,
          "endTs" : 1583808059520
        },
        "language" : "scala"
      },
      "language" : "scala",
      "source" : [
        "val dna_repair_goes_ranks = go_ranked(dna_repair_goes)\n",
        "html(\"<div id='dna_repair_goes_ranks'></div>\")"
      ],
      "outputs" : [
        {
          "data" : {
            "text/html" : [
              "<div id='dna_repair_goes_ranks'></div>"
            ]
          },
          "output_type" : "display_data"
        }
      ]
    },
    {
      "cell_type" : "code",
      "execution_count" : 76,
      "metadata" : {
        "cell.metadata.exec_info" : {
          "startTs" : 1583808061211,
          "endTs" : 1583808061985
        },
        "language" : "scala"
      },
      "language" : "scala",
      "source" : [
        "makeHeatmap(dna_repair_goes_ranks, \"label\", featuresOrderedRanked, \"dna_repair_goes_ranks\", \"DNA repair (by ranks)\",  600, 300, 1700, 1400, inverse = true, logData = true, showScale = true, names = prettyFeaturesRanked, \n",
        "dataFontSize = 18, tickFontSize = 18, tickAngle = \"-30\")"
      ],
      "outputs" : [
        {
          "data" : {
            "text/html" : [
              "<script type=\"text/javascript\" charset=\"utf-8\">\n",
              "var layout = {\n",
              "  title: 'DNA repair (by ranks)',\n",
              "  annotations: [],\n",
              "  margin: {\n",
              "    l: 600,\n",
              "    r: 125,\n",
              "    t: 300,\n",
              "    b: 50\n",
              "  },\n",
              "  width: 1700,\n",
              "  height: 1400,\n",
              "  xaxis: {\n",
              "    side: 'top',\n",
              "    tickfont: {\n",
              "      size: 18\n",
              "    },\n",
              "    tickangle: '-30'\n",
              "  },\n",
              "  yaxis: {\n",
              "    side: 'left',\n",
              "    autorange: 'reversed',\n",
              "    tickfont: {\n",
              "      size: 18\n",
              "    }\n",
              "  },\n",
              "};\n",
              "\n",
              "var xValues = [\"Bowhead whale liver\",\"Gray whale liver\",\"Minke whale liver\",\"Human liver\",\"Bat liver\",\"Naked mole rat liver\",\"Cow liver\",\"Mouse liver\",\"Bowhead whale kidney\",\"Gray whale kidney\",\"Minke whale kidney\",\"Human kidney\",\"Bat kidney\",\"Naked mole rat kidney\",\"Cow kidney\",\"Mouse kidney\"]\n",
              "var yValues =  [\"DNA repair\",\"positive regulation of DNA repair\",\"nucleotide-excision repair\",\"positive regulation of base-excision repair\",\"negative regulation of DNA repair\",\"global genome nucleotide-excision repair\",\"transcription-coupled nucleotide-excision repair\",\"nucleotide-excision repair, DNA incision, 5'-to lesion\",\"nucleotide-excision repair, DNA incision\",\"nucleotide-excision repair, preincision complex assembly\",\"nucleotide-excision repair, DNA gap filling\",\"nucleotide-excision repair, DNA duplex unwinding\",\"base-excision repair\",\"nucleotide-excision repair, DNA damage recognition\",\"double-strand break repair via homologous recombination\",\"regulation of nucleotide-excision repair\",\"interstrand cross-link repair\",\"protein repair\",\"regulation of DNA repair\",\"mitochondrial DNA repair\",\"DNA dealkylation involved in DNA repair\",\"DNA ligation involved in DNA repair\"]\n",
              "var zValues =  [[2.19,2.11,2.09,2.82,2.2,1.97,2.52,2.78,1.78,1.8,1.8,2.28,1.88,2.23,2.01,2.36],[2.58,2.71,3.07,3.32,2.72,2.44,3.25,3.19,2.69,2.74,3.13,3.21,2.57,2.66,3.14,3.12],[2.6,2.9,3.0,3.23,3.01,3.1,3.03,3.24,2.54,2.92,3.05,3.06,2.98,3.1,2.95,3.13],[2.66,2.78,3.26,3.8,2.87,2.52,2.82,3.41,2.83,2.84,3.42,3.81,2.8,2.69,2.64,3.32],[2.66,2.78,3.26,3.95,2.89,2.52,2.82,3.41,2.83,2.84,3.42,3.97,2.83,2.69,2.65,3.32],[2.76,2.4,2.42,2.93,3.19,3.11,3.92,3.96,2.42,2.45,2.45,2.71,3.15,3.11,3.93,3.97],[2.83,2.37,2.37,2.89,2.91,2.71,3.44,3.49,2.45,2.39,2.33,2.52,2.68,2.85,3.46,3.42],[2.86,2.41,2.44,2.96,3.18,3.06,3.56,3.79,2.51,2.45,2.47,2.78,3.1,3.08,3.62,3.79],[2.87,2.41,2.45,2.96,3.13,3.13,3.59,3.69,2.51,2.45,2.47,2.77,3.05,3.12,3.59,3.67],[2.89,2.43,2.46,2.97,3.19,3.16,3.53,3.86,2.55,2.48,2.49,2.77,3.15,3.13,3.59,3.83],[2.91,2.42,2.45,3.04,3.29,3.48,3.82,3.81,2.53,2.47,2.49,2.89,3.16,3.51,3.8,3.82],[2.92,2.43,2.47,2.98,3.14,3.16,3.78,3.82,2.55,2.48,2.5,2.79,3.09,3.13,3.81,3.84],[2.92,3.0,2.83,3.38,3.23,2.86,3.08,3.36,2.72,2.84,2.89,3.34,3.2,2.98,2.99,3.29],[2.94,2.39,2.48,2.96,3.07,2.85,3.3,3.55,2.56,2.42,2.5,2.75,3.01,2.96,3.54,3.61],[2.94,3.13,2.87,3.13,3.03,2.47,2.5,3.19,2.62,2.94,2.9,2.9,2.89,2.7,2.48,3.07],[2.95,3.09,3.0,3.9,3.4,3.0,3.25,3.52,2.91,3.03,3.03,3.83,3.37,3.12,3.21,3.51],[2.99,2.44,2.49,3.0,3.24,3.29,3.23,3.64,2.59,2.5,2.53,2.81,3.14,3.32,3.27,3.64],[3.29,2.96,3.18,3.27,3.66,3.18,3.4,3.55,3.7,3.22,3.25,3.29,3.71,3.59,3.59,3.62],[3.45,3.38,3.41,3.7,3.25,3.37,3.49,3.76,3.57,3.48,3.34,3.69,3.21,3.36,3.53,3.73],[3.47,3.57,3.55,3.66,3.65,3.62,3.69,3.73,3.55,3.56,3.57,3.65,3.62,3.61,3.69,3.69],[3.53,3.39,3.49,3.37,3.57,3.48,3.64,3.66,3.49,3.43,3.46,3.33,3.6,3.48,3.63,3.66],[3.61,3.52,3.52,3.43,3.38,3.52,3.3,3.74,3.6,3.64,3.53,3.44,3.34,3.51,3.28,3.76]]\n",
              "var aValues =  [[154.0,129.0,123.0,659.0,158.0,94.0,330.0,604.0,60.0,63.0,63.0,190.0,75.0,171.0,103.0,231.0],[383.0,507.0,1170.0,2100.0,529.0,276.0,1790.0,1558.0,491.0,548.0,1361.0,1618.0,372.0,453.0,1385.0,1304.0],[402.0,789.0,993.0,1680.0,1031.0,1262.0,1081.0,1745.0,345.0,825.0,1123.0,1148.0,965.0,1271.0,891.0,1344.0],[453.0,607.0,1820.0,6366.0,737.0,328.0,660.0,2546.0,682.0,692.0,2653.0,6525.0,635.0,493.0,435.0,2069.0],[457.0,607.0,1820.0,8995.0,768.0,328.0,666.0,2561.0,682.0,692.0,2653.0,9345.0,683.0,493.0,443.0,2079.0],[569.0,253.0,265.0,849.0,1562.0,1275.0,8326.0,9048.0,264.0,283.0,284.0,513.0,1403.0,1295.0,8449.0,9433.0],[679.0,235.0,234.0,769.0,812.0,515.0,2763.0,3068.0,281.0,243.0,214.0,333.0,476.0,710.0,2897.0,2609.0],[731.0,258.0,278.0,907.0,1508.0,1160.0,3626.0,6118.0,320.0,279.0,292.0,597.0,1271.0,1201.0,4134.0,6158.0],[738.0,257.0,279.0,913.0,1349.0,1363.0,3859.0,4859.0,326.0,280.0,294.0,589.0,1120.0,1327.0,3902.0,4643.0],[781.0,268.0,291.0,924.0,1562.0,1440.0,3365.0,7228.0,357.0,299.0,309.0,594.0,1403.0,1363.0,3916.0,6703.0],[818.0,266.0,284.0,1086.0,1944.0,3042.0,6538.0,6493.0,337.0,294.0,307.0,784.0,1459.0,3260.0,6329.0,6555.0],[826.0,269.0,295.0,953.0,1387.0,1440.0,6008.0,6680.0,357.0,302.0,314.0,622.0,1242.0,1363.0,6488.0,6897.0],[830.0,998.0,670.0,2425.0,1712.0,722.0,1209.0,2280.0,529.0,699.0,780.0,2164.0,1572.0,946.0,984.0,1933.0],[869.0,244.0,302.0,906.0,1170.0,700.0,1988.0,3569.0,360.0,264.0,319.0,559.0,1026.0,908.0,3498.0,4080.0],[871.0,1339.0,740.0,1364.0,1081.0,298.0,317.0,1540.0,415.0,874.0,787.0,791.0,771.0,497.0,300.0,1175.0],[898.0,1223.0,991.0,7907.0,2497.0,996.0,1795.0,3305.0,811.0,1070.0,1068.0,6700.0,2356.0,1315.0,1622.0,3210.0],[977.0,277.0,311.0,999.0,1721.0,1946.0,1711.0,4322.0,386.0,318.0,335.0,652.0,1379.0,2076.0,1863.0,4368.0],[1962.0,920.0,1531.0,1881.0,4607.0,1505.0,2520.0,3579.0,5012.0,1646.0,1793.0,1969.0,5083.0,3906.0,3859.0,4133.0],[2796.0,2422.0,2591.0,5059.0,1781.0,2350.0,3063.0,5808.0,3754.0,2994.0,2167.0,4889.0,1622.0,2287.0,3400.0,5381.0],[2953.0,3757.0,3558.0,4596.0,4472.0,4156.0,4951.0,5341.0,3562.0,3612.0,3702.0,4447.0,4166.0,4099.0,4896.0,4908.0],[3392.0,2462.0,3066.0,2361.0,3676.0,2998.0,4383.0,4580.0,3071.0,2670.0,2878.0,2128.0,3965.0,3009.0,4315.0,4543.0],[4055.0,3341.0,3275.0,2699.0,2404.0,3301.0,2011.0,5436.0,4009.0,4354.0,3370.0,2764.0,2180.0,3253.0,1927.0,5787.0]]\n",
              "\n",
              "\n",
              "for ( var i = 0; i < yValues.length; i++ ) {\n",
              "  for ( var j = 0; j < xValues.length; j++ ) {\n",
              "    var currentValue = zValues[i][j];\n",
              "    if (currentValue != 0.0) {\n",
              "      var textColor = 'white';\n",
              "    }else{\n",
              "      var textColor = 'black';\n",
              "    }\n",
              "    var result = {\n",
              "      xref: 'x1',\n",
              "      yref: 'y1',\n",
              "      x: xValues[j],\n",
              "      y: yValues[i],\n",
              "      text: aValues[i][j],\n",
              "      font: {\n",
              "        family: 'Arial',\n",
              "        size: 5,\n",
              "        color: 'rgb(50, 171, 96)'\n",
              "      },\n",
              "      showarrow: false,\n",
              "      font: {\n",
              "        color: textColor,\n",
              "        size: '18'\n",
              "      }\n",
              "    };\n",
              "    layout.annotations.push(result);\n",
              "  }\n",
              "}\n",
              "\n",
              "var data = [{\n",
              "   x: xValues,\n",
              "   y: yValues,\n",
              "   z: zValues,\n",
              "   \n",
              "   colorscale: 'RdBu', \n",
              "   type: 'heatmap' , reversescale: true\n",
              " }];\n",
              " Plotly.newPlot('dna_repair_goes_ranks', data, layout);\n",
              "</script>\n",
              "    <h3>dna_repair_goes_ranks heatmap has been displayed</h3>"
            ]
          },
          "output_type" : "display_data"
        }
      ]
    },
    {
      "cell_type" : "code",
      "execution_count" : 77,
      "metadata" : {
        "cell.metadata.exec_info" : {
          "startTs" : 1583808255510,
          "endTs" : 1583808255663
        },
        "language" : "scala"
      },
      "language" : "scala",
      "source" : [
        "val autophagy_goes_ranks = go_ranked(autophagy_goes)\n",
        "div(\"autophagy_goes_ranks\")"
      ],
      "outputs" : [
        {
          "data" : {
            "text/html" : [
              "<div id='autophagy_goes_ranks'>autophagy_goes_ranks</div>"
            ]
          },
          "output_type" : "display_data"
        }
      ]
    },
    {
      "cell_type" : "code",
      "execution_count" : 78,
      "metadata" : {
        "cell.metadata.exec_info" : {
          "startTs" : 1583808279363,
          "endTs" : 1583808280168
        },
        "language" : "scala"
      },
      "language" : "scala",
      "source" : [
        "makeHeatmap(autophagy_goes_ranks, \"label\", featuresOrderedRanked, \"autophagy_goes_ranks\", \"Autophagy (by ranks)\",  600, 300, 1700, 800, inverse = true, logData = true, showScale = false, names = prettyFeaturesRanked, \n",
        "dataFontSize = 18, tickFontSize = 20, tickAngle = \"-30\")"
      ],
      "outputs" : [
        {
          "data" : {
            "text/html" : [
              "<script type=\"text/javascript\" charset=\"utf-8\">\n",
              "var layout = {\n",
              "  title: 'Autophagy (by ranks)',\n",
              "  annotations: [],\n",
              "  margin: {\n",
              "    l: 600,\n",
              "    r: 125,\n",
              "    t: 300,\n",
              "    b: 50\n",
              "  },\n",
              "  width: 1700,\n",
              "  height: 800,\n",
              "  xaxis: {\n",
              "    side: 'top',\n",
              "    tickfont: {\n",
              "      size: 20\n",
              "    },\n",
              "    tickangle: '-30'\n",
              "  },\n",
              "  yaxis: {\n",
              "    side: 'left',\n",
              "    autorange: 'reversed',\n",
              "    tickfont: {\n",
              "      size: 20\n",
              "    }\n",
              "  },\n",
              "};\n",
              "\n",
              "var xValues = [\"Bowhead whale liver\",\"Gray whale liver\",\"Minke whale liver\",\"Human liver\",\"Bat liver\",\"Naked mole rat liver\",\"Cow liver\",\"Mouse liver\",\"Bowhead whale kidney\",\"Gray whale kidney\",\"Minke whale kidney\",\"Human kidney\",\"Bat kidney\",\"Naked mole rat kidney\",\"Cow kidney\",\"Mouse kidney\"]\n",
              "var yValues =  [\"regulation of chaperone-mediated autophagy\",\"autophagy\",\"macroautophagy\",\"regulation of autophagy\",\"regulation of macroautophagy\",\"autophagosome assembly\",\"regulation of autophagosome assembly\",\"autophagosome maturation\",\"negative regulation of autophagy\"]\n",
              "var zValues =  [[2.3,2.2,3.73,2.83,2.18,3.62,3.91,3.93,1.3,1.66,3.7,2.44,1.65,3.61,3.92,3.97],[2.63,2.58,2.65,2.73,2.35,2.07,2.58,2.53,2.4,2.46,2.42,2.34,2.14,2.11,2.24,1.91],[2.68,2.31,2.29,2.74,2.69,2.56,3.11,3.01,2.36,2.3,2.18,2.2,2.5,2.61,3.23,2.94],[2.87,3.02,2.91,2.83,2.64,2.64,2.98,3.04,2.74,2.96,2.84,2.55,2.75,2.67,2.8,2.98],[2.88,2.85,2.89,2.96,3.02,2.51,3.79,3.73,2.73,2.83,2.83,2.5,2.94,2.51,3.73,3.67],[2.89,2.9,2.79,3.1,2.6,2.76,2.69,2.82,2.82,2.89,2.84,2.89,2.33,2.75,2.36,2.52],[3.18,1.83,3.1,3.3,3.31,3.21,3.17,3.33,3.22,1.15,3.23,3.19,3.28,3.2,3.13,3.19],[3.19,2.95,3.05,3.06,2.86,2.76,2.89,3.05,3.22,3.02,2.99,2.85,2.71,2.86,2.75,2.88],[3.2,3.0,3.23,3.17,2.96,3.04,2.99,3.18,3.18,3.14,3.2,2.94,2.96,3.29,2.84,3.15]]\n",
              "var aValues =  [[198.0,160.0,5416.0,681.0,153.0,4156.0,8181.0,8570.0,20.0,46.0,5037.0,277.0,45.0,4099.0,8246.0,9247.0],[422.0,381.0,442.0,536.0,223.0,117.0,380.0,341.0,252.0,290.0,266.0,218.0,137.0,130.0,174.0,81.0],[477.0,205.0,197.0,546.0,493.0,366.0,1295.0,1026.0,229.0,198.0,152.0,157.0,316.0,408.0,1713.0,865.0],[744.0,1047.0,807.0,682.0,439.0,432.0,952.0,1089.0,548.0,902.0,696.0,352.0,567.0,465.0,630.0,955.0],[752.0,711.0,785.0,903.0,1040.0,325.0,6156.0,5357.0,535.0,681.0,673.0,314.0,873.0,322.0,5376.0,4728.0],[768.0,797.0,617.0,1257.0,395.0,579.0,495.0,666.0,665.0,777.0,692.0,782.0,212.0,564.0,231.0,330.0],[1528.0,67.0,1251.0,1977.0,2045.0,1640.0,1486.0,2130.0,1672.0,14.0,1711.0,1563.0,1909.0,1589.0,1342.0,1541.0],[1536.0,890.0,1114.0,1153.0,725.0,578.0,772.0,1122.0,1661.0,1056.0,969.0,703.0,512.0,718.0,559.0,763.0],[1593.0,1008.0,1699.0,1470.0,921.0,1100.0,986.0,1506.0,1530.0,1367.0,1570.0,872.0,902.0,1970.0,684.0,1423.0]]\n",
              "\n",
              "\n",
              "for ( var i = 0; i < yValues.length; i++ ) {\n",
              "  for ( var j = 0; j < xValues.length; j++ ) {\n",
              "    var currentValue = zValues[i][j];\n",
              "    if (currentValue != 0.0) {\n",
              "      var textColor = 'white';\n",
              "    }else{\n",
              "      var textColor = 'black';\n",
              "    }\n",
              "    var result = {\n",
              "      xref: 'x1',\n",
              "      yref: 'y1',\n",
              "      x: xValues[j],\n",
              "      y: yValues[i],\n",
              "      text: aValues[i][j],\n",
              "      font: {\n",
              "        family: 'Arial',\n",
              "        size: 5,\n",
              "        color: 'rgb(50, 171, 96)'\n",
              "      },\n",
              "      showarrow: false,\n",
              "      font: {\n",
              "        color: textColor,\n",
              "        size: '18'\n",
              "      }\n",
              "    };\n",
              "    layout.annotations.push(result);\n",
              "  }\n",
              "}\n",
              "\n",
              "var data = [{\n",
              "   x: xValues,\n",
              "   y: yValues,\n",
              "   z: zValues,\n",
              "   \n",
              "   colorscale: 'RdBu',  showscale: false ,\n",
              "   type: 'heatmap' , reversescale: true\n",
              " }];\n",
              " Plotly.newPlot('autophagy_goes_ranks', data, layout);\n",
              "</script>\n",
              "    <h3>autophagy_goes_ranks heatmap has been displayed</h3>"
            ]
          },
          "output_type" : "display_data"
        }
      ]
    }
  ]
}