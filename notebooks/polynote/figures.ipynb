{
  "metadata" : {
    "config" : {
      "dependencies" : {
        "scala" : [
          "group.research.aging:spark-extensions_2.12:0.0.8",
          "org.bdgenomics.adam:adam-core-spark2_2.12:0.30.0",
          "com.github.pathikrit:better-files_2.12:3.8.0"
        ]
      },
      "exclusions" : [
      ],
      "repositories" : [
        {
          "maven" : {
            "base" : "http://central.maven.org/maven2/"
          }
        },
        {
          "maven" : {
            "base" : "http://oss.sonatype.org/content/repositories/snapshots"
          }
        },
        {
          "maven" : {
            "base" : "https://dl.bintray.com/comp-bio-aging/main/"
          }
        }
      ],
      "sparkConfig" : {
        "master" : "http://spark:7070[16]"
      }
    }
  },
  "nbformat" : 4,
  "nbformat_minor" : 0,
  "cells" : [
    {
      "cell_type" : "markdown",
      "execution_count" : 0,
      "metadata" : {
        "language" : "text"
      },
      "language" : "text",
      "source" : [
        "# figures\n",
        "\n",
        "This is a text cell. Start editing!"
      ],
      "outputs" : [
      ]
    },
    {
      "cell_type" : "code",
      "execution_count" : 1,
      "metadata" : {
        "cell.metadata.exec_info" : {
          "startTs" : 1582591642857,
          "endTs" : 1582591643013
        },
        "language" : "scala"
      },
      "language" : "scala",
      "source" : [
        "import org.apache.spark._\n",
        "import org.apache.spark.sql.types._\n",
        "import scala.reflect.runtime.universe._\n",
        "import org.apache.spark.storage.StorageLevel\n",
        "import org.apache.spark.rdd._\n",
        "import org.apache.spark.sql._\n",
        "import org.apache.spark.sql.functions._\n",
        "import org.apache.spark.sql.expressions._\n",
        "import group.research.aging.spark.extensions._\n",
        "import group.research.aging.spark.extensions.functions._\n",
        "import kernel.display.html\n",
        "import org.apache.spark.ml.feature.PCAModel\n",
        "import org.apache.spark.ml.feature.PCA\n",
        "import org.apache.spark.ml.linalg.Matrix\n",
        "import org.apache.spark.ml.stat.Correlation\n",
        "import org.apache.spark.sql.expressions._"
      ],
      "outputs" : [
      ]
    },
    {
      "cell_type" : "markdown",
      "execution_count" : 2,
      "metadata" : {
        "language" : "text"
      },
      "language" : "text",
      "source" : [
        "## Extra spark functions\n",
        "\n"
      ],
      "outputs" : [
      ]
    },
    {
      "cell_type" : "code",
      "execution_count" : 3,
      "metadata" : {
        "cell.metadata.exec_info" : {
          "startTs" : 1582591644812,
          "endTs" : 1582591645062
        },
        "language" : "scala"
      },
      "language" : "scala",
      "source" : [
        "//adds index to make it easier to join the dataframes\n",
        "def addIndex(df: DataFrame) = spark.createDataFrame(\n",
        "  // Add index\n",
        "  df.rdd.zipWithIndex.map{case (r, i) => Row.fromSeq(r.toSeq :+ i)},\n",
        "  // Create schema\n",
        "  StructType(df.schema.fields :+ StructField(\"_index\", LongType, false))\n",
        ")"
      ],
      "outputs" : [
      ]
    },
    {
      "cell_type" : "code",
      "execution_count" : 4,
      "metadata" : {
        "cell.metadata.exec_info" : {
          "startTs" : 1582591646746,
          "endTs" : 1582591647189
        },
        "language" : "scala"
      },
      "language" : "scala",
      "source" : [
        "def transpose(df: DataFrame) = {\n",
        "    val (header, data) = df.collect.map(_.toSeq.toArray).transpose match {\n",
        "  case Array(h, t @ _*) => {\n",
        "    (h.map(_.toString), t.map(_.collect { case x: Int => x }))\n",
        "  }\n",
        "}\n",
        "    val rows = df.columns.tail.zip(data).map { case (x, ys) => Row.fromSeq(x +: ys) }\n",
        "    val schema = StructType(\n",
        "      StructField(\"vals\", StringType) +: header.map(StructField(_, IntegerType))\n",
        "    )\n",
        "spark.createDataFrame(spark.sparkContext.parallelize(rows), schema)\n",
        "}"
      ],
      "outputs" : [
      ]
    },
    {
      "cell_type" : "code",
      "execution_count" : 5,
      "metadata" : {
        "cell.metadata.exec_info" : {
          "startTs" : 1582591648636,
          "endTs" : 1582591648869
        },
        "language" : "scala"
      },
      "language" : "scala",
      "source" : [
        "def round2(v: Double): Double =  Math.round(100.0 * v) / 100.0 \n",
        "def log2(x: Double): Double = Math.log10(x) / Math.log10(2.0)\n",
        "def log20(x: Double): Double = Math.log10(x) / Math.log10(2.0)\n",
        "\n",
        "\n",
        "def safeLog(v: Double): Double = if(v.isNaN || v <= 1) 0.0 else round2(Math.log10(v)) \n",
        "def safeLog20(v: Double): Double = if(v.isNaN || v <= 1) 0.0 else round2(log20(v)) \n",
        "\n",
        "\n",
        "def logs(df: DataFrame, cols: List[String]) = {\n",
        "  val fun = udf[Double, Double](safeLog)\n",
        "  cols.foldLeft(df){\n",
        "    case (acc, c) => acc.withColumn(c, fun(new ColumnName(c)))\n",
        "  }\n",
        "}"
      ],
      "outputs" : [
      ]
    },
    {
      "cell_type" : "code",
      "execution_count" : 6,
      "metadata" : {
        "cell.metadata.exec_info" : {
          "startTs" : 1582591650001,
          "endTs" : 1582591650471
        },
        "language" : "scala"
      },
      "language" : "scala",
      "source" : [
        "def coord(i: Int): UserDefinedFunction = udf[Double, org.apache.spark.ml.linalg.Vector]{ vec => vec(i) }\n",
        "val x_udf = coord(0)\n",
        "val y_udf = coord(1)\n",
        "val z_udf = coord(2)"
      ],
      "outputs" : [
      ]
    },
    {
      "cell_type" : "code",
      "execution_count" : 7,
      "metadata" : {
        "cell.metadata.exec_info" : {
          "startTs" : 1582591651220,
          "endTs" : 1582591651362
        },
        "language" : "scala"
      },
      "language" : "scala",
      "source" : [
        "def script_import(src: String) =  html(s\"\"\"<script  src=\"${src}\" charset=\"utf-8\"></script>\"\"\")\n",
        "def plotly() = script_import(\"https://cdn.plot.ly/plotly-latest.js\")\n",
        "def div(id: String) = html(s\"\"\"<div id=\"${id}\"></div>\"\"\")"
      ],
      "outputs" : [
      ]
    },
    {
      "cell_type" : "code",
      "execution_count" : 76,
      "metadata" : {
        "cell.metadata.exec_info" : {
          "startTs" : 1582591721310,
          "endTs" : 1582591721581
        },
        "language" : "scala"
      },
      "language" : "scala",
      "source" : [
        "def seq2StringArray(seq: Seq[String]) = \"[\" + seq.map(\"\\\"\" + _ + \"\\\"\").mkString(\",\") + \"]\" \n",
        "def seq2NumArray(seq: scala.collection.Seq[Double]) =  \"[\" + seq.mkString(\",\") + \"]\" \n",
        "def collectVec(vec: DataFrame): Array[Array[Double]] = vec.map{case org.apache.spark.sql.Row(v: org.apache.spark.ml.linalg.Vector) => v.toArray}.as[Array[Double]].collect"
      ],
      "outputs" : [
      ]
    },
    {
      "cell_type" : "markdown",
      "execution_count" : 9,
      "metadata" : {
        "language" : "text"
      },
      "language" : "text",
      "source" : [
        "**WORKAROUND**"
      ],
      "outputs" : [
      ]
    },
    {
      "cell_type" : "code",
      "execution_count" : 10,
      "metadata" : {
        "cell.metadata.exec_info" : {
          "startTs" : 1582591729096,
          "endTs" : 1582591729500
        },
        "language" : "scala"
      },
      "language" : "scala",
      "source" : [
        "def for_heatmap(vec: DataFrame, id: String, x: Seq[String], y: Seq[String], title: String,  \n",
        "left: Int = 300, top: Int = 250, width: Int = 1200, height: Int = 1000, \n",
        "labels: Boolean = true, logData: Boolean = false, logAnnotations: Boolean = false, \n",
        "colorScale: String = \"RdBu\", inverse: Boolean = false, showScale: Boolean = true,\n",
        " zmin: Double = 0.0, zmax: Double = 0.0, dataFontSize: Int = 16, tickFontSize: Int = 24, tickAngle: String = \"auto\"): String = {\n",
        "    \n",
        "val cv: Array[Array[Double]] = collectVec(vec)\n",
        "val numbers = cv.map(arr=>arr.map(n => round2(n))) //val vs = if(inverse) {val max: Double =numbers.map(_.max).max numbers.map(arr => arr.map(max - _)) } else numbers\n",
        "val data =        numbers.map(arr=>seq2NumArray(arr.map{number=> if(logData) safeLog(number) else number })).mkString(\",\")\n",
        "val annotations = numbers.map(arr=>seq2NumArray(arr.map{number=> if(logAnnotations) safeLog(number) else number })).mkString(\",\")\n",
        "val start = s\"\"\"\n",
        "var layout = {\n",
        "  title: '${title}',\n",
        "  annotations: [],\n",
        "  margin: {\n",
        "    l: ${left},\n",
        "    r: 125,\n",
        "    t: ${top},\n",
        "    b: 50\n",
        "  },\n",
        "  width: ${width},\n",
        "  height: ${height},\n",
        "  xaxis: {\n",
        "    side: 'top',\n",
        "    tickfont: {\n",
        "      size: ${tickFontSize}\n",
        "    },\n",
        "    tickangle: '${tickAngle}'\n",
        "  },\n",
        "  yaxis: {\n",
        "    side: 'left',\n",
        "    autorange: 'reversed',\n",
        "    tickfont: {\n",
        "      size: ${tickFontSize}\n",
        "    }\n",
        "  },\n",
        "};\n",
        "\n",
        "var xValues = ${seq2StringArray(x)}\n",
        "var yValues =  ${seq2StringArray(y)}\n",
        "var zValues =  [${data}]\n",
        "var aValues =  [${annotations}]\n",
        "\n",
        "\"\"\"\n",
        "val end = s\"\"\"\n",
        "var data = [{\n",
        "   x: xValues,\n",
        "   y: yValues,\n",
        "   z: zValues,\n",
        "   ${if(zmin < zmax) \"zmin: \" + zmin + \", zmax: \"+ zmax + \",\"  else \"\"}\n",
        "   colorscale: '${colorScale}', ${if(showScale) \"\" else \" showscale: false ,\"}\n",
        "   type: 'heatmap' ${if(inverse) \", reversescale: true\" else \"\"}\n",
        " }];\n",
        " Plotly.newPlot('${id}', data, layout);\n",
        "\"\"\"\n",
        "\n",
        "val middle = s\"\"\"\n",
        "for ( var i = 0; i < yValues.length; i++ ) {\n",
        "  for ( var j = 0; j < xValues.length; j++ ) {\n",
        "    var currentValue = zValues[i][j];\n",
        "    if (currentValue != 0.0) {\n",
        "      var textColor = 'white';\n",
        "    }else{\n",
        "      var textColor = 'black';\n",
        "    }\n",
        "    var result = {\n",
        "      xref: 'x1',\n",
        "      yref: 'y1',\n",
        "      x: xValues[j],\n",
        "      y: yValues[i],\n",
        "      text: aValues[i][j],\n",
        "      font: {\n",
        "        family: 'Arial',\n",
        "        size: 5,\n",
        "        color: 'rgb(50, 171, 96)'\n",
        "      },\n",
        "      showarrow: false,\n",
        "      font: {\n",
        "        color: textColor,\n",
        "        size: '${dataFontSize}'\n",
        "      }\n",
        "    };\n",
        "    layout.annotations.push(result);\n",
        "  }\n",
        "}\n",
        "\"\"\"\n",
        "val res: String = if(labels) start + middle + end else start + end\n",
        "//script(res, \"drawing heatmap\")\n",
        " s\"\"\"<script type=\"text/javascript\" charset=\"utf-8\">${res}</script>\n",
        "    <h3>${id} heatmap has been displayed</h3>\"\"\"\n",
        "}\n",
        "\n",
        "def for_makeHeatmap(df: DataFrame, label: String, features: Seq[String], \n",
        "div: String, title: String, left: Int = 300, top: Int = 300,\n",
        " width: Int = 1000, height: Int = 1000, labels: Boolean = true, \n",
        " logData: Boolean = false, logAnnotations: Boolean = false, \n",
        " colorScale: String = \"RdBu\", inverse: Boolean = false, showScale: Boolean = true, \n",
        " zmin: Double = 0.0, zmax: Double = 0.0, names: List[String] = List.empty[String], \n",
        "//dataFontSize: Int = 16, tickFontSize: Int = 24, tickAngle: String = \"auto\"\n",
        "dataFontSize: Int = 18, tickFontSize: Int = 20, tickAngle: String = \"-30\"\n",
        "): String = {\n",
        "    val y = df.select(label).as[String].collect.toList\n",
        "    val x = if(names.isEmpty) features.toList else names\n",
        "    val vec = df.toVectors(features, \"features\")\n",
        "    for_heatmap(vec, div, x, y, title, left, top, width, height, labels, logData, logAnnotations, colorScale, inverse, showScale, zmin, zmax, dataFontSize = dataFontSize, tickFontSize = tickFontSize, tickAngle = tickAngle)\n",
        "}\n",
        "\n"
      ],
      "outputs" : [
      ]
    },
    {
      "cell_type" : "code",
      "execution_count" : 11,
      "metadata" : {
        "cell.metadata.exec_info" : {
          "startTs" : 1582595084255,
          "endTs" : 1582595084343
        },
        "language" : "scala"
      },
      "language" : "scala",
      "source" : [
        "\n",
        "html(s\"\"\"<script src=\"https://cdn.plot.ly/plotly-latest.js\" charset=\"utf-8\"></script><h1>Activate plotly!</h1>\"\"\")"
      ],
      "outputs" : [
        {
          "data" : {
            "text/html" : [
              "<script src=\"https://cdn.plot.ly/plotly-latest.js\" charset=\"utf-8\"></script><h1>Activate plotly!</h1>"
            ]
          },
          "output_type" : "display_data"
        }
      ]
    },
    {
      "cell_type" : "markdown",
      "execution_count" : 12,
      "metadata" : {
        "language" : "text"
      },
      "language" : "text",
      "source" : [
        "## Pathes\n",
        "\n"
      ],
      "outputs" : [
      ]
    },
    {
      "cell_type" : "code",
      "execution_count" : 13,
      "metadata" : {
        "cell.metadata.exec_info" : {
          "startTs" : 1582592923791,
          "endTs" : 1582592924032
        },
        "language" : "scala"
      },
      "language" : "scala",
      "source" : [
        "//General Pathes\n",
        "val dataPath = \"/data/\"\n",
        "val databasesPath = dataPath + \"databases/\"\n",
        "val resultsPath = dataPath + \"results/\"\n",
        "val whalePath = resultsPath + \"gray-whale/\"\n",
        "//Indexes\n",
        "val indexesPath = dataPath + \"indexes/\"\n",
        "val reactomePath = indexesPath + \"reactome/\"\n",
        "//Expressions Pathes\n",
        "val expressionsPath = whalePath + \"Expressions/\"\n",
        "val unirefPath = expressionsPath + \"uniref90/\"\n",
        "//Comparison folder\n",
        "val comparisonsPath = expressionsPath + \"Comparisons/\"\n",
        "val comparisonsUniref = comparisonsPath + \"uniref90_comparisons/\"\n",
        "\n",
        "val annotationsPath = comparisonsPath + \"annotations/\"\n",
        "//GO pathes\n",
        "val byGoPath = expressionsPath + \"GO/\"\n",
        "val grouped = byGoPath + \"grouped/\" + \"updated/\"\n",
        "val ranked = grouped + \"ranked/\"\n",
        "\n",
        "val figuresPath = expressionsPath + \"Figures/\"\n",
        "val comparison = byGoPath + \"gray_whale_with_bowhead_with_minke_with_NMR_with_human_with_mouse_with_cow_full_outer_counts_extended.tsv\""
      ],
      "outputs" : [
      ]
    },
    {
      "cell_type" : "code",
      "execution_count" : 14,
      "metadata" : {
        "cell.metadata.exec_info" : {
          "startTs" : 1582593015373,
          "endTs" : 1582593042214
        },
        "language" : "scala"
      },
      "language" : "scala",
      "source" : [
        "//val goTable    = spark.readTSV(comparison, true)\n",
        "val components = spark.readTSV(grouped + \"by_cellular_component_ranked.tab\"  , true)\n",
        "val processes  = spark.readTSV(grouped + \"by_biological_process_ranked.tab\"  , true)\n",
        "val functions  = spark.readTSV(grouped + \"by_molecular_function_ranked.tab\"  , true)"
      ],
      "outputs" : [
      ]
    },
    {
      "cell_type" : "code",
      "execution_count" : 16,
      "metadata" : {
        "cell.metadata.exec_info" : {
          "startTs" : 1582594280892,
          "endTs" : 1582594282218
        },
        "language" : "scala"
      },
      "language" : "scala",
      "source" : [
        "import scala.collection.immutable._\n",
        " val longevity = ListMap(\n",
        "    \"human\" -> 122.5,\n",
        "    \"bowhead whale\" -> 211.0,\n",
        "    \"gray whale\" -> 77.0,\n",
        "    \"minke whale\" -> 50,\n",
        "    \"brandt's bat\"   -> 41.0,\n",
        "    \"naked mole rat\" -> 31.0,\n",
        "    \"cow\" -> 20.0,\n",
        "    \"house mouse\" -> 4.0    )\n",
        "val featuresMap: ListMap[String, String] = ListMap(\n",
        " \"bowhead_whale_liver\" -> \"Bowhead whale liver\" ,\n",
        " \"gray_whale_liver\" -> \"Gray whale liver\",\n",
        " \"minke_liver\" -> \"Minke whale liver\",\n",
        "\"human_liver\" -> \"Human liver\",\n",
        "\"bat_liver_1\" -> \"Bat 1 liver\",\n",
        "\"bat_liver_2\" -> \"Bat 2 liver\",\n",
        "\"NMR_liver\" -> \"Naked mole rat liver\",\n",
        " \"cow_totalRNA_liver\" -> \"Cow 1 liver\",\n",
        "\"cow_mRNA_liver\" -> \"Cow 2 liver\",\n",
        " \"mouse_totalRNA_liver\" -> \"Mouse 1 liver\",\n",
        "\"mouse_mRNA_liver\" -> \"Mouse 2 liver\",\n",
        " \"bowhead_whale_kidney\" -> \"Bowhead whale kidney\",\n",
        "\"gray_whale_kidney\" -> \"Gray whale kidney\",\n",
        "\"minke_kidney\" -> \"Minke whale kidney\",\n",
        "\"human_kidney\" -> \"Human kidney\",\n",
        "\"bat_kidney_1\" -> \"Bat 1 kidney\",\n",
        "\"bat_kidney_2\" -> \"Bat 2 kidney\",\n",
        "\"NMR_kidney\" -> \"Naked mole rat kidney\",\n",
        "\"cow_totalRNA_kidney\" -> \"Cow 1 kidney\",\n",
        "\"cow_mRNA_kidney\" -> \"Cow 2 kidney\",\n",
        " \"mouse_totalRNA_kidney\" -> \"Mouse 1 kidney\",\n",
        "\"mouse_mRNA_kidney\"->\"Mouse 2 kidney\")\n",
        "\n",
        "val prettyFeatures = featuresMap.values.toList//.map(v=> \"`\"+v+\"`\")\n",
        "val prettyLiverFeatures = prettyFeatures.filter(_.contains(\"liver\"))\n",
        "val prettyKidneyFeatures = prettyFeatures.filter(_.contains(\"kidney\"))\n",
        "\n",
        "val featuresOrdered = featuresMap.keys.toList\n",
        "val liverFeatures = featuresOrdered.filter(_.contains(\"liver\"))\n",
        "val kidneyFeatures = featuresOrdered.filter(_.contains(\"kidney\"))\n",
        "\n",
        "def prettyName(df: DataFrame, cols: Seq[String]) = df.rename(featuresMap).select(cols.head, (cols.tail++prettyFeatures):_* )\n",
        "\n",
        "val featuresMapRanked: ListMap[String, String] = ListMap(\n",
        "\"bowhead_whale_liver_rank\" -> \"Bowhead whale liver\",\n",
        "\"gray_whale_liver_rank\" -> \"Gray whale liver\",\n",
        "\"minke_liver_rank\" -> \"Minke whale liver\",\n",
        "\"human_liver_rank\" -> \"Human liver\",\n",
        "\"bat_liver_1_rank\" -> \"Bat 1 liver\",\n",
        "\"bat_liver_2_rank\" -> \"Bat 2 liver\",\n",
        "\"NMR_liver_rank\" -> \"Naked mole rat liver\",\n",
        "\"cow_totalRNA_liver_rank\" -> \"Cow 1 liver\",\n",
        "\"cow_mRNA_liver_rank\" -> \"Cow 2 liver\",\n",
        "\"mouse_totalRNA_liver_rank\" -> \"Mouse 1 liver\",\n",
        "\"mouse_mRNA_liver_rank\" -> \"Mouse 2 liver\",\n",
        "\"bowhead_whale_kidney_rank\"->\"Bowhead whale kidney\",\n",
        "\"gray_whale_kidney_rank\" -> \"Gray whale kidney\",\n",
        "\"minke_kidney_rank\" -> \"Minke whale kidney\",\n",
        "\"human_kidney_rank\" -> \"Human kidney\",\n",
        "\"bat_kidney_1_rank\" -> \"Bat 1 kidney\",\n",
        "\"bat_kidney_2_rank\" -> \"Bat 2 kidney\",\n",
        "\"NMR_kidney_rank\" -> \"Naked mole rat kidney\",\n",
        "\"cow_totalRNA_kidney_rank\" -> \"Cow 1 kidney\",\n",
        "\"cow_mRNA_kidney_rank\" -> \"Cow 2 kidney\",\n",
        "\"mouse_totalRNA_kidney_rank\" -> \"Mouse 1 kidney\",\n",
        "\"mouse_mRNA_kidney_rank\"->\"Mouse 2 kidney\"\n",
        ")\n",
        "\n",
        "val prettyFeaturesRanked = featuresMapRanked.values.toList//.map(v=> \"`\"+v+\"`\")\n",
        "val prettyLiverFeaturesRanked = prettyFeaturesRanked.filter(_.contains(\"liver\"))\n",
        "val prettyKidneyFeaturesRanked = prettyFeaturesRanked.filter(_.contains(\"kidney\"))\n",
        "\n",
        "val featuresOrderedRanked = featuresMapRanked.keys.toList\n",
        "val liverFeaturesRanked = featuresOrderedRanked.filter(_.contains(\"liver\"))\n",
        "val kidneyFeaturesRanked = featuresOrderedRanked.filter(_.contains(\"kidney\"))\n",
        "\n",
        "def rename(str: String) = featuresMap(str)\n",
        "val renameUDF = udf(rename _)"
      ],
      "outputs" : [
      ]
    },
    {
      "cell_type" : "code",
      "execution_count" : 17,
      "metadata" : {
        "cell.metadata.exec_info" : {
          "startTs" : 1582594300865,
          "endTs" : 1582594301398
        },
        "language" : "scala"
      },
      "language" : "scala",
      "source" : [
        "val all_pro = processes.select(\"go\", featuresOrdered:_*).na.fill(0.0).sort($\"bowhead_whale_liver\".desc)\n",
        "val liver_pro = processes.select(\"go\", liverFeatures:_*).na.fill(0.0).sort($\"bowhead_whale_liver\".desc)\n",
        "val kidney_pro = processes.select(\"go\", kidneyFeatures:_*).na.fill(0.0).sort($\"bowhead_whale_kidney\".desc)\n",
        "//and ranked\n",
        "val all_pro_ranked = processes.select(\"go\", featuresOrdered:_*).na.fill(0.0).sort($\"bowhead_whale_liver\".desc)\n",
        "val liver_pro_ranked = processes.select(\"go\", liverFeaturesRanked:_*).na.fill(0.0).sort($\"bowhead_whale_liver\".desc)\n",
        "val kidney_pro_ranked = processes.select(\"go\", kidneyFeaturesRanked:_*).na.fill(0.0).sort($\"bowhead_whale_kidney\".desc)\n",
        "all_pro.show(10, 10000)"
      ],
      "outputs" : [
        {
          "name" : "stdout",
          "text" : [
            "+----------+-------------------+------------------+-----------------+------------------+------------------+------------------+-----------------+------------------+------------------+--------------------+------------------+--------------------+-----------------+------------------+------------------+------------------+------------------+------------------+-------------------+------------------+---------------------+------------------+\n",
            "|        go|bowhead_whale_liver|  gray_whale_liver|      minke_liver|       human_liver|       bat_liver_1|       bat_liver_2|        NMR_liver|cow_totalRNA_liver|    cow_mRNA_liver|mouse_totalRNA_liver|  mouse_mRNA_liver|bowhead_whale_kidney|gray_whale_kidney|      minke_kidney|      human_kidney|      bat_kidney_1|      bat_kidney_2|        NMR_kidney|cow_totalRNA_kidney|   cow_mRNA_kidney|mouse_totalRNA_kidney| mouse_mRNA_kidney|\n",
            "+----------+-------------------+------------------+-----------------+------------------+------------------+------------------+-----------------+------------------+------------------+--------------------+------------------+--------------------+-----------------+------------------+------------------+------------------+------------------+------------------+-------------------+------------------+---------------------+------------------+\n",
            "|GO:0006412| 20034.802301962056| 58727.85268499997|     58984.534049| 5245.888943999999|         11.592087| 9.006585000000001|99321.06117499995|      66453.233819| 66083.20671399997|  19875.159683999995|       5806.578341|   7580.873805999998|58516.40469099998| 83876.08076099999|4572.8019749999985|         17.096823|13.009627000000002| 68055.43613499998|  69545.42429499998|53565.293888999986|         40136.835409|       9191.198294|\n",
            "|GO:0006412| 20034.802301962056| 58727.85268499997|     58984.534049| 5245.888943999999|11461.204409000002|11199.348155999996|99321.06117499995|      66453.233819| 66083.20671399997|  19875.159683999995|       5806.578341|   7580.873805999998|58516.40469099998| 83876.08076099999|4572.8019749999985| 18323.70181300001|17778.048984999994| 68055.43613499998|  69545.42429499998|53565.293888999986|         40136.835409|       9191.198294|\n",
            "|GO:0007165| 11456.244697941876| 6345.571518000001|17049.13610699998|1871.5450460000013|252.75275299999998|        195.582198|5745.532362000001|34819.135545000005| 35282.64576900001|   9690.572680000001|3127.0589600000017|   730.4105399999999|      3046.372351| 6794.475674000003|1041.1421799999996|         336.50722|        304.605514|15650.777031999995|  6107.394953999999| 5616.347282000002|   4040.2445849999995|1685.9299770000005|\n",
            "|GO:0007165| 11456.244697941876| 6345.571518000001|17049.13610699998|1871.5450460000013|1810.7726470000005|1536.2273649999997|5745.532362000001|34819.135545000005| 35282.64576900001|   9690.572680000001|3127.0589600000017|   730.4105399999999|      3046.372351| 6794.475674000003|1041.1421799999996|2822.4752529999982|2719.5041209999995|15650.777031999995|  6107.394953999999| 5616.347282000002|   4040.2445849999995|1685.9299770000005|\n",
            "|GO:0030168|  9649.878922000002|4825.8970690000015|     14085.401642|       1058.395809| 8971.712466999996|12028.661646000002|887.6625829999999|      10698.901304|11298.885510999999|  1729.4141550000004|482.70528100000007|  110.74727799999997|        735.49409|1004.8954389999998|134.17107599999997| 393.3115389999999|        376.627712|11081.015959999999|         237.670793|180.64763300000004|   159.42827300000002|109.47629799999997|\n",
            "|GO:0051258|         9473.79854|4646.9995340000005|     13621.621028|1904.3595319999997|       7877.830431|11316.542529999999|         4.505929|      34760.626846|      35126.642207|         8140.634027|2779.6352730000003|           35.290827|       390.045118|280.32039199999997|         22.633872|        116.753212|125.82486399999998|      10497.265408|         347.760066|        348.600377|   1375.6564609999998| 584.9646290000001|\n",
            "|GO:0007596|  8261.123065465594| 3650.397700999999|9578.134696000001|2022.9721479999994|        1724.83386|1772.9893130000003|      1057.343777| 6076.552737000001|       6110.565394|   8268.755888000002|       2723.067375|  142.51655499999998|       415.402641|       1427.116824|244.82055299999996| 909.2252550000001| 941.0313249999999|       3242.578244| 1322.5566060000006|       1244.529546|           908.046408| 425.8327779999999|\n",
            "|GO:0006364|  8108.256701089998| 19892.75400300001|     20716.442639|3773.3374890000014|       1823.820699|1787.5411310000002|     27889.193586|       8758.324353| 9679.402648000001|         4860.838548|1351.9426559999997|  3307.1603040000005|     19910.099414|      28506.682685|3318.7875520000016|       3108.892098|3248.3262569999993|17208.674091999997|        8957.417896|       7887.324251|   10758.778921000001|       2236.514993|\n",
            "|GO:0006364|  8108.256701089998| 19892.75400300001|     20716.442639|3773.3374890000014|         18.659573|14.739277000000001|     27889.193586|       8758.324353| 9679.402648000001|         4860.838548|1351.9426559999997|  3307.1603040000005|     19910.099414|      28506.682685|3318.7875520000016|         18.392401|         17.595225|17208.674091999997|        8957.417896|       7887.324251|   10758.778921000001|       2236.514993|\n",
            "|GO:0042730|          8078.0922|3309.0822060000005|8968.183581000001|1513.7249979999997|        4112.59185|       5113.536698|          35.7291|30018.726055000003|       29555.02909|  10014.604452000001|3125.4515840000004|           42.979186|        72.845263|        282.935956|55.952070000000006|         109.48456|        106.440135|        425.171844|         311.428844|        190.876629|   343.68039000000005|         204.24518|\n",
            "+----------+-------------------+------------------+-----------------+------------------+------------------+------------------+-----------------+------------------+------------------+--------------------+------------------+--------------------+-----------------+------------------+------------------+------------------+------------------+------------------+-------------------+------------------+---------------------+------------------+\n",
            "only showing top 10 rows\n",
            "\n"
          ],
          "output_type" : "stream"
        }
      ]
    },
    {
      "cell_type" : "markdown",
      "execution_count" : 18,
      "metadata" : {
        "language" : "text"
      },
      "language" : "text",
      "source" : [
        "## Distributions of GO figures\n",
        "\n",
        "\n"
      ],
      "outputs" : [
      ]
    },
    {
      "cell_type" : "code",
      "execution_count" : 19,
      "metadata" : {
        "cell.metadata.exec_info" : {
          "startTs" : 1582593341810,
          "endTs" : 1582593341987
        },
        "language" : "scala"
      },
      "language" : "scala",
      "source" : [
        "def whaleBy(path: String): DataFrame = {\n",
        "    val pro = spark.readTSV(path, false).toDF(\"category\", \"label\", \"count\", \"go\")\n",
        "    val whale_pro = processes.select(\"go\",\"gray_whale_liver\",\"gray_whale_kidney\").where($\"gray_whale_liver\" =!= 0.0 || $\"gray_whale_kidney\" =!= 0.0)\n",
        "    val whale =  pro.join(whale_pro, Seq(\"go\"))\n",
        "    whale.groupBy(\"category\", \"label\", \"count\").agg(count($\"go\").as(\"count_in_whale\"), sum($\"gray_whale_liver\").as(\"liver_sum\"), sum($\"gray_whale_kidney\").as(\"kidney_sum\"))\n",
        "}"
      ],
      "outputs" : [
      ]
    },
    {
      "cell_type" : "code",
      "execution_count" : 20,
      "metadata" : {
        "cell.metadata.exec_info" : {
          "startTs" : 1582593344529,
          "endTs" : 1582593344671
        },
        "language" : "scala"
      },
      "language" : "scala",
      "source" : [
        "def whaleCompBy(path: String): DataFrame = {\n",
        "    val com = spark.readTSV(path, false).toDF(\"category\", \"label\", \"count\", \"go\")\n",
        "    val whale_com = components.select(\"go\",\"gray_whale_liver\",\"gray_whale_kidney\").where($\"gray_whale_liver\" =!= 0.0 || $\"gray_whale_kidney\" =!= 0.0)\n",
        "    val whale =  com.join(whale_com, Seq(\"go\"))\n",
        "    whale.groupBy(\"category\", \"label\", \"count\").agg(count($\"go\").as(\"count_in_whale\"), sum($\"gray_whale_liver\").as(\"liver_sum\"), sum($\"gray_whale_kidney\").as(\"kidney_sum\"))\n",
        "}"
      ],
      "outputs" : [
      ]
    },
    {
      "cell_type" : "code",
      "execution_count" : 21,
      "metadata" : {
        "cell.metadata.exec_info" : {
          "startTs" : 1582593347455,
          "endTs" : 1582593348169
        },
        "language" : "scala"
      },
      "language" : "scala",
      "source" : [
        "components.limit(10).show(10,10000)"
      ],
      "outputs" : [
        {
          "name" : "stdout",
          "text" : [
            "+----------+------------------+------------------------------+-----------------+--------------+------------+-----------------+-----------------------+-----------------------+---------------------+-----------------------------------------------+------------------+-------------------+------------------+------------------+------------------+--------------------+------------------+------------------+-----------------+------------------+------------------+------------------+--------------------+------------------+------------------+------------------+---------------------+------------------+-------------------+------------------+------------------+------------------+---------------------+------------------------+----------------+--------------+----------------+-------------------------+---------------------+-----------------------+-------------------+----------------+----------------+----------------------+-------------------------+-----------------+---------------+-----------------+--------------------------+----------------------+------------------------+--------------------+-----------------+-----------------+-------------------+\n",
            "|        go|         namespace|                         label|   gray_whale_avg|uniref90_count|taxons_count|transcripts_count|human_transcripts_count|mouse_transcripts_count|cow_transcripts_count|                                           type|  gray_whale_liver|bowhead_whale_liver|       minke_liver|         NMR_liver|       human_liver|mouse_totalRNA_liver|  mouse_mRNA_liver|cow_totalRNA_liver|   cow_mRNA_liver|       bat_liver_1|       bat_liver_2| gray_whale_kidney|bowhead_whale_kidney|      minke_kidney|        NMR_kidney|      human_kidney|mouse_totalRNA_kidney| mouse_mRNA_kidney|cow_totalRNA_kidney|   cow_mRNA_kidney|      bat_kidney_1|      bat_kidney_2|gray_whale_liver_rank|bowhead_whale_liver_rank|minke_liver_rank|NMR_liver_rank|human_liver_rank|mouse_totalRNA_liver_rank|mouse_mRNA_liver_rank|cow_totalRNA_liver_rank|cow_mRNA_liver_rank|bat_liver_1_rank|bat_liver_2_rank|gray_whale_kidney_rank|bowhead_whale_kidney_rank|minke_kidney_rank|NMR_kidney_rank|human_kidney_rank|mouse_totalRNA_kidney_rank|mouse_mRNA_kidney_rank|cow_totalRNA_kidney_rank|cow_mRNA_kidney_rank|bat_kidney_1_rank|bat_kidney_2_rank|gray_whale_avg_rank|\n",
            "+----------+------------------+------------------------------+-----------------+--------------+------------+-----------------+-----------------------+-----------------------+---------------------+-----------------------------------------------+------------------+-------------------+------------------+------------------+------------------+--------------------+------------------+------------------+-----------------+------------------+------------------+------------------+--------------------+------------------+------------------+------------------+---------------------+------------------+-------------------+------------------+------------------+------------------+---------------------+------------------------+----------------+--------------+----------------+-------------------------+---------------------+-----------------------+-------------------+----------------+----------------+----------------------+-------------------------+-----------------+---------------+-----------------+--------------------------+----------------------+------------------------+--------------------+-----------------+-----------------+-------------------+\n",
            "|GO:0070062|cellular_component|         extracellular exosome|      95231.76295|           726|         929|              876|                   2714|                    116|                 2162|complete;5prime_partial;internal;3prime_partial| 82627.97828900004|  43406.81879601012|103879.82613499998|189153.98861699994| 34179.85539700001|   63059.86755299999|12146.704848999996| 407115.5446490002|402875.4094160001|12459.023577999997|12240.693335000007|107835.54761100012|        12291.983165|139226.62839100015|251177.67484400002|17317.253403999995|    8189.928592999998|3009.2303389999997| 284041.33320799994| 274118.5267729999|20086.912795999997|      19027.834378|                    1|                       1|               1|             1|               1|                       12|                   16|                      1|                  1|              10|              10|                     1|                        4|                1|              1|                3|                        46|                    45|                       2|                   2|                8|                8|                  1|\n",
            "|GO:0070062|cellular_component|         extracellular exosome|      95231.76295|           726|         929|              876|                   2714|                    116|                 2162|complete;5prime_partial;internal;3prime_partial| 82627.97828900004|  43406.81879601012|103879.82613499998|189153.98861699994| 34179.85539700001|   63059.86755299999|12146.704848999996| 407115.5446490002|402875.4094160001|        528.264156| 574.8840720000001|107835.54761100012|        12291.983165|139226.62839100015|251177.67484400002|17317.253403999995|    8189.928592999998|3009.2303389999997| 284041.33320799994| 274118.5267729999|         870.47023| 946.7094239999998|                    1|                       1|               1|             1|               1|                       12|                   16|                      1|                  1|             164|             154|                     1|                        4|                1|              1|                3|                        46|                    45|                       2|                   2|              125|              118|                  1|\n",
            "|GO:0016021|cellular_component|integral component of membrane|    81241.0623675|          1391|         565|             1713|                   9561|                   8900|                 4715|5prime_partial;complete;3prime_partial;internal| 62374.28512099997|  27353.04877027518| 55178.75498600001|108836.22230300008|      11032.347553|       168821.304916|28909.156348999997|198371.61491800006|189068.7378029999|31293.667532000018|26379.918117000005|     100107.839614|  24343.312661999982| 94079.22781100006|149277.02259700003|30508.606157000006|   241562.48318399998| 51496.39662599999| 315467.63018200017|373243.68564099993| 35415.92437499999| 36627.32599800002|                    2|                       4|               6|             6|               8|                        3|                    8|                      2|                  2|               3|               4|                     2|                        1|                5|              2|                1|                         2|                     2|                       1|                   1|                1|                1|                  2|\n",
            "|GO:0016021|cellular_component|integral component of membrane|    81241.0623675|          1391|         565|             1713|                   9561|                   8900|                 4715|5prime_partial;complete;3prime_partial;internal| 62374.28512099997|  27353.04877027518| 55178.75498600001|108836.22230300008|      11032.347553|       168821.304916|28909.156348999997|198371.61491800006|189068.7378029999|       8249.095348|7028.4822960000065|     100107.839614|  24343.312661999982| 94079.22781100006|149277.02259700003|30508.606157000006|   241562.48318399998| 51496.39662599999| 315467.63018200017|373243.68564099993|      11266.980028|      11234.682252|                    2|                       4|               6|             6|               8|                        3|                    8|                      2|                  2|              18|              21|                     2|                        1|                5|              2|                1|                         2|                     2|                       1|                   1|               13|               12|                  2|\n",
            "|GO:0005829|cellular_component|                       cytosol|    61398.1790675|          1109|         994|             1376|                   6775|                   5043|                 2348|complete;3prime_partial;5prime_partial;internal|50912.655819000014| 29665.787975965563| 72109.60757099999| 188757.6132710001| 20623.12592999999|  148373.97883200005|      100424.52617|  86184.9085600001|90951.61626199998|17416.220077999995| 16745.21679700001| 71883.70231600002|  12335.804511999993|124936.20551199997| 132241.5113150001|13435.613476000004|   105758.17169699995|43636.518504000014| 111689.96638100002|102744.94863500002|      24845.416096| 23481.33331900002|                    5|                       3|               2|             2|               4|                        5|                    2|                      5|                  6|               8|               8|                     3|                        3|                2|              3|                4|                         3|                     3|                       4|                   4|                4|                4|                  3|\n",
            "|GO:0005829|cellular_component|                       cytosol|    61398.1790675|          1109|         994|             1376|                   6775|                   5043|                 2348|complete;3prime_partial;5prime_partial;internal|50912.655819000014| 29665.787975965563| 72109.60757099999| 188757.6132710001| 20623.12592999999|  148373.97883200005|      100424.52617|  86184.9085600001|90951.61626199998|20550.202911000008| 18300.47772899999| 71883.70231600002|  12335.804511999993|124936.20551199997| 132241.5113150001|13435.613476000004|   105758.17169699995|43636.518504000014| 111689.96638100002|102744.94863500002|21499.736783999993|21683.063729999994|                    5|                       3|               2|             2|               4|                        5|                    2|                      5|                  6|               6|               7|                     3|                        3|                2|              3|                4|                         3|                     3|                       4|                   4|                7|                5|                  3|\n",
            "|GO:0005840|cellular_component|                      ribosome|     59087.688684|            89|         316|               99|                    297|                    123|                   40|complete;5prime_partial;internal;3prime_partial| 58631.94472899998|  23801.48132475636| 65881.81530099995|103165.58999999998|2209.9476119999995|   5478.616020999998|       1831.119411| 5936.298134999999|      6073.805264| 8074.725239999998| 8084.429240000003|59543.432639000006|   9270.050664999997| 92530.64897999998| 71492.44906799999|1924.4887119999999|         10029.277271|2800.6401849999993|  5875.225427000001| 4481.681578999999|      13291.547438|13197.240919999998|                    3|                       6|               4|             7|              37|                       71|                   70|                     69|                 71|              19|              20|                     5|                        7|                6|              7|               24|                        42|                    46|                      63|                  71|               10|               10|                  4|\n",
            "|GO:0005840|cellular_component|                      ribosome|     59087.688684|            89|         316|               99|                    297|                    123|                   40|complete;5prime_partial;internal;3prime_partial| 58631.94472899998|  23801.48132475636| 65881.81530099995|103165.58999999998|2209.9476119999995|   5478.616020999998|       1831.119411| 5936.298134999999|      6073.805264| 4861.795679999998| 4946.208434000002|59543.432639000006|   9270.050664999997| 92530.64897999998| 71492.44906799999|1924.4887119999999|         10029.277271|2800.6401849999993|  5875.225427000001| 4481.681578999999| 7138.190570000002| 7061.505431000001|                    3|                       6|               4|             7|              37|                       71|                   70|                     69|                 71|              28|              29|                     5|                        7|                6|              7|               24|                        42|                    46|                      63|                  71|               19|               19|                  4|\n",
            "|GO:0005634|cellular_component|                       nucleus|57345.87068550001|          1431|        2115|             1830|                   7301|                   6496|                 2778|complete;5prime_partial;3prime_partial;internal| 55747.40112099999| 30295.434521280793| 70441.20552599998|     140240.092983|10470.131235999997|   94231.85965399996|      84031.996854|126193.50819700002|    143407.437234|22345.484704000002|20232.025698000016| 58944.34024999998|  11416.312302999997|     102915.768411| 90533.17986400002| 8808.929934000003|    81393.57837199996| 30863.47935199999| 118101.15175700001| 99420.20529599997|29520.300637000008|28844.954576000004|                    4|                       2|               3|             4|              10|                        9|                    3|                      4|                  4|               5|               5|                     6|                        5|                3|              4|                9|                         7|                     5|                       3|                   5|                2|                2|                  5|\n",
            "|GO:0005634|cellular_component|                       nucleus|57345.87068550001|          1431|        2115|             1830|                   7301|                   6496|                 2778|complete;5prime_partial;3prime_partial;internal| 55747.40112099999| 30295.434521280793| 70441.20552599998|     140240.092983|10470.131235999997|   94231.85965399996|      84031.996854|126193.50819700002|    143407.437234| 6031.657610000003| 5419.091340000002| 58944.34024999998|  11416.312302999997|     102915.768411| 90533.17986400002| 8808.929934000003|    81393.57837199996| 30863.47935199999| 118101.15175700001| 99420.20529599997| 9096.059557000004| 8342.526597999991|                    4|                       2|               3|             4|              10|                        9|                    3|                      4|                  4|              26|              26|                     6|                        5|                3|              4|                9|                         7|                     5|                       3|                   5|               15|               15|                  5|\n",
            "+----------+------------------+------------------------------+-----------------+--------------+------------+-----------------+-----------------------+-----------------------+---------------------+-----------------------------------------------+------------------+-------------------+------------------+------------------+------------------+--------------------+------------------+------------------+-----------------+------------------+------------------+------------------+--------------------+------------------+------------------+------------------+---------------------+------------------+-------------------+------------------+------------------+------------------+---------------------+------------------------+----------------+--------------+----------------+-------------------------+---------------------+-----------------------+-------------------+----------------+----------------+----------------------+-------------------------+-----------------+---------------+-----------------+--------------------------+----------------------+------------------------+--------------------+-----------------+-----------------+-------------------+\n",
            "\n"
          ],
          "output_type" : "stream"
        }
      ]
    },
    {
      "cell_type" : "code",
      "execution_count" : 22,
      "metadata" : {
        "cell.metadata.exec_info" : {
          "startTs" : 1582593352217,
          "endTs" : 1582593353865
        },
        "language" : "scala"
      },
      "language" : "scala",
      "source" : [
        "val components_1 = whaleCompBy(\"file:///data/results/gray-whale/other/components_1.tsv\")\n",
        "components_1.show(10,1000)"
      ],
      "outputs" : [
        {
          "name" : "stdout",
          "text" : [
            "+----------+-----------------------+-----+--------------+------------------+------------------+\n",
            "|  category|                  label|count|count_in_whale|         liver_sum|        kidney_sum|\n",
            "+----------+-----------------------+-----+--------------+------------------+------------------+\n",
            "|GO:0009295|               nucleoid|    7|             2|2636.6095800000007|       2412.783934|\n",
            "|GO:0043226|              organelle|  825|           401| 1389599.012467999|1821337.9545110015|\n",
            "|GO:0044217|    other organism part|  194|            13|       2280.027521|2292.8988550000004|\n",
            "|GO:0031974|membrane-enclosed lumen|  108|            35|24499.568999000003| 40622.16675800001|\n",
            "|GO:0045202|                synapse|   57|             7|1217.2051930000002|       4364.841341|\n",
            "|GO:0044464|              cell part| 6112|          2592|2695703.6589689967| 4189705.918438023|\n",
            "|GO:0005576|   extracellular region|    5|             3|      25599.467063|25504.770605000005|\n",
            "|GO:0044422|         organelle part| 2552|          1190|  875921.539721999|    1581261.453979|\n",
            "|GO:0005623|                   cell|    1|             2|24063.238995999985|11508.969365999998|\n",
            "|GO:0016020|               membrane|  423|           254| 355477.5717020004| 553779.3596159997|\n",
            "+----------+-----------------------+-----+--------------+------------------+------------------+\n",
            "only showing top 10 rows\n",
            "\n"
          ],
          "output_type" : "stream"
        }
      ]
    },
    {
      "cell_type" : "code",
      "execution_count" : 23,
      "metadata" : {
        "cell.metadata.exec_info" : {
          "startTs" : 1582593356341,
          "endTs" : 1582593357469
        },
        "language" : "scala"
      },
      "language" : "scala",
      "source" : [
        "val components_2 = whaleCompBy(\"file:///data/results/gray-whale/other/components_2.tsv\").cache\n",
        "components_2.show(10,1000)"
      ],
      "outputs" : [
        {
          "name" : "stdout",
          "text" : [
            "+----------+----------------------------+-----+--------------+------------------+------------------+\n",
            "|  category|                       label|count|count_in_whale|         liver_sum|        kidney_sum|\n",
            "+----------+----------------------------+-----+--------------+------------------+------------------+\n",
            "|GO:0005885|      Arp2/3 protein complex|    1|             2|        832.502276|1622.9855899999998|\n",
            "|GO:0044455| mitochondrial membrane part|   55|            35| 9472.593816999999|20136.837994999994|\n",
            "|GO:0000408|           EKC/KEOPS complex|    1|             2|3.3954120000000003|11.606936000000001|\n",
            "|GO:0070552|               BRISC complex|    1|             2| 39.69289200000001|         67.747112|\n",
            "|GO:0099081|      supramolecular polymer|   55|            29|       8345.409954|18602.344036000002|\n",
            "|GO:0044449|      contractile fiber part|   21|            16| 4747.413210000001|       7316.953035|\n",
            "|GO:0008537|proteasome activator complex|    1|             2|        242.437642|        208.078324|\n",
            "|GO:0044446|intracellular organelle part| 1917|           930| 572974.6915119991| 948858.8976869991|\n",
            "|GO:0043219|                lateral loop|    1|             1|15.264712999999999|         47.527855|\n",
            "|GO:0000930|       gamma-tubulin complex|   12|             3|129.88438299999999|        264.636292|\n",
            "+----------+----------------------------+-----+--------------+------------------+------------------+\n",
            "only showing top 10 rows\n",
            "\n"
          ],
          "output_type" : "stream"
        }
      ]
    },
    {
      "cell_type" : "code",
      "execution_count" : 24,
      "metadata" : {
        "cell.metadata.exec_info" : {
          "startTs" : 1582593359441,
          "endTs" : 1582593359597
        },
        "language" : "scala"
      },
      "language" : "scala",
      "source" : [
        "def whaleFunBy(path: String): DataFrame = {\n",
        "    val fun = spark.readTSV(path, false).toDF(\"category\", \"label\", \"count\", \"go\")\n",
        "    val whale_fun = functions.select(\"go\",\"gray_whale_liver\",\"gray_whale_kidney\").where($\"gray_whale_liver\" =!= 0.0 || $\"gray_whale_kidney\" =!= 0.0)\n",
        "    val whale =  fun.join(whale_fun, Seq(\"go\"))\n",
        "    whale.groupBy(\"category\", \"label\", \"count\").agg(count($\"go\").as(\"count_in_whale\"), sum($\"gray_whale_liver\").as(\"liver_sum\"), sum($\"gray_whale_kidney\").as(\"kidney_sum\"))\n",
        "}"
      ],
      "outputs" : [
      ]
    },
    {
      "cell_type" : "code",
      "execution_count" : 25,
      "metadata" : {
        "cell.metadata.exec_info" : {
          "startTs" : 1582593361548,
          "endTs" : 1582593362518
        },
        "language" : "scala"
      },
      "language" : "scala",
      "source" : [
        "val functions = whaleFunBy(\"/data/results/gray-whale/other/functions_2.tsv\")\n",
        "functions.show(10,1000)"
      ],
      "outputs" : [
        {
          "name" : "stdout",
          "text" : [
            "+----------+-------------------------------------------+-----+--------------+------------------+------------------+\n",
            "|  category|                                      label|count|count_in_whale|         liver_sum|        kidney_sum|\n",
            "+----------+-------------------------------------------+-----+--------------+------------------+------------------+\n",
            "|GO:0035804|         structural constituent of egg coat|    2|             1|          2.441426|               0.0|\n",
            "|GO:0016787|                         hydrolase activity| 2142|           625| 52474.12039799994| 97548.48693600003|\n",
            "|GO:0001134|transcription regulator recruiting activity|    4|             2|11.291333999999999|         22.674378|\n",
            "|GO:0003712|         transcription coregulator activity|    6|             9|       4344.391673|5375.9072879999985|\n",
            "|GO:0042165|                   neurotransmitter binding|   11|             3|        231.468562|        294.641535|\n",
            "|GO:0036094|                     small molecule binding|  287|           131| 187592.8783779997|349715.15753000014|\n",
            "|GO:0004791|   thioredoxin-disulfide reductase activity|    1|             1|        243.958536|        362.070584|\n",
            "|GO:0016247|                 channel regulator activity|   33|            18|1394.1761920000001|       1850.142866|\n",
            "|GO:0030246|                       carbohydrate binding|   50|            12|       2200.978409|3160.6086670000004|\n",
            "|GO:0098748|                 endocytic adaptor activity|    2|             1|11.007460000000002|         95.541077|\n",
            "+----------+-------------------------------------------+-----+--------------+------------------+------------------+\n",
            "only showing top 10 rows\n",
            "\n"
          ],
          "output_type" : "stream"
        }
      ]
    },
    {
      "cell_type" : "markdown",
      "execution_count" : 26,
      "metadata" : {
        "language" : "text"
      },
      "language" : "text",
      "source" : [
        "Correlations\n",
        "------------\n",
        "Correlations between species"
      ],
      "outputs" : [
      ]
    },
    {
      "cell_type" : "code",
      "execution_count" : 27,
      "metadata" : {
        "cell.metadata.exec_info" : {
          "startTs" : 1582593383090,
          "endTs" : 1582593383331
        },
        "language" : "scala"
      },
      "language" : "scala",
      "source" : [
        "def doublesByColumns(columns: Seq[String]): List[StructField] = columns.map(c=>StructField(c, DoubleType, false)).toList\n",
        "\n",
        "def convertCorrellationMatrix(matrix: Matrix, columns: Seq[String]) = {\n",
        "  require(columns.size == matrix.numCols)\n",
        "  for(r <- 0 until matrix.numRows) yield {\n",
        "    val seq = for(c <- 0 until matrix.numCols) yield matrix(r, c)\n",
        "    Row.fromSeq(columns(r)::seq.toList)\n",
        "  }\n",
        "}\n",
        "\n",
        "def transformCorrellationMatrix(dataFrame: DataFrame, columns: Seq[String])(implicit sparkSession: SparkSession): DataFrame = {\n",
        "      val rows  = dataFrame.rdd\n",
        "        .flatMap{ case Row(matrix: Matrix) => convertCorrellationMatrix(matrix, columns) }\n",
        "      sparkSession.createDataFrame(rows, StructType(StructField(\"column\", StringType, false)::doublesByColumns(columns)))\n",
        "    }\n",
        "    \n",
        "def spearmanCorrellation(dataFrame: DataFrame, columns: Seq[String])(implicit sparkSession: SparkSession): DataFrame = {\n",
        "  val cor = dataFrame.toVectors(columns.toSeq, \"features\").persist(StorageLevel.MEMORY_AND_DISK)\n",
        "  val df = Correlation.corr(cor, \"features\", method = \"spearman\")\n",
        "  transformCorrellationMatrix(df, columns)\n",
        "}"
      ],
      "outputs" : [
      ]
    },
    {
      "cell_type" : "code",
      "execution_count" : 28,
      "metadata" : {
        "cell.metadata.exec_info" : {
          "startTs" : 1582594320777,
          "endTs" : 1582594324914
        },
        "language" : "scala"
      },
      "language" : "scala",
      "source" : [
        "val all_cor = spearmanCorrellation(all_pro, featuresOrdered)(spark).withColumnRenamed(\"column\", \"go\")//.withColumn(\"go\", renameUDF($\"go\")).cache//.rename(featuresMap)\n",
        "all_cor.show(10,1000)"
      ],
      "outputs" : [
        {
          "name" : "stdout",
          "text" : [
            "+--------------------+-------------------+------------------+------------------+------------------+------------------+------------------+------------------+------------------+------------------+--------------------+------------------+--------------------+------------------+------------------+------------------+------------------+------------------+------------------+-------------------+------------------+---------------------+------------------+\n",
            "|                  go|bowhead_whale_liver|  gray_whale_liver|       minke_liver|       human_liver|       bat_liver_1|       bat_liver_2|         NMR_liver|cow_totalRNA_liver|    cow_mRNA_liver|mouse_totalRNA_liver|  mouse_mRNA_liver|bowhead_whale_kidney| gray_whale_kidney|      minke_kidney|      human_kidney|      bat_kidney_1|      bat_kidney_2|        NMR_kidney|cow_totalRNA_kidney|   cow_mRNA_kidney|mouse_totalRNA_kidney| mouse_mRNA_kidney|\n",
            "+--------------------+-------------------+------------------+------------------+------------------+------------------+------------------+------------------+------------------+------------------+--------------------+------------------+--------------------+------------------+------------------+------------------+------------------+------------------+------------------+-------------------+------------------+---------------------+------------------+\n",
            "| bowhead_whale_liver|                1.0|0.8482740967429943| 0.853325159164616|0.6036482361842569| 0.604446041666765|0.6017526159048604|0.6381743387702354|0.6379947224865545|0.6456427641911662|   0.580877148703212|0.5847670669878112|  0.8579338178818865|  0.83590046490008|0.8324518196740647|0.6413844738609189|0.6044456827472721|0.6044489801970047|0.6382157694287945| 0.6597092572135957| 0.659296451508416|   0.5993756908497803|0.6049796640052054|\n",
            "|    gray_whale_liver| 0.8482740967429943|               1.0|0.8600490577462248|0.6031739504096363|0.6096906042063707|0.6063011875077592| 0.631573380514073|0.6442847832162938|0.6486334443712957|  0.5953851629035009|0.5930862513695669|  0.8332456287328994|0.9634311609393466|0.8445599559335645|0.6442086585902711|0.6110796657864815|0.6112457118027698|0.6307962136639363| 0.6673854862256614|0.6640953303401809|   0.6118214239985085|0.6099313336301668|\n",
            "|         minke_liver|  0.853325159164616|0.8600490577462248|               1.0|0.5981070905483036|0.6067463428277986|0.6054658164534921|0.6479248426125381| 0.634284517224443|0.6418472663141334|  0.5815620811545394|0.5820965508178801|  0.8408801241420207|0.8473480179204241| 0.957965038526695|0.6464091941131119|0.6110083146433143|0.6119138888052517| 0.646224363797964| 0.6609262158695126|0.6594184751278213|   0.6025101669068955|0.6026028530217109|\n",
            "|         human_liver| 0.6036482361842569|0.6031739504096363|0.5981070905483036|               1.0| 0.614377757146177|0.6133136019028155|0.5704515180885235| 0.696650954026428|0.7029693490630438|  0.7641335209066845|0.7616038876578101|  0.5884028397843365|0.5874451171917163|0.5886904629251979|0.8830096418969687| 0.593117637311654|0.5939765474266042|0.6041139955261964|  0.648877856472065|0.6567365952831737|   0.7005959977319054| 0.705554219476123|\n",
            "|         bat_liver_1|  0.604446041666765|0.6096906042063707|0.6067463428277986| 0.614377757146177|               1.0|0.9928053566400299|0.5833759940225034|0.6333431299404678|0.6375495523435238|  0.6181017258811021|0.6170878882363681|  0.6010859149345992|0.6017486355672901|0.5991763857327197|0.6358553009928023|0.9511055316998812|0.9504991127247373|0.5970632022492822| 0.6262258473790516|0.6290793552531947|   0.6142522721187358|0.6162402023458806|\n",
            "|         bat_liver_2| 0.6017526159048604|0.6063011875077592|0.6054658164534921|0.6133136019028155|0.9928053566400299|               1.0|0.5828739521426318|0.6315612171383733|0.6358253289397393|  0.6166049540329347|0.6147692851226118|  0.5972410898053304|0.5977210188446742|0.5978973472045668|0.6346247176508882|0.9519464828897991|0.9528970772631341|0.5969645698395976| 0.6255149805887168|0.6282616493641466|   0.6121840852204172|0.6144629465500573|\n",
            "|           NMR_liver| 0.6381743387702354| 0.631573380514073|0.6479248426125381|0.5704515180885235|0.5833759940225034|0.5828739521426318|               1.0|0.5877189749629157|0.5916970984009863|  0.5458769926664063| 0.548640430591002|  0.6519285699845473|0.6422210010701429| 0.651948539075459|0.6132327784063334|0.6011900640183481|0.6003451293515445|0.9507167322382453| 0.6127519633895832|0.6103990787337016|   0.5812554768961256|0.5839883983478248|\n",
            "|  cow_totalRNA_liver| 0.6379947224865545|0.6442847832162938| 0.634284517224443| 0.696650954026428|0.6333431299404678|0.6315612171383733|0.5877189749629157|               1.0|0.9852542936404787|  0.7593989338389363|0.7526165455542806|  0.6202589716204028|0.6265193582537478|0.6231971989414951|0.6806705814412768|0.6107700731170513|0.6117886398738559|0.6131097331656551| 0.9230489248172071|0.9243416075600022|   0.7350058900537357|0.7353946307540129|\n",
            "|      cow_mRNA_liver| 0.6456427641911662|0.6486334443712957|0.6418472663141334|0.7029693490630438|0.6375495523435238|0.6358253289397393|0.5916970984009863|0.9852542936404787|               1.0|  0.7653046291809843|0.7623769751933394|  0.6317984487178482|0.6339282844822085|0.6311442295982642|0.6863883337319892|0.6158338805802411|0.6174728049347328|0.6164797775454093| 0.9167201874123941|0.9266474350765416|   0.7408335369708368|0.7454254974675475|\n",
            "|mouse_totalRNA_liver|  0.580877148703212|0.5953851629035009|0.5815620811545394|0.7641335209066845|0.6181017258811021|0.6166049540329347|0.5458769926664063|0.7593989338389363|0.7653046291809843|                 1.0|0.9702961180829559|  0.5666301368610919|0.5820524854038196|0.5715910375040633|0.7060414539443247|0.5898522582846648|0.5917637132254027|0.5761860984123871| 0.7175931094255248|0.7250256521759018|   0.8847742652492694|0.8775729431366254|\n",
            "+--------------------+-------------------+------------------+------------------+------------------+------------------+------------------+------------------+------------------+------------------+--------------------+------------------+--------------------+------------------+------------------+------------------+------------------+------------------+------------------+-------------------+------------------+---------------------+------------------+\n",
            "only showing top 10 rows\n",
            "\n"
          ],
          "output_type" : "stream"
        }
      ]
    },
    {
      "cell_type" : "code",
      "execution_count" : 29,
      "metadata" : {
        "cell.metadata.exec_info" : {
          "startTs" : 1582595100518,
          "endTs" : 1582595100623
        },
        "language" : "scala"
      },
      "language" : "scala",
      "source" : [
        "html(s\"\"\"<div id=\"all_cor\"></div>\"\"\")"
      ],
      "outputs" : [
        {
          "data" : {
            "text/html" : [
              "<div id=\"all_cor\"></div>"
            ]
          },
          "output_type" : "display_data"
        }
      ]
    },
    {
      "cell_type" : "code",
      "execution_count" : 30,
      "metadata" : {
        "cell.metadata.exec_info" : {
          "startTs" : 1582595103225,
          "endTs" : 1582595103626
        },
        "language" : "scala"
      },
      "language" : "scala",
      "source" : [
        "val str = for_makeHeatmap(all_cor.withColumn(\"go\", renameUDF($\"go\")), \"go\", all_cor.columns.tail.toList, \"all_cor\", \"Correlations for liver and kidney\",  400, 400, 1700, 1500, inverse = false,  dataFontSize = 18, tickFontSize = 20, \n",
        "names = all_cor.columns.tail.toList.map(featuresMap(_)), zmin = 0.0, zmax = 1.0,\n",
        "tickAngle = \"-30\"  )\n",
        "html(str)"
      ],
      "outputs" : [
        {
          "data" : {
            "text/html" : [
              "<script type=\"text/javascript\" charset=\"utf-8\">\n",
              "var layout = {\n",
              "  title: 'Correlations for liver and kidney',\n",
              "  annotations: [],\n",
              "  margin: {\n",
              "    l: 400,\n",
              "    r: 125,\n",
              "    t: 400,\n",
              "    b: 50\n",
              "  },\n",
              "  width: 1700,\n",
              "  height: 1500,\n",
              "  xaxis: {\n",
              "    side: 'top',\n",
              "    tickfont: {\n",
              "      size: 20\n",
              "    },\n",
              "    tickangle: '-30'\n",
              "  },\n",
              "  yaxis: {\n",
              "    side: 'left',\n",
              "    autorange: 'reversed',\n",
              "    tickfont: {\n",
              "      size: 20\n",
              "    }\n",
              "  },\n",
              "};\n",
              "\n",
              "var xValues = [\"Bowhead whale liver\",\"Gray whale liver\",\"Minke whale liver\",\"Human liver\",\"Bat 1 liver\",\"Bat 2 liver\",\"Naked mole rat liver\",\"Cow 1 liver\",\"Cow 2 liver\",\"Mouse 1 liver\",\"Mouse 2 liver\",\"Bowhead whale kidney\",\"Gray whale kidney\",\"Minke whale kidney\",\"Human kidney\",\"Bat 1 kidney\",\"Bat 2 kidney\",\"Naked mole rat kidney\",\"Cow 1 kidney\",\"Cow 2 kidney\",\"Mouse 1 kidney\",\"Mouse 2 kidney\"]\n",
              "var yValues =  [\"Bowhead whale liver\",\"Gray whale liver\",\"Minke whale liver\",\"Human liver\",\"Bat 1 liver\",\"Bat 2 liver\",\"Naked mole rat liver\",\"Cow 1 liver\",\"Cow 2 liver\",\"Mouse 1 liver\",\"Mouse 2 liver\",\"Bowhead whale kidney\",\"Gray whale kidney\",\"Minke whale kidney\",\"Human kidney\",\"Bat 1 kidney\",\"Bat 2 kidney\",\"Naked mole rat kidney\",\"Cow 1 kidney\",\"Cow 2 kidney\",\"Mouse 1 kidney\",\"Mouse 2 kidney\"]\n",
              "var zValues =  [[1.0,0.85,0.85,0.6,0.6,0.6,0.64,0.64,0.65,0.58,0.58,0.86,0.84,0.83,0.64,0.6,0.6,0.64,0.66,0.66,0.6,0.6],[0.85,1.0,0.86,0.6,0.61,0.61,0.63,0.64,0.65,0.6,0.59,0.83,0.96,0.84,0.64,0.61,0.61,0.63,0.67,0.66,0.61,0.61],[0.85,0.86,1.0,0.6,0.61,0.61,0.65,0.63,0.64,0.58,0.58,0.84,0.85,0.96,0.65,0.61,0.61,0.65,0.66,0.66,0.6,0.6],[0.6,0.6,0.6,1.0,0.61,0.61,0.57,0.7,0.7,0.76,0.76,0.59,0.59,0.59,0.88,0.59,0.59,0.6,0.65,0.66,0.7,0.71],[0.6,0.61,0.61,0.61,1.0,0.99,0.58,0.63,0.64,0.62,0.62,0.6,0.6,0.6,0.64,0.95,0.95,0.6,0.63,0.63,0.61,0.62],[0.6,0.61,0.61,0.61,0.99,1.0,0.58,0.63,0.64,0.62,0.61,0.6,0.6,0.6,0.63,0.95,0.95,0.6,0.63,0.63,0.61,0.61],[0.64,0.63,0.65,0.57,0.58,0.58,1.0,0.59,0.59,0.55,0.55,0.65,0.64,0.65,0.61,0.6,0.6,0.95,0.61,0.61,0.58,0.58],[0.64,0.64,0.63,0.7,0.63,0.63,0.59,1.0,0.99,0.76,0.75,0.62,0.63,0.62,0.68,0.61,0.61,0.61,0.92,0.92,0.74,0.74],[0.65,0.65,0.64,0.7,0.64,0.64,0.59,0.99,1.0,0.77,0.76,0.63,0.63,0.63,0.69,0.62,0.62,0.62,0.92,0.93,0.74,0.75],[0.58,0.6,0.58,0.76,0.62,0.62,0.55,0.76,0.77,1.0,0.97,0.57,0.58,0.57,0.71,0.59,0.59,0.58,0.72,0.73,0.88,0.88],[0.58,0.59,0.58,0.76,0.62,0.61,0.55,0.75,0.76,0.97,1.0,0.58,0.58,0.57,0.71,0.59,0.59,0.58,0.71,0.72,0.88,0.89],[0.86,0.83,0.84,0.59,0.6,0.6,0.65,0.62,0.63,0.57,0.58,1.0,0.86,0.86,0.67,0.62,0.62,0.64,0.67,0.67,0.62,0.62],[0.84,0.96,0.85,0.59,0.6,0.6,0.64,0.63,0.63,0.58,0.58,0.86,1.0,0.86,0.65,0.62,0.62,0.63,0.67,0.67,0.63,0.63],[0.83,0.84,0.96,0.59,0.6,0.6,0.65,0.62,0.63,0.57,0.57,0.86,0.86,1.0,0.66,0.62,0.62,0.64,0.67,0.67,0.62,0.62],[0.64,0.64,0.65,0.88,0.64,0.63,0.61,0.68,0.69,0.71,0.71,0.67,0.65,0.66,1.0,0.65,0.65,0.62,0.72,0.72,0.76,0.76],[0.6,0.61,0.61,0.59,0.95,0.95,0.6,0.61,0.62,0.59,0.59,0.62,0.62,0.62,0.65,1.0,0.99,0.6,0.64,0.64,0.63,0.63],[0.6,0.61,0.61,0.59,0.95,0.95,0.6,0.61,0.62,0.59,0.59,0.62,0.62,0.62,0.65,0.99,1.0,0.6,0.65,0.65,0.63,0.63],[0.64,0.63,0.65,0.6,0.6,0.6,0.95,0.61,0.62,0.58,0.58,0.64,0.63,0.64,0.62,0.6,0.6,1.0,0.61,0.61,0.58,0.59],[0.66,0.67,0.66,0.65,0.63,0.63,0.61,0.92,0.92,0.72,0.71,0.67,0.67,0.67,0.72,0.64,0.65,0.61,1.0,0.99,0.78,0.78],[0.66,0.66,0.66,0.66,0.63,0.63,0.61,0.92,0.93,0.73,0.72,0.67,0.67,0.67,0.72,0.64,0.65,0.61,0.99,1.0,0.78,0.78],[0.6,0.61,0.6,0.7,0.61,0.61,0.58,0.74,0.74,0.88,0.88,0.62,0.63,0.62,0.76,0.63,0.63,0.58,0.78,0.78,1.0,0.97],[0.6,0.61,0.6,0.71,0.62,0.61,0.58,0.74,0.75,0.88,0.89,0.62,0.63,0.62,0.76,0.63,0.63,0.59,0.78,0.78,0.97,1.0]]\n",
              "var aValues =  [[1.0,0.85,0.85,0.6,0.6,0.6,0.64,0.64,0.65,0.58,0.58,0.86,0.84,0.83,0.64,0.6,0.6,0.64,0.66,0.66,0.6,0.6],[0.85,1.0,0.86,0.6,0.61,0.61,0.63,0.64,0.65,0.6,0.59,0.83,0.96,0.84,0.64,0.61,0.61,0.63,0.67,0.66,0.61,0.61],[0.85,0.86,1.0,0.6,0.61,0.61,0.65,0.63,0.64,0.58,0.58,0.84,0.85,0.96,0.65,0.61,0.61,0.65,0.66,0.66,0.6,0.6],[0.6,0.6,0.6,1.0,0.61,0.61,0.57,0.7,0.7,0.76,0.76,0.59,0.59,0.59,0.88,0.59,0.59,0.6,0.65,0.66,0.7,0.71],[0.6,0.61,0.61,0.61,1.0,0.99,0.58,0.63,0.64,0.62,0.62,0.6,0.6,0.6,0.64,0.95,0.95,0.6,0.63,0.63,0.61,0.62],[0.6,0.61,0.61,0.61,0.99,1.0,0.58,0.63,0.64,0.62,0.61,0.6,0.6,0.6,0.63,0.95,0.95,0.6,0.63,0.63,0.61,0.61],[0.64,0.63,0.65,0.57,0.58,0.58,1.0,0.59,0.59,0.55,0.55,0.65,0.64,0.65,0.61,0.6,0.6,0.95,0.61,0.61,0.58,0.58],[0.64,0.64,0.63,0.7,0.63,0.63,0.59,1.0,0.99,0.76,0.75,0.62,0.63,0.62,0.68,0.61,0.61,0.61,0.92,0.92,0.74,0.74],[0.65,0.65,0.64,0.7,0.64,0.64,0.59,0.99,1.0,0.77,0.76,0.63,0.63,0.63,0.69,0.62,0.62,0.62,0.92,0.93,0.74,0.75],[0.58,0.6,0.58,0.76,0.62,0.62,0.55,0.76,0.77,1.0,0.97,0.57,0.58,0.57,0.71,0.59,0.59,0.58,0.72,0.73,0.88,0.88],[0.58,0.59,0.58,0.76,0.62,0.61,0.55,0.75,0.76,0.97,1.0,0.58,0.58,0.57,0.71,0.59,0.59,0.58,0.71,0.72,0.88,0.89],[0.86,0.83,0.84,0.59,0.6,0.6,0.65,0.62,0.63,0.57,0.58,1.0,0.86,0.86,0.67,0.62,0.62,0.64,0.67,0.67,0.62,0.62],[0.84,0.96,0.85,0.59,0.6,0.6,0.64,0.63,0.63,0.58,0.58,0.86,1.0,0.86,0.65,0.62,0.62,0.63,0.67,0.67,0.63,0.63],[0.83,0.84,0.96,0.59,0.6,0.6,0.65,0.62,0.63,0.57,0.57,0.86,0.86,1.0,0.66,0.62,0.62,0.64,0.67,0.67,0.62,0.62],[0.64,0.64,0.65,0.88,0.64,0.63,0.61,0.68,0.69,0.71,0.71,0.67,0.65,0.66,1.0,0.65,0.65,0.62,0.72,0.72,0.76,0.76],[0.6,0.61,0.61,0.59,0.95,0.95,0.6,0.61,0.62,0.59,0.59,0.62,0.62,0.62,0.65,1.0,0.99,0.6,0.64,0.64,0.63,0.63],[0.6,0.61,0.61,0.59,0.95,0.95,0.6,0.61,0.62,0.59,0.59,0.62,0.62,0.62,0.65,0.99,1.0,0.6,0.65,0.65,0.63,0.63],[0.64,0.63,0.65,0.6,0.6,0.6,0.95,0.61,0.62,0.58,0.58,0.64,0.63,0.64,0.62,0.6,0.6,1.0,0.61,0.61,0.58,0.59],[0.66,0.67,0.66,0.65,0.63,0.63,0.61,0.92,0.92,0.72,0.71,0.67,0.67,0.67,0.72,0.64,0.65,0.61,1.0,0.99,0.78,0.78],[0.66,0.66,0.66,0.66,0.63,0.63,0.61,0.92,0.93,0.73,0.72,0.67,0.67,0.67,0.72,0.64,0.65,0.61,0.99,1.0,0.78,0.78],[0.6,0.61,0.6,0.7,0.61,0.61,0.58,0.74,0.74,0.88,0.88,0.62,0.63,0.62,0.76,0.63,0.63,0.58,0.78,0.78,1.0,0.97],[0.6,0.61,0.6,0.71,0.62,0.61,0.58,0.74,0.75,0.88,0.89,0.62,0.63,0.62,0.76,0.63,0.63,0.59,0.78,0.78,0.97,1.0]]\n",
              "\n",
              "\n",
              "for ( var i = 0; i < yValues.length; i++ ) {\n",
              "  for ( var j = 0; j < xValues.length; j++ ) {\n",
              "    var currentValue = zValues[i][j];\n",
              "    if (currentValue != 0.0) {\n",
              "      var textColor = 'white';\n",
              "    }else{\n",
              "      var textColor = 'black';\n",
              "    }\n",
              "    var result = {\n",
              "      xref: 'x1',\n",
              "      yref: 'y1',\n",
              "      x: xValues[j],\n",
              "      y: yValues[i],\n",
              "      text: aValues[i][j],\n",
              "      font: {\n",
              "        family: 'Arial',\n",
              "        size: 5,\n",
              "        color: 'rgb(50, 171, 96)'\n",
              "      },\n",
              "      showarrow: false,\n",
              "      font: {\n",
              "        color: textColor,\n",
              "        size: '18'\n",
              "      }\n",
              "    };\n",
              "    layout.annotations.push(result);\n",
              "  }\n",
              "}\n",
              "\n",
              "var data = [{\n",
              "   x: xValues,\n",
              "   y: yValues,\n",
              "   z: zValues,\n",
              "   zmin: 0.0, zmax: 1.0,\n",
              "   colorscale: 'RdBu', \n",
              "   type: 'heatmap' \n",
              " }];\n",
              " Plotly.newPlot('all_cor', data, layout);\n",
              "</script>\n",
              "    <h3>all_cor heatmap has been displayed</h3>"
            ]
          },
          "output_type" : "display_data"
        }
      ]
    },
    {
      "cell_type" : "markdown",
      "execution_count" : 31,
      "metadata" : {
        "language" : "text"
      },
      "language" : "text",
      "source" : [
        "<div><h3>Specific correlations</h3></div><div>---------------------------<br></div>"
      ],
      "outputs" : [
      ]
    },
    {
      "cell_type" : "code",
      "execution_count" : 32,
      "metadata" : {
        "cell.metadata.exec_info" : {
          "startTs" : 1582594371731,
          "endTs" : 1582594371912
        },
        "language" : "scala"
      },
      "language" : "scala",
      "source" : [
        "val longevity_goes =  List(\"GO:0015986\", \"GO:0006364\", \"GO:0006413\", \"GO:0006614\", \"GO:0000184\", \"GO:0019083\", \"GO:0019068\", \"GO:0006955\", \"GO:0060271\", \"GO:2000785\", \"GO:0042073\", \"GO:0055007\", \"GO:1902017\", \"GO:0060828\", \"GO:0090102\", \"GO:0034067\", \"GO:0060122\", \"GO:0061512\", \"GO:0061351\", \"GO:0001736\", \"GO:0035735\", \"GO:0051642\", \"GO:0035845\", \"GO:0036372\", \"GO:0007165\", \"GO:0002474\", \"GO:0000050\", \"GO:0019731\", \"GO:0002227\", \"GO:0046034\", \"GO:0032259\", \"GO:0071268\", \"GO:0033353\", \"GO:0000096\", \"GO:0042745\", \"GO:0002439\", \"GO:0006950\", \"GO:0097284\", \"GO:0097176\", \"GO:1990000\", \"GO:0051014\", \"GO:2001269\", \"GO:0090527\", \"GO:0042989\", \"GO:0045010\", \"GO:1902174\", \"GO:0019430\", \"GO:0001938\", \"GO:0045060\", \"GO:1902166\", \"GO:0001961\", \"GO:0042104\", \"GO:0045738\", \"GO:1902546\", \"GO:0061481\",  \"GO:1902231\", \"GO:0032079\", \"GO:2001272\", \"GO:1905053\",\"GO:0009435\", \"GO:0010941\")\n",
        "val dna_repair_goes = List(\"GO:0006281\", \"GO:0006283\",\"GO:0000715\",\"GO:0070911\",\"GO:0033683\",\"GO:0006296\",\"GO:0006297\",\"GO:0006294\",\"GO:0000717\",\"GO:0036297\",\"GO:0045739\",\"GO:1905053\",\"GO:0006289\",\"GO:0030091\",\"GO:0045738\",\"GO:0006282\",\"GO:0006307\",\"GO:0051103\",\"GO:0043504\",\"GO:0006284\",\"GO:2000819\",\"GO:0000724\")\n",
        "val hypoxia_goes = List(\"GO:0061418\", \"GO:1903298\", \"GO:0097411\", \"GO:0061428\", \"GO:0001666\", \"GO:0071456\")\n",
        "val autophagy_goes = List(\"GO:0006914\",\"GO:0016236\",\"GO:1904714\",\"GO:2000785\",\"GO:0000045\",\"GO:0097352\",\"GO:0016241\",\"GO:0010507\",\"GO:0010506\")\n",
        "val stress_response_goes = List(\"GO:0006979\",\"GO:0034599\",\"GO:1902236\",\"GO:0051403\",\"GO:0006950\",\"GO:0097201\",\"GO:1990441\",\"GO:0070059\",\"GO:0034976\",\"GO:0051496\",\"GO:1902176\",\"GO:1990440\",\"GO:0014898\",\"GO:0031098\",\"GO:0097501\",\"GO:0043149\",\"GO:0008631\",\"GO:0071472\",\"GO:0001306\",\"GO:0032872\")\n",
        "val apoptosis_goes = List(\"GO:0097284\",\"GO:0043066\",\"GO:2000352\",\"GO:0006915\",\"GO:0043065\",\"GO:0051402\",\"GO:0042981\",\"GO:1902236\",\"GO:0043154\",\"GO:2001240\",\"GO:1901029\",\"GO:0097284\",\"GO:0043524\",\"GO:1903298\",\"GO:0043065\",\"GO:0070059\",\"GO:0008630\",\"GO:2001235\",\"GO:2001269\",\"GO:1902174\",\"GO:1902166\",\"GO:0002906\",\"GO:0097191\",\"GO:1902231\",\"GO:2001272\",\"GO:1902176\",\"GO:0006919\",\"GO:0072332\",\"GO:0008637\",\"GO:0043525\",\"GO:1902230\",\"GO:0010666\",\"GO:0043280\",\"GO:0097190\",\"GO:0070234\",\"GO:2001244\",\"GO:0008631\",\"GO:0043281\",\"GO:2000426\",\"GO:2001272\",\"GO:0097194\",\"GO:1900119\",\"GO:0008630\",\"GO:1902166\",\"GO:1902231\")\n",
        "val ubiquitin_goes = List(\"GO:0043161\",\"GO:0016579\",\"GO:0000209\",\"GO:0016567\",\"GO:0031146\",\"GO:0051437\",\"GO:0051436\",\"GO:0031397\",\"GO:0031396\",\"GO:0032436\",\"GO:0006511\",\"GO:0030433\",\"GO:0031398\",\"GO:0032435\",\"GO:0070936\",\"GO:0043328\",\"GO:0070534\",\"GO:0051865\",\"GO:0006513\",\"GO:0070979\",\"GO:0043162\")\n",
        "val mitochondria_goes = List(\"GO:0006123\",\"GO:0046034\",\"GO:0032981\",\"GO:1901029\",\"GO:0007005\",\"GO:0034551\",\"GO:0051881\",\"GO:0032543\",\"GO:0006839\",\"GO:0006122\",\"GO:0047497\",\"GO:1903955\",\"GO:0008637\",\"GO:0042775\",\"GO:0046902\",\"GO:0000422\",\"GO:0090201\",\"GO:0061732\",\"GO:0010917\",\"GO:0006850\",\"GO:0010637\",\"GO:0070125\",\"GO:0051560\")\n",
        "val atp_goes = List(\"GO:0015986\",\"GO:0015991\",\"GO:0046034\",\"GO:0032781\",\"GO:0099132\",\"GO:0070072\",\"GO:2001171\",\"GO:0006754\",\"GO:0042776\",\"GO:0042775\",\"GO:0071318\",\"GO:0042773\",\"GO:0033198\",\"GO:0043044\",\"GO:2000984\",\"GO:0015867\",\"GO:2001170\")\n",
        "val nad_goes = List(\"GO:0019674\", \"GO:0006116\",\"GO:0009435\",\"GO:0006734\")\n",
        "val wounds_goes = List(\"GO:0044319\",\"GO:0090303\",\"GO:0042060\",\"GO:0060055\",\"GO:0061045\",\"GO:0060054\",\"GO:0061041\",\"GO:0035313\",\"GO:1903690\")\n",
        "val cellular = List(\"GO:0034362\", \"GO:0106003\", \"GO:0005814\", \"GO:0005902\", \"GO:0031514\", \"GO:0005929\", \"GO:0032420\", \"GO:0001750\", \"GO:0005801\", \"GO:0030992\", \"GO:0032391\", \"GO:0097546\", \"GO:0097542\", \"GO:0044292\", \"GO:1902636\", \"GO:0120105\", \"GO:0120104\", \"GO:0005628\", \"GO:0043332\", \"GO:0120106\", \"GO:0030479\", \"GO:0000142\", \"GO:0035692\", \"GO:0035693\", \"GO:0035578\", \"GO:0101003\", \"GO:0098993\", \"GO:0022626\", \"GO:0005940\", \"GO:0002197\", \"GO:0042565\", \"GO:0042272\", \"GO:0000835\", \"GO:0065010\") "
      ],
      "outputs" : [
      ]
    },
    {
      "cell_type" : "code",
      "execution_count" : 33,
      "metadata" : {
        "cell.metadata.exec_info" : {
          "startTs" : 1582594373737,
          "endTs" : 1582594373882
        },
        "language" : "scala"
      },
      "language" : "scala",
      "source" : [
        "def makeProCor(list: List[String]) = {\n",
        "    val tpms = processes.select(\"go\", featuresOrdered:_*).where($\"go\".isin(list:_*)).na.fill(0.0).sort($\"bowhead_whale_liver\".desc)\n",
        "    spearmanCorrellation(tpms, featuresOrdered)(spark).withColumnRenamed(\"column\", \"go\").cache//.withColumn(\"go\", renameUDF($\"go\")).cache//.rename(featuresMap)\n",
        "}\n",
        "def makeHeatCor(df: DataFrame, name: String,\n",
        " title: String, colorScale: String = \"RdBu\") = {\n",
        " for_makeHeatmap(df.withColumn(\"go\", renameUDF($\"go\")), \"go\", df.columns.tail.toList, name, title,  300, 400, 1800, 1400, inverse = false,  dataFontSize = 18, tickFontSize = 20, names = df.columns.tail.toList.map(featuresMap(_)),\n",
        " tickAngle = \"-30\", colorScale = colorScale )    \n",
        "}\n"
      ],
      "outputs" : [
      ]
    },
    {
      "cell_type" : "code",
      "execution_count" : 34,
      "metadata" : {
        "cell.metadata.exec_info" : {
          "startTs" : 1582594381493,
          "endTs" : 1582594381890
        },
        "language" : "scala"
      },
      "language" : "scala",
      "source" : [
        "processes.select(\"go\", featuresOrdered:_*)\n",
        "  .where($\"go\".isin(longevity_goes:_*))\n",
        "  .na.fill(0.0)\n",
        "  .sort($\"bowhead_whale_liver\".desc).show(10,1000)"
      ],
      "outputs" : [
        {
          "name" : "stdout",
          "text" : [
            "+----------+-------------------+-----------------+------------------+------------------+------------------+------------------+------------------+------------------+-----------------+--------------------+------------------+--------------------+------------------+------------------+------------------+------------------+------------------+------------------+-------------------+------------------+---------------------+------------------+\n",
            "|        go|bowhead_whale_liver| gray_whale_liver|       minke_liver|       human_liver|       bat_liver_1|       bat_liver_2|         NMR_liver|cow_totalRNA_liver|   cow_mRNA_liver|mouse_totalRNA_liver|  mouse_mRNA_liver|bowhead_whale_kidney| gray_whale_kidney|      minke_kidney|      human_kidney|      bat_kidney_1|      bat_kidney_2|        NMR_kidney|cow_totalRNA_kidney|   cow_mRNA_kidney|mouse_totalRNA_kidney| mouse_mRNA_kidney|\n",
            "+----------+-------------------+-----------------+------------------+------------------+------------------+------------------+------------------+------------------+-----------------+--------------------+------------------+--------------------+------------------+------------------+------------------+------------------+------------------+------------------+-------------------+------------------+---------------------+------------------+\n",
            "|GO:0007165| 11456.244697941876|6345.571518000001| 17049.13610699998|1871.5450460000013|1810.7726470000005|1536.2273649999997| 5745.532362000001|34819.135545000005|35282.64576900001|   9690.572680000001|3127.0589600000017|   730.4105399999999|       3046.372351| 6794.475674000003|1041.1421799999996|2822.4752529999982|2719.5041209999995|15650.777031999995|  6107.394953999999| 5616.347282000002|   4040.2445849999995|1685.9299770000005|\n",
            "|GO:0007165| 11456.244697941876|6345.571518000001| 17049.13610699998|1871.5450460000013|252.75275299999998|        195.582198| 5745.532362000001|34819.135545000005|35282.64576900001|   9690.572680000001|3127.0589600000017|   730.4105399999999|       3046.372351| 6794.475674000003|1041.1421799999996|         336.50722|        304.605514|15650.777031999995|  6107.394953999999| 5616.347282000002|   4040.2445849999995|1685.9299770000005|\n",
            "|GO:0006364|  8108.256701089998|19892.75400300001|      20716.442639|3773.3374890000014|       1823.820699|1787.5411310000002|      27889.193586|       8758.324353|9679.402648000001|         4860.838548|1351.9426559999997|  3307.1603040000005|      19910.099414|      28506.682685|3318.7875520000016|       3108.892098|3248.3262569999993|17208.674091999997|        8957.417896|       7887.324251|   10758.778921000001|       2236.514993|\n",
            "|GO:0006364|  8108.256701089998|19892.75400300001|      20716.442639|3773.3374890000014|         18.659573|14.739277000000001|      27889.193586|       8758.324353|9679.402648000001|         4860.838548|1351.9426559999997|  3307.1603040000005|      19910.099414|      28506.682685|3318.7875520000016|         18.392401|         17.595225|17208.674091999997|        8957.417896|       7887.324251|   10758.778921000001|       2236.514993|\n",
            "|GO:0006413|  7063.013969472601|     18526.600168|18900.419834000004| 3808.156806999999| 7448.627175999998|       7431.175314|      22640.435805|1314.4391580000001|      1741.754448|   937.7781920000001|329.38255200000003|  2915.2442810000007|18193.147661999996|26402.373398000007|3364.4287349999995|11376.908535999999|11734.946105999998|      13947.263875| 1992.1649770000001|1828.8286690000002|   1236.0343229999999|        538.662119|\n",
            "|GO:0000184|    6907.6701429694|      17941.36064|18025.556941000003|       3733.425891|5.0164729999999995|          2.859553|      22247.145014| 806.4524349999998|954.9376310000001|          411.275467|126.49311199999998|  2695.1392519999995|      16940.047216|      24498.996111|       3273.458808|5.5815079999999995|           3.98833|13731.217379000002|        1188.330804|       1044.519589|           546.655806|        234.479344|\n",
            "|GO:0000184|    6907.6701429694|      17941.36064|18025.556941000003|       3733.425891| 7277.217282999999| 7248.008079000001|      22247.145014| 806.4524349999998|954.9376310000001|          411.275467|126.49311199999998|  2695.1392519999995|      16940.047216|      24498.996111|       3273.458808|11111.241268000002|11414.505661000003|13731.217379000002|        1188.330804|       1044.519589|           546.655806|        234.479344|\n",
            "|GO:0006614|  6885.610986929999|     18137.042932|18019.506222999993|3742.7838930000003|15.507154000000002|         16.014464|21963.345690000002|        537.190389|       917.277464|  414.94806100000005|154.26023200000003|  2690.5767320000004|17142.923006999998|24495.076964999997|3251.6017719999986|         19.436508|18.707943999999998|13702.674887000003|  569.5628270000001|        514.749864|    399.5986359999999|179.30111399999998|\n",
            "|GO:0006614|  6885.610986929999|     18137.042932|18019.506222999993|3742.7838930000003|       7051.227237| 7114.947348999999|21963.345690000002|        537.190389|       917.277464|  414.94806100000005|154.26023200000003|  2690.5767320000004|17142.923006999998|24495.076964999997|3251.6017719999986|10775.777426999999|11144.883041000003|13702.674887000003|  569.5628270000001|        514.749864|    399.5986359999999|179.30111399999998|\n",
            "|GO:0019083| 6712.6099699999995|     17863.503279|17679.980330999995|3707.7058200000006| 6931.798438000001| 7000.842858999999|21729.268838000004|               0.0|              0.0|                 0.0|               0.0|         2641.045121|       16780.60545|      23951.670142|3230.8115860000007|      10612.885803|      10997.272006|      13256.474872|                0.0|               0.0|                  0.0|               0.0|\n",
            "+----------+-------------------+-----------------+------------------+------------------+------------------+------------------+------------------+------------------+-----------------+--------------------+------------------+--------------------+------------------+------------------+------------------+------------------+------------------+------------------+-------------------+------------------+---------------------+------------------+\n",
            "only showing top 10 rows\n",
            "\n"
          ],
          "output_type" : "stream"
        }
      ]
    },
    {
      "cell_type" : "code",
      "execution_count" : 35,
      "metadata" : {
        "cell.metadata.exec_info" : {
          "startTs" : 1582594387027,
          "endTs" : 1582594388384
        },
        "language" : "scala"
      },
      "language" : "scala",
      "source" : [
        "val longevity_cor = makeProCor(longevity_goes)\n",
        "longevity_cor.show(10,1000)"
      ],
      "outputs" : [
        {
          "name" : "stdout",
          "text" : [
            "+--------------------+-------------------+-------------------+-------------------+-------------------+-------------------+-------------------+------------------+-------------------+-------------------+--------------------+-------------------+--------------------+---------------------+-------------------+-------------------+-------------------+-------------------+-------------------+--------------------+-------------------+---------------------+-------------------+\n",
            "|                  go|bowhead_whale_liver|   gray_whale_liver|        minke_liver|        human_liver|        bat_liver_1|        bat_liver_2|         NMR_liver| cow_totalRNA_liver|     cow_mRNA_liver|mouse_totalRNA_liver|   mouse_mRNA_liver|bowhead_whale_kidney|    gray_whale_kidney|       minke_kidney|       human_kidney|       bat_kidney_1|       bat_kidney_2|         NMR_kidney| cow_totalRNA_kidney|    cow_mRNA_kidney|mouse_totalRNA_kidney|  mouse_mRNA_kidney|\n",
            "+--------------------+-------------------+-------------------+-------------------+-------------------+-------------------+-------------------+------------------+-------------------+-------------------+--------------------+-------------------+--------------------+---------------------+-------------------+-------------------+-------------------+-------------------+-------------------+--------------------+-------------------+---------------------+-------------------+\n",
            "| bowhead_whale_liver|                1.0|0.29298451601657394| 0.8499228802090718|0.43836056582638255|  0.551281838812944| 0.5562233988430105|0.7594359877954696| 0.6596545358825996|  0.675891916518903|  0.4911501111563829| 0.4852822335801224|  0.8852256460241326|  0.12168669160467911| 0.7920647206771791|0.45014327621985395|  0.526731748025489| 0.5147212523789796| 0.7613487209113282|   0.732363669670516| 0.7443971977148862|   0.5302459402615836| 0.5063014965393974|\n",
            "|    gray_whale_liver|0.29298451601657394|                1.0| 0.4180718735614419|    0.5952140884475| 0.1280781640312803|0.14247271196688702|0.3049944363504109|0.07650857900731003|0.11965692891362627| 0.21904534983918783|0.31103791225115346| 0.34474412360204515|     0.84717153284684| 0.5767528090280634| 0.6271627183399048|0.14596176804383482|0.12576698128511918|0.32067757349808107|0.020829331382401745|0.13632389916587292|   0.2102474328396945| 0.3063234905918672|\n",
            "|         minke_liver| 0.8499228802090718| 0.4180718735614419|                1.0|  0.534192332383767| 0.5102688247919362|  0.512494318138173|0.6014600077445392| 0.5169690754348718|0.49833166895096875|  0.5072474959249827|0.47419412559116053|  0.7554762254759319|  0.13846290726342153| 0.8866743828755291| 0.5429035368453549|0.40819403155005124|  0.391868840867629| 0.6166001159252386|  0.5763495340631611| 0.6174604297565592|   0.5001183376179078| 0.4838106069441044|\n",
            "|         human_liver|0.43836056582638255|    0.5952140884475|  0.534192332383767|                1.0| 0.2465588095351367| 0.2724423183420881|0.5127298822889741|  0.377125801976784|   0.41948866969942|  0.6357143482576518| 0.6412810391401605|  0.4600296045066334|   0.3052308039691693|  0.645224747744263| 0.9605853986349276|0.25995588953321924|0.24207485806310372| 0.5901315914974464| 0.29036944973148365| 0.3964516722106634|   0.5643276645499207| 0.6119071168097661|\n",
            "|         bat_liver_1|  0.551281838812944| 0.1280781640312803| 0.5102688247919362| 0.2465588095351367|                1.0| 0.9942535783738566|0.4733867884263498| 0.3744845113761882| 0.3746946598112794| 0.40712756829749663| 0.4034849954221547| 0.49458761762705383| 0.061943895075026886|0.47316032567479366|0.25111865949422363| 0.9338460729867687| 0.9334641379121972| 0.4713097377456727| 0.46159103773169813|0.45244958080424347|   0.4016637089846045|0.36835518201858575|\n",
            "|         bat_liver_2| 0.5562233988430105|0.14247271196688702|  0.512494318138173| 0.2724423183420881| 0.9942535783738566|                1.0|0.4751040531038759| 0.3853421805238013|0.38884465444236377|  0.4250252100214425|0.42898300554943314|  0.5031325363790771|    0.078512528204097|0.48700515908651926|0.27854399046337924| 0.9341614253929381| 0.9333590397749401|0.47039767245727515|   0.462851928342262|0.46341232416926587|  0.40975442373619986| 0.3891248523557328|\n",
            "|           NMR_liver| 0.7594359877954696| 0.3049944363504109| 0.6014600077445392| 0.5127298822889741| 0.4733867884263498| 0.4751040531038759|               1.0| 0.6180134632489717| 0.6831025438099337|  0.6044561574486667| 0.6249147274418759|  0.8005236609651277|  0.18599189236027097| 0.6477006851915631| 0.5489324604665852| 0.5561133858040738| 0.5482498042059751| 0.9350904164376906|  0.7393285794938437| 0.7174687375831656|   0.6324465639979597| 0.6212363886585377|\n",
            "|  cow_totalRNA_liver| 0.6596545358825996|0.07650857900731003| 0.5169690754348718|  0.377125801976784| 0.3744845113761882| 0.3853421805238013|0.6180134632489717|                1.0| 0.9718867065782922|   0.767986556034099| 0.7361621678394364|  0.5748346608841275|-0.006580912018715138| 0.5133268705791788| 0.3440585395289459| 0.4102973071936312| 0.4020363243885521|  0.673519763792863|  0.8610089976544878| 0.8456044533138238|   0.6579841053110403| 0.6210131988933966|\n",
            "|      cow_mRNA_liver|  0.675891916518903|0.11965692891362627|0.49833166895096875|   0.41948866969942| 0.3746946598112794|0.38884465444236377|0.6831025438099337| 0.9718867065782922|                1.0|  0.7777894478871331| 0.7555578895773876|  0.5980911295442752|  0.04662720752486721| 0.5137648179485391| 0.3945452001578254|0.42126005055906013|0.41072086228476024| 0.7148964644102009|  0.8784791513498588| 0.8709169204917914|   0.6978608689566692| 0.6681721107725016|\n",
            "|mouse_totalRNA_liver| 0.4911501111563829|0.21904534983918783| 0.5072474959249827| 0.6357143482576518|0.40712756829749663| 0.4250252100214425|0.6044561574486667|  0.767986556034099| 0.7777894478871331|                 1.0| 0.9575674824072558|  0.4640595054869064|  0.09939718379102579| 0.5781430812450999| 0.6152230239748574| 0.4228361638225558| 0.4143627652731589| 0.6836360164440378|  0.6829814795363014| 0.7214228197316912|    0.888947239435658| 0.8664005881730503|\n",
            "+--------------------+-------------------+-------------------+-------------------+-------------------+-------------------+-------------------+------------------+-------------------+-------------------+--------------------+-------------------+--------------------+---------------------+-------------------+-------------------+-------------------+-------------------+-------------------+--------------------+-------------------+---------------------+-------------------+\n",
            "only showing top 10 rows\n",
            "\n"
          ],
          "output_type" : "stream"
        }
      ]
    },
    {
      "cell_type" : "code",
      "execution_count" : 36,
      "metadata" : {
        "cell.metadata.exec_info" : {
          "startTs" : 1582594391075,
          "endTs" : 1582594391162
        },
        "language" : "scala"
      },
      "language" : "scala",
      "source" : [
        "html(s\"\"\"<div id=\"longevity_cor\"></div>\"\"\")"
      ],
      "outputs" : [
        {
          "data" : {
            "text/html" : [
              "<div id=\"longevity_cor\"></div>"
            ]
          },
          "output_type" : "display_data"
        }
      ]
    },
    {
      "cell_type" : "code",
      "execution_count" : 37,
      "metadata" : {
        "cell.metadata.exec_info" : {
          "startTs" : 1582593578972,
          "endTs" : 1582593579269
        },
        "language" : "scala"
      },
      "language" : "scala",
      "source" : [
        "html(makeHeatCor(longevity_cor, \"longevity_cor\", \"Longevity correlations for liver and kidney\" ))"
      ],
      "outputs" : [
        {
          "data" : {
            "text/html" : [
              "<script type=\"text/javascript\" charset=\"utf-8\">\n",
              "var layout = {\n",
              "  title: 'Longevity correlations for liver and kidney',\n",
              "  annotations: [],\n",
              "  margin: {\n",
              "    l: 300,\n",
              "    r: 125,\n",
              "    t: 400,\n",
              "    b: 50\n",
              "  },\n",
              "  width: 1800,\n",
              "  height: 1400,\n",
              "  xaxis: {\n",
              "    side: 'top',\n",
              "    tickfont: {\n",
              "      size: 20\n",
              "    },\n",
              "    tickangle: '-30'\n",
              "  },\n",
              "  yaxis: {\n",
              "    side: 'left',\n",
              "    autorange: 'reversed',\n",
              "    tickfont: {\n",
              "      size: 20\n",
              "    }\n",
              "  },\n",
              "};\n",
              "\n",
              "var xValues = [\"Bowhead whale liver\",\"Gray whale liver\",\"Minke whale liver\",\"Human liver\",\"Bat 1 liver\",\"Bat 2 liver\",\"Naked mole rat liver\",\"Cow 1 liver\",\"Cow 2 liver\",\"Mouse 1 liver\",\"Mouse 2 liver\",\"Bowhead whale kidney\",\"Gray whale kidney\",\"Minke whale kidney\",\"Human kidney\",\"Naked mole rat kidney\",\"Cow 1 kidney\",\"Cow 2 kidney\",\"Mouse 1 kidney\",\"Mouse 2 kidney\",\"Bat 1 kidney\",\"Bat 2 kidney\"]\n",
              "var yValues =  [\"Bowhead whale liver\",\"Gray whale liver\",\"Minke whale liver\",\"Human liver\",\"Bat 1 liver\",\"Bat 2 liver\",\"Naked mole rat liver\",\"Cow 1 liver\",\"Cow 2 liver\",\"Mouse 1 liver\",\"Mouse 2 liver\",\"Bowhead whale kidney\",\"Gray whale kidney\",\"Minke whale kidney\",\"Human kidney\",\"Naked mole rat kidney\",\"Cow 1 kidney\",\"Cow 2 kidney\",\"Mouse 1 kidney\",\"Mouse 2 kidney\",\"Bat 1 kidney\",\"Bat 2 kidney\"]\n",
              "var zValues =  [[1.0,0.29,0.85,0.44,0.55,0.56,0.76,0.66,0.68,0.49,0.49,0.89,0.12,0.79,0.45,0.76,0.73,0.74,0.53,0.51,0.53,0.51],[0.29,1.0,0.42,0.6,0.13,0.14,0.3,0.08,0.12,0.22,0.31,0.34,0.85,0.58,0.63,0.32,0.02,0.14,0.21,0.31,0.15,0.13],[0.85,0.42,1.0,0.53,0.51,0.51,0.6,0.52,0.5,0.51,0.47,0.76,0.14,0.89,0.54,0.62,0.58,0.62,0.5,0.48,0.41,0.39],[0.44,0.6,0.53,1.0,0.25,0.27,0.51,0.38,0.42,0.64,0.64,0.46,0.31,0.65,0.96,0.59,0.29,0.4,0.56,0.61,0.26,0.24],[0.55,0.13,0.51,0.25,1.0,0.99,0.47,0.37,0.37,0.41,0.4,0.49,0.06,0.47,0.25,0.47,0.46,0.45,0.4,0.37,0.93,0.93],[0.56,0.14,0.51,0.27,0.99,1.0,0.48,0.39,0.39,0.43,0.43,0.5,0.08,0.49,0.28,0.47,0.46,0.46,0.41,0.39,0.93,0.93],[0.76,0.3,0.6,0.51,0.47,0.48,1.0,0.62,0.68,0.6,0.62,0.8,0.19,0.65,0.55,0.94,0.74,0.72,0.63,0.62,0.56,0.55],[0.66,0.08,0.52,0.38,0.37,0.39,0.62,1.0,0.97,0.77,0.74,0.57,-0.01,0.51,0.34,0.67,0.86,0.85,0.66,0.62,0.41,0.4],[0.68,0.12,0.5,0.42,0.37,0.39,0.68,0.97,1.0,0.78,0.76,0.6,0.05,0.51,0.39,0.71,0.88,0.87,0.7,0.67,0.42,0.41],[0.49,0.22,0.51,0.64,0.41,0.43,0.6,0.77,0.78,1.0,0.96,0.46,0.1,0.58,0.62,0.68,0.68,0.72,0.89,0.87,0.42,0.41],[0.49,0.31,0.47,0.64,0.4,0.43,0.62,0.74,0.76,0.96,1.0,0.47,0.24,0.6,0.65,0.72,0.64,0.69,0.88,0.9,0.44,0.42],[0.89,0.34,0.76,0.46,0.49,0.5,0.8,0.57,0.6,0.46,0.47,1.0,0.24,0.8,0.51,0.74,0.71,0.7,0.5,0.49,0.53,0.52],[0.12,0.85,0.14,0.31,0.06,0.08,0.19,-0.01,0.05,0.1,0.24,0.24,1.0,0.39,0.37,0.18,0.02,0.11,0.15,0.24,0.16,0.14],[0.79,0.58,0.89,0.65,0.47,0.49,0.65,0.51,0.51,0.58,0.6,0.8,0.39,1.0,0.67,0.69,0.55,0.64,0.58,0.61,0.45,0.43],[0.45,0.63,0.54,0.96,0.25,0.28,0.55,0.34,0.39,0.62,0.65,0.51,0.37,0.67,1.0,0.61,0.31,0.42,0.59,0.66,0.29,0.27],[0.76,0.32,0.62,0.59,0.47,0.47,0.94,0.67,0.71,0.68,0.72,0.74,0.18,0.69,0.61,1.0,0.69,0.68,0.66,0.65,0.54,0.53],[0.73,0.02,0.58,0.29,0.46,0.46,0.74,0.86,0.88,0.68,0.64,0.71,0.02,0.55,0.31,0.69,1.0,0.96,0.72,0.66,0.52,0.52],[0.74,0.14,0.62,0.4,0.45,0.46,0.72,0.85,0.87,0.72,0.69,0.7,0.11,0.64,0.42,0.68,0.96,1.0,0.77,0.74,0.51,0.5],[0.53,0.21,0.5,0.56,0.4,0.41,0.63,0.66,0.7,0.89,0.88,0.5,0.15,0.58,0.59,0.66,0.72,0.77,1.0,0.96,0.45,0.44],[0.51,0.31,0.48,0.61,0.37,0.39,0.62,0.62,0.67,0.87,0.9,0.49,0.24,0.61,0.66,0.65,0.66,0.74,0.96,1.0,0.43,0.42],[0.53,0.15,0.41,0.26,0.93,0.93,0.56,0.41,0.42,0.42,0.44,0.53,0.16,0.45,0.29,0.54,0.52,0.51,0.45,0.43,1.0,1.0],[0.51,0.13,0.39,0.24,0.93,0.93,0.55,0.4,0.41,0.41,0.42,0.52,0.14,0.43,0.27,0.53,0.52,0.5,0.44,0.42,1.0,1.0]]\n",
              "var aValues =  [[1.0,0.29,0.85,0.44,0.55,0.56,0.76,0.66,0.68,0.49,0.49,0.89,0.12,0.79,0.45,0.76,0.73,0.74,0.53,0.51,0.53,0.51],[0.29,1.0,0.42,0.6,0.13,0.14,0.3,0.08,0.12,0.22,0.31,0.34,0.85,0.58,0.63,0.32,0.02,0.14,0.21,0.31,0.15,0.13],[0.85,0.42,1.0,0.53,0.51,0.51,0.6,0.52,0.5,0.51,0.47,0.76,0.14,0.89,0.54,0.62,0.58,0.62,0.5,0.48,0.41,0.39],[0.44,0.6,0.53,1.0,0.25,0.27,0.51,0.38,0.42,0.64,0.64,0.46,0.31,0.65,0.96,0.59,0.29,0.4,0.56,0.61,0.26,0.24],[0.55,0.13,0.51,0.25,1.0,0.99,0.47,0.37,0.37,0.41,0.4,0.49,0.06,0.47,0.25,0.47,0.46,0.45,0.4,0.37,0.93,0.93],[0.56,0.14,0.51,0.27,0.99,1.0,0.48,0.39,0.39,0.43,0.43,0.5,0.08,0.49,0.28,0.47,0.46,0.46,0.41,0.39,0.93,0.93],[0.76,0.3,0.6,0.51,0.47,0.48,1.0,0.62,0.68,0.6,0.62,0.8,0.19,0.65,0.55,0.94,0.74,0.72,0.63,0.62,0.56,0.55],[0.66,0.08,0.52,0.38,0.37,0.39,0.62,1.0,0.97,0.77,0.74,0.57,-0.01,0.51,0.34,0.67,0.86,0.85,0.66,0.62,0.41,0.4],[0.68,0.12,0.5,0.42,0.37,0.39,0.68,0.97,1.0,0.78,0.76,0.6,0.05,0.51,0.39,0.71,0.88,0.87,0.7,0.67,0.42,0.41],[0.49,0.22,0.51,0.64,0.41,0.43,0.6,0.77,0.78,1.0,0.96,0.46,0.1,0.58,0.62,0.68,0.68,0.72,0.89,0.87,0.42,0.41],[0.49,0.31,0.47,0.64,0.4,0.43,0.62,0.74,0.76,0.96,1.0,0.47,0.24,0.6,0.65,0.72,0.64,0.69,0.88,0.9,0.44,0.42],[0.89,0.34,0.76,0.46,0.49,0.5,0.8,0.57,0.6,0.46,0.47,1.0,0.24,0.8,0.51,0.74,0.71,0.7,0.5,0.49,0.53,0.52],[0.12,0.85,0.14,0.31,0.06,0.08,0.19,-0.01,0.05,0.1,0.24,0.24,1.0,0.39,0.37,0.18,0.02,0.11,0.15,0.24,0.16,0.14],[0.79,0.58,0.89,0.65,0.47,0.49,0.65,0.51,0.51,0.58,0.6,0.8,0.39,1.0,0.67,0.69,0.55,0.64,0.58,0.61,0.45,0.43],[0.45,0.63,0.54,0.96,0.25,0.28,0.55,0.34,0.39,0.62,0.65,0.51,0.37,0.67,1.0,0.61,0.31,0.42,0.59,0.66,0.29,0.27],[0.76,0.32,0.62,0.59,0.47,0.47,0.94,0.67,0.71,0.68,0.72,0.74,0.18,0.69,0.61,1.0,0.69,0.68,0.66,0.65,0.54,0.53],[0.73,0.02,0.58,0.29,0.46,0.46,0.74,0.86,0.88,0.68,0.64,0.71,0.02,0.55,0.31,0.69,1.0,0.96,0.72,0.66,0.52,0.52],[0.74,0.14,0.62,0.4,0.45,0.46,0.72,0.85,0.87,0.72,0.69,0.7,0.11,0.64,0.42,0.68,0.96,1.0,0.77,0.74,0.51,0.5],[0.53,0.21,0.5,0.56,0.4,0.41,0.63,0.66,0.7,0.89,0.88,0.5,0.15,0.58,0.59,0.66,0.72,0.77,1.0,0.96,0.45,0.44],[0.51,0.31,0.48,0.61,0.37,0.39,0.62,0.62,0.67,0.87,0.9,0.49,0.24,0.61,0.66,0.65,0.66,0.74,0.96,1.0,0.43,0.42],[0.53,0.15,0.41,0.26,0.93,0.93,0.56,0.41,0.42,0.42,0.44,0.53,0.16,0.45,0.29,0.54,0.52,0.51,0.45,0.43,1.0,1.0],[0.51,0.13,0.39,0.24,0.93,0.93,0.55,0.4,0.41,0.41,0.42,0.52,0.14,0.43,0.27,0.53,0.52,0.5,0.44,0.42,1.0,1.0]]\n",
              "\n",
              "\n",
              "for ( var i = 0; i < yValues.length; i++ ) {\n",
              "  for ( var j = 0; j < xValues.length; j++ ) {\n",
              "    var currentValue = zValues[i][j];\n",
              "    if (currentValue != 0.0) {\n",
              "      var textColor = 'white';\n",
              "    }else{\n",
              "      var textColor = 'black';\n",
              "    }\n",
              "    var result = {\n",
              "      xref: 'x1',\n",
              "      yref: 'y1',\n",
              "      x: xValues[j],\n",
              "      y: yValues[i],\n",
              "      text: aValues[i][j],\n",
              "      font: {\n",
              "        family: 'Arial',\n",
              "        size: 5,\n",
              "        color: 'rgb(50, 171, 96)'\n",
              "      },\n",
              "      showarrow: false,\n",
              "      font: {\n",
              "        color: textColor,\n",
              "        size: '18'\n",
              "      }\n",
              "    };\n",
              "    layout.annotations.push(result);\n",
              "  }\n",
              "}\n",
              "\n",
              "var data = [{\n",
              "   x: xValues,\n",
              "   y: yValues,\n",
              "   z: zValues,\n",
              "   \n",
              "   colorscale: 'RdBu', \n",
              "   type: 'heatmap' \n",
              " }];\n",
              " Plotly.newPlot('longevity_cor', data, layout);\n",
              "</script>\n",
              "    <h3>longevity_cor heatmap has been displayed</h3>"
            ]
          },
          "output_type" : "display_data"
        }
      ]
    },
    {
      "cell_type" : "markdown",
      "execution_count" : 38,
      "metadata" : {
        "language" : "text"
      },
      "language" : "text",
      "source" : [
        "### DNA REPAIR<br>\n",
        "\n",
        "\n"
      ],
      "outputs" : [
      ]
    },
    {
      "cell_type" : "code",
      "execution_count" : 39,
      "metadata" : {
        "cell.metadata.exec_info" : {
          "startTs" : 1582595114062,
          "endTs" : 1582595115048
        },
        "language" : "scala"
      },
      "language" : "scala",
      "source" : [
        "val dna_repair_cor = makeProCor(dna_repair_goes)\n",
        "dna_repair_cor.show(10,1000)"
      ],
      "outputs" : [
        {
          "name" : "stdout",
          "text" : [
            "+--------------------+-------------------+---------------------+--------------------+---------------------+-------------------+-------------------+-------------------+---------------------+--------------------+---------------------+-------------------+--------------------+---------------------+---------------------+---------------------+-------------------+-------------------+-------------------+--------------------+---------------------+---------------------+-------------------+\n",
            "|                  go|bowhead_whale_liver|     gray_whale_liver|         minke_liver|          human_liver|        bat_liver_1|        bat_liver_2|          NMR_liver|   cow_totalRNA_liver|      cow_mRNA_liver| mouse_totalRNA_liver|   mouse_mRNA_liver|bowhead_whale_kidney|    gray_whale_kidney|         minke_kidney|         human_kidney|       bat_kidney_1|       bat_kidney_2|         NMR_kidney| cow_totalRNA_kidney|      cow_mRNA_kidney|mouse_totalRNA_kidney|  mouse_mRNA_kidney|\n",
            "+--------------------+-------------------+---------------------+--------------------+---------------------+-------------------+-------------------+-------------------+---------------------+--------------------+---------------------+-------------------+--------------------+---------------------+---------------------+---------------------+-------------------+-------------------+-------------------+--------------------+---------------------+---------------------+-------------------+\n",
            "| bowhead_whale_liver|                1.0|   0.6834907710475719|  0.5000964040697583|  0.33153638814016084| 0.5773455019249105|  0.570410420820717| 0.6982661033382661|  0.33615710435119617|   0.326145552560657|   0.4193299961494408|0.41085868309591395|   0.650481888761053|   0.6858024647487765|   0.4631093048473869|   0.3430881786677998| 0.5341938861657458| 0.5472934838068736| 0.7699424252042443|   0.402387370042695|   0.3831343858298436|     0.42318059299206|0.39545629572615293|\n",
            "|    gray_whale_liver| 0.6834907710475719|                  1.0|  0.8735543562066312|   0.7898286813120119| 0.5817270624518159| 0.5878951426368627| 0.3867360781336551|-0.062415729937867134|  -0.094008877190322|0.0069350811041700815|0.06164516537067732|  0.8602275077928738|   0.9838087895139449|   0.8550501156515591|   0.7929109395807715| 0.5782575173480223| 0.5767154973015943| 0.4245228534647888|-0.02774032441690455| -0.02696975984972599|  0.00924677480554017|0.03929879292371824|\n",
            "|         minke_liver| 0.5000964040697583|   0.8735543562066312|                 1.0|   0.8838375585023184| 0.4136468774093997| 0.4205859676175796| 0.3435511920409515|  -0.0585629071022547|-0.07474476301199114| 0.010017339372693897|0.10402621656298897|  0.9265471542923851|   0.8897455666920701|   0.9953739398612682|   0.8815258648010676|0.42636854279121433| 0.4086353122591186|  0.318102955593491|-0.03313427638693497|-0.026199195282637203| 0.012329033074098463| 0.0909266189215419|\n",
            "|         human_liver|0.33153638814016084|   0.7898286813120119|  0.8838375585023184|                  1.0| 0.3527259306054302| 0.3550376243068373|0.18921007546306146| -0.14593762033120883|-0.18444358875628325|-0.050442818636915514|0.03041971505581388|  0.8612719320977223|   0.7983048915503257|   0.8892315104723177|   0.9969195225262119| 0.3719900447839254| 0.3427085912326902|0.16763010758951213|-0.14593762033146107|   -0.145167500962617|-0.051212938005453894|0.01578744705412822|\n",
            "|         bat_liver_1| 0.5773455019249105|   0.5817270624518159|  0.4136468774093997|   0.3527259306054302|                1.0| 0.9992289899768977|  0.470021215598138|   0.1558466837027112| 0.13041805298735598|  0.19090737150740897|0.19437491205944357|  0.5101214669699649|     0.61873554356201|   0.3982266769467485|   0.3685225042315908| 0.9868928296073206| 0.9907478797226181| 0.5421245521994011| 0.17164325732904676|    0.141591239210692|  0.19707188804450956|0.18512813725371885|\n",
            "|         bat_liver_2|  0.570410420820717|   0.5878951426368627|  0.4205859676175796|   0.3550376243068373| 0.9992289899768977|                1.0| 0.4630807874761057|  0.14351765062855124| 0.11885958448035253|  0.17857833843324958|0.18204587898535152|  0.5108926256501554|   0.6256746337701912|   0.4051657671549287|  0.37083419793299893|  0.989976869699681| 0.9938319198151124| 0.5344129653970524| 0.16008478882189933|  0.13080333527077687|  0.18474285497027967| 0.1727991041796167|\n",
            "|           NMR_liver| 0.6982661033382661|   0.3867360781336551|  0.3435511920409515|  0.18921007546306146|  0.470021215598138| 0.4630807874761057|                1.0|   0.7618499372515197|  0.7664742160815906|   0.8026977335837857| 0.7992295244612444|  0.3729271114539802|  0.43609023366818184|  0.31116252747149087|  0.19576113713896456| 0.4233661154445753| 0.4195103220432817| 0.9714616274588174|   0.772639921188647|   0.7749520606033202|   0.8050098729988953| 0.7741813474655127|\n",
            "|  cow_totalRNA_liver|0.33615710435119617|-0.062415729937867134| -0.0585629071022547| -0.14593762033120883| 0.1558466837027112|0.14351765062855124| 0.7618499372515197|                  1.0|  0.9892183288408569|   0.8975741239891102| 0.8475163650365533|-0.02736031641151949|-0.019264114178427296| -0.08399153781794465|  -0.1428571428575655|0.13118861755406439|0.11654789077839293| 0.7279385591641898|  0.9799768964192838|    0.979976896418762|    0.899114362726267| 0.8621486330380747|\n",
            "|      cow_mRNA_liver|  0.326145552560657|   -0.094008877190322|-0.07474476301199114| -0.18444358875628325|0.13041805298735598|0.11885958448035253| 0.7664742160815906|   0.9892183288408569|                 1.0|   0.8944936465153548| 0.8498267231421374|-0.04816957114649598|-0.047775003161915186| -0.09786170002607761| -0.17751251444016442|0.10884224510752323|0.09343095376490423| 0.7356456905479257|  0.9876780901046048|   0.9907585675779061|   0.8952637658840531| 0.8606083943013696|\n",
            "|mouse_totalRNA_liver| 0.4193299961494408|0.0069350811041700815|0.010017339372693897|-0.050442818636915514|0.19090737150740897|0.17857833843324958| 0.8026977335837857|   0.8975741239891102|  0.8944936465153548|                  1.0| 0.9807470157874884| 0.06358383391299138|  0.05239839056498854|-0.015411291342855708|-0.042741624952424624| 0.1701021281944327| 0.1639376116571353| 0.7502892401763063|  0.9122063919912099|   0.9129765113590657|   0.9984597612630848|  0.983057373893385|\n",
            "+--------------------+-------------------+---------------------+--------------------+---------------------+-------------------+-------------------+-------------------+---------------------+--------------------+---------------------+-------------------+--------------------+---------------------+---------------------+---------------------+-------------------+-------------------+-------------------+--------------------+---------------------+---------------------+-------------------+\n",
            "only showing top 10 rows\n",
            "\n"
          ],
          "output_type" : "stream"
        }
      ]
    },
    {
      "cell_type" : "code",
      "execution_count" : 40,
      "metadata" : {
        "cell.metadata.exec_info" : {
          "startTs" : 1582595116604,
          "endTs" : 1582595116697
        },
        "language" : "scala"
      },
      "language" : "scala",
      "source" : [
        "html(s\"\"\"<div id=\"dna_repair_cor\"></div>\"\"\")"
      ],
      "outputs" : [
        {
          "data" : {
            "text/html" : [
              "<div id=\"dna_repair_cor\"></div>"
            ]
          },
          "output_type" : "display_data"
        }
      ]
    },
    {
      "cell_type" : "code",
      "execution_count" : 42,
      "metadata" : {
        "cell.metadata.exec_info" : {
          "startTs" : 1582595119167,
          "endTs" : 1582595119425
        },
        "language" : "scala"
      },
      "language" : "scala",
      "source" : [
        "html(makeHeatCor(dna_repair_cor, \"dna_repair_cor\", \"DNA repair correlations for liver and kidney\"))"
      ],
      "outputs" : [
        {
          "data" : {
            "text/html" : [
              "<script type=\"text/javascript\" charset=\"utf-8\">\n",
              "var layout = {\n",
              "  title: 'DNA repair correlations for liver and kidney',\n",
              "  annotations: [],\n",
              "  margin: {\n",
              "    l: 300,\n",
              "    r: 125,\n",
              "    t: 400,\n",
              "    b: 50\n",
              "  },\n",
              "  width: 1800,\n",
              "  height: 1400,\n",
              "  xaxis: {\n",
              "    side: 'top',\n",
              "    tickfont: {\n",
              "      size: 20\n",
              "    },\n",
              "    tickangle: '-30'\n",
              "  },\n",
              "  yaxis: {\n",
              "    side: 'left',\n",
              "    autorange: 'reversed',\n",
              "    tickfont: {\n",
              "      size: 20\n",
              "    }\n",
              "  },\n",
              "};\n",
              "\n",
              "var xValues = [\"Bowhead whale liver\",\"Gray whale liver\",\"Minke whale liver\",\"Human liver\",\"Bat 1 liver\",\"Bat 2 liver\",\"Naked mole rat liver\",\"Cow 1 liver\",\"Cow 2 liver\",\"Mouse 1 liver\",\"Mouse 2 liver\",\"Bowhead whale kidney\",\"Gray whale kidney\",\"Minke whale kidney\",\"Human kidney\",\"Bat 1 kidney\",\"Bat 2 kidney\",\"Naked mole rat kidney\",\"Cow 1 kidney\",\"Cow 2 kidney\",\"Mouse 1 kidney\",\"Mouse 2 kidney\"]\n",
              "var yValues =  [\"Bowhead whale liver\",\"Gray whale liver\",\"Minke whale liver\",\"Human liver\",\"Bat 1 liver\",\"Bat 2 liver\",\"Naked mole rat liver\",\"Cow 1 liver\",\"Cow 2 liver\",\"Mouse 1 liver\",\"Mouse 2 liver\",\"Bowhead whale kidney\",\"Gray whale kidney\",\"Minke whale kidney\",\"Human kidney\",\"Bat 1 kidney\",\"Bat 2 kidney\",\"Naked mole rat kidney\",\"Cow 1 kidney\",\"Cow 2 kidney\",\"Mouse 1 kidney\",\"Mouse 2 kidney\"]\n",
              "var zValues =  [[1.0,0.68,0.5,0.33,0.58,0.57,0.7,0.34,0.33,0.42,0.41,0.65,0.69,0.46,0.34,0.53,0.55,0.77,0.4,0.38,0.42,0.4],[0.68,1.0,0.87,0.79,0.58,0.59,0.39,-0.06,-0.09,0.01,0.06,0.86,0.98,0.86,0.79,0.58,0.58,0.42,-0.03,-0.03,0.01,0.04],[0.5,0.87,1.0,0.88,0.41,0.42,0.34,-0.06,-0.07,0.01,0.1,0.93,0.89,1.0,0.88,0.43,0.41,0.32,-0.03,-0.03,0.01,0.09],[0.33,0.79,0.88,1.0,0.35,0.36,0.19,-0.15,-0.18,-0.05,0.03,0.86,0.8,0.89,1.0,0.37,0.34,0.17,-0.15,-0.15,-0.05,0.02],[0.58,0.58,0.41,0.35,1.0,1.0,0.47,0.16,0.13,0.19,0.19,0.51,0.62,0.4,0.37,0.99,0.99,0.54,0.17,0.14,0.2,0.19],[0.57,0.59,0.42,0.36,1.0,1.0,0.46,0.14,0.12,0.18,0.18,0.51,0.63,0.41,0.37,0.99,0.99,0.53,0.16,0.13,0.18,0.17],[0.7,0.39,0.34,0.19,0.47,0.46,1.0,0.76,0.77,0.8,0.8,0.37,0.44,0.31,0.2,0.42,0.42,0.97,0.77,0.77,0.81,0.77],[0.34,-0.06,-0.06,-0.15,0.16,0.14,0.76,1.0,0.99,0.9,0.85,-0.03,-0.02,-0.08,-0.14,0.13,0.12,0.73,0.98,0.98,0.9,0.86],[0.33,-0.09,-0.07,-0.18,0.13,0.12,0.77,0.99,1.0,0.89,0.85,-0.05,-0.05,-0.1,-0.18,0.11,0.09,0.74,0.99,0.99,0.9,0.86],[0.42,0.01,0.01,-0.05,0.19,0.18,0.8,0.9,0.89,1.0,0.98,0.06,0.05,-0.02,-0.04,0.17,0.16,0.75,0.91,0.91,1.0,0.98],[0.41,0.06,0.1,0.03,0.19,0.18,0.8,0.85,0.85,0.98,1.0,0.13,0.11,0.08,0.04,0.17,0.17,0.73,0.86,0.87,0.97,0.99],[0.65,0.86,0.93,0.86,0.51,0.51,0.37,-0.03,-0.05,0.06,0.13,1.0,0.89,0.91,0.86,0.52,0.5,0.4,0.01,0.0,0.06,0.13],[0.69,0.98,0.89,0.8,0.62,0.63,0.44,-0.02,-0.05,0.05,0.11,0.89,1.0,0.87,0.8,0.62,0.61,0.48,0.01,0.01,0.05,0.09],[0.46,0.86,1.0,0.89,0.4,0.41,0.31,-0.08,-0.1,-0.02,0.08,0.91,0.87,1.0,0.89,0.41,0.39,0.28,-0.05,-0.05,-0.01,0.07],[0.34,0.79,0.88,1.0,0.37,0.37,0.2,-0.14,-0.18,-0.04,0.04,0.86,0.8,0.89,1.0,0.39,0.36,0.18,-0.14,-0.14,-0.04,0.02],[0.53,0.58,0.43,0.37,0.99,0.99,0.42,0.13,0.11,0.17,0.17,0.52,0.62,0.41,0.39,1.0,1.0,0.49,0.15,0.12,0.17,0.17],[0.55,0.58,0.41,0.34,0.99,0.99,0.42,0.12,0.09,0.16,0.17,0.5,0.61,0.39,0.36,1.0,1.0,0.49,0.14,0.11,0.17,0.16],[0.77,0.42,0.32,0.17,0.54,0.53,0.97,0.73,0.74,0.75,0.73,0.4,0.48,0.28,0.18,0.49,0.49,1.0,0.75,0.75,0.75,0.71],[0.4,-0.03,-0.03,-0.15,0.17,0.16,0.77,0.98,0.99,0.91,0.86,0.01,0.01,-0.05,-0.14,0.15,0.14,0.75,1.0,1.0,0.91,0.88],[0.38,-0.03,-0.03,-0.15,0.14,0.13,0.77,0.98,0.99,0.91,0.87,0.0,0.01,-0.05,-0.14,0.12,0.11,0.75,1.0,1.0,0.91,0.88],[0.42,0.01,0.01,-0.05,0.2,0.18,0.81,0.9,0.9,1.0,0.97,0.06,0.05,-0.01,-0.04,0.17,0.17,0.75,0.91,0.91,1.0,0.98],[0.4,0.04,0.09,0.02,0.19,0.17,0.77,0.86,0.86,0.98,0.99,0.13,0.09,0.07,0.02,0.17,0.16,0.71,0.88,0.88,0.98,1.0]]\n",
              "var aValues =  [[1.0,0.68,0.5,0.33,0.58,0.57,0.7,0.34,0.33,0.42,0.41,0.65,0.69,0.46,0.34,0.53,0.55,0.77,0.4,0.38,0.42,0.4],[0.68,1.0,0.87,0.79,0.58,0.59,0.39,-0.06,-0.09,0.01,0.06,0.86,0.98,0.86,0.79,0.58,0.58,0.42,-0.03,-0.03,0.01,0.04],[0.5,0.87,1.0,0.88,0.41,0.42,0.34,-0.06,-0.07,0.01,0.1,0.93,0.89,1.0,0.88,0.43,0.41,0.32,-0.03,-0.03,0.01,0.09],[0.33,0.79,0.88,1.0,0.35,0.36,0.19,-0.15,-0.18,-0.05,0.03,0.86,0.8,0.89,1.0,0.37,0.34,0.17,-0.15,-0.15,-0.05,0.02],[0.58,0.58,0.41,0.35,1.0,1.0,0.47,0.16,0.13,0.19,0.19,0.51,0.62,0.4,0.37,0.99,0.99,0.54,0.17,0.14,0.2,0.19],[0.57,0.59,0.42,0.36,1.0,1.0,0.46,0.14,0.12,0.18,0.18,0.51,0.63,0.41,0.37,0.99,0.99,0.53,0.16,0.13,0.18,0.17],[0.7,0.39,0.34,0.19,0.47,0.46,1.0,0.76,0.77,0.8,0.8,0.37,0.44,0.31,0.2,0.42,0.42,0.97,0.77,0.77,0.81,0.77],[0.34,-0.06,-0.06,-0.15,0.16,0.14,0.76,1.0,0.99,0.9,0.85,-0.03,-0.02,-0.08,-0.14,0.13,0.12,0.73,0.98,0.98,0.9,0.86],[0.33,-0.09,-0.07,-0.18,0.13,0.12,0.77,0.99,1.0,0.89,0.85,-0.05,-0.05,-0.1,-0.18,0.11,0.09,0.74,0.99,0.99,0.9,0.86],[0.42,0.01,0.01,-0.05,0.19,0.18,0.8,0.9,0.89,1.0,0.98,0.06,0.05,-0.02,-0.04,0.17,0.16,0.75,0.91,0.91,1.0,0.98],[0.41,0.06,0.1,0.03,0.19,0.18,0.8,0.85,0.85,0.98,1.0,0.13,0.11,0.08,0.04,0.17,0.17,0.73,0.86,0.87,0.97,0.99],[0.65,0.86,0.93,0.86,0.51,0.51,0.37,-0.03,-0.05,0.06,0.13,1.0,0.89,0.91,0.86,0.52,0.5,0.4,0.01,0.0,0.06,0.13],[0.69,0.98,0.89,0.8,0.62,0.63,0.44,-0.02,-0.05,0.05,0.11,0.89,1.0,0.87,0.8,0.62,0.61,0.48,0.01,0.01,0.05,0.09],[0.46,0.86,1.0,0.89,0.4,0.41,0.31,-0.08,-0.1,-0.02,0.08,0.91,0.87,1.0,0.89,0.41,0.39,0.28,-0.05,-0.05,-0.01,0.07],[0.34,0.79,0.88,1.0,0.37,0.37,0.2,-0.14,-0.18,-0.04,0.04,0.86,0.8,0.89,1.0,0.39,0.36,0.18,-0.14,-0.14,-0.04,0.02],[0.53,0.58,0.43,0.37,0.99,0.99,0.42,0.13,0.11,0.17,0.17,0.52,0.62,0.41,0.39,1.0,1.0,0.49,0.15,0.12,0.17,0.17],[0.55,0.58,0.41,0.34,0.99,0.99,0.42,0.12,0.09,0.16,0.17,0.5,0.61,0.39,0.36,1.0,1.0,0.49,0.14,0.11,0.17,0.16],[0.77,0.42,0.32,0.17,0.54,0.53,0.97,0.73,0.74,0.75,0.73,0.4,0.48,0.28,0.18,0.49,0.49,1.0,0.75,0.75,0.75,0.71],[0.4,-0.03,-0.03,-0.15,0.17,0.16,0.77,0.98,0.99,0.91,0.86,0.01,0.01,-0.05,-0.14,0.15,0.14,0.75,1.0,1.0,0.91,0.88],[0.38,-0.03,-0.03,-0.15,0.14,0.13,0.77,0.98,0.99,0.91,0.87,0.0,0.01,-0.05,-0.14,0.12,0.11,0.75,1.0,1.0,0.91,0.88],[0.42,0.01,0.01,-0.05,0.2,0.18,0.81,0.9,0.9,1.0,0.97,0.06,0.05,-0.01,-0.04,0.17,0.17,0.75,0.91,0.91,1.0,0.98],[0.4,0.04,0.09,0.02,0.19,0.17,0.77,0.86,0.86,0.98,0.99,0.13,0.09,0.07,0.02,0.17,0.16,0.71,0.88,0.88,0.98,1.0]]\n",
              "\n",
              "\n",
              "for ( var i = 0; i < yValues.length; i++ ) {\n",
              "  for ( var j = 0; j < xValues.length; j++ ) {\n",
              "    var currentValue = zValues[i][j];\n",
              "    if (currentValue != 0.0) {\n",
              "      var textColor = 'white';\n",
              "    }else{\n",
              "      var textColor = 'black';\n",
              "    }\n",
              "    var result = {\n",
              "      xref: 'x1',\n",
              "      yref: 'y1',\n",
              "      x: xValues[j],\n",
              "      y: yValues[i],\n",
              "      text: aValues[i][j],\n",
              "      font: {\n",
              "        family: 'Arial',\n",
              "        size: 5,\n",
              "        color: 'rgb(50, 171, 96)'\n",
              "      },\n",
              "      showarrow: false,\n",
              "      font: {\n",
              "        color: textColor,\n",
              "        size: '18'\n",
              "      }\n",
              "    };\n",
              "    layout.annotations.push(result);\n",
              "  }\n",
              "}\n",
              "\n",
              "var data = [{\n",
              "   x: xValues,\n",
              "   y: yValues,\n",
              "   z: zValues,\n",
              "   \n",
              "   colorscale: 'RdBu', \n",
              "   type: 'heatmap' \n",
              " }];\n",
              " Plotly.newPlot('dna_repair_cor', data, layout);\n",
              "</script>\n",
              "    <h3>dna_repair_cor heatmap has been displayed</h3>"
            ]
          },
          "output_type" : "display_data"
        }
      ]
    },
    {
      "cell_type" : "markdown",
      "execution_count" : 43,
      "metadata" : {
        "language" : "text"
      },
      "language" : "text",
      "source" : [
        "### Hypoxia\n",
        "\n",
        "\n"
      ],
      "outputs" : [
      ]
    },
    {
      "cell_type" : "code",
      "execution_count" : 44,
      "metadata" : {
        "cell.metadata.exec_info" : {
          "startTs" : 1582595258901,
          "endTs" : 1582595259723
        },
        "language" : "scala"
      },
      "language" : "scala",
      "source" : [
        "val hypoxia_cor = makeProCor(hypoxia_goes)\n",
        "html(s\"\"\"<div id=\"hypoxia_cor\"></div>\"\"\")"
      ],
      "outputs" : [
        {
          "data" : {
            "text/html" : [
              "<div id=\"hypoxia_cor\"></div>"
            ]
          },
          "output_type" : "display_data"
        }
      ]
    },
    {
      "cell_type" : "code",
      "execution_count" : 45,
      "metadata" : {
        "cell.metadata.exec_info" : {
          "startTs" : 1582595260810,
          "endTs" : 1582595261017
        },
        "language" : "scala"
      },
      "language" : "scala",
      "source" : [
        "hypoxia_cor.show(100,1000)"
      ],
      "outputs" : [
        {
          "name" : "stdout",
          "text" : [
            "+---------------------+-------------------+--------------------+--------------------+------------------+-------------------+------------------+------------------+--------------------+--------------------+--------------------+---------------------+--------------------+---------------------+-------------------+------------------+------------------+------------------+------------------+--------------------+--------------------+---------------------+-------------------+\n",
            "|                   go|bowhead_whale_liver|    gray_whale_liver|         minke_liver|       human_liver|        bat_liver_1|       bat_liver_2|         NMR_liver|  cow_totalRNA_liver|      cow_mRNA_liver|mouse_totalRNA_liver|     mouse_mRNA_liver|bowhead_whale_kidney|    gray_whale_kidney|       minke_kidney|      human_kidney|      bat_kidney_1|      bat_kidney_2|        NMR_kidney| cow_totalRNA_kidney|     cow_mRNA_kidney|mouse_totalRNA_kidney|  mouse_mRNA_kidney|\n",
            "+---------------------+-------------------+--------------------+--------------------+------------------+-------------------+------------------+------------------+--------------------+--------------------+--------------------+---------------------+--------------------+---------------------+-------------------+------------------+------------------+------------------+------------------+--------------------+--------------------+---------------------+-------------------+\n",
            "|  bowhead_whale_liver|                1.0|  0.8285714285714265|  0.8285714285714249| 0.771428571428566| 0.4285714285714216|0.5428571428571445|0.7714285714285471|  0.3142857142856923|  0.3142857142856923|  0.4857142857142825|  0.37142857142857466|  0.8285714285714302|   0.8285714285713225| 0.9999999999998701|0.7142857142855287|0.5428571428571364|0.5428571428569953|0.6000000000000065| 0.37142857142857466|  0.3142857142856391|   0.4857142857142825| 0.5428571428568543|\n",
            "|     gray_whale_liver| 0.8285714285714265|                 1.0|  1.0000000000000022|0.7142857142857071| 0.5999999999999955|0.5428571428571353|0.7142857142856897|  -0.085714285714267|  -0.085714285714267| 0.02857142857143501| -0.02857142857143501|  0.8857142857142905|    0.999999999999868| 0.8285714285713452|0.6571428571427045|0.5428571428571678|0.5428571428570267|0.6000000000000377|-0.02857142857140253|-0.08571428571425027|  0.02857142857140253|0.08571428571429296|\n",
            "|          minke_liver| 0.8285714285714249|  1.0000000000000022|                 1.0|0.7142857142857055| 0.5999999999999943|0.5428571428571342|0.7142857142856882|-0.08571428571426681|-0.08571428571426681|0.028571428571467435| -0.02857142857140247|  0.8857142857143211|    0.999999999999866| 0.8285714285713436|0.6571428571427357|0.5428571428572316|0.5428571428570256|0.6000000000000365|-0.02857142857140247| -0.0857142857142501|  0.02857142857140247|0.08571428571429279|\n",
            "|          human_liver|  0.771428571428566|  0.7142857142857071|  0.7142857142857055|               1.0| 0.7714285714285656|0.8857142857143175|0.9999999999999918|  0.5428571428571292|  0.5428571428571292|  0.6000000000000341|   0.6000000000000341|  0.9428571428571871|   0.7142857142856806| 0.7714285714285428| 0.942857142856942|0.8857142857142526|0.8857142857140222|0.9428571428571871|  0.6000000000000991|  0.5428571428571533|   0.6000000000000991| 0.6571428571425623|\n",
            "|          bat_liver_1| 0.4285714285714216|  0.5999999999999955|  0.5999999999999943|0.7714285714285656|                1.0|0.9428571428571145|0.7714285714285468| 0.42857142857139374| 0.42857142857145875| 0.31428571428574814|  0.37142857142861735|  0.7142857142858327|   0.5999999999998863| 0.4285714285714959|0.8285714285712258|0.9428571428573095|0.9428571428569346|0.8857142857142454| 0.37142857142861735| 0.42857142857131025|  0.31428571428581314| 0.2571428571427453|\n",
            "|          bat_liver_2| 0.5428571428571445|  0.5428571428571353|  0.5428571428571342|0.8857142857143175| 0.9428571428571145|               1.0|0.8857142857142309|  0.6571428571428015|  0.6571428571428015|   0.599999999999974|    0.599999999999974|  0.7714285714285195|   0.5428571428570983| 0.5428571428570983|0.9428571428569498|               1.0|0.9999999999997401|0.9428571428571948|  0.6000000000001039|  0.6571428571427383|   0.6000000000001039| 0.5428571428567568|\n",
            "|            NMR_liver| 0.7714285714285471|  0.7142857142856897|  0.7142857142856882|0.9999999999999918| 0.7714285714285468|0.8857142857142309|               1.0|  0.5428571428572458|   0.542857142857116|  0.6000000000000845|   0.6000000000000845|  0.9428571428571642|   0.7142857142857282| 0.7714285714286541|0.9428571428569191|0.8857142857143608|0.8857142857141306|0.9428571428571642|  0.6000000000000845|    0.54285714285714|   0.6000000000003443| 0.6571428571425463|\n",
            "|   cow_totalRNA_liver| 0.3142857142856923|  -0.085714285714267|-0.08571428571426681|0.5428571428571292|0.42857142857139374|0.6571428571428015|0.5428571428572458|                 1.0|  0.9999999999998702|  0.9428571428571337|   0.9428571428571337| 0.25714285714286644| -0.08571428571419105|0.31428571428575697| 0.599999999999909|0.6571428571428665|0.6571428571426957|0.5999999999998051|  0.9428571428571337|   0.999999999999935|   0.9428571428571337| 0.8857142857138718|\n",
            "|       cow_mRNA_liver| 0.3142857142856923|  -0.085714285714267|-0.08571428571426681|0.5428571428571292|0.42857142857145875|0.6571428571428015| 0.542857142857116|  0.9999999999998702|                 1.0|  0.9428571428571337|   0.9428571428572636|  0.2571428571429964| -0.08571428571432098|0.31428571428575697| 0.599999999999909|0.6571428571431264|0.6571428571426957| 0.600000000000065|  0.9428571428573935|  0.9999999999996751|   0.9428571428573935| 0.8857142857138718|\n",
            "| mouse_totalRNA_liver| 0.4857142857142825| 0.02857142857143501|0.028571428571467435|0.6000000000000341|0.31428571428574814| 0.599999999999974|0.6000000000000845|  0.9428571428571337|  0.9428571428571337|                 1.0|   0.8857142857143897|  0.3714285714286234| 0.028571428571528803| 0.4857142857144305|0.6571428571427383|0.6000000000001039| 0.599999999999948|0.5428571428572988|  0.8857142857143897|  0.9428571428569498|                  1.0| 0.9428571428569646|\n",
            "|     mouse_mRNA_liver|0.37142857142857466|-0.02857142857143501|-0.02857142857140247|0.6000000000000341|0.37142857142861735| 0.599999999999974|0.6000000000000845|  0.9428571428571337|  0.9428571428572636|  0.8857142857143897|                  1.0| 0.31428571428581825|-0.028571428571528803|0.37142857142857516|0.5428571428568979|0.6000000000001039| 0.599999999999948|0.6571428571429091|                 1.0|    0.94285714285669|   0.8857142857143897|  0.942857142856445|\n",
            "| bowhead_whale_kidney| 0.8285714285714302|  0.8857142857142905|  0.8857142857143211|0.9428571428571871| 0.7142857142858327|0.7714285714285195|0.9428571428571642| 0.25714285714286644|  0.2571428571429964|  0.3714285714286234|  0.31428571428581825|                 1.0|   0.8857142857140147|  0.828571428571217|0.8857142857138997|0.7714285714285195|0.7714285714280591|0.8285714285713246| 0.31428571428581825| 0.25714285714268637|  0.37142857142836355|0.42857142857120584|\n",
            "|    gray_whale_kidney| 0.8285714285713225|   0.999999999999868|   0.999999999999866|0.7142857142856806| 0.5999999999998863|0.5428571428570983|0.7142857142857282|-0.08571428571419105|-0.08571428571432098|0.028571428571528803|-0.028571428571528803|  0.8857142857140147|                  1.0|  0.828571428571629|0.6571428571426529|0.5428571428569684|0.5428571428568273| 0.600000000000026|-0.02857142857100909|-0.08571428571404441| 0.028571428572048512|0.08571428571454186|\n",
            "|         minke_kidney| 0.9999999999998701|  0.8285714285713452|  0.8285714285713436|0.7714285714285428| 0.4285714285714959|0.5428571428570983|0.7714285714286541| 0.31428571428575697| 0.31428571428575697|  0.4857142857144305|  0.37142857142857516|   0.828571428571217|    0.828571428571629|                1.0|0.7142857142854357|0.5428571428569684| 0.542857142857347| 0.600000000000026|   0.371428571428835|  0.3142857142856957|   0.4857142857144305|  0.542857142857206|\n",
            "|         human_kidney| 0.7142857142855287|  0.6571428571427045|  0.6571428571427357| 0.942857142856942| 0.8285714285712258|0.9428571428569498|0.9428571428569191|   0.599999999999909|   0.599999999999909|  0.6571428571427383|   0.5428571428568979|  0.8857142857138997|   0.6571428571426529| 0.7142857142854357|               1.0|  0.94285714285669|0.9428571428569645|0.8857142857141594|  0.5428571428568979|   0.599999999999792|   0.6571428571424784| 0.5999999999996362|\n",
            "|         bat_kidney_1| 0.5428571428571364|  0.5428571428571678|  0.5428571428572316|0.8857142857142526| 0.9428571428573095|               1.0|0.8857142857143608|  0.6571428571428665|  0.6571428571431264|  0.6000000000001039|   0.6000000000001039|  0.7714285714285195|   0.5428571428569684| 0.5428571428569684|  0.94285714285669|               1.0|0.9999999999997401| 0.942857142856935|  0.6000000000001039|  0.6571428571424784|   0.6000000000001039| 0.5428571428567568|\n",
            "|         bat_kidney_2| 0.5428571428569953|  0.5428571428570267|  0.5428571428570256|0.8857142857140222| 0.9428571428569346|0.9999999999997401|0.8857142857141306|  0.6571428571426957|  0.6571428571426957|   0.599999999999948|    0.599999999999948|  0.7714285714280591|   0.5428571428568273|  0.542857142857347|0.9428571428569645|0.9999999999997401|               1.0|0.9428571428572097|  0.6000000000004677|  0.6571428571428274|   0.6000000000004677| 0.5428571428571354|\n",
            "|           NMR_kidney| 0.6000000000000065|  0.6000000000000377|  0.6000000000000365|0.9428571428571871| 0.8857142857142454|0.9428571428571948|0.9428571428571642|  0.5999999999998051|   0.600000000000065|  0.5428571428572988|   0.6571428571429091|  0.8285714285713246|    0.600000000000026|  0.600000000000026|0.8857142857141594| 0.942857142856935|0.9428571428572097|               1.0|   0.657142857143169|  0.6000000000004677|   0.5428571428575586| 0.5999999999997921|\n",
            "|  cow_totalRNA_kidney|0.37142857142857466|-0.02857142857140253|-0.02857142857140247|0.6000000000000991|0.37142857142861735|0.6000000000001039|0.6000000000000845|  0.9428571428571337|  0.9428571428573935|  0.8857142857143897|                  1.0| 0.31428571428581825| -0.02857142857100909|  0.371428571428835|0.5428571428568979|0.6000000000001039|0.6000000000004677| 0.657142857143169|                 1.0|  0.9428571428572097|   0.8857142857143897| 0.9428571428574843|\n",
            "|      cow_mRNA_kidney| 0.3142857142856391|-0.08571428571425027| -0.0857142857142501|0.5428571428571533|0.42857142857131025|0.6571428571427383|  0.54285714285714|   0.999999999999935|  0.9999999999996751|  0.9428571428569498|     0.94285714285669| 0.25714285714268637| -0.08571428571404441| 0.3142857142856957| 0.599999999999792|0.6571428571424784|0.6571428571428274|0.6000000000004677|  0.9428571428572097|                 1.0|   0.9428571428577294| 0.8857142857142187|\n",
            "|mouse_totalRNA_kidney| 0.4857142857142825| 0.02857142857140253| 0.02857142857140247|0.6000000000000991|0.31428571428581314|0.6000000000001039|0.6000000000003443|  0.9428571428571337|  0.9428571428573935|                 1.0|   0.8857142857143897| 0.37142857142836355| 0.028571428572048512| 0.4857142857144305|0.6571428571424784|0.6000000000001039|0.6000000000004677|0.5428571428575586|  0.8857142857143897|  0.9428571428577294|                  1.0|  0.942857142856445|\n",
            "|    mouse_mRNA_kidney| 0.5428571428568543| 0.08571428571429296| 0.08571428571429279|0.6571428571425623| 0.2571428571427453|0.5428571428567568|0.6571428571425463|  0.8857142857138718|  0.8857142857138718|  0.9428571428569646|    0.942857142856445| 0.42857142857120584|  0.08571428571454186|  0.542857142857206|0.5999999999996362|0.5428571428567568|0.5428571428571354|0.5999999999997921|  0.9428571428574843|  0.8857142857142187|    0.942857142856445|                1.0|\n",
            "+---------------------+-------------------+--------------------+--------------------+------------------+-------------------+------------------+------------------+--------------------+--------------------+--------------------+---------------------+--------------------+---------------------+-------------------+------------------+------------------+------------------+------------------+--------------------+--------------------+---------------------+-------------------+\n",
            "\n"
          ],
          "output_type" : "stream"
        }
      ]
    },
    {
      "cell_type" : "code",
      "execution_count" : 46,
      "metadata" : {
        "cell.metadata.exec_info" : {
          "startTs" : 1582595262951,
          "endTs" : 1582595263261
        },
        "language" : "scala"
      },
      "language" : "scala",
      "source" : [
        "html(makeHeatCor(hypoxia_cor, \"hypoxia_cor\", \"Hypoxia correlations for liver and kidney\" ))"
      ],
      "outputs" : [
        {
          "data" : {
            "text/html" : [
              "<script type=\"text/javascript\" charset=\"utf-8\">\n",
              "var layout = {\n",
              "  title: 'Hypoxia correlations for liver and kidney',\n",
              "  annotations: [],\n",
              "  margin: {\n",
              "    l: 300,\n",
              "    r: 125,\n",
              "    t: 400,\n",
              "    b: 50\n",
              "  },\n",
              "  width: 1800,\n",
              "  height: 1400,\n",
              "  xaxis: {\n",
              "    side: 'top',\n",
              "    tickfont: {\n",
              "      size: 20\n",
              "    },\n",
              "    tickangle: '-30'\n",
              "  },\n",
              "  yaxis: {\n",
              "    side: 'left',\n",
              "    autorange: 'reversed',\n",
              "    tickfont: {\n",
              "      size: 20\n",
              "    }\n",
              "  },\n",
              "};\n",
              "\n",
              "var xValues = [\"Bowhead whale liver\",\"Gray whale liver\",\"Minke whale liver\",\"Human liver\",\"Bat 1 liver\",\"Bat 2 liver\",\"Naked mole rat liver\",\"Cow 1 liver\",\"Cow 2 liver\",\"Mouse 1 liver\",\"Mouse 2 liver\",\"Bowhead whale kidney\",\"Gray whale kidney\",\"Minke whale kidney\",\"Human kidney\",\"Bat 1 kidney\",\"Bat 2 kidney\",\"Naked mole rat kidney\",\"Cow 1 kidney\",\"Cow 2 kidney\",\"Mouse 1 kidney\",\"Mouse 2 kidney\"]\n",
              "var yValues =  [\"Bowhead whale liver\",\"Gray whale liver\",\"Minke whale liver\",\"Human liver\",\"Bat 1 liver\",\"Bat 2 liver\",\"Naked mole rat liver\",\"Cow 1 liver\",\"Cow 2 liver\",\"Mouse 1 liver\",\"Mouse 2 liver\",\"Bowhead whale kidney\",\"Gray whale kidney\",\"Minke whale kidney\",\"Human kidney\",\"Bat 1 kidney\",\"Bat 2 kidney\",\"Naked mole rat kidney\",\"Cow 1 kidney\",\"Cow 2 kidney\",\"Mouse 1 kidney\",\"Mouse 2 kidney\"]\n",
              "var zValues =  [[1.0,0.83,0.83,0.77,0.43,0.54,0.77,0.31,0.31,0.49,0.37,0.83,0.83,1.0,0.71,0.54,0.54,0.6,0.37,0.31,0.49,0.54],[0.83,1.0,1.0,0.71,0.6,0.54,0.71,-0.09,-0.09,0.03,-0.03,0.89,1.0,0.83,0.66,0.54,0.54,0.6,-0.03,-0.09,0.03,0.09],[0.83,1.0,1.0,0.71,0.6,0.54,0.71,-0.09,-0.09,0.03,-0.03,0.89,1.0,0.83,0.66,0.54,0.54,0.6,-0.03,-0.09,0.03,0.09],[0.77,0.71,0.71,1.0,0.77,0.89,1.0,0.54,0.54,0.6,0.6,0.94,0.71,0.77,0.94,0.89,0.89,0.94,0.6,0.54,0.6,0.66],[0.43,0.6,0.6,0.77,1.0,0.94,0.77,0.43,0.43,0.31,0.37,0.71,0.6,0.43,0.83,0.94,0.94,0.89,0.37,0.43,0.31,0.26],[0.54,0.54,0.54,0.89,0.94,1.0,0.89,0.66,0.66,0.6,0.6,0.77,0.54,0.54,0.94,1.0,1.0,0.94,0.6,0.66,0.6,0.54],[0.77,0.71,0.71,1.0,0.77,0.89,1.0,0.54,0.54,0.6,0.6,0.94,0.71,0.77,0.94,0.89,0.89,0.94,0.6,0.54,0.6,0.66],[0.31,-0.09,-0.09,0.54,0.43,0.66,0.54,1.0,1.0,0.94,0.94,0.26,-0.09,0.31,0.6,0.66,0.66,0.6,0.94,1.0,0.94,0.89],[0.31,-0.09,-0.09,0.54,0.43,0.66,0.54,1.0,1.0,0.94,0.94,0.26,-0.09,0.31,0.6,0.66,0.66,0.6,0.94,1.0,0.94,0.89],[0.49,0.03,0.03,0.6,0.31,0.6,0.6,0.94,0.94,1.0,0.89,0.37,0.03,0.49,0.66,0.6,0.6,0.54,0.89,0.94,1.0,0.94],[0.37,-0.03,-0.03,0.6,0.37,0.6,0.6,0.94,0.94,0.89,1.0,0.31,-0.03,0.37,0.54,0.6,0.6,0.66,1.0,0.94,0.89,0.94],[0.83,0.89,0.89,0.94,0.71,0.77,0.94,0.26,0.26,0.37,0.31,1.0,0.89,0.83,0.89,0.77,0.77,0.83,0.31,0.26,0.37,0.43],[0.83,1.0,1.0,0.71,0.6,0.54,0.71,-0.09,-0.09,0.03,-0.03,0.89,1.0,0.83,0.66,0.54,0.54,0.6,-0.03,-0.09,0.03,0.09],[1.0,0.83,0.83,0.77,0.43,0.54,0.77,0.31,0.31,0.49,0.37,0.83,0.83,1.0,0.71,0.54,0.54,0.6,0.37,0.31,0.49,0.54],[0.71,0.66,0.66,0.94,0.83,0.94,0.94,0.6,0.6,0.66,0.54,0.89,0.66,0.71,1.0,0.94,0.94,0.89,0.54,0.6,0.66,0.6],[0.54,0.54,0.54,0.89,0.94,1.0,0.89,0.66,0.66,0.6,0.6,0.77,0.54,0.54,0.94,1.0,1.0,0.94,0.6,0.66,0.6,0.54],[0.54,0.54,0.54,0.89,0.94,1.0,0.89,0.66,0.66,0.6,0.6,0.77,0.54,0.54,0.94,1.0,1.0,0.94,0.6,0.66,0.6,0.54],[0.6,0.6,0.6,0.94,0.89,0.94,0.94,0.6,0.6,0.54,0.66,0.83,0.6,0.6,0.89,0.94,0.94,1.0,0.66,0.6,0.54,0.6],[0.37,-0.03,-0.03,0.6,0.37,0.6,0.6,0.94,0.94,0.89,1.0,0.31,-0.03,0.37,0.54,0.6,0.6,0.66,1.0,0.94,0.89,0.94],[0.31,-0.09,-0.09,0.54,0.43,0.66,0.54,1.0,1.0,0.94,0.94,0.26,-0.09,0.31,0.6,0.66,0.66,0.6,0.94,1.0,0.94,0.89],[0.49,0.03,0.03,0.6,0.31,0.6,0.6,0.94,0.94,1.0,0.89,0.37,0.03,0.49,0.66,0.6,0.6,0.54,0.89,0.94,1.0,0.94],[0.54,0.09,0.09,0.66,0.26,0.54,0.66,0.89,0.89,0.94,0.94,0.43,0.09,0.54,0.6,0.54,0.54,0.6,0.94,0.89,0.94,1.0]]\n",
              "var aValues =  [[1.0,0.83,0.83,0.77,0.43,0.54,0.77,0.31,0.31,0.49,0.37,0.83,0.83,1.0,0.71,0.54,0.54,0.6,0.37,0.31,0.49,0.54],[0.83,1.0,1.0,0.71,0.6,0.54,0.71,-0.09,-0.09,0.03,-0.03,0.89,1.0,0.83,0.66,0.54,0.54,0.6,-0.03,-0.09,0.03,0.09],[0.83,1.0,1.0,0.71,0.6,0.54,0.71,-0.09,-0.09,0.03,-0.03,0.89,1.0,0.83,0.66,0.54,0.54,0.6,-0.03,-0.09,0.03,0.09],[0.77,0.71,0.71,1.0,0.77,0.89,1.0,0.54,0.54,0.6,0.6,0.94,0.71,0.77,0.94,0.89,0.89,0.94,0.6,0.54,0.6,0.66],[0.43,0.6,0.6,0.77,1.0,0.94,0.77,0.43,0.43,0.31,0.37,0.71,0.6,0.43,0.83,0.94,0.94,0.89,0.37,0.43,0.31,0.26],[0.54,0.54,0.54,0.89,0.94,1.0,0.89,0.66,0.66,0.6,0.6,0.77,0.54,0.54,0.94,1.0,1.0,0.94,0.6,0.66,0.6,0.54],[0.77,0.71,0.71,1.0,0.77,0.89,1.0,0.54,0.54,0.6,0.6,0.94,0.71,0.77,0.94,0.89,0.89,0.94,0.6,0.54,0.6,0.66],[0.31,-0.09,-0.09,0.54,0.43,0.66,0.54,1.0,1.0,0.94,0.94,0.26,-0.09,0.31,0.6,0.66,0.66,0.6,0.94,1.0,0.94,0.89],[0.31,-0.09,-0.09,0.54,0.43,0.66,0.54,1.0,1.0,0.94,0.94,0.26,-0.09,0.31,0.6,0.66,0.66,0.6,0.94,1.0,0.94,0.89],[0.49,0.03,0.03,0.6,0.31,0.6,0.6,0.94,0.94,1.0,0.89,0.37,0.03,0.49,0.66,0.6,0.6,0.54,0.89,0.94,1.0,0.94],[0.37,-0.03,-0.03,0.6,0.37,0.6,0.6,0.94,0.94,0.89,1.0,0.31,-0.03,0.37,0.54,0.6,0.6,0.66,1.0,0.94,0.89,0.94],[0.83,0.89,0.89,0.94,0.71,0.77,0.94,0.26,0.26,0.37,0.31,1.0,0.89,0.83,0.89,0.77,0.77,0.83,0.31,0.26,0.37,0.43],[0.83,1.0,1.0,0.71,0.6,0.54,0.71,-0.09,-0.09,0.03,-0.03,0.89,1.0,0.83,0.66,0.54,0.54,0.6,-0.03,-0.09,0.03,0.09],[1.0,0.83,0.83,0.77,0.43,0.54,0.77,0.31,0.31,0.49,0.37,0.83,0.83,1.0,0.71,0.54,0.54,0.6,0.37,0.31,0.49,0.54],[0.71,0.66,0.66,0.94,0.83,0.94,0.94,0.6,0.6,0.66,0.54,0.89,0.66,0.71,1.0,0.94,0.94,0.89,0.54,0.6,0.66,0.6],[0.54,0.54,0.54,0.89,0.94,1.0,0.89,0.66,0.66,0.6,0.6,0.77,0.54,0.54,0.94,1.0,1.0,0.94,0.6,0.66,0.6,0.54],[0.54,0.54,0.54,0.89,0.94,1.0,0.89,0.66,0.66,0.6,0.6,0.77,0.54,0.54,0.94,1.0,1.0,0.94,0.6,0.66,0.6,0.54],[0.6,0.6,0.6,0.94,0.89,0.94,0.94,0.6,0.6,0.54,0.66,0.83,0.6,0.6,0.89,0.94,0.94,1.0,0.66,0.6,0.54,0.6],[0.37,-0.03,-0.03,0.6,0.37,0.6,0.6,0.94,0.94,0.89,1.0,0.31,-0.03,0.37,0.54,0.6,0.6,0.66,1.0,0.94,0.89,0.94],[0.31,-0.09,-0.09,0.54,0.43,0.66,0.54,1.0,1.0,0.94,0.94,0.26,-0.09,0.31,0.6,0.66,0.66,0.6,0.94,1.0,0.94,0.89],[0.49,0.03,0.03,0.6,0.31,0.6,0.6,0.94,0.94,1.0,0.89,0.37,0.03,0.49,0.66,0.6,0.6,0.54,0.89,0.94,1.0,0.94],[0.54,0.09,0.09,0.66,0.26,0.54,0.66,0.89,0.89,0.94,0.94,0.43,0.09,0.54,0.6,0.54,0.54,0.6,0.94,0.89,0.94,1.0]]\n",
              "\n",
              "\n",
              "for ( var i = 0; i < yValues.length; i++ ) {\n",
              "  for ( var j = 0; j < xValues.length; j++ ) {\n",
              "    var currentValue = zValues[i][j];\n",
              "    if (currentValue != 0.0) {\n",
              "      var textColor = 'white';\n",
              "    }else{\n",
              "      var textColor = 'black';\n",
              "    }\n",
              "    var result = {\n",
              "      xref: 'x1',\n",
              "      yref: 'y1',\n",
              "      x: xValues[j],\n",
              "      y: yValues[i],\n",
              "      text: aValues[i][j],\n",
              "      font: {\n",
              "        family: 'Arial',\n",
              "        size: 5,\n",
              "        color: 'rgb(50, 171, 96)'\n",
              "      },\n",
              "      showarrow: false,\n",
              "      font: {\n",
              "        color: textColor,\n",
              "        size: '18'\n",
              "      }\n",
              "    };\n",
              "    layout.annotations.push(result);\n",
              "  }\n",
              "}\n",
              "\n",
              "var data = [{\n",
              "   x: xValues,\n",
              "   y: yValues,\n",
              "   z: zValues,\n",
              "   \n",
              "   colorscale: 'RdBu', \n",
              "   type: 'heatmap' \n",
              " }];\n",
              " Plotly.newPlot('hypoxia_cor', data, layout);\n",
              "</script>\n",
              "    <h3>hypoxia_cor heatmap has been displayed</h3>"
            ]
          },
          "output_type" : "display_data"
        }
      ]
    },
    {
      "cell_type" : "markdown",
      "execution_count" : 48,
      "metadata" : {
        "language" : "text"
      },
      "language" : "text",
      "source" : [
        "### Autophagy\n",
        "\n",
        "\n"
      ],
      "outputs" : [
      ]
    },
    {
      "cell_type" : "code",
      "execution_count" : 49,
      "metadata" : {
        "cell.metadata.exec_info" : {
          "startTs" : 1582595314553,
          "endTs" : 1582595315516
        },
        "language" : "scala"
      },
      "language" : "scala",
      "source" : [
        "val autophagy_cor = makeProCor(autophagy_goes)\n",
        "html(s\"\"\"<div id=\"autophagy_cor\"></div>\"\"\")"
      ],
      "outputs" : [
        {
          "data" : {
            "text/html" : [
              "<div id=\"autophagy_cor\"></div>"
            ]
          },
          "output_type" : "display_data"
        }
      ]
    },
    {
      "cell_type" : "code",
      "execution_count" : 50,
      "metadata" : {
        "cell.metadata.exec_info" : {
          "startTs" : 1582595316913,
          "endTs" : 1582595317300
        },
        "language" : "scala"
      },
      "language" : "scala",
      "source" : [
        "html(makeHeatCor(autophagy_cor, \"autophagy_cor\", \"Autophagy correlations for liver and kidney\" ))"
      ],
      "outputs" : [
        {
          "data" : {
            "text/html" : [
              "<script type=\"text/javascript\" charset=\"utf-8\">\n",
              "var layout = {\n",
              "  title: 'Autophagy correlations for liver and kidney',\n",
              "  annotations: [],\n",
              "  margin: {\n",
              "    l: 300,\n",
              "    r: 125,\n",
              "    t: 400,\n",
              "    b: 50\n",
              "  },\n",
              "  width: 1800,\n",
              "  height: 1400,\n",
              "  xaxis: {\n",
              "    side: 'top',\n",
              "    tickfont: {\n",
              "      size: 20\n",
              "    },\n",
              "    tickangle: '-30'\n",
              "  },\n",
              "  yaxis: {\n",
              "    side: 'left',\n",
              "    autorange: 'reversed',\n",
              "    tickfont: {\n",
              "      size: 20\n",
              "    }\n",
              "  },\n",
              "};\n",
              "\n",
              "var xValues = [\"Bowhead whale liver\",\"Gray whale liver\",\"Minke whale liver\",\"Human liver\",\"Bat 1 liver\",\"Bat 2 liver\",\"Naked mole rat liver\",\"Cow 1 liver\",\"Cow 2 liver\",\"Mouse 1 liver\",\"Mouse 2 liver\",\"Bowhead whale kidney\",\"Gray whale kidney\",\"Minke whale kidney\",\"Human kidney\",\"Bat 1 kidney\",\"Bat 2 kidney\",\"Naked mole rat kidney\",\"Cow 1 kidney\",\"Cow 2 kidney\",\"Mouse 1 kidney\",\"Mouse 2 kidney\"]\n",
              "var yValues =  [\"Bowhead whale liver\",\"Gray whale liver\",\"Minke whale liver\",\"Human liver\",\"Bat 1 liver\",\"Bat 2 liver\",\"Naked mole rat liver\",\"Cow 1 liver\",\"Cow 2 liver\",\"Mouse 1 liver\",\"Mouse 2 liver\",\"Bowhead whale kidney\",\"Gray whale kidney\",\"Minke whale kidney\",\"Human kidney\",\"Bat 1 kidney\",\"Bat 2 kidney\",\"Naked mole rat kidney\",\"Cow 1 kidney\",\"Cow 2 kidney\",\"Mouse 1 kidney\",\"Mouse 2 kidney\"]\n",
              "var zValues =  [[1.0,0.49,0.38,0.87,0.52,0.57,0.39,0.05,0.09,0.22,0.17,0.93,0.59,0.39,0.83,0.49,0.49,0.46,0.0,0.05,0.12,0.11],[0.49,1.0,0.12,0.25,0.13,0.11,-0.08,-0.31,-0.33,-0.14,-0.12,0.39,0.97,0.06,0.32,0.26,0.26,0.03,-0.29,-0.31,-0.17,-0.25],[0.38,0.12,1.0,0.56,0.04,0.01,0.78,0.6,0.61,0.81,0.8,0.39,0.16,0.96,0.6,0.06,0.06,0.85,0.52,0.53,0.73,0.68],[0.87,0.25,0.56,1.0,0.51,0.53,0.71,0.28,0.29,0.41,0.39,0.85,0.31,0.61,0.96,0.48,0.48,0.67,0.2,0.22,0.36,0.34],[0.52,0.13,0.04,0.51,1.0,0.96,0.04,-0.12,-0.11,-0.03,-0.04,0.59,0.16,0.05,0.53,0.92,0.92,-0.02,-0.18,-0.17,-0.06,-0.08],[0.57,0.11,0.01,0.53,0.96,1.0,0.06,-0.21,-0.17,-0.09,-0.12,0.66,0.17,0.07,0.54,0.88,0.88,0.02,-0.27,-0.23,-0.17,-0.18],[0.39,-0.08,0.78,0.71,0.04,0.06,1.0,0.52,0.53,0.61,0.6,0.39,-0.04,0.87,0.68,0.09,0.09,0.96,0.47,0.48,0.58,0.57],[0.05,-0.31,0.6,0.28,-0.12,-0.21,0.52,1.0,0.99,0.94,0.94,-0.07,-0.31,0.5,0.12,-0.23,-0.23,0.53,0.99,0.98,0.97,0.99],[0.09,-0.33,0.61,0.29,-0.11,-0.17,0.53,0.99,1.0,0.94,0.94,-0.04,-0.3,0.5,0.13,-0.25,-0.25,0.56,0.98,0.99,0.95,0.98],[0.22,-0.14,0.81,0.41,-0.03,-0.09,0.61,0.94,0.94,1.0,0.99,0.14,-0.11,0.7,0.31,-0.14,-0.14,0.66,0.9,0.91,0.97,0.96],[0.17,-0.12,0.8,0.39,-0.04,-0.12,0.6,0.94,0.94,0.99,1.0,0.1,-0.12,0.69,0.3,-0.12,-0.12,0.63,0.91,0.9,0.99,0.97],[0.93,0.39,0.39,0.85,0.59,0.66,0.39,-0.07,-0.04,0.14,0.1,1.0,0.46,0.46,0.89,0.62,0.62,0.41,-0.16,-0.12,0.03,-0.01],[0.59,0.97,0.16,0.31,0.16,0.17,-0.04,-0.31,-0.3,-0.11,-0.12,0.46,1.0,0.09,0.37,0.24,0.24,0.1,-0.29,-0.28,-0.18,-0.24],[0.39,0.06,0.96,0.61,0.05,0.07,0.87,0.5,0.5,0.7,0.69,0.46,0.09,1.0,0.67,0.14,0.14,0.91,0.41,0.42,0.62,0.57],[0.83,0.32,0.6,0.96,0.53,0.54,0.68,0.12,0.13,0.31,0.3,0.89,0.37,0.67,1.0,0.56,0.56,0.64,0.03,0.04,0.25,0.2],[0.49,0.26,0.06,0.48,0.92,0.88,0.09,-0.23,-0.25,-0.14,-0.12,0.62,0.24,0.14,0.56,1.0,1.0,0.04,-0.29,-0.31,-0.15,-0.19],[0.49,0.26,0.06,0.48,0.92,0.88,0.09,-0.23,-0.25,-0.14,-0.12,0.62,0.24,0.14,0.56,1.0,1.0,0.04,-0.29,-0.31,-0.15,-0.19],[0.46,0.03,0.85,0.67,-0.02,0.02,0.96,0.53,0.56,0.66,0.63,0.41,0.1,0.91,0.64,0.04,0.04,1.0,0.49,0.51,0.6,0.59],[0.0,-0.29,0.52,0.2,-0.18,-0.27,0.47,0.99,0.98,0.9,0.91,-0.16,-0.29,0.41,0.03,-0.29,-0.29,0.49,1.0,0.99,0.94,0.97],[0.05,-0.31,0.53,0.22,-0.17,-0.23,0.48,0.98,0.99,0.91,0.9,-0.12,-0.28,0.42,0.04,-0.31,-0.31,0.51,0.99,1.0,0.93,0.96],[0.12,-0.17,0.73,0.36,-0.06,-0.17,0.58,0.97,0.95,0.97,0.99,0.03,-0.18,0.62,0.25,-0.15,-0.15,0.6,0.94,0.93,1.0,0.99],[0.11,-0.25,0.68,0.34,-0.08,-0.18,0.57,0.99,0.98,0.96,0.97,-0.01,-0.24,0.57,0.2,-0.19,-0.19,0.59,0.97,0.96,0.99,1.0]]\n",
              "var aValues =  [[1.0,0.49,0.38,0.87,0.52,0.57,0.39,0.05,0.09,0.22,0.17,0.93,0.59,0.39,0.83,0.49,0.49,0.46,0.0,0.05,0.12,0.11],[0.49,1.0,0.12,0.25,0.13,0.11,-0.08,-0.31,-0.33,-0.14,-0.12,0.39,0.97,0.06,0.32,0.26,0.26,0.03,-0.29,-0.31,-0.17,-0.25],[0.38,0.12,1.0,0.56,0.04,0.01,0.78,0.6,0.61,0.81,0.8,0.39,0.16,0.96,0.6,0.06,0.06,0.85,0.52,0.53,0.73,0.68],[0.87,0.25,0.56,1.0,0.51,0.53,0.71,0.28,0.29,0.41,0.39,0.85,0.31,0.61,0.96,0.48,0.48,0.67,0.2,0.22,0.36,0.34],[0.52,0.13,0.04,0.51,1.0,0.96,0.04,-0.12,-0.11,-0.03,-0.04,0.59,0.16,0.05,0.53,0.92,0.92,-0.02,-0.18,-0.17,-0.06,-0.08],[0.57,0.11,0.01,0.53,0.96,1.0,0.06,-0.21,-0.17,-0.09,-0.12,0.66,0.17,0.07,0.54,0.88,0.88,0.02,-0.27,-0.23,-0.17,-0.18],[0.39,-0.08,0.78,0.71,0.04,0.06,1.0,0.52,0.53,0.61,0.6,0.39,-0.04,0.87,0.68,0.09,0.09,0.96,0.47,0.48,0.58,0.57],[0.05,-0.31,0.6,0.28,-0.12,-0.21,0.52,1.0,0.99,0.94,0.94,-0.07,-0.31,0.5,0.12,-0.23,-0.23,0.53,0.99,0.98,0.97,0.99],[0.09,-0.33,0.61,0.29,-0.11,-0.17,0.53,0.99,1.0,0.94,0.94,-0.04,-0.3,0.5,0.13,-0.25,-0.25,0.56,0.98,0.99,0.95,0.98],[0.22,-0.14,0.81,0.41,-0.03,-0.09,0.61,0.94,0.94,1.0,0.99,0.14,-0.11,0.7,0.31,-0.14,-0.14,0.66,0.9,0.91,0.97,0.96],[0.17,-0.12,0.8,0.39,-0.04,-0.12,0.6,0.94,0.94,0.99,1.0,0.1,-0.12,0.69,0.3,-0.12,-0.12,0.63,0.91,0.9,0.99,0.97],[0.93,0.39,0.39,0.85,0.59,0.66,0.39,-0.07,-0.04,0.14,0.1,1.0,0.46,0.46,0.89,0.62,0.62,0.41,-0.16,-0.12,0.03,-0.01],[0.59,0.97,0.16,0.31,0.16,0.17,-0.04,-0.31,-0.3,-0.11,-0.12,0.46,1.0,0.09,0.37,0.24,0.24,0.1,-0.29,-0.28,-0.18,-0.24],[0.39,0.06,0.96,0.61,0.05,0.07,0.87,0.5,0.5,0.7,0.69,0.46,0.09,1.0,0.67,0.14,0.14,0.91,0.41,0.42,0.62,0.57],[0.83,0.32,0.6,0.96,0.53,0.54,0.68,0.12,0.13,0.31,0.3,0.89,0.37,0.67,1.0,0.56,0.56,0.64,0.03,0.04,0.25,0.2],[0.49,0.26,0.06,0.48,0.92,0.88,0.09,-0.23,-0.25,-0.14,-0.12,0.62,0.24,0.14,0.56,1.0,1.0,0.04,-0.29,-0.31,-0.15,-0.19],[0.49,0.26,0.06,0.48,0.92,0.88,0.09,-0.23,-0.25,-0.14,-0.12,0.62,0.24,0.14,0.56,1.0,1.0,0.04,-0.29,-0.31,-0.15,-0.19],[0.46,0.03,0.85,0.67,-0.02,0.02,0.96,0.53,0.56,0.66,0.63,0.41,0.1,0.91,0.64,0.04,0.04,1.0,0.49,0.51,0.6,0.59],[0.0,-0.29,0.52,0.2,-0.18,-0.27,0.47,0.99,0.98,0.9,0.91,-0.16,-0.29,0.41,0.03,-0.29,-0.29,0.49,1.0,0.99,0.94,0.97],[0.05,-0.31,0.53,0.22,-0.17,-0.23,0.48,0.98,0.99,0.91,0.9,-0.12,-0.28,0.42,0.04,-0.31,-0.31,0.51,0.99,1.0,0.93,0.96],[0.12,-0.17,0.73,0.36,-0.06,-0.17,0.58,0.97,0.95,0.97,0.99,0.03,-0.18,0.62,0.25,-0.15,-0.15,0.6,0.94,0.93,1.0,0.99],[0.11,-0.25,0.68,0.34,-0.08,-0.18,0.57,0.99,0.98,0.96,0.97,-0.01,-0.24,0.57,0.2,-0.19,-0.19,0.59,0.97,0.96,0.99,1.0]]\n",
              "\n",
              "\n",
              "for ( var i = 0; i < yValues.length; i++ ) {\n",
              "  for ( var j = 0; j < xValues.length; j++ ) {\n",
              "    var currentValue = zValues[i][j];\n",
              "    if (currentValue != 0.0) {\n",
              "      var textColor = 'white';\n",
              "    }else{\n",
              "      var textColor = 'black';\n",
              "    }\n",
              "    var result = {\n",
              "      xref: 'x1',\n",
              "      yref: 'y1',\n",
              "      x: xValues[j],\n",
              "      y: yValues[i],\n",
              "      text: aValues[i][j],\n",
              "      font: {\n",
              "        family: 'Arial',\n",
              "        size: 5,\n",
              "        color: 'rgb(50, 171, 96)'\n",
              "      },\n",
              "      showarrow: false,\n",
              "      font: {\n",
              "        color: textColor,\n",
              "        size: '18'\n",
              "      }\n",
              "    };\n",
              "    layout.annotations.push(result);\n",
              "  }\n",
              "}\n",
              "\n",
              "var data = [{\n",
              "   x: xValues,\n",
              "   y: yValues,\n",
              "   z: zValues,\n",
              "   \n",
              "   colorscale: 'RdBu', \n",
              "   type: 'heatmap' \n",
              " }];\n",
              " Plotly.newPlot('autophagy_cor', data, layout);\n",
              "</script>\n",
              "    <h3>autophagy_cor heatmap has been displayed</h3>"
            ]
          },
          "output_type" : "display_data"
        }
      ]
    },
    {
      "cell_type" : "markdown",
      "execution_count" : 51,
      "metadata" : {
        "language" : "text"
      },
      "language" : "text",
      "source" : [
        "### Stress response\n",
        "\n",
        "\n"
      ],
      "outputs" : [
      ]
    },
    {
      "cell_type" : "code",
      "execution_count" : 52,
      "metadata" : {
        "cell.metadata.exec_info" : {
          "startTs" : 1582595389361,
          "endTs" : 1582595390400
        },
        "language" : "scala"
      },
      "language" : "scala",
      "source" : [
        "val stress_response_cor = makeProCor(stress_response_goes)\n",
        "html(s\"\"\"<div id=\"stress_response_cor\"></div>\"\"\")"
      ],
      "outputs" : [
        {
          "data" : {
            "text/html" : [
              "<div id=\"stress_response_cor\"></div>"
            ]
          },
          "output_type" : "display_data"
        }
      ]
    },
    {
      "cell_type" : "code",
      "execution_count" : 53,
      "metadata" : {
        "cell.metadata.exec_info" : {
          "startTs" : 1582595390876,
          "endTs" : 1582595391241
        },
        "language" : "scala"
      },
      "language" : "scala",
      "source" : [
        "html(makeHeatCor(stress_response_cor, \"stress_response_cor\", \"Stress response correlations for liver and kidney\" ))"
      ],
      "outputs" : [
        {
          "data" : {
            "text/html" : [
              "<script type=\"text/javascript\" charset=\"utf-8\">\n",
              "var layout = {\n",
              "  title: 'Stress response correlations for liver and kidney',\n",
              "  annotations: [],\n",
              "  margin: {\n",
              "    l: 300,\n",
              "    r: 125,\n",
              "    t: 400,\n",
              "    b: 50\n",
              "  },\n",
              "  width: 1800,\n",
              "  height: 1400,\n",
              "  xaxis: {\n",
              "    side: 'top',\n",
              "    tickfont: {\n",
              "      size: 20\n",
              "    },\n",
              "    tickangle: '-30'\n",
              "  },\n",
              "  yaxis: {\n",
              "    side: 'left',\n",
              "    autorange: 'reversed',\n",
              "    tickfont: {\n",
              "      size: 20\n",
              "    }\n",
              "  },\n",
              "};\n",
              "\n",
              "var xValues = [\"Bowhead whale liver\",\"Gray whale liver\",\"Minke whale liver\",\"Human liver\",\"Bat 1 liver\",\"Bat 2 liver\",\"Naked mole rat liver\",\"Cow 1 liver\",\"Cow 2 liver\",\"Mouse 1 liver\",\"Mouse 2 liver\",\"Bowhead whale kidney\",\"Gray whale kidney\",\"Minke whale kidney\",\"Human kidney\",\"Bat 1 kidney\",\"Bat 2 kidney\",\"Naked mole rat kidney\",\"Cow 1 kidney\",\"Cow 2 kidney\",\"Mouse 1 kidney\",\"Mouse 2 kidney\"]\n",
              "var yValues =  [\"Bowhead whale liver\",\"Gray whale liver\",\"Minke whale liver\",\"Human liver\",\"Bat 1 liver\",\"Bat 2 liver\",\"Naked mole rat liver\",\"Cow 1 liver\",\"Cow 2 liver\",\"Mouse 1 liver\",\"Mouse 2 liver\",\"Bowhead whale kidney\",\"Gray whale kidney\",\"Minke whale kidney\",\"Human kidney\",\"Bat 1 kidney\",\"Bat 2 kidney\",\"Naked mole rat kidney\",\"Cow 1 kidney\",\"Cow 2 kidney\",\"Mouse 1 kidney\",\"Mouse 2 kidney\"]\n",
              "var zValues =  [[1.0,0.84,0.83,0.79,0.27,0.27,0.53,0.82,0.77,0.57,0.41,0.78,0.89,0.85,0.75,0.43,0.46,0.44,0.66,0.71,0.62,0.53],[0.84,1.0,0.94,0.81,0.5,0.5,0.46,0.66,0.66,0.4,0.25,0.84,0.86,0.89,0.71,0.63,0.63,0.42,0.41,0.48,0.37,0.28],[0.83,0.94,1.0,0.77,0.5,0.47,0.44,0.65,0.62,0.38,0.21,0.75,0.75,0.85,0.63,0.6,0.62,0.4,0.39,0.46,0.35,0.24],[0.79,0.81,0.77,1.0,0.61,0.61,0.64,0.81,0.8,0.65,0.53,0.92,0.85,0.89,0.82,0.64,0.64,0.71,0.56,0.65,0.52,0.45],[0.27,0.5,0.5,0.61,1.0,0.99,0.49,0.52,0.58,0.49,0.44,0.44,0.32,0.47,0.39,0.94,0.9,0.52,0.29,0.41,0.31,0.29],[0.27,0.5,0.47,0.61,0.99,1.0,0.46,0.49,0.56,0.44,0.41,0.44,0.31,0.44,0.4,0.93,0.9,0.51,0.29,0.39,0.27,0.24],[0.53,0.46,0.44,0.64,0.49,0.46,1.0,0.67,0.62,0.49,0.47,0.52,0.57,0.53,0.54,0.49,0.46,0.91,0.4,0.55,0.54,0.53],[0.82,0.66,0.65,0.81,0.52,0.49,0.67,1.0,0.98,0.79,0.68,0.67,0.77,0.81,0.69,0.6,0.61,0.6,0.74,0.82,0.73,0.71],[0.77,0.66,0.62,0.8,0.58,0.56,0.62,0.98,1.0,0.79,0.69,0.65,0.74,0.79,0.65,0.66,0.66,0.57,0.73,0.8,0.71,0.7],[0.57,0.4,0.38,0.65,0.49,0.44,0.49,0.79,0.79,1.0,0.96,0.51,0.61,0.59,0.6,0.58,0.62,0.39,0.62,0.7,0.89,0.88],[0.41,0.25,0.21,0.53,0.44,0.41,0.47,0.68,0.69,0.96,1.0,0.36,0.47,0.43,0.48,0.53,0.55,0.37,0.49,0.59,0.85,0.87],[0.78,0.84,0.75,0.92,0.44,0.44,0.52,0.67,0.65,0.51,0.36,1.0,0.84,0.88,0.86,0.48,0.47,0.61,0.54,0.58,0.43,0.35],[0.89,0.86,0.75,0.85,0.32,0.31,0.57,0.77,0.74,0.61,0.47,0.84,1.0,0.9,0.78,0.47,0.49,0.52,0.53,0.62,0.6,0.52],[0.85,0.89,0.85,0.89,0.47,0.44,0.53,0.81,0.79,0.59,0.43,0.88,0.9,1.0,0.78,0.55,0.56,0.55,0.59,0.66,0.55,0.48],[0.75,0.71,0.63,0.82,0.39,0.4,0.54,0.69,0.65,0.6,0.48,0.86,0.78,0.78,1.0,0.52,0.54,0.52,0.77,0.8,0.56,0.49],[0.43,0.63,0.6,0.64,0.94,0.93,0.49,0.6,0.66,0.58,0.53,0.48,0.47,0.55,0.52,1.0,0.99,0.43,0.38,0.51,0.45,0.42],[0.46,0.63,0.62,0.64,0.9,0.9,0.46,0.61,0.66,0.62,0.55,0.47,0.49,0.56,0.54,0.99,1.0,0.39,0.4,0.52,0.48,0.44],[0.44,0.42,0.4,0.71,0.52,0.51,0.91,0.6,0.57,0.39,0.37,0.61,0.52,0.55,0.52,0.43,0.39,1.0,0.36,0.49,0.4,0.39],[0.66,0.41,0.39,0.56,0.29,0.29,0.4,0.74,0.73,0.62,0.49,0.54,0.53,0.59,0.77,0.38,0.4,0.36,1.0,0.95,0.62,0.59],[0.71,0.48,0.46,0.65,0.41,0.39,0.55,0.82,0.8,0.7,0.59,0.58,0.62,0.66,0.8,0.51,0.52,0.49,0.95,1.0,0.74,0.7],[0.62,0.37,0.35,0.52,0.31,0.27,0.54,0.73,0.71,0.89,0.85,0.43,0.6,0.55,0.56,0.45,0.48,0.4,0.62,0.74,1.0,0.98],[0.53,0.28,0.24,0.45,0.29,0.24,0.53,0.71,0.7,0.88,0.87,0.35,0.52,0.48,0.49,0.42,0.44,0.39,0.59,0.7,0.98,1.0]]\n",
              "var aValues =  [[1.0,0.84,0.83,0.79,0.27,0.27,0.53,0.82,0.77,0.57,0.41,0.78,0.89,0.85,0.75,0.43,0.46,0.44,0.66,0.71,0.62,0.53],[0.84,1.0,0.94,0.81,0.5,0.5,0.46,0.66,0.66,0.4,0.25,0.84,0.86,0.89,0.71,0.63,0.63,0.42,0.41,0.48,0.37,0.28],[0.83,0.94,1.0,0.77,0.5,0.47,0.44,0.65,0.62,0.38,0.21,0.75,0.75,0.85,0.63,0.6,0.62,0.4,0.39,0.46,0.35,0.24],[0.79,0.81,0.77,1.0,0.61,0.61,0.64,0.81,0.8,0.65,0.53,0.92,0.85,0.89,0.82,0.64,0.64,0.71,0.56,0.65,0.52,0.45],[0.27,0.5,0.5,0.61,1.0,0.99,0.49,0.52,0.58,0.49,0.44,0.44,0.32,0.47,0.39,0.94,0.9,0.52,0.29,0.41,0.31,0.29],[0.27,0.5,0.47,0.61,0.99,1.0,0.46,0.49,0.56,0.44,0.41,0.44,0.31,0.44,0.4,0.93,0.9,0.51,0.29,0.39,0.27,0.24],[0.53,0.46,0.44,0.64,0.49,0.46,1.0,0.67,0.62,0.49,0.47,0.52,0.57,0.53,0.54,0.49,0.46,0.91,0.4,0.55,0.54,0.53],[0.82,0.66,0.65,0.81,0.52,0.49,0.67,1.0,0.98,0.79,0.68,0.67,0.77,0.81,0.69,0.6,0.61,0.6,0.74,0.82,0.73,0.71],[0.77,0.66,0.62,0.8,0.58,0.56,0.62,0.98,1.0,0.79,0.69,0.65,0.74,0.79,0.65,0.66,0.66,0.57,0.73,0.8,0.71,0.7],[0.57,0.4,0.38,0.65,0.49,0.44,0.49,0.79,0.79,1.0,0.96,0.51,0.61,0.59,0.6,0.58,0.62,0.39,0.62,0.7,0.89,0.88],[0.41,0.25,0.21,0.53,0.44,0.41,0.47,0.68,0.69,0.96,1.0,0.36,0.47,0.43,0.48,0.53,0.55,0.37,0.49,0.59,0.85,0.87],[0.78,0.84,0.75,0.92,0.44,0.44,0.52,0.67,0.65,0.51,0.36,1.0,0.84,0.88,0.86,0.48,0.47,0.61,0.54,0.58,0.43,0.35],[0.89,0.86,0.75,0.85,0.32,0.31,0.57,0.77,0.74,0.61,0.47,0.84,1.0,0.9,0.78,0.47,0.49,0.52,0.53,0.62,0.6,0.52],[0.85,0.89,0.85,0.89,0.47,0.44,0.53,0.81,0.79,0.59,0.43,0.88,0.9,1.0,0.78,0.55,0.56,0.55,0.59,0.66,0.55,0.48],[0.75,0.71,0.63,0.82,0.39,0.4,0.54,0.69,0.65,0.6,0.48,0.86,0.78,0.78,1.0,0.52,0.54,0.52,0.77,0.8,0.56,0.49],[0.43,0.63,0.6,0.64,0.94,0.93,0.49,0.6,0.66,0.58,0.53,0.48,0.47,0.55,0.52,1.0,0.99,0.43,0.38,0.51,0.45,0.42],[0.46,0.63,0.62,0.64,0.9,0.9,0.46,0.61,0.66,0.62,0.55,0.47,0.49,0.56,0.54,0.99,1.0,0.39,0.4,0.52,0.48,0.44],[0.44,0.42,0.4,0.71,0.52,0.51,0.91,0.6,0.57,0.39,0.37,0.61,0.52,0.55,0.52,0.43,0.39,1.0,0.36,0.49,0.4,0.39],[0.66,0.41,0.39,0.56,0.29,0.29,0.4,0.74,0.73,0.62,0.49,0.54,0.53,0.59,0.77,0.38,0.4,0.36,1.0,0.95,0.62,0.59],[0.71,0.48,0.46,0.65,0.41,0.39,0.55,0.82,0.8,0.7,0.59,0.58,0.62,0.66,0.8,0.51,0.52,0.49,0.95,1.0,0.74,0.7],[0.62,0.37,0.35,0.52,0.31,0.27,0.54,0.73,0.71,0.89,0.85,0.43,0.6,0.55,0.56,0.45,0.48,0.4,0.62,0.74,1.0,0.98],[0.53,0.28,0.24,0.45,0.29,0.24,0.53,0.71,0.7,0.88,0.87,0.35,0.52,0.48,0.49,0.42,0.44,0.39,0.59,0.7,0.98,1.0]]\n",
              "\n",
              "\n",
              "for ( var i = 0; i < yValues.length; i++ ) {\n",
              "  for ( var j = 0; j < xValues.length; j++ ) {\n",
              "    var currentValue = zValues[i][j];\n",
              "    if (currentValue != 0.0) {\n",
              "      var textColor = 'white';\n",
              "    }else{\n",
              "      var textColor = 'black';\n",
              "    }\n",
              "    var result = {\n",
              "      xref: 'x1',\n",
              "      yref: 'y1',\n",
              "      x: xValues[j],\n",
              "      y: yValues[i],\n",
              "      text: aValues[i][j],\n",
              "      font: {\n",
              "        family: 'Arial',\n",
              "        size: 5,\n",
              "        color: 'rgb(50, 171, 96)'\n",
              "      },\n",
              "      showarrow: false,\n",
              "      font: {\n",
              "        color: textColor,\n",
              "        size: '18'\n",
              "      }\n",
              "    };\n",
              "    layout.annotations.push(result);\n",
              "  }\n",
              "}\n",
              "\n",
              "var data = [{\n",
              "   x: xValues,\n",
              "   y: yValues,\n",
              "   z: zValues,\n",
              "   \n",
              "   colorscale: 'RdBu', \n",
              "   type: 'heatmap' \n",
              " }];\n",
              " Plotly.newPlot('stress_response_cor', data, layout);\n",
              "</script>\n",
              "    <h3>stress_response_cor heatmap has been displayed</h3>"
            ]
          },
          "output_type" : "display_data"
        }
      ]
    },
    {
      "cell_type" : "markdown",
      "execution_count" : 54,
      "metadata" : {
        "language" : "text"
      },
      "language" : "text",
      "source" : [
        "### Apoptosis\n",
        "\n"
      ],
      "outputs" : [
      ]
    },
    {
      "cell_type" : "code",
      "execution_count" : 55,
      "metadata" : {
        "cell.metadata.exec_info" : {
          "startTs" : 1582595403210,
          "endTs" : 1582595404392
        },
        "language" : "scala"
      },
      "language" : "scala",
      "source" : [
        "val apoptosis_cor = makeProCor(apoptosis_goes)\n",
        "html(s\"\"\"<div id=\"apoptosis_cor\"></div>\"\"\")"
      ],
      "outputs" : [
        {
          "data" : {
            "text/html" : [
              "<div id=\"apoptosis_cor\"></div>"
            ]
          },
          "output_type" : "display_data"
        }
      ]
    },
    {
      "cell_type" : "code",
      "execution_count" : 56,
      "metadata" : {
        "cell.metadata.exec_info" : {
          "startTs" : 1582595404833,
          "endTs" : 1582595405174
        },
        "language" : "scala"
      },
      "language" : "scala",
      "source" : [
        "html(makeHeatCor(apoptosis_cor, \"apoptosis_cor\", \"Apoptosis correlations for liver and kidney\" ))"
      ],
      "outputs" : [
        {
          "data" : {
            "text/html" : [
              "<script type=\"text/javascript\" charset=\"utf-8\">\n",
              "var layout = {\n",
              "  title: 'Apoptosis correlations for liver and kidney',\n",
              "  annotations: [],\n",
              "  margin: {\n",
              "    l: 300,\n",
              "    r: 125,\n",
              "    t: 400,\n",
              "    b: 50\n",
              "  },\n",
              "  width: 1800,\n",
              "  height: 1400,\n",
              "  xaxis: {\n",
              "    side: 'top',\n",
              "    tickfont: {\n",
              "      size: 20\n",
              "    },\n",
              "    tickangle: '-30'\n",
              "  },\n",
              "  yaxis: {\n",
              "    side: 'left',\n",
              "    autorange: 'reversed',\n",
              "    tickfont: {\n",
              "      size: 20\n",
              "    }\n",
              "  },\n",
              "};\n",
              "\n",
              "var xValues = [\"Bowhead whale liver\",\"Gray whale liver\",\"Minke whale liver\",\"Human liver\",\"Bat 1 liver\",\"Bat 2 liver\",\"Naked mole rat liver\",\"Cow 1 liver\",\"Cow 2 liver\",\"Mouse 1 liver\",\"Mouse 2 liver\",\"Bowhead whale kidney\",\"Gray whale kidney\",\"Minke whale kidney\",\"Human kidney\",\"Bat 1 kidney\",\"Bat 2 kidney\",\"Naked mole rat kidney\",\"Cow 1 kidney\",\"Cow 2 kidney\",\"Mouse 1 kidney\",\"Mouse 2 kidney\"]\n",
              "var yValues =  [\"Bowhead whale liver\",\"Gray whale liver\",\"Minke whale liver\",\"Human liver\",\"Bat 1 liver\",\"Bat 2 liver\",\"Naked mole rat liver\",\"Cow 1 liver\",\"Cow 2 liver\",\"Mouse 1 liver\",\"Mouse 2 liver\",\"Bowhead whale kidney\",\"Gray whale kidney\",\"Minke whale kidney\",\"Human kidney\",\"Bat 1 kidney\",\"Bat 2 kidney\",\"Naked mole rat kidney\",\"Cow 1 kidney\",\"Cow 2 kidney\",\"Mouse 1 kidney\",\"Mouse 2 kidney\"]\n",
              "var zValues =  [[1.0,0.73,0.84,0.75,0.51,0.56,0.69,0.61,0.7,0.68,0.68,0.91,0.78,0.84,0.72,0.53,0.49,0.67,0.58,0.6,0.62,0.65],[0.73,1.0,0.82,0.65,0.44,0.47,0.53,0.62,0.63,0.6,0.6,0.71,0.83,0.71,0.62,0.41,0.4,0.53,0.54,0.54,0.53,0.55],[0.84,0.82,1.0,0.81,0.41,0.46,0.58,0.57,0.65,0.71,0.72,0.84,0.81,0.92,0.77,0.41,0.37,0.6,0.5,0.54,0.67,0.71],[0.75,0.65,0.81,1.0,0.41,0.44,0.51,0.75,0.8,0.85,0.83,0.74,0.64,0.82,0.91,0.45,0.41,0.56,0.7,0.71,0.76,0.79],[0.51,0.44,0.41,0.41,1.0,0.98,0.49,0.44,0.49,0.48,0.46,0.53,0.41,0.41,0.33,0.88,0.9,0.54,0.41,0.43,0.35,0.34],[0.56,0.47,0.46,0.44,0.98,1.0,0.48,0.43,0.49,0.5,0.49,0.57,0.46,0.47,0.37,0.9,0.9,0.52,0.4,0.43,0.37,0.37],[0.69,0.53,0.58,0.51,0.49,0.48,1.0,0.57,0.64,0.55,0.61,0.83,0.75,0.72,0.64,0.61,0.61,0.89,0.69,0.72,0.69,0.69],[0.61,0.62,0.57,0.75,0.44,0.43,0.57,1.0,0.98,0.8,0.75,0.59,0.5,0.59,0.68,0.44,0.42,0.59,0.91,0.89,0.67,0.65],[0.7,0.63,0.65,0.8,0.49,0.49,0.64,0.98,1.0,0.84,0.81,0.69,0.56,0.68,0.73,0.51,0.48,0.66,0.91,0.91,0.72,0.71],[0.68,0.6,0.71,0.85,0.48,0.5,0.55,0.8,0.84,1.0,0.98,0.66,0.59,0.72,0.76,0.49,0.45,0.55,0.75,0.79,0.86,0.85],[0.68,0.6,0.72,0.83,0.46,0.49,0.61,0.75,0.81,0.98,1.0,0.69,0.63,0.74,0.77,0.5,0.47,0.59,0.72,0.77,0.88,0.89],[0.91,0.71,0.84,0.74,0.53,0.57,0.83,0.59,0.69,0.66,0.69,1.0,0.86,0.91,0.78,0.61,0.57,0.84,0.64,0.67,0.69,0.72],[0.78,0.83,0.81,0.64,0.41,0.46,0.75,0.5,0.56,0.59,0.63,0.86,1.0,0.88,0.75,0.51,0.49,0.73,0.59,0.61,0.73,0.75],[0.84,0.71,0.92,0.82,0.41,0.47,0.72,0.59,0.68,0.72,0.74,0.91,0.88,1.0,0.86,0.5,0.46,0.76,0.64,0.67,0.77,0.81],[0.72,0.62,0.77,0.91,0.33,0.37,0.64,0.68,0.73,0.76,0.77,0.78,0.75,0.86,1.0,0.44,0.4,0.66,0.74,0.76,0.84,0.87],[0.53,0.41,0.41,0.45,0.88,0.9,0.61,0.44,0.51,0.49,0.5,0.61,0.51,0.5,0.44,1.0,0.99,0.62,0.49,0.51,0.46,0.48],[0.49,0.4,0.37,0.41,0.9,0.9,0.61,0.42,0.48,0.45,0.47,0.57,0.49,0.46,0.4,0.99,1.0,0.61,0.47,0.49,0.44,0.44],[0.67,0.53,0.6,0.56,0.54,0.52,0.89,0.59,0.66,0.55,0.59,0.84,0.73,0.76,0.66,0.62,0.61,1.0,0.68,0.71,0.64,0.65],[0.58,0.54,0.5,0.7,0.41,0.4,0.69,0.91,0.91,0.75,0.72,0.64,0.59,0.64,0.74,0.49,0.47,0.68,1.0,0.98,0.79,0.75],[0.6,0.54,0.54,0.71,0.43,0.43,0.72,0.89,0.91,0.79,0.77,0.67,0.61,0.67,0.76,0.51,0.49,0.71,0.98,1.0,0.82,0.78],[0.62,0.53,0.67,0.76,0.35,0.37,0.69,0.67,0.72,0.86,0.88,0.69,0.73,0.77,0.84,0.46,0.44,0.64,0.79,0.82,1.0,0.98],[0.65,0.55,0.71,0.79,0.34,0.37,0.69,0.65,0.71,0.85,0.89,0.72,0.75,0.81,0.87,0.48,0.44,0.65,0.75,0.78,0.98,1.0]]\n",
              "var aValues =  [[1.0,0.73,0.84,0.75,0.51,0.56,0.69,0.61,0.7,0.68,0.68,0.91,0.78,0.84,0.72,0.53,0.49,0.67,0.58,0.6,0.62,0.65],[0.73,1.0,0.82,0.65,0.44,0.47,0.53,0.62,0.63,0.6,0.6,0.71,0.83,0.71,0.62,0.41,0.4,0.53,0.54,0.54,0.53,0.55],[0.84,0.82,1.0,0.81,0.41,0.46,0.58,0.57,0.65,0.71,0.72,0.84,0.81,0.92,0.77,0.41,0.37,0.6,0.5,0.54,0.67,0.71],[0.75,0.65,0.81,1.0,0.41,0.44,0.51,0.75,0.8,0.85,0.83,0.74,0.64,0.82,0.91,0.45,0.41,0.56,0.7,0.71,0.76,0.79],[0.51,0.44,0.41,0.41,1.0,0.98,0.49,0.44,0.49,0.48,0.46,0.53,0.41,0.41,0.33,0.88,0.9,0.54,0.41,0.43,0.35,0.34],[0.56,0.47,0.46,0.44,0.98,1.0,0.48,0.43,0.49,0.5,0.49,0.57,0.46,0.47,0.37,0.9,0.9,0.52,0.4,0.43,0.37,0.37],[0.69,0.53,0.58,0.51,0.49,0.48,1.0,0.57,0.64,0.55,0.61,0.83,0.75,0.72,0.64,0.61,0.61,0.89,0.69,0.72,0.69,0.69],[0.61,0.62,0.57,0.75,0.44,0.43,0.57,1.0,0.98,0.8,0.75,0.59,0.5,0.59,0.68,0.44,0.42,0.59,0.91,0.89,0.67,0.65],[0.7,0.63,0.65,0.8,0.49,0.49,0.64,0.98,1.0,0.84,0.81,0.69,0.56,0.68,0.73,0.51,0.48,0.66,0.91,0.91,0.72,0.71],[0.68,0.6,0.71,0.85,0.48,0.5,0.55,0.8,0.84,1.0,0.98,0.66,0.59,0.72,0.76,0.49,0.45,0.55,0.75,0.79,0.86,0.85],[0.68,0.6,0.72,0.83,0.46,0.49,0.61,0.75,0.81,0.98,1.0,0.69,0.63,0.74,0.77,0.5,0.47,0.59,0.72,0.77,0.88,0.89],[0.91,0.71,0.84,0.74,0.53,0.57,0.83,0.59,0.69,0.66,0.69,1.0,0.86,0.91,0.78,0.61,0.57,0.84,0.64,0.67,0.69,0.72],[0.78,0.83,0.81,0.64,0.41,0.46,0.75,0.5,0.56,0.59,0.63,0.86,1.0,0.88,0.75,0.51,0.49,0.73,0.59,0.61,0.73,0.75],[0.84,0.71,0.92,0.82,0.41,0.47,0.72,0.59,0.68,0.72,0.74,0.91,0.88,1.0,0.86,0.5,0.46,0.76,0.64,0.67,0.77,0.81],[0.72,0.62,0.77,0.91,0.33,0.37,0.64,0.68,0.73,0.76,0.77,0.78,0.75,0.86,1.0,0.44,0.4,0.66,0.74,0.76,0.84,0.87],[0.53,0.41,0.41,0.45,0.88,0.9,0.61,0.44,0.51,0.49,0.5,0.61,0.51,0.5,0.44,1.0,0.99,0.62,0.49,0.51,0.46,0.48],[0.49,0.4,0.37,0.41,0.9,0.9,0.61,0.42,0.48,0.45,0.47,0.57,0.49,0.46,0.4,0.99,1.0,0.61,0.47,0.49,0.44,0.44],[0.67,0.53,0.6,0.56,0.54,0.52,0.89,0.59,0.66,0.55,0.59,0.84,0.73,0.76,0.66,0.62,0.61,1.0,0.68,0.71,0.64,0.65],[0.58,0.54,0.5,0.7,0.41,0.4,0.69,0.91,0.91,0.75,0.72,0.64,0.59,0.64,0.74,0.49,0.47,0.68,1.0,0.98,0.79,0.75],[0.6,0.54,0.54,0.71,0.43,0.43,0.72,0.89,0.91,0.79,0.77,0.67,0.61,0.67,0.76,0.51,0.49,0.71,0.98,1.0,0.82,0.78],[0.62,0.53,0.67,0.76,0.35,0.37,0.69,0.67,0.72,0.86,0.88,0.69,0.73,0.77,0.84,0.46,0.44,0.64,0.79,0.82,1.0,0.98],[0.65,0.55,0.71,0.79,0.34,0.37,0.69,0.65,0.71,0.85,0.89,0.72,0.75,0.81,0.87,0.48,0.44,0.65,0.75,0.78,0.98,1.0]]\n",
              "\n",
              "\n",
              "for ( var i = 0; i < yValues.length; i++ ) {\n",
              "  for ( var j = 0; j < xValues.length; j++ ) {\n",
              "    var currentValue = zValues[i][j];\n",
              "    if (currentValue != 0.0) {\n",
              "      var textColor = 'white';\n",
              "    }else{\n",
              "      var textColor = 'black';\n",
              "    }\n",
              "    var result = {\n",
              "      xref: 'x1',\n",
              "      yref: 'y1',\n",
              "      x: xValues[j],\n",
              "      y: yValues[i],\n",
              "      text: aValues[i][j],\n",
              "      font: {\n",
              "        family: 'Arial',\n",
              "        size: 5,\n",
              "        color: 'rgb(50, 171, 96)'\n",
              "      },\n",
              "      showarrow: false,\n",
              "      font: {\n",
              "        color: textColor,\n",
              "        size: '18'\n",
              "      }\n",
              "    };\n",
              "    layout.annotations.push(result);\n",
              "  }\n",
              "}\n",
              "\n",
              "var data = [{\n",
              "   x: xValues,\n",
              "   y: yValues,\n",
              "   z: zValues,\n",
              "   \n",
              "   colorscale: 'RdBu', \n",
              "   type: 'heatmap' \n",
              " }];\n",
              " Plotly.newPlot('apoptosis_cor', data, layout);\n",
              "</script>\n",
              "    <h3>apoptosis_cor heatmap has been displayed</h3>"
            ]
          },
          "output_type" : "display_data"
        }
      ]
    },
    {
      "cell_type" : "markdown",
      "execution_count" : 57,
      "metadata" : {
        "language" : "text"
      },
      "language" : "text",
      "source" : [
        "### Ubiquitin\n",
        "\n"
      ],
      "outputs" : [
      ]
    },
    {
      "cell_type" : "code",
      "execution_count" : 58,
      "metadata" : {
        "cell.metadata.exec_info" : {
          "startTs" : 1582595417586,
          "endTs" : 1582595418608
        },
        "language" : "scala"
      },
      "language" : "scala",
      "source" : [
        "val ubiquitin_cor = makeProCor(ubiquitin_goes)\n",
        "html(s\"\"\"<div id=\"ubiquitin_cor\"></div>\"\"\")"
      ],
      "outputs" : [
        {
          "data" : {
            "text/html" : [
              "<div id=\"ubiquitin_cor\"></div>"
            ]
          },
          "output_type" : "display_data"
        }
      ]
    },
    {
      "cell_type" : "code",
      "execution_count" : 59,
      "metadata" : {
        "cell.metadata.exec_info" : {
          "startTs" : 1582595418950,
          "endTs" : 1582595419233
        },
        "language" : "scala"
      },
      "language" : "scala",
      "source" : [
        "html(makeHeatCor(ubiquitin_cor, \"ubiquitin_cor\", \"Ubiquitin correlations for liver and kidney\" ))"
      ],
      "outputs" : [
        {
          "data" : {
            "text/html" : [
              "<script type=\"text/javascript\" charset=\"utf-8\">\n",
              "var layout = {\n",
              "  title: 'Ubiquitin correlations for liver and kidney',\n",
              "  annotations: [],\n",
              "  margin: {\n",
              "    l: 300,\n",
              "    r: 125,\n",
              "    t: 400,\n",
              "    b: 50\n",
              "  },\n",
              "  width: 1800,\n",
              "  height: 1400,\n",
              "  xaxis: {\n",
              "    side: 'top',\n",
              "    tickfont: {\n",
              "      size: 20\n",
              "    },\n",
              "    tickangle: '-30'\n",
              "  },\n",
              "  yaxis: {\n",
              "    side: 'left',\n",
              "    autorange: 'reversed',\n",
              "    tickfont: {\n",
              "      size: 20\n",
              "    }\n",
              "  },\n",
              "};\n",
              "\n",
              "var xValues = [\"Bowhead whale liver\",\"Gray whale liver\",\"Minke whale liver\",\"Human liver\",\"Bat 1 liver\",\"Bat 2 liver\",\"Naked mole rat liver\",\"Cow 1 liver\",\"Cow 2 liver\",\"Mouse 1 liver\",\"Mouse 2 liver\",\"Bowhead whale kidney\",\"Gray whale kidney\",\"Minke whale kidney\",\"Human kidney\",\"Bat 1 kidney\",\"Bat 2 kidney\",\"Naked mole rat kidney\",\"Cow 1 kidney\",\"Cow 2 kidney\",\"Mouse 1 kidney\",\"Mouse 2 kidney\"]\n",
              "var yValues =  [\"Bowhead whale liver\",\"Gray whale liver\",\"Minke whale liver\",\"Human liver\",\"Bat 1 liver\",\"Bat 2 liver\",\"Naked mole rat liver\",\"Cow 1 liver\",\"Cow 2 liver\",\"Mouse 1 liver\",\"Mouse 2 liver\",\"Bowhead whale kidney\",\"Gray whale kidney\",\"Minke whale kidney\",\"Human kidney\",\"Bat 1 kidney\",\"Bat 2 kidney\",\"Naked mole rat kidney\",\"Cow 1 kidney\",\"Cow 2 kidney\",\"Mouse 1 kidney\",\"Mouse 2 kidney\"]\n",
              "var zValues =  [[1.0,0.86,0.83,0.75,0.46,0.5,0.88,0.66,0.64,0.64,0.65,0.88,0.87,0.86,0.82,0.42,0.44,0.79,0.64,0.62,0.66,0.72],[0.86,1.0,0.96,0.89,0.31,0.34,0.73,0.35,0.31,0.22,0.27,0.84,0.93,0.91,0.87,0.29,0.3,0.75,0.32,0.3,0.29,0.37],[0.83,0.96,1.0,0.93,0.33,0.35,0.78,0.39,0.35,0.27,0.34,0.89,0.97,0.97,0.93,0.31,0.31,0.8,0.37,0.34,0.32,0.42],[0.75,0.89,0.93,1.0,0.41,0.42,0.78,0.43,0.4,0.25,0.35,0.91,0.92,0.93,0.95,0.38,0.38,0.85,0.43,0.39,0.37,0.41],[0.46,0.31,0.33,0.41,1.0,0.99,0.48,0.61,0.58,0.46,0.53,0.52,0.36,0.38,0.4,0.98,0.99,0.47,0.64,0.61,0.55,0.56],[0.5,0.34,0.35,0.42,0.99,1.0,0.5,0.63,0.6,0.48,0.54,0.54,0.39,0.4,0.42,0.97,0.98,0.5,0.65,0.62,0.56,0.59],[0.88,0.73,0.78,0.78,0.48,0.5,1.0,0.67,0.69,0.63,0.7,0.91,0.88,0.88,0.87,0.44,0.45,0.92,0.67,0.65,0.69,0.7],[0.66,0.35,0.39,0.43,0.61,0.63,0.67,1.0,0.98,0.92,0.94,0.64,0.49,0.51,0.53,0.56,0.6,0.56,0.99,0.99,0.95,0.95],[0.64,0.31,0.35,0.4,0.58,0.6,0.69,0.98,1.0,0.92,0.95,0.62,0.47,0.5,0.51,0.52,0.55,0.59,0.97,0.98,0.95,0.93],[0.64,0.22,0.27,0.25,0.46,0.48,0.63,0.92,0.92,1.0,0.98,0.53,0.4,0.4,0.44,0.41,0.44,0.46,0.91,0.92,0.96,0.96],[0.65,0.27,0.34,0.35,0.53,0.54,0.7,0.94,0.95,0.98,1.0,0.59,0.47,0.48,0.52,0.47,0.5,0.53,0.94,0.95,0.98,0.97],[0.88,0.84,0.89,0.91,0.52,0.54,0.91,0.64,0.62,0.53,0.59,1.0,0.93,0.94,0.94,0.47,0.48,0.93,0.64,0.61,0.6,0.66],[0.87,0.93,0.97,0.92,0.36,0.39,0.88,0.49,0.47,0.4,0.47,0.93,1.0,0.99,0.96,0.35,0.35,0.87,0.47,0.45,0.45,0.52],[0.86,0.91,0.97,0.93,0.38,0.4,0.88,0.51,0.5,0.4,0.48,0.94,0.99,1.0,0.97,0.36,0.35,0.88,0.49,0.47,0.46,0.53],[0.82,0.87,0.93,0.95,0.4,0.42,0.87,0.53,0.51,0.44,0.52,0.94,0.96,0.97,1.0,0.37,0.36,0.87,0.53,0.5,0.52,0.57],[0.42,0.29,0.31,0.38,0.98,0.97,0.44,0.56,0.52,0.41,0.47,0.47,0.35,0.36,0.37,1.0,0.99,0.43,0.59,0.55,0.5,0.51],[0.44,0.3,0.31,0.38,0.99,0.98,0.45,0.6,0.55,0.44,0.5,0.48,0.35,0.35,0.36,0.99,1.0,0.42,0.63,0.59,0.53,0.54],[0.79,0.75,0.8,0.85,0.47,0.5,0.92,0.56,0.59,0.46,0.53,0.93,0.87,0.88,0.87,0.43,0.42,1.0,0.55,0.52,0.53,0.58],[0.64,0.32,0.37,0.43,0.64,0.65,0.67,0.99,0.97,0.91,0.94,0.64,0.47,0.49,0.53,0.59,0.63,0.55,1.0,1.0,0.95,0.94],[0.62,0.3,0.34,0.39,0.61,0.62,0.65,0.99,0.98,0.92,0.95,0.61,0.45,0.47,0.5,0.55,0.59,0.52,1.0,1.0,0.96,0.94],[0.66,0.29,0.32,0.37,0.55,0.56,0.69,0.95,0.95,0.96,0.98,0.6,0.45,0.46,0.52,0.5,0.53,0.53,0.95,0.96,1.0,0.97],[0.72,0.37,0.42,0.41,0.56,0.59,0.7,0.95,0.93,0.96,0.97,0.66,0.52,0.53,0.57,0.51,0.54,0.58,0.94,0.94,0.97,1.0]]\n",
              "var aValues =  [[1.0,0.86,0.83,0.75,0.46,0.5,0.88,0.66,0.64,0.64,0.65,0.88,0.87,0.86,0.82,0.42,0.44,0.79,0.64,0.62,0.66,0.72],[0.86,1.0,0.96,0.89,0.31,0.34,0.73,0.35,0.31,0.22,0.27,0.84,0.93,0.91,0.87,0.29,0.3,0.75,0.32,0.3,0.29,0.37],[0.83,0.96,1.0,0.93,0.33,0.35,0.78,0.39,0.35,0.27,0.34,0.89,0.97,0.97,0.93,0.31,0.31,0.8,0.37,0.34,0.32,0.42],[0.75,0.89,0.93,1.0,0.41,0.42,0.78,0.43,0.4,0.25,0.35,0.91,0.92,0.93,0.95,0.38,0.38,0.85,0.43,0.39,0.37,0.41],[0.46,0.31,0.33,0.41,1.0,0.99,0.48,0.61,0.58,0.46,0.53,0.52,0.36,0.38,0.4,0.98,0.99,0.47,0.64,0.61,0.55,0.56],[0.5,0.34,0.35,0.42,0.99,1.0,0.5,0.63,0.6,0.48,0.54,0.54,0.39,0.4,0.42,0.97,0.98,0.5,0.65,0.62,0.56,0.59],[0.88,0.73,0.78,0.78,0.48,0.5,1.0,0.67,0.69,0.63,0.7,0.91,0.88,0.88,0.87,0.44,0.45,0.92,0.67,0.65,0.69,0.7],[0.66,0.35,0.39,0.43,0.61,0.63,0.67,1.0,0.98,0.92,0.94,0.64,0.49,0.51,0.53,0.56,0.6,0.56,0.99,0.99,0.95,0.95],[0.64,0.31,0.35,0.4,0.58,0.6,0.69,0.98,1.0,0.92,0.95,0.62,0.47,0.5,0.51,0.52,0.55,0.59,0.97,0.98,0.95,0.93],[0.64,0.22,0.27,0.25,0.46,0.48,0.63,0.92,0.92,1.0,0.98,0.53,0.4,0.4,0.44,0.41,0.44,0.46,0.91,0.92,0.96,0.96],[0.65,0.27,0.34,0.35,0.53,0.54,0.7,0.94,0.95,0.98,1.0,0.59,0.47,0.48,0.52,0.47,0.5,0.53,0.94,0.95,0.98,0.97],[0.88,0.84,0.89,0.91,0.52,0.54,0.91,0.64,0.62,0.53,0.59,1.0,0.93,0.94,0.94,0.47,0.48,0.93,0.64,0.61,0.6,0.66],[0.87,0.93,0.97,0.92,0.36,0.39,0.88,0.49,0.47,0.4,0.47,0.93,1.0,0.99,0.96,0.35,0.35,0.87,0.47,0.45,0.45,0.52],[0.86,0.91,0.97,0.93,0.38,0.4,0.88,0.51,0.5,0.4,0.48,0.94,0.99,1.0,0.97,0.36,0.35,0.88,0.49,0.47,0.46,0.53],[0.82,0.87,0.93,0.95,0.4,0.42,0.87,0.53,0.51,0.44,0.52,0.94,0.96,0.97,1.0,0.37,0.36,0.87,0.53,0.5,0.52,0.57],[0.42,0.29,0.31,0.38,0.98,0.97,0.44,0.56,0.52,0.41,0.47,0.47,0.35,0.36,0.37,1.0,0.99,0.43,0.59,0.55,0.5,0.51],[0.44,0.3,0.31,0.38,0.99,0.98,0.45,0.6,0.55,0.44,0.5,0.48,0.35,0.35,0.36,0.99,1.0,0.42,0.63,0.59,0.53,0.54],[0.79,0.75,0.8,0.85,0.47,0.5,0.92,0.56,0.59,0.46,0.53,0.93,0.87,0.88,0.87,0.43,0.42,1.0,0.55,0.52,0.53,0.58],[0.64,0.32,0.37,0.43,0.64,0.65,0.67,0.99,0.97,0.91,0.94,0.64,0.47,0.49,0.53,0.59,0.63,0.55,1.0,1.0,0.95,0.94],[0.62,0.3,0.34,0.39,0.61,0.62,0.65,0.99,0.98,0.92,0.95,0.61,0.45,0.47,0.5,0.55,0.59,0.52,1.0,1.0,0.96,0.94],[0.66,0.29,0.32,0.37,0.55,0.56,0.69,0.95,0.95,0.96,0.98,0.6,0.45,0.46,0.52,0.5,0.53,0.53,0.95,0.96,1.0,0.97],[0.72,0.37,0.42,0.41,0.56,0.59,0.7,0.95,0.93,0.96,0.97,0.66,0.52,0.53,0.57,0.51,0.54,0.58,0.94,0.94,0.97,1.0]]\n",
              "\n",
              "\n",
              "for ( var i = 0; i < yValues.length; i++ ) {\n",
              "  for ( var j = 0; j < xValues.length; j++ ) {\n",
              "    var currentValue = zValues[i][j];\n",
              "    if (currentValue != 0.0) {\n",
              "      var textColor = 'white';\n",
              "    }else{\n",
              "      var textColor = 'black';\n",
              "    }\n",
              "    var result = {\n",
              "      xref: 'x1',\n",
              "      yref: 'y1',\n",
              "      x: xValues[j],\n",
              "      y: yValues[i],\n",
              "      text: aValues[i][j],\n",
              "      font: {\n",
              "        family: 'Arial',\n",
              "        size: 5,\n",
              "        color: 'rgb(50, 171, 96)'\n",
              "      },\n",
              "      showarrow: false,\n",
              "      font: {\n",
              "        color: textColor,\n",
              "        size: '18'\n",
              "      }\n",
              "    };\n",
              "    layout.annotations.push(result);\n",
              "  }\n",
              "}\n",
              "\n",
              "var data = [{\n",
              "   x: xValues,\n",
              "   y: yValues,\n",
              "   z: zValues,\n",
              "   \n",
              "   colorscale: 'RdBu', \n",
              "   type: 'heatmap' \n",
              " }];\n",
              " Plotly.newPlot('ubiquitin_cor', data, layout);\n",
              "</script>\n",
              "    <h3>ubiquitin_cor heatmap has been displayed</h3>"
            ]
          },
          "output_type" : "display_data"
        }
      ]
    },
    {
      "cell_type" : "markdown",
      "execution_count" : 60,
      "metadata" : {
        "language" : "text"
      },
      "language" : "text",
      "source" : [
        "### Mitochondria\n",
        "\n"
      ],
      "outputs" : [
      ]
    },
    {
      "cell_type" : "code",
      "execution_count" : 61,
      "metadata" : {
        "cell.metadata.exec_info" : {
          "startTs" : 1582594664859,
          "endTs" : 1582594665816
        },
        "language" : "scala"
      },
      "language" : "scala",
      "source" : [
        "val mitochondria_cor = makeProCor(mitochondria_goes)\n",
        "html(s\"\"\"<div id=\"mitochondria_cor\"></div>\"\"\")"
      ],
      "outputs" : [
        {
          "data" : {
            "text/html" : [
              "<div id=\"mitochondria_cor\"></div>"
            ]
          },
          "output_type" : "display_data"
        }
      ]
    },
    {
      "cell_type" : "code",
      "execution_count" : 62,
      "metadata" : {
        "cell.metadata.exec_info" : {
          "startTs" : 1582593778456,
          "endTs" : 1582593778842
        },
        "language" : "scala"
      },
      "language" : "scala",
      "source" : [
        "html(makeHeatCor(mitochondria_cor, \"mitochondria_cor\", \"Mitochondria correlations for liver and kidney\" ))"
      ],
      "outputs" : [
        {
          "data" : {
            "text/html" : [
              "<script type=\"text/javascript\" charset=\"utf-8\">\n",
              "var layout = {\n",
              "  title: 'Mitochondria correlations for liver and kidney',\n",
              "  annotations: [],\n",
              "  margin: {\n",
              "    l: 300,\n",
              "    r: 125,\n",
              "    t: 400,\n",
              "    b: 50\n",
              "  },\n",
              "  width: 1800,\n",
              "  height: 1400,\n",
              "  xaxis: {\n",
              "    side: 'top',\n",
              "    tickfont: {\n",
              "      size: 20\n",
              "    },\n",
              "    tickangle: '-30'\n",
              "  },\n",
              "  yaxis: {\n",
              "    side: 'left',\n",
              "    autorange: 'reversed',\n",
              "    tickfont: {\n",
              "      size: 20\n",
              "    }\n",
              "  },\n",
              "};\n",
              "\n",
              "var xValues = [\"Bowhead whale liver\",\"Gray whale liver\",\"Minke whale liver\",\"Human liver\",\"Bat 1 liver\",\"Bat 2 liver\",\"Naked mole rat liver\",\"Cow 1 liver\",\"Cow 2 liver\",\"Mouse 1 liver\",\"Mouse 2 liver\",\"Bowhead whale kidney\",\"Gray whale kidney\",\"Minke whale kidney\",\"Human kidney\",\"Naked mole rat kidney\",\"Cow 1 kidney\",\"Cow 2 kidney\",\"Mouse 1 kidney\",\"Mouse 2 kidney\",\"Bat 1 kidney\",\"Bat 2 kidney\"]\n",
              "var yValues =  [\"Bowhead whale liver\",\"Gray whale liver\",\"Minke whale liver\",\"Human liver\",\"Bat 1 liver\",\"Bat 2 liver\",\"Naked mole rat liver\",\"Cow 1 liver\",\"Cow 2 liver\",\"Mouse 1 liver\",\"Mouse 2 liver\",\"Bowhead whale kidney\",\"Gray whale kidney\",\"Minke whale kidney\",\"Human kidney\",\"Naked mole rat kidney\",\"Cow 1 kidney\",\"Cow 2 kidney\",\"Mouse 1 kidney\",\"Mouse 2 kidney\",\"Bat 1 kidney\",\"Bat 2 kidney\"]\n",
              "var zValues =  [[1.0,0.87,0.91,0.5,0.17,0.16,0.65,0.49,0.38,0.64,0.55,0.91,0.87,0.88,0.61,0.71,0.64,0.65,0.68,0.6,0.18,0.22],[0.87,1.0,0.94,0.54,0.27,0.27,0.65,0.6,0.5,0.74,0.58,0.86,0.92,0.92,0.64,0.7,0.79,0.8,0.8,0.61,0.32,0.36],[0.91,0.94,1.0,0.56,0.15,0.15,0.63,0.5,0.43,0.73,0.62,0.82,0.89,0.94,0.64,0.74,0.69,0.7,0.8,0.66,0.2,0.24],[0.5,0.54,0.56,1.0,0.4,0.38,0.64,0.62,0.62,0.7,0.59,0.55,0.58,0.64,0.96,0.72,0.7,0.69,0.65,0.58,0.42,0.46],[0.17,0.27,0.15,0.4,1.0,0.99,0.31,0.52,0.6,0.37,0.22,0.32,0.26,0.23,0.4,0.3,0.53,0.5,0.28,0.16,0.97,0.97],[0.16,0.27,0.15,0.38,0.99,1.0,0.3,0.5,0.59,0.36,0.21,0.31,0.27,0.23,0.37,0.3,0.52,0.48,0.29,0.17,0.98,0.97],[0.65,0.65,0.63,0.64,0.31,0.3,1.0,0.61,0.45,0.68,0.59,0.76,0.74,0.75,0.74,0.73,0.78,0.76,0.74,0.71,0.26,0.32],[0.49,0.6,0.5,0.62,0.52,0.5,0.61,1.0,0.89,0.87,0.78,0.6,0.51,0.53,0.67,0.55,0.9,0.89,0.75,0.72,0.51,0.54],[0.38,0.5,0.43,0.62,0.6,0.59,0.45,0.89,1.0,0.8,0.73,0.43,0.41,0.42,0.57,0.54,0.8,0.77,0.63,0.61,0.6,0.61],[0.64,0.74,0.73,0.7,0.37,0.36,0.68,0.87,0.8,1.0,0.93,0.64,0.64,0.73,0.73,0.75,0.85,0.85,0.87,0.87,0.37,0.41],[0.55,0.58,0.62,0.59,0.22,0.21,0.59,0.78,0.73,0.93,1.0,0.49,0.52,0.64,0.58,0.63,0.7,0.69,0.82,0.93,0.21,0.25],[0.91,0.86,0.82,0.55,0.32,0.31,0.76,0.6,0.43,0.64,0.49,1.0,0.88,0.88,0.68,0.68,0.75,0.74,0.68,0.58,0.33,0.37],[0.87,0.92,0.89,0.58,0.26,0.27,0.74,0.51,0.41,0.64,0.52,0.88,1.0,0.92,0.69,0.72,0.75,0.73,0.76,0.63,0.29,0.32],[0.88,0.92,0.94,0.64,0.23,0.23,0.75,0.53,0.42,0.73,0.64,0.88,0.92,1.0,0.72,0.74,0.73,0.73,0.81,0.7,0.27,0.31],[0.61,0.64,0.64,0.96,0.4,0.37,0.74,0.67,0.57,0.73,0.58,0.68,0.69,0.72,1.0,0.74,0.77,0.78,0.69,0.59,0.41,0.45],[0.71,0.7,0.74,0.72,0.3,0.3,0.73,0.55,0.54,0.75,0.63,0.68,0.72,0.74,0.74,1.0,0.69,0.69,0.69,0.64,0.29,0.33],[0.64,0.79,0.69,0.7,0.53,0.52,0.78,0.9,0.8,0.85,0.7,0.75,0.75,0.73,0.77,0.69,1.0,0.99,0.86,0.7,0.53,0.56],[0.65,0.8,0.7,0.69,0.5,0.48,0.76,0.89,0.77,0.85,0.69,0.74,0.73,0.73,0.78,0.69,0.99,1.0,0.85,0.66,0.5,0.53],[0.68,0.8,0.8,0.65,0.28,0.29,0.74,0.75,0.63,0.87,0.82,0.68,0.76,0.81,0.69,0.69,0.86,0.85,1.0,0.87,0.31,0.35],[0.6,0.61,0.66,0.58,0.16,0.17,0.71,0.72,0.61,0.87,0.93,0.58,0.63,0.7,0.59,0.64,0.7,0.66,0.87,1.0,0.15,0.21],[0.18,0.32,0.2,0.42,0.97,0.98,0.26,0.51,0.6,0.37,0.21,0.33,0.29,0.27,0.41,0.29,0.53,0.5,0.31,0.15,1.0,0.99],[0.22,0.36,0.24,0.46,0.97,0.97,0.32,0.54,0.61,0.41,0.25,0.37,0.32,0.31,0.45,0.33,0.56,0.53,0.35,0.21,0.99,1.0]]\n",
              "var aValues =  [[1.0,0.87,0.91,0.5,0.17,0.16,0.65,0.49,0.38,0.64,0.55,0.91,0.87,0.88,0.61,0.71,0.64,0.65,0.68,0.6,0.18,0.22],[0.87,1.0,0.94,0.54,0.27,0.27,0.65,0.6,0.5,0.74,0.58,0.86,0.92,0.92,0.64,0.7,0.79,0.8,0.8,0.61,0.32,0.36],[0.91,0.94,1.0,0.56,0.15,0.15,0.63,0.5,0.43,0.73,0.62,0.82,0.89,0.94,0.64,0.74,0.69,0.7,0.8,0.66,0.2,0.24],[0.5,0.54,0.56,1.0,0.4,0.38,0.64,0.62,0.62,0.7,0.59,0.55,0.58,0.64,0.96,0.72,0.7,0.69,0.65,0.58,0.42,0.46],[0.17,0.27,0.15,0.4,1.0,0.99,0.31,0.52,0.6,0.37,0.22,0.32,0.26,0.23,0.4,0.3,0.53,0.5,0.28,0.16,0.97,0.97],[0.16,0.27,0.15,0.38,0.99,1.0,0.3,0.5,0.59,0.36,0.21,0.31,0.27,0.23,0.37,0.3,0.52,0.48,0.29,0.17,0.98,0.97],[0.65,0.65,0.63,0.64,0.31,0.3,1.0,0.61,0.45,0.68,0.59,0.76,0.74,0.75,0.74,0.73,0.78,0.76,0.74,0.71,0.26,0.32],[0.49,0.6,0.5,0.62,0.52,0.5,0.61,1.0,0.89,0.87,0.78,0.6,0.51,0.53,0.67,0.55,0.9,0.89,0.75,0.72,0.51,0.54],[0.38,0.5,0.43,0.62,0.6,0.59,0.45,0.89,1.0,0.8,0.73,0.43,0.41,0.42,0.57,0.54,0.8,0.77,0.63,0.61,0.6,0.61],[0.64,0.74,0.73,0.7,0.37,0.36,0.68,0.87,0.8,1.0,0.93,0.64,0.64,0.73,0.73,0.75,0.85,0.85,0.87,0.87,0.37,0.41],[0.55,0.58,0.62,0.59,0.22,0.21,0.59,0.78,0.73,0.93,1.0,0.49,0.52,0.64,0.58,0.63,0.7,0.69,0.82,0.93,0.21,0.25],[0.91,0.86,0.82,0.55,0.32,0.31,0.76,0.6,0.43,0.64,0.49,1.0,0.88,0.88,0.68,0.68,0.75,0.74,0.68,0.58,0.33,0.37],[0.87,0.92,0.89,0.58,0.26,0.27,0.74,0.51,0.41,0.64,0.52,0.88,1.0,0.92,0.69,0.72,0.75,0.73,0.76,0.63,0.29,0.32],[0.88,0.92,0.94,0.64,0.23,0.23,0.75,0.53,0.42,0.73,0.64,0.88,0.92,1.0,0.72,0.74,0.73,0.73,0.81,0.7,0.27,0.31],[0.61,0.64,0.64,0.96,0.4,0.37,0.74,0.67,0.57,0.73,0.58,0.68,0.69,0.72,1.0,0.74,0.77,0.78,0.69,0.59,0.41,0.45],[0.71,0.7,0.74,0.72,0.3,0.3,0.73,0.55,0.54,0.75,0.63,0.68,0.72,0.74,0.74,1.0,0.69,0.69,0.69,0.64,0.29,0.33],[0.64,0.79,0.69,0.7,0.53,0.52,0.78,0.9,0.8,0.85,0.7,0.75,0.75,0.73,0.77,0.69,1.0,0.99,0.86,0.7,0.53,0.56],[0.65,0.8,0.7,0.69,0.5,0.48,0.76,0.89,0.77,0.85,0.69,0.74,0.73,0.73,0.78,0.69,0.99,1.0,0.85,0.66,0.5,0.53],[0.68,0.8,0.8,0.65,0.28,0.29,0.74,0.75,0.63,0.87,0.82,0.68,0.76,0.81,0.69,0.69,0.86,0.85,1.0,0.87,0.31,0.35],[0.6,0.61,0.66,0.58,0.16,0.17,0.71,0.72,0.61,0.87,0.93,0.58,0.63,0.7,0.59,0.64,0.7,0.66,0.87,1.0,0.15,0.21],[0.18,0.32,0.2,0.42,0.97,0.98,0.26,0.51,0.6,0.37,0.21,0.33,0.29,0.27,0.41,0.29,0.53,0.5,0.31,0.15,1.0,0.99],[0.22,0.36,0.24,0.46,0.97,0.97,0.32,0.54,0.61,0.41,0.25,0.37,0.32,0.31,0.45,0.33,0.56,0.53,0.35,0.21,0.99,1.0]]\n",
              "\n",
              "\n",
              "for ( var i = 0; i < yValues.length; i++ ) {\n",
              "  for ( var j = 0; j < xValues.length; j++ ) {\n",
              "    var currentValue = zValues[i][j];\n",
              "    if (currentValue != 0.0) {\n",
              "      var textColor = 'white';\n",
              "    }else{\n",
              "      var textColor = 'black';\n",
              "    }\n",
              "    var result = {\n",
              "      xref: 'x1',\n",
              "      yref: 'y1',\n",
              "      x: xValues[j],\n",
              "      y: yValues[i],\n",
              "      text: aValues[i][j],\n",
              "      font: {\n",
              "        family: 'Arial',\n",
              "        size: 5,\n",
              "        color: 'rgb(50, 171, 96)'\n",
              "      },\n",
              "      showarrow: false,\n",
              "      font: {\n",
              "        color: textColor,\n",
              "        size: '18'\n",
              "      }\n",
              "    };\n",
              "    layout.annotations.push(result);\n",
              "  }\n",
              "}\n",
              "\n",
              "var data = [{\n",
              "   x: xValues,\n",
              "   y: yValues,\n",
              "   z: zValues,\n",
              "   \n",
              "   colorscale: 'RdBu', \n",
              "   type: 'heatmap' \n",
              " }];\n",
              " Plotly.newPlot('mitochondria_cor', data, layout);\n",
              "</script>\n",
              "    <h3>mitochondria_cor heatmap has been displayed</h3>"
            ]
          },
          "output_type" : "display_data"
        }
      ]
    },
    {
      "cell_type" : "markdown",
      "execution_count" : 63,
      "metadata" : {
        "language" : "text"
      },
      "language" : "text",
      "source" : [
        "### ATP correlations\n",
        "\n"
      ],
      "outputs" : [
      ]
    },
    {
      "cell_type" : "code",
      "execution_count" : 64,
      "metadata" : {
        "cell.metadata.exec_info" : {
          "startTs" : 1582593783773,
          "endTs" : 1582593784865
        },
        "language" : "scala"
      },
      "language" : "scala",
      "source" : [
        "val atp_cor = makeProCor(atp_goes)\n",
        "html(s\"\"\"<div id=\"atp_cor\"></div>\"\"\")"
      ],
      "outputs" : [
        {
          "data" : {
            "text/html" : [
              "<div id=\"atp_cor\"></div>"
            ]
          },
          "output_type" : "display_data"
        }
      ]
    },
    {
      "cell_type" : "code",
      "execution_count" : 65,
      "metadata" : {
        "cell.metadata.exec_info" : {
          "startTs" : 1582594668932,
          "endTs" : 1582594669252
        },
        "language" : "scala"
      },
      "language" : "scala",
      "source" : [
        "html(makeHeatCor(atp_cor, \"atp_cor\", \"ATP correlations for liver and kidney\" ))"
      ],
      "outputs" : [
        {
          "data" : {
            "text/html" : [
              "<script type=\"text/javascript\" charset=\"utf-8\">\n",
              "var layout = {\n",
              "  title: 'ATP correlations for liver and kidney',\n",
              "  annotations: [],\n",
              "  margin: {\n",
              "    l: 300,\n",
              "    r: 125,\n",
              "    t: 400,\n",
              "    b: 50\n",
              "  },\n",
              "  width: 1800,\n",
              "  height: 1400,\n",
              "  xaxis: {\n",
              "    side: 'top',\n",
              "    tickfont: {\n",
              "      size: 20\n",
              "    },\n",
              "    tickangle: '-30'\n",
              "  },\n",
              "  yaxis: {\n",
              "    side: 'left',\n",
              "    autorange: 'reversed',\n",
              "    tickfont: {\n",
              "      size: 20\n",
              "    }\n",
              "  },\n",
              "};\n",
              "\n",
              "var xValues = [\"Bowhead whale liver\",\"Gray whale liver\",\"Minke whale liver\",\"Human liver\",\"Bat 1 liver\",\"Bat 2 liver\",\"Naked mole rat liver\",\"Cow 1 liver\",\"Cow 2 liver\",\"Mouse 1 liver\",\"Mouse 2 liver\",\"Bowhead whale kidney\",\"Gray whale kidney\",\"Minke whale kidney\",\"Human kidney\",\"Naked mole rat kidney\",\"Cow 1 kidney\",\"Cow 2 kidney\",\"Mouse 1 kidney\",\"Mouse 2 kidney\",\"Bat 1 kidney\",\"Bat 2 kidney\"]\n",
              "var yValues =  [\"Bowhead whale liver\",\"Gray whale liver\",\"Minke whale liver\",\"Human liver\",\"Bat 1 liver\",\"Bat 2 liver\",\"Naked mole rat liver\",\"Cow 1 liver\",\"Cow 2 liver\",\"Mouse 1 liver\",\"Mouse 2 liver\",\"Bowhead whale kidney\",\"Gray whale kidney\",\"Minke whale kidney\",\"Human kidney\",\"Naked mole rat kidney\",\"Cow 1 kidney\",\"Cow 2 kidney\",\"Mouse 1 kidney\",\"Mouse 2 kidney\",\"Bat 1 kidney\",\"Bat 2 kidney\"]\n",
              "var zValues =  [[1.0,0.85,0.93,0.31,0.19,0.18,0.45,0.47,0.49,0.52,0.46,0.89,0.87,0.94,0.32,0.76,0.52,0.57,0.56,0.55,0.24,0.23],[0.85,1.0,0.84,0.5,0.22,0.23,0.53,0.59,0.58,0.63,0.55,0.78,0.98,0.87,0.58,0.68,0.68,0.74,0.73,0.7,0.25,0.27],[0.93,0.84,1.0,0.39,0.25,0.22,0.37,0.59,0.58,0.52,0.45,0.85,0.86,0.98,0.44,0.84,0.58,0.63,0.58,0.57,0.28,0.29],[0.31,0.5,0.39,1.0,0.36,0.35,0.41,0.68,0.63,0.67,0.69,0.24,0.52,0.37,0.95,0.54,0.55,0.61,0.7,0.72,0.35,0.43],[0.19,0.22,0.25,0.36,1.0,0.99,0.52,0.4,0.28,0.21,0.22,0.24,0.27,0.3,0.36,0.44,0.36,0.32,0.23,0.27,0.96,0.95],[0.18,0.23,0.22,0.35,0.99,1.0,0.56,0.4,0.29,0.21,0.19,0.24,0.27,0.27,0.37,0.42,0.4,0.36,0.24,0.25,0.97,0.96],[0.45,0.53,0.37,0.41,0.52,0.56,1.0,0.42,0.27,0.26,0.15,0.57,0.6,0.43,0.49,0.62,0.55,0.53,0.38,0.41,0.66,0.65],[0.47,0.59,0.59,0.68,0.4,0.4,0.42,1.0,0.96,0.74,0.65,0.5,0.56,0.53,0.67,0.67,0.9,0.91,0.78,0.75,0.37,0.47],[0.49,0.58,0.58,0.63,0.28,0.29,0.27,0.96,1.0,0.73,0.69,0.49,0.52,0.51,0.57,0.58,0.84,0.87,0.73,0.69,0.21,0.32],[0.52,0.63,0.52,0.67,0.21,0.21,0.26,0.74,0.73,1.0,0.87,0.33,0.58,0.5,0.61,0.55,0.69,0.73,0.95,0.92,0.18,0.27],[0.46,0.55,0.45,0.69,0.22,0.19,0.15,0.65,0.69,0.87,1.0,0.25,0.51,0.44,0.55,0.46,0.45,0.51,0.82,0.9,0.14,0.21],[0.89,0.78,0.85,0.24,0.24,0.24,0.57,0.5,0.49,0.33,0.25,1.0,0.82,0.83,0.29,0.7,0.61,0.62,0.43,0.42,0.31,0.28],[0.87,0.98,0.86,0.52,0.27,0.27,0.6,0.56,0.52,0.58,0.51,0.82,1.0,0.89,0.61,0.74,0.65,0.71,0.7,0.69,0.33,0.33],[0.94,0.87,0.98,0.37,0.3,0.27,0.43,0.53,0.51,0.5,0.44,0.83,0.89,1.0,0.43,0.82,0.53,0.59,0.56,0.56,0.34,0.33],[0.32,0.58,0.44,0.95,0.36,0.37,0.49,0.67,0.57,0.61,0.55,0.29,0.61,0.43,1.0,0.55,0.61,0.67,0.7,0.68,0.39,0.46],[0.76,0.68,0.84,0.54,0.44,0.42,0.62,0.67,0.58,0.55,0.46,0.7,0.74,0.82,0.55,1.0,0.63,0.65,0.58,0.63,0.49,0.51],[0.52,0.68,0.58,0.55,0.36,0.4,0.55,0.9,0.84,0.69,0.45,0.61,0.65,0.53,0.61,0.63,1.0,0.99,0.77,0.68,0.38,0.46],[0.57,0.74,0.63,0.61,0.32,0.36,0.53,0.91,0.87,0.73,0.51,0.62,0.71,0.59,0.67,0.65,0.99,1.0,0.81,0.7,0.34,0.42],[0.56,0.73,0.58,0.7,0.23,0.24,0.38,0.78,0.73,0.95,0.82,0.43,0.7,0.56,0.7,0.58,0.77,0.81,1.0,0.95,0.25,0.34],[0.55,0.7,0.57,0.72,0.27,0.25,0.41,0.75,0.69,0.92,0.9,0.42,0.69,0.56,0.68,0.63,0.68,0.7,0.95,1.0,0.27,0.34],[0.24,0.25,0.28,0.35,0.96,0.97,0.66,0.37,0.21,0.18,0.14,0.31,0.33,0.34,0.39,0.49,0.38,0.34,0.25,0.27,1.0,0.98],[0.23,0.27,0.29,0.43,0.95,0.96,0.65,0.47,0.32,0.27,0.21,0.28,0.33,0.33,0.46,0.51,0.46,0.42,0.34,0.34,0.98,1.0]]\n",
              "var aValues =  [[1.0,0.85,0.93,0.31,0.19,0.18,0.45,0.47,0.49,0.52,0.46,0.89,0.87,0.94,0.32,0.76,0.52,0.57,0.56,0.55,0.24,0.23],[0.85,1.0,0.84,0.5,0.22,0.23,0.53,0.59,0.58,0.63,0.55,0.78,0.98,0.87,0.58,0.68,0.68,0.74,0.73,0.7,0.25,0.27],[0.93,0.84,1.0,0.39,0.25,0.22,0.37,0.59,0.58,0.52,0.45,0.85,0.86,0.98,0.44,0.84,0.58,0.63,0.58,0.57,0.28,0.29],[0.31,0.5,0.39,1.0,0.36,0.35,0.41,0.68,0.63,0.67,0.69,0.24,0.52,0.37,0.95,0.54,0.55,0.61,0.7,0.72,0.35,0.43],[0.19,0.22,0.25,0.36,1.0,0.99,0.52,0.4,0.28,0.21,0.22,0.24,0.27,0.3,0.36,0.44,0.36,0.32,0.23,0.27,0.96,0.95],[0.18,0.23,0.22,0.35,0.99,1.0,0.56,0.4,0.29,0.21,0.19,0.24,0.27,0.27,0.37,0.42,0.4,0.36,0.24,0.25,0.97,0.96],[0.45,0.53,0.37,0.41,0.52,0.56,1.0,0.42,0.27,0.26,0.15,0.57,0.6,0.43,0.49,0.62,0.55,0.53,0.38,0.41,0.66,0.65],[0.47,0.59,0.59,0.68,0.4,0.4,0.42,1.0,0.96,0.74,0.65,0.5,0.56,0.53,0.67,0.67,0.9,0.91,0.78,0.75,0.37,0.47],[0.49,0.58,0.58,0.63,0.28,0.29,0.27,0.96,1.0,0.73,0.69,0.49,0.52,0.51,0.57,0.58,0.84,0.87,0.73,0.69,0.21,0.32],[0.52,0.63,0.52,0.67,0.21,0.21,0.26,0.74,0.73,1.0,0.87,0.33,0.58,0.5,0.61,0.55,0.69,0.73,0.95,0.92,0.18,0.27],[0.46,0.55,0.45,0.69,0.22,0.19,0.15,0.65,0.69,0.87,1.0,0.25,0.51,0.44,0.55,0.46,0.45,0.51,0.82,0.9,0.14,0.21],[0.89,0.78,0.85,0.24,0.24,0.24,0.57,0.5,0.49,0.33,0.25,1.0,0.82,0.83,0.29,0.7,0.61,0.62,0.43,0.42,0.31,0.28],[0.87,0.98,0.86,0.52,0.27,0.27,0.6,0.56,0.52,0.58,0.51,0.82,1.0,0.89,0.61,0.74,0.65,0.71,0.7,0.69,0.33,0.33],[0.94,0.87,0.98,0.37,0.3,0.27,0.43,0.53,0.51,0.5,0.44,0.83,0.89,1.0,0.43,0.82,0.53,0.59,0.56,0.56,0.34,0.33],[0.32,0.58,0.44,0.95,0.36,0.37,0.49,0.67,0.57,0.61,0.55,0.29,0.61,0.43,1.0,0.55,0.61,0.67,0.7,0.68,0.39,0.46],[0.76,0.68,0.84,0.54,0.44,0.42,0.62,0.67,0.58,0.55,0.46,0.7,0.74,0.82,0.55,1.0,0.63,0.65,0.58,0.63,0.49,0.51],[0.52,0.68,0.58,0.55,0.36,0.4,0.55,0.9,0.84,0.69,0.45,0.61,0.65,0.53,0.61,0.63,1.0,0.99,0.77,0.68,0.38,0.46],[0.57,0.74,0.63,0.61,0.32,0.36,0.53,0.91,0.87,0.73,0.51,0.62,0.71,0.59,0.67,0.65,0.99,1.0,0.81,0.7,0.34,0.42],[0.56,0.73,0.58,0.7,0.23,0.24,0.38,0.78,0.73,0.95,0.82,0.43,0.7,0.56,0.7,0.58,0.77,0.81,1.0,0.95,0.25,0.34],[0.55,0.7,0.57,0.72,0.27,0.25,0.41,0.75,0.69,0.92,0.9,0.42,0.69,0.56,0.68,0.63,0.68,0.7,0.95,1.0,0.27,0.34],[0.24,0.25,0.28,0.35,0.96,0.97,0.66,0.37,0.21,0.18,0.14,0.31,0.33,0.34,0.39,0.49,0.38,0.34,0.25,0.27,1.0,0.98],[0.23,0.27,0.29,0.43,0.95,0.96,0.65,0.47,0.32,0.27,0.21,0.28,0.33,0.33,0.46,0.51,0.46,0.42,0.34,0.34,0.98,1.0]]\n",
              "\n",
              "\n",
              "for ( var i = 0; i < yValues.length; i++ ) {\n",
              "  for ( var j = 0; j < xValues.length; j++ ) {\n",
              "    var currentValue = zValues[i][j];\n",
              "    if (currentValue != 0.0) {\n",
              "      var textColor = 'white';\n",
              "    }else{\n",
              "      var textColor = 'black';\n",
              "    }\n",
              "    var result = {\n",
              "      xref: 'x1',\n",
              "      yref: 'y1',\n",
              "      x: xValues[j],\n",
              "      y: yValues[i],\n",
              "      text: aValues[i][j],\n",
              "      font: {\n",
              "        family: 'Arial',\n",
              "        size: 5,\n",
              "        color: 'rgb(50, 171, 96)'\n",
              "      },\n",
              "      showarrow: false,\n",
              "      font: {\n",
              "        color: textColor,\n",
              "        size: '18'\n",
              "      }\n",
              "    };\n",
              "    layout.annotations.push(result);\n",
              "  }\n",
              "}\n",
              "\n",
              "var data = [{\n",
              "   x: xValues,\n",
              "   y: yValues,\n",
              "   z: zValues,\n",
              "   \n",
              "   colorscale: 'RdBu', \n",
              "   type: 'heatmap' \n",
              " }];\n",
              " Plotly.newPlot('atp_cor', data, layout);\n",
              "</script>\n",
              "    <h3>atp_cor heatmap has been displayed</h3>"
            ]
          },
          "output_type" : "display_data"
        }
      ]
    },
    {
      "cell_type" : "markdown",
      "execution_count" : 66,
      "metadata" : {
        "language" : "text"
      },
      "language" : "text",
      "source" : [
        "### NAD goes\n",
        "\n"
      ],
      "outputs" : [
      ]
    },
    {
      "cell_type" : "code",
      "execution_count" : 67,
      "metadata" : {
        "cell.metadata.exec_info" : {
          "startTs" : 1582594673124,
          "endTs" : 1582594674031
        },
        "language" : "scala"
      },
      "language" : "scala",
      "source" : [
        "val nad_cor = makeProCor(nad_goes)\n",
        "html(s\"\"\"<div id=\"nad_cor\"></div>\"\"\")"
      ],
      "outputs" : [
        {
          "data" : {
            "text/html" : [
              "<div id=\"nad_cor\"></div>"
            ]
          },
          "output_type" : "display_data"
        }
      ]
    },
    {
      "cell_type" : "code",
      "execution_count" : 68,
      "metadata" : {
        "cell.metadata.exec_info" : {
          "startTs" : 1582593811869,
          "endTs" : 1582593812174
        },
        "language" : "scala"
      },
      "language" : "scala",
      "source" : [
        "html(makeHeatCor(nad_cor, \"nad_cor\", \"NAD correlations for liver and kidney\" ))"
      ],
      "outputs" : [
        {
          "data" : {
            "text/html" : [
              "<script type=\"text/javascript\" charset=\"utf-8\">\n",
              "var layout = {\n",
              "  title: 'NAD correlations for liver and kidney',\n",
              "  annotations: [],\n",
              "  margin: {\n",
              "    l: 300,\n",
              "    r: 125,\n",
              "    t: 400,\n",
              "    b: 50\n",
              "  },\n",
              "  width: 1800,\n",
              "  height: 1400,\n",
              "  xaxis: {\n",
              "    side: 'top',\n",
              "    tickfont: {\n",
              "      size: 20\n",
              "    },\n",
              "    tickangle: '-30'\n",
              "  },\n",
              "  yaxis: {\n",
              "    side: 'left',\n",
              "    autorange: 'reversed',\n",
              "    tickfont: {\n",
              "      size: 20\n",
              "    }\n",
              "  },\n",
              "};\n",
              "\n",
              "var xValues = [\"Bowhead whale liver\",\"Gray whale liver\",\"Minke whale liver\",\"Human liver\",\"Bat 1 liver\",\"Bat 2 liver\",\"Naked mole rat liver\",\"Cow 1 liver\",\"Cow 2 liver\",\"Mouse 1 liver\",\"Mouse 2 liver\",\"Bowhead whale kidney\",\"Gray whale kidney\",\"Minke whale kidney\",\"Human kidney\",\"Naked mole rat kidney\",\"Cow 1 kidney\",\"Cow 2 kidney\",\"Mouse 1 kidney\",\"Mouse 2 kidney\",\"Bat 1 kidney\",\"Bat 2 kidney\"]\n",
              "var yValues =  [\"Bowhead whale liver\",\"Gray whale liver\",\"Minke whale liver\",\"Human liver\",\"Bat 1 liver\",\"Bat 2 liver\",\"Naked mole rat liver\",\"Cow 1 liver\",\"Cow 2 liver\",\"Mouse 1 liver\",\"Mouse 2 liver\",\"Bowhead whale kidney\",\"Gray whale kidney\",\"Minke whale kidney\",\"Human kidney\",\"Naked mole rat kidney\",\"Cow 1 kidney\",\"Cow 2 kidney\",\"Mouse 1 kidney\",\"Mouse 2 kidney\",\"Bat 1 kidney\",\"Bat 2 kidney\"]\n",
              "var zValues =  [[1.0,0.6,1.0,0.4,-0.4,-0.4,-0.8,-0.4,0.2,0.2,0.2,0.8,0.8,1.0,1.0,0.2,0.4,0.2,0.8,0.8,-0.8,-0.8],[0.6,1.0,0.6,0.4,0.4,0.4,-0.8,-0.4,-0.2,-0.2,-0.2,0.8,0.8,0.6,0.6,-0.2,-0.4,-0.2,0.0,0.0,0.0,0.0],[1.0,0.6,1.0,0.4,-0.4,-0.4,-0.8,-0.4,0.2,0.2,0.2,0.8,0.8,1.0,1.0,0.2,0.4,0.2,0.8,0.8,-0.8,-0.8],[0.4,0.4,0.4,1.0,-0.4,-0.4,-0.8,0.6,0.8,0.8,0.8,0.0,0.0,0.4,0.4,0.8,0.4,0.8,0.2,0.2,-0.2,-0.2],[-0.4,0.4,-0.4,-0.4,1.0,1.0,0.2,-0.4,-0.8,-0.8,-0.8,0.2,0.2,-0.4,-0.4,-0.8,-1.0,-0.8,-0.8,-0.8,0.8,0.8],[-0.4,0.4,-0.4,-0.4,1.0,1.0,0.2,-0.4,-0.8,-0.8,-0.8,0.2,0.2,-0.4,-0.4,-0.8,-1.0,-0.8,-0.8,-0.8,0.8,0.8],[-0.8,-0.8,-0.8,-0.8,0.2,0.2,1.0,0.0,-0.4,-0.4,-0.4,-0.6,-0.6,-0.8,-0.8,-0.4,-0.2,-0.4,-0.4,-0.4,0.4,0.4],[-0.4,-0.4,-0.4,0.6,-0.4,-0.4,0.0,1.0,0.8,0.8,0.8,-0.8,-0.8,-0.4,-0.4,0.8,0.4,0.8,-0.2,-0.2,0.2,0.2],[0.2,-0.2,0.2,0.8,-0.8,-0.8,-0.4,0.8,1.0,1.0,1.0,-0.4,-0.4,0.2,0.2,1.0,0.8,1.0,0.4,0.4,-0.4,-0.4],[0.2,-0.2,0.2,0.8,-0.8,-0.8,-0.4,0.8,1.0,1.0,1.0,-0.4,-0.4,0.2,0.2,1.0,0.8,1.0,0.4,0.4,-0.4,-0.4],[0.2,-0.2,0.2,0.8,-0.8,-0.8,-0.4,0.8,1.0,1.0,1.0,-0.4,-0.4,0.2,0.2,1.0,0.8,1.0,0.4,0.4,-0.4,-0.4],[0.8,0.8,0.8,0.0,0.2,0.2,-0.6,-0.8,-0.4,-0.4,-0.4,1.0,1.0,0.8,0.8,-0.4,-0.2,-0.4,0.4,0.4,-0.4,-0.4],[0.8,0.8,0.8,0.0,0.2,0.2,-0.6,-0.8,-0.4,-0.4,-0.4,1.0,1.0,0.8,0.8,-0.4,-0.2,-0.4,0.4,0.4,-0.4,-0.4],[1.0,0.6,1.0,0.4,-0.4,-0.4,-0.8,-0.4,0.2,0.2,0.2,0.8,0.8,1.0,1.0,0.2,0.4,0.2,0.8,0.8,-0.8,-0.8],[1.0,0.6,1.0,0.4,-0.4,-0.4,-0.8,-0.4,0.2,0.2,0.2,0.8,0.8,1.0,1.0,0.2,0.4,0.2,0.8,0.8,-0.8,-0.8],[0.2,-0.2,0.2,0.8,-0.8,-0.8,-0.4,0.8,1.0,1.0,1.0,-0.4,-0.4,0.2,0.2,1.0,0.8,1.0,0.4,0.4,-0.4,-0.4],[0.4,-0.4,0.4,0.4,-1.0,-1.0,-0.2,0.4,0.8,0.8,0.8,-0.2,-0.2,0.4,0.4,0.8,1.0,0.8,0.8,0.8,-0.8,-0.8],[0.2,-0.2,0.2,0.8,-0.8,-0.8,-0.4,0.8,1.0,1.0,1.0,-0.4,-0.4,0.2,0.2,1.0,0.8,1.0,0.4,0.4,-0.4,-0.4],[0.8,0.0,0.8,0.2,-0.8,-0.8,-0.4,-0.2,0.4,0.4,0.4,0.4,0.4,0.8,0.8,0.4,0.8,0.4,1.0,1.0,-1.0,-1.0],[0.8,0.0,0.8,0.2,-0.8,-0.8,-0.4,-0.2,0.4,0.4,0.4,0.4,0.4,0.8,0.8,0.4,0.8,0.4,1.0,1.0,-1.0,-1.0],[-0.8,0.0,-0.8,-0.2,0.8,0.8,0.4,0.2,-0.4,-0.4,-0.4,-0.4,-0.4,-0.8,-0.8,-0.4,-0.8,-0.4,-1.0,-1.0,1.0,1.0],[-0.8,0.0,-0.8,-0.2,0.8,0.8,0.4,0.2,-0.4,-0.4,-0.4,-0.4,-0.4,-0.8,-0.8,-0.4,-0.8,-0.4,-1.0,-1.0,1.0,1.0]]\n",
              "var aValues =  [[1.0,0.6,1.0,0.4,-0.4,-0.4,-0.8,-0.4,0.2,0.2,0.2,0.8,0.8,1.0,1.0,0.2,0.4,0.2,0.8,0.8,-0.8,-0.8],[0.6,1.0,0.6,0.4,0.4,0.4,-0.8,-0.4,-0.2,-0.2,-0.2,0.8,0.8,0.6,0.6,-0.2,-0.4,-0.2,0.0,0.0,0.0,0.0],[1.0,0.6,1.0,0.4,-0.4,-0.4,-0.8,-0.4,0.2,0.2,0.2,0.8,0.8,1.0,1.0,0.2,0.4,0.2,0.8,0.8,-0.8,-0.8],[0.4,0.4,0.4,1.0,-0.4,-0.4,-0.8,0.6,0.8,0.8,0.8,0.0,0.0,0.4,0.4,0.8,0.4,0.8,0.2,0.2,-0.2,-0.2],[-0.4,0.4,-0.4,-0.4,1.0,1.0,0.2,-0.4,-0.8,-0.8,-0.8,0.2,0.2,-0.4,-0.4,-0.8,-1.0,-0.8,-0.8,-0.8,0.8,0.8],[-0.4,0.4,-0.4,-0.4,1.0,1.0,0.2,-0.4,-0.8,-0.8,-0.8,0.2,0.2,-0.4,-0.4,-0.8,-1.0,-0.8,-0.8,-0.8,0.8,0.8],[-0.8,-0.8,-0.8,-0.8,0.2,0.2,1.0,0.0,-0.4,-0.4,-0.4,-0.6,-0.6,-0.8,-0.8,-0.4,-0.2,-0.4,-0.4,-0.4,0.4,0.4],[-0.4,-0.4,-0.4,0.6,-0.4,-0.4,0.0,1.0,0.8,0.8,0.8,-0.8,-0.8,-0.4,-0.4,0.8,0.4,0.8,-0.2,-0.2,0.2,0.2],[0.2,-0.2,0.2,0.8,-0.8,-0.8,-0.4,0.8,1.0,1.0,1.0,-0.4,-0.4,0.2,0.2,1.0,0.8,1.0,0.4,0.4,-0.4,-0.4],[0.2,-0.2,0.2,0.8,-0.8,-0.8,-0.4,0.8,1.0,1.0,1.0,-0.4,-0.4,0.2,0.2,1.0,0.8,1.0,0.4,0.4,-0.4,-0.4],[0.2,-0.2,0.2,0.8,-0.8,-0.8,-0.4,0.8,1.0,1.0,1.0,-0.4,-0.4,0.2,0.2,1.0,0.8,1.0,0.4,0.4,-0.4,-0.4],[0.8,0.8,0.8,0.0,0.2,0.2,-0.6,-0.8,-0.4,-0.4,-0.4,1.0,1.0,0.8,0.8,-0.4,-0.2,-0.4,0.4,0.4,-0.4,-0.4],[0.8,0.8,0.8,0.0,0.2,0.2,-0.6,-0.8,-0.4,-0.4,-0.4,1.0,1.0,0.8,0.8,-0.4,-0.2,-0.4,0.4,0.4,-0.4,-0.4],[1.0,0.6,1.0,0.4,-0.4,-0.4,-0.8,-0.4,0.2,0.2,0.2,0.8,0.8,1.0,1.0,0.2,0.4,0.2,0.8,0.8,-0.8,-0.8],[1.0,0.6,1.0,0.4,-0.4,-0.4,-0.8,-0.4,0.2,0.2,0.2,0.8,0.8,1.0,1.0,0.2,0.4,0.2,0.8,0.8,-0.8,-0.8],[0.2,-0.2,0.2,0.8,-0.8,-0.8,-0.4,0.8,1.0,1.0,1.0,-0.4,-0.4,0.2,0.2,1.0,0.8,1.0,0.4,0.4,-0.4,-0.4],[0.4,-0.4,0.4,0.4,-1.0,-1.0,-0.2,0.4,0.8,0.8,0.8,-0.2,-0.2,0.4,0.4,0.8,1.0,0.8,0.8,0.8,-0.8,-0.8],[0.2,-0.2,0.2,0.8,-0.8,-0.8,-0.4,0.8,1.0,1.0,1.0,-0.4,-0.4,0.2,0.2,1.0,0.8,1.0,0.4,0.4,-0.4,-0.4],[0.8,0.0,0.8,0.2,-0.8,-0.8,-0.4,-0.2,0.4,0.4,0.4,0.4,0.4,0.8,0.8,0.4,0.8,0.4,1.0,1.0,-1.0,-1.0],[0.8,0.0,0.8,0.2,-0.8,-0.8,-0.4,-0.2,0.4,0.4,0.4,0.4,0.4,0.8,0.8,0.4,0.8,0.4,1.0,1.0,-1.0,-1.0],[-0.8,0.0,-0.8,-0.2,0.8,0.8,0.4,0.2,-0.4,-0.4,-0.4,-0.4,-0.4,-0.8,-0.8,-0.4,-0.8,-0.4,-1.0,-1.0,1.0,1.0],[-0.8,0.0,-0.8,-0.2,0.8,0.8,0.4,0.2,-0.4,-0.4,-0.4,-0.4,-0.4,-0.8,-0.8,-0.4,-0.8,-0.4,-1.0,-1.0,1.0,1.0]]\n",
              "\n",
              "\n",
              "for ( var i = 0; i < yValues.length; i++ ) {\n",
              "  for ( var j = 0; j < xValues.length; j++ ) {\n",
              "    var currentValue = zValues[i][j];\n",
              "    if (currentValue != 0.0) {\n",
              "      var textColor = 'white';\n",
              "    }else{\n",
              "      var textColor = 'black';\n",
              "    }\n",
              "    var result = {\n",
              "      xref: 'x1',\n",
              "      yref: 'y1',\n",
              "      x: xValues[j],\n",
              "      y: yValues[i],\n",
              "      text: aValues[i][j],\n",
              "      font: {\n",
              "        family: 'Arial',\n",
              "        size: 5,\n",
              "        color: 'rgb(50, 171, 96)'\n",
              "      },\n",
              "      showarrow: false,\n",
              "      font: {\n",
              "        color: textColor,\n",
              "        size: '18'\n",
              "      }\n",
              "    };\n",
              "    layout.annotations.push(result);\n",
              "  }\n",
              "}\n",
              "\n",
              "var data = [{\n",
              "   x: xValues,\n",
              "   y: yValues,\n",
              "   z: zValues,\n",
              "   \n",
              "   colorscale: 'RdBu', \n",
              "   type: 'heatmap' \n",
              " }];\n",
              " Plotly.newPlot('nad_cor', data, layout);\n",
              "</script>\n",
              "    <h3>nad_cor heatmap has been displayed</h3>"
            ]
          },
          "output_type" : "display_data"
        }
      ]
    },
    {
      "cell_type" : "markdown",
      "execution_count" : 69,
      "metadata" : {
        "language" : "text"
      },
      "language" : "text",
      "source" : [
        "### Wounds healing correlations\n",
        "\n"
      ],
      "outputs" : [
      ]
    },
    {
      "cell_type" : "code",
      "execution_count" : 70,
      "metadata" : {
        "cell.metadata.exec_info" : {
          "startTs" : 1582594685225,
          "endTs" : 1582594686210
        },
        "language" : "scala"
      },
      "language" : "scala",
      "source" : [
        "val wounds_cor = makeProCor(wounds_goes)\n",
        "html(s\"\"\"<div id=\"wounds_cor\"></div>\"\"\")"
      ],
      "outputs" : [
        {
          "data" : {
            "text/html" : [
              "<div id=\"wounds_cor\"></div>"
            ]
          },
          "output_type" : "display_data"
        }
      ]
    },
    {
      "cell_type" : "code",
      "execution_count" : 71,
      "metadata" : {
        "cell.metadata.exec_info" : {
          "startTs" : 1582594688193,
          "endTs" : 1582594688577
        },
        "language" : "scala"
      },
      "language" : "scala",
      "source" : [
        "html(makeHeatCor(wounds_cor, \"wounds_cor\", \"Wound healing correlations for liver and kidney\" ))"
      ],
      "outputs" : [
        {
          "data" : {
            "text/html" : [
              "<script type=\"text/javascript\" charset=\"utf-8\">\n",
              "var layout = {\n",
              "  title: 'Wound healing correlations for liver and kidney',\n",
              "  annotations: [],\n",
              "  margin: {\n",
              "    l: 300,\n",
              "    r: 125,\n",
              "    t: 400,\n",
              "    b: 50\n",
              "  },\n",
              "  width: 1800,\n",
              "  height: 1400,\n",
              "  xaxis: {\n",
              "    side: 'top',\n",
              "    tickfont: {\n",
              "      size: 20\n",
              "    },\n",
              "    tickangle: '-30'\n",
              "  },\n",
              "  yaxis: {\n",
              "    side: 'left',\n",
              "    autorange: 'reversed',\n",
              "    tickfont: {\n",
              "      size: 20\n",
              "    }\n",
              "  },\n",
              "};\n",
              "\n",
              "var xValues = [\"Bowhead whale liver\",\"Gray whale liver\",\"Minke whale liver\",\"Human liver\",\"Bat 1 liver\",\"Bat 2 liver\",\"Naked mole rat liver\",\"Cow 1 liver\",\"Cow 2 liver\",\"Mouse 1 liver\",\"Mouse 2 liver\",\"Bowhead whale kidney\",\"Gray whale kidney\",\"Minke whale kidney\",\"Human kidney\",\"Bat 1 kidney\",\"Bat 2 kidney\",\"Naked mole rat kidney\",\"Cow 1 kidney\",\"Cow 2 kidney\",\"Mouse 1 kidney\",\"Mouse 2 kidney\"]\n",
              "var yValues =  [\"Bowhead whale liver\",\"Gray whale liver\",\"Minke whale liver\",\"Human liver\",\"Bat 1 liver\",\"Bat 2 liver\",\"Naked mole rat liver\",\"Cow 1 liver\",\"Cow 2 liver\",\"Mouse 1 liver\",\"Mouse 2 liver\",\"Bowhead whale kidney\",\"Gray whale kidney\",\"Minke whale kidney\",\"Human kidney\",\"Bat 1 kidney\",\"Bat 2 kidney\",\"Naked mole rat kidney\",\"Cow 1 kidney\",\"Cow 2 kidney\",\"Mouse 1 kidney\",\"Mouse 2 kidney\"]\n",
              "var zValues =  [[1.0,0.68,0.23,0.78,0.12,0.08,0.68,0.57,0.53,0.55,0.6,0.88,0.77,0.65,0.62,0.3,0.22,0.5,0.57,0.53,0.5,0.55],[0.68,1.0,0.62,0.72,0.27,0.33,0.75,0.63,0.88,0.83,0.7,0.62,0.92,0.62,0.8,0.02,0.05,0.67,0.72,0.55,0.72,0.75],[0.23,0.62,1.0,0.27,0.18,0.23,0.72,0.62,0.7,0.57,0.27,0.43,0.52,0.75,0.68,0.22,0.33,0.63,0.7,0.63,0.53,0.47],[0.78,0.72,0.27,1.0,0.23,0.3,0.73,0.23,0.47,0.62,0.67,0.77,0.82,0.5,0.53,0.38,0.33,0.58,0.38,0.37,0.43,0.55],[0.12,0.27,0.18,0.23,1.0,0.98,0.25,0.27,0.48,0.47,0.32,0.23,0.28,0.3,0.37,0.62,0.63,-0.03,0.17,0.0,0.22,0.18],[0.08,0.33,0.23,0.3,0.98,1.0,0.3,0.23,0.52,0.52,0.35,0.22,0.33,0.28,0.38,0.58,0.62,0.05,0.18,0.02,0.25,0.23],[0.68,0.75,0.72,0.73,0.25,0.3,1.0,0.72,0.77,0.77,0.58,0.88,0.78,0.88,0.83,0.52,0.55,0.9,0.85,0.83,0.7,0.72],[0.57,0.63,0.62,0.23,0.27,0.23,0.72,1.0,0.85,0.65,0.38,0.65,0.53,0.78,0.8,0.27,0.32,0.63,0.95,0.83,0.73,0.65],[0.53,0.88,0.7,0.47,0.48,0.52,0.77,0.85,1.0,0.88,0.63,0.6,0.78,0.73,0.9,0.2,0.27,0.67,0.87,0.67,0.8,0.77],[0.55,0.83,0.57,0.62,0.47,0.52,0.77,0.65,0.88,1.0,0.9,0.65,0.82,0.65,0.95,0.28,0.32,0.63,0.73,0.47,0.9,0.92],[0.6,0.7,0.27,0.67,0.32,0.35,0.58,0.38,0.63,0.9,1.0,0.62,0.78,0.47,0.82,0.18,0.15,0.45,0.47,0.2,0.78,0.85],[0.88,0.62,0.43,0.77,0.23,0.22,0.88,0.65,0.6,0.65,0.62,1.0,0.77,0.87,0.75,0.58,0.53,0.72,0.7,0.72,0.57,0.6],[0.77,0.92,0.52,0.82,0.28,0.33,0.78,0.53,0.78,0.82,0.78,0.77,1.0,0.72,0.8,0.15,0.13,0.7,0.62,0.53,0.6,0.67],[0.65,0.62,0.75,0.5,0.3,0.28,0.88,0.78,0.73,0.65,0.47,0.87,0.72,1.0,0.82,0.52,0.53,0.75,0.8,0.82,0.55,0.52],[0.62,0.8,0.68,0.53,0.37,0.38,0.83,0.8,0.9,0.95,0.82,0.75,0.8,0.82,1.0,0.32,0.35,0.7,0.85,0.63,0.9,0.88],[0.3,0.02,0.22,0.38,0.62,0.58,0.52,0.27,0.2,0.28,0.18,0.58,0.15,0.52,0.32,1.0,0.98,0.23,0.27,0.3,0.18,0.17],[0.22,0.05,0.33,0.33,0.63,0.62,0.55,0.32,0.27,0.32,0.15,0.53,0.13,0.53,0.35,0.98,1.0,0.28,0.33,0.35,0.23,0.2],[0.5,0.67,0.63,0.58,-0.03,0.05,0.9,0.63,0.67,0.63,0.45,0.72,0.7,0.75,0.7,0.23,0.28,1.0,0.82,0.88,0.6,0.63],[0.57,0.72,0.7,0.38,0.17,0.18,0.85,0.95,0.87,0.73,0.47,0.7,0.62,0.8,0.85,0.27,0.33,0.82,1.0,0.9,0.82,0.77],[0.53,0.55,0.63,0.37,0.0,0.02,0.83,0.83,0.67,0.47,0.2,0.72,0.53,0.82,0.63,0.3,0.35,0.88,0.9,1.0,0.52,0.48],[0.5,0.72,0.53,0.43,0.22,0.25,0.7,0.73,0.8,0.9,0.78,0.57,0.6,0.55,0.9,0.18,0.23,0.6,0.82,0.52,1.0,0.98],[0.55,0.75,0.47,0.55,0.18,0.23,0.72,0.65,0.77,0.92,0.85,0.6,0.67,0.52,0.88,0.17,0.2,0.63,0.77,0.48,0.98,1.0]]\n",
              "var aValues =  [[1.0,0.68,0.23,0.78,0.12,0.08,0.68,0.57,0.53,0.55,0.6,0.88,0.77,0.65,0.62,0.3,0.22,0.5,0.57,0.53,0.5,0.55],[0.68,1.0,0.62,0.72,0.27,0.33,0.75,0.63,0.88,0.83,0.7,0.62,0.92,0.62,0.8,0.02,0.05,0.67,0.72,0.55,0.72,0.75],[0.23,0.62,1.0,0.27,0.18,0.23,0.72,0.62,0.7,0.57,0.27,0.43,0.52,0.75,0.68,0.22,0.33,0.63,0.7,0.63,0.53,0.47],[0.78,0.72,0.27,1.0,0.23,0.3,0.73,0.23,0.47,0.62,0.67,0.77,0.82,0.5,0.53,0.38,0.33,0.58,0.38,0.37,0.43,0.55],[0.12,0.27,0.18,0.23,1.0,0.98,0.25,0.27,0.48,0.47,0.32,0.23,0.28,0.3,0.37,0.62,0.63,-0.03,0.17,0.0,0.22,0.18],[0.08,0.33,0.23,0.3,0.98,1.0,0.3,0.23,0.52,0.52,0.35,0.22,0.33,0.28,0.38,0.58,0.62,0.05,0.18,0.02,0.25,0.23],[0.68,0.75,0.72,0.73,0.25,0.3,1.0,0.72,0.77,0.77,0.58,0.88,0.78,0.88,0.83,0.52,0.55,0.9,0.85,0.83,0.7,0.72],[0.57,0.63,0.62,0.23,0.27,0.23,0.72,1.0,0.85,0.65,0.38,0.65,0.53,0.78,0.8,0.27,0.32,0.63,0.95,0.83,0.73,0.65],[0.53,0.88,0.7,0.47,0.48,0.52,0.77,0.85,1.0,0.88,0.63,0.6,0.78,0.73,0.9,0.2,0.27,0.67,0.87,0.67,0.8,0.77],[0.55,0.83,0.57,0.62,0.47,0.52,0.77,0.65,0.88,1.0,0.9,0.65,0.82,0.65,0.95,0.28,0.32,0.63,0.73,0.47,0.9,0.92],[0.6,0.7,0.27,0.67,0.32,0.35,0.58,0.38,0.63,0.9,1.0,0.62,0.78,0.47,0.82,0.18,0.15,0.45,0.47,0.2,0.78,0.85],[0.88,0.62,0.43,0.77,0.23,0.22,0.88,0.65,0.6,0.65,0.62,1.0,0.77,0.87,0.75,0.58,0.53,0.72,0.7,0.72,0.57,0.6],[0.77,0.92,0.52,0.82,0.28,0.33,0.78,0.53,0.78,0.82,0.78,0.77,1.0,0.72,0.8,0.15,0.13,0.7,0.62,0.53,0.6,0.67],[0.65,0.62,0.75,0.5,0.3,0.28,0.88,0.78,0.73,0.65,0.47,0.87,0.72,1.0,0.82,0.52,0.53,0.75,0.8,0.82,0.55,0.52],[0.62,0.8,0.68,0.53,0.37,0.38,0.83,0.8,0.9,0.95,0.82,0.75,0.8,0.82,1.0,0.32,0.35,0.7,0.85,0.63,0.9,0.88],[0.3,0.02,0.22,0.38,0.62,0.58,0.52,0.27,0.2,0.28,0.18,0.58,0.15,0.52,0.32,1.0,0.98,0.23,0.27,0.3,0.18,0.17],[0.22,0.05,0.33,0.33,0.63,0.62,0.55,0.32,0.27,0.32,0.15,0.53,0.13,0.53,0.35,0.98,1.0,0.28,0.33,0.35,0.23,0.2],[0.5,0.67,0.63,0.58,-0.03,0.05,0.9,0.63,0.67,0.63,0.45,0.72,0.7,0.75,0.7,0.23,0.28,1.0,0.82,0.88,0.6,0.63],[0.57,0.72,0.7,0.38,0.17,0.18,0.85,0.95,0.87,0.73,0.47,0.7,0.62,0.8,0.85,0.27,0.33,0.82,1.0,0.9,0.82,0.77],[0.53,0.55,0.63,0.37,0.0,0.02,0.83,0.83,0.67,0.47,0.2,0.72,0.53,0.82,0.63,0.3,0.35,0.88,0.9,1.0,0.52,0.48],[0.5,0.72,0.53,0.43,0.22,0.25,0.7,0.73,0.8,0.9,0.78,0.57,0.6,0.55,0.9,0.18,0.23,0.6,0.82,0.52,1.0,0.98],[0.55,0.75,0.47,0.55,0.18,0.23,0.72,0.65,0.77,0.92,0.85,0.6,0.67,0.52,0.88,0.17,0.2,0.63,0.77,0.48,0.98,1.0]]\n",
              "\n",
              "\n",
              "for ( var i = 0; i < yValues.length; i++ ) {\n",
              "  for ( var j = 0; j < xValues.length; j++ ) {\n",
              "    var currentValue = zValues[i][j];\n",
              "    if (currentValue != 0.0) {\n",
              "      var textColor = 'white';\n",
              "    }else{\n",
              "      var textColor = 'black';\n",
              "    }\n",
              "    var result = {\n",
              "      xref: 'x1',\n",
              "      yref: 'y1',\n",
              "      x: xValues[j],\n",
              "      y: yValues[i],\n",
              "      text: aValues[i][j],\n",
              "      font: {\n",
              "        family: 'Arial',\n",
              "        size: 5,\n",
              "        color: 'rgb(50, 171, 96)'\n",
              "      },\n",
              "      showarrow: false,\n",
              "      font: {\n",
              "        color: textColor,\n",
              "        size: '18'\n",
              "      }\n",
              "    };\n",
              "    layout.annotations.push(result);\n",
              "  }\n",
              "}\n",
              "\n",
              "var data = [{\n",
              "   x: xValues,\n",
              "   y: yValues,\n",
              "   z: zValues,\n",
              "   \n",
              "   colorscale: 'RdBu', \n",
              "   type: 'heatmap' \n",
              " }];\n",
              " Plotly.newPlot('wounds_cor', data, layout);\n",
              "</script>\n",
              "    <h3>wounds_cor heatmap has been displayed</h3>"
            ]
          },
          "output_type" : "display_data"
        }
      ]
    },
    {
      "cell_type" : "markdown",
      "execution_count" : 72,
      "metadata" : {
        "language" : "text"
      },
      "language" : "text",
      "source" : [
        "### GO figures\n",
        "\n"
      ],
      "outputs" : [
      ]
    },
    {
      "cell_type" : "code",
      "execution_count" : 73,
      "metadata" : {
        "cell.metadata.exec_info" : {
          "startTs" : 1582594738396,
          "endTs" : 1582594738546
        },
        "language" : "scala"
      },
      "language" : "scala",
      "source" : [
        "val all_pro_ranks = processes.select(\"go\", (\"label\"::featuresOrderedRanked):_*).cache"
      ],
      "outputs" : [
      ]
    },
    {
      "cell_type" : "code",
      "execution_count" : 74,
      "metadata" : {
        "cell.metadata.exec_info" : {
          "startTs" : 1582594740944,
          "endTs" : 1582594741055
        },
        "language" : "scala"
      },
      "language" : "scala",
      "source" : [
        "def go_ranked(goes: Seq[String]) =  processes.where($\"go\".isin(goes:_*)).select(\"go\", (\"label\"::featuresOrderedRanked):_*).sort($\"bowhead_whale_liver_rank\".asc)"
      ],
      "outputs" : [
      ]
    },
    {
      "cell_type" : "code",
      "execution_count" : 77,
      "metadata" : {
        "cell.metadata.exec_info" : {
          "startTs" : 1582594948224,
          "endTs" : 1582594948382
        },
        "language" : "scala"
      },
      "language" : "scala",
      "source" : [
        "val longevity_pro_ranks = go_ranked(longevity_goes)\n",
        "html(s\"\"\"<div id=\"longevity_pro_ranks\"></div>\"\"\")"
      ],
      "outputs" : [
        {
          "data" : {
            "text/html" : [
              "<div id=\"longevity_pro_ranks\"></div>"
            ]
          },
          "output_type" : "display_data"
        }
      ]
    },
    {
      "cell_type" : "code",
      "execution_count" : 79,
      "metadata" : {
        "cell.metadata.exec_info" : {
          "startTs" : 1582594959328,
          "endTs" : 1582594960201
        },
        "language" : "scala"
      },
      "language" : "scala",
      "source" : [
        "html(for_makeHeatmap(longevity_pro_ranks, \"label\", featuresOrderedRanked, \"longevity_pro_ranks\", \"Specific processes (by ranks)\",  600, 500, 2000, 3000, inverse = true, logData = true, showScale = false, names = prettyFeaturesRanked, tickAngle = \"-30\"))"
      ],
      "outputs" : [
        {
          "data" : {
            "text/html" : [
              "<script type=\"text/javascript\" charset=\"utf-8\">\n",
              "var layout = {\n",
              "  title: 'Specific processes (by ranks)',\n",
              "  annotations: [],\n",
              "  margin: {\n",
              "    l: 600,\n",
              "    r: 125,\n",
              "    t: 500,\n",
              "    b: 50\n",
              "  },\n",
              "  width: 2000,\n",
              "  height: 3000,\n",
              "  xaxis: {\n",
              "    side: 'top',\n",
              "    tickfont: {\n",
              "      size: 20\n",
              "    },\n",
              "    tickangle: '-30'\n",
              "  },\n",
              "  yaxis: {\n",
              "    side: 'left',\n",
              "    autorange: 'reversed',\n",
              "    tickfont: {\n",
              "      size: 20\n",
              "    }\n",
              "  },\n",
              "};\n",
              "\n",
              "var xValues = [\"Bowhead whale liver\",\"Gray whale liver\",\"Minke whale liver\",\"Human liver\",\"Bat 1 liver\",\"Bat 2 liver\",\"Naked mole rat liver\",\"Cow 1 liver\",\"Cow 2 liver\",\"Mouse 1 liver\",\"Mouse 2 liver\",\"Bowhead whale kidney\",\"Gray whale kidney\",\"Minke whale kidney\",\"Human kidney\",\"Bat 1 kidney\",\"Bat 2 kidney\",\"Naked mole rat kidney\",\"Cow 1 kidney\",\"Cow 2 kidney\",\"Mouse 1 kidney\",\"Mouse 2 kidney\"]\n",
              "var yValues =  [\"signal transduction\",\"signal transduction\",\"rRNA processing\",\"rRNA processing\",\"translational initiation\",\"nuclear-transcribed mRNA catabolic process, nonsense-mediated decay\",\"nuclear-transcribed mRNA catabolic process, nonsense-mediated decay\",\"SRP-dependent cotranslational protein targeting to membrane\",\"SRP-dependent cotranslational protein targeting to membrane\",\"viral transcription\",\"virion assembly\",\"virion assembly\",\"urea cycle\",\"ATP synthesis coupled proton transport\",\"immune response\",\"response to stress\",\"ATP metabolic process\",\"ATP metabolic process\",\"cilium assembly\",\"cilium assembly\",\"positive regulation of base-excision repair\",\"positive regulation of base-excision repair\",\"positive regulation of intrinsic apoptotic signaling pathway in response to DNA damage\",\"positive regulation of activated T cell proliferation\",\"positive regulation of endodeoxyribonuclease activity\",\"negative regulation of DNA repair\",\"positive regulation of DNA N-glycosylase activity\",\"response to TNF agonist\",\"positive regulation of cysteine-type endopeptidase activity involved in execution phase of apoptosis\",\"NAD biosynthetic process\",\"cardiac muscle cell differentiation\",\"positive regulation of endothelial cell proliferation\",\"amyloid fibril formation\",\"epoxide metabolic process\",\"regulation of autophagosome assembly\",\"actin filament severing\",\"hepatocyte apoptotic process\",\"regulation of canonical Wnt signaling pathway\",\"intraciliary transport\",\"actin nucleation\",\"actin filament reorganization\",\"positive regulation of cytokine-mediated signaling pathway\",\"positive regulation of cysteine-type endopeptidase activity involved in apoptotic signaling pathway\",\"antigen processing and presentation of peptide antigen via MHC class I\",\"sequestering of actin monomers\",\"positive regulation of keratinocyte apoptotic process\",\"cochlea development\",\"removal of superoxide radicals\",\"protein localization to Golgi apparatus\",\"negative regulation of intrinsic apoptotic signaling pathway in response to DNA damage by p53 class mediator\",\"neural precursor cell proliferation\",\"intraciliary transport involved in cilium assembly\",\"protein localization to cilium\",\"regulation of cell death\",\"establishment of planar polarity\",\"establishment of planar polarity\",\"inner ear receptor cell stereocilium organization\",\"photoreceptor cell outer segment organization\",\"centrosome localization\",\"regulation of cilium assembly\",\"opsin transport\",\"negative thymic T cell selection\",\"antibacterial humoral response\",\"S-adenosylmethionine cycle\",\"innate immune response in mucosa\",\"methylation\",\"chronic inflammatory response to antigenic stimulus\",\"circadian sleep/wake cycle\",\"sulfur amino acid metabolic process\",\"homocysteine biosynthetic process\"]\n",
              "var zValues =  [[0.3,1.92,0.85,1.97,1.98,2.02,1.84,1.18,1.08,2.19,1.92,1.4,1.83,1.41,1.71,1.23,1.23,1.08,1.71,1.66,1.99,1.97],[0.3,1.92,0.85,1.97,2.85,2.9,1.84,1.18,1.08,2.19,1.92,1.4,1.83,1.41,1.71,2.72,2.76,1.08,1.71,1.66,1.99,1.97],[0.78,0.48,0.3,1.56,1.97,1.89,1.34,2.03,2.0,2.35,2.38,0.3,1.36,0.3,1.26,1.11,1.0,1.0,1.4,1.41,1.63,1.76],[0.78,0.48,0.3,1.56,3.5,3.51,1.34,2.03,2.0,2.35,2.38,0.3,1.36,0.3,1.26,3.57,3.57,1.0,1.4,1.41,1.63,1.76],[1.36,0.6,0.48,1.53,0.9,0.9,1.41,2.72,2.66,2.88,2.87,0.48,1.38,0.48,1.23,0.3,0.3,1.2,2.46,2.43,2.69,2.64],[1.4,0.78,0.6,1.59,0.95,0.95,1.43,2.9,2.86,3.12,3.12,0.7,1.41,0.6,1.28,0.48,0.48,1.3,2.71,2.73,3.02,3.0],[1.4,0.78,0.6,1.59,3.66,3.69,1.43,2.9,2.86,3.12,3.12,0.7,1.41,0.6,1.28,3.7,3.72,1.3,2.71,2.73,3.02,3.0],[1.41,0.7,0.7,1.58,1.0,1.0,1.45,3.02,2.87,3.11,3.07,0.78,1.4,0.7,1.3,0.6,0.6,1.32,3.05,3.09,3.13,3.11],[1.41,0.7,0.7,1.58,3.54,3.5,1.45,3.02,2.87,3.11,3.07,0.78,1.4,0.7,1.3,3.57,3.57,1.32,3.05,3.09,3.13,3.11],[1.43,0.85,0.78,1.61,1.04,1.04,1.48,3.92,3.91,3.96,3.96,0.85,1.43,0.78,1.32,0.7,0.7,1.41,3.93,3.92,3.97,3.98],[1.64,0.9,1.0,2.36,2.69,2.61,3.07,2.15,2.12,3.2,3.34,2.27,1.94,1.88,2.32,2.83,2.81,2.95,2.89,2.77,3.4,3.38],[1.64,0.9,1.0,2.36,3.71,3.64,3.07,2.15,2.12,3.2,3.34,2.27,1.94,1.88,2.32,3.77,3.77,2.95,2.89,2.77,3.4,3.38],[1.65,2.16,1.98,2.51,1.08,1.11,3.35,2.42,2.47,2.54,2.14,3.75,2.32,2.64,2.7,2.76,2.64,1.63,2.8,2.68,2.4,2.73],[2.23,0.3,2.26,3.09,2.09,1.99,1.68,1.64,1.4,1.0,1.66,1.43,0.3,1.53,2.87,1.54,1.2,2.15,0.7,0.0,0.85,0.48],[2.31,0.95,1.89,2.0,1.68,1.68,2.05,1.94,2.02,2.24,2.3,1.59,1.51,1.49,1.84,2.07,2.0,1.48,1.96,2.04,1.7,2.03],[2.34,2.54,2.56,2.88,3.79,3.79,2.24,3.03,3.02,3.16,3.14,2.0,2.19,2.2,2.78,3.81,3.81,2.42,3.05,3.03,3.08,2.98],[2.37,2.46,2.41,2.88,2.56,2.5,2.21,3.06,3.01,2.94,3.12,2.02,2.0,1.82,2.14,2.28,2.23,2.39,2.18,2.06,2.23,2.59],[2.37,2.46,2.41,2.88,3.58,3.57,2.21,3.06,3.01,2.94,3.12,2.02,2.0,1.82,2.14,3.42,3.4,2.39,2.18,2.06,2.23,2.59],[2.56,1.79,2.67,3.04,2.78,2.81,2.45,2.7,2.7,3.03,2.98,2.26,0.6,2.47,2.51,2.55,2.57,2.48,2.16,2.18,2.63,2.58],[2.56,1.79,2.67,3.04,3.75,3.74,2.45,2.7,2.7,3.03,2.98,2.26,0.6,2.47,2.51,3.74,3.7,2.48,2.16,2.18,2.63,2.58],[2.66,2.78,3.26,3.8,2.86,2.92,2.52,2.82,2.83,3.41,3.49,2.83,2.84,3.42,3.81,2.79,2.68,2.69,2.64,2.82,3.32,3.48],[2.66,2.78,3.26,3.8,3.59,3.59,2.52,2.82,2.83,3.41,3.49,2.83,2.84,3.42,3.81,3.6,3.62,2.69,2.64,2.82,3.32,3.48],[2.66,2.78,3.26,3.71,2.81,2.86,2.51,2.81,2.82,3.35,3.42,2.83,2.84,3.42,3.69,2.7,2.61,2.69,2.63,2.8,3.2,3.33],[2.66,2.78,3.24,3.1,2.86,2.92,2.51,2.54,2.61,2.78,3.02,2.83,2.84,3.38,3.35,2.79,2.67,2.67,2.26,2.39,3.15,3.25],[2.66,2.78,3.26,3.85,2.86,2.92,2.44,2.8,2.81,3.36,3.44,2.83,2.84,3.42,3.81,2.79,2.68,2.67,2.6,2.77,3.27,3.42],[2.66,2.78,3.26,3.95,2.86,2.92,2.52,2.82,2.83,3.41,3.49,2.83,2.84,3.42,3.97,2.79,2.68,2.69,2.65,2.83,3.32,3.48],[2.66,2.78,3.26,3.95,2.86,2.92,2.52,2.82,2.83,3.41,3.49,2.83,2.84,3.42,3.97,2.79,2.68,2.69,2.65,2.83,3.32,3.48],[2.66,2.78,3.26,3.95,2.86,2.92,2.52,2.82,2.83,3.41,3.49,2.83,2.84,3.42,3.97,2.79,2.68,2.69,2.65,2.83,3.32,3.48],[2.66,2.78,3.26,3.95,2.86,2.92,2.52,2.82,2.83,3.41,3.49,2.83,2.84,3.42,3.97,2.79,2.68,2.69,2.65,2.83,3.32,3.48],[2.98,2.9,3.35,3.13,3.25,3.21,3.19,2.76,2.81,2.95,2.99,3.28,3.18,3.37,3.26,3.38,3.31,2.95,3.05,3.01,3.08,3.07],[2.98,1.84,2.99,2.97,2.91,2.84,3.18,3.08,3.0,2.9,2.92,2.84,0.9,3.0,2.87,3.07,3.17,3.6,2.94,2.74,2.73,2.68],[2.99,2.75,3.18,3.06,2.75,2.63,2.92,2.67,2.8,2.7,2.61,2.64,2.94,3.1,2.87,3.09,3.16,2.97,2.73,2.76,2.67,2.78],[3.02,2.68,2.94,3.49,3.09,3.14,2.52,3.25,3.28,3.56,3.62,2.79,2.67,2.7,3.61,2.97,2.98,2.79,2.66,2.79,3.29,3.41],[3.12,2.66,3.06,3.6,3.79,3.79,3.03,2.79,2.91,2.98,3.06,3.45,3.1,3.12,3.54,3.81,3.81,2.19,3.24,3.41,3.31,3.25],[3.18,1.83,3.1,3.3,3.27,3.31,3.21,3.17,3.17,3.33,3.45,3.22,1.15,3.23,3.19,3.26,3.3,3.2,3.13,3.14,3.19,3.38],[3.19,2.7,2.96,3.69,3.06,3.12,2.98,3.36,3.32,3.37,3.41,3.0,2.64,2.93,3.25,2.95,2.93,3.01,2.65,2.51,3.19,3.19],[3.21,2.58,2.81,3.29,3.13,3.18,3.5,2.97,3.12,3.25,3.11,3.01,2.76,2.96,3.24,3.46,3.44,3.01,3.1,3.2,3.2,3.29],[3.28,1.85,3.24,3.45,3.24,3.21,3.56,3.16,3.21,3.43,3.45,3.32,1.11,3.32,3.26,3.24,3.23,3.56,3.24,3.29,3.3,3.24],[3.32,1.83,3.31,3.55,3.54,3.57,3.27,3.25,3.3,3.46,3.47,3.13,0.95,3.18,3.39,3.38,3.4,3.29,3.23,3.23,3.26,3.35],[3.34,2.73,3.13,3.63,3.18,3.25,2.74,3.49,3.57,3.66,3.73,3.36,2.96,3.39,3.36,3.49,3.47,3.41,3.09,3.2,3.37,3.45],[3.36,2.71,3.13,3.84,3.18,3.25,3.44,3.68,3.63,3.73,3.84,3.33,2.87,3.33,3.85,3.38,3.4,3.54,3.44,3.53,3.62,3.8],[3.38,2.75,2.99,3.48,3.49,3.54,3.62,2.99,3.15,3.36,3.54,3.32,3.01,3.4,3.34,3.49,3.49,3.61,3.03,3.06,3.14,3.36],[3.38,2.71,3.14,3.89,3.22,3.28,3.49,3.65,3.64,3.63,3.71,3.56,2.94,3.43,3.86,3.71,3.64,3.49,3.51,3.57,3.57,3.74],[3.38,2.08,2.08,2.56,2.8,2.73,3.03,2.9,3.14,2.69,2.91,2.3,1.92,2.25,2.24,2.92,2.88,2.55,3.03,3.33,3.35,3.58],[3.42,2.72,3.08,3.58,3.13,3.22,3.59,3.73,3.62,3.06,3.21,3.5,2.95,3.34,3.57,3.47,3.43,3.59,3.46,3.55,2.78,2.97],[3.43,2.73,3.16,3.9,3.23,3.29,3.62,3.77,3.69,3.76,3.87,3.57,2.98,3.5,3.84,3.77,3.71,3.61,3.51,3.62,3.6,3.81],[3.45,1.86,3.39,3.63,2.69,2.77,3.53,3.44,3.46,3.51,3.52,3.16,1.08,3.33,3.41,2.4,2.39,3.54,3.41,3.4,3.45,3.5],[3.47,2.74,3.48,2.84,3.42,3.44,2.97,2.77,2.31,2.51,2.45,2.85,2.8,2.91,2.94,3.29,3.26,2.52,2.65,2.72,2.44,2.39],[3.5,1.86,3.18,3.59,2.8,2.72,3.09,3.3,3.25,3.39,3.34,3.69,1.18,3.14,3.45,2.89,2.89,3.08,3.19,3.2,3.34,3.36],[3.5,2.75,2.99,3.26,3.32,3.36,3.5,2.92,3.11,3.14,3.24,3.53,3.03,3.33,3.15,3.32,3.38,3.6,2.89,2.98,2.86,2.92],[3.52,1.88,3.43,3.63,3.71,3.71,3.53,3.48,3.53,3.64,3.65,3.44,1.3,3.39,3.6,3.6,3.6,3.56,3.43,3.44,3.5,3.62],[3.53,1.89,3.4,3.27,3.5,3.5,3.46,3.77,3.75,3.8,3.78,3.31,1.23,3.35,2.98,3.39,3.41,3.55,3.63,3.58,3.63,3.58],[3.55,1.88,3.37,3.39,3.34,3.36,3.4,3.34,3.35,3.39,3.35,3.35,1.2,3.31,3.3,3.25,3.31,3.28,3.22,3.21,3.15,3.2],[3.56,2.93,3.64,3.6,3.59,3.5,3.52,3.47,3.45,3.46,3.49,3.11,3.2,3.6,3.2,3.26,3.23,3.55,3.27,3.26,3.33,3.35],[3.6,1.89,3.44,3.78,3.64,3.66,3.6,3.48,3.54,3.66,3.67,3.4,1.26,3.43,3.6,3.65,3.65,3.61,3.5,3.55,3.56,3.66],[3.6,1.89,3.44,3.78,3.76,3.79,3.6,3.48,3.54,3.66,3.67,3.4,1.26,3.43,3.6,3.79,3.8,3.61,3.5,3.55,3.56,3.66],[3.61,1.87,3.44,3.48,3.34,3.38,2.92,3.46,3.54,3.2,3.01,3.23,1.0,3.26,3.24,3.11,3.13,2.66,3.52,3.53,3.3,3.23],[3.64,1.9,3.46,3.73,3.78,3.78,3.56,3.48,3.53,3.66,3.64,3.59,1.28,3.5,3.72,3.73,3.72,3.58,3.49,3.53,3.61,3.71],[3.64,1.9,3.44,3.48,3.24,3.26,3.41,3.3,3.31,3.43,3.32,3.61,1.32,3.43,3.24,3.24,3.23,3.46,3.17,3.14,3.32,3.21],[3.66,1.85,3.32,3.47,3.54,3.52,2.82,3.25,3.26,3.35,3.32,3.31,1.04,3.24,3.29,3.55,3.5,3.36,3.16,3.19,3.28,3.27],[3.68,1.91,3.47,3.95,3.79,3.79,3.62,3.52,3.58,3.67,3.69,3.75,1.34,3.51,3.97,3.81,3.81,3.61,3.6,3.65,3.64,3.76],[3.69,2.75,2.99,3.58,3.63,3.62,3.6,3.0,3.2,3.38,3.52,3.72,3.01,3.32,3.62,3.59,3.58,3.61,3.16,3.19,3.39,3.64],[3.69,2.31,3.69,2.66,3.57,3.56,2.12,3.0,3.02,2.93,2.95,3.74,2.48,3.7,2.12,3.12,3.15,2.1,3.06,3.16,2.95,2.9],[3.73,2.5,3.41,3.3,3.73,3.74,3.36,2.64,2.79,2.89,3.3,3.75,2.84,3.46,3.3,3.78,3.79,3.34,2.92,2.93,3.25,3.45],[3.73,2.32,3.73,2.71,3.67,3.7,2.12,3.0,2.41,2.97,2.92,3.75,2.49,3.7,2.15,3.64,3.67,2.1,3.1,3.21,3.01,2.93],[3.73,2.5,3.57,2.77,2.02,2.05,3.43,3.71,3.65,2.84,3.11,3.75,2.84,3.66,2.94,2.51,2.48,3.46,3.71,3.72,2.74,2.96],[3.73,2.5,3.69,3.31,3.79,3.79,3.62,3.89,3.89,3.92,3.95,3.75,2.84,3.69,3.35,3.81,3.8,3.61,3.91,3.9,3.96,3.97],[3.73,2.5,3.73,3.31,3.79,3.79,3.62,3.92,3.91,3.96,3.96,3.75,2.84,3.7,3.35,3.81,3.81,3.61,3.93,3.92,3.97,3.98],[3.73,2.5,3.73,2.77,3.79,3.79,3.62,3.92,3.91,3.96,3.96,3.75,2.84,3.7,2.7,3.81,3.81,3.61,3.93,3.92,3.97,3.98],[3.73,2.5,3.73,3.31,3.79,3.79,3.62,3.92,3.91,3.96,3.96,3.75,2.84,3.7,3.35,3.81,3.81,3.61,3.93,3.92,3.97,3.98]]\n",
              "var aValues =  [[2.0,84.0,7.0,93.0,95.0,105.0,69.0,15.0,12.0,154.0,84.0,25.0,68.0,26.0,51.0,17.0,17.0,12.0,51.0,46.0,98.0,94.0],[2.0,84.0,7.0,93.0,707.0,794.0,69.0,15.0,12.0,154.0,84.0,25.0,68.0,26.0,51.0,521.0,580.0,12.0,51.0,46.0,98.0,94.0],[6.0,3.0,2.0,36.0,94.0,78.0,22.0,107.0,100.0,226.0,240.0,2.0,23.0,2.0,18.0,13.0,10.0,10.0,25.0,26.0,43.0,58.0],[6.0,3.0,2.0,36.0,3183.0,3232.0,22.0,107.0,100.0,226.0,240.0,2.0,23.0,2.0,18.0,3756.0,3757.0,10.0,25.0,26.0,43.0,58.0],[23.0,4.0,3.0,34.0,8.0,8.0,26.0,522.0,456.0,750.0,737.0,3.0,24.0,3.0,17.0,2.0,2.0,16.0,287.0,267.0,489.0,441.0],[25.0,6.0,4.0,39.0,9.0,9.0,27.0,799.0,721.0,1309.0,1310.0,5.0,26.0,4.0,19.0,3.0,3.0,20.0,511.0,540.0,1042.0,1002.0],[25.0,6.0,4.0,39.0,4614.0,4854.0,27.0,799.0,721.0,1309.0,1310.0,5.0,26.0,4.0,19.0,5034.0,5248.0,20.0,511.0,540.0,1042.0,1002.0],[26.0,5.0,5.0,38.0,10.0,10.0,28.0,1052.0,739.0,1299.0,1174.0,6.0,25.0,5.0,20.0,4.0,4.0,21.0,1128.0,1218.0,1352.0,1301.0],[26.0,5.0,5.0,38.0,3430.0,3133.0,28.0,1052.0,739.0,1299.0,1174.0,6.0,25.0,5.0,20.0,3689.0,3673.0,21.0,1128.0,1218.0,1352.0,1301.0],[27.0,7.0,6.0,41.0,11.0,11.0,30.0,8326.0,8088.0,9048.0,9119.0,7.0,27.0,6.0,21.0,5.0,5.0,26.0,8449.0,8306.0,9433.0,9571.0],[44.0,8.0,10.0,231.0,495.0,403.0,1162.0,140.0,131.0,1584.0,2182.0,186.0,87.0,76.0,208.0,673.0,645.0,897.0,779.0,593.0,2486.0,2402.0],[44.0,8.0,10.0,231.0,5167.0,4360.0,1162.0,140.0,131.0,1584.0,2182.0,186.0,87.0,76.0,208.0,5824.0,5923.0,897.0,779.0,593.0,2486.0,2402.0],[45.0,145.0,96.0,324.0,12.0,13.0,2246.0,265.0,297.0,344.0,138.0,5582.0,210.0,438.0,500.0,571.0,439.0,43.0,634.0,483.0,250.0,532.0],[170.0,2.0,181.0,1234.0,122.0,97.0,48.0,44.0,25.0,10.0,46.0,27.0,2.0,34.0,748.0,35.0,16.0,140.0,5.0,1.0,7.0,3.0],[205.0,9.0,78.0,100.0,48.0,48.0,111.0,88.0,104.0,173.0,201.0,39.0,32.0,31.0,69.0,118.0,100.0,30.0,92.0,110.0,50.0,108.0],[220.0,350.0,367.0,766.0,6202.0,6207.0,172.0,1068.0,1047.0,1445.0,1388.0,99.0,156.0,160.0,606.0,6423.0,6414.0,261.0,1133.0,1073.0,1208.0,948.0],[234.0,291.0,260.0,763.0,361.0,314.0,161.0,1154.0,1024.0,866.0,1331.0,104.0,101.0,66.0,138.0,189.0,169.0,248.0,152.0,116.0,171.0,391.0],[234.0,291.0,260.0,763.0,3813.0,3723.0,161.0,1154.0,1024.0,866.0,1331.0,104.0,101.0,66.0,138.0,2642.0,2517.0,248.0,152.0,116.0,171.0,391.0],[361.0,62.0,472.0,1089.0,609.0,652.0,279.0,506.0,504.0,1061.0,948.0,180.0,4.0,293.0,327.0,356.0,373.0,300.0,144.0,150.0,426.0,382.0],[361.0,62.0,472.0,1089.0,5588.0,5453.0,279.0,506.0,504.0,1061.0,948.0,180.0,4.0,293.0,327.0,5521.0,5001.0,300.0,144.0,150.0,426.0,382.0],[453.0,607.0,1820.0,6366.0,731.0,833.0,328.0,660.0,671.0,2546.0,3080.0,682.0,692.0,2653.0,6525.0,618.0,481.0,493.0,435.0,657.0,2069.0,3023.0],[453.0,607.0,1820.0,6366.0,3903.0,3857.0,328.0,660.0,671.0,2546.0,3080.0,682.0,692.0,2653.0,6525.0,3947.0,4127.0,493.0,435.0,657.0,2069.0,3023.0],[455.0,607.0,1820.0,5076.0,649.0,729.0,324.0,640.0,656.0,2253.0,2603.0,682.0,692.0,2653.0,4858.0,498.0,412.0,492.0,425.0,627.0,1598.0,2145.0],[457.0,607.0,1750.0,1255.0,729.0,832.0,326.0,344.0,408.0,608.0,1038.0,682.0,692.0,2376.0,2237.0,612.0,473.0,467.0,181.0,248.0,1422.0,1785.0],[457.0,607.0,1820.0,7148.0,725.0,830.0,274.0,627.0,647.0,2283.0,2772.0,682.0,692.0,2653.0,6439.0,610.0,477.0,469.0,399.0,584.0,1873.0,2637.0],[457.0,607.0,1820.0,8995.0,731.0,833.0,328.0,666.0,676.0,2561.0,3105.0,682.0,692.0,2653.0,9345.0,618.0,481.0,493.0,443.0,682.0,2079.0,3049.0],[457.0,607.0,1820.0,8995.0,731.0,833.0,328.0,666.0,676.0,2561.0,3105.0,682.0,692.0,2653.0,9345.0,618.0,481.0,493.0,443.0,682.0,2079.0,3049.0],[457.0,607.0,1820.0,8995.0,731.0,833.0,328.0,666.0,676.0,2561.0,3105.0,682.0,692.0,2653.0,9345.0,618.0,481.0,493.0,443.0,682.0,2079.0,3049.0],[457.0,607.0,1820.0,8995.0,731.0,833.0,328.0,666.0,676.0,2561.0,3105.0,682.0,692.0,2653.0,9345.0,618.0,481.0,493.0,443.0,682.0,2079.0,3049.0],[958.0,799.0,2244.0,1352.0,1772.0,1619.0,1532.0,575.0,651.0,896.0,984.0,1893.0,1508.0,2324.0,1824.0,2411.0,2045.0,888.0,1118.0,1032.0,1198.0,1177.0],[962.0,69.0,984.0,933.0,821.0,688.0,1504.0,1191.0,991.0,786.0,832.0,684.0,8.0,1011.0,741.0,1182.0,1474.0,3941.0,879.0,549.0,532.0,477.0],[972.0,556.0,1502.0,1146.0,564.0,422.0,830.0,467.0,626.0,498.0,409.0,438.0,868.0,1271.0,745.0,1235.0,1457.0,942.0,537.0,579.0,464.0,606.0],[1042.0,475.0,876.0,3094.0,1223.0,1381.0,334.0,1791.0,1895.0,3649.0,4211.0,615.0,467.0,502.0,4093.0,925.0,956.0,614.0,458.0,615.0,1945.0,2582.0],[1315.0,457.0,1157.0,3962.0,6202.0,6207.0,1062.0,611.0,807.0,947.0,1137.0,2834.0,1245.0,1311.0,3453.0,6423.0,6414.0,155.0,1720.0,2589.0,2056.0,1775.0],[1528.0,67.0,1251.0,1977.0,1860.0,2022.0,1640.0,1486.0,1470.0,2130.0,2820.0,1672.0,14.0,1711.0,1563.0,1836.0,1997.0,1589.0,1342.0,1386.0,1541.0,2377.0],[1540.0,503.0,905.0,4936.0,1151.0,1307.0,955.0,2313.0,2086.0,2371.0,2574.0,992.0,435.0,852.0,1771.0,895.0,855.0,1019.0,447.0,321.0,1553.0,1552.0],[1613.0,376.0,652.0,1964.0,1356.0,1521.0,3136.0,931.0,1305.0,1759.0,1291.0,1033.0,573.0,920.0,1738.0,2908.0,2725.0,1026.0,1269.0,1580.0,1603.0,1928.0],[1917.0,71.0,1747.0,2835.0,1729.0,1620.0,3649.0,1439.0,1622.0,2712.0,2810.0,2095.0,13.0,2072.0,1827.0,1757.0,1709.0,3610.0,1747.0,1943.0,2012.0,1747.0],[2110.0,68.0,2050.0,3546.0,3441.0,3713.0,1841.0,1772.0,2008.0,2867.0,2949.0,1347.0,9.0,1505.0,2466.0,2402.0,2493.0,1932.0,1689.0,1693.0,1829.0,2258.0],[2182.0,533.0,1361.0,4248.0,1528.0,1768.0,545.0,3070.0,3719.0,4557.0,5348.0,2290.0,909.0,2444.0,2288.0,3103.0,2934.0,2562.0,1217.0,1567.0,2359.0,2792.0],[2289.0,515.0,1345.0,6960.0,1518.0,1784.0,2731.0,4791.0,4255.0,5390.0,6916.0,2120.0,733.0,2160.0,7068.0,2384.0,2497.0,3468.0,2740.0,3351.0,4145.0,6319.0],[2376.0,563.0,987.0,3003.0,3109.0,3483.0,4156.0,972.0,1418.0,2312.0,3436.0,2069.0,1023.0,2507.0,2198.0,3060.0,3065.0,4099.0,1066.0,1138.0,1391.0,2312.0],[2380.0,514.0,1380.0,7675.0,1664.0,1903.0,3123.0,4448.0,4329.0,4279.0,5170.0,3640.0,870.0,2718.0,7242.0,5182.0,4342.0,3107.0,3242.0,3735.0,3747.0,5455.0],[2395.0,120.0,121.0,361.0,634.0,534.0,1076.0,802.0,1376.0,489.0,813.0,201.0,84.0,178.0,172.0,831.0,750.0,357.0,1070.0,2161.0,2225.0,3760.0],[2623.0,527.0,1191.0,3795.0,1360.0,1650.0,3852.0,5417.0,4153.0,1136.0,1607.0,3129.0,882.0,2204.0,3716.0,2980.0,2677.0,3851.0,2874.0,3543.0,608.0,944.0],[2676.0,535.0,1441.0,8005.0,1689.0,1962.0,4156.0,5844.0,4869.0,5806.0,7473.0,3694.0,952.0,3145.0,6989.0,5906.0,5114.0,4099.0,3240.0,4125.0,3994.0,6477.0],[2834.0,72.0,2460.0,4296.0,494.0,584.0,3363.0,2766.0,2885.0,3251.0,3288.0,1462.0,12.0,2127.0,2545.0,249.0,246.0,3460.0,2569.0,2540.0,2829.0,3176.0],[2956.0,544.0,3051.0,690.0,2612.0,2770.0,928.0,588.0,206.0,321.0,280.0,715.0,630.0,815.0,864.0,1940.0,1824.0,329.0,445.0,520.0,276.0,243.0],[3144.0,73.0,1498.0,3891.0,631.0,522.0,1228.0,1981.0,1785.0,2437.0,2163.0,4937.0,15.0,1394.0,2827.0,769.0,778.0,1196.0,1548.0,1603.0,2206.0,2278.0],[3176.0,562.0,968.0,1799.0,2069.0,2286.0,3133.0,836.0,1281.0,1385.0,1718.0,3377.0,1063.0,2139.0,1424.0,2083.0,2396.0,3958.0,776.0,963.0,729.0,830.0],[3338.0,76.0,2661.0,4266.0,5077.0,5178.0,3390.0,2986.0,3369.0,4413.0,4467.0,2772.0,20.0,2442.0,3959.0,4026.0,4025.0,3656.0,2682.0,2748.0,3195.0,4216.0],[3388.0,78.0,2487.0,1846.0,3153.0,3129.0,2886.0,5947.0,5595.0,6352.0,6092.0,2043.0,17.0,2230.0,950.0,2466.0,2592.0,3547.0,4242.0,3794.0,4231.0,3789.0],[3528.0,75.0,2357.0,2436.0,2191.0,2296.0,2500.0,2176.0,2226.0,2444.0,2233.0,2256.0,16.0,2045.0,1984.0,1775.0,2031.0,1885.0,1662.0,1613.0,1419.0,1588.0],[3643.0,858.0,4327.0,3998.0,3887.0,3155.0,3328.0,2965.0,2795.0,2881.0,3123.0,1278.0,1599.0,3995.0,1573.0,1801.0,1702.0,3543.0,1877.0,1836.0,2154.0,2244.0],[3982.0,77.0,2724.0,6072.0,4365.0,4607.0,3987.0,2998.0,3441.0,4532.0,4644.0,2503.0,18.0,2716.0,3979.0,4455.0,4426.0,4098.0,3169.0,3513.0,3607.0,4534.0],[3982.0,77.0,2724.0,6072.0,5807.0,6118.0,3987.0,2998.0,3441.0,4532.0,4644.0,2503.0,18.0,2716.0,3979.0,6217.0,6272.0,4098.0,3169.0,3513.0,3607.0,4534.0],[4090.0,74.0,2728.0,2991.0,2177.0,2414.0,833.0,2906.0,3459.0,1592.0,1023.0,1703.0,10.0,1829.0,1743.0,1279.0,1340.0,461.0,3279.0,3395.0,1976.0,1710.0],[4342.0,80.0,2892.0,5424.0,6046.0,6030.0,3595.0,2991.0,3426.0,4606.0,4338.0,3857.0,19.0,3163.0,5247.0,5405.0,5295.0,3789.0,3110.0,3372.0,4077.0,5112.0],[4407.0,79.0,2755.0,3052.0,1754.0,1799.0,2582.0,2014.0,2050.0,2719.0,2101.0,4092.0,21.0,2664.0,1750.0,1734.0,1694.0,2860.0,1472.0,1394.0,2099.0,1625.0],[4543.0,70.0,2088.0,2984.0,3499.0,3288.0,661.0,1789.0,1828.0,2226.0,2108.0,2039.0,11.0,1753.0,1939.0,3541.0,3127.0,2296.0,1431.0,1555.0,1919.0,1882.0],[4789.0,81.0,2963.0,8995.0,6202.0,6207.0,4156.0,3332.0,3789.0,4713.0,4904.0,5582.0,22.0,3269.0,9345.0,6423.0,6414.0,4099.0,3981.0,4418.0,4353.0,5691.0],[4846.0,560.0,981.0,3833.0,4282.0,4197.0,3973.0,1006.0,1592.0,2395.0,3340.0,5295.0,1024.0,2084.0,4141.0,3852.0,3819.0,4098.0,1459.0,1556.0,2427.0,4364.0],[4850.0,203.0,4913.0,457.0,3743.0,3639.0,131.0,992.0,1054.0,852.0,897.0,5466.0,303.0,5036.0,132.0,1308.0,1404.0,125.0,1158.0,1434.0,890.0,802.0],[5320.0,316.0,2585.0,2010.0,5427.0,5520.0,2301.0,441.0,614.0,779.0,1992.0,5582.0,690.0,2863.0,1992.0,6031.0,6142.0,2184.0,833.0,855.0,1792.0,2799.0],[5321.0,207.0,5415.0,513.0,4661.0,5059.0,132.0,1011.0,258.0,929.0,835.0,5582.0,307.0,5036.0,140.0,4361.0,4683.0,126.0,1254.0,1625.0,1035.0,852.0],[5321.0,316.0,3700.0,588.0,105.0,111.0,2678.0,5167.0,4490.0,686.0,1280.0,5582.0,690.0,4550.0,866.0,322.0,304.0,2890.0,5118.0,5208.0,548.0,902.0],[5321.0,316.0,4892.0,2041.0,6201.0,6206.0,4156.0,7718.0,7726.0,8338.0,8977.0,5582.0,690.0,4926.0,2215.0,6422.0,6376.0,4099.0,8177.0,7996.0,9203.0,9422.0],[5321.0,316.0,5416.0,2037.0,6202.0,6207.0,4156.0,8326.0,8088.0,9047.0,9118.0,5582.0,690.0,5037.0,2215.0,6423.0,6414.0,4099.0,8449.0,8306.0,9432.0,9570.0],[5321.0,316.0,5416.0,587.0,6202.0,6207.0,4156.0,8326.0,8088.0,9048.0,9119.0,5582.0,690.0,5037.0,506.0,6423.0,6414.0,4099.0,8449.0,8306.0,9433.0,9571.0],[5321.0,316.0,5416.0,2041.0,6202.0,6207.0,4156.0,8326.0,8088.0,9048.0,9119.0,5582.0,690.0,5037.0,2215.0,6423.0,6414.0,4099.0,8449.0,8306.0,9433.0,9571.0]]\n",
              "\n",
              "\n",
              "for ( var i = 0; i < yValues.length; i++ ) {\n",
              "  for ( var j = 0; j < xValues.length; j++ ) {\n",
              "    var currentValue = zValues[i][j];\n",
              "    if (currentValue != 0.0) {\n",
              "      var textColor = 'white';\n",
              "    }else{\n",
              "      var textColor = 'black';\n",
              "    }\n",
              "    var result = {\n",
              "      xref: 'x1',\n",
              "      yref: 'y1',\n",
              "      x: xValues[j],\n",
              "      y: yValues[i],\n",
              "      text: aValues[i][j],\n",
              "      font: {\n",
              "        family: 'Arial',\n",
              "        size: 5,\n",
              "        color: 'rgb(50, 171, 96)'\n",
              "      },\n",
              "      showarrow: false,\n",
              "      font: {\n",
              "        color: textColor,\n",
              "        size: '18'\n",
              "      }\n",
              "    };\n",
              "    layout.annotations.push(result);\n",
              "  }\n",
              "}\n",
              "\n",
              "var data = [{\n",
              "   x: xValues,\n",
              "   y: yValues,\n",
              "   z: zValues,\n",
              "   \n",
              "   colorscale: 'RdBu',  showscale: false ,\n",
              "   type: 'heatmap' , reversescale: true\n",
              " }];\n",
              " Plotly.newPlot('longevity_pro_ranks', data, layout);\n",
              "</script>\n",
              "    <h3>longevity_pro_ranks heatmap has been displayed</h3>"
            ]
          },
          "output_type" : "display_data"
        }
      ]
    },
    {
      "cell_type" : "code",
      "execution_count" : 80,
      "metadata" : {
        "language" : "scala"
      },
      "language" : "scala",
      "source" : [
      ],
      "outputs" : [
      ]
    }
  ]
}